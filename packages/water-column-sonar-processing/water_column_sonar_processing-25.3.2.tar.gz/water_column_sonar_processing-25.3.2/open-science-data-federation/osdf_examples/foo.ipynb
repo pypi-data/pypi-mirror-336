{
 "cells": [
  {
   "metadata": {},
   "cell_type": "raw",
   "source": "",
   "id": "bd6b0dd9ea15dfe2"
  },
  {
   "metadata": {
    "ExecuteTime": {
     "end_time": "2024-11-14T16:07:00.035002Z",
     "start_time": "2024-11-14T16:07:00.033231Z"
    }
   },
   "cell_type": "code",
   "source": "",
   "id": "1ac76554b86e9eb0",
   "outputs": [],
   "execution_count": null
  },
  {
   "metadata": {
    "ExecuteTime": {
     "end_time": "2024-11-14T16:07:00.100948Z",
     "start_time": "2024-11-14T16:07:00.098301Z"
    }
   },
   "cell_type": "code",
   "source": "",
   "id": "dbbb1a940f83f73c",
   "outputs": [],
   "execution_count": null
  },
  {
   "metadata": {},
   "cell_type": "code",
   "outputs": [],
   "execution_count": null,
   "source": "",
   "id": "7042e6cf142a6f09"
  }
 ],
 "metadata": {
  "kernelspec": {
   "display_name": "Python 3",
   "language": "python",
   "name": "python3"
  },
  "language_info": {
   "codemirror_mode": {
    "name": "ipython",
    "version": 2
   },
   "file_extension": ".py",
   "mimetype": "text/x-python",
   "name": "python",
   "nbconvert_exporter": "python",
   "pygments_lexer": "ipython2",
   "version": "2.7.6"
  }
 },
 "nbformat": 4,
 "nbformat_minor": 5
}
