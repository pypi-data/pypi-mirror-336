{
 "cells": [
  {
   "cell_type": "markdown",
   "id": "c7042cce",
   "metadata": {},
   "source": [
    "# Circuit Layer Operations Per Second (CLOPS)"
   ]
  },
  {
   "cell_type": "code",
   "execution_count": 1,
   "id": "initial_id",
   "metadata": {},
   "outputs": [],
   "source": [
    "%load_ext autoreload\n",
    "%autoreload 2"
   ]
  },
  {
   "cell_type": "markdown",
   "id": "65b98c60877cf03f",
   "metadata": {},
   "source": [
    "## Choose (or define) a backend"
   ]
  },
  {
   "cell_type": "code",
   "execution_count": 2,
   "id": "d3a3be5b1960d3b9",
   "metadata": {},
   "outputs": [],
   "source": [
    "#backend = \"fakeadonis\"\n",
    "backend = \"fakeapollo\"\n",
    "#backend = \"garnet\"\n",
    "#backend = \"deneb\""
   ]
  },
  {
   "cell_type": "markdown",
   "id": "c49c1c8b9953e94b",
   "metadata": {},
   "source": [
    "## Set IQM Token if using Resonance"
   ]
  },
  {
   "cell_type": "code",
   "execution_count": 3,
   "id": "727b628b003eb025",
   "metadata": {},
   "outputs": [],
   "source": [
    "# import os\n",
    "# os.environ[\"IQM_TOKEN\"] = \"xxxxxx\""
   ]
  },
  {
   "cell_type": "markdown",
   "id": "11f4816cf86a142a",
   "metadata": {},
   "source": [
    "## CLOPS Configuration"
   ]
  },
  {
   "cell_type": "code",
   "execution_count": 4,
   "id": "236a67324f5f554f",
   "metadata": {},
   "outputs": [],
   "source": [
    "from iqm.benchmarks.quantum_volume.clops import *"
   ]
  },
  {
   "cell_type": "code",
   "execution_count": 5,
   "id": "9df606975f35561e",
   "metadata": {},
   "outputs": [],
   "source": [
    "EXAMPLE_CLOPS = CLOPSConfiguration(\n",
    "    qubits=[10,15,16,19],\n",
    "    num_circuits=100, # By definition set to 100\n",
    "    num_updates=10, # By definition set to 10\n",
    "    num_shots=100, # By definition set to 100\n",
    "    calset_id=None,\n",
    "    clops_h_bool=True,\n",
    ")"
   ]
  },
  {
   "cell_type": "markdown",
   "id": "387dff4c99d48389",
   "metadata": {},
   "source": [
    "## Run the experiment"
   ]
  },
  {
   "cell_type": "code",
   "execution_count": 6,
   "id": "248c9b2867f5c7b2",
   "metadata": {
    "scrolled": true
   },
   "outputs": [
    {
     "name": "stderr",
     "output_type": "stream",
     "text": [
      "2024-12-18 14:24:06,992 - iqm.benchmarks.logging_config - INFO - NB: CLOPS should be estimated with same qubit layout and optional inputs used to establish QV!\n",
      "2024-12-18 14:24:06,992 - iqm.benchmarks.logging_config - INFO - Now generating 100 parametrized circuit templates on qubits [10, 15, 16, 19]\n",
      "2024-12-18 14:24:07,198 - iqm.benchmarks.logging_config - INFO - Will transpile all 100 circuits according to \"fixed\" physical layout\n",
      "2024-12-18 14:24:07,199 - iqm.benchmarks.logging_config - INFO - Transpiling for backend IQMFakeApolloBackend with optimization level 3, sabre routing method and SQG optimization all circuits\n",
      "2024-12-18 14:24:12,828 - iqm.benchmarks.logging_config - INFO - CLOPS time started\n",
      "2024-12-18 14:24:12,829 - iqm.benchmarks.logging_config - INFO - Update 1/10\n",
      "Assigning random parameters to all 100 circuits\n",
      "2024-12-18 14:24:14,383 - iqm.benchmarks.logging_config - INFO - Executing the corresponding circuit batch\n",
      "2024-12-18 14:24:14,383 - iqm.benchmarks.logging_config - INFO - Submitting batch with 100 circuits corresponding to qubits [10, 15, 16, 19]\n",
      "2024-12-18 14:24:14,401 - iqm.benchmarks.logging_config - INFO - Retrieving counts\n",
      "2024-12-18 14:24:14,458 - iqm.benchmarks.logging_config - INFO - Retrieving all counts\n",
      "2024-12-18 14:24:15,010 - iqm.benchmarks.logging_config - INFO - Update 2/10\n",
      "Assigning random parameters to all 100 circuits\n",
      "2024-12-18 14:24:16,428 - iqm.benchmarks.logging_config - INFO - Executing the corresponding circuit batch\n",
      "2024-12-18 14:24:16,428 - iqm.benchmarks.logging_config - INFO - Submitting batch with 100 circuits corresponding to qubits [10, 15, 16, 19]\n",
      "2024-12-18 14:24:16,429 - iqm.benchmarks.logging_config - INFO - Retrieving counts\n",
      "2024-12-18 14:24:16,497 - iqm.benchmarks.logging_config - INFO - Retrieving all counts\n",
      "2024-12-18 14:24:17,029 - iqm.benchmarks.logging_config - INFO - Update 3/10\n",
      "Assigning random parameters to all 100 circuits\n",
      "2024-12-18 14:24:18,482 - iqm.benchmarks.logging_config - INFO - Executing the corresponding circuit batch\n",
      "2024-12-18 14:24:18,483 - iqm.benchmarks.logging_config - INFO - Submitting batch with 100 circuits corresponding to qubits [10, 15, 16, 19]\n",
      "2024-12-18 14:24:18,483 - iqm.benchmarks.logging_config - INFO - Retrieving counts\n",
      "2024-12-18 14:24:18,502 - iqm.benchmarks.logging_config - INFO - Retrieving all counts\n",
      "2024-12-18 14:24:19,113 - iqm.benchmarks.logging_config - INFO - Update 4/10\n",
      "Assigning random parameters to all 100 circuits\n",
      "2024-12-18 14:24:20,843 - iqm.benchmarks.logging_config - INFO - Executing the corresponding circuit batch\n",
      "2024-12-18 14:24:20,843 - iqm.benchmarks.logging_config - INFO - Submitting batch with 100 circuits corresponding to qubits [10, 15, 16, 19]\n",
      "2024-12-18 14:24:20,844 - iqm.benchmarks.logging_config - INFO - Retrieving counts\n",
      "2024-12-18 14:24:20,906 - iqm.benchmarks.logging_config - INFO - Retrieving all counts\n",
      "2024-12-18 14:24:21,527 - iqm.benchmarks.logging_config - INFO - Update 5/10\n",
      "Assigning random parameters to all 100 circuits\n",
      "2024-12-18 14:24:22,987 - iqm.benchmarks.logging_config - INFO - Executing the corresponding circuit batch\n",
      "2024-12-18 14:24:22,988 - iqm.benchmarks.logging_config - INFO - Submitting batch with 100 circuits corresponding to qubits [10, 15, 16, 19]\n",
      "2024-12-18 14:24:22,988 - iqm.benchmarks.logging_config - INFO - Retrieving counts\n",
      "2024-12-18 14:24:23,050 - iqm.benchmarks.logging_config - INFO - Retrieving all counts\n",
      "2024-12-18 14:24:23,636 - iqm.benchmarks.logging_config - INFO - Update 6/10\n",
      "Assigning random parameters to all 100 circuits\n",
      "2024-12-18 14:24:25,098 - iqm.benchmarks.logging_config - INFO - Executing the corresponding circuit batch\n",
      "2024-12-18 14:24:25,098 - iqm.benchmarks.logging_config - INFO - Submitting batch with 100 circuits corresponding to qubits [10, 15, 16, 19]\n",
      "2024-12-18 14:24:25,099 - iqm.benchmarks.logging_config - INFO - Retrieving counts\n",
      "2024-12-18 14:24:25,166 - iqm.benchmarks.logging_config - INFO - Retrieving all counts\n",
      "2024-12-18 14:24:25,712 - iqm.benchmarks.logging_config - INFO - Update 7/10\n",
      "Assigning random parameters to all 100 circuits\n",
      "2024-12-18 14:24:27,328 - iqm.benchmarks.logging_config - INFO - Executing the corresponding circuit batch\n",
      "2024-12-18 14:24:27,328 - iqm.benchmarks.logging_config - INFO - Submitting batch with 100 circuits corresponding to qubits [10, 15, 16, 19]\n",
      "2024-12-18 14:24:27,329 - iqm.benchmarks.logging_config - INFO - Retrieving counts\n",
      "2024-12-18 14:24:27,404 - iqm.benchmarks.logging_config - INFO - Retrieving all counts\n",
      "2024-12-18 14:24:27,766 - iqm.benchmarks.logging_config - INFO - Update 8/10\n",
      "Assigning random parameters to all 100 circuits\n",
      "2024-12-18 14:24:29,386 - iqm.benchmarks.logging_config - INFO - Executing the corresponding circuit batch\n",
      "2024-12-18 14:24:29,387 - iqm.benchmarks.logging_config - INFO - Submitting batch with 100 circuits corresponding to qubits [10, 15, 16, 19]\n",
      "2024-12-18 14:24:29,387 - iqm.benchmarks.logging_config - INFO - Retrieving counts\n",
      "2024-12-18 14:24:29,406 - iqm.benchmarks.logging_config - INFO - Retrieving all counts\n",
      "2024-12-18 14:24:29,999 - iqm.benchmarks.logging_config - INFO - Update 9/10\n",
      "Assigning random parameters to all 100 circuits\n",
      "2024-12-18 14:24:31,418 - iqm.benchmarks.logging_config - INFO - Executing the corresponding circuit batch\n",
      "2024-12-18 14:24:31,418 - iqm.benchmarks.logging_config - INFO - Submitting batch with 100 circuits corresponding to qubits [10, 15, 16, 19]\n",
      "2024-12-18 14:24:31,418 - iqm.benchmarks.logging_config - INFO - Retrieving counts\n",
      "2024-12-18 14:24:31,487 - iqm.benchmarks.logging_config - INFO - Retrieving all counts\n",
      "2024-12-18 14:24:32,037 - iqm.benchmarks.logging_config - INFO - Update 10/10\n",
      "Assigning random parameters to all 100 circuits\n",
      "2024-12-18 14:24:33,488 - iqm.benchmarks.logging_config - INFO - Executing the corresponding circuit batch\n",
      "2024-12-18 14:24:33,488 - iqm.benchmarks.logging_config - INFO - Submitting batch with 100 circuits corresponding to qubits [10, 15, 16, 19]\n",
      "2024-12-18 14:24:33,488 - iqm.benchmarks.logging_config - INFO - Retrieving counts\n",
      "2024-12-18 14:24:33,556 - iqm.benchmarks.logging_config - INFO - Retrieving all counts\n"
     ]
    }
   ],
   "source": [
    "benchmark_clops = CLOPSBenchmark(backend, EXAMPLE_CLOPS)\n",
    "run_clops = benchmark_clops.run()"
   ]
  },
  {
   "cell_type": "markdown",
   "id": "5337ca4c261471f2",
   "metadata": {},
   "source": [
    "## Perform Analysis"
   ]
  },
  {
   "cell_type": "code",
   "execution_count": 7,
   "id": "a8f00319edb44e82",
   "metadata": {},
   "outputs": [
    {
     "name": "stderr",
     "output_type": "stream",
     "text": [
      "2024-12-18 14:24:34,240 - iqm.benchmarks.logging_config - INFO - Counting the number of parallel 2Q layer depths in each circuit\n",
      "2024-12-18 14:24:34,916 - iqm.benchmarks.logging_config - INFO - There is no elapsed-time data associated to jobs (e.g., execution on simulator)\n"
     ]
    }
   ],
   "source": [
    "result_clops = benchmark_clops.analyze()"
   ]
  },
  {
   "cell_type": "markdown",
   "id": "edc44f28",
   "metadata": {},
   "source": [
    "### List all the keys in the attributes of the dataset"
   ]
  },
  {
   "cell_type": "code",
   "execution_count": 8,
   "id": "99df6217",
   "metadata": {},
   "outputs": [
    {
     "name": "stdout",
     "output_type": "stream",
     "text": [
      "all_times_parameter_assign\n",
      "all_times_retrieve\n",
      "all_times_submit\n",
      "assign_parameters_total\n",
      "backend_configuration_name\n",
      "backend_name\n",
      "benchmark\n",
      "calset_id\n",
      "clops_h_bool\n",
      "clops_time\n",
      "counts_per_update\n",
      "depth\n",
      "execution_timestamp\n",
      "job_meta_per_update\n",
      "max_gates_per_batch\n",
      "num_circuits\n",
      "num_parameters\n",
      "num_qubits\n",
      "num_shots\n",
      "num_updates\n",
      "operation_counts\n",
      "optimize_sqg\n",
      "parallel_2q_layers\n",
      "parameters_per_update\n",
      "physical_layout\n",
      "qiskit_optim_level\n",
      "qubits\n",
      "routing_method\n",
      "session_timestamp\n",
      "shots\n",
      "time_circuit_generate\n",
      "time_count_layers\n",
      "time_sort_batches\n",
      "time_transpile\n",
      "u_per_layer\n",
      "user_retrieve_total\n",
      "user_submit_total\n"
     ]
    }
   ],
   "source": [
    "for k in run_clops.dataset.attrs.keys():\n",
    "    print(k)"
   ]
  },
  {
   "cell_type": "code",
   "execution_count": 9,
   "id": "acf10f20",
   "metadata": {},
   "outputs": [
    {
     "data": {
      "text/plain": [
       "{'measure': {'Mean': 3.9603960396039604, 'Std': 0.3960396039603959},\n",
       " 'id': {'Mean': 0.0, 'Std': 0.0},\n",
       " 'r': {'Mean': 285.970297029703, 'Std': 28.718661075530303},\n",
       " 'cz': {'Mean': 32.40594059405941, 'Std': 3.915387814641763},\n",
       " 'barrier': {'Mean': 0.9900990099009901, 'Std': 0.09900990099009897}}"
      ]
     },
     "execution_count": 9,
     "metadata": {},
     "output_type": "execute_result"
    }
   ],
   "source": [
    "run_clops.dataset.attrs[\"operation_counts\"]"
   ]
  },
  {
   "cell_type": "markdown",
   "id": "d273c3f0",
   "metadata": {},
   "source": [
    "### The observation object contains the benchmark results"
   ]
  },
  {
   "cell_type": "code",
   "execution_count": 10,
   "id": "352897190f3b3c5",
   "metadata": {},
   "outputs": [
    {
     "data": {
      "text/plain": [
       "{1: {'clops_v': {'value': 18796, 'uncertainty': nan},\n",
       "  'clops_h': {'value': 56388, 'uncertainty': nan}}}"
      ]
     },
     "execution_count": 10,
     "metadata": {},
     "output_type": "execute_result"
    }
   ],
   "source": [
    "result_clops.observations"
   ]
  },
  {
   "cell_type": "markdown",
   "id": "583e5e62",
   "metadata": {},
   "source": [
    "### Generate plots"
   ]
  },
  {
   "cell_type": "code",
   "execution_count": 11,
   "id": "1b9de8da9d22251d",
   "metadata": {},
   "outputs": [],
   "source": [
    "result_clops.plot_all()"
   ]
  },
  {
   "cell_type": "code",
   "execution_count": null,
   "id": "044e8d5e",
   "metadata": {},
   "outputs": [],
   "source": []
  }
 ],
 "metadata": {
  "kernelspec": {
   "display_name": "env-iqm-benchmarks",
   "language": "python",
   "name": "python3"
  },
  "language_info": {
   "codemirror_mode": {
    "name": "ipython",
    "version": 3
   },
   "file_extension": ".py",
   "mimetype": "text/x-python",
   "name": "python",
   "nbconvert_exporter": "python",
   "pygments_lexer": "ipython3",
   "version": "3.11.8"
  }
 },
 "nbformat": 4,
 "nbformat_minor": 5
}
