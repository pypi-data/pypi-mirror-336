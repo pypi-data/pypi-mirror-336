{
 "cells": [
  {
   "cell_type": "code",
   "execution_count": null,
   "metadata": {},
   "outputs": [],
   "source": [
    "import pandas as pd\n",
    "import polars as pl\n",
    "import numpy  as np\n",
    "import sys\n",
    "sys.path.insert(1, '../rtsvg')\n",
    "from rtsvg import *\n",
    "rt = RACETrack()"
   ]
  },
  {
   "cell_type": "code",
   "execution_count": null,
   "metadata": {},
   "outputs": [],
   "source": [
    "_xy_ = rt.xy(pl.DataFrame({'a':[1,2,3], 'b':[4,5,6]}), x_field='a', y_field='b', w=64, h=64)\n",
    "print(_xy_)\n",
    "_xy_"
   ]
  },
  {
   "cell_type": "code",
   "execution_count": null,
   "metadata": {},
   "outputs": [],
   "source": [
    "_histo_ = rt.histogram(pl.DataFrame({'a':[1,2,3], 'c':[1,5,8]}), bin_by='a', count_by='c', w=64, h=64)\n",
    "print(_histo_)\n",
    "_histo_"
   ]
  },
  {
   "cell_type": "code",
   "execution_count": null,
   "metadata": {},
   "outputs": [],
   "source": [
    "_linknode_ = rt.linkNode(pl.DataFrame({'a':[1,2,3], 'b':[2,3,1]}), [('a','b')], w=64, h=64)\n",
    "print(_linknode_)\n",
    "_linknode_"
   ]
  },
  {
   "cell_type": "code",
   "execution_count": null,
   "metadata": {},
   "outputs": [],
   "source": [
    "_df_ = pl.DataFrame({'ts':['2021-02-01','2021-02-02', '2021-02-03'], 'a':[1, 2, 3]})\n",
    "_df_ = rt.columnsAreTimestamps(_df_, 'ts')\n",
    "_temp_ = rt.temporalBarChart(_df_, color_by='a', w=128, h=64)\n",
    "print(_temp_)\n",
    "_temp_"
   ]
  },
  {
   "cell_type": "code",
   "execution_count": null,
   "metadata": {},
   "outputs": [],
   "source": [
    "_period_ = rt.periodicBarChart(_df_, count_by='a', w=128, h=64)\n",
    "print(_period_)\n",
    "_period_"
   ]
  },
  {
   "cell_type": "code",
   "execution_count": null,
   "metadata": {},
   "outputs": [],
   "source": []
  }
 ],
 "metadata": {
  "kernelspec": {
   "display_name": ".venv",
   "language": "python",
   "name": "python3"
  },
  "language_info": {
   "codemirror_mode": {
    "name": "ipython",
    "version": 3
   },
   "file_extension": ".py",
   "mimetype": "text/x-python",
   "name": "python",
   "nbconvert_exporter": "python",
   "pygments_lexer": "ipython3",
   "version": "3.12.3"
  }
 },
 "nbformat": 4,
 "nbformat_minor": 2
}
