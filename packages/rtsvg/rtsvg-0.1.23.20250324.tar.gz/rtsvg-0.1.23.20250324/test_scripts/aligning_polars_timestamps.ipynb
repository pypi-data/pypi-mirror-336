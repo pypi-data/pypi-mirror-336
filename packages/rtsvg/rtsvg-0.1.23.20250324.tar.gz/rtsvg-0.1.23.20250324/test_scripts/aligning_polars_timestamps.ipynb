{
 "cells": [
  {
   "cell_type": "code",
   "execution_count": null,
   "metadata": {},
   "outputs": [],
   "source": [
    "import pandas as pd\n",
    "import polars as pl\n",
    "import numpy as np\n",
    "import sys\n",
    "sys.path.insert(1, '../rtsvg')\n",
    "from rtsvg import *\n",
    "rt = RACETrack()"
   ]
  },
  {
   "cell_type": "code",
   "execution_count": null,
   "metadata": {},
   "outputs": [],
   "source": [
    "_lu_ = {'dt':['2024-01-15 12:23:34', '2023-12-19 00:00:59', '2024-02-05 23:59:59', '2024-02-21 02:03:21']}\n",
    "df    = pl.DataFrame(_lu_)\n",
    "df_pd = pd.DataFrame(_lu_)\n",
    "df    = rt.columnsAreTimestamps(df,    'dt')\n",
    "df_pd = rt.columnsAreTimestamps(df_pd, 'dt')\n",
    "df = df.sort('dt')\n",
    "t_min, t_max = df_pd['dt'].min(), df_pd['dt'].max()\n",
    "for i in range(len(rt.time_rezes)):\n",
    "    if rt.time_rezes[i] == 's' or rt.time_rezes[i] == '15s': continue\n",
    "    pd_time_rez = rt.time_rezes       [i]\n",
    "    pl_time_rez = rt.time_rezes_polars[i]\n",
    "    if   pd_time_rez == '100YS':\n",
    "        century = round(t_min.year/100)*100\n",
    "        t_min_fixed = pd.Timestamp(century, t_min.month, t_min.day, t_min.hour, t_min.minute, t_min.second, t_min.microsecond, t_min.tzinfo)\n",
    "        tmp_df = pd.DataFrame({'dt':[t_min_fixed,t_max]})\n",
    "    elif pd_time_rez == '10YS':\n",
    "        decade = round(t_min.year/10)*10\n",
    "        t_min_fixed = pd.Timestamp(decade, t_min.month, t_min.day, t_min.hour, t_min.minute, t_min.second, t_min.microsecond, t_min.tzinfo)\n",
    "        tmp_df = pd.DataFrame({'dt':[t_min_fixed,t_max]})\n",
    "    elif pd_time_rez == '1W-MON':\n",
    "        if t_min.weekday() == 0: t_min_fixed = t_min\n",
    "        else:                    t_min_fixed = t_min - pd.Timedelta(7, 'D')\n",
    "        tmp_df = pd.DataFrame({'dt':[t_min_fixed,t_max]})\n",
    "    else:\n",
    "        tmp_df = pd.DataFrame({'dt':[t_min,t_max]})\n",
    "    df_groupby  = tmp_df.groupby(pd.Grouper(key='dt', freq=pd_time_rez))\n",
    "    this_lu, first_was = {}, None\n",
    "    for k, k_df in df_groupby: \n",
    "        if len(this_lu) == 0: first_was = k\n",
    "        this_lu[k] = len(this_lu)\n",
    "    all_lus_found = True\n",
    "    for k, k_df in df.group_by_dynamic('dt', every=pl_time_rez):\n",
    "        if k[0] not in this_lu:\n",
    "            print(f'this was not found: {k[0]} [polars] .... first was: {first_was} [pandas]')\n",
    "            all_lus_found = False\n",
    "            break\n",
    "\n",
    "    print(f'{pd_time_rez:10} | {len(this_lu)=:10} | {all_lus_found}')"
   ]
  },
  {
   "cell_type": "code",
   "execution_count": null,
   "metadata": {},
   "outputs": [],
   "source": []
  }
 ],
 "metadata": {
  "kernelspec": {
   "display_name": ".venv",
   "language": "python",
   "name": "python3"
  },
  "language_info": {
   "codemirror_mode": {
    "name": "ipython",
    "version": 3
   },
   "file_extension": ".py",
   "mimetype": "text/x-python",
   "name": "python",
   "nbconvert_exporter": "python",
   "pygments_lexer": "ipython3",
   "version": "3.12.3"
  }
 },
 "nbformat": 4,
 "nbformat_minor": 2
}
