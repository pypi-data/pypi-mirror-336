{
 "cells": [
  {
   "cell_type": "code",
   "execution_count": null,
   "metadata": {},
   "outputs": [],
   "source": [
    "import pandas as pd\n",
    "import numpy  as np\n",
    "from math import sin, cos, pi, sqrt\n",
    "import random\n",
    "import time\n",
    "import sys\n",
    "sys.path.insert(1, '../rtsvg')\n",
    "from rtsvg import *\n",
    "rt = RACETrack()"
   ]
  },
  {
   "cell_type": "code",
   "execution_count": null,
   "metadata": {},
   "outputs": [],
   "source": [
    "_svg_ = '''\n",
    "<svg width=\"200\" height=\"200\" xmlns=\"http://www.w3.org/2000/svg\">\n",
    "  <rect x=\"0\" y=\"0\" width=\"200\" height=\"200\" fill=\"white\" />\n",
    "  <line x1=\"0\" y1=\"0\" x2=\"120\" y2=\"120\" stroke=\"red\" stroke-width=\"5\" />\n",
    "  <circle cx=\"60\" cy=\"60\" r=\"50\" fill=\"black\" fill-opacity=\"0.5\" stroke=\"black\" stroke-width=\"5\" stroke-opacity=\"0.9\" />\n",
    "  <rect x=\"60\" y=\"60\" width=\"50\" height=\"50\" fill=\"white\" fill-opacity=\"0.5\" stroke=\"blue\" stroke-width=\"5\" stroke-opacity=\"0.9\" />\n",
    "</svg>\n",
    "'''\n",
    "rt.displaySVG(_svg_)"
   ]
  },
  {
   "cell_type": "code",
   "execution_count": null,
   "metadata": {},
   "outputs": [],
   "source": [
    "rt.displaySVGAsImage(_svg_)"
   ]
  },
  {
   "cell_type": "code",
   "execution_count": null,
   "metadata": {},
   "outputs": [],
   "source": []
  }
 ],
 "metadata": {
  "kernelspec": {
   "display_name": ".venv",
   "language": "python",
   "name": "python3"
  },
  "language_info": {
   "codemirror_mode": {
    "name": "ipython",
    "version": 3
   },
   "file_extension": ".py",
   "mimetype": "text/x-python",
   "name": "python",
   "nbconvert_exporter": "python",
   "pygments_lexer": "ipython3",
   "version": "3.11.6"
  }
 },
 "nbformat": 4,
 "nbformat_minor": 2
}
