{
 "cells": [
  {
   "cell_type": "code",
   "execution_count": null,
   "metadata": {},
   "outputs": [],
   "source": [
    "import pandas as pd\n",
    "import polars as pl\n",
    "import numpy as np\n",
    "import networkx as nx\n",
    "import random\n",
    "import sys\n",
    "sys.path.insert(1, '../rtsvg')\n",
    "from rtsvg import *\n",
    "rt = RACETrack()"
   ]
  },
  {
   "cell_type": "code",
   "execution_count": null,
   "metadata": {},
   "outputs": [],
   "source": [
    "df = pl.DataFrame({'ts':['2024-01-01', '2024-01-02', '2024-01-03'],\n",
    "                   'strs1':['a','b','c'], \n",
    "                   'strs2':['x','y','z'],\n",
    "                   'ints1':[1,2,3],\n",
    "                   'ints2':[4,5,6]})\n",
    "df = rt.columnsAreTimestamps(df,'ts')\n",
    "relates = [('strs1','strs2')]\n",
    "g   = rt.createNetworkXGraph(df, relates)\n",
    "pos = rt.hyperTreeLayout(g)\n",
    "#rt.linkNode(df, relates, pos, sm_type='xy', sm_params={'x_field':'strs1','y_field':'ints1'}, w=512, h=512, bounds_percent=0.4) # works with join fix\n",
    "#rt.xy(df, x_field='strs1', y_field='ints1', sm_type='xy', sm_params={'x_field':'strs1','y_field':'ints1'})                     # works with conditional join fix\n",
    "#rt.periodicBarChart(df, count_by='ints1', sm_type='xy', sm_params={'x_field':'strs1','y_field':'strs1'})                       # works with conditional join fix\n",
    "#rt.temporalBarChart(df, count_by='ints1', sm_type='xy', sm_params={'x_field':'strs1','y_field':'ints1'})                       # broke\n",
    "#rt.calendarHeatmap(df, sm_type='xy', sm_params={'x_field':'strs1','y_field':'ints1'})                                          # broke"
   ]
  },
  {
   "cell_type": "code",
   "execution_count": null,
   "metadata": {},
   "outputs": [],
   "source": []
  }
 ],
 "metadata": {
  "kernelspec": {
   "display_name": ".venv",
   "language": "python",
   "name": "python3"
  },
  "language_info": {
   "codemirror_mode": {
    "name": "ipython",
    "version": 3
   },
   "file_extension": ".py",
   "mimetype": "text/x-python",
   "name": "python",
   "nbconvert_exporter": "python",
   "pygments_lexer": "ipython3",
   "version": "3.12.3"
  }
 },
 "nbformat": 4,
 "nbformat_minor": 2
}
