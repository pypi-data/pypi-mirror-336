{
 "cells": [
  {
   "cell_type": "code",
   "execution_count": null,
   "metadata": {},
   "outputs": [],
   "source": [
    "import rtsvg\n",
    "rt = rtsvg.RACETrack()\n",
    "# Driver Code\n",
    "s1 = \"once upon a time... there was a programmer... named john...\"\n",
    "s2 = \"there was a programmeronce upon a timenamed john\"\n",
    "_len_, _i_, _j_ = rt.longestCommonSubstring(s1, s2)\n",
    "print(f'{_len_} : @{_i_} \"{s1[_i_:_i_+_len_]}\" : @{_j_} \"{s2[_j_:_j_+_len_]}\"')"
   ]
  },
  {
   "cell_type": "code",
   "execution_count": null,
   "metadata": {},
   "outputs": [],
   "source": [
    "my_results, s1_leftovers, s2_leftovers = rt.iterativeLongestCommonSubstrings(s1, s2, min_length=4)\n",
    "print(my_results)\n",
    "for _tuple_ in my_results:\n",
    "    _len_, _i_, _j_ = _tuple_\n",
    "    print(f'{_len_=} : @{_i_} \"{s1[_i_:_i_+_len_]}\" : @{_j_} \"{s2[_j_:_j_+_len_]}\"')\n",
    "print(f's1_leftovers = \"{s1_leftovers}\"')\n",
    "print(f's2_leftovers = \"{s2_leftovers}\"')"
   ]
  },
  {
   "cell_type": "code",
   "execution_count": null,
   "metadata": {},
   "outputs": [],
   "source": [
    "my_results, s1_leftovers, s2_leftovers = rt.iterativelyFindAllCommonSubstrings(s1, s2, min_length=4)\n",
    "print(my_results)\n",
    "for _tuple_ in my_results:\n",
    "    _len_, _i_, _j_ = _tuple_\n",
    "    print(f'{_len_=} : @{_i_} \"{s1[_i_:_i_+_len_]}\" : @{_j_} \"{s2[_j_:_j_+_len_]}\"')\n",
    "print(f's1_leftovers = \"{s1_leftovers}\"')\n",
    "print(f's2_leftovers = \"{s2_leftovers}\"')"
   ]
  },
  {
   "cell_type": "code",
   "execution_count": null,
   "metadata": {},
   "outputs": [],
   "source": [
    "my_longer  = 'abcdefxyzmno'\n",
    "my_shorter = 'abcdefghimno'\n",
    "my_results, my_longer_leftovers, my_shorter_leftovers = rt.iterativeLongestCommonSubstrings(my_longer, my_shorter, min_length=2)\n",
    "print(my_results)\n",
    "for _tuple_ in my_results:\n",
    "    _len_, _i_, _j_ = _tuple_\n",
    "    print(f'{_len_=} : @{_i_} \"{my_longer[_i_:_i_+_len_]}\" : @{_j_} \"{my_shorter[_j_:_j_+_len_]}\"')\n",
    "print(f'longer  leftovers = \"{my_longer_leftovers}\"')\n",
    "print(f'shorter leftovers = \"{my_shorter_leftovers}\"')"
   ]
  },
  {
   "cell_type": "code",
   "execution_count": null,
   "metadata": {},
   "outputs": [],
   "source": [
    "my_longer  = 'abcdefxyzmno'\n",
    "my_shorter = 'abcdefghimno'\n",
    "my_results, my_longer_leftovers, my_shorter_leftovers = rt.iterativelyFindAllCommonSubstrings(my_longer, my_shorter, min_length=2)\n",
    "print(my_results)\n",
    "for _tuple_ in my_results:\n",
    "    _len_, _i_, _j_ = _tuple_\n",
    "    print(f'{_len_=} : @{_i_} \"{my_longer[_i_:_i_+_len_]}\" : @{_j_} \"{my_shorter[_j_:_j_+_len_]}\"')\n",
    "print(f'longer  leftovers = \"{my_longer_leftovers}\"')\n",
    "print(f'shorter leftovers = \"{my_shorter_leftovers}\"')"
   ]
  },
  {
   "cell_type": "code",
   "execution_count": null,
   "metadata": {},
   "outputs": [],
   "source": []
  }
 ],
 "metadata": {
  "kernelspec": {
   "display_name": ".venv",
   "language": "python",
   "name": "python3"
  },
  "language_info": {
   "codemirror_mode": {
    "name": "ipython",
    "version": 3
   },
   "file_extension": ".py",
   "mimetype": "text/x-python",
   "name": "python",
   "nbconvert_exporter": "python",
   "pygments_lexer": "ipython3",
   "version": "3.12.3"
  }
 },
 "nbformat": 4,
 "nbformat_minor": 2
}
