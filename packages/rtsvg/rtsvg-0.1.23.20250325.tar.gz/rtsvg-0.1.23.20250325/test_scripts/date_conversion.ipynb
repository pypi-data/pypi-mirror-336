{
 "cells": [
  {
   "cell_type": "code",
   "execution_count": null,
   "metadata": {},
   "outputs": [],
   "source": [
    "import polars as pl\n",
    "import pandas as pd\n",
    "import numpy as np\n",
    "import random\n",
    "import time\n",
    "import rtsvg\n",
    "rt = rtsvg.RACETrack()"
   ]
  },
  {
   "cell_type": "code",
   "execution_count": null,
   "metadata": {},
   "outputs": [],
   "source": [
    "timing = {'seconds':[], 'rows':[], 'impl':[]}\n",
    "for rows in range(10_000, 101_000, 10_000):\n",
    "    lu   = {'date':[]}\n",
    "    for i in range(rows):\n",
    "        lu['date'].append(f'{random.randint(1950, 2024)}/{random.randint(1,12):02}/{random.randint(1,28):02}')\n",
    "    df = pl.DataFrame(lu)\n",
    "    t0 = time.time()\n",
    "    rt.columnsAreTimestamps(df, 'date')\n",
    "    t1 = time.time()\n",
    "    timing['seconds'].append(t1-t0), timing['rows'].append(rows), timing['impl'].append('polars')\n",
    "    df = pd.DataFrame(lu)\n",
    "    t0 = time.time()\n",
    "    rt.columnsAreTimestamps(df, 'date')\n",
    "    t1 = time.time()\n",
    "    timing['seconds'].append(t1-t0), timing['rows'].append(rows), timing['impl'].append('pandas')\n",
    "\n",
    "df_timing = pd.DataFrame(timing)\n",
    "rt.tile([rt.xy(df_timing, x_field='rows', y_field='seconds', line_groupby_field='impl', line_groupby_w=3.0, dot_size='large', color_by='impl'),\n",
    "         rt.histogram(df_timing, bin_by='impl', count_by='seconds', color_by='impl')], spacer=10)"
   ]
  },
  {
   "cell_type": "code",
   "execution_count": null,
   "metadata": {},
   "outputs": [],
   "source": []
  }
 ],
 "metadata": {
  "kernelspec": {
   "display_name": ".venv",
   "language": "python",
   "name": "python3"
  },
  "language_info": {
   "codemirror_mode": {
    "name": "ipython",
    "version": 3
   },
   "file_extension": ".py",
   "mimetype": "text/x-python",
   "name": "python",
   "nbconvert_exporter": "python",
   "pygments_lexer": "ipython3",
   "version": "3.12.3"
  }
 },
 "nbformat": 4,
 "nbformat_minor": 2
}
