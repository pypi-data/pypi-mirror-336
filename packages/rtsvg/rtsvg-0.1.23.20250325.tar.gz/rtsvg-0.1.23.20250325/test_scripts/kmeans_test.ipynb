{
 "cells": [
  {
   "cell_type": "code",
   "execution_count": null,
   "metadata": {},
   "outputs": [],
   "source": [
    "import random\n",
    "import rtsvg\n",
    "rt = rtsvg.RACETrack()"
   ]
  },
  {
   "cell_type": "code",
   "execution_count": 3,
   "metadata": {},
   "outputs": [],
   "source": [
    "n, my_k = 200, 10\n",
    "my_points = []\n",
    "for i in range(n): my_points.append((random.uniform(10, 490), random.uniform(10, 490)))\n",
    "_centers_, _assignments_ = rt.kMeans2D(my_points, my_k)"
   ]
  },
  {
   "cell_type": "code",
   "execution_count": null,
   "metadata": {},
   "outputs": [],
   "source": [
    "svgs = ['<svg x=\"0\" y=\"0\" width=\"500\" height=\"500\">']\n",
    "for i in _assignments_:\n",
    "    _color_ = rt.co_mgr.getColor(i)\n",
    "    for j in _assignments_[i]:\n",
    "        svgs.append(f'<circle cx=\"{j[0]}\" cy=\"{j[1]}\" r=\"2\" fill=\"{_color_}\" stroke=\"{_color_}\" stroke-width=\"2\"/>')\n",
    "svgs.append('</svg>')\n",
    "rt.tile([''.join(svgs)])"
   ]
  },
  {
   "cell_type": "code",
   "execution_count": null,
   "metadata": {},
   "outputs": [],
   "source": []
  }
 ],
 "metadata": {
  "kernelspec": {
   "display_name": ".venv",
   "language": "python",
   "name": "python3"
  },
  "language_info": {
   "codemirror_mode": {
    "name": "ipython",
    "version": 3
   },
   "file_extension": ".py",
   "mimetype": "text/x-python",
   "name": "python",
   "nbconvert_exporter": "python",
   "pygments_lexer": "ipython3",
   "version": "3.12.3"
  }
 },
 "nbformat": 4,
 "nbformat_minor": 2
}
