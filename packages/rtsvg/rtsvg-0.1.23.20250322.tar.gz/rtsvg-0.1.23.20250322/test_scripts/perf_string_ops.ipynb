{
 "cells": [
  {
   "cell_type": "code",
   "execution_count": null,
   "metadata": {},
   "outputs": [],
   "source": [
    "#\n",
    "# 100,000 strings\n",
    "# ...  0.002s for join operation\n",
    "# ... 54s     for the first concat version (for x in ls)\n",
    "# ...  4.7s   for the second concat version (for i in range(len(ls)))\n",
    "#\n",
    "import random\n",
    "import time\n",
    "sz = 100000\n",
    "ts = time.time()\n",
    "ls = []\n",
    "for i in range(sz):\n",
    "    l = random.randint(30,100)\n",
    "    s = ''\n",
    "    for j in range(l):\n",
    "        s += chr(ord('a') + random.randint(0,26))\n",
    "    ls.append(s)\n",
    "ts0 = time.time()\n",
    "s_joined = ''.join(ls)\n",
    "ts1 = time.time()\n",
    "s_concat = ''\n",
    "for x in ls:\n",
    "    s_concat += x\n",
    "ts2 = time.time()\n",
    "s_concat2 = ''\n",
    "for i in range(len(ls)):\n",
    "    s_concat2 += ls[i]\n",
    "ts3 = time.time()\n",
    "if s_joined != s_concat:\n",
    "    print('error')\n",
    "ts1-ts0,ts2-ts1,ts3-ts2"
   ]
  },
  {
   "cell_type": "code",
   "execution_count": null,
   "metadata": {},
   "outputs": [],
   "source": [
    "ts1-ts0"
   ]
  },
  {
   "cell_type": "code",
   "execution_count": null,
   "metadata": {},
   "outputs": [],
   "source": []
  }
 ],
 "metadata": {
  "kernelspec": {
   "display_name": ".venv",
   "language": "python",
   "name": "python3"
  },
  "language_info": {
   "codemirror_mode": {
    "name": "ipython",
    "version": 3
   },
   "file_extension": ".py",
   "mimetype": "text/x-python",
   "name": "python",
   "nbconvert_exporter": "python",
   "pygments_lexer": "ipython3",
   "version": "3.11.6"
  }
 },
 "nbformat": 4,
 "nbformat_minor": 2
}
