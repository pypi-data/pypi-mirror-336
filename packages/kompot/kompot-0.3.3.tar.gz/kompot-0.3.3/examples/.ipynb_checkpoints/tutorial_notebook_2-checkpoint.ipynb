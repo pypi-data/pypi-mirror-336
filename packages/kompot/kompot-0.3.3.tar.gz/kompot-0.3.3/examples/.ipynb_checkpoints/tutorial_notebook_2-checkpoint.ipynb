{
 "cells": [
  {
   "cell_type": "markdown",
   "metadata": {},
   "source": [
    "# Kompot Tutorial: Differential Analysis with AnnData\n",
    "\n",
    "This tutorial demonstrates how to use the Kompot package to perform differential abundance and differential gene expression analysis on single-cell RNA-seq data stored in AnnData format. \n",
    "\n",
    "## What is Kompot?\n",
    "\n",
    "Kompot is a computational tool that provides a novel approach to differential analysis between conditions in single-cell data. It has several key features:\n",
    "\n",
    "- Leverages **Mahalanobis distance** for sensitive detection of gene expression differences between conditions\n",
    "- Utilizes **JAX** for efficient computation, enabling analysis of large datasets\n",
    "- Works seamlessly with **AnnData** objects, making it compatible with the Scanpy ecosystem\n",
    "- Performs both **differential abundance** and **differential gene expression** analyses\n",
    "- Provides informative visualizations to interpret results\n",
    "\n",
    "## When to Use Kompot\n",
    "\n",
    "Kompot is particularly useful when:\n",
    "\n",
    "1. You want to identify cell states that change in abundance between conditions\n",
    "2. You need to detect genes with altered expression patterns across conditions\n",
    "3. You want to account for the continuous nature of cell states rather than relying on discrete categories\n",
    "4. Traditional differential methods miss subtle changes along cell trajectories\n",
    "\n",
    "In this tutorial, we'll analyze how aging affects hematopoietic stem cells and their derivatives by comparing young and old samples."
   ]
  },
  {
   "cell_type": "code",
   "execution_count": 1,
   "metadata": {
    "execution": {
     "iopub.execute_input": "2025-03-21T23:24:26.177412Z",
     "iopub.status.busy": "2025-03-21T23:24:26.177267Z",
     "iopub.status.idle": "2025-03-21T23:24:26.205338Z",
     "shell.execute_reply": "2025-03-21T23:24:26.205038Z",
     "shell.execute_reply.started": "2025-03-21T23:24:26.177403Z"
    }
   },
   "outputs": [],
   "source": [
    "%load_ext autoreload\n",
    "%autoreload 2"
   ]
  },
  {
   "cell_type": "code",
   "execution_count": 2,
   "metadata": {
    "execution": {
     "iopub.execute_input": "2025-03-21T23:24:26.205742Z",
     "iopub.status.busy": "2025-03-21T23:24:26.205671Z",
     "iopub.status.idle": "2025-03-21T23:24:29.001883Z",
     "shell.execute_reply": "2025-03-21T23:24:29.001625Z",
     "shell.execute_reply.started": "2025-03-21T23:24:26.205734Z"
    }
   },
   "outputs": [
    {
     "name": "stderr",
     "output_type": "stream",
     "text": [
      "/Users/dotto/micromamba/envs/kompot_v2/lib/python3.12/site-packages/tqdm/auto.py:21: TqdmWarning: IProgress not found. Please update jupyter and ipywidgets. See https://ipywidgets.readthedocs.io/en/stable/user_install.html\n",
      "  from .autonotebook import tqdm as notebook_tqdm\n"
     ]
    }
   ],
   "source": [
    "import anndata as ad\n",
    "import matplotlib.pyplot as plt\n",
    "\n",
    "# Import necessary libraries\n",
    "import numpy as np\n",
    "import palantir\n",
    "import pandas as pd\n",
    "import scanpy as sc\n",
    "import seaborn as sns\n",
    "\n",
    "import kompot\n",
    "\n",
    "# Set plotting style\n",
    "#sc.settings.set_figure_params(dpi=150, figsize=[5, 5])\n",
    "plt.rcParams[\"axes.spines.right\"] = False\n",
    "plt.rcParams[\"axes.spines.top\"] = False\n",
    "plt.rcParams[\"image.cmap\"] = \"Spectral_r\""
   ]
  },
  {
   "cell_type": "markdown",
   "metadata": {},
   "source": [
    "## Parameters and Configuration\n",
    "\n",
    "First, let's define the parameters we'll use for the analysis. These parameters control how Kompot will process the data:\n",
    "\n",
    "- **GROUPING_COLUMN**: The column in `adata.obs` that contains the condition labels (e.g., age, treatment, disease state)\n",
    "- **CONDITIONS**: The specific condition values to compare - the first is used as reference\n",
    "- **CELL_TYPE_COLUMN**: The column in `adata.obs` with cell type annotations\n",
    "- **DIMENSIONALITY_REDUCTION**: Key in `adata.obsm` for cell state representation (e.g., PCA, diffusion maps)\n",
    "- **LAYER_FOR_EXPRESSION**: Data layer to use for expression values (using None would use `adata.X`)\n",
    "\n",
    "Modifying these values allows you to adapt the tutorial to your own data. When working with your own dataset, consider:\n",
    "\n",
    "1. Which conditions you want to compare (e.g., control vs. treatment, young vs. old)\n",
    "2. What representation of cell states to use (PCA, UMAP, diffusion components)\n",
    "3. Which normalization layer to analyze for expression data (raw counts, normalized counts, etc.)"
   ]
  },
  {
   "cell_type": "code",
   "execution_count": 3,
   "metadata": {
    "execution": {
     "iopub.execute_input": "2025-03-21T23:24:29.003147Z",
     "iopub.status.busy": "2025-03-21T23:24:29.002981Z",
     "iopub.status.idle": "2025-03-21T23:24:29.024171Z",
     "shell.execute_reply": "2025-03-21T23:24:29.023896Z",
     "shell.execute_reply.started": "2025-03-21T23:24:29.003139Z"
    }
   },
   "outputs": [],
   "source": [
    "# Data path - replace with your own AnnData file path\n",
    "# For reproducibility, you can download the example file from:\n",
    "# https://zenodo.org/records/10153433\n",
    "DATA_PATH = \"../data/processed_filtered_HSPCandMature_withcorrection_withregression_postcelltype.h5ad\"\n",
    "\n",
    "# Analysis parameters\n",
    "GROUPING_COLUMN = \"Age\"  # Column in adata.obs with condition labels\n",
    "CONDITIONS = [\"Young\", \"Old\"]  # Conditions to compare (first is reference)\n",
    "CELL_TYPE_COLUMN = \"highres_celltype\"  # Column in adata.obs with cell type annotations\n",
    "DIMENSIONALITY_REDUCTION = (\n",
    "    \"DM_EigenVectors\"  # Key in adata.obsm for cell state representation\n",
    ")\n",
    "LAYER_FOR_EXPRESSION = (\n",
    "    \"logged_counts\"  # Layer in adata.layers for expression data (None uses adata.X)\n",
    ")"
   ]
  },
  {
   "cell_type": "code",
   "execution_count": 4,
   "metadata": {
    "execution": {
     "iopub.execute_input": "2025-03-21T23:24:29.024734Z",
     "iopub.status.busy": "2025-03-21T23:24:29.024605Z",
     "iopub.status.idle": "2025-03-21T23:24:29.254937Z",
     "shell.execute_reply": "2025-03-21T23:24:29.254131Z",
     "shell.execute_reply.started": "2025-03-21T23:24:29.024726Z"
    }
   },
   "outputs": [
    {
     "ename": "FileNotFoundError",
     "evalue": "[Errno 2] Unable to synchronously open file (unable to open file: name = '../data/processed_filtered_HSPCandMature_withcorrection_withregression_postcelltype.h5ad', errno = 2, error message = 'No such file or directory', flags = 0, o_flags = 0)",
     "output_type": "error",
     "traceback": [
      "\u001b[31m---------------------------------------------------------------------------\u001b[39m",
      "\u001b[31mFileNotFoundError\u001b[39m                         Traceback (most recent call last)",
      "\u001b[36mCell\u001b[39m\u001b[36m \u001b[39m\u001b[32mIn[4]\u001b[39m\u001b[32m, line 1\u001b[39m\n\u001b[32m----> \u001b[39m\u001b[32m1\u001b[39m adata = \u001b[43mad\u001b[49m\u001b[43m.\u001b[49m\u001b[43mread_h5ad\u001b[49m\u001b[43m(\u001b[49m\u001b[43mDATA_PATH\u001b[49m\u001b[43m)\u001b[49m\n\u001b[32m      2\u001b[39m adata\n",
      "\u001b[36mFile \u001b[39m\u001b[32m~/micromamba/envs/kompot_v2/lib/python3.12/site-packages/anndata/_io/h5ad.py:236\u001b[39m, in \u001b[36mread_h5ad\u001b[39m\u001b[34m(filename, backed, as_sparse, as_sparse_fmt, chunk_size)\u001b[39m\n\u001b[32m    228\u001b[39m         \u001b[38;5;28;01mraise\u001b[39;00m \u001b[38;5;167;01mNotImplementedError\u001b[39;00m(\n\u001b[32m    229\u001b[39m             \u001b[33m\"\u001b[39m\u001b[33mCurrently only `X` and `raw/X` can be read as sparse.\u001b[39m\u001b[33m\"\u001b[39m\n\u001b[32m    230\u001b[39m         )\n\u001b[32m    232\u001b[39m rdasp = partial(\n\u001b[32m    233\u001b[39m     read_dense_as_sparse, sparse_format=as_sparse_fmt, axis_chunk=chunk_size\n\u001b[32m    234\u001b[39m )\n\u001b[32m--> \u001b[39m\u001b[32m236\u001b[39m \u001b[38;5;28;01mwith\u001b[39;00m \u001b[43mh5py\u001b[49m\u001b[43m.\u001b[49m\u001b[43mFile\u001b[49m\u001b[43m(\u001b[49m\u001b[43mfilename\u001b[49m\u001b[43m,\u001b[49m\u001b[43m \u001b[49m\u001b[33;43m\"\u001b[39;49m\u001b[33;43mr\u001b[39;49m\u001b[33;43m\"\u001b[39;49m\u001b[43m)\u001b[49m \u001b[38;5;28;01mas\u001b[39;00m f:\n\u001b[32m    238\u001b[39m     \u001b[38;5;28;01mdef\u001b[39;00m\u001b[38;5;250m \u001b[39m\u001b[34mcallback\u001b[39m(func, elem_name: \u001b[38;5;28mstr\u001b[39m, elem, iospec):\n\u001b[32m    239\u001b[39m         \u001b[38;5;28;01mif\u001b[39;00m iospec.encoding_type == \u001b[33m\"\u001b[39m\u001b[33manndata\u001b[39m\u001b[33m\"\u001b[39m \u001b[38;5;129;01mor\u001b[39;00m elem_name.endswith(\u001b[33m\"\u001b[39m\u001b[33m/\u001b[39m\u001b[33m\"\u001b[39m):\n",
      "\u001b[36mFile \u001b[39m\u001b[32m~/micromamba/envs/kompot_v2/lib/python3.12/site-packages/h5py/_hl/files.py:564\u001b[39m, in \u001b[36mFile.__init__\u001b[39m\u001b[34m(self, name, mode, driver, libver, userblock_size, swmr, rdcc_nslots, rdcc_nbytes, rdcc_w0, track_order, fs_strategy, fs_persist, fs_threshold, fs_page_size, page_buf_size, min_meta_keep, min_raw_keep, locking, alignment_threshold, alignment_interval, meta_block_size, **kwds)\u001b[39m\n\u001b[32m    555\u001b[39m     fapl = make_fapl(driver, libver, rdcc_nslots, rdcc_nbytes, rdcc_w0,\n\u001b[32m    556\u001b[39m                      locking, page_buf_size, min_meta_keep, min_raw_keep,\n\u001b[32m    557\u001b[39m                      alignment_threshold=alignment_threshold,\n\u001b[32m    558\u001b[39m                      alignment_interval=alignment_interval,\n\u001b[32m    559\u001b[39m                      meta_block_size=meta_block_size,\n\u001b[32m    560\u001b[39m                      **kwds)\n\u001b[32m    561\u001b[39m     fcpl = make_fcpl(track_order=track_order, fs_strategy=fs_strategy,\n\u001b[32m    562\u001b[39m                      fs_persist=fs_persist, fs_threshold=fs_threshold,\n\u001b[32m    563\u001b[39m                      fs_page_size=fs_page_size)\n\u001b[32m--> \u001b[39m\u001b[32m564\u001b[39m     fid = \u001b[43mmake_fid\u001b[49m\u001b[43m(\u001b[49m\u001b[43mname\u001b[49m\u001b[43m,\u001b[49m\u001b[43m \u001b[49m\u001b[43mmode\u001b[49m\u001b[43m,\u001b[49m\u001b[43m \u001b[49m\u001b[43muserblock_size\u001b[49m\u001b[43m,\u001b[49m\u001b[43m \u001b[49m\u001b[43mfapl\u001b[49m\u001b[43m,\u001b[49m\u001b[43m \u001b[49m\u001b[43mfcpl\u001b[49m\u001b[43m,\u001b[49m\u001b[43m \u001b[49m\u001b[43mswmr\u001b[49m\u001b[43m=\u001b[49m\u001b[43mswmr\u001b[49m\u001b[43m)\u001b[49m\n\u001b[32m    566\u001b[39m \u001b[38;5;28;01mif\u001b[39;00m \u001b[38;5;28misinstance\u001b[39m(libver, \u001b[38;5;28mtuple\u001b[39m):\n\u001b[32m    567\u001b[39m     \u001b[38;5;28mself\u001b[39m._libver = libver\n",
      "\u001b[36mFile \u001b[39m\u001b[32m~/micromamba/envs/kompot_v2/lib/python3.12/site-packages/h5py/_hl/files.py:238\u001b[39m, in \u001b[36mmake_fid\u001b[39m\u001b[34m(name, mode, userblock_size, fapl, fcpl, swmr)\u001b[39m\n\u001b[32m    236\u001b[39m     \u001b[38;5;28;01mif\u001b[39;00m swmr \u001b[38;5;129;01mand\u001b[39;00m swmr_support:\n\u001b[32m    237\u001b[39m         flags |= h5f.ACC_SWMR_READ\n\u001b[32m--> \u001b[39m\u001b[32m238\u001b[39m     fid = \u001b[43mh5f\u001b[49m\u001b[43m.\u001b[49m\u001b[43mopen\u001b[49m\u001b[43m(\u001b[49m\u001b[43mname\u001b[49m\u001b[43m,\u001b[49m\u001b[43m \u001b[49m\u001b[43mflags\u001b[49m\u001b[43m,\u001b[49m\u001b[43m \u001b[49m\u001b[43mfapl\u001b[49m\u001b[43m=\u001b[49m\u001b[43mfapl\u001b[49m\u001b[43m)\u001b[49m\n\u001b[32m    239\u001b[39m \u001b[38;5;28;01melif\u001b[39;00m mode == \u001b[33m'\u001b[39m\u001b[33mr+\u001b[39m\u001b[33m'\u001b[39m:\n\u001b[32m    240\u001b[39m     fid = h5f.open(name, h5f.ACC_RDWR, fapl=fapl)\n",
      "\u001b[36mFile \u001b[39m\u001b[32mh5py/_objects.pyx:54\u001b[39m, in \u001b[36mh5py._objects.with_phil.wrapper\u001b[39m\u001b[34m()\u001b[39m\n",
      "\u001b[36mFile \u001b[39m\u001b[32mh5py/_objects.pyx:55\u001b[39m, in \u001b[36mh5py._objects.with_phil.wrapper\u001b[39m\u001b[34m()\u001b[39m\n",
      "\u001b[36mFile \u001b[39m\u001b[32mh5py/h5f.pyx:102\u001b[39m, in \u001b[36mh5py.h5f.open\u001b[39m\u001b[34m()\u001b[39m\n",
      "\u001b[31mFileNotFoundError\u001b[39m: [Errno 2] Unable to synchronously open file (unable to open file: name = '../data/processed_filtered_HSPCandMature_withcorrection_withregression_postcelltype.h5ad', errno = 2, error message = 'No such file or directory', flags = 0, o_flags = 0)"
     ]
    }
   ],
   "source": [
    "adata = ad.read_h5ad(DATA_PATH)\n",
    "adata"
   ]
  },
  {
   "cell_type": "markdown",
   "metadata": {},
   "source": [
    "## Exploring the Data\n",
    "\n",
    "Before running any analysis, it's important to understand the structure of your data. Let's visualize the dataset to examine:\n",
    "\n",
    "1. **Cell Type Distribution**: How many cells of each type are present in our dataset?\n",
    "2. **Condition Distribution**: How are our conditions (Young vs. Old) balanced?\n",
    "3. **Cell Type by Condition**: Are certain cell types associated with particular conditions?\n",
    "\n",
    "These exploratory analyses will help us interpret the differential results later and identify potential biases in the data."
   ]
  },
  {
   "cell_type": "code",
   "execution_count": null,
   "metadata": {
    "execution": {
     "iopub.status.busy": "2025-03-21T23:24:29.255102Z",
     "iopub.status.idle": "2025-03-21T23:24:29.255200Z",
     "shell.execute_reply": "2025-03-21T23:24:29.255149Z",
     "shell.execute_reply.started": "2025-03-21T23:24:29.255143Z"
    }
   },
   "outputs": [],
   "source": [
    "sc.pl.umap(adata, color=CELL_TYPE_COLUMN)"
   ]
  },
  {
   "cell_type": "code",
   "execution_count": null,
   "metadata": {
    "execution": {
     "iopub.status.busy": "2025-03-21T23:24:29.255610Z",
     "iopub.status.idle": "2025-03-21T23:24:29.255809Z",
     "shell.execute_reply": "2025-03-21T23:24:29.255755Z",
     "shell.execute_reply.started": "2025-03-21T23:24:29.255748Z"
    }
   },
   "outputs": [],
   "source": [
    "cell_type_counts = adata.obs[CELL_TYPE_COLUMN].value_counts()\n",
    "plt.figure(figsize=(10, 5))\n",
    "sns.barplot(x=cell_type_counts.index, y=cell_type_counts.values)\n",
    "plt.xticks(rotation=90)\n",
    "plt.title(\"Cell Type Distribution\")\n",
    "plt.ylabel(\"Number of Cells\")\n",
    "plt.tight_layout()\n",
    "plt.show()"
   ]
  },
  {
   "cell_type": "code",
   "execution_count": null,
   "metadata": {
    "execution": {
     "iopub.status.busy": "2025-03-21T23:24:29.256257Z",
     "iopub.status.idle": "2025-03-21T23:24:29.256360Z",
     "shell.execute_reply": "2025-03-21T23:24:29.256309Z",
     "shell.execute_reply.started": "2025-03-21T23:24:29.256305Z"
    }
   },
   "outputs": [],
   "source": [
    "sc.pl.umap(adata, color=GROUPING_COLUMN, title=\"Conditions\")"
   ]
  },
  {
   "cell_type": "code",
   "execution_count": null,
   "metadata": {
    "execution": {
     "iopub.status.busy": "2025-03-21T23:24:29.256736Z",
     "iopub.status.idle": "2025-03-21T23:24:29.256832Z",
     "shell.execute_reply": "2025-03-21T23:24:29.256783Z",
     "shell.execute_reply.started": "2025-03-21T23:24:29.256779Z"
    }
   },
   "outputs": [],
   "source": [
    "condition_counts = adata.obs[GROUPING_COLUMN].value_counts()\n",
    "plt.figure(figsize=(3, 3))\n",
    "sns.barplot(x=condition_counts.index, y=condition_counts.values)\n",
    "plt.title(\"Condition Distribution\")\n",
    "plt.ylabel(\"Number of Cells\")\n",
    "plt.tight_layout()\n",
    "plt.show()"
   ]
  },
  {
   "cell_type": "code",
   "execution_count": null,
   "metadata": {
    "execution": {
     "iopub.status.busy": "2025-03-21T23:24:29.257123Z",
     "iopub.status.idle": "2025-03-21T23:24:29.257210Z",
     "shell.execute_reply": "2025-03-21T23:24:29.257163Z",
     "shell.execute_reply.started": "2025-03-21T23:24:29.257159Z"
    }
   },
   "outputs": [],
   "source": [
    "crosstab = (\n",
    "    pd.crosstab(\n",
    "        adata.obs[CELL_TYPE_COLUMN], adata.obs[GROUPING_COLUMN], normalize=\"index\"\n",
    "    )\n",
    "    * 100\n",
    ")\n",
    "\n",
    "# Plot the distribution\n",
    "ax = crosstab.plot(kind=\"bar\", stacked=False, figsize=(12, 8))\n",
    "ax.grid(False)\n",
    "plt.xlabel(\"Cell Type\")\n",
    "plt.ylabel(\"Percentage (%)\")\n",
    "plt.title(\"Cell Type Distribution by Condition\")\n",
    "plt.legend(title=GROUPING_COLUMN)\n",
    "plt.xticks(rotation=90)\n",
    "plt.tight_layout()\n",
    "plt.show()\n",
    "\n",
    "# Print extremes (cell types with high bias toward one condition)\n",
    "bias_threshold = 75  # Percentage threshold for considering a cell type biased\n",
    "biased_types = crosstab[(crosstab > bias_threshold).any(axis=1)]\n",
    "\n",
    "if not biased_types.empty:\n",
    "    print(f\"Cell types with >={bias_threshold}% bias toward one condition:\")\n",
    "    print(biased_types)\n",
    "    print(\"\\nThese cell types might show disproportionate changes between conditions.\")"
   ]
  },
  {
   "cell_type": "markdown",
   "metadata": {},
   "source": [
    "## Preprocessing with Diffusion Maps\n",
    "\n",
    "For Kompot to perform effectively, we need a good representation of cell state. Diffusion maps are an excellent choice because they:\n",
    "\n",
    "1. Capture the intrinsic geometry of high-dimensional single-cell data\n",
    "2. Preserve the continuous nature of cellular differentiation trajectories\n",
    "3. Reduce technical noise while maintaining biological signal\n",
    "4. Focus on global structure rather than local variations\n",
    "\n",
    "We'll use Palantir's implementation of diffusion maps, which works directly with AnnData objects and provides a robust low-dimensional representation of cell states."
   ]
  },
  {
   "cell_type": "code",
   "execution_count": null,
   "metadata": {
    "execution": {
     "iopub.status.busy": "2025-03-21T23:24:29.257425Z",
     "iopub.status.idle": "2025-03-21T23:24:29.257496Z",
     "shell.execute_reply": "2025-03-21T23:24:29.257460Z",
     "shell.execute_reply.started": "2025-03-21T23:24:29.257457Z"
    }
   },
   "outputs": [],
   "source": [
    "palantir.utils.run_diffusion_maps(adata, pca_key=\"X_pca_harmony\", n_components=40);"
   ]
  },
  {
   "cell_type": "markdown",
   "metadata": {},
   "source": [
    "## Running Differential Analysis with Kompot\n",
    "\n",
    "Now we'll run the differential analysis using Kompot. We'll perform two types of analysis:\n",
    "\n",
    "1. **Differential Abundance (DA)**: Identifies cell states that change in frequency between conditions\n",
    "2. **Differential Expression (DE)**: Identifies genes that change in expression between conditions\n",
    "\n",
    "### Understanding Kompot Parameters\n",
    "\n",
    "For Differential Abundance:\n",
    "- `groupby`: Column in adata.obs containing condition labels\n",
    "- `condition1`/`condition2`: The conditions to compare (condition1 is the reference)\n",
    "- `obsm_key`: The dimensionality reduction to use as cell state representation\n",
    "- `log_fold_change_threshold`: The minimum log fold change to consider significant\n",
    "\n",
    "For Differential Expression:\n",
    "- `layer`: The expression data to use (normalized counts, log counts, etc.)\n",
    "- `differential_abundance_key`: Optional key to use DA results for weighted fold changes\n",
    "- `batch_size`: Can be set to process data in batches to reduce memory usage (0 means no batching)\n",
    "\n",
    "### How Kompot Works\n",
    "\n",
    "Kompot uses Gaussian processes to model the density of cells in each condition and then computes the log-fold change between these densities. For differential expression, it implements a statistical test based on the Mahalanobis distance, which is particularly sensitive to differences along continuous cell states and accounts for the covariance structure of the data."
   ]
  },
  {
   "cell_type": "code",
   "execution_count": null,
   "metadata": {
    "execution": {
     "iopub.status.busy": "2025-03-21T23:24:29.258193Z",
     "iopub.status.idle": "2025-03-21T23:24:29.258287Z",
     "shell.execute_reply": "2025-03-21T23:24:29.258238Z",
     "shell.execute_reply.started": "2025-03-21T23:24:29.258233Z"
    }
   },
   "outputs": [],
   "source": [
    "# First, let's compute differential abundance between conditions\n",
    "da_results = kompot.compute_differential_abundance(\n",
    "    adata,  # AnnData object\n",
    "    groupby=GROUPING_COLUMN,  # Column with condition labels\n",
    "    condition1=CONDITIONS[0],  # Reference condition\n",
    "    condition2=CONDITIONS[1],  # Comparison condition\n",
    "    obsm_key=DIMENSIONALITY_REDUCTION,  # Cell state representation\n",
    ")"
   ]
  },
  {
   "cell_type": "code",
   "execution_count": null,
   "metadata": {
    "execution": {
     "iopub.status.busy": "2025-03-21T23:24:29.258550Z",
     "iopub.status.idle": "2025-03-21T23:24:29.258637Z",
     "shell.execute_reply": "2025-03-21T23:24:29.258591Z",
     "shell.execute_reply.started": "2025-03-21T23:24:29.258587Z"
    }
   },
   "outputs": [],
   "source": [
    "# Now, compute differential expression between the conditions\n",
    "de_results = kompot.compute_differential_expression(\n",
    "    adata,  # AnnData object\n",
    "    groupby=GROUPING_COLUMN,  # Column with condition labels\n",
    "    condition1=CONDITIONS[0],  # Reference condition\n",
    "    condition2=CONDITIONS[1],  # Comparison condition\n",
    "    layer=LAYER_FOR_EXPRESSION,  # Expression data layer\n",
    "    obsm_key=DIMENSIONALITY_REDUCTION,  # Cell state representation\n",
    "    differential_abundance_key=\"kompot_da\",  # DA results for weighted log-fold change (optional)\n",
    "    batch_size=0,  # set to, e.g., 100 to batch cells and genes for lower memory demand\n",
    ")"
   ]
  },
  {
   "cell_type": "markdown",
   "metadata": {},
   "source": [
    "## Visualizing Differential Abundance Results\n",
    "\n",
    "Now that we've computed differential abundance between conditions, let's visualize the results.\n",
    "\n",
    "### What to Look For in the Visualizations\n",
    "\n",
    "1. **Direction of Change**: \"up\" means a cell state is more abundant in the second condition (Old) compared to the reference (Young), while \"down\" means less abundant.\n",
    "\n",
    "2. **Log Fold Change Scale**: \n",
    "   - Values near 0 indicate similar abundance across conditions\n",
    "   - Positive values show enrichment in the second condition (Old)  \n",
    "   - Negative values show depletion in the second condition (Old)\n",
    "\n",
    "3. **Spatial Patterns**: Look for regions or clusters in the UMAP showing consistent changes - these represent biologically meaningful shifts in cell populations.\n",
    "\n",
    "4. **Cell Type Correlations**: Check if specific cell types are consistently changing in abundance, which can reveal lineage-specific effects.\n",
    "\n",
    "The volcano plot displays statistical significance versus effect size, with points above the horizontal line and outside the vertical lines indicating significant changes. Points are colored by cell type to facilitate interpretation of which cell populations are changing."
   ]
  },
  {
   "cell_type": "code",
   "execution_count": null,
   "metadata": {
    "execution": {
     "iopub.status.busy": "2025-03-21T23:24:29.259010Z",
     "iopub.status.idle": "2025-03-21T23:24:29.259095Z",
     "shell.execute_reply": "2025-03-21T23:24:29.259049Z",
     "shell.execute_reply.started": "2025-03-21T23:24:29.259045Z"
    }
   },
   "outputs": [],
   "source": [
    "sc.pl.embedding(\n",
    "    adata,\n",
    "    \"umap\",\n",
    "    color=[\n",
    "        \"kompot_da_log_fold_change_direction_Young_vs_Old\",\n",
    "        \"kompot_da_log_fold_change_Young_vs_Old\",\n",
    "    ],\n",
    "    title=[\"Abundance Changes From Young to Old\", \"Log-Fold Changes From Young to Old\"],\n",
    "    color_map=\"RdBu_r\",\n",
    "    vcenter=0,\n",
    ")"
   ]
  },
  {
   "cell_type": "markdown",
   "metadata": {},
   "source": [
    "We can use the kompot wrapper of `scanpy.pl.embedding` to color and subset by different criteria. Here we subset to cell states that are significantly differentially expressed by passing our criteria `{\"kompot_da_log_fold_change_direction_Young_vs_Old\":[\"up\", \"down\"]}` to the `groups` parameter."
   ]
  },
  {
   "cell_type": "code",
   "execution_count": null,
   "metadata": {
    "execution": {
     "iopub.status.busy": "2025-03-21T23:24:29.259350Z",
     "iopub.status.idle": "2025-03-21T23:24:29.259434Z",
     "shell.execute_reply": "2025-03-21T23:24:29.259388Z",
     "shell.execute_reply.started": "2025-03-21T23:24:29.259385Z"
    }
   },
   "outputs": [],
   "source": [
    "kompot.plot.embedding(\n",
    "    adata,\n",
    "    \"umap\",\n",
    "    color=[\n",
    "        \"kompot_da_log_fold_change_direction_Young_vs_Old\",\n",
    "        \"kompot_da_log_fold_change_Young_vs_Old\",\n",
    "        CELL_TYPE_COLUMN\n",
    "    ],\n",
    "    title=[\"Abundance Changes From Young to Old\", \"Log-Fold Changes From Young to Old\", CELL_TYPE_COLUMN],\n",
    "    color_map=\"RdBu_r\",\n",
    "    vcenter=0,\n",
    "    groups={\"kompot_da_log_fold_change_direction_Young_vs_Old\":[\"up\", \"down\"]},\n",
    ")"
   ]
  },
  {
   "cell_type": "code",
   "execution_count": null,
   "metadata": {
    "execution": {
     "iopub.status.busy": "2025-03-21T23:24:29.259633Z",
     "iopub.status.idle": "2025-03-21T23:24:29.259711Z",
     "shell.execute_reply": "2025-03-21T23:24:29.259668Z",
     "shell.execute_reply.started": "2025-03-21T23:24:29.259665Z"
    }
   },
   "outputs": [],
   "source": [
    "kompot.plot.volcano_da(adata, color=CELL_TYPE_COLUMN)"
   ]
  },
  {
   "cell_type": "code",
   "execution_count": null,
   "metadata": {
    "execution": {
     "iopub.status.busy": "2025-03-21T23:24:29.260149Z",
     "iopub.status.idle": "2025-03-21T23:24:29.260230Z",
     "shell.execute_reply": "2025-03-21T23:24:29.260185Z",
     "shell.execute_reply.started": "2025-03-21T23:24:29.260181Z"
    }
   },
   "outputs": [],
   "source": [
    "kompot.plot.direction_barplot(adata, category_column=CELL_TYPE_COLUMN)"
   ]
  },
  {
   "cell_type": "markdown",
   "metadata": {},
   "source": [
    "## Visualizing Differential Expression Results\n",
    "\n",
    "Now let's examine the differential expression results to identify genes that change between conditions.\n",
    "\n",
    "### Understanding the Results\n",
    "\n",
    "The Kompot differential expression analysis produces several key metrics:\n",
    "\n",
    "1. **Weighted Log Fold Change**: The average log fold change between conditions, weighted by cell density\n",
    "2. **Mean Log Fold Change**: The simple average log fold change across all cells\n",
    "3. **Mahalanobis Distance**: A statistical measure that accounts for variance and covariance in the data\n",
    "\n",
    "The Mahalanobis distance is particularly powerful because it:\n",
    "- Accounts for the covariance structure of the data\n",
    "- Is sensitive to changes in gene expression patterns\n",
    "- Provides a robust measure of significance even for genes with complex expression patterns\n",
    "\n",
    "### Volcano Plots\n",
    "\n",
    "In a volcano plot:\n",
    "- The x-axis shows the log fold change (effect size)\n",
    "- The y-axis shows the Mahalanobis distance (statistical significance)\n",
    "- Points in the upper right indicate genes upregulated in the second condition (Old)\n",
    "- Points in the upper left indicate genes downregulated in the second condition (Old)\n",
    "\n",
    "Let's first look at the top differentially expressed genes:"
   ]
  },
  {
   "cell_type": "code",
   "execution_count": null,
   "metadata": {
    "execution": {
     "iopub.status.busy": "2025-03-21T23:24:29.260598Z",
     "iopub.status.idle": "2025-03-21T23:24:29.260684Z",
     "shell.execute_reply": "2025-03-21T23:24:29.260638Z",
     "shell.execute_reply.started": "2025-03-21T23:24:29.260635Z"
    }
   },
   "outputs": [],
   "source": [
    "kompot.plot.volcano_de(adata, n_top_genes=20)"
   ]
  },
  {
   "cell_type": "code",
   "execution_count": null,
   "metadata": {
    "execution": {
     "iopub.status.busy": "2025-03-21T23:24:29.260992Z",
     "iopub.status.idle": "2025-03-21T23:24:29.261071Z",
     "shell.execute_reply": "2025-03-21T23:24:29.261027Z",
     "shell.execute_reply.started": "2025-03-21T23:24:29.261024Z"
    }
   },
   "outputs": [],
   "source": [
    "adata.var[\n",
    "    [\"kompot_de_weighted_lfc_Young_vs_Old\", \"kompot_de_mahalanobis_Young_vs_Old\"]\n",
    "].sort_values(\"kompot_de_mahalanobis_Young_vs_Old\", ascending=False).head(20)"
   ]
  },
  {
   "cell_type": "markdown",
   "metadata": {},
   "source": [
    "### Expression Plots\n",
    "\n",
    "This plot helps to ispect how the expression was imputed for each condition, and to vizualize the fold change. Note that all these results are stored as layers in the anndata and can also be plotted individually, e.g., with\n",
    "```Python\n",
    "scanpy.pl.embedding(adata, basis=\"umap\", color=\"Igkc\", layer=\"logged_counts\")\n",
    "scanpy.pl.embedding(adata, basis=\"umap\", color=\"Igkc\", layer=\"kompot_de_imputed_Young\")\n",
    "scanpy.pl.embedding(adata, basis=\"umap\", color=\"Igkc\", layer=\"kompot_de_imputed_Old\")\n",
    "scanpy.pl.embedding(adata, basis=\"umap\", color=\"Igkc\", layer=\"kompot_de_fold_change_Young_vs_Old\")\n",
    "```\n",
    "Or use the kompot plotting function, that uses scanpy internally, for convinience."
   ]
  },
  {
   "cell_type": "code",
   "execution_count": null,
   "metadata": {
    "execution": {
     "iopub.status.busy": "2025-03-21T23:24:29.261323Z",
     "iopub.status.idle": "2025-03-21T23:24:29.261405Z",
     "shell.execute_reply": "2025-03-21T23:24:29.261361Z",
     "shell.execute_reply.started": "2025-03-21T23:24:29.261358Z"
    }
   },
   "outputs": [],
   "source": [
    "kompot.plot.plot_gene_expression(adata, gene=\"Igkc\", vmin=\"p2\", vmax=\"p98\")"
   ]
  },
  {
   "cell_type": "code",
   "execution_count": null,
   "metadata": {
    "execution": {
     "iopub.status.busy": "2025-03-21T23:24:29.261656Z",
     "iopub.status.idle": "2025-03-21T23:24:29.261820Z",
     "shell.execute_reply": "2025-03-21T23:24:29.261772Z",
     "shell.execute_reply.started": "2025-03-21T23:24:29.261768Z"
    }
   },
   "outputs": [],
   "source": [
    "# Let's examine one key gene in more detail\n",
    "# H2-Q7 is a major histocompatibility complex (MHC) class I gene\n",
    "# that showed the strongest differential expression\n",
    "kompot.plot.plot_gene_expression(adata, gene=\"H2-Q7\", vmax=\"p98\")"
   ]
  },
  {
   "cell_type": "markdown",
   "metadata": {},
   "source": [
    "### Heatmaps\n",
    "\n",
    "To visualize expression changes of top genes across multiple cell types, you can use the split heatmap function. This plot is largely independent of the Kompot results and displays the average **unimputed expression** per group and condition.  It only uses the Mahalnobis distance to choose the top `n` genes. If you specify the `layer`, `genes`, `condition_column`, `condition1`, and `condition2` parameters, the function can be used without requiring any Kompot results.\n",
    "\n",
    "In this example, we exclude plasma cells, as they are not represented in the `Young` age group."
   ]
  },
  {
   "cell_type": "code",
   "execution_count": null,
   "metadata": {
    "execution": {
     "iopub.status.busy": "2025-03-21T23:24:29.262151Z",
     "iopub.status.idle": "2025-03-21T23:24:29.262230Z",
     "shell.execute_reply": "2025-03-21T23:24:29.262186Z",
     "shell.execute_reply.started": "2025-03-21T23:24:29.262183Z"
    }
   },
   "outputs": [],
   "source": [
    "kompot.plot.heatmap(\n",
    "    adata,\n",
    "    n_top_genes=20, # show only the top most differentially expressed genes\n",
    "    groupby=CELL_TYPE_COLUMN, # the x-axis of the heatmap\n",
    "    exclude_groups=\"Plasma cell\", # excluded from the x-axis\n",
    "    vmin=\"p1\", # clip values at 1st percentile from bewlow for better contrast\n",
    "    vmax=\"p99\", # clip values at 99th percentile from above for better contrast\n",
    ")"
   ]
  },
  {
   "cell_type": "markdown",
   "metadata": {},
   "source": [
    "You can customize the heatmap visualization by adjusting parameters. For example, to display raw expression values without z-scoring, set `standard_scale=None`:"
   ]
  },
  {
   "cell_type": "code",
   "execution_count": null,
   "metadata": {
    "execution": {
     "iopub.status.busy": "2025-03-21T23:24:29.262625Z",
     "iopub.status.idle": "2025-03-21T23:24:29.262738Z",
     "shell.execute_reply": "2025-03-21T23:24:29.262678Z",
     "shell.execute_reply.started": "2025-03-21T23:24:29.262674Z"
    }
   },
   "outputs": [],
   "source": [
    "kompot.plot.heatmap(\n",
    "    adata,\n",
    "    n_top_genes=20,\n",
    "    groupby=CELL_TYPE_COLUMN,\n",
    "    exclude_groups=\"Plasma cell\",\n",
    "    standard_scale=None, # disable z-scoring\n",
    "    vmax=\"p99\", # clip values at 99th percentile from above for better contrast\n",
    ")"
   ]
  },
  {
   "cell_type": "markdown",
   "metadata": {},
   "source": [
    "## Biological Interpretation of Results\n",
    "\n",
    "Now that we've identified differential abundance and expression patterns, let's interpret what these changes mean biologically.\n",
    "\n",
    "### Key Findings\n",
    "\n",
    "1. **Cell Type Changes with Age**:\n",
    "   - HSCs (hematopoietic stem cells) show significantly increased abundance in Old vs. Young mice\n",
    "   - Naive CD8 T cells are predominantly found in Young mice\n",
    "   - These findings align with previous studies showing HSC expansion but functional decline with age\n",
    "\n",
    "2. **Gene Expression Changes**:\n",
    "   - MHC class I genes (H2-Q7, H2-Q6, Cd74, H2-Aa, H2-Ab1) are upregulated in Old mice, suggesting increased antigen presentation and immune activation\n",
    "   - Inflammatory markers (S100a8, S100a9) are higher in Young mice\n",
    "   - Interferon-stimulated genes (Ifitm family) show age-related changes, indicating altered immune response\n",
    "\n",
    "### Functional Implications\n",
    "\n",
    "These findings suggest that aging:\n",
    "- Alters the composition of the hematopoietic system\n",
    "- Changes immune surveillance and response mechanisms\n",
    "- May affect stem cell functionality despite increased numbers\n",
    "- Leads to chronic low-grade inflammation (inflammaging)\n",
    "\n",
    "### Next Steps\n",
    "\n",
    "To further validate and extend these findings, consider:\n",
    "1. Functional assays to test HSC capacity in different age groups\n",
    "2. Flow cytometry validation of key markers\n",
    "3. Pathway analysis of the differentially expressed genes\n",
    "4. Single-cell trajectory analysis to understand developmental changes\n",
    "5. Integration with epigenomic data to understand regulatory mechanisms\n",
    "\n",
    "## Conclusion\n",
    "\n",
    "Kompot has allowed us to identify both cell state abundance changes and gene expression differences between Young and Old mice. The Mahalanobis distance-based approach provides sensitive detection of changes along continuous cell states, capturing biological signals that might be missed by traditional discrete methods.\n",
    "\n",
    "For more details on Kompot parameters, methods, and applications, refer to the [complete documentation](https://kompot.readthedocs.io)."
   ]
  }
 ],
 "metadata": {
  "kernelspec": {
   "display_name": "kompot_v2",
   "language": "python",
   "name": "kompot_v2"
  },
  "language_info": {
   "codemirror_mode": {
    "name": "ipython",
    "version": 3
   },
   "file_extension": ".py",
   "mimetype": "text/x-python",
   "name": "python",
   "nbconvert_exporter": "python",
   "pygments_lexer": "ipython3",
   "version": "3.12.9"
  }
 },
 "nbformat": 4,
 "nbformat_minor": 4
}
