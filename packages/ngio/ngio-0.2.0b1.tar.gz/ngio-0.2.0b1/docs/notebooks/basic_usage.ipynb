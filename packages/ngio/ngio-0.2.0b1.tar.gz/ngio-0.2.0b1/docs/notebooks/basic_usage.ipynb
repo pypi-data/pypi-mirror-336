{
 "cells": [
  {
   "cell_type": "markdown",
   "metadata": {},
   "source": [
    "# OME-Zarr Image Exploration\n",
    "\n",
    "In this notebook we will show how to use the 'OmeZarr Container' class to explore and manage an OME-NGFF image.\n",
    "\n",
    "For this example we will use a small example image that can be downloaded from the following link: [example ome-zarr](https://zenodo.org/records/13305156)\n",
    "\n",
    "## OmeZarr Container\n",
    "\n",
    "The `OmeZarr Container` provides a high-level interface to read, write and manipulate NGFF images.\n",
    "A `OmeZarr Container` can be created from a storelike object (e.g. a path to a directory, or a url) or from a `zarr.Group` object. "
   ]
  },
  {
   "cell_type": "code",
   "execution_count": null,
   "metadata": {},
   "outputs": [],
   "source": [
    "from ngio import open_omezarr_container\n",
    "from ngio.utils import download_ome_zarr_dataset\n",
    "\n",
    "hcs_path = download_ome_zarr_dataset(\"CardiomyocyteSmallMip\")\n",
    "image_path = hcs_path / \"B\" / \"03\" / \"0\"\n",
    "omezarr_container = open_omezarr_container(image_path)"
   ]
  },
  {
   "cell_type": "markdown",
   "metadata": {},
   "source": [
    "\n",
    "The `omezarr_container` object provides a high-level interface to read, write and manipulate OME-Zarr images.\n",
    "\n",
    "Print the image will show some overview information like:\n",
    "* The path to the image\n",
    "* The multiscale pyramid paths\n",
    "* The labels contained in the image\n",
    "* The tables contained in the imag"
   ]
  },
  {
   "cell_type": "code",
   "execution_count": null,
   "metadata": {},
   "outputs": [],
   "source": [
    "print(omezarr_container)"
   ]
  },
  {
   "cell_type": "markdown",
   "metadata": {},
   "source": [
    "From the `OmeZarr Container` object we can easily access access the image data (at any resolution level), the labels and the tables."
   ]
  },
  {
   "cell_type": "markdown",
   "metadata": {},
   "source": [
    "Get a single `level` of the image pyramid as `Image` (to know more about the `Image` class, please refer to the [Image notebook](./image.ipynb)\n",
    "The `Image` object is the main object to interact with the image. \n",
    "It contains methods to interact with the image data and metadata."
   ]
  },
  {
   "cell_type": "code",
   "execution_count": null,
   "metadata": {},
   "outputs": [],
   "source": [
    "from ngio import PixelSize\n",
    "\n",
    "# 1. Get image from highest resolution (default)\n",
    "image = omezarr_container.get_image()\n",
    "print(image)\n",
    "\n",
    "# 2. Get image from a specific level using the path keyword\n",
    "image = omezarr_container.get_image(path=\"1\")\n",
    "print(image)\n",
    "\n",
    "# 3. Get image from a specific pixel size using the pixel_size keyword\n",
    "# image = omezarr_container.get_image(\n",
    "#    pixel_size=PixelSize(x=0.65, y=0.65, z=1), strict=True\n",
    "# )\n",
    "print(image.pixel_size == PixelSize(x=0.325, y=0.325, z=1))"
   ]
  },
  {
   "cell_type": "markdown",
   "metadata": {},
   "source": [
    "The `Image` object provides a high-level interface to read and write image data at a specific resolution level."
   ]
  },
  {
   "cell_type": "code",
   "execution_count": null,
   "metadata": {},
   "outputs": [],
   "source": [
    "print(\"Shape\", image.shape)\n",
    "print(\"PixelSize\", image.pixel_size)\n",
    "print(\"Dimensions\", image.dimensions)\n",
    "print(\"Channel Names\", image.channel_labels)"
   ]
  },
  {
   "cell_type": "code",
   "execution_count": null,
   "metadata": {},
   "outputs": [],
   "source": [
    "# Get data as a numpy array or a dask array\n",
    "data = image.get_array(c=0, mode=\"numpy\")\n",
    "print(data)\n",
    "\n",
    "dask_data = image.get_array(c=0, mode=\"dask\")\n",
    "dask_data"
   ]
  },
  {
   "cell_type": "markdown",
   "metadata": {},
   "source": [
    "`ngio` design is to always provide the data in a canonical axis order (`t`, `c`, `z`, `y`, `x`) no matter what is the order on disk.  \n",
    "The `Image` object provides methods to access the data in this order.  \n"
   ]
  },
  {
   "cell_type": "markdown",
   "metadata": {},
   "source": [
    "## Labels\n",
    "\n",
    "The `NgffImage` can also be used to load labels from a `OME-NGFF` file and behave similarly to the `Image` object."
   ]
  },
  {
   "cell_type": "code",
   "execution_count": null,
   "metadata": {},
   "outputs": [],
   "source": [
    "print(\"List of Labels: \", omezarr_container.list_labels())\n",
    "\n",
    "label_nuclei = omezarr_container.get_label(\"nuclei\", path=\"0\")\n",
    "print(label_nuclei)"
   ]
  },
  {
   "cell_type": "markdown",
   "metadata": {},
   "source": [
    "## Tables\n",
    "\n",
    "The `NgffImage` can also be used to load tables from a `OME-NGFF` file.\n",
    "\n",
    "`ngio` supports three types of tables:\n",
    " - `features table` A simple table to store features associated with a label.\n",
    " - `roi table` A table to store regions of interest.\n",
    " - `masking roi tables` A table to store single objects bounding boxes associated with a label."
   ]
  },
  {
   "cell_type": "code",
   "execution_count": null,
   "metadata": {},
   "outputs": [],
   "source": [
    "print(\"List of Tables: \", omezarr_container.list_tables())"
   ]
  },
  {
   "cell_type": "code",
   "execution_count": null,
   "metadata": {},
   "outputs": [],
   "source": [
    "# Loading a table\n",
    "feature_table = omezarr_container.get_table(\"regionprops_DAPI\")\n",
    "feature_table.dataframe"
   ]
  },
  {
   "cell_type": "code",
   "execution_count": null,
   "metadata": {},
   "outputs": [],
   "source": [
    "# Loading a roi table\n",
    "roi_table = omezarr_container.get_table(\"FOV_ROI_table\")\n",
    "\n",
    "print(f\"{roi_table.get('FOV_1')=}\")"
   ]
  },
  {
   "cell_type": "markdown",
   "metadata": {},
   "source": [
    "Rois can be used to index image and label data."
   ]
  },
  {
   "cell_type": "code",
   "execution_count": null,
   "metadata": {},
   "outputs": [],
   "source": [
    "import matplotlib.pyplot as plt\n",
    "\n",
    "# Plotting a single ROI\n",
    "roi = roi_table.get(\"FOV_1\")\n",
    "roi_data = image.get_roi(roi, c=0, mode=\"numpy\")\n",
    "plt.title(\"ROI: FOV_1\")\n",
    "plt.imshow(roi_data[0, 0], cmap=\"gray\")\n",
    "plt.axis(\"off\")\n",
    "plt.show()"
   ]
  },
  {
   "cell_type": "markdown",
   "metadata": {},
   "source": [
    "## Derive a new NgffImage\n",
    "\n",
    "When processing an image, it is often useful to derive a new image from the original image.\n",
    "The `NgffImage` class provides a method to derive a new image from the original image.\n",
    "When deriving a new image, a new `NgffImage` object is created with the same metadata as the original image. Optionally the \n",
    "user can specify different metadata for the new image(.e.g. different channels names)."
   ]
  },
  {
   "cell_type": "code",
   "execution_count": null,
   "metadata": {},
   "outputs": [],
   "source": [
    "new_omezarr_image = omezarr_container.derive_image(\"data/new_ome.zarr\", overwrite=True)\n",
    "print(new_omezarr_image)"
   ]
  },
  {
   "cell_type": "markdown",
   "metadata": {},
   "source": [
    "# Create an OmeZarr From a Numpy Array\n"
   ]
  },
  {
   "cell_type": "code",
   "execution_count": null,
   "metadata": {},
   "outputs": [],
   "source": [
    "import numpy as np\n",
    "\n",
    "from ngio import create_omezarr_from_array\n",
    "\n",
    "x = np.random.randint(0, 255, (16, 128, 128), dtype=np.uint8)\n",
    "\n",
    "new_omezarr_image = create_omezarr_from_array(\n",
    "    store=\"random_ome.zarr\", array=x, xy_pixelsize=0.65, z_spacing=1.0\n",
    ")\n",
    "print(new_omezarr_image)\n",
    "print(new_omezarr_image.get_image())"
   ]
  },
  {
   "cell_type": "markdown",
   "metadata": {},
   "source": [
    "## Steam an OmeZarr over HTTP\n",
    "\n",
    "The `OmeZarr` class can also be used to stream an image over HTTP. This is useful when the image is stored on a remote server and you want to access it without downloading the entire image. All features of the `OmeZarr` class are available when streaming an image over HTTP (besides anything that requires writing to the image)."
   ]
  },
  {
   "cell_type": "code",
   "execution_count": null,
   "metadata": {},
   "outputs": [],
   "source": [
    "import fsspec\n",
    "import fsspec.implementations.http\n",
    "\n",
    "url = (\n",
    "    \"https://raw.githubusercontent.com/\"\n",
    "    \"fractal-analytics-platform/fractal-ome-zarr-examples/\"\n",
    "    \"refs/heads/main/v04/\"\n",
    "    \"20200812-CardiomyocyteDifferentiation14-Cycle1_B_03_mip.zarr/\"\n",
    ")\n",
    "\n",
    "fs = fsspec.implementations.http.HTTPFileSystem(client_kwargs={})\n",
    "store = fs.get_mapper(url)\n",
    "omezarr = open_omezarr_container(store)\n",
    "omezarr"
   ]
  },
  {
   "cell_type": "markdown",
   "metadata": {},
   "source": [
    "# Streaming an OmeZarr from a Fractal Server\n",
    "\n",
    "Example:\n",
    "\n",
    "```python\n",
    "from ngio.utils import fractal_fsspec_store\n",
    "\n",
    "store = fractal_fsspec_store(url=\"https://fracral_url...\", fractal_token=\"**your_secret_token**\")\n",
    "omezarr = open_omezarr_container(store)\n",
    "omezarr\n",
    "```"
   ]
  }
 ],
 "metadata": {
  "kernelspec": {
   "display_name": "dev",
   "language": "python",
   "name": "python3"
  },
  "language_info": {
   "codemirror_mode": {
    "name": "ipython",
    "version": 3
   },
   "file_extension": ".py",
   "mimetype": "text/x-python",
   "name": "python",
   "nbconvert_exporter": "python",
   "pygments_lexer": "ipython3",
   "version": "3.11.11"
  }
 },
 "nbformat": 4,
 "nbformat_minor": 2
}
