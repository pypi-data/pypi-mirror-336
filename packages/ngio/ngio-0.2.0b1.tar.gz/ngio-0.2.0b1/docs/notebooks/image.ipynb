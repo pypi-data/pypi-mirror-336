{
 "cells": [
  {
   "cell_type": "markdown",
   "metadata": {},
   "source": [
    "# Images/Labels/Tables\n",
    "\n",
    "In this notebook we will show how to use the `Image`, `Label` and `Table` objects to do image processing."
   ]
  },
  {
   "cell_type": "code",
   "execution_count": null,
   "metadata": {},
   "outputs": [],
   "source": [
    "import matplotlib.pyplot as plt\n",
    "\n",
    "from ngio import open_omezarr_container\n",
    "from ngio.utils import download_ome_zarr_dataset\n",
    "\n",
    "hcs_path = download_ome_zarr_dataset(\"CardiomyocyteSmallMip\")\n",
    "image_path = hcs_path / \"B\" / \"03\" / \"0\"\n",
    "omezarr = open_omezarr_container(image_path)"
   ]
  },
  {
   "cell_type": "markdown",
   "metadata": {},
   "source": [
    "## Images\n",
    "\n",
    "Images can be loaded from a `OmeZarrContainer` object."
   ]
  },
  {
   "cell_type": "code",
   "execution_count": null,
   "metadata": {},
   "outputs": [],
   "source": [
    "image = omezarr.get_image()\n",
    "\n",
    "print(\"Image information:\")\n",
    "print(f\"{image.shape=}\")\n",
    "print(f\"{image.pixel_size=}\")\n",
    "print(f\"{image.channel_labels=}\")\n",
    "print(f\"{image.dimensions=}\")"
   ]
  },
  {
   "cell_type": "markdown",
   "metadata": {},
   "source": [
    "## Data Loading"
   ]
  },
  {
   "cell_type": "markdown",
   "metadata": {},
   "source": [
    "The `Image` object created is a lazy object, meaning that the image is not loaded into memory until it is needed.\n",
    "To get the image data from disk we can use the `.array` attribute or we can get it as a `dask.array` object using the `.dask_array` attribute."
   ]
  },
  {
   "cell_type": "code",
   "execution_count": null,
   "metadata": {},
   "outputs": [],
   "source": [
    "image.get_array(mode=\"dask\")  # this call is lazy"
   ]
  },
  {
   "cell_type": "markdown",
   "metadata": {},
   "source": [
    "Images can be queried for any axes, in any order"
   ]
  },
  {
   "cell_type": "code",
   "execution_count": null,
   "metadata": {},
   "outputs": [],
   "source": [
    "print(\"On disk shape: \", image.shape)\n",
    "\n",
    "# Axes order can be specified\n",
    "# if an axis is not present in the array, it will be added as a singleton dimension\n",
    "array = image.get_array(axes_order=[\"x\", \"t\", \"c\", \"y\", \"z\"], mode=\"dask\")\n",
    "\n",
    "print(\"Array shape: \", array.shape)"
   ]
  },
  {
   "cell_type": "markdown",
   "metadata": {},
   "source": [
    "## RoiTable/Image Interaction\n",
    "\n",
    "`roi` objects from a `roi_table` can be used to extract a region of interest from an image or a label."
   ]
  },
  {
   "cell_type": "code",
   "execution_count": null,
   "metadata": {},
   "outputs": [],
   "source": [
    "roi_table = omezarr.get_table(\"FOV_ROI_table\", check_type=\"roi_table\")\n",
    "# Get a roi by name\n",
    "roi = roi_table.get(\"FOV_1\")\n",
    "print(f\"{roi=}\")\n",
    "\n",
    "# .get_roi works exactly like .get_array\n",
    "# the only difference is that x, y, z, axes are queried from the roi object\n",
    "image_roi_1 = image.get_roi(roi=roi, c=0, mode=\"dask\")\n",
    "image_roi_1"
   ]
  },
  {
   "cell_type": "markdown",
   "metadata": {},
   "source": [
    "The roi object can is defined in physical coordinates, and can be used to extract the region of interest from the image or label at any resolution."
   ]
  },
  {
   "cell_type": "code",
   "execution_count": null,
   "metadata": {},
   "outputs": [],
   "source": [
    "image_2 = omezarr.get_image(path=\"2\")\n",
    "# Two images at different resolutions\n",
    "print(f\"{image.pixel_size=}\")\n",
    "print(f\"{image_2.pixel_size=}\")\n",
    "\n",
    "# Get roi for higher resolution image\n",
    "image_1_roi_1 = image.get_roi(roi=roi, c=0, mode=\"dask\")\n",
    "\n",
    "# Get roi for lower resolution image\n",
    "image_2_roi_1 = image_2.get_roi(roi=roi, c=0, mode=\"dask\")\n",
    "\n",
    "# Plot the two images side by side\n",
    "fig, axs = plt.subplots(1, 2, figsize=(10, 5))\n",
    "axs[0].imshow(image_1_roi_1[0, 0], cmap=\"gray\")\n",
    "axs[1].imshow(image_2_roi_1[0, 0], cmap=\"gray\")\n",
    "plt.show()"
   ]
  },
  {
   "cell_type": "markdown",
   "metadata": {},
   "source": [
    "# Writing Images\n",
    "\n",
    "Similarly to the `.array()`  we can use the `.set_array()` (or `set_array_from_roi`) method to write part of an image to disk."
   ]
  },
  {
   "cell_type": "code",
   "execution_count": null,
   "metadata": {},
   "outputs": [],
   "source": [
    "import numpy as np\n",
    "\n",
    "# Get a small slice of the image\n",
    "small_slice = image.get_array(x=slice(1000, 2000), y=slice(1000, 2000))\n",
    "\n",
    "# Set the sample slice to zeros\n",
    "zeros_slice = np.zeros_like(small_slice)\n",
    "image.set_array(patch=zeros_slice, x=slice(1000, 2000), y=slice(1000, 2000))\n",
    "\n",
    "\n",
    "# Load the image from disk and show the edited image\n",
    "nuclei = omezarr.get_label(\"nuclei\", path=\"0\")\n",
    "fig, axs = plt.subplots(1, 2, figsize=(10, 5))\n",
    "\n",
    "axs[0].imshow(image.get_array()[0, 0], cmap=\"gray\")\n",
    "axs[1].imshow(nuclei.get_array()[0])\n",
    "for ax in axs:\n",
    "    ax.axis(\"off\")\n",
    "plt.tight_layout()\n",
    "plt.show()\n",
    "\n",
    "# Add back the original slice to the image\n",
    "image.set_array(patch=small_slice, x=slice(1000, 2000), y=slice(1000, 2000))\n",
    "\n",
    "fig, axs = plt.subplots(1, 2, figsize=(10, 5))\n",
    "axs[0].imshow(image.get_array()[0, 0], cmap=\"gray\")\n",
    "axs[1].imshow(nuclei.get_array()[0])\n",
    "for ax in axs:\n",
    "    ax.axis(\"off\")\n",
    "plt.tight_layout()\n",
    "plt.show()"
   ]
  },
  {
   "cell_type": "markdown",
   "metadata": {},
   "source": [
    "## Deriving a new label\n",
    "\n",
    "When doing image analysis, we often need to create new labels or tables. The `ngff_image` allows us to simply create new labels and tables."
   ]
  },
  {
   "cell_type": "code",
   "execution_count": null,
   "metadata": {},
   "outputs": [],
   "source": [
    "# Create a a new label object and set it to a simple segmentation\n",
    "new_label = omezarr.derive_label(\"new_label\", overwrite=True)\n",
    "\n",
    "simple_segmentation = image.get_array(c=0) > 100\n",
    "simple_segmentation = simple_segmentation[0]\n",
    "new_label.set_array(simple_segmentation)\n",
    "\n",
    "# make a subplot with two image show side by side\n",
    "fig, axs = plt.subplots(1, 2, figsize=(10, 5))\n",
    "axs[0].imshow(image.get_array()[0, 0], cmap=\"gray\")\n",
    "axs[1].imshow(new_label.get_array()[0])\n",
    "for ax in axs:\n",
    "    ax.axis(\"off\")\n",
    "plt.tight_layout()\n",
    "plt.show()"
   ]
  },
  {
   "cell_type": "markdown",
   "metadata": {},
   "source": [
    "### Image Consolidation\n",
    "\n",
    "Every time we modify a label or a image, we are modifying the on-disk data on one layer only. \n",
    "This means that if we have the image saved in multiple resolutions, we need to consolidate the changes to all resolutions.\n",
    "To do so, we can use the `.consolidate()` method."
   ]
  },
  {
   "cell_type": "code",
   "execution_count": null,
   "metadata": {},
   "outputs": [],
   "source": [
    "label_0 = omezarr.get_label(\"new_label\", path=\"0\")\n",
    "label_2 = omezarr.get_label(\"new_label\", path=\"2\")\n",
    "\n",
    "label_before_consolidation = label_2.zarr_array[...]\n",
    "\n",
    "# Consolidate the label\n",
    "label_0.consolidate()\n",
    "\n",
    "label_after_consolidation = label_2.zarr_array[...]\n",
    "\n",
    "\n",
    "# make a subplot with two image show side by side\n",
    "fig, axs = plt.subplots(1, 2, figsize=(10, 5))\n",
    "axs[0].imshow(label_before_consolidation[0], cmap=\"gray\")\n",
    "axs[1].imshow(label_after_consolidation[0], cmap=\"gray\")\n",
    "for ax in axs:\n",
    "    ax.axis(\"off\")\n",
    "plt.tight_layout()\n",
    "plt.show()"
   ]
  },
  {
   "cell_type": "markdown",
   "metadata": {},
   "source": [
    "## Creating a new table\n",
    "\n",
    "We can simply create a new table by create a new `Table` object from a pandas dataframe.\n",
    "For a simple feature table the only reuiremnt is to have a integer column named `label` that will be used to link the table to the objects in the image.\n"
   ]
  },
  {
   "cell_type": "code",
   "execution_count": null,
   "metadata": {},
   "outputs": [],
   "source": [
    "import numpy as np\n",
    "import pandas as pd\n",
    "\n",
    "from ngio.tables import FeatureTable\n",
    "\n",
    "print(f\"List of all tables: {omezarr.list_tables()}\")\n",
    "\n",
    "\n",
    "nuclei = omezarr.get_label(\"nuclei\", path=\"0\")\n",
    "roi_table = omezarr.get_table(\"FOV_ROI_table\", check_type=\"roi_table\")\n",
    "\n",
    "# Create a table with random features for each nuclei in each ROI\n",
    "list_of_records = []\n",
    "for roi in roi_table.rois():\n",
    "    nuclei_in_roi = nuclei.get_roi(roi, mode=\"numpy\")\n",
    "    for nuclei_id in np.unique(nuclei_in_roi)[1:]:\n",
    "        list_of_records.append(\n",
    "            {\n",
    "                \"label\": nuclei_id,\n",
    "                \"feat1\": np.random.rand(),\n",
    "                \"feat2\": np.random.rand(),\n",
    "                \"ROI\": roi.name,\n",
    "            }\n",
    "        )\n",
    "\n",
    "feat_df = pd.DataFrame.from_records(list_of_records)\n",
    "\n",
    "feat_table = FeatureTable(feat_df, reference_label=\"nuclei\")\n",
    "\n",
    "omezarr.add_table(\"new_feature_table\", feat_table, overwrite=True)"
   ]
  },
  {
   "cell_type": "code",
   "execution_count": null,
   "metadata": {},
   "outputs": [],
   "source": [
    "feat_table = omezarr.get_table(\"new_feature_table\")\n",
    "feat_table.dataframe"
   ]
  }
 ],
 "metadata": {
  "kernelspec": {
   "display_name": "dev",
   "language": "python",
   "name": "python3"
  },
  "language_info": {
   "codemirror_mode": {
    "name": "ipython",
    "version": 3
   },
   "file_extension": ".py",
   "mimetype": "text/x-python",
   "name": "python",
   "nbconvert_exporter": "python",
   "pygments_lexer": "ipython3",
   "version": "3.11.11"
  }
 },
 "nbformat": 4,
 "nbformat_minor": 2
}
