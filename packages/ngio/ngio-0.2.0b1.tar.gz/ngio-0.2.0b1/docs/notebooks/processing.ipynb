{
 "cells": [
  {
   "cell_type": "markdown",
   "metadata": {},
   "source": [
    "# Processing\n",
    "\n",
    "In this notebook we will implement a couple of mock image analysis workflows using `ngio`."
   ]
  },
  {
   "cell_type": "markdown",
   "metadata": {},
   "source": [
    "## Maximum intensity projection\n",
    "\n",
    "In this workflow we will read a volumetric image and create a maximum intensity projection (MIP) along the z-axis."
   ]
  },
  {
   "cell_type": "markdown",
   "metadata": {},
   "source": [
    "### step 1: Create a ngff image\n",
    "\n",
    "For this example we will use the following publicly available [image]()"
   ]
  },
  {
   "cell_type": "code",
   "execution_count": null,
   "metadata": {},
   "outputs": [],
   "source": [
    "import matplotlib.pyplot as plt\n",
    "\n",
    "from ngio import open_omezarr_container\n",
    "from ngio.utils import download_ome_zarr_dataset\n",
    "\n",
    "hcs_path = download_ome_zarr_dataset(\"CardiomyocyteTiny\")\n",
    "image_path = hcs_path / \"B\" / \"03\" / \"0\"\n",
    "omezarr = open_omezarr_container(image_path)"
   ]
  },
  {
   "cell_type": "markdown",
   "metadata": {},
   "source": [
    "### step 2: Create a new ngff image to store the MIP"
   ]
  },
  {
   "cell_type": "code",
   "execution_count": null,
   "metadata": {},
   "outputs": [],
   "source": [
    "mip_omezarr = omezarr.derive_image(\n",
    "    \"data/20200812-CardiomyocyteDifferentiation14-Cycle1.zarr/B/03/0_mip\",\n",
    "    shape=(1, 1, 2160, 5120),\n",
    "    overwrite=True,\n",
    ")"
   ]
  },
  {
   "cell_type": "markdown",
   "metadata": {},
   "source": [
    "### step 3: Run the workflow\n",
    "For each roi in the image, create a MIP and store it in the new image"
   ]
  },
  {
   "cell_type": "code",
   "execution_count": null,
   "metadata": {},
   "outputs": [],
   "source": [
    "# Get the source imag\n",
    "source_image = omezarr.get_image()\n",
    "print(\"Source image loaded with shape:\", source_image.shape)\n",
    "\n",
    "# Get the MIP image\n",
    "mip_image = mip_omezarr.get_image()\n",
    "print(\"MIP image loaded with shape:\", mip_image.shape)\n",
    "\n",
    "# Get a ROI table\n",
    "roi_table = omezarr.get_table(\"FOV_ROI_table\", check_type=\"roi_table\")\n",
    "print(\"ROI table loaded with\", len(roi_table.rois()), \"ROIs\")\n",
    "\n",
    "# For each ROI in the table\n",
    "# - get the data from the source image\n",
    "# - calculate the MIP\n",
    "# - set the data in the MIP image\n",
    "for roi in roi_table.rois():\n",
    "    print(f\" - Processing ROI {roi.name}\")\n",
    "    patch = source_image.get_roi(roi)\n",
    "    mip_patch = patch.max(axis=1, keepdims=True)\n",
    "    mip_image.set_roi(patch=mip_patch, roi=roi)\n",
    "\n",
    "print(\"MIP image saved\")\n",
    "\n",
    "plt.figure(figsize=(5, 5))\n",
    "plt.title(\"Mip\")\n",
    "plt.imshow(mip_image.zarr_array[0, 0, :, :], cmap=\"gray\")\n",
    "plt.axis(\"off\")\n",
    "plt.tight_layout()\n",
    "plt.show()"
   ]
  },
  {
   "cell_type": "markdown",
   "metadata": {},
   "source": [
    "### step 4: Consolidate the results (!!! Important)\n",
    "In this we wrote the mip image to a single level of the image pyramid.\n",
    "To truly consolidate the results we would need to write the mip to all levels of the image pyramid.\n",
    "We can do this by calling the `.consolidate()` method on the image."
   ]
  },
  {
   "cell_type": "code",
   "execution_count": null,
   "metadata": {},
   "outputs": [],
   "source": [
    "# Get the MIP image at a lower resolution\n",
    "mip_image_2 = mip_omezarr.get_image(path=\"2\")\n",
    "\n",
    "image_before_consolidation = mip_image_2.get_array(c=0, z=0)\n",
    "\n",
    "# Consolidate the pyramid\n",
    "mip_image.consolidate()\n",
    "\n",
    "image_after_consolidation = mip_image_2.get_array(c=0, z=0)\n",
    "\n",
    "fig, axs = plt.subplots(2, 1, figsize=(10, 5))\n",
    "axs[0].set_title(\"Before consolidation\")\n",
    "axs[0].imshow(image_before_consolidation[0, 0], cmap=\"gray\")\n",
    "axs[1].set_title(\"After consolidation\")\n",
    "axs[1].imshow(image_after_consolidation[0, 0], cmap=\"gray\")\n",
    "for ax in axs:\n",
    "    ax.axis(\"off\")\n",
    "plt.tight_layout()\n",
    "plt.show()"
   ]
  },
  {
   "cell_type": "markdown",
   "metadata": {},
   "source": [
    "### step 5: Create a new ROI table\n",
    "\n",
    "As a final step we will create a new ROI table that contains the MIPs as ROIs.\n",
    "Where we correct the `z` bounds of the ROIs to reflect the MIP."
   ]
  },
  {
   "cell_type": "code",
   "execution_count": null,
   "metadata": {},
   "outputs": [],
   "source": [
    "from ngio.tables import RoiTable\n",
    "\n",
    "roi_list = []\n",
    "for roi in roi_table.rois():\n",
    "    print(f\" - Processing ROI {roi.name}\")\n",
    "    roi.z_length = 1  # In the MIP image, the z dimension is 1\n",
    "    roi_list.append(roi)\n",
    "\n",
    "mip_roi_table = RoiTable(rois=roi_list)\n",
    "\n",
    "mip_omezarr.add_table(\"FOV_ROI_table\", mip_roi_table)"
   ]
  },
  {
   "cell_type": "markdown",
   "metadata": {},
   "source": [
    "## Image segmentation\n",
    "\n",
    "Now we can use the MIP image to segment the image using a simple thresholding algorithm."
   ]
  },
  {
   "cell_type": "code",
   "execution_count": null,
   "metadata": {},
   "outputs": [],
   "source": [
    "# Setup a simple segmentation function\n",
    "\n",
    "import numpy as np\n",
    "from matplotlib.colors import ListedColormap\n",
    "from skimage.filters import threshold_otsu\n",
    "from skimage.measure import label\n",
    "\n",
    "rand_cmap = np.random.rand(1000, 3)\n",
    "rand_cmap[0] = 0\n",
    "rand_cmap = ListedColormap(rand_cmap)\n",
    "\n",
    "\n",
    "def otsu_threshold_segmentation(image: np.ndarray, max_label: int) -> np.ndarray:\n",
    "    \"\"\"Simple segmentation using Otsu thresholding.\"\"\"\n",
    "    threshold = threshold_otsu(image)\n",
    "    binary = image > threshold\n",
    "    label_image = label(binary)\n",
    "    label_image += max_label\n",
    "    label_image = np.where(binary, label_image, 0)\n",
    "    return label_image"
   ]
  },
  {
   "cell_type": "markdown",
   "metadata": {},
   "source": [
    "### step 1: Derive a new label image from the MIP image"
   ]
  },
  {
   "cell_type": "code",
   "execution_count": null,
   "metadata": {},
   "outputs": [],
   "source": [
    "nuclei_image = mip_omezarr.derive_label(name=\"nuclei\", overwrite=True)"
   ]
  },
  {
   "cell_type": "markdown",
   "metadata": {},
   "source": [
    "### step 2: Run the workflow"
   ]
  },
  {
   "cell_type": "code",
   "execution_count": null,
   "metadata": {},
   "outputs": [],
   "source": [
    "# Get the source imag\n",
    "source_image = mip_omezarr.get_image()\n",
    "print(\"Source image loaded with shape:\", source_image.shape)\n",
    "\n",
    "# Get a ROI table\n",
    "roi_table = mip_omezarr.get_table(\"FOV_ROI_table\", check_type=\"roi_table\")\n",
    "print(\"ROI table loaded with\", len(roi_table.rois()), \"ROIs\")\n",
    "\n",
    "# Find the DAPI channel\n",
    "dapi_idx = source_image.channel_labels.index(\"DAPI\")\n",
    "\n",
    "# For each ROI in the table\n",
    "# - get the data from the source image\n",
    "# - calculate the Segmentation\n",
    "# - set the data in segmentation image\n",
    "max_label = 0\n",
    "for roi in roi_table.rois():\n",
    "    print(f\" - Processing ROI {roi.name}\")\n",
    "    patch = source_image.get_roi(roi, c=dapi_idx)\n",
    "    segmentation = otsu_threshold_segmentation(patch, max_label)\n",
    "\n",
    "    # Add the max label of the previous segmentation to avoid overlapping labels\n",
    "    segmentation = segmentation[0]\n",
    "    max_label = segmentation.max()\n",
    "\n",
    "    nuclei_image.set_roi(patch=segmentation, roi=roi)\n",
    "\n",
    "# Consolidate the segmentation image\n",
    "nuclei_image.consolidate()\n",
    "\n",
    "print(\"Segmentation image saved\")\n",
    "fig, axs = plt.subplots(2, 1, figsize=(10, 5))\n",
    "axs[0].set_title(\"MIP\")\n",
    "axs[0].imshow(source_image.zarr_array[0, 0], cmap=\"gray\")\n",
    "axs[1].set_title(\"Nuclei segmentation\")\n",
    "axs[1].imshow(nuclei_image.zarr_array[0], cmap=rand_cmap, interpolation=\"nearest\")\n",
    "for ax in axs:\n",
    "    ax.axis(\"off\")\n",
    "plt.tight_layout()\n",
    "plt.show()"
   ]
  },
  {
   "cell_type": "code",
   "execution_count": null,
   "metadata": {},
   "outputs": [],
   "source": []
  }
 ],
 "metadata": {
  "kernelspec": {
   "display_name": "dev",
   "language": "python",
   "name": "python3"
  },
  "language_info": {
   "codemirror_mode": {
    "name": "ipython",
    "version": 3
   },
   "file_extension": ".py",
   "mimetype": "text/x-python",
   "name": "python",
   "nbconvert_exporter": "python",
   "pygments_lexer": "ipython3",
   "version": "3.11.11"
  }
 },
 "nbformat": 4,
 "nbformat_minor": 2
}
