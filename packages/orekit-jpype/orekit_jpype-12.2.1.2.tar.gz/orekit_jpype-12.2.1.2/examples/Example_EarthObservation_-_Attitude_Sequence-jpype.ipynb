{
 "cells": [
  {
   "cell_type": "markdown",
   "metadata": {},
   "source": [
    "# Attitude Sequence"
   ]
  },
  {
   "cell_type": "markdown",
   "metadata": {},
   "source": [
    "This example is based on the attitude tutorial in the orekit library and webpage https://www.orekit.org/static/tutorial/attitude.html by Luc Maisonobe written in Java. This version of the example is based on ipython notebook, using a python-wrapped version of the orekit library, as a demonstration of the python capabilities and as a tutorial. Conversion made by Petrus Hyvönen, SSC, 2014."
   ]
  },
  {
   "cell_type": "markdown",
   "metadata": {},
   "source": [
    "This example uses AttitudesSequence that enables easy switching between attitude laws on event occurrences when propagating some SpacecraftState."
   ]
  },
  {
   "cell_type": "code",
   "execution_count": 1,
   "metadata": {},
   "outputs": [
    {
     "name": "stdout",
     "output_type": "stream",
     "text": [
      "%pylab is deprecated, use %matplotlib inline and import the required libraries.\n",
      "Populating the interactive namespace from numpy and matplotlib\n"
     ]
    }
   ],
   "source": [
    "%matplotlib inline\n",
    "from matplotlib import pyplot as plt\n",
    "import math"
   ]
  },
  {
   "cell_type": "markdown",
   "metadata": {},
   "source": [
    "## Initialize orekit and the Java VM "
   ]
  },
  {
   "cell_type": "code",
   "execution_count": 2,
   "metadata": {},
   "outputs": [],
   "source": [
    "#initialize orekit and JVM\n",
    "import orekit_jpype as orekit\n",
    "orekit.initVM()"
   ]
  },
  {
   "cell_type": "code",
   "execution_count": 3,
   "metadata": {},
   "outputs": [],
   "source": [
    "from orekit_jpype.pyhelpers import setup_orekit_data"
   ]
  },
  {
   "cell_type": "code",
   "execution_count": 4,
   "metadata": {},
   "outputs": [],
   "source": [
    "setup_orekit_data()"
   ]
  },
  {
   "cell_type": "code",
   "execution_count": 5,
   "metadata": {},
   "outputs": [],
   "source": [
    "from jpype import JImplements, JOverride"
   ]
  },
  {
   "cell_type": "code",
   "execution_count": 6,
   "metadata": {},
   "outputs": [],
   "source": [
    "from org.hipparchus.geometry.euclidean.threed import RotationOrder\n",
    "from org.hipparchus.geometry.euclidean.threed import Vector3D\n",
    "from org.hipparchus.ode.events import Action"
   ]
  },
  {
   "cell_type": "code",
   "execution_count": 7,
   "metadata": {},
   "outputs": [],
   "source": [
    "from org.orekit.attitudes import AttitudeProvider;\n",
    "from org.orekit.attitudes import AttitudesSequence;\n",
    "from org.orekit.attitudes import LofOffset;\n",
    "from org.orekit.bodies import CelestialBodyFactory, OneAxisEllipsoid;\n",
    "from org.orekit.errors import OrekitException;\n",
    "from org.orekit.frames import FramesFactory;\n",
    "from org.orekit.frames import LOFType;\n",
    "from org.orekit.orbits import KeplerianOrbit;\n",
    "from org.orekit.orbits import Orbit;\n",
    "from org.orekit.propagation import Propagator;\n",
    "from org.orekit.propagation import SpacecraftState;\n",
    "from org.orekit.propagation.analytical import EcksteinHechlerPropagator;\n",
    "from org.orekit.propagation.events import EclipseDetector;\n",
    "from org.orekit.propagation.events import EventDetector;\n",
    "from org.orekit.propagation.events.handlers import EventHandler\n",
    "from org.orekit.propagation.sampling import OrekitFixedStepHandler\n",
    "from org.orekit.time import AbsoluteDate;\n",
    "from org.orekit.time import TimeScalesFactory;\n",
    "from org.orekit.utils import Constants, IERSConventions, AngularDerivativesFilter\n",
    "from org.orekit.utils import PVCoordinates;\n",
    "from org.orekit.utils import PVCoordinatesProvider"
   ]
  },
  {
   "cell_type": "markdown",
   "metadata": {},
   "source": [
    "Let's set up an initial state as:\n",
    "\n",
    "- a date in UTC time scale\n",
    "- an orbit defined by the position and the velocity of the spacecraft in the EME2000 inertial frame and an associated central attraction coefficient chosen among many physical constants available in Orekit.\n",
    "\n",
    "The initial orbit is here defined as a KeplerianOrbit."
   ]
  },
  {
   "cell_type": "code",
   "execution_count": 8,
   "metadata": {},
   "outputs": [],
   "source": [
    "initialDate =  AbsoluteDate(2004, 1, 1, 23, 30, 00.000, TimeScalesFactory.getUTC())\n",
    "position  = Vector3D(-6142438.668, 3492467.560, -25767.25680);\n",
    "velocity  = Vector3D(505.8479685, 942.7809215, 7435.922231);\n",
    "initialOrbit =  KeplerianOrbit(PVCoordinates(position, velocity),\n",
    "                                                          FramesFactory.getEME2000(), initialDate,\n",
    "                                                          Constants.EIGEN5C_EARTH_MU);"
   ]
  },
  {
   "cell_type": "code",
   "execution_count": 9,
   "metadata": {
    "pinned_outputs": []
   },
   "outputs": [
    {
     "name": "stdout",
     "output_type": "stream",
     "text": [
      "Keplerian parameters: {a: 7069220.386682823; e: 4.777356060557311E-4; i: 98.18525099174988; pa: 13.741061002484528; raan: 150.34825333049; v: -13.952151446378437;}\n"
     ]
    }
   ],
   "source": [
    "print(initialOrbit)"
   ]
  },
  {
   "cell_type": "markdown",
   "metadata": {},
   "source": [
    "More details on the orbit representation can be found in the orbits section of the library architecture documentation. \n",
    "\n",
    "Note that in the python wrapping of orekit the format of numbers is important, such that floats needs to be specified with a decimal point such as in the AbsoluteDate above where seconds are a float.\n",
    "\n",
    "## Attitude Laws\n",
    "Let's define a couple of AttitudeLaw for our satellite, one for daytime and one for nighttime, built upon Local Orbital Frame (LOF) Offset laws. VVLH is a coodrinate system based on Vehicle Velocity, Local Horizontal frame (Z axis aligned with nadir vector, X-Y is in horizontal plane, where the X-axis is along the velocity vector). \n",
    "\n",
    "The offset is defined in Cardan angles (RotationOrder.XYZ)."
   ]
  },
  {
   "cell_type": "code",
   "execution_count": 10,
   "metadata": {},
   "outputs": [
    {
     "ename": "NameError",
     "evalue": "name 'math' is not defined",
     "output_type": "error",
     "traceback": [
      "\u001b[0;31m---------------------------------------------------------------------------\u001b[0m",
      "\u001b[0;31mNameError\u001b[0m                                 Traceback (most recent call last)",
      "Cell \u001b[0;32mIn[10], line 4\u001b[0m\n\u001b[1;32m      1\u001b[0m dayObservationLaw \u001b[38;5;241m=\u001b[39m  LofOffset(initialOrbit\u001b[38;5;241m.\u001b[39mgetFrame(), \n\u001b[1;32m      2\u001b[0m                                LOFType\u001b[38;5;241m.\u001b[39mVVLH,\n\u001b[1;32m      3\u001b[0m                                RotationOrder\u001b[38;5;241m.\u001b[39mXYZ, \n\u001b[0;32m----> 4\u001b[0m                                \u001b[43mmath\u001b[49m\u001b[38;5;241m.\u001b[39mradians(\u001b[38;5;241m20\u001b[39m), math\u001b[38;5;241m.\u001b[39mradians(\u001b[38;5;241m40\u001b[39m), \u001b[38;5;241m0\u001b[39m)\n",
      "\u001b[0;31mNameError\u001b[0m: name 'math' is not defined"
     ]
    }
   ],
   "source": [
    "dayObservationLaw =  LofOffset(initialOrbit.getFrame(), \n",
    "                               LOFType.VVLH,\n",
    "                               RotationOrder.XYZ, \n",
    "                               math.radians(20), math.radians(40), 0)"
   ]
  },
  {
   "cell_type": "markdown",
   "metadata": {},
   "source": [
    "In night we want the pointing to be in LOF aligned. "
   ]
  },
  {
   "cell_type": "code",
   "execution_count": null,
   "metadata": {},
   "outputs": [],
   "source": [
    "nightRestingLaw   = LofOffset(initialOrbit.getFrame(), LOFType.VVLH)"
   ]
  },
  {
   "cell_type": "markdown",
   "metadata": {},
   "source": [
    "## Event Detectors\n",
    "\n",
    "Let's also define some EventDetectors for the switching. For this tutorial's requirements, two specialized event detectors are built \n",
    "upon an EclipseDetector:\n",
    "\n",
    "one, dayNightEvent, to detect the day to night transition,\n",
    "another, nightDayEvent, to detect the night to day transition.\n",
    "This is done by overriding the eventOccurred method of the standard EclipseDetector. To override methods in a java class in Python,\n",
    "a special wrapped version of the class is used, called PythonElevationDetector. When subclassing Orekit classes in Python, all methods of that interface needs to be defined, if so just with a \"pass\" statement."
   ]
  },
  {
   "cell_type": "code",
   "execution_count": null,
   "metadata": {},
   "outputs": [],
   "source": [
    "@JImplements(EventHandler)\n",
    "class myNightEclipseDetector():\n",
    "\n",
    "    @JOverride\n",
    "    def init(self, s, T, detector):\n",
    "        pass\n",
    "\n",
    "    @JOverride\n",
    "    def eventOccurred(self, s, detector, increasing):\n",
    "        if not increasing:\n",
    "            print(\"\\n\", s.getDate(),\" : event occurred, entering eclipse => switching to night law\\n\")\n",
    "        return Action.CONTINUE\n",
    "    \n",
    "    @JOverride   \n",
    "    def resetState(self, detector, oldState):\n",
    "        return oldState;"
   ]
  },
  {
   "cell_type": "code",
   "execution_count": null,
   "metadata": {},
   "outputs": [],
   "source": [
    "@JImplements(EventHandler)\n",
    "class myDayEclipseDetector():\n",
    "    @JOverride  \n",
    "    def init(self, s, T, detector):\n",
    "        pass\n",
    "    \n",
    "    @JOverride\n",
    "    def eventOccurred(self, s, detector, increasing):\n",
    "        if increasing:\n",
    "            print(\"\\n\", s.getDate(),\" : event occurred, exiting eclipse => switching to day law\\n\")\n",
    "        return Action.CONTINUE\n",
    "\n",
    "    @JOverride\n",
    "    def resetState(self, detector, oldState):\n",
    "        return oldState"
   ]
  },
  {
   "cell_type": "markdown",
   "metadata": {},
   "source": [
    "For the eclipse calculation we want to use the Sun and the Earth."
   ]
  },
  {
   "cell_type": "code",
   "execution_count": null,
   "metadata": {},
   "outputs": [],
   "source": [
    "sun = CelestialBodyFactory.getSun()"
   ]
  },
  {
   "cell_type": "code",
   "execution_count": null,
   "metadata": {},
   "outputs": [],
   "source": [
    "earth = OneAxisEllipsoid(Constants.WGS84_EARTH_EQUATORIAL_RADIUS,\n",
    "                         0.0,\n",
    "                         FramesFactory.getITRF(IERSConventions.IERS_2010, True))"
   ]
  },
  {
   "cell_type": "markdown",
   "metadata": {},
   "source": [
    "Create the actual detectors with the the handlers specified above."
   ]
  },
  {
   "cell_type": "code",
   "execution_count": null,
   "metadata": {},
   "outputs": [],
   "source": [
    "dayNightEvent = EclipseDetector(sun, 696000000., earth)\n",
    "dayNightEvent = dayNightEvent.withHandler(myNightEclipseDetector()) #.of_(EclipseDetector))"
   ]
  },
  {
   "cell_type": "code",
   "execution_count": null,
   "metadata": {},
   "outputs": [],
   "source": [
    "nightDayEvent = EclipseDetector(sun, 696000000., earth)\n",
    "nightDayEvent = nightDayEvent.withHandler(myDayEclipseDetector()) #.of_(EclipseDetector))"
   ]
  },
  {
   "cell_type": "markdown",
   "metadata": {},
   "source": [
    "More details on event detectors can be found in the propagation section of the library architecture documentation.\n",
    "\n",
    "## Attitude Sequence Definition\n",
    "\n",
    "An AttitudesSequence is then defined, for the sake of this tutorial, by adding two switching conditions acting as a simple loop:\n",
    "\n",
    "- the first one enables the transition from dayObservationLaw to nightRestingLaw when a decreasing dayNightEvent occurs,\n",
    "- the second one enables the transition from nightRestingLaw to dayObservationLaw when an increasing nightDayEvent occurs.\n"
   ]
  },
  {
   "cell_type": "code",
   "execution_count": null,
   "metadata": {},
   "outputs": [],
   "source": [
    "attitudesSequence = AttitudesSequence()\n",
    "\n",
    "# Should add something more on Switching\n",
    "\n",
    "attitudesSequence.addSwitchingCondition(dayObservationLaw, nightRestingLaw,\n",
    "                                        dayNightEvent, False, True, 10.0, \n",
    "                                        AngularDerivativesFilter.USE_R, None)\n",
    "\n",
    "\n",
    "attitudesSequence.addSwitchingCondition(nightRestingLaw, dayObservationLaw, nightDayEvent, True, False, 10.0, AngularDerivativesFilter.USE_R,  None)"
   ]
  },
  {
   "cell_type": "markdown",
   "metadata": {},
   "source": [
    "An AttitudesSequence needs at least one switching condition to be meaningful, but there is no upper limit.\n",
    "\n",
    "An active AttitudeLaw may have several switch events and next law settings, leading to different activation patterns depending on which event is triggered first.\n",
    "\n",
    "So, don't forget to set the current active law according to the current state:"
   ]
  },
  {
   "cell_type": "code",
   "execution_count": null,
   "metadata": {},
   "outputs": [],
   "source": [
    "if (dayNightEvent.g(SpacecraftState(initialOrbit)) >= 0):\n",
    "    # initial position is in daytime\n",
    "    attitudesSequence.resetActiveProvider(dayObservationLaw);\n",
    "else:\n",
    "    # initial position is in nighttime\n",
    "    attitudesSequence.resetActiveProvider(nightRestingLaw);"
   ]
  },
  {
   "cell_type": "markdown",
   "metadata": {},
   "source": [
    "## Orbit Propagation\n",
    "\n",
    "Now, let's choose some propagator to compute the spacecraft motion. We will use an EcksteinHechlerPropagator based on the analytical Eckstein-Hechler model. The propagator is built upon the initialOrbit, the attitudeSequence and physical constants for the gravity field potential."
   ]
  },
  {
   "cell_type": "code",
   "execution_count": null,
   "metadata": {},
   "outputs": [],
   "source": [
    "propagator = EcksteinHechlerPropagator(initialOrbit, attitudesSequence,\n",
    "                                                            Constants.EIGEN5C_EARTH_EQUATORIAL_RADIUS,\n",
    "                                                            Constants.EIGEN5C_EARTH_MU, Constants.EIGEN5C_EARTH_C20,\n",
    "                                                            Constants.EIGEN5C_EARTH_C30, Constants.EIGEN5C_EARTH_C40,\n",
    "                                                            Constants.EIGEN5C_EARTH_C50, Constants.EIGEN5C_EARTH_C60)"
   ]
  },
  {
   "cell_type": "markdown",
   "metadata": {},
   "source": [
    "The attitudeSequence must register all the switching events before propagation."
   ]
  },
  {
   "cell_type": "code",
   "execution_count": null,
   "metadata": {},
   "outputs": [],
   "source": [
    "# Register the switching events to the propagator\n",
    "attitudesSequence.registerSwitchEvents(propagator)"
   ]
  },
  {
   "cell_type": "markdown",
   "metadata": {},
   "source": [
    "The propagator operating mode is set to master mode with fixed step. The implementation of the interface OrekitFixedStepHandler aims to define the handleStep method called within the loop. For the purpose of this tutorial, the handleStep method will print at the current date two angles, the first one indicates if the spacecraft is eclipsed while the second informs about the current attitude law."
   ]
  },
  {
   "cell_type": "code",
   "execution_count": null,
   "metadata": {},
   "outputs": [],
   "source": [
    "@JImplements(OrekitFixedStepHandler)\n",
    "class mystephandler():\n",
    "    \n",
    "    eclipseAngles = []\n",
    "    pointingOffsets = []\n",
    "    dates = []\n",
    "\n",
    "    @JOverride\n",
    "    def init(self,s0, t, step):\n",
    "        pass\n",
    "\n",
    "    @JOverride\n",
    "    def handleStep(self,currentState):\n",
    "        # the Earth position in spacecraft frame should be along spacecraft Z axis\n",
    "        # during nigthtime and away from it during daytime due to roll and pitch offsets\n",
    "        earth = currentState.toTransform().transformPosition(Vector3D.ZERO)\n",
    "        pointingOffset = Vector3D.angle(earth, Vector3D.PLUS_K)\n",
    "\n",
    "        # the g function is the eclipse indicator, its an angle between Sun and Earth limb,\n",
    "        # positive when Sun is outside of Earth limb, negative when Sun is hidden by Earth limb\n",
    "        eclipseAngle = dayNightEvent.g(currentState)\n",
    "        print (\"%s    %6.3f    %6.1f\" % (currentState.getDate(), eclipseAngle, math.degrees(pointingOffset)))\n",
    "        \n",
    "        self.eclipseAngles.append(eclipseAngle)\n",
    "        self.pointingOffsets.append(math.degrees(pointingOffset))\n",
    "        self.dates.append(currentState.getDate())\n",
    "        \n",
    "    @JOverride\n",
    "    def finish(self, s):\n",
    "        pass"
   ]
  },
  {
   "cell_type": "code",
   "execution_count": null,
   "metadata": {},
   "outputs": [],
   "source": [
    "handler = mystephandler()\n",
    "propagator.setStepHandler(180.0, handler)"
   ]
  },
  {
   "cell_type": "markdown",
   "metadata": {},
   "source": [
    "More details on propagation modes can be found in the propagation section of the library architecture documentation.\n",
    "\n",
    "Finally, the propagator is just asked to propagate for a given duration."
   ]
  },
  {
   "cell_type": "code",
   "execution_count": null,
   "metadata": {},
   "outputs": [],
   "source": [
    "# Propagate from the initial date for the fixed duration\n",
    "finalState = propagator.propagate(initialDate, initialDate.shiftedBy(12600.))"
   ]
  },
  {
   "cell_type": "code",
   "execution_count": null,
   "metadata": {},
   "outputs": [],
   "source": [
    "print(\"Propagation ended at \" + str(finalState.getDate().toString()))"
   ]
  },
  {
   "cell_type": "code",
   "execution_count": null,
   "metadata": {},
   "outputs": [],
   "source": [
    "finalState"
   ]
  },
  {
   "cell_type": "code",
   "execution_count": null,
   "metadata": {},
   "outputs": [],
   "source": [
    "ip = get_ipython()\n",
    "ip.sphinxify_docstring = False\n",
    "ip.enable_html_pager = False"
   ]
  },
  {
   "cell_type": "code",
   "execution_count": null,
   "metadata": {},
   "outputs": [],
   "source": [
    "finalState"
   ]
  },
  {
   "cell_type": "markdown",
   "metadata": {},
   "source": [
    "## Present Results\n",
    "\n",
    "To plot nicely in Python, we should convert the orekit AbsoluteDate to python DateTime objects."
   ]
  },
  {
   "cell_type": "code",
   "execution_count": null,
   "metadata": {},
   "outputs": [],
   "source": [
    "from orekit_jpype.pyhelpers import absolutedate_to_datetime"
   ]
  },
  {
   "cell_type": "code",
   "execution_count": null,
   "metadata": {},
   "outputs": [],
   "source": [
    "pydates = [absolutedate_to_datetime(t) for t in handler.dates]"
   ]
  },
  {
   "cell_type": "code",
   "execution_count": null,
   "metadata": {},
   "outputs": [],
   "source": [
    "plt.xticks(rotation=90)\n",
    "ax = plt.gca()\n",
    "ax2 = ax.twinx()\n",
    "\n",
    "ax.plot(pydates,handler.eclipseAngles, color='blue')\n",
    "ax.set_ylabel('Eclipse Angle', color='blue')\n",
    "\n",
    "ax2.plot(pydates, handler.pointingOffsets, color='green')\n",
    "ax2.set_ylabel('Pointing offset', color='green');"
   ]
  },
  {
   "cell_type": "markdown",
   "metadata": {},
   "source": [
    "The java code for similar example can be found in the source tree of the library, in file:\n",
    "\n",
    "    src/tutorials/fr/cs/examples/attitude/EarthObservation.java\n"
   ]
  },
  {
   "cell_type": "code",
   "execution_count": null,
   "metadata": {},
   "outputs": [],
   "source": []
  },
  {
   "cell_type": "code",
   "execution_count": null,
   "metadata": {},
   "outputs": [],
   "source": []
  }
 ],
 "metadata": {
  "anaconda-cloud": {},
  "hide_input": false,
  "kernelspec": {
   "display_name": "Python 3 (ipykernel)",
   "language": "python",
   "name": "python3"
  },
  "language_info": {
   "codemirror_mode": {
    "name": "ipython",
    "version": 3
   },
   "file_extension": ".py",
   "mimetype": "text/x-python",
   "name": "python",
   "nbconvert_exporter": "python",
   "pygments_lexer": "ipython3",
   "version": "3.12.2"
  },
  "toc": {
   "base_numbering": 1,
   "nav_menu": {},
   "number_sections": false,
   "sideBar": true,
   "skip_h1_title": false,
   "title_cell": "Table of Contents",
   "title_sidebar": "Contents",
   "toc_cell": false,
   "toc_position": {},
   "toc_section_display": "block",
   "toc_window_display": true
  },
  "vscode": {
   "interpreter": {
    "hash": "1feafa5877f2f34c9601a0a04d01d2a17e938b33d8b3b33d922b3fb13833df68"
   }
  }
 },
 "nbformat": 4,
 "nbformat_minor": 4
}
