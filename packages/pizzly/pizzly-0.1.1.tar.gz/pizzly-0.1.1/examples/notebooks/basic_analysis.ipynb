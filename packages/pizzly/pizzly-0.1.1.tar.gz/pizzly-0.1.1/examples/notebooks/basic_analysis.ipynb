{
 "cells": [
  {
   "cell_type": "code",
   "execution_count": 1,
   "metadata": {},
   "outputs": [
    {
     "name": "stderr",
     "output_type": "stream",
     "text": [
      "/Users/louisbrulenaudet/Documents/GitHub/agentic-market-tool/.venv/lib/python3.12/site-packages/tqdm/auto.py:21: TqdmWarning: IProgress not found. Please update jupyter and ipywidgets. See https://ipywidgets.readthedocs.io/en/stable/user_install.html\n",
      "  from .autonotebook import tqdm as notebook_tqdm\n"
     ]
    }
   ],
   "source": [
    "import os\n",
    "from datetime import datetime\n",
    "\n",
    "from dotenv import load_dotenv\n",
    "from smolagents import DuckDuckGoSearchTool, HfApiModel\n",
    "from smolagents.agents import ToolCallingAgent\n",
    "\n",
    "from pizzly import AlpacaStock, FinancialTool"
   ]
  },
  {
   "cell_type": "code",
   "execution_count": 2,
   "metadata": {},
   "outputs": [
    {
     "data": {
      "text/plain": [
       "True"
      ]
     },
     "execution_count": 2,
     "metadata": {},
     "output_type": "execute_result"
    }
   ],
   "source": [
    "load_dotenv()"
   ]
  },
  {
   "cell_type": "code",
   "execution_count": 3,
   "metadata": {},
   "outputs": [],
   "source": [
    "hf_token = os.getenv(\"HF_TOKEN\", \"hf_\")\n",
    "api_key = os.getenv(\"ALPACA_API_KEY\", \"\")\n",
    "secret_key = os.getenv(\"ALPACA_API_SECRET\", \"\")"
   ]
  },
  {
   "cell_type": "code",
   "execution_count": 4,
   "metadata": {},
   "outputs": [],
   "source": [
    "model = HfApiModel(\"meta-llama/Llama-3.3-70B-Instruct\", token=hf_token)\n",
    "data_provider = AlpacaStock(api_key, secret_key)\n",
    "\n",
    "market_analysis_tool = FinancialTool(data_provider=data_provider)\n",
    "\n",
    "search_tool = DuckDuckGoSearchTool()\n",
    "\n",
    "agent = ToolCallingAgent(tools=[market_analysis_tool, search_tool], model=model)"
   ]
  },
  {
   "cell_type": "code",
   "execution_count": 5,
   "metadata": {},
   "outputs": [],
   "source": [
    "prompt = f\"\"\"Please give me a detailed analysis of the market conditions for NVDA.\n",
    "    Include:\n",
    "    - Technical indicators (RSI, Bollinger Bands) using financial_tool\n",
    "    - Current news sentiment\n",
    "    - PE ratio comparison with industry\n",
    "    - Market trend analysis\n",
    "The date of the day is {datetime.now().strftime(\"%Y-%m-%d\")}.\"\"\""
   ]
  },
  {
   "cell_type": "code",
   "execution_count": 6,
   "metadata": {},
   "outputs": [
    {
     "data": {
      "text/html": [
       "<pre style=\"white-space:pre;overflow-x:auto;line-height:normal;font-family:Menlo,'DejaVu Sans Mono',consolas,'Courier New',monospace\"><span style=\"color: #d4b702; text-decoration-color: #d4b702\">╭──────────────────────────────────────────────────── </span><span style=\"color: #d4b702; text-decoration-color: #d4b702; font-weight: bold\">New run</span><span style=\"color: #d4b702; text-decoration-color: #d4b702\"> ────────────────────────────────────────────────────╮</span>\n",
       "<span style=\"color: #d4b702; text-decoration-color: #d4b702\">│</span>                                                                                                                 <span style=\"color: #d4b702; text-decoration-color: #d4b702\">│</span>\n",
       "<span style=\"color: #d4b702; text-decoration-color: #d4b702\">│</span> <span style=\"font-weight: bold\">Please give me a detailed analysis of the market conditions for NVDA.</span>                                           <span style=\"color: #d4b702; text-decoration-color: #d4b702\">│</span>\n",
       "<span style=\"color: #d4b702; text-decoration-color: #d4b702\">│</span> <span style=\"font-weight: bold\">    Include:</span>                                                                                                    <span style=\"color: #d4b702; text-decoration-color: #d4b702\">│</span>\n",
       "<span style=\"color: #d4b702; text-decoration-color: #d4b702\">│</span> <span style=\"font-weight: bold\">    - Technical indicators (RSI, Bollinger Bands) using financial_tool</span>                                          <span style=\"color: #d4b702; text-decoration-color: #d4b702\">│</span>\n",
       "<span style=\"color: #d4b702; text-decoration-color: #d4b702\">│</span> <span style=\"font-weight: bold\">    - Current news sentiment</span>                                                                                    <span style=\"color: #d4b702; text-decoration-color: #d4b702\">│</span>\n",
       "<span style=\"color: #d4b702; text-decoration-color: #d4b702\">│</span> <span style=\"font-weight: bold\">    - PE ratio comparison with industry</span>                                                                         <span style=\"color: #d4b702; text-decoration-color: #d4b702\">│</span>\n",
       "<span style=\"color: #d4b702; text-decoration-color: #d4b702\">│</span> <span style=\"font-weight: bold\">    - Market trend analysis</span>                                                                                     <span style=\"color: #d4b702; text-decoration-color: #d4b702\">│</span>\n",
       "<span style=\"color: #d4b702; text-decoration-color: #d4b702\">│</span> <span style=\"font-weight: bold\">The date of the day is 2025-03-24.</span>                                                                              <span style=\"color: #d4b702; text-decoration-color: #d4b702\">│</span>\n",
       "<span style=\"color: #d4b702; text-decoration-color: #d4b702\">│</span>                                                                                                                 <span style=\"color: #d4b702; text-decoration-color: #d4b702\">│</span>\n",
       "<span style=\"color: #d4b702; text-decoration-color: #d4b702\">╰─ HfApiModel - meta-llama/Llama-3.3-70B-Instruct ────────────────────────────────────────────────────────────────╯</span>\n",
       "</pre>\n"
      ],
      "text/plain": [
       "\u001b[38;2;212;183;2m╭─\u001b[0m\u001b[38;2;212;183;2m───────────────────────────────────────────────────\u001b[0m\u001b[38;2;212;183;2m \u001b[0m\u001b[1;38;2;212;183;2mNew run\u001b[0m\u001b[38;2;212;183;2m \u001b[0m\u001b[38;2;212;183;2m───────────────────────────────────────────────────\u001b[0m\u001b[38;2;212;183;2m─╮\u001b[0m\n",
       "\u001b[38;2;212;183;2m│\u001b[0m                                                                                                                 \u001b[38;2;212;183;2m│\u001b[0m\n",
       "\u001b[38;2;212;183;2m│\u001b[0m \u001b[1mPlease give me a detailed analysis of the market conditions for NVDA.\u001b[0m                                           \u001b[38;2;212;183;2m│\u001b[0m\n",
       "\u001b[38;2;212;183;2m│\u001b[0m \u001b[1m    Include:\u001b[0m                                                                                                    \u001b[38;2;212;183;2m│\u001b[0m\n",
       "\u001b[38;2;212;183;2m│\u001b[0m \u001b[1m    - Technical indicators (RSI, Bollinger Bands) using financial_tool\u001b[0m                                          \u001b[38;2;212;183;2m│\u001b[0m\n",
       "\u001b[38;2;212;183;2m│\u001b[0m \u001b[1m    - Current news sentiment\u001b[0m                                                                                    \u001b[38;2;212;183;2m│\u001b[0m\n",
       "\u001b[38;2;212;183;2m│\u001b[0m \u001b[1m    - PE ratio comparison with industry\u001b[0m                                                                         \u001b[38;2;212;183;2m│\u001b[0m\n",
       "\u001b[38;2;212;183;2m│\u001b[0m \u001b[1m    - Market trend analysis\u001b[0m                                                                                     \u001b[38;2;212;183;2m│\u001b[0m\n",
       "\u001b[38;2;212;183;2m│\u001b[0m \u001b[1mThe date of the day is 2025-03-24.\u001b[0m                                                                              \u001b[38;2;212;183;2m│\u001b[0m\n",
       "\u001b[38;2;212;183;2m│\u001b[0m                                                                                                                 \u001b[38;2;212;183;2m│\u001b[0m\n",
       "\u001b[38;2;212;183;2m╰─\u001b[0m\u001b[38;2;212;183;2m HfApiModel - meta-llama/Llama-3.3-70B-Instruct \u001b[0m\u001b[38;2;212;183;2m───────────────────────────────────────────────────────────────\u001b[0m\u001b[38;2;212;183;2m─╯\u001b[0m\n"
      ]
     },
     "metadata": {},
     "output_type": "display_data"
    },
    {
     "data": {
      "text/html": [
       "<pre style=\"white-space:pre;overflow-x:auto;line-height:normal;font-family:Menlo,'DejaVu Sans Mono',consolas,'Courier New',monospace\"><span style=\"color: #d4b702; text-decoration-color: #d4b702\">━━━━━━━━━━━━━━━━━━━━━━━━━━━━━━━━━━━━━━━━━━━━━━━━━━━━━ </span><span style=\"font-weight: bold\">Step </span><span style=\"color: #008080; text-decoration-color: #008080; font-weight: bold\">1</span><span style=\"color: #d4b702; text-decoration-color: #d4b702\"> ━━━━━━━━━━━━━━━━━━━━━━━━━━━━━━━━━━━━━━━━━━━━━━━━━━━━━━</span>\n",
       "</pre>\n"
      ],
      "text/plain": [
       "\u001b[38;2;212;183;2m━━━━━━━━━━━━━━━━━━━━━━━━━━━━━━━━━━━━━━━━━━━━━━━━━━━━━ \u001b[0m\u001b[1mStep \u001b[0m\u001b[1;36m1\u001b[0m\u001b[38;2;212;183;2m ━━━━━━━━━━━━━━━━━━━━━━━━━━━━━━━━━━━━━━━━━━━━━━━━━━━━━━\u001b[0m\n"
      ]
     },
     "metadata": {},
     "output_type": "display_data"
    },
    {
     "data": {
      "text/html": [
       "<pre style=\"white-space:pre;overflow-x:auto;line-height:normal;font-family:Menlo,'DejaVu Sans Mono',consolas,'Courier New',monospace\">╭─────────────────────────────────────────────────────────────────────────────────────────────────────────────────╮\n",
       "│ Calling tool: 'financial_tool' with arguments: {'end_date': '2025-03-24', 'symbol': 'NVDA', 'rsi_window': 14,   │\n",
       "│ 'bb_window': 20, 'start_date': '2024-09-24'}                                                                    │\n",
       "╰─────────────────────────────────────────────────────────────────────────────────────────────────────────────────╯\n",
       "</pre>\n"
      ],
      "text/plain": [
       "╭─────────────────────────────────────────────────────────────────────────────────────────────────────────────────╮\n",
       "│ Calling tool: 'financial_tool' with arguments: {'end_date': '2025-03-24', 'symbol': 'NVDA', 'rsi_window': 14,   │\n",
       "│ 'bb_window': 20, 'start_date': '2024-09-24'}                                                                    │\n",
       "╰─────────────────────────────────────────────────────────────────────────────────────────────────────────────────╯\n"
      ]
     },
     "metadata": {},
     "output_type": "display_data"
    },
    {
     "data": {
      "text/html": [
       "<pre style=\"white-space:pre;overflow-x:auto;line-height:normal;font-family:Menlo,'DejaVu Sans Mono',consolas,'Courier New',monospace\">Observations: Market Analysis Results for NVDA:\n",
       "RSI <span style=\"font-weight: bold\">(</span><span style=\"color: #008080; text-decoration-color: #008080; font-weight: bold\">14</span> periods<span style=\"font-weight: bold\">)</span>: <span style=\"color: #008080; text-decoration-color: #008080; font-weight: bold\">54.23</span>\n",
       "\n",
       "Price Position:\n",
       "Current Price: <span style=\"color: #008080; text-decoration-color: #008080; font-weight: bold\">117.70</span>\n",
       "Upper Band of Bollinger Bands: <span style=\"color: #008080; text-decoration-color: #008080; font-weight: bold\">131.03</span>\n",
       "Lower Band of Bollinger Bands: <span style=\"color: #008080; text-decoration-color: #008080; font-weight: bold\">105.10</span>\n",
       "</pre>\n"
      ],
      "text/plain": [
       "Observations: Market Analysis Results for NVDA:\n",
       "RSI \u001b[1m(\u001b[0m\u001b[1;36m14\u001b[0m periods\u001b[1m)\u001b[0m: \u001b[1;36m54.23\u001b[0m\n",
       "\n",
       "Price Position:\n",
       "Current Price: \u001b[1;36m117.70\u001b[0m\n",
       "Upper Band of Bollinger Bands: \u001b[1;36m131.03\u001b[0m\n",
       "Lower Band of Bollinger Bands: \u001b[1;36m105.10\u001b[0m\n"
      ]
     },
     "metadata": {},
     "output_type": "display_data"
    },
    {
     "data": {
      "text/html": [
       "<pre style=\"white-space:pre;overflow-x:auto;line-height:normal;font-family:Menlo,'DejaVu Sans Mono',consolas,'Courier New',monospace\"><span style=\"color: #7f7f7f; text-decoration-color: #7f7f7f\">[Step 1: Duration 5.18 seconds| Input tokens: 1,972 | Output tokens: 57]</span>\n",
       "</pre>\n"
      ],
      "text/plain": [
       "\u001b[2m[Step 1: Duration 5.18 seconds| Input tokens: 1,972 | Output tokens: 57]\u001b[0m\n"
      ]
     },
     "metadata": {},
     "output_type": "display_data"
    },
    {
     "data": {
      "text/html": [
       "<pre style=\"white-space:pre;overflow-x:auto;line-height:normal;font-family:Menlo,'DejaVu Sans Mono',consolas,'Courier New',monospace\"><span style=\"color: #d4b702; text-decoration-color: #d4b702\">━━━━━━━━━━━━━━━━━━━━━━━━━━━━━━━━━━━━━━━━━━━━━━━━━━━━━ </span><span style=\"font-weight: bold\">Step </span><span style=\"color: #008080; text-decoration-color: #008080; font-weight: bold\">2</span><span style=\"color: #d4b702; text-decoration-color: #d4b702\"> ━━━━━━━━━━━━━━━━━━━━━━━━━━━━━━━━━━━━━━━━━━━━━━━━━━━━━━</span>\n",
       "</pre>\n"
      ],
      "text/plain": [
       "\u001b[38;2;212;183;2m━━━━━━━━━━━━━━━━━━━━━━━━━━━━━━━━━━━━━━━━━━━━━━━━━━━━━ \u001b[0m\u001b[1mStep \u001b[0m\u001b[1;36m2\u001b[0m\u001b[38;2;212;183;2m ━━━━━━━━━━━━━━━━━━━━━━━━━━━━━━━━━━━━━━━━━━━━━━━━━━━━━━\u001b[0m\n"
      ]
     },
     "metadata": {},
     "output_type": "display_data"
    },
    {
     "data": {
      "text/html": [
       "<pre style=\"white-space:pre;overflow-x:auto;line-height:normal;font-family:Menlo,'DejaVu Sans Mono',consolas,'Courier New',monospace\">╭─────────────────────────────────────────────────────────────────────────────────────────────────────────────────╮\n",
       "│ Calling tool: 'web_search' with arguments: {'query': 'NVDA current news sentiment'}                             │\n",
       "╰─────────────────────────────────────────────────────────────────────────────────────────────────────────────────╯\n",
       "</pre>\n"
      ],
      "text/plain": [
       "╭─────────────────────────────────────────────────────────────────────────────────────────────────────────────────╮\n",
       "│ Calling tool: 'web_search' with arguments: {'query': 'NVDA current news sentiment'}                             │\n",
       "╰─────────────────────────────────────────────────────────────────────────────────────────────────────────────────╯\n"
      ]
     },
     "metadata": {},
     "output_type": "display_data"
    },
    {
     "data": {
      "text/html": [
       "<pre style=\"white-space:pre;overflow-x:auto;line-height:normal;font-family:Menlo,'DejaVu Sans Mono',consolas,'Courier New',monospace\">Observations: ## Search Results\n",
       "\n",
       "|NVIDIA <span style=\"font-weight: bold\">(</span>NVDA<span style=\"font-weight: bold\">)</span> Stock Trends and Sentiment <span style=\"color: #008080; text-decoration-color: #008080; font-weight: bold\">2025</span> - \n",
       "MarketBeat<span style=\"font-weight: bold\">](</span><span style=\"color: #0000ff; text-decoration-color: #0000ff; text-decoration: underline\">https://www.marketbeat.com/stocks/NASDAQ/NVDA/trends-and-sentiment/)</span>\n",
       "View the latest NVDA trend and sentiment data at MarketBeat. What do the trends say about NVIDIA? View the latest \n",
       "NVDA trend and sentiment data at MarketBeat. <span style=\"color: #808000; text-decoration-color: #808000\">...</span> Sign-up to receive the latest news and ratings for NVDA and its \n",
       "competitors with MarketBeat's FREE daily newsletter. Email Address. NVDA Social Media Mentions.\n",
       "\n",
       "|NVIDIA Corporation <span style=\"font-weight: bold\">(</span>NVDA<span style=\"font-weight: bold\">)</span> Latest Stock News &amp; Headlines - Yahoo \n",
       "Finance<span style=\"font-weight: bold\">](</span><span style=\"color: #0000ff; text-decoration-color: #0000ff; text-decoration: underline\">https://finance.yahoo.com/quote/NVDA/news/)</span>\n",
       "Get the latest NVIDIA Corporation <span style=\"font-weight: bold\">(</span>NVDA<span style=\"font-weight: bold\">)</span> stock news and headlines to help you in your trading and investing \n",
       "decisions.\n",
       "\n",
       "|NVIDIA <span style=\"font-weight: bold\">(</span>NVDA<span style=\"font-weight: bold\">)</span> Stock Forecast and Price Target <span style=\"color: #008080; text-decoration-color: #008080; font-weight: bold\">2025</span> - \n",
       "MarketBeat<span style=\"font-weight: bold\">](</span><span style=\"color: #0000ff; text-decoration-color: #0000ff; text-decoration: underline\">https://www.marketbeat.com/stocks/NASDAQ/NVDA/forecast/)</span>\n",
       "NVDA's current price target is $<span style=\"color: #008080; text-decoration-color: #008080; font-weight: bold\">171.51</span>. Learn why top analysts are making this stock forecast for NVIDIA at \n",
       "MarketBeat. <span style=\"color: #808000; text-decoration-color: #808000\">...</span> Get the Latest News and Ratings for NVDA and Related Stocks <span style=\"color: #808000; text-decoration-color: #808000\">...</span> News Sentiment Rating: Positive \n",
       "News. See Recent NVDA News: Positive News. Positive News. Remove Ads Recent Analyst Forecasts and Stock Ratings. \n",
       "Rating Upside <span style=\"color: #808000; text-decoration-color: #808000\">...</span>\n",
       "\n",
       "|NVIDIA Corp <span style=\"font-weight: bold\">(</span>NVDA<span style=\"font-weight: bold\">)</span> sentiment score, message volume, participation score \n",
       "<span style=\"color: #808000; text-decoration-color: #808000\">...</span><span style=\"font-weight: bold\">](</span><span style=\"color: #0000ff; text-decoration-color: #0000ff; text-decoration: underline\">https://stocktwits.com/symbol/NVDA/sentiment)</span>\n",
       "Discover NVIDIA Corp <span style=\"font-weight: bold\">(</span>NVDA<span style=\"font-weight: bold\">)</span> market and community sentiment, movement in message volume, participation score and \n",
       "buzz level in the Stocktwits community. Use App. Stocktwits. Trending; News; Earnings; Newsletters; Advertise; DIA \n",
       "<span style=\"color: #008080; text-decoration-color: #008080; font-weight: bold\">0.13</span>%. SPY <span style=\"color: #008080; text-decoration-color: #008080; font-weight: bold\">0.39</span>%. <span style=\"color: #808000; text-decoration-color: #808000\">...</span> Latest NVDA News View. Advertisement. Remove ads.\n",
       "\n",
       "|Nvidia <span style=\"font-weight: bold\">(</span>NVDA<span style=\"font-weight: bold\">)</span> Stock News &amp; Sentiment - TipRanks<span style=\"font-weight: bold\">](</span><span style=\"color: #0000ff; text-decoration-color: #0000ff; text-decoration: underline\">https://www.tipranks.com/stocks/nvda/stock-news)</span>\n",
       "Nvidia stock news, updates &amp; related news. Find out why Nvidia's <span style=\"font-weight: bold\">(</span>NVDA<span style=\"font-weight: bold\">)</span> news sentiment is <span style=\"color: #008080; text-decoration-color: #008080; font-weight: bold\">32.63</span>% more positive in \n",
       "relation to stocks in the Technology sector. Stocks. Top Analyst Stocks. Popular. Top Smart Score Stocks. <span style=\"color: #808000; text-decoration-color: #808000\">...</span> What \n",
       "is NVDA's News Sentiment? <span style=\"color: #008080; text-decoration-color: #008080; font-weight: bold\">92</span>% of articles about NVDA were positive this week, compared to its sector average of \n",
       "<span style=\"color: #008080; text-decoration-color: #008080; font-weight: bold\">59</span>%.\n",
       "\n",
       "|NVDA Stock Sentiment Analysis &amp; Investor Outlook | Stocks \n",
       "Telegraph<span style=\"font-weight: bold\">](</span><span style=\"color: #0000ff; text-decoration-color: #0000ff; text-decoration: underline\">https://www.stockstelegraph.com/quotes/NVDA/sentiment-analysis)</span>\n",
       "Analyze the latest sentiment trends for NVIDIA <span style=\"font-weight: bold\">(</span>NVDA<span style=\"font-weight: bold\">)</span> stock, including investor outlook, market sentiment scores, \n",
       "and social media buzz. Stay informed with Stocks Telegraph. Search News. Stock Ideas. Screeners. News. Market Data.\n",
       "Market Movers. <span style=\"color: #808000; text-decoration-color: #808000\">...</span> NVDA Sentiment Analysis. NASDAQ: NVDA. NVIDIA Corporation. $<span style=\"color: #008080; text-decoration-color: #008080; font-weight: bold\">121.67</span>. <span style=\"color: #008080; text-decoration-color: #008080; font-weight: bold\">6.09</span> +<span style=\"color: #008080; text-decoration-color: #008080; font-weight: bold\">527.00</span>%. At Close <span style=\"color: #00ff00; text-decoration-color: #00ff00; font-weight: bold\">4:00</span>\n",
       "<span style=\"color: #808000; text-decoration-color: #808000\">...</span>\n",
       "\n",
       "|Nvidia Stock <span style=\"font-weight: bold\">(</span>NVDA<span style=\"font-weight: bold\">)</span> Gets a Bullish Nod from Wall <span style=\"color: #808000; text-decoration-color: #808000\">...</span> - Markets \n",
       "Insider<span style=\"font-weight: bold\">](</span><span style=\"color: #0000ff; text-decoration-color: #0000ff; text-decoration: underline\">https://markets.businessinsider.com/news/stocks/nvidia-stock-nvda-gets-a-bullish-nod-from-wall-street-anal</span>\n",
       "<span style=\"color: #0000ff; text-decoration-color: #0000ff; text-decoration: underline\">yst-as-gtc-2025-wraps-up-1034507498?op=1)</span>\n",
       "According to TipRanks, NVDA stock has received a Strong Buy rating based on <span style=\"color: #008080; text-decoration-color: #008080; font-weight: bold\">39</span> Buys and three Holds in the last \n",
       "three months. At $<span style=\"color: #008080; text-decoration-color: #008080; font-weight: bold\">176.54</span>, the Nvidia average share price target implies a <span style=\"color: #008080; text-decoration-color: #008080; font-weight: bold\">50</span>% upside <span style=\"color: #808000; text-decoration-color: #808000\">...</span>\n",
       "\n",
       "|Nvidia <span style=\"font-weight: bold\">(</span>NVDA<span style=\"font-weight: bold\">)</span> Stock Price, Quote, News &amp; Analysis - TipRanks<span style=\"font-weight: bold\">](</span><span style=\"color: #0000ff; text-decoration-color: #0000ff; text-decoration: underline\">https://www.tipranks.com/stocks/nvda)</span>\n",
       "Nvidia <span style=\"font-weight: bold\">(</span>NVDA<span style=\"font-weight: bold\">)</span> has a Smart Score of <span style=\"color: #008080; text-decoration-color: #008080; font-weight: bold\">9</span> based on an analysis of <span style=\"color: #008080; text-decoration-color: #008080; font-weight: bold\">8</span> unique data sets, including Analyst Recommendations,\n",
       "Crowd Wisdom, and Hedge Fund Activity. <span style=\"color: #808000; text-decoration-color: #808000\">...</span> News Sentiment. Very Bullish. Bullish news <span style=\"color: #008080; text-decoration-color: #008080; font-weight: bold\">92</span>% Bearish news <span style=\"color: #008080; text-decoration-color: #008080; font-weight: bold\">8</span>%. \n",
       "Technicals. SMA. Negative. <span style=\"color: #008080; text-decoration-color: #008080; font-weight: bold\">20</span> days <span style=\"color: #800080; text-decoration-color: #800080\">/</span> <span style=\"color: #008080; text-decoration-color: #008080; font-weight: bold\">200</span> days. Momentum. <span style=\"color: #008080; text-decoration-color: #008080; font-weight: bold\">26.82</span>%. <span style=\"color: #008080; text-decoration-color: #008080; font-weight: bold\">12</span>-Months-Change. Fundamentals. Return on Equity. \n",
       "<span style=\"color: #008080; text-decoration-color: #008080; font-weight: bold\">119.18</span>% <span style=\"color: #808000; text-decoration-color: #808000\">...</span>\n",
       "\n",
       "|Analyst on Nvidia <span style=\"font-weight: bold\">(</span>NVDA<span style=\"font-weight: bold\">)</span>: Demand Still Off The Charts <span style=\"color: #008000; text-decoration-color: #008000\">'By All </span>\n",
       "<span style=\"color: #008000; text-decoration-color: #008000\">Indications'</span><span style=\"font-weight: bold\">](</span><span style=\"color: #0000ff; text-decoration-color: #0000ff; text-decoration: underline\">https://finance.yahoo.com/news/analyst-nvidia-nvda-demand-still-143321110.html)</span>\n",
       "We recently published a list of Top <span style=\"color: #008080; text-decoration-color: #008080; font-weight: bold\">10</span> Trending AI Stocks to Watch. Since NVIDIA Corporation <span style=\"font-weight: bold\">(</span>NASDAQ:NVDA<span style=\"font-weight: bold\">)</span> ranks \n",
       "2nd on the list, it deserves a deeper look. Wall Street continues to gain momentum <span style=\"color: #808000; text-decoration-color: #808000\">...</span>\n",
       "\n",
       "|Nvidia <span style=\"font-weight: bold\">(</span>NVDA<span style=\"font-weight: bold\">)</span> Receives a Rating Update from a Top \n",
       "Analyst<span style=\"font-weight: bold\">](</span><span style=\"color: #0000ff; text-decoration-color: #0000ff; text-decoration: underline\">https://markets.businessinsider.com/news/stocks/nvidia-nvda-receives-a-rating-update-from-a-top-analyst-10</span>\n",
       "<span style=\"color: #0000ff; text-decoration-color: #0000ff; text-decoration: underline\">34108662?op=1)</span>\n",
       "NVDA market cap is currently $<span style=\"color: #008080; text-decoration-color: #008080; font-weight: bold\">3554.</span>5B and has a P/E ratio of <span style=\"color: #008080; text-decoration-color: #008080; font-weight: bold\">57.14</span>. Based on the recent corporate insider activity \n",
       "of <span style=\"color: #008080; text-decoration-color: #008080; font-weight: bold\">135</span> insiders, corporate insider sentiment is negative on the stock.\n",
       "</pre>\n"
      ],
      "text/plain": [
       "Observations: ## Search Results\n",
       "\n",
       "|NVIDIA \u001b[1m(\u001b[0mNVDA\u001b[1m)\u001b[0m Stock Trends and Sentiment \u001b[1;36m2025\u001b[0m - \n",
       "MarketBeat\u001b[1m]\u001b[0m\u001b[1m(\u001b[0m\u001b[4;94mhttps://www.marketbeat.com/stocks/NASDAQ/NVDA/trends-and-sentiment/\u001b[0m\u001b[4;94m)\u001b[0m\n",
       "View the latest NVDA trend and sentiment data at MarketBeat. What do the trends say about NVIDIA? View the latest \n",
       "NVDA trend and sentiment data at MarketBeat. \u001b[33m...\u001b[0m Sign-up to receive the latest news and ratings for NVDA and its \n",
       "competitors with MarketBeat's FREE daily newsletter. Email Address. NVDA Social Media Mentions.\n",
       "\n",
       "|NVIDIA Corporation \u001b[1m(\u001b[0mNVDA\u001b[1m)\u001b[0m Latest Stock News & Headlines - Yahoo \n",
       "Finance\u001b[1m]\u001b[0m\u001b[1m(\u001b[0m\u001b[4;94mhttps://finance.yahoo.com/quote/NVDA/news/\u001b[0m\u001b[4;94m)\u001b[0m\n",
       "Get the latest NVIDIA Corporation \u001b[1m(\u001b[0mNVDA\u001b[1m)\u001b[0m stock news and headlines to help you in your trading and investing \n",
       "decisions.\n",
       "\n",
       "|NVIDIA \u001b[1m(\u001b[0mNVDA\u001b[1m)\u001b[0m Stock Forecast and Price Target \u001b[1;36m2025\u001b[0m - \n",
       "MarketBeat\u001b[1m]\u001b[0m\u001b[1m(\u001b[0m\u001b[4;94mhttps://www.marketbeat.com/stocks/NASDAQ/NVDA/forecast/\u001b[0m\u001b[4;94m)\u001b[0m\n",
       "NVDA's current price target is $\u001b[1;36m171.51\u001b[0m. Learn why top analysts are making this stock forecast for NVIDIA at \n",
       "MarketBeat. \u001b[33m...\u001b[0m Get the Latest News and Ratings for NVDA and Related Stocks \u001b[33m...\u001b[0m News Sentiment Rating: Positive \n",
       "News. See Recent NVDA News: Positive News. Positive News. Remove Ads Recent Analyst Forecasts and Stock Ratings. \n",
       "Rating Upside \u001b[33m...\u001b[0m\n",
       "\n",
       "|NVIDIA Corp \u001b[1m(\u001b[0mNVDA\u001b[1m)\u001b[0m sentiment score, message volume, participation score \n",
       "\u001b[33m...\u001b[0m\u001b[1m]\u001b[0m\u001b[1m(\u001b[0m\u001b[4;94mhttps://stocktwits.com/symbol/NVDA/sentiment\u001b[0m\u001b[4;94m)\u001b[0m\n",
       "Discover NVIDIA Corp \u001b[1m(\u001b[0mNVDA\u001b[1m)\u001b[0m market and community sentiment, movement in message volume, participation score and \n",
       "buzz level in the Stocktwits community. Use App. Stocktwits. Trending; News; Earnings; Newsletters; Advertise; DIA \n",
       "\u001b[1;36m0.13\u001b[0m%. SPY \u001b[1;36m0.39\u001b[0m%. \u001b[33m...\u001b[0m Latest NVDA News View. Advertisement. Remove ads.\n",
       "\n",
       "|Nvidia \u001b[1m(\u001b[0mNVDA\u001b[1m)\u001b[0m Stock News & Sentiment - TipRanks\u001b[1m]\u001b[0m\u001b[1m(\u001b[0m\u001b[4;94mhttps://www.tipranks.com/stocks/nvda/stock-news\u001b[0m\u001b[4;94m)\u001b[0m\n",
       "Nvidia stock news, updates & related news. Find out why Nvidia's \u001b[1m(\u001b[0mNVDA\u001b[1m)\u001b[0m news sentiment is \u001b[1;36m32.63\u001b[0m% more positive in \n",
       "relation to stocks in the Technology sector. Stocks. Top Analyst Stocks. Popular. Top Smart Score Stocks. \u001b[33m...\u001b[0m What \n",
       "is NVDA's News Sentiment? \u001b[1;36m92\u001b[0m% of articles about NVDA were positive this week, compared to its sector average of \n",
       "\u001b[1;36m59\u001b[0m%.\n",
       "\n",
       "|NVDA Stock Sentiment Analysis & Investor Outlook | Stocks \n",
       "Telegraph\u001b[1m]\u001b[0m\u001b[1m(\u001b[0m\u001b[4;94mhttps://www.stockstelegraph.com/quotes/NVDA/sentiment-analysis\u001b[0m\u001b[4;94m)\u001b[0m\n",
       "Analyze the latest sentiment trends for NVIDIA \u001b[1m(\u001b[0mNVDA\u001b[1m)\u001b[0m stock, including investor outlook, market sentiment scores, \n",
       "and social media buzz. Stay informed with Stocks Telegraph. Search News. Stock Ideas. Screeners. News. Market Data.\n",
       "Market Movers. \u001b[33m...\u001b[0m NVDA Sentiment Analysis. NASDAQ: NVDA. NVIDIA Corporation. $\u001b[1;36m121.67\u001b[0m. \u001b[1;36m6.09\u001b[0m +\u001b[1;36m527.00\u001b[0m%. At Close \u001b[1;92m4:00\u001b[0m\n",
       "\u001b[33m...\u001b[0m\n",
       "\n",
       "|Nvidia Stock \u001b[1m(\u001b[0mNVDA\u001b[1m)\u001b[0m Gets a Bullish Nod from Wall \u001b[33m...\u001b[0m - Markets \n",
       "Insider\u001b[1m]\u001b[0m\u001b[1m(\u001b[0m\u001b[4;94mhttps://markets.businessinsider.com/news/stocks/nvidia-stock-nvda-gets-a-bullish-nod-from-wall-street-anal\u001b[0m\n",
       "\u001b[4;94myst-as-gtc-2025-wraps-up-1034507498?\u001b[0m\u001b[4;94mop\u001b[0m\u001b[4;94m=\u001b[0m\u001b[4;94m1\u001b[0m\u001b[4;94m)\u001b[0m\n",
       "According to TipRanks, NVDA stock has received a Strong Buy rating based on \u001b[1;36m39\u001b[0m Buys and three Holds in the last \n",
       "three months. At $\u001b[1;36m176.54\u001b[0m, the Nvidia average share price target implies a \u001b[1;36m50\u001b[0m% upside \u001b[33m...\u001b[0m\n",
       "\n",
       "|Nvidia \u001b[1m(\u001b[0mNVDA\u001b[1m)\u001b[0m Stock Price, Quote, News & Analysis - TipRanks\u001b[1m]\u001b[0m\u001b[1m(\u001b[0m\u001b[4;94mhttps://www.tipranks.com/stocks/nvda\u001b[0m\u001b[4;94m)\u001b[0m\n",
       "Nvidia \u001b[1m(\u001b[0mNVDA\u001b[1m)\u001b[0m has a Smart Score of \u001b[1;36m9\u001b[0m based on an analysis of \u001b[1;36m8\u001b[0m unique data sets, including Analyst Recommendations,\n",
       "Crowd Wisdom, and Hedge Fund Activity. \u001b[33m...\u001b[0m News Sentiment. Very Bullish. Bullish news \u001b[1;36m92\u001b[0m% Bearish news \u001b[1;36m8\u001b[0m%. \n",
       "Technicals. SMA. Negative. \u001b[1;36m20\u001b[0m days \u001b[35m/\u001b[0m \u001b[1;36m200\u001b[0m days. Momentum. \u001b[1;36m26.82\u001b[0m%. \u001b[1;36m12\u001b[0m-Months-Change. Fundamentals. Return on Equity. \n",
       "\u001b[1;36m119.18\u001b[0m% \u001b[33m...\u001b[0m\n",
       "\n",
       "|Analyst on Nvidia \u001b[1m(\u001b[0mNVDA\u001b[1m)\u001b[0m: Demand Still Off The Charts \u001b[32m'By All \u001b[0m\n",
       "\u001b[32mIndications'\u001b[0m\u001b[1m]\u001b[0m\u001b[1m(\u001b[0m\u001b[4;94mhttps://finance.yahoo.com/news/analyst-nvidia-nvda-demand-still-143321110.html\u001b[0m\u001b[4;94m)\u001b[0m\n",
       "We recently published a list of Top \u001b[1;36m10\u001b[0m Trending AI Stocks to Watch. Since NVIDIA Corporation \u001b[1m(\u001b[0mNASDAQ:NVDA\u001b[1m)\u001b[0m ranks \n",
       "2nd on the list, it deserves a deeper look. Wall Street continues to gain momentum \u001b[33m...\u001b[0m\n",
       "\n",
       "|Nvidia \u001b[1m(\u001b[0mNVDA\u001b[1m)\u001b[0m Receives a Rating Update from a Top \n",
       "Analyst\u001b[1m]\u001b[0m\u001b[1m(\u001b[0m\u001b[4;94mhttps://markets.businessinsider.com/news/stocks/nvidia-nvda-receives-a-rating-update-from-a-top-analyst-10\u001b[0m\n",
       "\u001b[4;94m34108662?\u001b[0m\u001b[4;94mop\u001b[0m\u001b[4;94m=\u001b[0m\u001b[4;94m1\u001b[0m\u001b[4;94m)\u001b[0m\n",
       "NVDA market cap is currently $\u001b[1;36m3554.\u001b[0m5B and has a P/E ratio of \u001b[1;36m57.14\u001b[0m. Based on the recent corporate insider activity \n",
       "of \u001b[1;36m135\u001b[0m insiders, corporate insider sentiment is negative on the stock.\n"
      ]
     },
     "metadata": {},
     "output_type": "display_data"
    },
    {
     "data": {
      "text/html": [
       "<pre style=\"white-space:pre;overflow-x:auto;line-height:normal;font-family:Menlo,'DejaVu Sans Mono',consolas,'Courier New',monospace\"><span style=\"color: #7f7f7f; text-decoration-color: #7f7f7f\">[Step 2: Duration 2.78 seconds| Input tokens: 3,982 | Output tokens: 78]</span>\n",
       "</pre>\n"
      ],
      "text/plain": [
       "\u001b[2m[Step 2: Duration 2.78 seconds| Input tokens: 3,982 | Output tokens: 78]\u001b[0m\n"
      ]
     },
     "metadata": {},
     "output_type": "display_data"
    },
    {
     "data": {
      "text/html": [
       "<pre style=\"white-space:pre;overflow-x:auto;line-height:normal;font-family:Menlo,'DejaVu Sans Mono',consolas,'Courier New',monospace\"><span style=\"color: #d4b702; text-decoration-color: #d4b702\">━━━━━━━━━━━━━━━━━━━━━━━━━━━━━━━━━━━━━━━━━━━━━━━━━━━━━ </span><span style=\"font-weight: bold\">Step </span><span style=\"color: #008080; text-decoration-color: #008080; font-weight: bold\">3</span><span style=\"color: #d4b702; text-decoration-color: #d4b702\"> ━━━━━━━━━━━━━━━━━━━━━━━━━━━━━━━━━━━━━━━━━━━━━━━━━━━━━━</span>\n",
       "</pre>\n"
      ],
      "text/plain": [
       "\u001b[38;2;212;183;2m━━━━━━━━━━━━━━━━━━━━━━━━━━━━━━━━━━━━━━━━━━━━━━━━━━━━━ \u001b[0m\u001b[1mStep \u001b[0m\u001b[1;36m3\u001b[0m\u001b[38;2;212;183;2m ━━━━━━━━━━━━━━━━━━━━━━━━━━━━━━━━━━━━━━━━━━━━━━━━━━━━━━\u001b[0m\n"
      ]
     },
     "metadata": {},
     "output_type": "display_data"
    },
    {
     "data": {
      "text/html": [
       "<pre style=\"white-space:pre;overflow-x:auto;line-height:normal;font-family:Menlo,'DejaVu Sans Mono',consolas,'Courier New',monospace\">╭─────────────────────────────────────────────────────────────────────────────────────────────────────────────────╮\n",
       "│ Calling tool: 'web_search' with arguments: {'query': 'NVIDIA current PE ratio vs industry'}                     │\n",
       "╰─────────────────────────────────────────────────────────────────────────────────────────────────────────────────╯\n",
       "</pre>\n"
      ],
      "text/plain": [
       "╭─────────────────────────────────────────────────────────────────────────────────────────────────────────────────╮\n",
       "│ Calling tool: 'web_search' with arguments: {'query': 'NVIDIA current PE ratio vs industry'}                     │\n",
       "╰─────────────────────────────────────────────────────────────────────────────────────────────────────────────────╯\n"
      ]
     },
     "metadata": {},
     "output_type": "display_data"
    },
    {
     "data": {
      "text/html": [
       "<pre style=\"white-space:pre;overflow-x:auto;line-height:normal;font-family:Menlo,'DejaVu Sans Mono',consolas,'Courier New',monospace\">Observations: ## Search Results\n",
       "\n",
       "|NVIDIA <span style=\"font-weight: bold\">(</span>NVDA<span style=\"font-weight: bold\">)</span> PE Ratio Chart - NVDA Stock Price to Earnings Ratio \n",
       "History<span style=\"font-weight: bold\">](</span><span style=\"color: #0000ff; text-decoration-color: #0000ff; text-decoration: underline\">https://www.financecharts.com/stocks/NVDA/value/pe-ratio)</span>\n",
       "The p/e ratio for NVIDIA <span style=\"font-weight: bold\">(</span>NVDA<span style=\"font-weight: bold\">)</span> stock is <span style=\"color: #008080; text-decoration-color: #008080; font-weight: bold\">40.03</span> as of Friday, March <span style=\"color: #008080; text-decoration-color: #008080; font-weight: bold\">21</span> <span style=\"color: #008080; text-decoration-color: #008080; font-weight: bold\">2025</span>. It's improved by <span style=\"color: #008080; text-decoration-color: #008080; font-weight: bold\">-29.75</span>% from its \n",
       "<span style=\"color: #008080; text-decoration-color: #008080; font-weight: bold\">12</span>-month average of <span style=\"color: #008080; text-decoration-color: #008080; font-weight: bold\">56.99</span>. NVDA's forward pe ratio is <span style=\"color: #008080; text-decoration-color: #008080; font-weight: bold\">27.10</span>. The p/e ratio is calculated by taking the latest \n",
       "closing price and dividing it by the diluted eps for the past <span style=\"color: #008080; text-decoration-color: #008080; font-weight: bold\">12</span> months.\n",
       "\n",
       "|NVIDIA PE Ratio <span style=\"color: #008080; text-decoration-color: #008080; font-weight: bold\">2010</span>-<span style=\"color: #008080; text-decoration-color: #008080; font-weight: bold\">2025</span> | NVDA | MacroTrends<span style=\"font-weight: bold\">](</span><span style=\"color: #0000ff; text-decoration-color: #0000ff; text-decoration: underline\">https://www.macrotrends.net/stocks/charts/NVDA/nvidia/pe-ratio)</span>\n",
       "Current and historical p/e ratio for NVIDIA <span style=\"font-weight: bold\">(</span>NVDA<span style=\"font-weight: bold\">)</span> from <span style=\"color: #008080; text-decoration-color: #008080; font-weight: bold\">2010</span> to <span style=\"color: #008080; text-decoration-color: #008080; font-weight: bold\">2025</span>. The price to earnings ratio is calculated by \n",
       "taking the latest closing price and dividing it by the most recent earnings per share <span style=\"font-weight: bold\">(</span>EPS<span style=\"font-weight: bold\">)</span> number. The PE ratio is\n",
       "a simple way to assess whether a stock is over or under valued and is the most widely used valuation measure.\n",
       "\n",
       "|Nvidia <span style=\"font-weight: bold\">(</span>NVDA<span style=\"font-weight: bold\">)</span> Valuation Ratios Comparisons to Industry <span style=\"color: #808000; text-decoration-color: #808000\">...</span> - \n",
       "CSIMarket<span style=\"font-weight: bold\">](</span><span style=\"color: #0000ff; text-decoration-color: #0000ff; text-decoration: underline\">https://csimarket.com/stocks/NVDA-Valuation-Comparisons.html)</span>\n",
       "Nvidia's Current Key Valuation Ratios, PE, PB, PCF, PS, compare to Semiconductors Industry and Technology Sector. \n",
       "Company Name, Ticker, Suppliers, else.. HOME; INDUSTRIES; NEWS; MARKETS; <span style=\"color: #808000; text-decoration-color: #808000\">...</span> To see Industry, Sector or S&amp;P <span style=\"color: #008080; text-decoration-color: #008080; font-weight: bold\">500</span> \n",
       "Performance, click on each Category respectivly, on the top of the Table. Example: <span style=\"color: #808000; text-decoration-color: #808000\">...</span>\n",
       "\n",
       "|NVIDIA <span style=\"font-weight: bold\">(</span>NVDA<span style=\"font-weight: bold\">)</span> PE Ratio History &amp; Chart since <span style=\"color: #008080; text-decoration-color: #008080; font-weight: bold\">1999</span><span style=\"font-weight: bold\">](</span><span style=\"color: #0000ff; text-decoration-color: #0000ff; text-decoration: underline\">https://wallstreetnumbers.com/stocks/nvda/pe-ratio)</span>\n",
       "NVIDIA price to earnings ratio has changed by <span style=\"color: #008080; text-decoration-color: #008080; font-weight: bold\">-12.87</span> <span style=\"font-weight: bold\">(</span><span style=\"color: #008080; text-decoration-color: #008080; font-weight: bold\">-24.32</span>%<span style=\"font-weight: bold\">)</span> since the beginning of the year What is NVIDIA PE \n",
       "ratio year-on-year change? Over the past year, NVDA price to earnings ratio has changed by <span style=\"color: #008080; text-decoration-color: #008080; font-weight: bold\">-36.67</span> <span style=\"font-weight: bold\">(</span><span style=\"color: #008080; text-decoration-color: #008080; font-weight: bold\">-47.80</span>%<span style=\"font-weight: bold\">)</span>\n",
       "\n",
       "|NVDA Nvidia PE ratio, current and historical analysis - \n",
       "FullRatio<span style=\"font-weight: bold\">](</span><span style=\"color: #0000ff; text-decoration-color: #0000ff; text-decoration: underline\">https://fullratio.com/stocks/nasdaq-nvda/pe-ratio)</span>\n",
       "The mean historical PE ratio of Nvidia over the last ten years is <span style=\"color: #008080; text-decoration-color: #008080; font-weight: bold\">51.73</span>. The current <span style=\"color: #008080; text-decoration-color: #008080; font-weight: bold\">39.63</span> PE ratio is <span style=\"color: #008080; text-decoration-color: #008080; font-weight: bold\">23</span>% below \n",
       "the historical average. Over the past ten years, NVDA's PE ratio was at its highest in the Apr <span style=\"color: #008080; text-decoration-color: #008080; font-weight: bold\">2023</span> quarter at \n",
       "<span style=\"color: #008080; text-decoration-color: #008080; font-weight: bold\">138.75</span>, with a price of $<span style=\"color: #008080; text-decoration-color: #008080; font-weight: bold\">27.75</span> and an EPS of $<span style=\"color: #008080; text-decoration-color: #008080; font-weight: bold\">0.2</span>. The Apr <span style=\"color: #008080; text-decoration-color: #008080; font-weight: bold\">2015</span> quarter recorded the bottom point at <span style=\"color: #008080; text-decoration-color: #008080; font-weight: bold\">18.37</span>, with a \n",
       "price <span style=\"color: #808000; text-decoration-color: #808000\">...</span>\n",
       "\n",
       "|NVIDIA Valuation<span style=\"font-weight: bold\">](</span><span style=\"color: #0000ff; text-decoration-color: #0000ff; text-decoration: underline\">https://simplywall.st/stocks/us/semiconductors/nasdaq-nvda/nvidia/valuation)</span>\n",
       "The above table shows the PE ratio for NVDA vs its peers. Here we also display the market cap and forecasted growth\n",
       "for additional consideration. <span style=\"color: #808000; text-decoration-color: #808000\">...</span> Price-To-Earnings vs Industry: NVDA is expensive based on its Price-To-Earnings \n",
       "Ratio <span style=\"font-weight: bold\">(</span><span style=\"color: #008080; text-decoration-color: #008080; font-weight: bold\">38.</span>6x<span style=\"font-weight: bold\">)</span> <span style=\"color: #808000; text-decoration-color: #808000\">...</span> NVDA PE Ratio vs Fair Ratio. Fair Ratio; Current PE Ratio: <span style=\"color: #008080; text-decoration-color: #008080; font-weight: bold\">38.</span>6x: Fair PE Ratio: <span style=\"color: #008080; text-decoration-color: #008080; font-weight: bold\">60.</span>8x: Price-To \n",
       "<span style=\"color: #808000; text-decoration-color: #808000\">...</span>\n",
       "\n",
       "|P/E Ratio &amp; Earnings by Sector/Industry | Siblis Research<span style=\"font-weight: bold\">](</span><span style=\"color: #0000ff; text-decoration-color: #0000ff; text-decoration: underline\">https://siblisresearch.com/data/sector-pe-earnings/)</span>\n",
       "The table below displays the current and historical trailing price-to-earnings <span style=\"font-weight: bold\">(</span>P/E<span style=\"font-weight: bold\">)</span> ratios by sector, based on the\n",
       "<span style=\"color: #008080; text-decoration-color: #008080; font-weight: bold\">500</span> largest publicly traded U.S. companies.. As of January <span style=\"color: #008080; text-decoration-color: #008080; font-weight: bold\">1</span>, <span style=\"color: #008080; text-decoration-color: #008080; font-weight: bold\">2025</span>, the Information Technology <span style=\"font-weight: bold\">(</span>P/E <span style=\"color: #008080; text-decoration-color: #008080; font-weight: bold\">41.53</span><span style=\"font-weight: bold\">)</span> and \n",
       "Consumer Discretionary <span style=\"font-weight: bold\">(</span>P/E <span style=\"color: #008080; text-decoration-color: #008080; font-weight: bold\">32.99</span><span style=\"font-weight: bold\">)</span> sectors are trading at the highest multiples, indicating strong investor \n",
       "expectations for future earnings growth.\n",
       "\n",
       "|NVIDIA <span style=\"font-weight: bold\">(</span>NVDA<span style=\"font-weight: bold\">)</span> Statistics &amp; Valuation - Stock Analysis<span style=\"font-weight: bold\">](</span><span style=\"color: #0000ff; text-decoration-color: #0000ff; text-decoration: underline\">https://stockanalysis.com/stocks/nvda/statistics/)</span>\n",
       "By Industry; Stock Lists; Top Analysts; Top Stocks; Corporate Actions; IPOs. Recent IPOs; IPO Calendar <span style=\"color: #808000; text-decoration-color: #808000\">...</span> The \n",
       "trailing PE ratio is <span style=\"color: #008080; text-decoration-color: #008080; font-weight: bold\">40.03</span> and the forward PE ratio is <span style=\"color: #008080; text-decoration-color: #008080; font-weight: bold\">25.97</span>. NVIDIA's PEG ratio is <span style=\"color: #008080; text-decoration-color: #008080; font-weight: bold\">0.79</span>. PE Ratio : <span style=\"color: #008080; text-decoration-color: #008080; font-weight: bold\">40.03</span>: Forward\n",
       "PE : <span style=\"color: #008080; text-decoration-color: #008080; font-weight: bold\">25.97</span>: PS Ratio : <span style=\"color: #008080; text-decoration-color: #008080; font-weight: bold\">22.15</span>: Forward PS <span style=\"color: #808000; text-decoration-color: #808000\">...</span> The company has a current ratio of <span style=\"color: #008080; text-decoration-color: #008080; font-weight: bold\">4.44</span>, with a Debt <span style=\"color: #800080; text-decoration-color: #800080\">/</span> Equity ratio of\n",
       "<span style=\"color: #008080; text-decoration-color: #008080; font-weight: bold\">0</span>. <span style=\"color: #808000; text-decoration-color: #808000\">...</span>\n",
       "\n",
       "|TSLA vs NVDA - PE Ratio Chart - Current &amp; Historical \n",
       "Data<span style=\"font-weight: bold\">](</span><span style=\"color: #0000ff; text-decoration-color: #0000ff; text-decoration: underline\">https://www.financecharts.com/compare/TSLA,NVDA/value/pe-ratio)</span>\n",
       "What is the difference between the current PE ratio and <span style=\"color: #008080; text-decoration-color: #008080; font-weight: bold\">20</span> year average for NVIDIA Corp <span style=\"font-weight: bold\">(</span>NVDA<span style=\"font-weight: bold\">)</span>? The current price \n",
       "to earnings ratio for NVDA is <span style=\"color: #008080; text-decoration-color: #008080; font-weight: bold\">-29.51</span>% vs the <span style=\"color: #008080; text-decoration-color: #008080; font-weight: bold\">20</span> year average. ×\n",
       "\n",
       "|Nvidia Corp Price to Earnings Ratio <span style=\"font-weight: bold\">(</span>PE<span style=\"font-weight: bold\">)</span> Ratios, <span style=\"font-weight: bold\">(</span>NVDA<span style=\"font-weight: bold\">)</span> Valuation \n",
       "<span style=\"color: #808000; text-decoration-color: #808000\">...</span><span style=\"font-weight: bold\">](</span><span style=\"color: #0000ff; text-decoration-color: #0000ff; text-decoration: underline\">https://csimarket.com/stocks/single_company_valuation_ttm.php?code=NVDA)</span>\n",
       "Price to earnings ratio Comment: Nvidia Corp's current Price to earnings ratio has increased due to shareprice \n",
       "growth of <span style=\"color: #008080; text-decoration-color: #008080; font-weight: bold\">25.9</span> %, from beginning of III.Quarter and despite eps increase of <span style=\"color: #008080; text-decoration-color: #008080; font-weight: bold\">110.24</span> %, to Pe of <span style=\"color: #008080; text-decoration-color: #008080; font-weight: bold\">17.35</span>, from average \n",
       "Price to earnings ratio in II.Quarter of <span style=\"color: #008080; text-decoration-color: #008080; font-weight: bold\">15.14</span>. Within Technology sector <span style=\"color: #008080; text-decoration-color: #008080; font-weight: bold\">82</span> other companies have lower Price to \n",
       "earnings ratio.\n",
       "</pre>\n"
      ],
      "text/plain": [
       "Observations: ## Search Results\n",
       "\n",
       "|NVIDIA \u001b[1m(\u001b[0mNVDA\u001b[1m)\u001b[0m PE Ratio Chart - NVDA Stock Price to Earnings Ratio \n",
       "History\u001b[1m]\u001b[0m\u001b[1m(\u001b[0m\u001b[4;94mhttps://www.financecharts.com/stocks/NVDA/value/pe-ratio\u001b[0m\u001b[4;94m)\u001b[0m\n",
       "The p/e ratio for NVIDIA \u001b[1m(\u001b[0mNVDA\u001b[1m)\u001b[0m stock is \u001b[1;36m40.03\u001b[0m as of Friday, March \u001b[1;36m21\u001b[0m \u001b[1;36m2025\u001b[0m. It's improved by \u001b[1;36m-29.75\u001b[0m% from its \n",
       "\u001b[1;36m12\u001b[0m-month average of \u001b[1;36m56.99\u001b[0m. NVDA's forward pe ratio is \u001b[1;36m27.10\u001b[0m. The p/e ratio is calculated by taking the latest \n",
       "closing price and dividing it by the diluted eps for the past \u001b[1;36m12\u001b[0m months.\n",
       "\n",
       "|NVIDIA PE Ratio \u001b[1;36m2010\u001b[0m-\u001b[1;36m2025\u001b[0m | NVDA | MacroTrends\u001b[1m]\u001b[0m\u001b[1m(\u001b[0m\u001b[4;94mhttps://www.macrotrends.net/stocks/charts/NVDA/nvidia/pe-ratio\u001b[0m\u001b[4;94m)\u001b[0m\n",
       "Current and historical p/e ratio for NVIDIA \u001b[1m(\u001b[0mNVDA\u001b[1m)\u001b[0m from \u001b[1;36m2010\u001b[0m to \u001b[1;36m2025\u001b[0m. The price to earnings ratio is calculated by \n",
       "taking the latest closing price and dividing it by the most recent earnings per share \u001b[1m(\u001b[0mEPS\u001b[1m)\u001b[0m number. The PE ratio is\n",
       "a simple way to assess whether a stock is over or under valued and is the most widely used valuation measure.\n",
       "\n",
       "|Nvidia \u001b[1m(\u001b[0mNVDA\u001b[1m)\u001b[0m Valuation Ratios Comparisons to Industry \u001b[33m...\u001b[0m - \n",
       "CSIMarket\u001b[1m]\u001b[0m\u001b[1m(\u001b[0m\u001b[4;94mhttps://csimarket.com/stocks/NVDA-Valuation-Comparisons.html\u001b[0m\u001b[4;94m)\u001b[0m\n",
       "Nvidia's Current Key Valuation Ratios, PE, PB, PCF, PS, compare to Semiconductors Industry and Technology Sector. \n",
       "Company Name, Ticker, Suppliers, else.. HOME; INDUSTRIES; NEWS; MARKETS; \u001b[33m...\u001b[0m To see Industry, Sector or S&P \u001b[1;36m500\u001b[0m \n",
       "Performance, click on each Category respectivly, on the top of the Table. Example: \u001b[33m...\u001b[0m\n",
       "\n",
       "|NVIDIA \u001b[1m(\u001b[0mNVDA\u001b[1m)\u001b[0m PE Ratio History & Chart since \u001b[1;36m1999\u001b[0m\u001b[1m]\u001b[0m\u001b[1m(\u001b[0m\u001b[4;94mhttps://wallstreetnumbers.com/stocks/nvda/pe-ratio\u001b[0m\u001b[4;94m)\u001b[0m\n",
       "NVIDIA price to earnings ratio has changed by \u001b[1;36m-12.87\u001b[0m \u001b[1m(\u001b[0m\u001b[1;36m-24.32\u001b[0m%\u001b[1m)\u001b[0m since the beginning of the year What is NVIDIA PE \n",
       "ratio year-on-year change? Over the past year, NVDA price to earnings ratio has changed by \u001b[1;36m-36.67\u001b[0m \u001b[1m(\u001b[0m\u001b[1;36m-47.80\u001b[0m%\u001b[1m)\u001b[0m\n",
       "\n",
       "|NVDA Nvidia PE ratio, current and historical analysis - \n",
       "FullRatio\u001b[1m]\u001b[0m\u001b[1m(\u001b[0m\u001b[4;94mhttps://fullratio.com/stocks/nasdaq-nvda/pe-ratio\u001b[0m\u001b[4;94m)\u001b[0m\n",
       "The mean historical PE ratio of Nvidia over the last ten years is \u001b[1;36m51.73\u001b[0m. The current \u001b[1;36m39.63\u001b[0m PE ratio is \u001b[1;36m23\u001b[0m% below \n",
       "the historical average. Over the past ten years, NVDA's PE ratio was at its highest in the Apr \u001b[1;36m2023\u001b[0m quarter at \n",
       "\u001b[1;36m138.75\u001b[0m, with a price of $\u001b[1;36m27.75\u001b[0m and an EPS of $\u001b[1;36m0.2\u001b[0m. The Apr \u001b[1;36m2015\u001b[0m quarter recorded the bottom point at \u001b[1;36m18.37\u001b[0m, with a \n",
       "price \u001b[33m...\u001b[0m\n",
       "\n",
       "|NVIDIA Valuation\u001b[1m]\u001b[0m\u001b[1m(\u001b[0m\u001b[4;94mhttps://simplywall.st/stocks/us/semiconductors/nasdaq-nvda/nvidia/valuation\u001b[0m\u001b[4;94m)\u001b[0m\n",
       "The above table shows the PE ratio for NVDA vs its peers. Here we also display the market cap and forecasted growth\n",
       "for additional consideration. \u001b[33m...\u001b[0m Price-To-Earnings vs Industry: NVDA is expensive based on its Price-To-Earnings \n",
       "Ratio \u001b[1m(\u001b[0m\u001b[1;36m38.\u001b[0m6x\u001b[1m)\u001b[0m \u001b[33m...\u001b[0m NVDA PE Ratio vs Fair Ratio. Fair Ratio; Current PE Ratio: \u001b[1;36m38.\u001b[0m6x: Fair PE Ratio: \u001b[1;36m60.\u001b[0m8x: Price-To \n",
       "\u001b[33m...\u001b[0m\n",
       "\n",
       "|P/E Ratio & Earnings by Sector/Industry | Siblis Research\u001b[1m]\u001b[0m\u001b[1m(\u001b[0m\u001b[4;94mhttps://siblisresearch.com/data/sector-pe-earnings/\u001b[0m\u001b[4;94m)\u001b[0m\n",
       "The table below displays the current and historical trailing price-to-earnings \u001b[1m(\u001b[0mP/E\u001b[1m)\u001b[0m ratios by sector, based on the\n",
       "\u001b[1;36m500\u001b[0m largest publicly traded U.S. companies.. As of January \u001b[1;36m1\u001b[0m, \u001b[1;36m2025\u001b[0m, the Information Technology \u001b[1m(\u001b[0mP/E \u001b[1;36m41.53\u001b[0m\u001b[1m)\u001b[0m and \n",
       "Consumer Discretionary \u001b[1m(\u001b[0mP/E \u001b[1;36m32.99\u001b[0m\u001b[1m)\u001b[0m sectors are trading at the highest multiples, indicating strong investor \n",
       "expectations for future earnings growth.\n",
       "\n",
       "|NVIDIA \u001b[1m(\u001b[0mNVDA\u001b[1m)\u001b[0m Statistics & Valuation - Stock Analysis\u001b[1m]\u001b[0m\u001b[1m(\u001b[0m\u001b[4;94mhttps://stockanalysis.com/stocks/nvda/statistics/\u001b[0m\u001b[4;94m)\u001b[0m\n",
       "By Industry; Stock Lists; Top Analysts; Top Stocks; Corporate Actions; IPOs. Recent IPOs; IPO Calendar \u001b[33m...\u001b[0m The \n",
       "trailing PE ratio is \u001b[1;36m40.03\u001b[0m and the forward PE ratio is \u001b[1;36m25.97\u001b[0m. NVIDIA's PEG ratio is \u001b[1;36m0.79\u001b[0m. PE Ratio : \u001b[1;36m40.03\u001b[0m: Forward\n",
       "PE : \u001b[1;36m25.97\u001b[0m: PS Ratio : \u001b[1;36m22.15\u001b[0m: Forward PS \u001b[33m...\u001b[0m The company has a current ratio of \u001b[1;36m4.44\u001b[0m, with a Debt \u001b[35m/\u001b[0m Equity ratio of\n",
       "\u001b[1;36m0\u001b[0m. \u001b[33m...\u001b[0m\n",
       "\n",
       "|TSLA vs NVDA - PE Ratio Chart - Current & Historical \n",
       "Data\u001b[1m]\u001b[0m\u001b[1m(\u001b[0m\u001b[4;94mhttps://www.financecharts.com/compare/TSLA,NVDA/value/pe-ratio\u001b[0m\u001b[4;94m)\u001b[0m\n",
       "What is the difference between the current PE ratio and \u001b[1;36m20\u001b[0m year average for NVIDIA Corp \u001b[1m(\u001b[0mNVDA\u001b[1m)\u001b[0m? The current price \n",
       "to earnings ratio for NVDA is \u001b[1;36m-29.51\u001b[0m% vs the \u001b[1;36m20\u001b[0m year average. ×\n",
       "\n",
       "|Nvidia Corp Price to Earnings Ratio \u001b[1m(\u001b[0mPE\u001b[1m)\u001b[0m Ratios, \u001b[1m(\u001b[0mNVDA\u001b[1m)\u001b[0m Valuation \n",
       "\u001b[33m...\u001b[0m\u001b[1m]\u001b[0m\u001b[1m(\u001b[0m\u001b[4;94mhttps://csimarket.com/stocks/single_company_valuation_ttm.php?\u001b[0m\u001b[4;94mcode\u001b[0m\u001b[4;94m=\u001b[0m\u001b[4;94mNVDA\u001b[0m\u001b[4;94m)\u001b[0m\n",
       "Price to earnings ratio Comment: Nvidia Corp's current Price to earnings ratio has increased due to shareprice \n",
       "growth of \u001b[1;36m25.9\u001b[0m %, from beginning of III.Quarter and despite eps increase of \u001b[1;36m110.24\u001b[0m %, to Pe of \u001b[1;36m17.35\u001b[0m, from average \n",
       "Price to earnings ratio in II.Quarter of \u001b[1;36m15.14\u001b[0m. Within Technology sector \u001b[1;36m82\u001b[0m other companies have lower Price to \n",
       "earnings ratio.\n"
      ]
     },
     "metadata": {},
     "output_type": "display_data"
    },
    {
     "data": {
      "text/html": [
       "<pre style=\"white-space:pre;overflow-x:auto;line-height:normal;font-family:Menlo,'DejaVu Sans Mono',consolas,'Courier New',monospace\"><span style=\"color: #7f7f7f; text-decoration-color: #7f7f7f\">[Step 3: Duration 4.16 seconds| Input tokens: 7,105 | Output tokens: 101]</span>\n",
       "</pre>\n"
      ],
      "text/plain": [
       "\u001b[2m[Step 3: Duration 4.16 seconds| Input tokens: 7,105 | Output tokens: 101]\u001b[0m\n"
      ]
     },
     "metadata": {},
     "output_type": "display_data"
    },
    {
     "data": {
      "text/html": [
       "<pre style=\"white-space:pre;overflow-x:auto;line-height:normal;font-family:Menlo,'DejaVu Sans Mono',consolas,'Courier New',monospace\"><span style=\"color: #d4b702; text-decoration-color: #d4b702\">━━━━━━━━━━━━━━━━━━━━━━━━━━━━━━━━━━━━━━━━━━━━━━━━━━━━━ </span><span style=\"font-weight: bold\">Step </span><span style=\"color: #008080; text-decoration-color: #008080; font-weight: bold\">4</span><span style=\"color: #d4b702; text-decoration-color: #d4b702\"> ━━━━━━━━━━━━━━━━━━━━━━━━━━━━━━━━━━━━━━━━━━━━━━━━━━━━━━</span>\n",
       "</pre>\n"
      ],
      "text/plain": [
       "\u001b[38;2;212;183;2m━━━━━━━━━━━━━━━━━━━━━━━━━━━━━━━━━━━━━━━━━━━━━━━━━━━━━ \u001b[0m\u001b[1mStep \u001b[0m\u001b[1;36m4\u001b[0m\u001b[38;2;212;183;2m ━━━━━━━━━━━━━━━━━━━━━━━━━━━━━━━━━━━━━━━━━━━━━━━━━━━━━━\u001b[0m\n"
      ]
     },
     "metadata": {},
     "output_type": "display_data"
    },
    {
     "data": {
      "text/html": [
       "<pre style=\"white-space:pre;overflow-x:auto;line-height:normal;font-family:Menlo,'DejaVu Sans Mono',consolas,'Courier New',monospace\">╭─────────────────────────────────────────────────────────────────────────────────────────────────────────────────╮\n",
       "│ Calling tool: 'final_answer' with arguments: {'answer': \"Technical indicators (RSI, Bollinger Bands) using      │\n",
       "│ financial_tool: RSI (14 periods): 54.23, Price Position: Current Price: 117.70, Upper Band of Bollinger Bands:  │\n",
       "│ 131.03, Lower Band of Bollinger Bands: 105.10, Current news sentiment: 92% of articles about NVDA were positive │\n",
       "│ this week, compared to its sector average of 59%, PE ratio comparison with industry: The current PE ratio of    │\n",
       "│ NVDA is 40.03, which is 23% below the historical average of 51.73, Market trend analysis: NVDA's forward PE     │\n",
       "│ ratio is 27.10, and the company has a current ratio of 4.44, with a Debt / Equity ratio of 0.\"}                 │\n",
       "╰─────────────────────────────────────────────────────────────────────────────────────────────────────────────────╯\n",
       "</pre>\n"
      ],
      "text/plain": [
       "╭─────────────────────────────────────────────────────────────────────────────────────────────────────────────────╮\n",
       "│ Calling tool: 'final_answer' with arguments: {'answer': \"Technical indicators (RSI, Bollinger Bands) using      │\n",
       "│ financial_tool: RSI (14 periods): 54.23, Price Position: Current Price: 117.70, Upper Band of Bollinger Bands:  │\n",
       "│ 131.03, Lower Band of Bollinger Bands: 105.10, Current news sentiment: 92% of articles about NVDA were positive │\n",
       "│ this week, compared to its sector average of 59%, PE ratio comparison with industry: The current PE ratio of    │\n",
       "│ NVDA is 40.03, which is 23% below the historical average of 51.73, Market trend analysis: NVDA's forward PE     │\n",
       "│ ratio is 27.10, and the company has a current ratio of 4.44, with a Debt / Equity ratio of 0.\"}                 │\n",
       "╰─────────────────────────────────────────────────────────────────────────────────────────────────────────────────╯\n"
      ]
     },
     "metadata": {},
     "output_type": "display_data"
    },
    {
     "data": {
      "text/html": [
       "<pre style=\"white-space:pre;overflow-x:auto;line-height:normal;font-family:Menlo,'DejaVu Sans Mono',consolas,'Courier New',monospace\"><span style=\"color: #d4b702; text-decoration-color: #d4b702; font-weight: bold\">Final answer: Technical indicators (RSI, Bollinger Bands) using financial_tool: RSI (14 periods): 54.23, Price </span>\n",
       "<span style=\"color: #d4b702; text-decoration-color: #d4b702; font-weight: bold\">Position: Current Price: 117.70, Upper Band of Bollinger Bands: 131.03, Lower Band of Bollinger Bands: 105.10, </span>\n",
       "<span style=\"color: #d4b702; text-decoration-color: #d4b702; font-weight: bold\">Current news sentiment: 92% of articles about NVDA were positive this week, compared to its sector average of 59%, </span>\n",
       "<span style=\"color: #d4b702; text-decoration-color: #d4b702; font-weight: bold\">PE ratio comparison with industry: The current PE ratio of NVDA is 40.03, which is 23% below the historical average</span>\n",
       "<span style=\"color: #d4b702; text-decoration-color: #d4b702; font-weight: bold\">of 51.73, Market trend analysis: NVDA's forward PE ratio is 27.10, and the company has a current ratio of 4.44, </span>\n",
       "<span style=\"color: #d4b702; text-decoration-color: #d4b702; font-weight: bold\">with a Debt / Equity ratio of 0.</span>\n",
       "</pre>\n"
      ],
      "text/plain": [
       "\u001b[1;38;2;212;183;2mFinal answer: Technical indicators (RSI, Bollinger Bands) using financial_tool: RSI (14 periods): 54.23, Price \u001b[0m\n",
       "\u001b[1;38;2;212;183;2mPosition: Current Price: 117.70, Upper Band of Bollinger Bands: 131.03, Lower Band of Bollinger Bands: 105.10, \u001b[0m\n",
       "\u001b[1;38;2;212;183;2mCurrent news sentiment: 92% of articles about NVDA were positive this week, compared to its sector average of 59%, \u001b[0m\n",
       "\u001b[1;38;2;212;183;2mPE ratio comparison with industry: The current PE ratio of NVDA is 40.03, which is 23% below the historical average\u001b[0m\n",
       "\u001b[1;38;2;212;183;2mof 51.73, Market trend analysis: NVDA's forward PE ratio is 27.10, and the company has a current ratio of 4.44, \u001b[0m\n",
       "\u001b[1;38;2;212;183;2mwith a Debt / Equity ratio of 0.\u001b[0m\n"
      ]
     },
     "metadata": {},
     "output_type": "display_data"
    },
    {
     "data": {
      "text/html": [
       "<pre style=\"white-space:pre;overflow-x:auto;line-height:normal;font-family:Menlo,'DejaVu Sans Mono',consolas,'Courier New',monospace\"><span style=\"color: #7f7f7f; text-decoration-color: #7f7f7f\">[Step 4: Duration 19.05 seconds| Input tokens: 11,451 | Output tokens: 279]</span>\n",
       "</pre>\n"
      ],
      "text/plain": [
       "\u001b[2m[Step 4: Duration 19.05 seconds| Input tokens: 11,451 | Output tokens: 279]\u001b[0m\n"
      ]
     },
     "metadata": {},
     "output_type": "display_data"
    }
   ],
   "source": [
    "agent_output = agent.run(prompt)"
   ]
  }
 ],
 "metadata": {
  "kernelspec": {
   "display_name": ".venv",
   "language": "python",
   "name": "python3"
  },
  "language_info": {
   "codemirror_mode": {
    "name": "ipython",
    "version": 3
   },
   "file_extension": ".py",
   "mimetype": "text/x-python",
   "name": "python",
   "nbconvert_exporter": "python",
   "pygments_lexer": "ipython3",
   "version": "3.12.9"
  }
 },
 "nbformat": 4,
 "nbformat_minor": 2
}
