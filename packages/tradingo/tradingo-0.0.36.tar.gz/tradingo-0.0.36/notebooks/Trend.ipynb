{
 "cells": [
  {
   "cell_type": "code",
   "execution_count": null,
   "id": "40ec4381-1faf-4039-8c8f-6aeb2edefab0",
   "metadata": {},
   "outputs": [],
   "source": [
    "import arcticdb as adb\n",
    "import json\n",
    "import numpy as np\n",
    "import pandas as pd\n",
    "import os\n",
    "import matplotlib.pyplot as plt\n",
    "import dtale\n",
    "from sklearn.decomposition import PCA\n",
    "from tradingo import backtest\n",
    "from tradingo.utils import get_instruments, get_config, with_instrument_details\n",
    "from tradingo.api import Tradingo\n",
    "import itertools\n",
    "import seaborn as sns\n",
    "from tradingo.plotting import plot_multi\n",
    "import logging\n",
    "from tradingo import sampling"
   ]
  },
  {
   "cell_type": "code",
   "execution_count": null,
   "id": "93047f8e-0036-444d-a0ec-e3589e037c6d",
   "metadata": {},
   "outputs": [],
   "source": [
    "t = Tradingo(name=\"etft\", uri=\"lmdb:///home/rory/dev/airflow/test/arctic.db\", provider=\"yfinance\", universe='vanguard')"
   ]
  },
  {
   "cell_type": "code",
   "execution_count": null,
   "id": "9d90b1e0-10c3-4e45-9e5f-97ae26eea1d2",
   "metadata": {},
   "outputs": [],
   "source": [
    "t."
   ]
  },
  {
   "cell_type": "code",
   "execution_count": null,
   "id": "253ba838-a046-4246-a52b-66b4a191cd3b",
   "metadata": {},
   "outputs": [],
   "source": [
    "import logging\n",
    "logging.getLogger(\"tradingo\").setLevel(logging.INFO)"
   ]
  },
  {
   "cell_type": "code",
   "execution_count": null,
   "id": "f7e40d4d-48ca-46c2-adb9-1990a9f886d3",
   "metadata": {},
   "outputs": [],
   "source": [
    "t.backtest.trend.raw.shares"
   ]
  },
  {
   "cell_type": "code",
   "execution_count": null,
   "id": "418ef61b-4d12-4b96-a0a9-0ae6e1fc6ffd",
   "metadata": {},
   "outputs": [],
   "source": [
    "\n",
    "t.backtest.trend"
   ]
  },
  {
   "cell_type": "code",
   "execution_count": null,
   "id": "2f62373f-7e70-4ef8-8df0-a7fef9f4e361",
   "metadata": {},
   "outputs": [],
   "source": [
    "sampling.sample_equity(\n",
    "    start_date=pd.Timestamp(\"2024-01-01\"),\n",
    "    end_date=pd.Timestamp.now().normalize(),\n",
    "    name='etfs',\n",
    "    config_name='etft',\n",
    "    provider='yfinance',\n",
    "    universe='etfs',\n",
    ")"
   ]
  },
  {
   "cell_type": "code",
   "execution_count": null,
   "id": "751b7bdc-7343-46b4-b45a-85b5ada51834",
   "metadata": {},
   "outputs": [],
   "source": [
    "bt = backtest.backtest(start_date=pd.Timestamp(\"2021-01-01 00:00:00+00:00\"), end_date=pd.Timestamp.now(\"utc\"), name=\"trend\", stage=\"raw\", config_name=\"ETFT\", provider=\"yfinance\", dry_run=True)"
   ]
  },
  {
   "cell_type": "code",
   "execution_count": null,
   "id": "48ff920a-f141-40d2-9772-d82ecd5764db",
   "metadata": {},
   "outputs": [],
   "source": [
    "(np.sqrt(260) * ((1+t.prices.close().pct_change()).prod(axis=1).pow(1/398) - 1).ewm(10).std()).plot()"
   ]
  },
  {
   "cell_type": "code",
   "execution_count": null,
   "id": "bc411e6e-3c31-48f5-ad21-162f361f778c",
   "metadata": {},
   "outputs": [],
   "source": [
    "ivol = t.prices.ivol()"
   ]
  },
  {
   "cell_type": "code",
   "execution_count": null,
   "id": "b1fc3c29-1acc-4104-adae-dd2e25da551d",
   "metadata": {},
   "outputs": [],
   "source": [
    "top_ivol = ivol.iloc[-1].rename(\"ivol\").sort_values(ascending=False).to_frame().merge(t.instruments.etfs(), left_index=True, right_index=True)[[\"ivol\", \"Name\"]].head(40)"
   ]
  },
  {
   "cell_type": "code",
   "execution_count": null,
   "id": "7894ddc2-309e-4203-9dc8-7d8b6f90a464",
   "metadata": {},
   "outputs": [],
   "source": [
    "pxs=t.prices.adj_close()\n",
    "# pxs.plot()\n",
    "pxs[['IBLC', 'EWZS', 'ITB', 'ETEC', 'BTEK', 'ILIT', 'IRBO']].plot()\n",
    "(top_ivol.ivol * 100)\n"
   ]
  },
  {
   "cell_type": "code",
   "execution_count": null,
   "id": "c2f2d723-2bec-469c-9c1d-cbca73505cfc",
   "metadata": {},
   "outputs": [],
   "source": [
    "vol = lambda uni: (1 - ((1 + uni).prod(axis=1).pow(1 / 100))).ewm(10).std()\n",
    "vol(prices.pct_change())"
   ]
  },
  {
   "cell_type": "code",
   "execution_count": null,
   "id": "008e08de-c043-4cc0-8aa9-49c3cfbc6f09",
   "metadata": {},
   "outputs": [],
   "source": [
    "(\"ETFT\", \"trend\", \"portfolio\", \"summary\")"
   ]
  },
  {
   "cell_type": "code",
   "execution_count": null,
   "id": "497646aa-467a-44e4-9f57-d734e9129e34",
   "metadata": {},
   "outputs": [],
   "source": [
    "from tradingo.utils import with_instrument_details\n",
    "RETURNS = with_instrument_details(instruments=t.instruments.etfs(),\n",
    "                        dataframe=t.prices.adj_close().pct_change(),\n",
    "                        columns=[\"Asset Class\"])"
   ]
  },
  {
   "cell_type": "code",
   "execution_count": null,
   "id": "7da923d7-f627-47dd-8e2f-da2e7ddd4532",
   "metadata": {},
   "outputs": [],
   "source": [
    "(1+RETURNS.loc[:,\"Commodities & Digital Assets\"].transpose().merge(t.instruments.etfs().Name, left_index=True, right_index=True).reset_index(drop=True).set_index([\"Name\"]).transpose()).cumprod().plot(figsize=(12, 6))"
   ]
  },
  {
   "cell_type": "code",
   "execution_count": null,
   "id": "721f39d6-91d3-427b-b852-a9e5a65f3d45",
   "metadata": {},
   "outputs": [],
   "source": [
    "ivol = with_instrument_details(instruments=t.instruments.etfs(), dataframe=t.prices.ivol(), columns=[\"Asset Class\"]).groupby(\"Asset Class\", axis=1).idxmax(axis=1)\n",
    "ivol_selection = ivol.iloc[-100]"
   ]
  },
  {
   "cell_type": "code",
   "execution_count": null,
   "id": "91f4b4d9-74f9-4b12-867c-01c7e02b2fa6",
   "metadata": {},
   "outputs": [],
   "source": [
    "close = with_instrument_details(instruments=t.instruments.etfs(), dataframe=t.prices.close(), columns=[\"Asset Class\"])"
   ]
  },
  {
   "cell_type": "code",
   "execution_count": null,
   "id": "9457da9d-fa67-441e-82a8-afa6aab0d61e",
   "metadata": {},
   "outputs": [],
   "source": [
    "close[ivol_selection.values].plot()"
   ]
  },
  {
   "cell_type": "code",
   "execution_count": null,
   "id": "f72a297a-168a-45c0-84cf-1a17b8d0524d",
   "metadata": {},
   "outputs": [],
   "source": [
    "pd.concat([pd.DataFrame([i.to_dict() for i in j]) for j in bt[-1]], axis=1, keys=trades.columns)"
   ]
  },
  {
   "cell_type": "code",
   "execution_count": null,
   "id": "99dc70b9-bbc3-4bb8-b4e3-a065345bb01c",
   "metadata": {},
   "outputs": [],
   "source": []
  },
  {
   "cell_type": "code",
   "execution_count": null,
   "id": "06eaa97f-a8e3-44cb-b05e-ef5acf349d9f",
   "metadata": {},
   "outputs": [],
   "source": [
    "df = pd.concat((\n",
    "    t.prices.adj_close(), t.signals.trend.ewmac_64_32(), t.signals.trend.ewmac_128_64(), t.portfolio.trend.raw.shares()\n",
    "),\n",
    "               axis=1, keys=(\"PRICE\", \"SIGNAL\", \"ewmac_46_32\", \"ewmac_128_64\", \"SHARES\")).loc[(slice(None), slice(None))]"
   ]
  },
  {
   "cell_type": "code",
   "execution_count": null,
   "id": "f1d12ac2-abc2-42c3-aea9-fd18e24496e8",
   "metadata": {},
   "outputs": [],
   "source": []
  },
  {
   "cell_type": "code",
   "execution_count": null,
   "id": "7d1b9b77-8cf3-4b96-8e7e-23b7233bfe00",
   "metadata": {},
   "outputs": [],
   "source": [
    "plot_multi(df.loc[:,(slice(None), \"AAXJ\")])"
   ]
  },
  {
   "cell_type": "code",
   "execution_count": null,
   "id": "c592ca6b-32b2-48f7-94cb-3df183079fe6",
   "metadata": {},
   "outputs": [],
   "source": [
    "corr = t.prices.close().corr().unstack()\n",
    "corr[\n",
    "    corr.index.get_level_values(0) != corr.index.get_level_values(1)\n",
    "]\n",
    "pairs = [i for i in itertools.combinations(corr.index.get_level_values(0).drop_duplicates(), 2)]\n",
    "corr = corr.reindex(pd.MultiIndex.from_tuples(pairs)).idxmax()"
   ]
  },
  {
   "cell_type": "code",
   "execution_count": null,
   "id": "d53a9744-06d0-43d8-ab53-fc878ac9f7ca",
   "metadata": {},
   "outputs": [],
   "source": [
    "corr.idxmax()"
   ]
  },
  {
   "cell_type": "code",
   "execution_count": null,
   "id": "0db22c04-ea20-4aaa-a942-348ae7d31974",
   "metadata": {},
   "outputs": [],
   "source": [
    "t.prices."
   ]
  },
  {
   "cell_type": "code",
   "execution_count": null,
   "id": "0bee6e32-6c4c-42bb-a718-57b4f2a2bb76",
   "metadata": {},
   "outputs": [],
   "source": [
    "t.instruments.etfs.head().loc[\"ITOT\"]"
   ]
  },
  {
   "cell_type": "code",
   "execution_count": null,
   "id": "1d7dc16a-dfc9-43ab-afb0-cf37f487eb2d",
   "metadata": {},
   "outputs": [],
   "source": [
    "t.prices.close()"
   ]
  },
  {
   "cell_type": "code",
   "execution_count": null,
   "id": "c7a7e9d1-7659-4141-b4e5-42cda2ba2b78",
   "metadata": {},
   "outputs": [],
   "source": [
    "t.prices.close()[t.prices.ivol().iloc[-1].idxmax()].plot(label=t.prices.ivol[-1].idxmax())"
   ]
  },
  {
   "cell_type": "code",
   "execution_count": null,
   "id": "3ea3ca38-e906-48a4-b758-7d67a2dfa45c",
   "metadata": {},
   "outputs": [],
   "source": [
    "t.instruments.etfs()"
   ]
  },
  {
   "cell_type": "code",
   "execution_count": null,
   "id": "af071c3b-0725-4807-9d74-1cf2bb5d5ed3",
   "metadata": {},
   "outputs": [],
   "source": [
    "(t.backtest.trend.portfolio().total_pnl+ 70_000).plot()"
   ]
  },
  {
   "cell_type": "code",
   "execution_count": null,
   "id": "870f704f-95c9-4704-8a28-ca5fdfbfcbf3",
   "metadata": {},
   "outputs": [],
   "source": []
  },
  {
   "cell_type": "code",
   "execution_count": null,
   "id": "bf12566b-16f9-425b-919f-8dc1367f8656",
   "metadata": {},
   "outputs": [],
   "source": [
    "\n"
   ]
  },
  {
   "cell_type": "code",
   "execution_count": null,
   "id": "d2063047-c0a0-48fb-a109-ce544a65c90b",
   "metadata": {},
   "outputs": [],
   "source": []
  },
  {
   "cell_type": "code",
   "execution_count": null,
   "id": "968be1f9-dc92-4148-82f1-5d865e6c8d3e",
   "metadata": {},
   "outputs": [],
   "source": [
    "position * price"
   ]
  },
  {
   "cell_type": "code",
   "execution_count": null,
   "id": "211670ed-b26d-4ab4-b878-034ad16e5afc",
   "metadata": {},
   "outputs": [],
   "source": [
    "\n",
    "from tradingo.test import test_backtest as test\n",
    "price = test.prices.__wrapped__()\n",
    "position = test.position.__wrapped__(price)\n",
    "\n",
    "bt = backtest.backtest(\n",
    "    portfolio=position,                   \n",
    "    prices=price,                \n",
    "    name=\"test\",                                   \n",
    "    config_name=\"test\",                            \n",
    "    dry_run=True,                                  \n",
    "     start_date=price.index[0],   \n",
    "     end_date=price.index[-1],    \n",
    "     stage=\"raw\",                                   \n",
    "   )"
   ]
  },
  {
   "cell_type": "code",
   "execution_count": null,
   "id": "7c488a12-23c9-4748-a904-12e6ad61a85c",
   "metadata": {},
   "outputs": [],
   "source": [
    "bt['backtest/portfolio']"
   ]
  },
  {
   "cell_type": "code",
   "execution_count": null,
   "id": "23f2de7b-272c-457c-a1e6-ca0c6857b5ec",
   "metadata": {},
   "outputs": [],
   "source": [
    "t.instruments.etfs()[[\"Net Assets (USD)\", \"Name\", \"Region\"]]"
   ]
  },
  {
   "cell_type": "code",
   "execution_count": null,
   "id": "57a4c067-9f69-488d-9604-3dfaace07ca2",
   "metadata": {},
   "outputs": [],
   "source": [
    "def sharpe(returns: pd.DataFrame):\n",
    "    return (1+returns).resample(\"M\").prod()/returns.resample(\"M\").std() * np.sqrt(260)\n",
    "\n",
    "(((t.prices.close().pct_change()).resample(\"Y\").mean())/(t.prices.close().pct_change().resample(\"Y\").std())).IVV"
   ]
  },
  {
   "cell_type": "code",
   "execution_count": null,
   "id": "ce3bf4cb-b96b-4d1d-8420-4c78c48d7280",
   "metadata": {},
   "outputs": [],
   "source": [
    "half_life = 62\n",
    "\n",
    "mean_return = t.prices.close().pct_change().ewm(half_life).mean()\n",
    "std_return = t.prices.close().pct_change().ewm(half_life).std()\n",
    "(mean_return/std_return).IVV.iloc[62:].plot()\n"
   ]
  },
  {
   "cell_type": "code",
   "execution_count": null,
   "id": "073369cb-bbb9-4dbd-bda9-3e1c320d4623",
   "metadata": {},
   "outputs": [],
   "source": [
    "(returns.mean()/returns.std())"
   ]
  },
  {
   "cell_type": "code",
   "execution_count": null,
   "id": "39d10aa1-2947-410f-a797-ab08c55341fb",
   "metadata": {},
   "outputs": [],
   "source": [
    "t.instruments.etfs().Name.loc[\"GOVZ\"]"
   ]
  },
  {
   "cell_type": "code",
   "execution_count": null,
   "id": "ea23eddf-2a06-43c1-947a-7b6cbd4a6aa4",
   "metadata": {},
   "outputs": [],
   "source": [
    "t.prices.adj_close().transpose().sort_values(\"2024-05-24\").tail(20).transpose().rename(instruments.Name.loc.__getitem__, axis=1).plot()"
   ]
  },
  {
   "cell_type": "code",
   "execution_count": null,
   "id": "25d4c59c-2b0e-4d60-9d96-5b1093f4c014",
   "metadata": {},
   "outputs": [],
   "source": [
    "corr_ivv = t.prices.adj_close().corr()[\"IVV\"].sort_values()"
   ]
  },
  {
   "cell_type": "code",
   "execution_count": null,
   "id": "020b7d09-7ab9-4c2e-a7ba-d1f0c76b9f53",
   "metadata": {},
   "outputs": [],
   "source": [
    "t.instruments.etfs().merge(corr_ivv.rename(\"corr_sp500\"), left_index=True, right_index=True).sort_values(\"corr_sp500\").head(10).Name"
   ]
  },
  {
   "cell_type": "code",
   "execution_count": null,
   "id": "72f18048-b74d-4416-a6fe-3384e3c41383",
   "metadata": {},
   "outputs": [],
   "source": [
    "t.signals.trend.vol_64()[\"UAE\"]"
   ]
  },
  {
   "cell_type": "code",
   "execution_count": null,
   "id": "4ddd8c34-d2d5-405b-941e-117f76f6bbe8",
   "metadata": {},
   "outputs": [],
   "source": [
    "t.prices.adj_close()[[\"IVV\", \"IVW\", ]].plot()"
   ]
  },
  {
   "cell_type": "code",
   "execution_count": null,
   "id": "f2620e46-b5b9-4c90-9569-6b744f171896",
   "metadata": {},
   "outputs": [],
   "source": [
    "instruments[\n",
    "    ~instruments.Name.str.contains(\"Treasury\")\n",
    "]"
   ]
  },
  {
   "cell_type": "code",
   "execution_count": null,
   "id": "f514f90c-4a28-458a-9917-331c8761dab3",
   "metadata": {},
   "outputs": [],
   "source": [
    "t.prices."
   ]
  },
  {
   "cell_type": "code",
   "execution_count": null,
   "id": "84c2ff50-6f22-4f43-9647-6a52ab5dc088",
   "metadata": {},
   "outputs": [],
   "source": [
    "pd.concat(\n",
    "    (\n",
    "        corr_ivv, t.prices.close().pct_change().mean().rename('median'),\n",
    "        t.prices.close().pct_change().mean().rename('mean'),\n",
    "        instruments.Name\n",
    "    ),\n",
    "    axis=1\n",
    ").query(\"IVV > 0\").plot.scatter(\n",
    "    x='IVV',\n",
    "    y='mean'\n",
    ")"
   ]
  },
  {
   "cell_type": "code",
   "execution_count": null,
   "id": "c3410c86-364e-4718-ad9c-1cbdc9ece640",
   "metadata": {},
   "outputs": [],
   "source": [
    "instruments = t.instruments.etfs()\n",
    "instruments[instruments.index.isin(total_return.tail(10).index)].transpose()"
   ]
  },
  {
   "cell_type": "code",
   "execution_count": null,
   "id": "76005dde-728e-492e-b67c-93c21ed7455f",
   "metadata": {},
   "outputs": [],
   "source": [
    "ivol = t.prices.ivol().rename_axis(\"Symbol\")\n",
    "inst = t.instruments.etfs()\n",
    "ivol.transpose().sort_values(ivol.index[-1]).merge(inst[\"Asset Class\"]).set_index([\"Asset Class\"], append=True).reoorder_levels()"
   ]
  },
  {
   "cell_type": "code",
   "execution_count": null,
   "id": "44884350-fec1-413b-903c-02081ac37569",
   "metadata": {},
   "outputs": [],
   "source": [
    "t.instruments.etfs()"
   ]
  },
  {
   "cell_type": "code",
   "execution_count": null,
   "id": "745fe4b4-08b4-4f5c-891a-d606108f22dc",
   "metadata": {},
   "outputs": [],
   "source": [
    "with t.common_args(columns=[\"ACWV\", \"IVV\", \"IWFH\"]):\n",
    "    acwv = t.portfolio.trend.raw.shares()\n",
    "bounds = pd.concat(\n",
    "    (\n",
    "        acwv,\n",
    "        acwv.mul(1.1).shift(),\n",
    "        acwv.mul(0.9).shift(),\n",
    "    ),\n",
    "    axis=1,\n",
    "    keys=(\"unbuffered\", \"upper\", \"lower\")\n",
    ")\n",
    "bounds = bounds.merge(pd.concat((bounds.unbuffered.where((\n",
    "    ~((bounds.lower < bounds.unbuffered) & (bounds.unbuffered < bounds.upper))\n",
    "), np.nan).ffill(),), keys=(\"buffered\",), axis=1), right_index=True, left_index=True)\n",
    "bounds.plot(figsize=(12,6))"
   ]
  },
  {
   "cell_type": "code",
   "execution_count": null,
   "id": "63a809bb-2df0-4e91-bdc8-948d99ca4189",
   "metadata": {},
   "outputs": [],
   "source": [
    "t.instruments.etfs()"
   ]
  },
  {
   "cell_type": "code",
   "execution_count": null,
   "id": "ba313948-c700-4a92-8977-9fa62e9c9134",
   "metadata": {},
   "outputs": [],
   "source": [
    "bounds.loc[:,(slice(None),\"IVV\")].plot(figsize=(12,6))"
   ]
  },
  {
   "cell_type": "code",
   "execution_count": null,
   "id": "88169c7b-26ea-4584-9c40-4745e7b3c96e",
   "metadata": {},
   "outputs": [],
   "source": [
    "inst_pnl = t.backtest.trend.raw.shares.instrument.total_pnl()\n",
    "backtest = t.backtest.trend.raw.shares.buffered.instrument\n",
    "\n",
    "instruments = t.instruments.etfs()\n",
    "inst_pnl.transpose().sort_values(by=inst_pnl.index[-1], ascending=False).merge(instruments.Name, left_index=True, right_index=True).set_index(\"Name\", append=True).transpose()[[\"IYW\",\"IGV\"]].plot()"
   ]
  },
  {
   "cell_type": "code",
   "execution_count": null,
   "id": "2e5fa4ba-6e9c-47e0-bd7d-91119bff99c4",
   "metadata": {},
   "outputs": [],
   "source": [
    "backtest"
   ]
  },
  {
   "cell_type": "code",
   "execution_count": null,
   "id": "30430df1-38b3-499d-81e1-d63d56376307",
   "metadata": {},
   "outputs": [],
   "source": [
    "data = pd.concat((t.backtest.trend.raw.shares.instrument.total_pnl(), (t.backtest.trend.raw.shares.instrument.net_position())), axis=1, keys=(\"total_pnl\", \"net_position\"))"
   ]
  },
  {
   "cell_type": "code",
   "execution_count": null,
   "id": "dc0a1cc4-2f54-4fa3-a75a-86312c02cc00",
   "metadata": {},
   "outputs": [],
   "source": [
    "from tradingo.plotting import plot_multi\n",
    "plot_multi(data.loc[:, (slice(None),\"IVV\")])"
   ]
  },
  {
   "cell_type": "code",
   "execution_count": null,
   "id": "e3452f2b-3dbd-4303-a2e8-476bfcc97e6e",
   "metadata": {},
   "outputs": [],
   "source": [
    "t.backtest.trend.raw.shares.portfolio().total_pnl.plot()"
   ]
  },
  {
   "cell_type": "code",
   "execution_count": null,
   "id": "5ca85136-ce51-4914-9f4d-f6578fe63ada",
   "metadata": {},
   "outputs": [],
   "source": []
  }
 ],
 "metadata": {
  "kernelspec": {
   "display_name": "Python 3 (ipykernel)",
   "language": "python",
   "name": "python3"
  },
  "language_info": {
   "codemirror_mode": {
    "name": "ipython",
    "version": 3
   },
   "file_extension": ".py",
   "mimetype": "text/x-python",
   "name": "python",
   "nbconvert_exporter": "python",
   "pygments_lexer": "ipython3"
  }
 },
 "nbformat": 4,
 "nbformat_minor": 5
}
