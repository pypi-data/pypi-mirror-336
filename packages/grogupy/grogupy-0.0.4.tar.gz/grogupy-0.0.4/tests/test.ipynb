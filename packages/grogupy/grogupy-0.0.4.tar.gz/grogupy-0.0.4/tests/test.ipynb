{
 "cells": [
  {
   "cell_type": "markdown",
   "metadata": {},
   "source": [
    "# Unit test and general code health!!!"
   ]
  },
  {
   "cell_type": "code",
   "execution_count": 1,
   "metadata": {},
   "outputs": [
    {
     "name": "stderr",
     "output_type": "stream",
     "text": [
      "[Daniels-MacBook-Air.local:94792] shmem: mmap: an error occurred while determining whether or not /var/folders/yh/dx7xl94n3g52ts3td8qcxjcc0000gn/T//ompi.Daniels-MacBook-Air.501/jf.0/3850764288/sm_segment.Daniels-MacBook-Air.501.e5860000.0 could be created.\n",
      "/Users/danielpozsar/Documents/oktatás/elte/phd/grogu/.venv/lib/python3.9/site-packages/grogupy/_tqdm.py:24: TqdmWarning: IProgress not found. Please update jupyter and ipywidgets. See https://ipywidgets.readthedocs.io/en/stable/user_install.html\n",
      "  from tqdm.autonotebook import tqdm\n"
     ]
    }
   ],
   "source": [
    "import numpy as np\n",
    "\n",
    "import grogupy\n",
    "import grogupy.viz\n",
    "\n",
    "# insulator eset 100\n",
    "# insulator esetp 600\n",
    "\n",
    "# metallic eset 1000\n",
    "# metallic esetp 10000\n",
    "\n",
    "# 100 kpoint for diatomic systems"
   ]
  },
  {
   "cell_type": "code",
   "execution_count": 2,
   "metadata": {},
   "outputs": [],
   "source": [
    "infile = \"../benchmarks/Fe_colinear/Fe.fdf\"\n",
    "# infile = \"../benchmarks/Cr3/Cr3.fdf\"\n",
    "# infile = \"/Users/danielpozsar/Downloads/Fe3GeTe2/Fe3GeTe2.fdf\""
   ]
  },
  {
   "cell_type": "code",
   "execution_count": 3,
   "metadata": {},
   "outputs": [
    {
     "data": {
      "application/vnd.plotly.v1+json": {
       "config": {
        "plotlyServerURL": "https://plot.ly"
       },
       "data": [
        {
         "marker": {
          "color": {
           "bdata": "AAAAAAAA8D8=",
           "dtype": "f8"
          },
          "colorbar": {
           "title": {
            "text": "Weights of kpoints"
           },
           "x": 0.75
          },
          "colorscale": [
           [
            0,
            "#440154"
           ],
           [
            0.1111111111111111,
            "#482878"
           ],
           [
            0.2222222222222222,
            "#3e4989"
           ],
           [
            0.3333333333333333,
            "#31688e"
           ],
           [
            0.4444444444444444,
            "#26828e"
           ],
           [
            0.5555555555555556,
            "#1f9e89"
           ],
           [
            0.6666666666666666,
            "#35b779"
           ],
           [
            0.7777777777777778,
            "#6ece58"
           ],
           [
            0.8888888888888888,
            "#b5de2b"
           ],
           [
            1,
            "#fde725"
           ]
          ],
          "opacity": 1,
          "size": 5
         },
         "mode": "markers",
         "name": "Kpoints",
         "type": "scatter3d",
         "x": {
          "bdata": "AAAAAAAAAAA=",
          "dtype": "f8"
         },
         "y": {
          "bdata": "AAAAAAAAAAA=",
          "dtype": "f8"
         },
         "z": {
          "bdata": "AAAAAAAAAAA=",
          "dtype": "f8"
         }
        }
       ],
       "layout": {
        "autosize": false,
        "height": 700,
        "scene": {
         "aspectmode": "data",
         "xaxis": {
          "gridwidth": 1,
          "showgrid": true,
          "title": {
           "text": "X Axis"
          }
         },
         "yaxis": {
          "gridwidth": 1,
          "showgrid": true,
          "title": {
           "text": "Y Axis"
          }
         },
         "zaxis": {
          "gridwidth": 1,
          "showgrid": true,
          "title": {
           "text": "Z Axis"
          }
         }
        },
        "template": {
         "data": {
          "bar": [
           {
            "error_x": {
             "color": "#2a3f5f"
            },
            "error_y": {
             "color": "#2a3f5f"
            },
            "marker": {
             "line": {
              "color": "#E5ECF6",
              "width": 0.5
             },
             "pattern": {
              "fillmode": "overlay",
              "size": 10,
              "solidity": 0.2
             }
            },
            "type": "bar"
           }
          ],
          "barpolar": [
           {
            "marker": {
             "line": {
              "color": "#E5ECF6",
              "width": 0.5
             },
             "pattern": {
              "fillmode": "overlay",
              "size": 10,
              "solidity": 0.2
             }
            },
            "type": "barpolar"
           }
          ],
          "carpet": [
           {
            "aaxis": {
             "endlinecolor": "#2a3f5f",
             "gridcolor": "white",
             "linecolor": "white",
             "minorgridcolor": "white",
             "startlinecolor": "#2a3f5f"
            },
            "baxis": {
             "endlinecolor": "#2a3f5f",
             "gridcolor": "white",
             "linecolor": "white",
             "minorgridcolor": "white",
             "startlinecolor": "#2a3f5f"
            },
            "type": "carpet"
           }
          ],
          "choropleth": [
           {
            "colorbar": {
             "outlinewidth": 0,
             "ticks": ""
            },
            "type": "choropleth"
           }
          ],
          "contour": [
           {
            "colorbar": {
             "outlinewidth": 0,
             "ticks": ""
            },
            "colorscale": [
             [
              0,
              "#0d0887"
             ],
             [
              0.1111111111111111,
              "#46039f"
             ],
             [
              0.2222222222222222,
              "#7201a8"
             ],
             [
              0.3333333333333333,
              "#9c179e"
             ],
             [
              0.4444444444444444,
              "#bd3786"
             ],
             [
              0.5555555555555556,
              "#d8576b"
             ],
             [
              0.6666666666666666,
              "#ed7953"
             ],
             [
              0.7777777777777778,
              "#fb9f3a"
             ],
             [
              0.8888888888888888,
              "#fdca26"
             ],
             [
              1,
              "#f0f921"
             ]
            ],
            "type": "contour"
           }
          ],
          "contourcarpet": [
           {
            "colorbar": {
             "outlinewidth": 0,
             "ticks": ""
            },
            "type": "contourcarpet"
           }
          ],
          "heatmap": [
           {
            "colorbar": {
             "outlinewidth": 0,
             "ticks": ""
            },
            "colorscale": [
             [
              0,
              "#0d0887"
             ],
             [
              0.1111111111111111,
              "#46039f"
             ],
             [
              0.2222222222222222,
              "#7201a8"
             ],
             [
              0.3333333333333333,
              "#9c179e"
             ],
             [
              0.4444444444444444,
              "#bd3786"
             ],
             [
              0.5555555555555556,
              "#d8576b"
             ],
             [
              0.6666666666666666,
              "#ed7953"
             ],
             [
              0.7777777777777778,
              "#fb9f3a"
             ],
             [
              0.8888888888888888,
              "#fdca26"
             ],
             [
              1,
              "#f0f921"
             ]
            ],
            "type": "heatmap"
           }
          ],
          "histogram": [
           {
            "marker": {
             "pattern": {
              "fillmode": "overlay",
              "size": 10,
              "solidity": 0.2
             }
            },
            "type": "histogram"
           }
          ],
          "histogram2d": [
           {
            "colorbar": {
             "outlinewidth": 0,
             "ticks": ""
            },
            "colorscale": [
             [
              0,
              "#0d0887"
             ],
             [
              0.1111111111111111,
              "#46039f"
             ],
             [
              0.2222222222222222,
              "#7201a8"
             ],
             [
              0.3333333333333333,
              "#9c179e"
             ],
             [
              0.4444444444444444,
              "#bd3786"
             ],
             [
              0.5555555555555556,
              "#d8576b"
             ],
             [
              0.6666666666666666,
              "#ed7953"
             ],
             [
              0.7777777777777778,
              "#fb9f3a"
             ],
             [
              0.8888888888888888,
              "#fdca26"
             ],
             [
              1,
              "#f0f921"
             ]
            ],
            "type": "histogram2d"
           }
          ],
          "histogram2dcontour": [
           {
            "colorbar": {
             "outlinewidth": 0,
             "ticks": ""
            },
            "colorscale": [
             [
              0,
              "#0d0887"
             ],
             [
              0.1111111111111111,
              "#46039f"
             ],
             [
              0.2222222222222222,
              "#7201a8"
             ],
             [
              0.3333333333333333,
              "#9c179e"
             ],
             [
              0.4444444444444444,
              "#bd3786"
             ],
             [
              0.5555555555555556,
              "#d8576b"
             ],
             [
              0.6666666666666666,
              "#ed7953"
             ],
             [
              0.7777777777777778,
              "#fb9f3a"
             ],
             [
              0.8888888888888888,
              "#fdca26"
             ],
             [
              1,
              "#f0f921"
             ]
            ],
            "type": "histogram2dcontour"
           }
          ],
          "mesh3d": [
           {
            "colorbar": {
             "outlinewidth": 0,
             "ticks": ""
            },
            "type": "mesh3d"
           }
          ],
          "parcoords": [
           {
            "line": {
             "colorbar": {
              "outlinewidth": 0,
              "ticks": ""
             }
            },
            "type": "parcoords"
           }
          ],
          "pie": [
           {
            "automargin": true,
            "type": "pie"
           }
          ],
          "scatter": [
           {
            "fillpattern": {
             "fillmode": "overlay",
             "size": 10,
             "solidity": 0.2
            },
            "type": "scatter"
           }
          ],
          "scatter3d": [
           {
            "line": {
             "colorbar": {
              "outlinewidth": 0,
              "ticks": ""
             }
            },
            "marker": {
             "colorbar": {
              "outlinewidth": 0,
              "ticks": ""
             }
            },
            "type": "scatter3d"
           }
          ],
          "scattercarpet": [
           {
            "marker": {
             "colorbar": {
              "outlinewidth": 0,
              "ticks": ""
             }
            },
            "type": "scattercarpet"
           }
          ],
          "scattergeo": [
           {
            "marker": {
             "colorbar": {
              "outlinewidth": 0,
              "ticks": ""
             }
            },
            "type": "scattergeo"
           }
          ],
          "scattergl": [
           {
            "marker": {
             "colorbar": {
              "outlinewidth": 0,
              "ticks": ""
             }
            },
            "type": "scattergl"
           }
          ],
          "scattermap": [
           {
            "marker": {
             "colorbar": {
              "outlinewidth": 0,
              "ticks": ""
             }
            },
            "type": "scattermap"
           }
          ],
          "scattermapbox": [
           {
            "marker": {
             "colorbar": {
              "outlinewidth": 0,
              "ticks": ""
             }
            },
            "type": "scattermapbox"
           }
          ],
          "scatterpolar": [
           {
            "marker": {
             "colorbar": {
              "outlinewidth": 0,
              "ticks": ""
             }
            },
            "type": "scatterpolar"
           }
          ],
          "scatterpolargl": [
           {
            "marker": {
             "colorbar": {
              "outlinewidth": 0,
              "ticks": ""
             }
            },
            "type": "scatterpolargl"
           }
          ],
          "scatterternary": [
           {
            "marker": {
             "colorbar": {
              "outlinewidth": 0,
              "ticks": ""
             }
            },
            "type": "scatterternary"
           }
          ],
          "surface": [
           {
            "colorbar": {
             "outlinewidth": 0,
             "ticks": ""
            },
            "colorscale": [
             [
              0,
              "#0d0887"
             ],
             [
              0.1111111111111111,
              "#46039f"
             ],
             [
              0.2222222222222222,
              "#7201a8"
             ],
             [
              0.3333333333333333,
              "#9c179e"
             ],
             [
              0.4444444444444444,
              "#bd3786"
             ],
             [
              0.5555555555555556,
              "#d8576b"
             ],
             [
              0.6666666666666666,
              "#ed7953"
             ],
             [
              0.7777777777777778,
              "#fb9f3a"
             ],
             [
              0.8888888888888888,
              "#fdca26"
             ],
             [
              1,
              "#f0f921"
             ]
            ],
            "type": "surface"
           }
          ],
          "table": [
           {
            "cells": {
             "fill": {
              "color": "#EBF0F8"
             },
             "line": {
              "color": "white"
             }
            },
            "header": {
             "fill": {
              "color": "#C8D4E3"
             },
             "line": {
              "color": "white"
             }
            },
            "type": "table"
           }
          ]
         },
         "layout": {
          "annotationdefaults": {
           "arrowcolor": "#2a3f5f",
           "arrowhead": 0,
           "arrowwidth": 1
          },
          "autotypenumbers": "strict",
          "coloraxis": {
           "colorbar": {
            "outlinewidth": 0,
            "ticks": ""
           }
          },
          "colorscale": {
           "diverging": [
            [
             0,
             "#8e0152"
            ],
            [
             0.1,
             "#c51b7d"
            ],
            [
             0.2,
             "#de77ae"
            ],
            [
             0.3,
             "#f1b6da"
            ],
            [
             0.4,
             "#fde0ef"
            ],
            [
             0.5,
             "#f7f7f7"
            ],
            [
             0.6,
             "#e6f5d0"
            ],
            [
             0.7,
             "#b8e186"
            ],
            [
             0.8,
             "#7fbc41"
            ],
            [
             0.9,
             "#4d9221"
            ],
            [
             1,
             "#276419"
            ]
           ],
           "sequential": [
            [
             0,
             "#0d0887"
            ],
            [
             0.1111111111111111,
             "#46039f"
            ],
            [
             0.2222222222222222,
             "#7201a8"
            ],
            [
             0.3333333333333333,
             "#9c179e"
            ],
            [
             0.4444444444444444,
             "#bd3786"
            ],
            [
             0.5555555555555556,
             "#d8576b"
            ],
            [
             0.6666666666666666,
             "#ed7953"
            ],
            [
             0.7777777777777778,
             "#fb9f3a"
            ],
            [
             0.8888888888888888,
             "#fdca26"
            ],
            [
             1,
             "#f0f921"
            ]
           ],
           "sequentialminus": [
            [
             0,
             "#0d0887"
            ],
            [
             0.1111111111111111,
             "#46039f"
            ],
            [
             0.2222222222222222,
             "#7201a8"
            ],
            [
             0.3333333333333333,
             "#9c179e"
            ],
            [
             0.4444444444444444,
             "#bd3786"
            ],
            [
             0.5555555555555556,
             "#d8576b"
            ],
            [
             0.6666666666666666,
             "#ed7953"
            ],
            [
             0.7777777777777778,
             "#fb9f3a"
            ],
            [
             0.8888888888888888,
             "#fdca26"
            ],
            [
             1,
             "#f0f921"
            ]
           ]
          },
          "colorway": [
           "#636efa",
           "#EF553B",
           "#00cc96",
           "#ab63fa",
           "#FFA15A",
           "#19d3f3",
           "#FF6692",
           "#B6E880",
           "#FF97FF",
           "#FECB52"
          ],
          "font": {
           "color": "#2a3f5f"
          },
          "geo": {
           "bgcolor": "white",
           "lakecolor": "white",
           "landcolor": "#E5ECF6",
           "showlakes": true,
           "showland": true,
           "subunitcolor": "white"
          },
          "hoverlabel": {
           "align": "left"
          },
          "hovermode": "closest",
          "mapbox": {
           "style": "light"
          },
          "paper_bgcolor": "white",
          "plot_bgcolor": "#E5ECF6",
          "polar": {
           "angularaxis": {
            "gridcolor": "white",
            "linecolor": "white",
            "ticks": ""
           },
           "bgcolor": "#E5ECF6",
           "radialaxis": {
            "gridcolor": "white",
            "linecolor": "white",
            "ticks": ""
           }
          },
          "scene": {
           "xaxis": {
            "backgroundcolor": "#E5ECF6",
            "gridcolor": "white",
            "gridwidth": 2,
            "linecolor": "white",
            "showbackground": true,
            "ticks": "",
            "zerolinecolor": "white"
           },
           "yaxis": {
            "backgroundcolor": "#E5ECF6",
            "gridcolor": "white",
            "gridwidth": 2,
            "linecolor": "white",
            "showbackground": true,
            "ticks": "",
            "zerolinecolor": "white"
           },
           "zaxis": {
            "backgroundcolor": "#E5ECF6",
            "gridcolor": "white",
            "gridwidth": 2,
            "linecolor": "white",
            "showbackground": true,
            "ticks": "",
            "zerolinecolor": "white"
           }
          },
          "shapedefaults": {
           "line": {
            "color": "#2a3f5f"
           }
          },
          "ternary": {
           "aaxis": {
            "gridcolor": "white",
            "linecolor": "white",
            "ticks": ""
           },
           "baxis": {
            "gridcolor": "white",
            "linecolor": "white",
            "ticks": ""
           },
           "bgcolor": "#E5ECF6",
           "caxis": {
            "gridcolor": "white",
            "linecolor": "white",
            "ticks": ""
           }
          },
          "title": {
           "x": 0.05
          },
          "xaxis": {
           "automargin": true,
           "gridcolor": "white",
           "linecolor": "white",
           "ticks": "",
           "title": {
            "standoff": 15
           },
           "zerolinecolor": "white",
           "zerolinewidth": 2
          },
          "yaxis": {
           "automargin": true,
           "gridcolor": "white",
           "linecolor": "white",
           "ticks": "",
           "title": {
            "standoff": 15
           },
           "zerolinecolor": "white",
           "zerolinewidth": 2
          }
         }
        },
        "width": 1200
       }
      }
     },
     "metadata": {},
     "output_type": "display_data"
    },
    {
     "data": {
      "text/plain": [
       "<grogupy.Kspace kset=[1 1 1], NK=1>"
      ]
     },
     "execution_count": 3,
     "metadata": {},
     "output_type": "execute_result"
    }
   ],
   "source": [
    "simulation_kspace = grogupy.Kspace([1, 1, 1])\n",
    "simulation_kspace.plot().show()\n",
    "simulation_kspace"
   ]
  },
  {
   "cell_type": "code",
   "execution_count": 4,
   "metadata": {},
   "outputs": [
    {
     "data": {
      "application/vnd.plotly.v1+json": {
       "config": {
        "plotlyServerURL": "https://plot.ly"
       },
       "data": [
        {
         "mode": "markers",
         "type": "scatter",
         "x": {
          "bdata": "8DAyDXDUKsBGjvwfc9MqwGhGnNhbzirAilHxCMW/KsADQ+eZhKAqwMRN4EhYaCrAYgn+V70OKsAC8VT04ospwFJBVaWe2SjANJ20GET0J8D4He7SQNsmwEVn9UVikSXARtRGHrkcJMDC33O1HIYiwB06lKlh2CDA+jQdT8U+HsBfmHuQ/80awBLQ0H5tdBfANapCtNtEFMAmkEEzAE4RwNFFPJwyNA3AcoEAvAdeCMAq0NpZWR0EwHQa8tB3bwDAENSxS2uZ+r8QR6Mu5lP1v9BjCoUJ9PC/2JSyfX676r+IcFzYBurkv1hpRItiPuC/UHg+ZGkP2b/w8sGW8jTTvyDU9CdxQ82/wBoshZcqxr8AHGgDgrPAv0BYSNutCrm/gHQl5sCvsr+AEpcDmMSrvwBgNUOCjKS/AOQpLRJNnr8ASUW560OWvwC4Z2B2T5C/AFgWcIfUh78Axg3nlV2BvwAoogkpQXm/ADypBVJUcr8AeLlthJBqvwDAQjugOWO/APBEY5jMW78A8JlLkRVUvwCgl8YPAk2/AGCnvOXxRL8AQKFqtj8+vwAA7Ay42TW/AIAtExWWL78AgJyGRtkmvwCA/nyeiyC/AACGw979F78AAIkxYGsRvwAADFPlVQm/AADad+V0Ar8AAPwI7PD6vgAAKCqgs/O+AAA47b/f7L4AACAs3DPlvgAA0HNKNN++AAAgEowC174AAKDvhgDRvgAAwGezLMm+AAAgyPOrwr4AAIAGJb67vgAAAELNo7S+AAAAWCu/rr4AAADUuOumvgAAAIRFGKG+AAAAfAuAmb4AAACwmQKTvgAAAJhTUIy+AAAARn0Mhb4AAAAMqzd/vgAAAAgeEne+AAAA2Ir5cL4AAABAytZovgAAABjZC2K+AAAAQAj/Wb4AAACQyYZSvgAAAIDzEEq+AAAAIJ0MQr4AAABAPYQ4vgAAAEAlQjC+AAAAAGLvJL4AAAAAHfkZvgAAAABoug6+AAAAAAwVAb4AAAAAoHfxvQAAAACAwd+9AAAAAOA1yL0AAAAAAKqrvQAAAAAAIIK9AAAAAADANL0=",
          "dtype": "f8"
         },
         "y": {
          "bdata": "uah5pL31nz8tZjV8BvrEPxjkY/zGm9k/B5EAja+I5z+EL5Q98ZjyP30FW4Xdt/o/q/GEuPrxAUDGejE6secGQNoqDfiqDgxAWvYc94eZEEBiBMlgWg8TQPAcr+x3ThVA8RarnU8/F0AgTebO484YQL9dJq8i8BlAmKHCQpqcGkC/r57JeNQaQIoBqvbonRpAUONWTPEDGkCe7g/4ChUZQErgzuml4RdAByu6zsd6FkAhN3rY5fAUQLLjw+YJUxNAMjBB+UWuEUBse9arbg0QQOpTy/Qe8gxArE8CeRLvCUDysX6KlxoHQPhXr4g7egRAFKIQ8tEQAkBI/yIrD77/P9MVNQzQx/s/MFBu8qE6+D/SqGJ/pBD1P2x2vQD2QvI/lgGUAliU7z9IJf01XT3rP7/Astv2cec/GbaZv6kj5D+EhjyRw0ThP4D/uUYEkd0/YjxX11BG2T+jGfv4C5TVPwMlHnLpZtI/UxKczj5bzz88lpDmlbHKPy9fiB6etcY/lVQNyWBPwz+2nvjm32nAPzqLs9SX5bs/hE+wyXe0tz8m2F7q0iS0P3vDYJTiHrE/kKpzymIcrT8Im06oYcKoPz0Ia3yyEaU//ivUJKjwoT8lWYhkvpKeP6Fqj8VuEpo/yVFpMrtAlj/t1iCmyQKTPyDKwT3ZQZA/jJXTgU7Viz/c1JkP09mHPy0frGC3dYQ/92g3k7mRgT/We5dSbTR+PzTrcMQ2/Xk/rOXaCNVhdj8ciGAsq0pzP+/rd8PKo3A/FaZm3r+4bD+Uw46/aMxoPzgOLsOLamU/pZ7h+dp+Yj/+HS11UvBfP9nJ/E7Yj1s/WOv3a6TDVz+03FUp03ZUPxWt0oqql1E/8cUlqjguTj+mQuyAuNBJPyA2Nh8OAUY/0LTTra+sQj+2lcjCpIc/P6pii9oBcjo/4vlLoIUBNj+87cmboyIyPwK5AWltiS0/496wVzCzJz/p0uU7j6oiP/1onMGFthw/McwWG4ZoFT+oAoqeg50OP7U5ynPNowQ/r6GDQ5l8+T4B8uJNRj7rPhucrjNtDdY+TCsjICSxsD4=",
          "dtype": "f8"
         }
        }
       ],
       "layout": {
        "autosize": false,
        "height": 700,
        "template": {
         "data": {
          "bar": [
           {
            "error_x": {
             "color": "#2a3f5f"
            },
            "error_y": {
             "color": "#2a3f5f"
            },
            "marker": {
             "line": {
              "color": "#E5ECF6",
              "width": 0.5
             },
             "pattern": {
              "fillmode": "overlay",
              "size": 10,
              "solidity": 0.2
             }
            },
            "type": "bar"
           }
          ],
          "barpolar": [
           {
            "marker": {
             "line": {
              "color": "#E5ECF6",
              "width": 0.5
             },
             "pattern": {
              "fillmode": "overlay",
              "size": 10,
              "solidity": 0.2
             }
            },
            "type": "barpolar"
           }
          ],
          "carpet": [
           {
            "aaxis": {
             "endlinecolor": "#2a3f5f",
             "gridcolor": "white",
             "linecolor": "white",
             "minorgridcolor": "white",
             "startlinecolor": "#2a3f5f"
            },
            "baxis": {
             "endlinecolor": "#2a3f5f",
             "gridcolor": "white",
             "linecolor": "white",
             "minorgridcolor": "white",
             "startlinecolor": "#2a3f5f"
            },
            "type": "carpet"
           }
          ],
          "choropleth": [
           {
            "colorbar": {
             "outlinewidth": 0,
             "ticks": ""
            },
            "type": "choropleth"
           }
          ],
          "contour": [
           {
            "colorbar": {
             "outlinewidth": 0,
             "ticks": ""
            },
            "colorscale": [
             [
              0,
              "#0d0887"
             ],
             [
              0.1111111111111111,
              "#46039f"
             ],
             [
              0.2222222222222222,
              "#7201a8"
             ],
             [
              0.3333333333333333,
              "#9c179e"
             ],
             [
              0.4444444444444444,
              "#bd3786"
             ],
             [
              0.5555555555555556,
              "#d8576b"
             ],
             [
              0.6666666666666666,
              "#ed7953"
             ],
             [
              0.7777777777777778,
              "#fb9f3a"
             ],
             [
              0.8888888888888888,
              "#fdca26"
             ],
             [
              1,
              "#f0f921"
             ]
            ],
            "type": "contour"
           }
          ],
          "contourcarpet": [
           {
            "colorbar": {
             "outlinewidth": 0,
             "ticks": ""
            },
            "type": "contourcarpet"
           }
          ],
          "heatmap": [
           {
            "colorbar": {
             "outlinewidth": 0,
             "ticks": ""
            },
            "colorscale": [
             [
              0,
              "#0d0887"
             ],
             [
              0.1111111111111111,
              "#46039f"
             ],
             [
              0.2222222222222222,
              "#7201a8"
             ],
             [
              0.3333333333333333,
              "#9c179e"
             ],
             [
              0.4444444444444444,
              "#bd3786"
             ],
             [
              0.5555555555555556,
              "#d8576b"
             ],
             [
              0.6666666666666666,
              "#ed7953"
             ],
             [
              0.7777777777777778,
              "#fb9f3a"
             ],
             [
              0.8888888888888888,
              "#fdca26"
             ],
             [
              1,
              "#f0f921"
             ]
            ],
            "type": "heatmap"
           }
          ],
          "histogram": [
           {
            "marker": {
             "pattern": {
              "fillmode": "overlay",
              "size": 10,
              "solidity": 0.2
             }
            },
            "type": "histogram"
           }
          ],
          "histogram2d": [
           {
            "colorbar": {
             "outlinewidth": 0,
             "ticks": ""
            },
            "colorscale": [
             [
              0,
              "#0d0887"
             ],
             [
              0.1111111111111111,
              "#46039f"
             ],
             [
              0.2222222222222222,
              "#7201a8"
             ],
             [
              0.3333333333333333,
              "#9c179e"
             ],
             [
              0.4444444444444444,
              "#bd3786"
             ],
             [
              0.5555555555555556,
              "#d8576b"
             ],
             [
              0.6666666666666666,
              "#ed7953"
             ],
             [
              0.7777777777777778,
              "#fb9f3a"
             ],
             [
              0.8888888888888888,
              "#fdca26"
             ],
             [
              1,
              "#f0f921"
             ]
            ],
            "type": "histogram2d"
           }
          ],
          "histogram2dcontour": [
           {
            "colorbar": {
             "outlinewidth": 0,
             "ticks": ""
            },
            "colorscale": [
             [
              0,
              "#0d0887"
             ],
             [
              0.1111111111111111,
              "#46039f"
             ],
             [
              0.2222222222222222,
              "#7201a8"
             ],
             [
              0.3333333333333333,
              "#9c179e"
             ],
             [
              0.4444444444444444,
              "#bd3786"
             ],
             [
              0.5555555555555556,
              "#d8576b"
             ],
             [
              0.6666666666666666,
              "#ed7953"
             ],
             [
              0.7777777777777778,
              "#fb9f3a"
             ],
             [
              0.8888888888888888,
              "#fdca26"
             ],
             [
              1,
              "#f0f921"
             ]
            ],
            "type": "histogram2dcontour"
           }
          ],
          "mesh3d": [
           {
            "colorbar": {
             "outlinewidth": 0,
             "ticks": ""
            },
            "type": "mesh3d"
           }
          ],
          "parcoords": [
           {
            "line": {
             "colorbar": {
              "outlinewidth": 0,
              "ticks": ""
             }
            },
            "type": "parcoords"
           }
          ],
          "pie": [
           {
            "automargin": true,
            "type": "pie"
           }
          ],
          "scatter": [
           {
            "fillpattern": {
             "fillmode": "overlay",
             "size": 10,
             "solidity": 0.2
            },
            "type": "scatter"
           }
          ],
          "scatter3d": [
           {
            "line": {
             "colorbar": {
              "outlinewidth": 0,
              "ticks": ""
             }
            },
            "marker": {
             "colorbar": {
              "outlinewidth": 0,
              "ticks": ""
             }
            },
            "type": "scatter3d"
           }
          ],
          "scattercarpet": [
           {
            "marker": {
             "colorbar": {
              "outlinewidth": 0,
              "ticks": ""
             }
            },
            "type": "scattercarpet"
           }
          ],
          "scattergeo": [
           {
            "marker": {
             "colorbar": {
              "outlinewidth": 0,
              "ticks": ""
             }
            },
            "type": "scattergeo"
           }
          ],
          "scattergl": [
           {
            "marker": {
             "colorbar": {
              "outlinewidth": 0,
              "ticks": ""
             }
            },
            "type": "scattergl"
           }
          ],
          "scattermap": [
           {
            "marker": {
             "colorbar": {
              "outlinewidth": 0,
              "ticks": ""
             }
            },
            "type": "scattermap"
           }
          ],
          "scattermapbox": [
           {
            "marker": {
             "colorbar": {
              "outlinewidth": 0,
              "ticks": ""
             }
            },
            "type": "scattermapbox"
           }
          ],
          "scatterpolar": [
           {
            "marker": {
             "colorbar": {
              "outlinewidth": 0,
              "ticks": ""
             }
            },
            "type": "scatterpolar"
           }
          ],
          "scatterpolargl": [
           {
            "marker": {
             "colorbar": {
              "outlinewidth": 0,
              "ticks": ""
             }
            },
            "type": "scatterpolargl"
           }
          ],
          "scatterternary": [
           {
            "marker": {
             "colorbar": {
              "outlinewidth": 0,
              "ticks": ""
             }
            },
            "type": "scatterternary"
           }
          ],
          "surface": [
           {
            "colorbar": {
             "outlinewidth": 0,
             "ticks": ""
            },
            "colorscale": [
             [
              0,
              "#0d0887"
             ],
             [
              0.1111111111111111,
              "#46039f"
             ],
             [
              0.2222222222222222,
              "#7201a8"
             ],
             [
              0.3333333333333333,
              "#9c179e"
             ],
             [
              0.4444444444444444,
              "#bd3786"
             ],
             [
              0.5555555555555556,
              "#d8576b"
             ],
             [
              0.6666666666666666,
              "#ed7953"
             ],
             [
              0.7777777777777778,
              "#fb9f3a"
             ],
             [
              0.8888888888888888,
              "#fdca26"
             ],
             [
              1,
              "#f0f921"
             ]
            ],
            "type": "surface"
           }
          ],
          "table": [
           {
            "cells": {
             "fill": {
              "color": "#EBF0F8"
             },
             "line": {
              "color": "white"
             }
            },
            "header": {
             "fill": {
              "color": "#C8D4E3"
             },
             "line": {
              "color": "white"
             }
            },
            "type": "table"
           }
          ]
         },
         "layout": {
          "annotationdefaults": {
           "arrowcolor": "#2a3f5f",
           "arrowhead": 0,
           "arrowwidth": 1
          },
          "autotypenumbers": "strict",
          "coloraxis": {
           "colorbar": {
            "outlinewidth": 0,
            "ticks": ""
           }
          },
          "colorscale": {
           "diverging": [
            [
             0,
             "#8e0152"
            ],
            [
             0.1,
             "#c51b7d"
            ],
            [
             0.2,
             "#de77ae"
            ],
            [
             0.3,
             "#f1b6da"
            ],
            [
             0.4,
             "#fde0ef"
            ],
            [
             0.5,
             "#f7f7f7"
            ],
            [
             0.6,
             "#e6f5d0"
            ],
            [
             0.7,
             "#b8e186"
            ],
            [
             0.8,
             "#7fbc41"
            ],
            [
             0.9,
             "#4d9221"
            ],
            [
             1,
             "#276419"
            ]
           ],
           "sequential": [
            [
             0,
             "#0d0887"
            ],
            [
             0.1111111111111111,
             "#46039f"
            ],
            [
             0.2222222222222222,
             "#7201a8"
            ],
            [
             0.3333333333333333,
             "#9c179e"
            ],
            [
             0.4444444444444444,
             "#bd3786"
            ],
            [
             0.5555555555555556,
             "#d8576b"
            ],
            [
             0.6666666666666666,
             "#ed7953"
            ],
            [
             0.7777777777777778,
             "#fb9f3a"
            ],
            [
             0.8888888888888888,
             "#fdca26"
            ],
            [
             1,
             "#f0f921"
            ]
           ],
           "sequentialminus": [
            [
             0,
             "#0d0887"
            ],
            [
             0.1111111111111111,
             "#46039f"
            ],
            [
             0.2222222222222222,
             "#7201a8"
            ],
            [
             0.3333333333333333,
             "#9c179e"
            ],
            [
             0.4444444444444444,
             "#bd3786"
            ],
            [
             0.5555555555555556,
             "#d8576b"
            ],
            [
             0.6666666666666666,
             "#ed7953"
            ],
            [
             0.7777777777777778,
             "#fb9f3a"
            ],
            [
             0.8888888888888888,
             "#fdca26"
            ],
            [
             1,
             "#f0f921"
            ]
           ]
          },
          "colorway": [
           "#636efa",
           "#EF553B",
           "#00cc96",
           "#ab63fa",
           "#FFA15A",
           "#19d3f3",
           "#FF6692",
           "#B6E880",
           "#FF97FF",
           "#FECB52"
          ],
          "font": {
           "color": "#2a3f5f"
          },
          "geo": {
           "bgcolor": "white",
           "lakecolor": "white",
           "landcolor": "#E5ECF6",
           "showlakes": true,
           "showland": true,
           "subunitcolor": "white"
          },
          "hoverlabel": {
           "align": "left"
          },
          "hovermode": "closest",
          "mapbox": {
           "style": "light"
          },
          "paper_bgcolor": "white",
          "plot_bgcolor": "#E5ECF6",
          "polar": {
           "angularaxis": {
            "gridcolor": "white",
            "linecolor": "white",
            "ticks": ""
           },
           "bgcolor": "#E5ECF6",
           "radialaxis": {
            "gridcolor": "white",
            "linecolor": "white",
            "ticks": ""
           }
          },
          "scene": {
           "xaxis": {
            "backgroundcolor": "#E5ECF6",
            "gridcolor": "white",
            "gridwidth": 2,
            "linecolor": "white",
            "showbackground": true,
            "ticks": "",
            "zerolinecolor": "white"
           },
           "yaxis": {
            "backgroundcolor": "#E5ECF6",
            "gridcolor": "white",
            "gridwidth": 2,
            "linecolor": "white",
            "showbackground": true,
            "ticks": "",
            "zerolinecolor": "white"
           },
           "zaxis": {
            "backgroundcolor": "#E5ECF6",
            "gridcolor": "white",
            "gridwidth": 2,
            "linecolor": "white",
            "showbackground": true,
            "ticks": "",
            "zerolinecolor": "white"
           }
          },
          "shapedefaults": {
           "line": {
            "color": "#2a3f5f"
           }
          },
          "ternary": {
           "aaxis": {
            "gridcolor": "white",
            "linecolor": "white",
            "ticks": ""
           },
           "baxis": {
            "gridcolor": "white",
            "linecolor": "white",
            "ticks": ""
           },
           "bgcolor": "#E5ECF6",
           "caxis": {
            "gridcolor": "white",
            "linecolor": "white",
            "ticks": ""
           }
          },
          "title": {
           "x": 0.05
          },
          "xaxis": {
           "automargin": true,
           "gridcolor": "white",
           "linecolor": "white",
           "ticks": "",
           "title": {
            "standoff": 15
           },
           "zerolinecolor": "white",
           "zerolinewidth": 2
          },
          "yaxis": {
           "automargin": true,
           "gridcolor": "white",
           "linecolor": "white",
           "ticks": "",
           "title": {
            "standoff": 15
           },
           "zerolinecolor": "white",
           "zerolinewidth": 2
          }
         }
        },
        "title": {
         "text": "Energy contour integral"
        },
        "width": 1200,
        "xaxis": {
         "gridwidth": 1,
         "showgrid": true,
         "title": {
          "text": "Real axis [eV]"
         }
        },
        "yaxis": {
         "gridwidth": 1,
         "scaleanchor": "x",
         "scaleratio": 1,
         "showgrid": true,
         "title": {
          "text": "Imaginary axis [eV]"
         }
        }
       }
      }
     },
     "metadata": {},
     "output_type": "display_data"
    },
    {
     "data": {
      "text/plain": [
       "<grogupy.Contour emin=-13.414990000000001, emax=0, eset=100, esetp=10000>"
      ]
     },
     "execution_count": 4,
     "metadata": {},
     "output_type": "execute_result"
    }
   ],
   "source": [
    "simulation_contour = grogupy.Contour(\n",
    "    eset=100,\n",
    "    esetp=10000,\n",
    "    emin=None,\n",
    "    emax=0,\n",
    "    emin_shift=-5,\n",
    "    emax_shift=0,\n",
    "    eigfile=infile,\n",
    ")\n",
    "simulation_contour.plot().show()\n",
    "simulation_contour"
   ]
  },
  {
   "cell_type": "code",
   "execution_count": 5,
   "metadata": {},
   "outputs": [
    {
     "name": "stderr",
     "output_type": "stream",
     "text": [
      "Spin box Hamiltonian: 100%|██████████| 1377/1377 [00:00<00:00, 36860.47it/s]\n",
      "Spin box Overlap matrix: 100%|██████████| 1377/1377 [00:00<00:00, 35600.60it/s]\n",
      "Symmetrize Hamiltonian: 100%|██████████| 1377/1377 [00:00<00:00, 31038.70it/s]\n",
      "Transpose Hamiltonian: 100%|██████████| 1377/1377 [00:00<00:00, 64100.20it/s]\n",
      "Calculate V_XCF: 100%|██████████| 1377/1377 [00:00<00:00, 122117.70it/s]\n",
      "Calculate H_XC: 100%|██████████| 3/3 [00:00<00:00, 126.48it/s]\n"
     ]
    }
   ],
   "source": [
    "simulation_hamiltonian = grogupy.Hamiltonian(\n",
    "    infile,\n",
    "    [0, 0, 1],\n",
    ")"
   ]
  },
  {
   "cell_type": "code",
   "execution_count": 6,
   "metadata": {},
   "outputs": [
    {
     "name": "stderr",
     "output_type": "stream",
     "text": [
      "/Users/danielpozsar/Documents/oktatás/elte/phd/grogu/.venv/lib/python3.9/site-packages/grogupy/physics/builder.py:258: UserWarning:\n",
      "\n",
      "Matlabmode is used, the exchange field reference directions were set to x,y,z!\n",
      "\n"
     ]
    },
    {
     "data": {
      "text/plain": [
       "[{'o': array([1, 0, 0]),\n",
       "  'vw': [array([0, 1, 0]),\n",
       "   array([0, 0, 1]),\n",
       "   array([0.        , 0.70710678, 0.70710678])]},\n",
       " {'o': array([0, 1, 0]),\n",
       "  'vw': [array([1, 0, 0]),\n",
       "   array([0, 0, 1]),\n",
       "   array([0.70710678, 0.        , 0.70710678])]},\n",
       " {'o': array([0, 0, 1]),\n",
       "  'vw': [array([1, 0, 0]),\n",
       "   array([0, 1, 0]),\n",
       "   array([0.70710678, 0.70710678, 0.        ])]}]"
      ]
     },
     "execution_count": 6,
     "metadata": {},
     "output_type": "execute_result"
    }
   ],
   "source": [
    "xyz = np.array([[1, 0, 0], [0, 1, 0], [0, 0, 1]])\n",
    "\n",
    "simulation = grogupy.Builder(xyz, matlabmode=True)\n",
    "\n",
    "simulation.add_kspace(simulation_kspace)\n",
    "simulation.add_contour(simulation_contour)\n",
    "simulation.add_hamiltonian(simulation_hamiltonian)\n",
    "simulation.ref_xcf_orientations"
   ]
  },
  {
   "cell_type": "code",
   "execution_count": 7,
   "metadata": {},
   "outputs": [
    {
     "name": "stderr",
     "output_type": "stream",
     "text": [
      "Add magnetic entities::   0%|          | 0/3 [00:00<?, ?it/s]\n"
     ]
    },
    {
     "ename": "IndexError",
     "evalue": "index 2 is out of bounds for axis 0 with size 2",
     "output_type": "error",
     "traceback": [
      "\u001b[0;31m---------------------------------------------------------------------------\u001b[0m",
      "\u001b[0;31mIndexError\u001b[0m                                Traceback (most recent call last)",
      "Cell \u001b[0;32mIn[7], line 6\u001b[0m\n\u001b[1;32m      1\u001b[0m magnetic_entities \u001b[38;5;241m=\u001b[39m [\n\u001b[1;32m      2\u001b[0m     \u001b[38;5;28mdict\u001b[39m(atom\u001b[38;5;241m=\u001b[39m\u001b[38;5;241m0\u001b[39m, l\u001b[38;5;241m=\u001b[39m\u001b[38;5;241m2\u001b[39m),\n\u001b[1;32m      3\u001b[0m     \u001b[38;5;28mdict\u001b[39m(atom\u001b[38;5;241m=\u001b[39m\u001b[38;5;241m1\u001b[39m, l\u001b[38;5;241m=\u001b[39m\u001b[38;5;241m2\u001b[39m),\n\u001b[1;32m      4\u001b[0m     \u001b[38;5;28mdict\u001b[39m(atom\u001b[38;5;241m=\u001b[39m\u001b[38;5;241m2\u001b[39m, l\u001b[38;5;241m=\u001b[39m\u001b[38;5;241m2\u001b[39m),\n\u001b[1;32m      5\u001b[0m ]\n\u001b[0;32m----> 6\u001b[0m \u001b[43msimulation\u001b[49m\u001b[38;5;241;43m.\u001b[39;49m\u001b[43madd_magnetic_entities\u001b[49m\u001b[43m(\u001b[49m\u001b[43mmagnetic_entities\u001b[49m\u001b[43m)\u001b[49m\n\u001b[1;32m      7\u001b[0m simulation\u001b[38;5;241m.\u001b[39mmagnetic_entities\n",
      "File \u001b[0;32m~/Documents/oktatás/elte/phd/grogu/.venv/lib/python3.9/site-packages/grogupy/physics/builder.py:903\u001b[0m, in \u001b[0;36mBuilder.add_magnetic_entities\u001b[0;34m(self, magnetic_entities)\u001b[0m\n\u001b[1;32m    901\u001b[0m \u001b[38;5;66;03m# if it is a dictionary\u001b[39;00m\n\u001b[1;32m    902\u001b[0m \u001b[38;5;28;01melif\u001b[39;00m \u001b[38;5;28misinstance\u001b[39m(mag_ent, \u001b[38;5;28mdict\u001b[39m):\n\u001b[0;32m--> 903\u001b[0m     mag_ent \u001b[38;5;241m=\u001b[39m \u001b[38;5;28;43mself\u001b[39;49m\u001b[38;5;241;43m.\u001b[39;49m\u001b[43mcreate_magnetic_entities\u001b[49m\u001b[43m(\u001b[49m\u001b[43mmag_ent\u001b[49m\u001b[43m)\u001b[49m[\u001b[38;5;241m0\u001b[39m]\n\u001b[1;32m    905\u001b[0m \u001b[38;5;28;01melse\u001b[39;00m:\n\u001b[1;32m    906\u001b[0m     \u001b[38;5;28;01mraise\u001b[39;00m \u001b[38;5;167;01mException\u001b[39;00m(\u001b[38;5;124mf\u001b[39m\u001b[38;5;124m\"\u001b[39m\u001b[38;5;124mBad type for MagneticEntity: \u001b[39m\u001b[38;5;132;01m{\u001b[39;00m\u001b[38;5;28mtype\u001b[39m(mag_ent)\u001b[38;5;132;01m}\u001b[39;00m\u001b[38;5;124m\"\u001b[39m)\n",
      "File \u001b[0;32m~/Documents/oktatás/elte/phd/grogu/.venv/lib/python3.9/site-packages/grogupy/physics/builder.py:827\u001b[0m, in \u001b[0;36mBuilder.create_magnetic_entities\u001b[0;34m(self, magnetic_entities)\u001b[0m\n\u001b[1;32m    825\u001b[0m out \u001b[38;5;241m=\u001b[39m []\n\u001b[1;32m    826\u001b[0m \u001b[38;5;28;01mfor\u001b[39;00m mag_ent \u001b[38;5;129;01min\u001b[39;00m magnetic_entities:\n\u001b[0;32m--> 827\u001b[0m     out\u001b[38;5;241m.\u001b[39mappend(\u001b[43mMagneticEntity\u001b[49m\u001b[43m(\u001b[49m\u001b[43m(\u001b[49m\u001b[38;5;28;43mself\u001b[39;49m\u001b[38;5;241;43m.\u001b[39;49m\u001b[43m_dh\u001b[49m\u001b[43m,\u001b[49m\u001b[43m \u001b[49m\u001b[38;5;28;43mself\u001b[39;49m\u001b[38;5;241;43m.\u001b[39;49m\u001b[43m_ds\u001b[49m\u001b[43m)\u001b[49m\u001b[43m,\u001b[49m\u001b[43m \u001b[49m\u001b[38;5;241;43m*\u001b[39;49m\u001b[38;5;241;43m*\u001b[39;49m\u001b[43mmag_ent\u001b[49m\u001b[43m)\u001b[49m)\n\u001b[1;32m    829\u001b[0m \u001b[38;5;28;01mreturn\u001b[39;00m out\n",
      "File \u001b[0;32m~/Documents/oktatás/elte/phd/grogu/.venv/lib/python3.9/site-packages/grogupy/physics/magnetic_entity.py:235\u001b[0m, in \u001b[0;36mMagneticEntity.__init__\u001b[0;34m(self, infile, atom, l, orb)\u001b[0m\n\u001b[1;32m    233\u001b[0m \u001b[38;5;28mself\u001b[39m\u001b[38;5;241m.\u001b[39m__total_Q \u001b[38;5;241m=\u001b[39m \u001b[38;5;28mself\u001b[39m\u001b[38;5;241m.\u001b[39m_total_mulliken[\u001b[38;5;241m0\u001b[39m]\u001b[38;5;241m.\u001b[39msum()\n\u001b[1;32m    234\u001b[0m \u001b[38;5;28mself\u001b[39m\u001b[38;5;241m.\u001b[39m__total_Sx \u001b[38;5;241m=\u001b[39m \u001b[38;5;28mself\u001b[39m\u001b[38;5;241m.\u001b[39m_total_mulliken[\u001b[38;5;241m1\u001b[39m]\u001b[38;5;241m.\u001b[39msum()\n\u001b[0;32m--> 235\u001b[0m \u001b[38;5;28mself\u001b[39m\u001b[38;5;241m.\u001b[39m__total_Sy \u001b[38;5;241m=\u001b[39m \u001b[38;5;28;43mself\u001b[39;49m\u001b[38;5;241;43m.\u001b[39;49m\u001b[43m_total_mulliken\u001b[49m\u001b[43m[\u001b[49m\u001b[38;5;241;43m2\u001b[39;49m\u001b[43m]\u001b[49m\u001b[38;5;241m.\u001b[39msum()\n\u001b[1;32m    236\u001b[0m \u001b[38;5;28mself\u001b[39m\u001b[38;5;241m.\u001b[39m__total_Sz \u001b[38;5;241m=\u001b[39m \u001b[38;5;28mself\u001b[39m\u001b[38;5;241m.\u001b[39m_total_mulliken[\u001b[38;5;241m3\u001b[39m]\u001b[38;5;241m.\u001b[39msum()\n\u001b[1;32m    237\u001b[0m \u001b[38;5;28mself\u001b[39m\u001b[38;5;241m.\u001b[39m__local_Q \u001b[38;5;241m=\u001b[39m \u001b[38;5;28mself\u001b[39m\u001b[38;5;241m.\u001b[39m_local_mulliken[\u001b[38;5;241m0\u001b[39m]\u001b[38;5;241m.\u001b[39msum()\n",
      "\u001b[0;31mIndexError\u001b[0m: index 2 is out of bounds for axis 0 with size 2"
     ]
    }
   ],
   "source": [
    "magnetic_entities = [\n",
    "    dict(atom=0, l=2),\n",
    "    dict(atom=1, l=2),\n",
    "    dict(atom=2, l=2),\n",
    "]\n",
    "simulation.add_magnetic_entities(magnetic_entities)\n",
    "simulation.magnetic_entities"
   ]
  },
  {
   "cell_type": "code",
   "execution_count": null,
   "metadata": {},
   "outputs": [],
   "source": [
    "pairs = [\n",
    "    dict(ai=0, aj=1, Ruc=np.array([0, 0, 0])),\n",
    "    dict(ai=1, aj=2, Ruc=np.array([0, 0, 0])),\n",
    "    dict(ai=2, aj=0, Ruc=np.array([0, 0, 0])),\n",
    "]\n",
    "simulation.add_pairs(pairs)\n",
    "simulation.pairs"
   ]
  },
  {
   "cell_type": "code",
   "execution_count": null,
   "metadata": {},
   "outputs": [],
   "source": [
    "simulation.solve()"
   ]
  },
  {
   "cell_type": "code",
   "execution_count": null,
   "metadata": {},
   "outputs": [],
   "source": [
    "print(simulation.to_magnopy())"
   ]
  },
  {
   "cell_type": "code",
   "execution_count": null,
   "metadata": {},
   "outputs": [],
   "source": [
    "K_fit = []\n",
    "K_calc = []\n",
    "K_cons = []\n",
    "for mag_ent in simulation.magnetic_entities:\n",
    "    mag_ent.fit_anisotropy_tensor(simulation.ref_xcf_orientations)\n",
    "    K_fit.append(mag_ent.K_meV)\n",
    "    mag_ent.calculate_anisotropy()\n",
    "    K_calc.append(mag_ent.K_meV)\n",
    "    K_cons.append(mag_ent.K_consistency_meV)\n",
    "\n",
    "K_fit = np.array(K_fit)\n",
    "K_calc = np.array(K_calc)\n",
    "\n",
    "\n",
    "J_fit = []\n",
    "D_fit = []\n",
    "S_fit = []\n",
    "J_calc = []\n",
    "D_calc = []\n",
    "S_calc = []\n",
    "for pair in simulation.pairs:\n",
    "    pair.fit_exchange_tensor(simulation.ref_xcf_orientations)\n",
    "    J_fit.append(pair.J_meV)\n",
    "    D_fit.append(pair.D_meV)\n",
    "    S_fit.append(pair.J_S_meV)\n",
    "    pair.calculate_exchange_tensor()\n",
    "    J_calc.append(pair.J_meV)\n",
    "    D_calc.append(pair.D_meV)\n",
    "    S_calc.append(pair.J_S_meV)\n",
    "\n",
    "J_fit = np.array(J_fit)\n",
    "J_calc = np.array(J_calc)\n",
    "D_fit = np.array(D_fit)\n",
    "D_calc = np.array(D_calc)\n",
    "S_fit = np.array(S_fit)\n",
    "S_calc = np.array(S_calc)"
   ]
  },
  {
   "cell_type": "code",
   "execution_count": null,
   "metadata": {},
   "outputs": [],
   "source": [
    "xyz = np.array([[1, 0, 0], [0, 1, 0], [0, 0, 1]])\n",
    "\n",
    "simulation_2 = grogupy.Builder(xyz, matlabmode=False)\n",
    "\n",
    "simulation_2.add_kspace(simulation_kspace)\n",
    "simulation_2.add_contour(simulation_contour)\n",
    "simulation_2.add_hamiltonian(simulation_hamiltonian)\n",
    "simulation_2.add_magnetic_entities(magnetic_entities)\n",
    "simulation_2.add_pairs(pairs)\n",
    "simulation_2.pairs\n",
    "simulation_2.solve()\n",
    "\n",
    "J_fit_2 = []\n",
    "D_fit_2 = []\n",
    "S_fit_2 = []\n",
    "for pair in simulation_2.pairs:\n",
    "    pair.fit_exchange_tensor(simulation_2.ref_xcf_orientations)\n",
    "    J_fit_2.append(pair.J_meV)\n",
    "    D_fit_2.append(pair.D_meV)\n",
    "    S_fit_2.append(pair.J_S_meV)\n",
    "\n",
    "J_fit_2 = np.array(J_fit_2)\n",
    "D_fit_2 = np.array(D_fit_2)\n",
    "S_fit_2 = np.array(S_fit_2)\n",
    "\n",
    "K_fit_2 = []\n",
    "for mag_ent in simulation_2.magnetic_entities:\n",
    "    mag_ent.fit_anisotropy_tensor(simulation_2.ref_xcf_orientations)\n",
    "    K_fit_2.append(mag_ent.K_meV)\n",
    "K_fit_2 = np.array(K_fit_2)"
   ]
  },
  {
   "cell_type": "code",
   "execution_count": null,
   "metadata": {},
   "outputs": [],
   "source": [
    "xyz = np.array(\n",
    "    [\n",
    "        [np.cos(np.pi / 3), np.sin(np.pi / 3), 0],\n",
    "        [np.cos(2 * np.pi / 3), np.sin(2 * np.pi / 3), 0],\n",
    "        [1, 0, 0],\n",
    "        # [0, 1, 0],\n",
    "        # [0, 0, 1],\n",
    "    ]\n",
    ")\n",
    "\n",
    "simulation_3 = grogupy.Builder(xyz)\n",
    "\n",
    "simulation_3.add_kspace(simulation_kspace)\n",
    "simulation_3.add_contour(simulation_contour)\n",
    "simulation_3.add_hamiltonian(simulation_hamiltonian)\n",
    "simulation_3.add_magnetic_entities(magnetic_entities)\n",
    "simulation_3.add_pairs(pairs)\n",
    "simulation_3.solve()\n",
    "\n",
    "J_fit_3 = []\n",
    "D_fit_3 = []\n",
    "S_fit_3 = []\n",
    "for pair in simulation_3.pairs:\n",
    "    pair.fit_exchange_tensor(simulation_3.ref_xcf_orientations)\n",
    "    J_fit_3.append(pair.J_meV)\n",
    "    D_fit_3.append(pair.D_meV)\n",
    "    S_fit_3.append(pair.J_S_meV)\n",
    "\n",
    "J_fit_3 = np.array(J_fit_3)\n",
    "D_fit_3 = np.array(D_fit_3)\n",
    "S_fit_3 = np.array(S_fit_3)\n",
    "\n",
    "K_fit_3 = []\n",
    "for mag_ent in simulation_3.magnetic_entities:\n",
    "    mag_ent.fit_anisotropy_tensor(simulation_3.ref_xcf_orientations)\n",
    "    K_fit_3.append(mag_ent.K_meV)\n",
    "K_fit_3 = np.array(K_fit_3)"
   ]
  },
  {
   "cell_type": "code",
   "execution_count": null,
   "metadata": {},
   "outputs": [],
   "source": [
    "rounding = 3\n",
    "K_cons = np.around(K_cons, rounding)\n",
    "\n",
    "J_calc = np.around(J_calc, rounding)\n",
    "D_calc = np.around(D_calc, rounding)\n",
    "S_calc = np.around(S_calc, rounding)\n",
    "K_calc = np.around(K_calc, rounding)\n",
    "\n",
    "\n",
    "J_fit = np.around(J_fit, rounding)\n",
    "D_fit = np.around(D_fit, rounding)\n",
    "S_fit = np.around(S_fit, rounding)\n",
    "K_fit = np.around(K_fit, rounding)\n",
    "\n",
    "J_fit_2 = np.around(J_fit_2, rounding)\n",
    "D_fit_2 = np.around(D_fit_2, rounding)\n",
    "S_fit_2 = np.around(S_fit_2, rounding)\n",
    "K_fit_2 = np.around(K_fit_2, rounding)\n",
    "\n",
    "J_fit_3 = np.around(J_fit_3, rounding)\n",
    "D_fit_3 = np.around(D_fit_3, rounding)\n",
    "S_fit_3 = np.around(S_fit_3, rounding)\n",
    "K_fit_3 = np.around(K_fit_3, rounding)"
   ]
  },
  {
   "cell_type": "code",
   "execution_count": null,
   "metadata": {},
   "outputs": [],
   "source": [
    "print(\"K_cons should be zero\")\n",
    "K_cons"
   ]
  },
  {
   "cell_type": "code",
   "execution_count": null,
   "metadata": {},
   "outputs": [],
   "source": [
    "print(\"J_fit, J_calc\")\n",
    "print((J_fit == J_calc).all())\n",
    "print(\"K_fit, K_calc\")\n",
    "print((K_fit == K_calc).all())\n",
    "print()\n",
    "print(\"J_fit, J_fit2\")\n",
    "print((J_fit == J_fit_2).all())\n",
    "print(\"K_fit, K_fit2\")\n",
    "print((K_fit == K_fit_2).all())\n",
    "print()\n",
    "print(\"J_fit, J_fit3\")\n",
    "print((J_fit == J_fit_3).all())\n",
    "print(\"K_fit, K_fit3\")\n",
    "print((K_fit == K_fit_3).all())"
   ]
  },
  {
   "cell_type": "code",
   "execution_count": null,
   "metadata": {},
   "outputs": [],
   "source": [
    "print(\"Off diagonal part is equal\")\n",
    "print(\"D_fit, D_calc\")\n",
    "print((D_fit == D_calc).all())\n",
    "print()\n",
    "print(\"S_fit, S_calc\")\n",
    "print((S_fit == S_calc).all())\n",
    "print()\n",
    "print(\"Jfit, Jcalc\")\n",
    "print(J_fit[:, 0, 0])\n",
    "print(J_calc[:, 0, 0])\n",
    "print()\n",
    "print(J_fit[:, 1, 1])\n",
    "print(J_calc[:, 1, 1])\n",
    "print()\n",
    "print(J_fit[:, 2, 2])\n",
    "print(J_calc[:, 2, 2])"
   ]
  },
  {
   "cell_type": "code",
   "execution_count": null,
   "metadata": {},
   "outputs": [],
   "source": [
    "print(\"K_fit, K_calc\")\n",
    "print(K_fit[:, 0, 0])\n",
    "print(K_calc[:, 0, 0])\n",
    "print()\n",
    "print(K_fit[:, 1, 1])\n",
    "print(K_calc[:, 1, 1])\n",
    "print()\n",
    "print(K_fit[:, 0, 1])\n",
    "print(K_calc[:, 0, 1])\n",
    "print()\n",
    "print(K_fit[:, 0, 2])\n",
    "print(K_calc[:, 0, 2])\n",
    "print()\n",
    "print(K_fit[:, 1, 2])\n",
    "print(K_calc[:, 1, 2])"
   ]
  },
  {
   "cell_type": "code",
   "execution_count": null,
   "metadata": {},
   "outputs": [],
   "source": [
    "print(\"Off diagonal part is equal\")\n",
    "print(\"D_fit, D_fit_3\")\n",
    "print((D_fit == D_fit_3).all())\n",
    "print()\n",
    "print(\"S_fit, S_fit_3\")\n",
    "print((S_fit == S_fit_3).all())\n",
    "print()\n",
    "print(\"J_fit, J_fit_3\")\n",
    "print(J_fit[:, 0, 0])\n",
    "print(J_fit_3[:, 0, 0])\n",
    "print()\n",
    "print(J_fit[:, 1, 1])\n",
    "print(J_fit_3[:, 1, 1])\n",
    "print()\n",
    "print(J_fit[:, 2, 2])\n",
    "print(J_fit_3[:, 2, 2])"
   ]
  },
  {
   "cell_type": "code",
   "execution_count": null,
   "metadata": {},
   "outputs": [],
   "source": [
    "print(\"K_fit, K_fit_3\")\n",
    "print(K_fit[:, 0, 0])\n",
    "print(K_fit_3[:, 0, 0])\n",
    "print()\n",
    "print(K_fit[:, 1, 1])\n",
    "print(K_fit_3[:, 1, 1])\n",
    "print()\n",
    "print(K_fit[:, 0, 1])\n",
    "print(K_fit_3[:, 0, 1])\n",
    "print()\n",
    "print(K_fit[:, 0, 2])\n",
    "print(K_fit_3[:, 0, 2])\n",
    "print()\n",
    "print(K_fit[:, 1, 2])\n",
    "print(K_fit_3[:, 1, 2])"
   ]
  },
  {
   "cell_type": "code",
   "execution_count": null,
   "metadata": {},
   "outputs": [],
   "source": [
    "from scipy.spatial.transform import Rotation as R\n",
    "import numpy as np\n",
    "\n",
    "r = R.from_rotvec(np.pi / 2 * np.array([0, 0, 1]))\n",
    "r.as_matrix()"
   ]
  },
  {
   "cell_type": "code",
   "execution_count": null,
   "metadata": {},
   "outputs": [],
   "source": [
    "grogupy.save(simulation, \"test_builder.pkl\", compress=0)\n",
    "grogupy.save(simulation.contour, \"test_contour.pkl\", compress=0)\n",
    "grogupy.save(simulation.kspace, \"test_kspace.pkl\", compress=0)\n",
    "grogupy.save(simulation.pairs[0], \"test_pair.pkl\", compress=0)\n",
    "grogupy.save(simulation.magnetic_entities[0], \"test_magnetic_entity.pkl\", compress=0)"
   ]
  },
  {
   "cell_type": "code",
   "execution_count": null,
   "metadata": {},
   "outputs": [],
   "source": [
    "simulation._dh.S_idx"
   ]
  },
  {
   "cell_type": "code",
   "execution_count": null,
   "metadata": {},
   "outputs": [],
   "source": []
  }
 ],
 "metadata": {
  "kernelspec": {
   "display_name": ".venv",
   "language": "python",
   "name": "python3"
  },
  "language_info": {
   "codemirror_mode": {
    "name": "ipython",
    "version": 3
   },
   "file_extension": ".py",
   "mimetype": "text/x-python",
   "name": "python",
   "nbconvert_exporter": "python",
   "pygments_lexer": "ipython3",
   "version": "3.9.6"
  }
 },
 "nbformat": 4,
 "nbformat_minor": 2
}
