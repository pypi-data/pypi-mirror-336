{
 "cells": [
  {
   "cell_type": "markdown",
   "metadata": {},
   "source": [
    "## Dev Notebook 1\n",
    "Created 10.11.24"
   ]
  },
  {
   "cell_type": "code",
   "execution_count": 2,
   "metadata": {},
   "outputs": [],
   "source": [
    "import os"
   ]
  },
  {
   "cell_type": "code",
   "execution_count": 4,
   "metadata": {},
   "outputs": [
    {
     "data": {
      "text/plain": [
       "environ{'ALLUSERSPROFILE': 'C:\\\\ProgramData',\n",
       "        'APPDATA': 'C:\\\\Users\\\\abril\\\\AppData\\\\Roaming',\n",
       "        'CHROME_CRASHPAD_PIPE_NAME': '\\\\\\\\.\\\\pipe\\\\crashpad_11116_FYCGEZYOETZKECSS',\n",
       "        'COMMONPROGRAMFILES': 'C:\\\\Program Files\\\\Common Files',\n",
       "        'COMMONPROGRAMFILES(X86)': 'C:\\\\Program Files (x86)\\\\Common Files',\n",
       "        'COMMONPROGRAMW6432': 'C:\\\\Program Files\\\\Common Files',\n",
       "        'COMPUTERNAME': 'ANDREAS13PC',\n",
       "        'COMSPEC': 'C:\\\\Windows\\\\system32\\\\cmd.exe',\n",
       "        'CONDA_ALLOW_SOFTLINKS': 'false',\n",
       "        'CONDA_DEFAULT_ENV': 'sweissbach1',\n",
       "        'CONDA_EXE': 'C:\\\\Users\\\\abril\\\\anaconda3\\\\Scripts\\\\conda.exe',\n",
       "        'CONDA_PREFIX': 'C:\\\\Users\\\\abril\\\\anaconda3\\\\envs\\\\sweissbach1',\n",
       "        'CONDA_PROMPT_MODIFIER': '(sweissbach1) ',\n",
       "        'CONDA_PYTHON_EXE': 'C:\\\\Users\\\\abril\\\\anaconda3\\\\python.exe',\n",
       "        'CONDA_ROOT': 'C:\\\\Users\\\\abril\\\\anaconda3',\n",
       "        'CONDA_SHLVL': '1',\n",
       "        'DRIVERDATA': 'C:\\\\Windows\\\\System32\\\\Drivers\\\\DriverData',\n",
       "        'EFC_7672': '1',\n",
       "        'ELECTRON_RUN_AS_NODE': '1',\n",
       "        'FPS_BROWSER_APP_PROFILE_STRING': 'Internet Explorer',\n",
       "        'FPS_BROWSER_USER_PROFILE_STRING': 'Default',\n",
       "        'HOMEDRIVE': 'C:',\n",
       "        'HOMEPATH': '\\\\Users\\\\abril',\n",
       "        'JAVA_HOME': 'C:\\\\Program Files\\\\Microsoft\\\\jdk-21.0.4.7-hotspot\\\\',\n",
       "        'JPY_INTERRUPT_EVENT': '2548',\n",
       "        'LOCALAPPDATA': 'C:\\\\Users\\\\abril\\\\AppData\\\\Local',\n",
       "        'LOGONSERVER': '\\\\\\\\ANDREAS13PC',\n",
       "        'NUMBER_OF_PROCESSORS': '4',\n",
       "        'ONEDRIVE': 'C:\\\\Users\\\\abril\\\\OneDrive - JGU',\n",
       "        'ONEDRIVECOMMERCIAL': 'C:\\\\Users\\\\abril\\\\OneDrive - JGU',\n",
       "        'ONEDRIVECONSUMER': 'C:\\\\Users\\\\abril\\\\OneDrive',\n",
       "        'ORIGINAL_XDG_CURRENT_DESKTOP': 'undefined',\n",
       "        'OS': 'Windows_NT',\n",
       "        'PATH': 'c:\\\\Users\\\\abril\\\\anaconda3\\\\envs\\\\sweissbach1;C:\\\\Users\\\\abril\\\\anaconda3\\\\envs\\\\sweissbach1;C:\\\\Users\\\\abril\\\\anaconda3\\\\envs\\\\sweissbach1\\\\Library\\\\mingw-w64\\\\bin;C:\\\\Users\\\\abril\\\\anaconda3\\\\envs\\\\sweissbach1\\\\Library\\\\usr\\\\bin;C:\\\\Users\\\\abril\\\\anaconda3\\\\envs\\\\sweissbach1\\\\Library\\\\bin;C:\\\\Users\\\\abril\\\\anaconda3\\\\envs\\\\sweissbach1\\\\Scripts;C:\\\\Users\\\\abril\\\\anaconda3\\\\envs\\\\sweissbach1\\\\bin;C:\\\\Users\\\\abril\\\\anaconda3\\\\condabin;C:\\\\Program Files\\\\Microsoft\\\\jdk-21.0.4.7-hotspot\\\\bin;C:\\\\Windows\\\\system32;C:\\\\Windows;C:\\\\Windows\\\\System32\\\\Wbem;C:\\\\Windows\\\\System32\\\\WindowsPowerShell\\\\v1.0;C:\\\\Windows\\\\System32\\\\OpenSSH;C:\\\\Program Files (x86)\\\\NVIDIA Corporation\\\\PhysX\\\\Common;C:\\\\Program Files\\\\NVIDIA Corporation\\\\NVIDIA NvDLISR;C:\\\\Program Files\\\\Git\\\\cmd;C:\\\\Users\\\\abril\\\\AppData\\\\Local\\\\Programs\\\\Python\\\\Python312\\\\Scripts;C:\\\\Users\\\\abril\\\\AppData\\\\Local\\\\Programs\\\\Python\\\\Python312;C:\\\\Users\\\\abril\\\\AppData\\\\Local\\\\Programs\\\\Python\\\\Launcher;C:\\\\Users\\\\abril\\\\AppData\\\\Local\\\\Microsoft\\\\WindowsApps;C:\\\\Users\\\\abril\\\\AppData\\\\Local\\\\GitHubDesktop\\\\bin;C:\\\\Users\\\\abril\\\\AppData\\\\Local\\\\Programs\\\\Microsoft VS Code\\\\bin',\n",
       "        'PATHEXT': '.COM;.EXE;.BAT;.CMD;.VBS;.VBE;.JS;.JSE;.WSF;.WSH;.MSC',\n",
       "        'PROCESSOR_ARCHITECTURE': 'AMD64',\n",
       "        'PROCESSOR_IDENTIFIER': 'Intel64 Family 6 Model 60 Stepping 3, GenuineIntel',\n",
       "        'PROCESSOR_LEVEL': '6',\n",
       "        'PROCESSOR_REVISION': '3c03',\n",
       "        'PROGRAMDATA': 'C:\\\\ProgramData',\n",
       "        'PROGRAMFILES': 'C:\\\\Program Files',\n",
       "        'PROGRAMFILES(X86)': 'C:\\\\Program Files (x86)',\n",
       "        'PROGRAMW6432': 'C:\\\\Program Files',\n",
       "        'PROMPT': '(sweissbach1) $P$G',\n",
       "        'PSMODULEPATH': 'C:\\\\Program Files\\\\WindowsPowerShell\\\\Modules;C:\\\\Windows\\\\system32\\\\WindowsPowerShell\\\\v1.0\\\\Modules',\n",
       "        'PUBLIC': 'C:\\\\Users\\\\Public',\n",
       "        'PYDEVD_IPYTHON_COMPATIBLE_DEBUGGING': '1',\n",
       "        'PYTHONIOENCODING': 'utf-8',\n",
       "        'PYTHONUNBUFFERED': '1',\n",
       "        'PYTHONUTF8': '1',\n",
       "        'PYTHON_FROZEN_MODULES': 'on',\n",
       "        'SESSIONNAME': 'Console',\n",
       "        'SSL_CERT_FILE': 'C:\\\\Users\\\\abril\\\\anaconda3\\\\envs\\\\sweissbach1\\\\Library\\\\ssl\\\\cacert.pem',\n",
       "        'SYSTEMDRIVE': 'C:',\n",
       "        'SYSTEMROOT': 'C:\\\\Windows',\n",
       "        'TEMP': 'C:\\\\Users\\\\abril\\\\AppData\\\\Local\\\\Temp',\n",
       "        'TMP': 'C:\\\\Users\\\\abril\\\\AppData\\\\Local\\\\Temp',\n",
       "        'USERDOMAIN': 'ANDREAS13PC',\n",
       "        'USERDOMAIN_ROAMINGPROFILE': 'ANDREAS13PC',\n",
       "        'USERNAME': 'abril',\n",
       "        'USERPROFILE': 'C:\\\\Users\\\\abril',\n",
       "        'VSCODE_CODE_CACHE_PATH': 'C:\\\\Users\\\\abril\\\\AppData\\\\Roaming\\\\Code\\\\CachedData\\\\e8653663e8840adaf45af01eab5c627a5af81807',\n",
       "        'VSCODE_CRASH_REPORTER_PROCESS_TYPE': 'extensionHost',\n",
       "        'VSCODE_CWD': 'C:\\\\Users\\\\abril\\\\AppData\\\\Local\\\\Programs\\\\Microsoft VS Code',\n",
       "        'VSCODE_ESM_ENTRYPOINT': 'vs/workbench/api/node/extensionHostProcess',\n",
       "        'VSCODE_HANDLES_UNCAUGHT_ERRORS': 'true',\n",
       "        'VSCODE_IPC_HOOK': '\\\\\\\\.\\\\pipe\\\\17fb4061-1.95.2-main-sock',\n",
       "        'VSCODE_L10N_BUNDLE_LOCATION': '',\n",
       "        'VSCODE_NLS_CONFIG': '{\"userLocale\":\"en-us\",\"osLocale\":\"de-de\",\"resolvedLanguage\":\"en\",\"defaultMessagesFile\":\"C:\\\\\\\\Users\\\\\\\\abril\\\\\\\\AppData\\\\\\\\Local\\\\\\\\Programs\\\\\\\\Microsoft VS Code\\\\\\\\resources\\\\\\\\app\\\\\\\\out\\\\\\\\nls.messages.json\",\"locale\":\"en-us\",\"availableLanguages\":{}}',\n",
       "        'VSCODE_PID': '11116',\n",
       "        'WINDIR': 'C:\\\\Windows',\n",
       "        '_CONDA_OLD_CHCP': '850',\n",
       "        '__CONDA_OPENSLL_CERT_FILE_SET': '\"1\"',\n",
       "        'PYDEVD_USE_FRAME_EVAL': 'NO',\n",
       "        'TERM': 'xterm-color',\n",
       "        'CLICOLOR': '1',\n",
       "        'FORCE_COLOR': '1',\n",
       "        'CLICOLOR_FORCE': '1',\n",
       "        'PAGER': 'cat',\n",
       "        'GIT_PAGER': 'cat',\n",
       "        'MPLBACKEND': 'module://matplotlib_inline.backend_inline'}"
      ]
     },
     "execution_count": 4,
     "metadata": {},
     "output_type": "execute_result"
    }
   ],
   "source": [
    "os.environ"
   ]
  },
  {
   "cell_type": "code",
   "execution_count": 1,
   "metadata": {},
   "outputs": [],
   "source": [
    "import re\n"
   ]
  },
  {
   "cell_type": "code",
   "execution_count": 27,
   "metadata": {},
   "outputs": [
    {
     "data": {
      "text/plain": [
       "['sweissbach1']"
      ]
     },
     "execution_count": 27,
     "metadata": {},
     "output_type": "execute_result"
    }
   ],
   "source": [
    "x = re.findall(r\"(?<=\\\\envs\\\\)\\w*\", \"c:\\\\Users\\\\abril\\\\anaconda3\\\\envs\\\\sweissbach1\")\n",
    "x"
   ]
  },
  {
   "cell_type": "code",
   "execution_count": 31,
   "metadata": {},
   "outputs": [],
   "source": [
    "import pathlib\n",
    "p = pathlib.Path(r\"C:\\test\\text.txt\")"
   ]
  },
  {
   "cell_type": "code",
   "execution_count": 34,
   "metadata": {},
   "outputs": [
    {
     "name": "stdout",
     "output_type": "stream",
     "text": [
      "C:\\\n"
     ]
    }
   ],
   "source": [
    "print(p.parent.parent.parent)"
   ]
  },
  {
   "cell_type": "code",
   "execution_count": 35,
   "metadata": {},
   "outputs": [],
   "source": [
    "import torch"
   ]
  },
  {
   "cell_type": "code",
   "execution_count": 40,
   "metadata": {},
   "outputs": [
    {
     "data": {
      "text/plain": [
       "False"
      ]
     },
     "execution_count": 40,
     "metadata": {},
     "output_type": "execute_result"
    }
   ],
   "source": [
    "torch.cuda.is_available()"
   ]
  },
  {
   "cell_type": "code",
   "execution_count": 63,
   "metadata": {},
   "outputs": [],
   "source": [
    "x = re.search(r\"(Skipped )(\\w+)(, because file already exists)\", r\"on 0: Skipped testTIFF1, because file already exists (C:\\Users\\abril\\Andreas Eigene Dateien\\Programmieren\\AG Heine Hiwi\\Rohdaten\\Denoising Output Folder\\testTIFF1_denoised.tif).\")"
   ]
  },
  {
   "cell_type": "code",
   "execution_count": 64,
   "metadata": {},
   "outputs": [
    {
     "name": "stdout",
     "output_type": "stream",
     "text": [
      "j\n"
     ]
    }
   ],
   "source": [
    "if(x): print(\"j\")"
   ]
  },
  {
   "cell_type": "code",
   "execution_count": 20,
   "metadata": {},
   "outputs": [],
   "source": [
    "line = r\"on -0: Skipped testTIFF1, because file already exists (C:\\Users\\abril\\Andreas Eigene Dateien\\Programmieren\\AG Heine Hiwi\\Rohdaten\\Denoising Output Folder\\testTIFF1_denoised.tif).\"\n",
    "x = re.search(r\"on ([0-9]{1,3}): Skipped (\\w+), because file already exists\", line)"
   ]
  },
  {
   "cell_type": "code",
   "execution_count": 21,
   "metadata": {},
   "outputs": [
    {
     "name": "stdout",
     "output_type": "stream",
     "text": [
      "None\n"
     ]
    }
   ],
   "source": [
    "print(x)"
   ]
  },
  {
   "cell_type": "code",
   "execution_count": 55,
   "metadata": {},
   "outputs": [
    {
     "name": "stdout",
     "output_type": "stream",
     "text": [
      "<re.Match object; span=(0, 40), match='on 0: Saved image (testTIFF1 - Kopie.tif'>\n"
     ]
    },
    {
     "data": {
      "text/plain": [
       "('0', 'testTIFF1 - Kopie.tif')"
      ]
     },
     "execution_count": 55,
     "metadata": {},
     "output_type": "execute_result"
    }
   ],
   "source": [
    "x = re.search(r\"on ([0-9]{1,3}): Saved image \\(([\\w\\s\\-\\.]+)\", r\"on 0: Saved image (testTIFF1 - Kopie.tif) as: C:\\Users\\abril\\Andreas Eigene Dateien\\Programmieren\\AG Heine Hiwi\\Rohdaten\\Denoising Output Folder\\testTIFF1 - Kopie_denoised.tif\")\n",
    "print(x)\n",
    "x.groups()"
   ]
  },
  {
   "cell_type": "code",
   "execution_count": null,
   "metadata": {},
   "outputs": [
    {
     "name": "stdout",
     "output_type": "stream",
     "text": [
      "('0', 'testTIFF1 - Kopie.txt')\n"
     ]
    }
   ],
   "source": [
    "line = r\"on 0: Saved image (testTIFF1 - Kopie.tif) as: C:\\Users\\abril\\Andreas Eigene Dateien\\Programmieren\\AG Heine Hiwi\\Rohdaten\\Denoising Output Folder\\testTIFF1 - Kopie_denoised.tif\"\n",
    "x = re.search(r\"on ([0-9]{1,3}): Skipped (.+), because file already exists\", line)\n",
    "print(x.groups())"
   ]
  }
 ],
 "metadata": {
  "kernelspec": {
   "display_name": "sweissbach1",
   "language": "python",
   "name": "python3"
  },
  "language_info": {
   "codemirror_mode": {
    "name": "ipython",
    "version": 3
   },
   "file_extension": ".py",
   "mimetype": "text/x-python",
   "name": "python",
   "nbconvert_exporter": "python",
   "pygments_lexer": "ipython3",
   "version": "3.10.11"
  }
 },
 "nbformat": 4,
 "nbformat_minor": 2
}
