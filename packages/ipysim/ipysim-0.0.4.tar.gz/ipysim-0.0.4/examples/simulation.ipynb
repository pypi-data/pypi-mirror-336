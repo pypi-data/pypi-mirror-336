{
 "cells": [
  {
   "cell_type": "markdown",
   "metadata": {
    "id": "5_Vl7TgSBxRV"
   },
   "source": [
    "# Simulation\n",
    "\n",
    "## System description\n",
    "\n",
    "Here we simulate an *inverted pendulum on a cart* (based on [this example](https://ctms.engin.umich.edu/CTMS/index.php?example=InvertedPendulum&section=SystemModeling)).  \n",
    "\n",
    "![pendulum2.png](data:image/png;base64,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)\n",
    "\n",
    "Given a state vector  \n",
    "\n",
    "$$\n",
    "\\zeta = [x, \\dot{x}, \\theta, \\dot{\\theta}]^\\top,\n",
    "$$\n",
    "\n",
    "where:\n",
    "- $x$ is the **cart position**,\n",
    "- $\\dot{x}$ is the **cart velocity**,\n",
    "- $\\theta$ is the **pendulum angle** (measured from the upright vertical),\n",
    "- $\\dot{\\theta}$ is the **angular velocity** of the pendulum,  \n",
    "\n",
    "this system can be described by the following ordinary differential equations:\n",
    "\n",
    "$$\n",
    "\\ddot{x} = \\frac{F + m \\sin\\theta \\left(l \\dot{\\theta}^2 + g \\cos\\theta \\right)}{M + m \\sin^2\\theta},\n",
    "$$\n",
    "\n",
    "$$\n",
    "\\ddot{\\theta} = \\frac{-F \\cos\\theta - m l \\dot{\\theta}^2 \\cos\\theta \\sin\\theta - (M + m) g \\sin\\theta}{l (M + m \\sin^2\\theta)}.\n",
    "$$\n",
    "\n",
    "Here:\n",
    "- $m$ is the **mass of the pendulum**,\n",
    "- $M$ is the **mass of the cart**,\n",
    "- $l$ is the **length from the pivot to the center of mass of the pendulum**,\n",
    "- $g$ is the **gravitational acceleration**,\n",
    "- $F$ is the **input force applied to the cart**.\n",
    "\n",
    "This system is naturally **unstable**, meaning that without control, the pendulum will fall unless perfectly balanced.  \n",
    "\n",
    "## Control Strategy\n",
    "This system can be stabilized by a **Proportional-Derivative (PD) controller**, which applies a control force based on the pendulum's angle and angular velocity:\n",
    "\n",
    "$$\n",
    "F = K_p \\theta + K_d \\dot{\\theta}\n",
    "$$\n",
    "\n",
    "where:\n",
    "- $K_p$ is the **proportional gain**, which counteracts deviations from the upright position,\n",
    "- $K_d$ is the **derivative gain**, which damps oscillations by reacting to the angular velocity.\n",
    "\n",
    "By choosing appropriate values for $K_p$ and $K_d$, the controller ensures that the pendulum returns to its upright position smoothly while minimizing overshoot and oscillations.\n",
    "<code> \n",
    "\n",
    "</code>"
   ]
  },
  {
   "cell_type": "markdown",
   "metadata": {
    "id": "e2dxuZSuGdrU"
   },
   "source": [
    "# Simulation Example\n",
    "The following is an implementation of a simulation with a PD controller for an instance of the inverted pendulum system."
   ]
  },
  {
   "cell_type": "markdown",
   "metadata": {
    "id": "LQvXtNshIf3a"
   },
   "source": [
    "### Imports & Function Definitions"
   ]
  },
  {
   "cell_type": "code",
   "execution_count": null,
   "metadata": {
    "id": "KVshwKaJIfOV"
   },
   "outputs": [],
   "source": [
    "import numpy as np\n",
    "import matplotlib\n",
    "import matplotlib.pyplot as plt\n",
    "from scipy.integrate import odeint\n",
    "from ipywidgets import interact, FloatSlider\n",
    "import matplotlib.animation as animation\n",
    "from IPython.display import HTML\n",
    "from matplotlib.patches import Rectangle\n",
    "\n",
    "def pendulum_dynamics(state, t, M, m, l, g, Kp, Kd):\n",
    "    \"\"\" Computes state derivatives for the inverted pendulum on a cart with PD control. \"\"\"\n",
    "    x, x_dot, theta, theta_dot = state\n",
    "    F = Kp*theta + Kd*theta_dot  # PD control force\n",
    "\n",
    "    sin_theta = np.sin(theta)\n",
    "    cos_theta = np.cos(theta)\n",
    "    denom = M + m*sin_theta**2\n",
    "\n",
    "    # Equations of motion\n",
    "    x_ddot = (F + m*sin_theta*(l*theta_dot**2 + g*cos_theta))/denom\n",
    "    theta_ddot = (-F*cos_theta - m*l*theta_dot**2*cos_theta*sin_theta - (M + m)*g*sin_theta)/(l*denom)\n",
    "\n",
    "    return [x_dot, x_ddot, theta_dot, theta_ddot]\n",
    "\n",
    "def simulate_pendulum(Kp=100.0, Kd=20.0, T=10, dt=0.01):\n",
    "    \"\"\" Simulates the inverted pendulum system. \"\"\"\n",
    "    state0 = [0.0, 0.0, 0.1, 0.0]  # Initial state\n",
    "    t = np.arange(0, T, dt)  # Time vector\n",
    "    sol = odeint(pendulum_dynamics, state0, t, args=(M, m, l, g, Kp, Kd))\n",
    "    return t, sol\n",
    "\n",
    "def animate_pendulum(sol, t):\n",
    "    \"\"\" Creates an animation of the inverted pendulum system. \"\"\"\n",
    "    x = sol[:, 0]\n",
    "    theta = sol[:, 2]\n",
    "    theta_dot = sol[:, 3]\n",
    "\n",
    "    fig = plt.figure(figsize=(12, 4))\n",
    "    gs = fig.add_gridspec(1, 3, width_ratios=[1.5, 1, 1])\n",
    "    ax_anim = fig.add_subplot(gs[0])\n",
    "    ax_ts = fig.add_subplot(gs[1])\n",
    "    ax_phase = fig.add_subplot(gs[2])\n",
    "\n",
    "    # --- Animation Plot ---\n",
    "    ax_anim.set_xlim(min(x)-0.5, max(x)+0.5)\n",
    "    ax_anim.set_ylim(-0.5, l+0.8)\n",
    "    ax_anim.set_aspect('equal')\n",
    "    ax_anim.grid(True)\n",
    "    ax_anim.set_title('Animation')\n",
    "\n",
    "    # Ground line\n",
    "    ax_anim.plot([min(x)-1, max(x)+1], [0, 0], 'k-', lw=2)\n",
    "\n",
    "    # Cart setup\n",
    "    cart_width, cart_height = 0.4, 0.2\n",
    "    cart = Rectangle((x[0]-cart_width/2, 0), cart_width, cart_height, fc='blue', ec='black')\n",
    "    ax_anim.add_patch(cart)\n",
    "\n",
    "    # Pendulum\n",
    "    pendulum_line, = ax_anim.plot([], [], 'o-', lw=3, color='red')\n",
    "\n",
    "    # --- Time Series Plot ---\n",
    "    ax_ts.set_xlim(t[0], t[-1])\n",
    "    ax_ts.set_ylim(min(np.min(x), np.min(theta)) - 0.2, max(np.max(x), np.max(theta)) + 0.2)\n",
    "    ax_ts.set_title('Time Series')\n",
    "    ax_ts.set_xlabel('Time [s]')\n",
    "    ax_ts.grid(True)\n",
    "    line_x, = ax_ts.plot([], [], 'b-', lw=2, label='Cart Position x')\n",
    "    line_theta, = ax_ts.plot([], [], 'r-', lw=2, label='Pendulum Angle θ')\n",
    "    ax_ts.legend(loc='upper right')\n",
    "    time_marker = ax_ts.axvline(t[0], color='k', ls='--')\n",
    "\n",
    "    # --- Phase Plot ---\n",
    "    ax_phase.set_xlim(np.min(theta)-0.1, np.max(theta)+0.1)\n",
    "    ax_phase.set_ylim(np.min(theta_dot)-0.1, np.max(theta_dot)+0.1)\n",
    "    ax_phase.set_title('Phase Plot (θ vs. θ̇)')\n",
    "    ax_phase.set_xlabel('Pendulum Angle θ [rad]')\n",
    "    ax_phase.set_ylabel('Angular Velocity θ̇ [rad/s]')\n",
    "    ax_phase.grid(True)\n",
    "    phase_line, = ax_phase.plot([], [], 'm-', lw=2)\n",
    "\n",
    "    # --- Animation Functions ---\n",
    "    def init():\n",
    "        cart.set_xy((x[0]-cart_width/2, 0))\n",
    "        pendulum_line.set_data([], [])\n",
    "        line_x.set_data([], [])\n",
    "        line_theta.set_data([], [])\n",
    "        phase_line.set_data([], [])\n",
    "        time_marker.set_xdata([t[0], t[0]])\n",
    "        return cart, pendulum_line, line_x, line_theta, phase_line, time_marker\n",
    "\n",
    "    def update(i):\n",
    "        cart.set_xy((x[i]-cart_width/2, 0))\n",
    "        pivot = (x[i], cart_height)\n",
    "        pendulum_x = pivot[0] + l * np.sin(theta[i])\n",
    "        pendulum_y = pivot[1] + l * np.cos(theta[i])\n",
    "        pendulum_line.set_data([pivot[0], pendulum_x], [pivot[1], pendulum_y])\n",
    "\n",
    "        # Time Series\n",
    "        line_x.set_data(t[:i+1], x[:i+1])\n",
    "        line_theta.set_data(t[:i+1], theta[:i+1])\n",
    "        time_marker.set_xdata([t[i], t[i]])\n",
    "\n",
    "        # Phase Plot\n",
    "        phase_line.set_data(theta[:i+1], theta_dot[:i+1])\n",
    "        return cart, pendulum_line, line_x, line_theta, phase_line, time_marker\n",
    "\n",
    "    ani = animation.FuncAnimation(fig, update, frames=len(t), init_func=init,\n",
    "                                  blit=True, interval=30, repeat=True)\n",
    "    plt.tight_layout()\n",
    "    plt.close()\n",
    "    return HTML(ani.to_jshtml())\n"
   ]
  },
  {
   "cell_type": "markdown",
   "metadata": {
    "id": "EGe_3LGjIjGb"
   },
   "source": [
    "### System Simulation"
   ]
  },
  {
   "cell_type": "code",
   "execution_count": null,
   "metadata": {
    "id": "KzwiUI7ZI0jW"
   },
   "outputs": [],
   "source": [
    "# Physical parameters for the inverted pendulum on a cart\n",
    "M = 1.0    # mass of the cart (kg)\n",
    "m = 0.1    # mass of the pendulum (kg)\n",
    "l = 0.5    # length to pendulum center of mass (m)\n",
    "g = 9.81   # gravitational acceleration (m/s^2)\n",
    "\n",
    "# Control parameters\n",
    "Kp, Kd = 100.0, 20.0  # PD controller gains\n",
    "\n",
    "# Simulation setup\n",
    "T = 10                # Total simulation time\n",
    "dt = 0.01             # Time step\n",
    "\n",
    "# Simulation\n",
    "t, sol = simulate_pendulum(Kp, Kd, T, dt)"
   ]
  },
  {
   "cell_type": "markdown",
   "metadata": {
    "id": "dsxxmrRkI1LD"
   },
   "source": [
    "### Animation"
   ]
  },
  {
   "cell_type": "code",
   "execution_count": null,
   "metadata": {
    "id": "5c5vAyBRI7wG"
   },
   "outputs": [],
   "source": [
    "# Downsample data for animation (reduce memory usage)\n",
    "frame_step = 5  # Keep every 5th frame\n",
    "t_anim = t[::frame_step]\n",
    "sol_anim = sol[::frame_step]"
   ]
  },
  {
   "cell_type": "code",
   "execution_count": null,
   "metadata": {
    "colab": {
     "base_uri": "https://localhost:8080/",
     "height": 518
    },
    "id": "BvoXOYKdJYhl",
    "outputId": "f2a62366-3ed4-4ab4-d89e-fbac8bb827c1"
   },
   "outputs": [],
   "source": [
    "# from ipysim.core import Simulator\n",
    "# from ipysim.widgets import Slider# Run animation\n",
    "# animate_pendulum(sol_anim, t_anim)\n",
    "\n",
    "# from ipysim.core import Simulator\n",
    "# from ipysim.widgets import Slider\n",
    "# matplotlib.rcParams['animation.embed_limit'] = 2**128\n",
    "\n",
    "# def run_pendulum_sim(Kp, Kd):\n",
    "#     t_anim, sol_anim = simulate_pendulum(Kp, Kd)\n",
    "#     assert sol.ndim == 2, f\"Expected a 2D array, but got {sol.shape}\"\n",
    "#     return animate_pendulum(sol_anim, t_anim)\n",
    "\n",
    "# sim = Simulator(run_pendulum_sim)\n",
    "# sim.add_widget(Slider(\"Kp\", min=0, max=50, step=1, default=0))\n",
    "# sim.add_widget(Slider(\"Kd\", min=0, max=10, step=0.5, default=0))\n",
    "\n",
    "# sim.display()"
   ]
  },
  {
   "cell_type": "code",
   "execution_count": null,
   "metadata": {},
   "outputs": [],
   "source": [
    "import numpy as np\n",
    "import matplotlib.pyplot as plt\n",
    "import ipywidgets as widgets\n",
    "from IPython.display import display\n",
    "\n",
    "# function to update plot\n",
    "def update_plot(freq=1.0):\n",
    "    x = np.linspace(0, 10, 100)\n",
    "    y = np.sin(freq * x)\n",
    "    \n",
    "    plt.figure(figsize=(5,3))\n",
    "    plt.plot(x, y)\n",
    "    plt.title(f\"sin({freq} * x)\")\n",
    "    plt.show()\n",
    "\n",
    "# create an interactive slider\n",
    "slider = widgets.FloatSlider(min=0.1, max=10, step=0.1, value=1.0, description=\"Frequency\")\n",
    "widgets.interactive(update_plot, freq=slider)\n"
   ]
  },
  {
   "cell_type": "code",
   "execution_count": null,
   "metadata": {},
   "outputs": [],
   "source": [
    "import numpy as np\n",
    "import ipywidgets as widgets\n",
    "from IPython.display import display\n",
    "from ipysim.core.dynamics import pendulum_dynamics\n",
    "from ipysim.core.integrators import simulate\n",
    "from ipysim.core.parameters import PendulumParams\n",
    "from ipysim.interactive.sliders import generate_sliders\n",
    "from ipysim.visualization.animation import animate_system\n",
    "from ipysim.visualization.plotting import plot_simulation\n",
    "\n",
    "# Define initial conditions\n",
    "initial_state = [0.0, 0.0, 0.1, 0.0]  # [x, x_dot, theta, theta_dot]\n",
    "t_span = np.linspace(0, 10, 500)  # Time vector\n",
    "\n",
    "# Define sliders for user input\n",
    "slider_specs = [\n",
    "    {\"name\": \"M\", \"min\": 0.5, \"max\": 2.0, \"step\": 0.1, \"default\": 1.0},\n",
    "    {\"name\": \"m\", \"min\": 0.05, \"max\": 0.5, \"step\": 0.05, \"default\": 0.1},\n",
    "    {\"name\": \"l\", \"min\": 0.2, \"max\": 1.0, \"step\": 0.1, \"default\": 0.5},\n",
    "    {\"name\": \"Kp\", \"min\": 50, \"max\": 200, \"step\": 10, \"default\": 100},\n",
    "    {\"name\": \"Kd\", \"min\": 10, \"max\": 50, \"step\": 5, \"default\": 20},\n",
    "]\n",
    "\n",
    "sliders = generate_sliders(slider_specs)\n",
    "ui = widgets.VBox(list(sliders.values()))\n",
    "display(ui)\n",
    "\n",
    "# Function to update the simulation with new parameters\n",
    "def run_simulation(M, m, l, Kp, Kd):\n",
    "    \"\"\"\n",
    "    Runs the simulation and visualizes it with time series, phase plot, and animation.\n",
    "    \"\"\"\n",
    "    params = PendulumParams(M=M, m=m, l=l, Kp=Kp, Kd=Kd)\n",
    "    solution = simulate(pendulum_dynamics, initial_state, t_span, params)\n",
    "\n",
    "    # Plot time series and phase plot\n",
    "    plot_simulation(\n",
    "        t_span, solution,\n",
    "        labels=[\"Cart Position x\", \"Cart Velocity\", \"Pendulum Angle θ\", \"Angular Velocity θ̇\"]\n",
    "    )\n",
    "\n",
    "    # Animate the system\n",
    "    display(animate_system(solution, t_span))\n",
    "\n",
    "\n",
    "# Connect sliders to simulation function\n",
    "widgets.interactive_output(run_simulation, sliders)\n"
   ]
  },
  {
   "cell_type": "code",
   "execution_count": null,
   "metadata": {},
   "outputs": [],
   "source": []
  }
 ],
 "metadata": {
  "colab": {
   "provenance": []
  },
  "kernelspec": {
   "display_name": "Python 3 (ipykernel)",
   "language": "python",
   "name": "python3"
  },
  "language_info": {
   "codemirror_mode": {
    "name": "ipython",
    "version": 3
   },
   "file_extension": ".py",
   "mimetype": "text/x-python",
   "name": "python",
   "nbconvert_exporter": "python",
   "pygments_lexer": "ipython3",
   "version": "3.13.2"
  }
 },
 "nbformat": 4,
 "nbformat_minor": 4
}
