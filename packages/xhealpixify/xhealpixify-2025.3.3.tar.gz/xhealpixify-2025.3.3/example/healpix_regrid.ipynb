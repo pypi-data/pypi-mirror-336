{
 "cells": [
  {
   "cell_type": "markdown",
   "id": "0",
   "metadata": {
    "tags": []
   },
   "source": [
    "# Example: regrid a dataset to a healpix grid\n",
    "\n",
    "Since the default geographic rectilinear grid has non-uniform grid sizes and distances and is thus not suitable for this application, we transform the dataset to one with equal distances between the cell centers. The Healpix cells satisfy these conditions, and can be used for spatial convolutions when reshaped to a 2D array according to the \"nested\" cell numbering.\n",
    "\n",
    "As with any interpolation, the linear interpolation supported by the `healpy` library is split into the computation of weights and the application of those weights to the data."
   ]
  },
  {
   "cell_type": "code",
   "execution_count": null,
   "id": "1",
   "metadata": {
    "tags": []
   },
   "outputs": [],
   "source": [
    "import warnings\n",
    "\n",
    "import fsspec  # noqa: F401\n",
    "import hvplot.xarray  # noqa: F401\n",
    "import intake\n",
    "import xarray as xr  # noqa: F401\n",
    "import zarr  # noqa: F401\n",
    "\n",
    "warnings.filterwarnings(\"ignore\")\n",
    "from xhealpixify.grid import create_grid\n",
    "from xhealpixify.regridder import HealpyRegridder"
   ]
  },
  {
   "cell_type": "markdown",
   "id": "2",
   "metadata": {},
   "source": [
    "## Define the resolution for healpix"
   ]
  },
  {
   "cell_type": "code",
   "execution_count": null,
   "id": "3",
   "metadata": {
    "editable": true,
    "slideshow": {
     "slide_type": ""
    },
    "tags": [
     "parameters"
    ]
   },
   "outputs": [],
   "source": [
    "# Notebook specification\n",
    "nside = 4096  # healpix resolution\n",
    "# for 0.5km example use\n",
    "# nside = nside*2\n",
    "rot = {\"lat\": 0, \"lon\": 30}"
   ]
  },
  {
   "cell_type": "markdown",
   "id": "4",
   "metadata": {},
   "source": [
    "## Read the data\n",
    "\n",
    "Below, you can try out 1.5km (copernicus marine services) 2.5km (marc, ifremer) and 0.5km (marc, ifremer) data using intake/kerchunk hosted on Ifremer's HPC center (possible to access same data both from HPC and cloud) "
   ]
  },
  {
   "cell_type": "code",
   "execution_count": null,
   "id": "5",
   "metadata": {
    "tags": []
   },
   "outputs": [],
   "source": [
    "# Example using copernicus (NORTHWESTSHELF_ANALYSIS_FORECAST_PHY_004_01)\n",
    "catalog = \"https://data-taos.ifremer.fr/kerchunk/ref-copernicus.yaml\"\n",
    "\n",
    "cat = intake.open_catalog(catalog)\n",
    "# ds = cat.data(type=\"TEM\").to_dask().rename({\"thetao\": \"TEMP\"})[[\"TEMP\"]]\n",
    "# ds = cat.data(type=\"SSH\").to_dask().zos.to_dataset(name='XE')\n",
    "ds = (\n",
    "    cat.data_tmp(type=\"mdt\")\n",
    "    .to_dask()\n",
    "    .deptho.rename({\"latitude\": \"lat\", \"longitude\": \"lon\"})\n",
    "    .to_dataset(name=\"H0\")\n",
    ")\n",
    "ds\n",
    "reference_model_ = ds\n",
    "(broadcasted,) = xr.broadcast(\n",
    "    reference_model_[[\"lat\", \"lon\"]]\n",
    "    .reset_index([\"lat\", \"lon\"])\n",
    "    .rename_vars({\"lat\": \"latitude\", \"lon\": \"longitude\"})\n",
    "    .reset_coords()\n",
    ")\n",
    "ds = reference_model_.merge(broadcasted).set_coords([\"latitude\", \"longitude\"]).compute()\n",
    "ds"
   ]
  },
  {
   "cell_type": "code",
   "execution_count": null,
   "id": "6",
   "metadata": {
    "tags": []
   },
   "outputs": [],
   "source": [
    "# Example using MARC multi resolution. (2.5km / 0.5km)\n",
    "\n",
    "catalog = \"https://data-taos.ifremer.fr/kerchunk/ref-marc.yaml\"\n",
    "cat = intake.open_catalog(catalog)[\"marc\"]\n",
    "# 2.5km without zoom(=agrif)\n",
    "catalog_parameters: dict = {\"region\": \"f1_e2500\", \"year\": \"2017\"}\n",
    "# 0.5km\n",
    "catalog_parameters: dict = {\n",
    "    \"region\": \"f1_e2500_agrif/MARC_F1-MARS3D-FINIS\",\n",
    "    \"year\": \"2017\",\n",
    "}\n",
    "# 2.5km\n",
    "catalog_parameters: dict = {\n",
    "    \"region\": \"f1_e2500_agrif/MARC_F1-MARS3D-MANGAE2500-AGRIF\",\n",
    "    \"year\": \"2017\",\n",
    "}\n",
    "\n",
    "catalog_kwargs = {\n",
    "    \"chunks\": {\"ni\": -1, \"nj\": -1, \"time\": 1},\n",
    "    \"inline_array\": True,\n",
    "}\n",
    "ds = (\n",
    "    cat(**catalog_kwargs, **catalog_parameters)\n",
    "    .to_dask()[\n",
    "        [\n",
    "            \"H0\",\n",
    "            \"XE\",\n",
    "        ]\n",
    "    ]\n",
    "    .assign_coords(time=lambda ds: ds.time.astype(\"datetime64[ns]\"))\n",
    ")\n",
    "ds = ds[[\"H0\"]]\n",
    "ds"
   ]
  },
  {
   "cell_type": "code",
   "execution_count": null,
   "id": "7",
   "metadata": {
    "tags": []
   },
   "outputs": [],
   "source": [
    "## Use interpolate before projection for coastal area....\n",
    "max_gap = 2\n",
    "limit = 1\n",
    "method = \"nearest\"\n",
    "ds = ds.interpolate_na(\n",
    "    dim=\"lon\", method=method, limit=limit, max_gap=max_gap\n",
    ").interpolate_na(\n",
    "    dim=\"lat\", method=method, limit=limit, max_gap=max_gap\n",
    ")  # , fill_value=\"extrapolate\")\n",
    "ds"
   ]
  },
  {
   "cell_type": "markdown",
   "id": "8",
   "metadata": {},
   "source": [
    "## Define the target grid"
   ]
  },
  {
   "cell_type": "code",
   "execution_count": null,
   "id": "9",
   "metadata": {
    "tags": []
   },
   "outputs": [],
   "source": [
    "grid = create_grid(nside=nside, rot=rot)\n",
    "grid"
   ]
  },
  {
   "cell_type": "markdown",
   "id": "10",
   "metadata": {},
   "source": [
    "## Compute the weights"
   ]
  },
  {
   "cell_type": "code",
   "execution_count": null,
   "id": "11",
   "metadata": {
    "tags": []
   },
   "outputs": [],
   "source": [
    "regridder = HealpyRegridder(ds, grid)"
   ]
  },
  {
   "cell_type": "markdown",
   "id": "12",
   "metadata": {},
   "source": [
    "## Apply the weights"
   ]
  },
  {
   "cell_type": "code",
   "execution_count": null,
   "id": "13",
   "metadata": {
    "tags": []
   },
   "outputs": [],
   "source": [
    "regridded = regridder.regrid_ds(ds).compute()\n",
    "regridded"
   ]
  },
  {
   "cell_type": "code",
   "execution_count": null,
   "id": "14",
   "metadata": {
    "tags": []
   },
   "outputs": [],
   "source": [
    "regridded.H0.plot(x=\"longitude\", y=\"latitude\")"
   ]
  },
  {
   "cell_type": "code",
   "execution_count": null,
   "id": "15",
   "metadata": {
    "tags": []
   },
   "outputs": [],
   "source": [
    "ds.H0.plot(x=\"longitude\", y=\"latitude\")"
   ]
  },
  {
   "cell_type": "markdown",
   "id": "16",
   "metadata": {
    "jp-MarkdownHeadingCollapsed": true,
    "tags": []
   },
   "source": [
    "## Plotting\n",
    "We first select the area for the plot. Here, around ouessant island."
   ]
  },
  {
   "cell_type": "code",
   "execution_count": null,
   "id": "17",
   "metadata": {
    "tags": []
   },
   "outputs": [],
   "source": [
    "subset: dict = {\n",
    "    \"lat_min\": 48.35,\n",
    "    \"lat_max\": 48.55,\n",
    "    \"lon_min\": -5.25,\n",
    "    \"lon_max\": -4.95,\n",
    "    \"depth_min\": -100,\n",
    "    \"depth_max\": 0,\n",
    "}\n",
    "cmap = \"ocean\""
   ]
  },
  {
   "cell_type": "markdown",
   "id": "18",
   "metadata": {},
   "source": [
    "Next, we plot side-by-side the original grid and the new grid.\n",
    "\n",
    "_If too slow change coastline 10m to 110m!_"
   ]
  },
  {
   "cell_type": "code",
   "execution_count": null,
   "id": "19",
   "metadata": {
    "tags": []
   },
   "outputs": [],
   "source": [
    "(-ds.H0).hvplot.quadmesh(\n",
    "    x=\"longitude\",\n",
    "    y=\"latitude\",\n",
    "    geo=True,\n",
    "    coastline=\"10m\",\n",
    "    xlim=(subset[\"lon_min\"], subset[\"lon_max\"]),\n",
    "    ylim=(subset[\"lat_min\"], subset[\"lat_max\"]),\n",
    "    clim=((subset[\"depth_min\"], subset[\"depth_max\"])),\n",
    "    cmap=cmap,\n",
    "    title=\"original grid\",\n",
    "    rasterize=True,\n",
    ") + (-regridded.H0).hvplot.quadmesh(\n",
    "    x=\"longitude\",\n",
    "    y=\"latitude\",\n",
    "    geo=True,\n",
    "    coastline=\"10m\",\n",
    "    xlim=(subset[\"lon_min\"], subset[\"lon_max\"]),\n",
    "    ylim=(subset[\"lat_min\"], subset[\"lat_max\"]),\n",
    "    clim=((subset[\"depth_min\"], subset[\"depth_max\"])),\n",
    "    cmap=cmap,\n",
    "    title=\"healpix projected grid\",\n",
    "    rasterize=True,\n",
    ")"
   ]
  },
  {
   "cell_type": "markdown",
   "id": "20",
   "metadata": {},
   "source": [
    "## Compute and save to disk"
   ]
  },
  {
   "cell_type": "code",
   "execution_count": null,
   "id": "21",
   "metadata": {
    "tags": []
   },
   "outputs": [],
   "source": [
    "regridded.to_zarr(\"./test.zarr\", mode=\"w\", consolidated=True, compute=True)"
   ]
  },
  {
   "cell_type": "markdown",
   "id": "22",
   "metadata": {},
   "source": [
    "## Result Checking"
   ]
  },
  {
   "cell_type": "code",
   "execution_count": null,
   "id": "23",
   "metadata": {
    "tags": []
   },
   "outputs": [],
   "source": [
    "regridded_ = xr.open_dataset(\"./test.zarr\", engine=\"zarr\", chunks={})\n",
    "regridded_"
   ]
  },
  {
   "cell_type": "code",
   "execution_count": null,
   "id": "24",
   "metadata": {},
   "outputs": [],
   "source": [
    "regridded_[\"diff\"].isel(time=0).plot(x=\"longitude\", y=\"latitude\")"
   ]
  }
 ],
 "metadata": {
  "language_info": {
   "codemirror_mode": {
    "name": "ipython",
    "version": 3
   },
   "file_extension": ".py",
   "mimetype": "text/x-python",
   "name": "python",
   "nbconvert_exporter": "python",
   "pygments_lexer": "ipython3"
  }
 },
 "nbformat": 4,
 "nbformat_minor": 5
}
