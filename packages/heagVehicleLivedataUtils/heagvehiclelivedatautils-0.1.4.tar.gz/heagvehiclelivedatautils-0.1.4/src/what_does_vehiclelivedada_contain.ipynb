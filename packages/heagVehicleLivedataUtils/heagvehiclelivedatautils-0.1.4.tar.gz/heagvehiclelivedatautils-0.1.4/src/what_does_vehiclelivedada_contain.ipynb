{
 "cells": [
  {
   "cell_type": "markdown",
   "id": "619fcd54",
   "metadata": {},
   "source": [
    "# Figuring out what the data is for "
   ]
  },
  {
   "cell_type": "markdown",
   "id": "678292a9",
   "metadata": {},
   "source": [
    "## vehielce API"
   ]
  },
  {
   "cell_type": "markdown",
   "id": "10b178d8",
   "metadata": {},
   "source": [
    "### categories"
   ]
  },
  {
   "cell_type": "code",
   "execution_count": null,
   "id": "169aa464",
   "metadata": {},
   "outputs": [],
   "source": [
    "def get_categories(data):\n",
    "    return set([vehicle[\"category\"] for vehicle in data[\"vehicles\"]])"
   ]
  },
  {
   "cell_type": "code",
   "execution_count": null,
   "id": "ff274935",
   "metadata": {},
   "outputs": [
    {
     "data": {
      "text/plain": [
       "{1, 5}"
      ]
     },
     "metadata": {},
     "output_type": "display_data"
    }
   ],
   "source": [
    "\n",
    "display(get_categories(vehicle_data))\n"
   ]
  },
  {
   "cell_type": "markdown",
   "id": "0d6ea338",
   "metadata": {},
   "source": [
    "probably 1 for Tram \n",
    "        5 for Bus"
   ]
  },
  {
   "cell_type": "code",
   "execution_count": null,
   "id": "5e390d32",
   "metadata": {},
   "outputs": [
    {
     "data": {
      "text/plain": [
       "[55,\n",
       " 102,\n",
       " 108,\n",
       " 77,\n",
       " 70,\n",
       " 56,\n",
       " 69,\n",
       " 101,\n",
       " 109,\n",
       " 59,\n",
       " 106,\n",
       " 85,\n",
       " 89,\n",
       " 60,\n",
       " 83,\n",
       " 86,\n",
       " 71,\n",
       " 112,\n",
       " 88,\n",
       " 104,\n",
       " 81,\n",
       " 90,\n",
       " 79,\n",
       " 87,\n",
       " 73,\n",
       " 61,\n",
       " 68,\n",
       " 63,\n",
       " 17,\n",
       " 111,\n",
       " 58,\n",
       " 74,\n",
       " 78,\n",
       " 82,\n",
       " 103,\n",
       " 107,\n",
       " 92,\n",
       " 105,\n",
       " 67,\n",
       " 113,\n",
       " 24]"
      ]
     },
     "metadata": {},
     "output_type": "display_data"
    },
    {
     "data": {
      "text/plain": [
       "[340,\n",
       " 623,\n",
       " 967,\n",
       " 654,\n",
       " 674,\n",
       " 906,\n",
       " 910,\n",
       " 502,\n",
       " 501,\n",
       " 915,\n",
       " 968,\n",
       " 977,\n",
       " 658,\n",
       " 840,\n",
       " 413,\n",
       " 364,\n",
       " 381,\n",
       " 979,\n",
       " 708,\n",
       " 609,\n",
       " 660,\n",
       " 334,\n",
       " 431,\n",
       " 332,\n",
       " 904,\n",
       " 954,\n",
       " 676,\n",
       " 684,\n",
       " 836,\n",
       " 835,\n",
       " 667,\n",
       " 706,\n",
       " 672,\n",
       " 978,\n",
       " 975,\n",
       " 673,\n",
       " 661,\n",
       " 335,\n",
       " 433,\n",
       " 440,\n",
       " 412,\n",
       " 369,\n",
       " 657,\n",
       " 665,\n",
       " 614,\n",
       " 911,\n",
       " 610,\n",
       " 317,\n",
       " 358,\n",
       " 617,\n",
       " 338,\n",
       " 299,\n",
       " 407,\n",
       " 707,\n",
       " 838,\n",
       " 627,\n",
       " 628,\n",
       " 663,\n",
       " 368,\n",
       " 656,\n",
       " 664,\n",
       " 677,\n",
       " 622,\n",
       " 613,\n",
       " 702,\n",
       " 367,\n",
       " 626,\n",
       " 414,\n",
       " 411,\n",
       " 963,\n",
       " 422,\n",
       " 420,\n",
       " 374,\n",
       " 383,\n",
       " 445,\n",
       " 444,\n",
       " 380,\n",
       " 917,\n",
       " 952,\n",
       " 972,\n",
       " 434,\n",
       " 378,\n",
       " 343,\n",
       " 339,\n",
       " 329,\n",
       " 292,\n",
       " 291,\n",
       " 429,\n",
       " 974,\n",
       " 363,\n",
       " 425,\n",
       " 443]"
      ]
     },
     "metadata": {},
     "output_type": "display_data"
    }
   ],
   "source": [
    "vehicleIdInCategory1 = []\n",
    "vehicleIdInCategory5 = []\n",
    "\n",
    "for vehicle in vehicle_data[\"vehicles\"]:\n",
    "    if vehicle[\"category\"] == 1:\n",
    "        vehicleIdInCategory1.append(vehicle[\"vehicleId\"])\n",
    "    else: \n",
    "        vehicleIdInCategory5.append(vehicle[\"vehicleId\"])\n",
    "\n",
    "display(vehicleIdInCategory1)\n",
    "display(vehicleIdInCategory5)"
   ]
  },
  {
   "cell_type": "markdown",
   "id": "3abe5057",
   "metadata": {},
   "source": [
    "### type / status / deviation / offline / delay"
   ]
  },
  {
   "cell_type": "code",
   "execution_count": null,
   "id": "af20562b",
   "metadata": {},
   "outputs": [
    {
     "data": {
      "text/plain": [
       "{1}"
      ]
     },
     "metadata": {},
     "output_type": "display_data"
    }
   ],
   "source": [
    "set([vehicle['type'] for vehicle in vehicle_data['vehicles']])"
   ]
  },
  {
   "cell_type": "code",
   "execution_count": null,
   "id": "849c96d1",
   "metadata": {},
   "outputs": [
    {
     "data": {
      "text/plain": [
       "{1, 4}"
      ]
     },
     "metadata": {},
     "output_type": "display_data"
    }
   ],
   "source": [
    "set([vehicle['status'] for vehicle in vehicle_data['vehicles']])"
   ]
  },
  {
   "cell_type": "code",
   "execution_count": null,
   "id": "702a3806",
   "metadata": {},
   "outputs": [
    {
     "data": {
      "text/plain": [
       "{0}"
      ]
     },
     "metadata": {},
     "output_type": "display_data"
    }
   ],
   "source": [
    "set([vehicle['deviation'] for vehicle in vehicle_data['vehicles']])"
   ]
  },
  {
   "cell_type": "code",
   "execution_count": null,
   "id": "865fc943",
   "metadata": {},
   "outputs": [
    {
     "data": {
      "text/plain": [
       "{False}"
      ]
     },
     "metadata": {},
     "output_type": "display_data"
    }
   ],
   "source": [
    "set([vehicle['offline'] for vehicle in vehicle_data['vehicles']])"
   ]
  },
  {
   "cell_type": "code",
   "execution_count": null,
   "id": "e7fc2e9c",
   "metadata": {},
   "outputs": [
    {
     "data": {
      "text/plain": [
       "{None}"
      ]
     },
     "metadata": {},
     "output_type": "display_data"
    }
   ],
   "source": [
    "set([vehicle['delay'] for vehicle in vehicle_data['vehicles']])"
   ]
  },
  {
   "cell_type": "markdown",
   "id": "cc71a01a",
   "metadata": {},
   "source": [
    "## station API"
   ]
  },
  {
   "cell_type": "markdown",
   "id": "aef343a5",
   "metadata": {},
   "source": [
    "### distance"
   ]
  },
  {
   "cell_type": "code",
   "execution_count": null,
   "id": "0b2753bb",
   "metadata": {},
   "outputs": [
    {
     "data": {
      "text/plain": [
       "['Darmstadt Holzstraße']"
      ]
     },
     "metadata": {},
     "output_type": "display_data"
    }
   ],
   "source": [
    "[station['name'] for station in stations_data if station['distance'] < 200]"
   ]
  },
  {
   "cell_type": "markdown",
   "id": "4b2fb44b",
   "metadata": {},
   "source": [
    "scheint was in richung distance from center zu sein (wobei das zentrum iwi in der altstadtanlage ist oder so, laut chat gpt so östliches ender der stadtbibleothek)"
   ]
  },
  {
   "cell_type": "code",
   "execution_count": null,
   "id": "06419f86",
   "metadata": {},
   "outputs": [
    {
     "data": {
      "text/plain": [
       "{'type': 'stop',\n",
       " 'id': '3006216',\n",
       " 'globalId': 'de:06439:6216',\n",
       " 'name': 'Waldems-Steinfischbach Berliner Straße',\n",
       " 'platform': None,\n",
       " 'formerPlatform': None,\n",
       " 'locality': None,\n",
       " 'latitude': 50.2750024808088,\n",
       " 'longitude': 8.34822499050323,\n",
       " 'date': None,\n",
       " 'expectedDate': None,\n",
       " 'accessible': False,\n",
       " 'anchorPointX': 0.0,\n",
       " 'anchorPointY': 0.0,\n",
       " 'imageName': None,\n",
       " 'logoName': None,\n",
       " 'matchQuality': 0,\n",
       " 'canceled': False,\n",
       " 'distance': 49995,\n",
       " 'areaId': None,\n",
       " 'zone': None,\n",
       " 'wabe': None,\n",
       " 'layer': None,\n",
       " 'generalAccessabiltyInfo': None,\n",
       " 'underground': False,\n",
       " 'undergroundIds': None,\n",
       " 'service': 'STATION',\n",
       " 'accessibilityPlatforms': [],\n",
       " 'defects': [],\n",
       " 'dateRange': None,\n",
       " 'defectable': False}"
      ]
     },
     "metadata": {},
     "output_type": "display_data"
    }
   ],
   "source": [
    "stations_data[-1]"
   ]
  },
  {
   "cell_type": "markdown",
   "id": "185a971d",
   "metadata": {},
   "source": [
    "### other stuff without used information"
   ]
  },
  {
   "cell_type": "code",
   "execution_count": null,
   "id": "a2ee88b5",
   "metadata": {},
   "outputs": [
    {
     "data": {
      "text/plain": [
       "{False}"
      ]
     },
     "metadata": {},
     "output_type": "display_data"
    }
   ],
   "source": [
    "set([station['accessible'] for station in stations_data])"
   ]
  },
  {
   "cell_type": "code",
   "execution_count": null,
   "id": "439bb7f7",
   "metadata": {},
   "outputs": [
    {
     "data": {
      "text/plain": [
       "{'stop'}"
      ]
     },
     "metadata": {},
     "output_type": "display_data"
    }
   ],
   "source": [
    "set([station['type'] for station in stations_data])"
   ]
  },
  {
   "cell_type": "code",
   "execution_count": null,
   "id": "7fc45ad3",
   "metadata": {},
   "outputs": [
    {
     "data": {
      "text/plain": [
       "{False}"
      ]
     },
     "metadata": {},
     "output_type": "display_data"
    }
   ],
   "source": [
    "set([station['underground'] for station in stations_data])"
   ]
  },
  {
   "cell_type": "code",
   "execution_count": null,
   "id": "53173079",
   "metadata": {},
   "outputs": [
    {
     "data": {
      "text/plain": [
       "{0.0}"
      ]
     },
     "metadata": {},
     "output_type": "display_data"
    }
   ],
   "source": [
    "set([station['anchorPointX'] for station in stations_data])"
   ]
  },
  {
   "cell_type": "code",
   "execution_count": null,
   "id": "caddca2c",
   "metadata": {},
   "outputs": [
    {
     "data": {
      "text/plain": [
       "{False}"
      ]
     },
     "metadata": {},
     "output_type": "display_data"
    }
   ],
   "source": [
    "set([station['canceled'] for station in stations_data])"
   ]
  },
  {
   "cell_type": "code",
   "execution_count": null,
   "id": "0da059cd",
   "metadata": {},
   "outputs": [
    {
     "data": {
      "text/plain": [
       "{'STATION'}"
      ]
     },
     "metadata": {},
     "output_type": "display_data"
    }
   ],
   "source": [
    "set([station['service'] for station in stations_data])"
   ]
  }
 ],
 "metadata": {
  "kernelspec": {
   "display_name": "Python 3",
   "language": "python",
   "name": "python3"
  },
  "language_info": {
   "codemirror_mode": {
    "name": "ipython",
    "version": 2
   },
   "file_extension": ".py",
   "mimetype": "text/x-python",
   "name": "python",
   "nbconvert_exporter": "python",
   "pygments_lexer": "ipython2",
   "version": "2.7.6"
  }
 },
 "nbformat": 4,
 "nbformat_minor": 5
}
