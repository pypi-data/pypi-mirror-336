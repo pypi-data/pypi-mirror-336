{
 "cells": [
  {
   "metadata": {},
   "cell_type": "markdown",
   "source": "# some early data analysis",
   "id": "e57880b3e6347f90"
  },
  {
   "metadata": {
    "ExecuteTime": {
     "end_time": "2024-11-01T11:44:53.974045Z",
     "start_time": "2024-11-01T11:44:53.327646Z"
    }
   },
   "cell_type": "code",
   "outputs": [
    {
     "name": "stdout",
     "output_type": "stream",
     "text": [
      "2024-11-01T12:44:48+0100\n"
     ]
    }
   ],
   "execution_count": 2,
   "source": [
    "import pandas\n",
    "import pandas as pd\n",
    "from pandas import Timestamp\n",
    "\n",
    "from heagVehicleLivedataUtils.apiUtils import get_current_vehicle_data\n",
    "\n",
    "vehicle_data = heagAPI.get_current_vehicle_data()\n",
    "print(vehicle_data[\"timestamp\"])\n",
    "\n",
    "stations_data = heagAPI.get_station_data()"
   ],
   "id": "f0075036240d02aa"
  },
  {
   "metadata": {
    "ExecuteTime": {
     "end_time": "2024-11-01T12:03:43.868459Z",
     "start_time": "2024-11-01T12:03:43.859243Z"
    }
   },
   "cell_type": "code",
   "outputs": [],
   "execution_count": 9,
   "source": [
    "def getLatLong(station):\n",
    "    return (station[\"latitude\"], station[\"longitude\"])"
   ],
   "id": "c5d23e86c8872df4"
  },
  {
   "metadata": {
    "ExecuteTime": {
     "end_time": "2024-11-01T12:03:17.931583Z",
     "start_time": "2024-11-01T12:03:17.921340Z"
    }
   },
   "cell_type": "code",
   "outputs": [],
   "execution_count": 6,
   "source": [
    "#filter out station far away from Darmstadt. way more performant -> uses distance attribute\n",
    "max_distance = 20000 #in meters\n",
    "stations_data_filtered = [station for station in stations_data if station[\"distance\"] < max_distance]"
   ],
   "id": "71b80c37e4801087"
  },
  {
   "metadata": {
    "ExecuteTime": {
     "end_time": "2024-11-01T12:03:26.803193Z",
     "start_time": "2024-11-01T12:03:26.787880Z"
    }
   },
   "cell_type": "code",
   "outputs": [],
   "execution_count": 7,
   "source": [
    "def findClosestStation(location,stations):\n",
    "    closest_station = None\n",
    "    min_distance = float('inf')\n",
    "    # assumes that stations_datat is sorted by distance\n",
    "    distance_from_center = geodesic(location, getLatLong(stations_data[0])).meters\n",
    "    distance_band_width = 3000\n",
    "\n",
    "    for station in stations:\n",
    "        if abs(distance_from_center - station[\"distance\"]) < distance_band_width:\n",
    "            distance = geodesic(location, getLatLong(station)).meters\n",
    "            if distance < min_distance:\n",
    "                min_distance = distance\n",
    "                closest_station = station\n",
    "\n",
    "    return closest_station"
   ],
   "id": "a49dfbd798e89e57"
  },
  {
   "metadata": {},
   "cell_type": "markdown",
   "source": "## What Tinas are in use",
   "id": "88a3726bdf8dc6bf"
  },
  {
   "metadata": {
    "ExecuteTime": {
     "end_time": "2024-11-01T12:02:52.070060Z",
     "start_time": "2024-11-01T12:02:52.049878Z"
    }
   },
   "cell_type": "code",
   "outputs": [],
   "execution_count": 3,
   "source": [
    "from heagVehicleLivedataUtils.vehicleDataUtils import countTramsByLineAndClass\n",
    "from heagVehicleLivedataUtils.vehicleInformation import tram_class_prefix, modern_tram_numbers\n"
   ],
   "id": "7f8429db1f389bf"
  },
  {
   "metadata": {
    "ExecuteTime": {
     "end_time": "2024-11-01T12:02:56.119093Z",
     "start_time": "2024-11-01T12:02:56.107043Z"
    }
   },
   "cell_type": "code",
   "outputs": [],
   "execution_count": 4,
   "source": [
    "# for compatibility after reworking vehicleUtils\n",
    "def tramBaureihenPrefix(tram):\n",
    "    return int(tram_class_prefix(tram))\n",
    "\n",
    "def get_trams_by_line_and_class(trams):\n",
    "    return countTramsByLineAndClass(trams)"
   ],
   "id": "ec284dc344a04388"
  },
  {
   "metadata": {
    "ExecuteTime": {
     "end_time": "2024-11-01T12:03:52.830322Z",
     "start_time": "2024-11-01T12:03:51.641685Z"
    }
   },
   "cell_type": "code",
   "outputs": [
    {
     "name": "stdout",
     "output_type": "stream",
     "text": [
      "Tina 22102 on line 6 towards \"Arheilgen Dreieichweg\" near \"Darmstadt-Eberstadt Frankenstein Haltest. Linie 7\"\n",
      "Tina 22104 on line 5 towards \"Kranichstein Bahnhof\" near \"Darmstadt-Kranichstein Gruberstraße\"\n",
      "Tina 22106 on line 6 towards \"Alsbach Am Hinkelstein\" near \"Darmstadt-Eberstadt Frankenstein\"\n",
      "Tina 22107 on line 9 towards \"Griesheim Platz Bar-le-Duc\" near \"Darmstadt Luisenplatz\"\n",
      "Tina 22109 on line 6 towards \"Arheilgen Dreieichweg\" near \"Darmstadt Luisenplatz\"\n",
      "Tina 22110 on line 6 towards \"Alsbach Am Hinkelstein\" near \"Darmstadt-Arheilgen Dreieichweg\"\n",
      "Tina 22111 on line 9 towards \"Darmstadt Böllenfalltor\" near \"Darmstadt TZ Rhein Main\"\n",
      "Tina 22113 on line 6 towards \"Alsbach Am Hinkelstein\" near \"Darmstadt Pallaswiesenstraße\"\n",
      "Tina 22114 on line 6 towards \"Arheilgen Dreieichweg\" near \"Darmstadt-Eberstadt Friedrich-Ebert-Straße\"\n",
      "Tina 22115 on line 6 towards \"Alsbach Am Hinkelstein\" near \"Seeheim-Jugenheim-Seeheim Im Güldenen Wingert\"\n",
      "Tina 22116 on line 6 towards \"Alsbach Am Hinkelstein\" near \"Alsbach-Hähnlein-Alsbach Beuneweg\"\n"
     ]
    }
   ],
   "execution_count": 10,
   "source": [
    "#find the Tinas in use\n",
    "tinas = [vehicle for vehicle in vehicle_data[\"vehicles\"] if vehicle[\"category\"]==1 and vehicle[\"vehicleId\"] >= 100 and vehicle[\"vehicleId\"] <= 125 ]\n",
    "\n",
    "tinas.sort(key=lambda vehicle: vehicle[\"vehicleId\"])\n",
    "\n",
    "for tina in tinas:\n",
    "    print(f'Tina 22{tina[\"vehicleId\"]} on line {tina[\"lineId\"]} towards \\\"{tina[\"direction\"]}\\\" near \\\"{findClosestStation(getLatLong(tina),stations_data_filtered)[\"name\"]}\\\"')"
   ],
   "id": "a8dbc87ee7fc5cb0"
  },
  {
   "metadata": {},
   "cell_type": "code",
   "outputs": [
    {
     "name": "stdout",
     "output_type": "stream",
     "text": [
      "number of trams in use: 33\n",
      "Tram  9867 on line 3 towards \"Darmstadt Hauptbahnhof\" near \"Darmstadt Willy-Brandt-Platz\"\n",
      "Tram  9871 on line 3 towards \"Darmstadt Hauptbahnhof\" near \"Darmstadt Goethestraße\"\n",
      "Tram  0792 on line 3 towards \"Darmstadt Lichtenbergschule\" near \"Darmstadt Weinbergstraße\"\n",
      "Tram  0786 on line 3 towards \"Darmstadt Lichtenbergschule\" near \"Darmstadt Schulstraße\"\n",
      "Tram  9858 on line 3 towards \"Darmstadt Lichtenbergschule\" near \"Darmstadt Hauptbahnhof\"\n",
      "Tram  0787 on line 4 towards \"Kranichstein Bahnhof\" near \"Darmstadt Berliner Allee\"\n",
      "Tram  9873 on line 4 towards \"Kranichstein Bahnhof\" near \"Darmstadt Rhönring\"\n",
      "Tram  0788 on line 4 towards \"Darmstadt Hauptbahnhof\" near \"Darmstadt Willy-Brandt-Platz\"\n",
      "Tram  9869 on line 4 towards \"Darmstadt Hauptbahnhof\" near \"Darmstadt-Kranichstein Bahnhof\"\n",
      "Tram  0789 on line 4 towards \"Darmstadt Hauptbahnhof\" near \"Darmstadt-Kranichstein Bahnhof\"\n",
      "Tram  9860 on line 4 towards \"Darmstadt Hauptbahnhof\" near \"Darmstadt-Kranichstein Borsdorffstraße\"\n",
      "Tram  9859 on line 6 towards \"Alsbach Am Hinkelstein\" near \"Darmstadt-Arheilgen Kolpingweg\"\n",
      "Tram 22108 on line 6 towards \"Alsbach Am Hinkelstein\" near \"Darmstadt Rhein-/Neckarstraße\"\n",
      "Tram 22109 on line 6 towards \"Alsbach Am Hinkelstein\" near \"Darmstadt-Eberstadt Mittelschneise\"\n",
      "Tram 22101 on line 6 towards \"Arheilgen Dreieichweg\" near \"Darmstadt Willy-Brandt-Platz\"\n",
      "Tram  0785 on line 6 towards \"Arheilgen Dreieichweg\" near \"Alsbach-Hähnlein-Alsbach Am Hinkelstein\"\n",
      "Tram  0778 on line 6 towards \"Arheilgen Dreieichweg\" near \"Darmstadt-Eberstadt Kirche\"\n",
      "Tram 22111 on line 8 towards \"Eberstadt Frankenstein\" near \"Darmstadt Nordbahnhof\"\n",
      "Tram  0777 on line 8 towards \"Eberstadt Frankenstein\" near \"Darmstadt Bessunger Straße\"\n",
      "Tram  9862 on line 8 towards \"Arheilgen Dreieichweg\" near \"Darmstadt-Arheilgen Löwenplatz\"\n",
      "Tram  9855 on line 8 towards \"Arheilgen Dreieichweg\" near \"Darmstadt Prinz-Emil-Garten\"\n",
      "Tram  9874 on line 8 towards \"Arheilgen Dreieichweg\" near \"Darmstadt-Eberstadt Frankenstein\"\n",
      "Tram  0782 on line 9 towards \"Griesheim Platz Bar-le-Duc\" near \"Darmstadt Böllenfalltor\"\n",
      "Tram  9856 on line 9 towards \"Griesheim Platz Bar-le-Duc\" near \"Darmstadt Berliner Allee\"\n",
      "Tram  9868 on line 9 towards \"Griesheim Platz Bar-le-Duc\" near \"Darmstadt Holzstraße\"\n",
      "Tram  9870 on line 9 towards \"Griesheim Platz Bar-le-Duc\" near \"Griesheim Platz Bar-le-Duc\"\n",
      "Tram  9116 on line 9 towards \"Darmstadt Böllenfalltor\" near \"Griesheim Sankt Stephan\"\n",
      "Tram  0779 on line 9 towards \"Darmstadt Böllenfalltor\" near \"Darmstadt Herdweg\"\n",
      "Tram  9861 on line 9 towards \"Darmstadt Böllenfalltor\" near \"Griesheim Platz Bar-le-Duc\"\n",
      "Tram  0790 on line 9 towards \"Darmstadt Böllenfalltor\" near \"Darmstadt Rhein-/Neckarstraße\"\n",
      "Tram 22104 on line SV98 towards \"Darmstadt Hauptbahnhof\" near \"Darmstadt Jahnstraße\"\n",
      "Tram 22106 on line SV98 towards \"Griesheim Wagenhalle\" near \"Darmstadt Böllenfalltor\"\n",
      "Tram 22107 on line SV98 towards \"Darmstadt Hauptbahnhof\" near \"Darmstadt Schloss\"\n"
     ]
    }
   ],
   "execution_count": 77,
   "source": [
    "trams = [vehicle for vehicle in vehicle_data[\"vehicles\"] if vehicle[\"category\"]==1]\n",
    "\n",
    "trams.sort(key=lambda vehicle: vehicle[\"lineId\"])\n",
    "print(f'number of trams in use: {len(trams)}')\n",
    "for tram in trams:\n",
    "    # TODO: fix this to use vehicleUtils\n",
    "    tramIdPrefixNumerical = tramBaureihenPrefix(tram)\n",
    "    if tramIdPrefixNumerical > 22 :\n",
    "        tramIdPrefix = ' ' + str(tramIdPrefixNumerical)\n",
    "    elif tramIdPrefixNumerical == 22:\n",
    "        tramIdPrefix = '22'\n",
    "    elif tramIdPrefixNumerical == 7:\n",
    "        tramIdPrefix = ' 07'\n",
    "    else:\n",
    "        tramIdPrefix = '  '\n",
    "\n",
    "    print('Tram ' + tramIdPrefix + f'{tram[\"vehicleId\"]} on line {tram[\"lineId\"]} towards \\\"{tram[\"direction\"]}\\\" near \\\"{findClosestStation(getLatLong(tram),stations_data_filtered)[\"name\"]}\\\"')"
   ],
   "id": "2735907091164038"
  },
  {
   "metadata": {},
   "cell_type": "code",
   "outputs": [
    {
     "name": "stdout",
     "output_type": "stream",
     "text": [
      "number of high floor trams on eberstadt brach 0/19\n"
     ]
    }
   ],
   "execution_count": 36,
   "source": [
    "trams = [vehicle for vehicle in vehicle_data[\"vehicles\"] if vehicle[\"category\"]==1]\n",
    "\n",
    "trams_northSouth = [tram for tram in trams if (int(tram[\"lineId\"]) >= 6 and int(tram[\"lineId\"]) <= 8) or int(tram[\"lineId\"]) == 1]\n",
    "trams_northSouth_highFloor = [tram for tram in trams_northSouth if tram[\"vehicleId\"] >= 15 and tram[\"vehicleId\"] < 25]\n",
    "\n",
    "print(f\"number of high floor trams on eberstadt brach {len(trams_northSouth_highFloor)}/{len(trams_northSouth)}\")"
   ],
   "id": "d9b5c1499cebc75d"
  },
  {
   "metadata": {
    "ExecuteTime": {
     "end_time": "2024-11-01T12:04:09.121518Z",
     "start_time": "2024-11-01T12:04:09.104184Z"
    }
   },
   "cell_type": "code",
   "outputs": [
    {
     "name": "stdout",
     "output_type": "stream",
     "text": [
      "3 on line 1 Distribution: [0, 0, 3, 0, 0]\n",
      "4 on line 2 Distribution: [0, 3, 1, 0, 0]\n",
      "4 on line 3 Distribution: [0, 2, 2, 0, 0]\n",
      "4 on line 4 Distribution: [0, 3, 1, 0, 0]\n",
      "6 on line 5 Distribution: [1, 1, 2, 2, 0]\n",
      "11 on line 6 Distribution: [8, 0, 1, 2, 0]\n",
      "4 on line 7 Distribution: [0, 1, 3, 0, 0]\n",
      "0 on line 8 Distribution: [0, 0, 0, 0, 0]\n",
      "4 on line 9 Distribution: [2, 0, 1, 1, 0]\n",
      "0 on line 10 Distribution: [0, 0, 0, 0, 0]\n",
      "Distribution: [ST15, ST14, ST13, ST12, other]\n",
      "Total: 40 Distribution: [11, 10, 14, 5, 0]\n"
     ]
    }
   ],
   "execution_count": 11,
   "source": [
    "trams = [vehicle for vehicle in vehicle_data[\"vehicles\"] if vehicle[\"category\"]==1]\n",
    "\n",
    "tramsOnLine_byClass = get_trams_by_line_and_class(trams)\n",
    "\n",
    "for line in range(len(tramsOnLine_byClass)):\n",
    "    print(f\"{sum(tramsOnLine_byClass[line])} on line {line + 1} Distribution: {tramsOnLine_byClass[line]}\")\n",
    "\n",
    "print(\"Distribution: [ST15, ST14, ST13, ST12, other]\")\n",
    "print(f\"Total: {len(trams)} Distribution: {[sum([tramsByClass[tramClass] for tramsByClass in tramsOnLine_byClass]) for tramClass in range(5)]}\")"
   ],
   "id": "762c8930160266e2"
  }
 ],
 "metadata": {
  "kernelspec": {
   "display_name": "Python 3",
   "language": "python",
   "name": "python3"
  },
  "language_info": {
   "codemirror_mode": {
    "name": "ipython",
    "version": 2
   },
   "file_extension": ".py",
   "mimetype": "text/x-python",
   "name": "python",
   "nbconvert_exporter": "python",
   "pygments_lexer": "ipython2",
   "version": "2.7.6"
  }
 },
 "nbformat": 4,
 "nbformat_minor": 5
}
