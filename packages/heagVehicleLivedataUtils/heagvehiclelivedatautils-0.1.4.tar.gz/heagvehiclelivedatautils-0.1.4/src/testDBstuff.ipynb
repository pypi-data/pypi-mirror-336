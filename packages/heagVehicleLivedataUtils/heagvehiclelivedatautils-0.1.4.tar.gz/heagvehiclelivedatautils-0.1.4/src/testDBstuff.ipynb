{
 "cells": [
  {
   "metadata": {},
   "cell_type": "markdown",
   "source": "# db",
   "id": "dcf4183a1dd5a38b"
  },
  {
   "metadata": {},
   "cell_type": "markdown",
   "source": "### interface sql directly",
   "id": "e867b3d8d45e347b"
  },
  {
   "metadata": {
    "ExecuteTime": {
     "end_time": "2024-11-30T22:04:12.761943Z",
     "start_time": "2024-11-30T22:04:12.742968Z"
    }
   },
   "cell_type": "code",
   "source": [
    "import psycopg2\n",
    "from heagVehicleLivedataUtils_sar23b.apiUtils import get_current_vehicle_data_as_dataframe\n",
    "\n",
    "# Database connection settings\n",
    "DB_SETTINGS = {\n",
    "    'dbname': 'mydatabase',\n",
    "    'user': 'user',\n",
    "    'password': 'password',\n",
    "    'host': 'localhost',  \n",
    "    'port': 5432\n",
    "}\n",
    "\n",
    "def get_db_connection():\n",
    "    conn = psycopg2.connect(**DB_SETTINGS)\n",
    "    return conn\n",
    "\n",
    "# test db connection\n",
    "with get_db_connection() as conn, conn.cursor() as cursor:\n",
    "    print(\"all fine\")"
   ],
   "id": "e3762b89ff9344e6",
   "outputs": [],
   "execution_count": 17
  },
  {
   "metadata": {},
   "cell_type": "code",
   "outputs": [],
   "execution_count": null,
   "source": [
    "with get_db_connection() as conn, conn.cursor() as cursor:\n",
    "    vehicle_line_list = get_current_vehicle_data_as_dataframe().reindex(columns=['lineId']).reset_index(\"vehicleId\").values.tolist()\n",
    "    for [vehicle, line] in vehicle_line_list:\n",
    "        cursor.execute(f\"INSERT INTO vehicledata (vehicleId, lineId) VALUES ({vehicle}, {line})\")\n",
    "    conn.commit()"
   ],
   "id": "d4211b0fba8f5b4d"
  },
  {
   "metadata": {
    "ExecuteTime": {
     "end_time": "2024-11-30T21:46:29.566832Z",
     "start_time": "2024-11-30T21:46:29.547683Z"
    }
   },
   "cell_type": "code",
   "source": [
    "with get_db_connection() as conn, conn.cursor() as cursor:\n",
    "    cursor.execute(\"SELECT * FROM vehicleservice ()\")\n",
    "    trams = cursor.fetchall()\n",
    "    \n",
    "trams"
   ],
   "id": "ed3b2a56543ad1d3",
   "outputs": [
    {
     "data": {
      "text/plain": [
       "[]"
      ]
     },
     "execution_count": 9,
     "metadata": {},
     "output_type": "execute_result"
    }
   ],
   "execution_count": 9
  },
  {
   "metadata": {
    "ExecuteTime": {
     "end_time": "2024-11-30T22:04:21.621890Z",
     "start_time": "2024-11-30T22:04:21.580156Z"
    }
   },
   "cell_type": "code",
   "source": [
    "# add test relation\n",
    "with get_db_connection() as conn, conn.cursor() as cursor:\n",
    "    cursor.execute(\"INSERT INTO vehicleservice (time, vehicleid, lineid, category, direction, status, latitude, longitude, bearing, type) VALUES ('2024-11-30 22:43:57+01:00', 10, 7, 1, 'test', 3, 12.3, 3.14, 50, 1)\")"
   ],
   "id": "7f2b861ce3fa0bdd",
   "outputs": [],
   "execution_count": 18
  },
  {
   "metadata": {},
   "cell_type": "markdown",
   "source": "### work with sqlalchemy",
   "id": "a61f3588285b8c51"
  },
  {
   "metadata": {
    "ExecuteTime": {
     "end_time": "2025-01-23T02:03:55.216111Z",
     "start_time": "2025-01-23T02:03:49.034911Z"
    }
   },
   "cell_type": "code",
   "source": [
    "from sqlalchemy import create_engine\n",
    "from heagVehicleLivedataUtils.apiUtils import get_current_vehicle_data_as_dataframe\n",
    "import pandas as pd\n",
    "\n",
    "# Database connection settings\n",
    "DB_SETTINGS = {\n",
    "    'dbname': 'mydatabase',\n",
    "    'user': 'user',\n",
    "    'password': 'password',\n",
    "    'host': 'localhost',  \n",
    "    'port': 5432\n",
    "}\n",
    "\n",
    "engine = create_engine('postgresql://{user}:{password}@{host}:{port}/{dbname}'.format(**DB_SETTINGS))\n",
    "\n",
    "# test connection\n",
    "with engine.connect() as conn:\n",
    "    print(pd.read_sql(\"SELECT * FROM vehicleservice\", conn))\n",
    "    #print(pd.read_sql(\"SELECT * FROM users\", conn))\n",
    "    "
   ],
   "id": "c55d97559f70df02",
   "outputs": [
    {
     "name": "stdout",
     "output_type": "stream",
     "text": [
      "        identifier                 timestamp  vehicleid   lineid  category  \\\n",
      "0                1 2025-01-14 17:16:43+00:00        622      693         5   \n",
      "1                2 2025-01-14 17:16:43+00:00         58        6         1   \n",
      "2                3 2025-01-14 17:16:43+00:00        658  5140328         5   \n",
      "3                4 2025-01-14 17:16:43+00:00        916  5729348         5   \n",
      "4                5 2025-01-14 17:16:43+00:00        909  5729346         5   \n",
      "...            ...                       ...        ...      ...       ...   \n",
      "714725      714726 2024-10-02 17:59:51+00:00        973  4684866         5   \n",
      "714726      714727 2024-10-02 17:59:51+00:00        435  5729345         5   \n",
      "714727      714728 2024-10-02 17:59:51+00:00        104        9         1   \n",
      "714728      714729 2024-10-02 17:59:51+00:00         16        9         1   \n",
      "714729      714730 2024-10-02 17:59:51+00:00        439    10075         5   \n",
      "\n",
      "                           direction  status   latitude  longitude  bearing  \\\n",
      "0             Fürth (Odenw.) Bahnhof       1  49.826037   8.831593      158   \n",
      "1             Eberstadt Frankenstein       1  49.920649   8.654409      178   \n",
      "2           Darmstadt Mathildenplatz       1  49.831382   8.833794      358   \n",
      "3             Groß-Gerau Kreisklinik       1  49.911943   8.495504      269   \n",
      "4       Worfelden Siedlung Hesselrod       1  49.925237   8.559000      304   \n",
      "...                              ...     ...        ...        ...      ...   \n",
      "714725               Dieburg Bahnhof       1  49.903328   8.840315       41   \n",
      "714726             Erzhausen Bahnhof       1  49.882188   8.644256      283   \n",
      "714727       Darmstadt Böllenfalltor       1  49.866291   8.603220       78   \n",
      "714728       Darmstadt Böllenfalltor       1  49.871818   8.643980       78   \n",
      "714729        Darmstadt Hauptbahnhof       4  49.878687   8.666652      270   \n",
      "\n",
      "        type plausible  \n",
      "0          1      None  \n",
      "1          1      None  \n",
      "2          1      None  \n",
      "3          1      None  \n",
      "4          1      None  \n",
      "...      ...       ...  \n",
      "714725     1      None  \n",
      "714726     1      None  \n",
      "714727     1      None  \n",
      "714728     1      None  \n",
      "714729     1      None  \n",
      "\n",
      "[714730 rows x 12 columns]\n"
     ]
    }
   ],
   "execution_count": 1
  },
  {
   "metadata": {
    "ExecuteTime": {
     "end_time": "2024-12-02T20:26:37.456712Z",
     "start_time": "2024-12-02T20:26:37.436626Z"
    }
   },
   "cell_type": "code",
   "source": [
    "# read contents of database\n",
    "with engine.connect() as conn:\n",
    "    print(pd.read_sql(\"SELECT * FROM vehicleservice\", conn))"
   ],
   "id": "aba7f3cdea5d74fb",
   "outputs": [
    {
     "name": "stdout",
     "output_type": "stream",
     "text": [
      "Empty DataFrame\n",
      "Columns: [identifier, time, vehicleid, lineid, category, direction, status, latitude, longitude, bearing, type]\n",
      "Index: []\n"
     ]
    }
   ],
   "execution_count": 68
  },
  {
   "metadata": {},
   "cell_type": "markdown",
   "source": "#### test dataframe .to_sql",
   "id": "d61d10f2af8123a1"
  },
  {
   "metadata": {
    "ExecuteTime": {
     "end_time": "2025-01-14T17:16:44.827197Z",
     "start_time": "2025-01-14T17:16:44.707171Z"
    }
   },
   "cell_type": "code",
   "source": [
    "from heagVehicleLivedataUtils.vehicleDataUtils.read import vehicledata_index_names\n",
    "\n",
    "df = get_current_vehicle_data_as_dataframe()\n",
    "df.to_sql(\"vehicleservice\",con=engine, if_exists='append', index_label=vehicledata_index_names)"
   ],
   "id": "2af909ba01f499c4",
   "outputs": [
    {
     "data": {
      "text/plain": [
       "158"
      ]
     },
     "execution_count": 14,
     "metadata": {},
     "output_type": "execute_result"
    }
   ],
   "execution_count": 14
  },
  {
   "metadata": {
    "ExecuteTime": {
     "end_time": "2025-01-14T17:16:47.944619Z",
     "start_time": "2025-01-14T17:16:47.900971Z"
    }
   },
   "cell_type": "code",
   "source": "df",
   "id": "84499c55aa63185b",
   "outputs": [
    {
     "data": {
      "text/plain": [
       "                                      lineid  category  \\\n",
       "timestamp                 vehicleid                      \n",
       "2025-01-14 18:16:43+01:00 622            693         5   \n",
       "                          58               6         1   \n",
       "                          658        5140328         5   \n",
       "                          916        5729348         5   \n",
       "                          909        5729346         5   \n",
       "...                                      ...       ...   \n",
       "                          85               5         1   \n",
       "                          292        4288610         5   \n",
       "                          380        5729345         5   \n",
       "                          61               9         1   \n",
       "                          81               9         1   \n",
       "\n",
       "                                                        direction  status  \\\n",
       "timestamp                 vehicleid                                         \n",
       "2025-01-14 18:16:43+01:00 622              Fürth (Odenw.) Bahnhof       1   \n",
       "                          58               Eberstadt Frankenstein       1   \n",
       "                          658            Darmstadt Mathildenplatz       1   \n",
       "                          916              Groß-Gerau Kreisklinik       1   \n",
       "                          909        Worfelden Siedlung Hesselrod       1   \n",
       "...                                                           ...     ...   \n",
       "                          85              Darmstadt Böllenfalltor       1   \n",
       "                          292            Ffm Flughafen Terminal 1       1   \n",
       "                          380                   Darmstadt Schloss       1   \n",
       "                          61              Darmstadt Böllenfalltor       1   \n",
       "                          81              Darmstadt Böllenfalltor       1   \n",
       "\n",
       "                                      latitude  longitude  bearing  type  \n",
       "timestamp                 vehicleid                                       \n",
       "2025-01-14 18:16:43+01:00 622        49.826037   8.831593      158     1  \n",
       "                          58         49.920649   8.654409      178     1  \n",
       "                          658        49.831382   8.833794      358     1  \n",
       "                          916        49.911943   8.495504      269     1  \n",
       "                          909        49.925237   8.559000      304     1  \n",
       "...                                        ...        ...      ...   ...  \n",
       "                          85         49.852471   8.670286      229     1  \n",
       "                          292        49.871559   8.632008      151     1  \n",
       "                          380        49.872980   8.652272       78     1  \n",
       "                          61         49.862152   8.573268       78     1  \n",
       "                          81         49.868504   8.662940      147     1  \n",
       "\n",
       "[158 rows x 8 columns]"
      ],
      "text/html": [
       "<div>\n",
       "<style scoped>\n",
       "    .dataframe tbody tr th:only-of-type {\n",
       "        vertical-align: middle;\n",
       "    }\n",
       "\n",
       "    .dataframe tbody tr th {\n",
       "        vertical-align: top;\n",
       "    }\n",
       "\n",
       "    .dataframe thead th {\n",
       "        text-align: right;\n",
       "    }\n",
       "</style>\n",
       "<table border=\"1\" class=\"dataframe\">\n",
       "  <thead>\n",
       "    <tr style=\"text-align: right;\">\n",
       "      <th></th>\n",
       "      <th></th>\n",
       "      <th>lineid</th>\n",
       "      <th>category</th>\n",
       "      <th>direction</th>\n",
       "      <th>status</th>\n",
       "      <th>latitude</th>\n",
       "      <th>longitude</th>\n",
       "      <th>bearing</th>\n",
       "      <th>type</th>\n",
       "    </tr>\n",
       "    <tr>\n",
       "      <th>timestamp</th>\n",
       "      <th>vehicleid</th>\n",
       "      <th></th>\n",
       "      <th></th>\n",
       "      <th></th>\n",
       "      <th></th>\n",
       "      <th></th>\n",
       "      <th></th>\n",
       "      <th></th>\n",
       "      <th></th>\n",
       "    </tr>\n",
       "  </thead>\n",
       "  <tbody>\n",
       "    <tr>\n",
       "      <th rowspan=\"11\" valign=\"top\">2025-01-14 18:16:43+01:00</th>\n",
       "      <th>622</th>\n",
       "      <td>693</td>\n",
       "      <td>5</td>\n",
       "      <td>Fürth (Odenw.) Bahnhof</td>\n",
       "      <td>1</td>\n",
       "      <td>49.826037</td>\n",
       "      <td>8.831593</td>\n",
       "      <td>158</td>\n",
       "      <td>1</td>\n",
       "    </tr>\n",
       "    <tr>\n",
       "      <th>58</th>\n",
       "      <td>6</td>\n",
       "      <td>1</td>\n",
       "      <td>Eberstadt Frankenstein</td>\n",
       "      <td>1</td>\n",
       "      <td>49.920649</td>\n",
       "      <td>8.654409</td>\n",
       "      <td>178</td>\n",
       "      <td>1</td>\n",
       "    </tr>\n",
       "    <tr>\n",
       "      <th>658</th>\n",
       "      <td>5140328</td>\n",
       "      <td>5</td>\n",
       "      <td>Darmstadt Mathildenplatz</td>\n",
       "      <td>1</td>\n",
       "      <td>49.831382</td>\n",
       "      <td>8.833794</td>\n",
       "      <td>358</td>\n",
       "      <td>1</td>\n",
       "    </tr>\n",
       "    <tr>\n",
       "      <th>916</th>\n",
       "      <td>5729348</td>\n",
       "      <td>5</td>\n",
       "      <td>Groß-Gerau Kreisklinik</td>\n",
       "      <td>1</td>\n",
       "      <td>49.911943</td>\n",
       "      <td>8.495504</td>\n",
       "      <td>269</td>\n",
       "      <td>1</td>\n",
       "    </tr>\n",
       "    <tr>\n",
       "      <th>909</th>\n",
       "      <td>5729346</td>\n",
       "      <td>5</td>\n",
       "      <td>Worfelden Siedlung Hesselrod</td>\n",
       "      <td>1</td>\n",
       "      <td>49.925237</td>\n",
       "      <td>8.559000</td>\n",
       "      <td>304</td>\n",
       "      <td>1</td>\n",
       "    </tr>\n",
       "    <tr>\n",
       "      <th>...</th>\n",
       "      <td>...</td>\n",
       "      <td>...</td>\n",
       "      <td>...</td>\n",
       "      <td>...</td>\n",
       "      <td>...</td>\n",
       "      <td>...</td>\n",
       "      <td>...</td>\n",
       "      <td>...</td>\n",
       "    </tr>\n",
       "    <tr>\n",
       "      <th>85</th>\n",
       "      <td>5</td>\n",
       "      <td>1</td>\n",
       "      <td>Darmstadt Böllenfalltor</td>\n",
       "      <td>1</td>\n",
       "      <td>49.852471</td>\n",
       "      <td>8.670286</td>\n",
       "      <td>229</td>\n",
       "      <td>1</td>\n",
       "    </tr>\n",
       "    <tr>\n",
       "      <th>292</th>\n",
       "      <td>4288610</td>\n",
       "      <td>5</td>\n",
       "      <td>Ffm Flughafen Terminal 1</td>\n",
       "      <td>1</td>\n",
       "      <td>49.871559</td>\n",
       "      <td>8.632008</td>\n",
       "      <td>151</td>\n",
       "      <td>1</td>\n",
       "    </tr>\n",
       "    <tr>\n",
       "      <th>380</th>\n",
       "      <td>5729345</td>\n",
       "      <td>5</td>\n",
       "      <td>Darmstadt Schloss</td>\n",
       "      <td>1</td>\n",
       "      <td>49.872980</td>\n",
       "      <td>8.652272</td>\n",
       "      <td>78</td>\n",
       "      <td>1</td>\n",
       "    </tr>\n",
       "    <tr>\n",
       "      <th>61</th>\n",
       "      <td>9</td>\n",
       "      <td>1</td>\n",
       "      <td>Darmstadt Böllenfalltor</td>\n",
       "      <td>1</td>\n",
       "      <td>49.862152</td>\n",
       "      <td>8.573268</td>\n",
       "      <td>78</td>\n",
       "      <td>1</td>\n",
       "    </tr>\n",
       "    <tr>\n",
       "      <th>81</th>\n",
       "      <td>9</td>\n",
       "      <td>1</td>\n",
       "      <td>Darmstadt Böllenfalltor</td>\n",
       "      <td>1</td>\n",
       "      <td>49.868504</td>\n",
       "      <td>8.662940</td>\n",
       "      <td>147</td>\n",
       "      <td>1</td>\n",
       "    </tr>\n",
       "  </tbody>\n",
       "</table>\n",
       "<p>158 rows × 8 columns</p>\n",
       "</div>"
      ]
     },
     "execution_count": 15,
     "metadata": {},
     "output_type": "execute_result"
    }
   ],
   "execution_count": 15
  },
  {
   "metadata": {},
   "cell_type": "markdown",
   "source": "das problem war die indxe als seperate spalte nochmal mitzugeben",
   "id": "186ae6749ccc05d1"
  },
  {
   "metadata": {
    "ExecuteTime": {
     "end_time": "2025-01-23T02:14:06.973786Z",
     "start_time": "2025-01-23T02:14:01.749006Z"
    }
   },
   "cell_type": "code",
   "source": [
    "with engine.connect() as conn:\n",
    "    df = pd.read_sql(\"SELECT * FROM vehicleservice\", conn)"
   ],
   "id": "81707bb0e96f6f73",
   "outputs": [],
   "execution_count": 13
  },
  {
   "metadata": {
    "ExecuteTime": {
     "end_time": "2025-01-23T02:15:35.122950Z",
     "start_time": "2025-01-23T02:15:35.109560Z"
    }
   },
   "cell_type": "code",
   "source": "df[-2:].to_json(orient='records')",
   "id": "d3bcae5f23720115",
   "outputs": [
    {
     "data": {
      "text/plain": [
       "'[{\"identifier\":714729,\"timestamp\":1727891991000,\"vehicleid\":16,\"lineid\":9,\"category\":1,\"direction\":\"Darmstadt B\\\\u00f6llenfalltor\",\"status\":1,\"latitude\":49.8718180556,\"longitude\":8.64398,\"bearing\":78,\"type\":1,\"plausible\":null},{\"identifier\":714730,\"timestamp\":1727891991000,\"vehicleid\":439,\"lineid\":10075,\"category\":5,\"direction\":\"Darmstadt Hauptbahnhof\",\"status\":4,\"latitude\":49.8786869444,\"longitude\":8.6666522222,\"bearing\":270,\"type\":1,\"plausible\":null}]'"
      ]
     },
     "execution_count": 20,
     "metadata": {},
     "output_type": "execute_result"
    }
   ],
   "execution_count": 20
  }
 ],
 "metadata": {
  "kernelspec": {
   "display_name": "Python 3",
   "language": "python",
   "name": "python3"
  },
  "language_info": {
   "codemirror_mode": {
    "name": "ipython",
    "version": 2
   },
   "file_extension": ".py",
   "mimetype": "text/x-python",
   "name": "python",
   "nbconvert_exporter": "python",
   "pygments_lexer": "ipython2",
   "version": "2.7.6"
  }
 },
 "nbformat": 4,
 "nbformat_minor": 5
}
