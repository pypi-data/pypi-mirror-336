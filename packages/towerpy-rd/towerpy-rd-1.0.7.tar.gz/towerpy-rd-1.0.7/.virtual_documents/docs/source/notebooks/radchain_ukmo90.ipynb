








import towerpy as tp

# %matplotlib notebook





rsite = 'chenies'
fdir = f'../../../datasets/{rsite}/y2020/spel8/'
fname = (f'metoffice-c-band-rain-radar_{rsite}_202010030726_raw-dual-polar-'
         + 'augzdr-sp-el8.dat')





rdata = tp.io.ukmo.Rad_scan(fdir+fname, rsite)
rdata.ppi_ukmoraw(exclude_vars=['W [m/s]', 'SQI [-]', 'CI [dB]'])
rdata.ppi_ukmogeoref()

tp.datavis.rad_display.plot_setppi(rdata.georef, rdata.params, rdata.vars)





rsnr = tp.eclass.snr.SNR_Classif(rdata)
rsnr.signalnoiseratio(rdata.georef, rdata.params, rdata.vars, min_snr=55,
                      data2correct=rdata.vars, plot_method=True)





rprofs = tp.profs.polprofs.PolarimetricProfiles(rdata)
rprofs.pol_vps(rdata.georef, rdata.params, rsnr.vars, stats=True)





tp.datavis.rad_display.plot_radprofiles(rprofs,
                                        rprofs.georef['profiles_height [km]'],
                                        colours=True)





rmlyr = tp.ml.mlyr.MeltingLayer(rprofs)
rmlyr.ml_detection(rprofs, min_h=1.1, comb_id=26, plot_method=True)


rmlyr.ml_top


rmlyr.ml_thickness


rmlyr.ml_bottom





rcalzdr = tp.calib.calib_zdr.ZDR_Calibration(rdata)
rcalzdr.offsetdetection_vps(pol_profs=rprofs, mlyr=rmlyr, min_h=1.1,
                            rad_georef=rdata.georef, rad_params=rdata.params,
                            rad_vars=rsnr.vars, plot_method=True)


rcalzdr.zdr_offset





rcalpdp = tp.calib.calib_phidp.PhiDP_Calibration(rdata)
rcalpdp.offsetdetection_vps(pol_profs=rprofs, mlyr=rmlyr, rad_vars=rsnr.vars,
                            rad_georef=rdata.georef, rad_params=rdata.params,
                            plot_method=True)



rcalpdp.phidp_offset



