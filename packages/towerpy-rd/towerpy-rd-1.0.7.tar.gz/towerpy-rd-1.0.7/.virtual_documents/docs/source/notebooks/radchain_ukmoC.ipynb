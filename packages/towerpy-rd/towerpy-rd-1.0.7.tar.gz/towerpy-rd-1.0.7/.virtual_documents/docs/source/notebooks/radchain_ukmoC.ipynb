








import numpy as np
import towerpy as tp
import cartopy.crs as ccrs

# %matplotlib notebook





rsite = 'chenies'
fdir = f'../../../datasets/{rsite}/y2020/lpel0/'
fname = (f'metoffice-c-band-rain-radar_{rsite}_202010032115_raw-dual-polar-'
         + 'augzdr-lp-el0.dat')





rdata = tp.io.ukmo.Rad_scan(fdir+fname, rsite)
rdata.ppi_ukmoraw(exclude_vars=['W [m/s]', 'SQI [-]', 'CI [dB]'])
rdata.ppi_ukmogeoref()

# Plot all the radar variables
tp.datavis.rad_display.plot_setppi(rdata.georef, rdata.params, rdata.vars)





rsnr = tp.eclass.snr.SNR_Classif(rdata)
rsnr.signalnoiseratio(rdata.georef, rdata.params, rdata.vars, min_snr=35,
                      data2correct=rdata.vars, plot_method=True)





tp.datavis.rad_display.plot_mfs(f'../../../towerpy/eclass/mfs_cband/')





clmap = f'../../../towerpy/eclass/ukmo_cmaps/{rsite}/chenies_cluttermap_el0.dat'

rnme = tp.eclass.nme.NME_ID(rsnr)
rnme.clutter_id(rdata.georef, rdata.params, rdata.vars, binary_class=223,
                min_snr=rsnr.min_snr, clmap=np.loadtxt(clmap),
                data2correct=rdata.vars, plot_method=True)





rmlyr = tp.ml.mlyr.MeltingLayer(rdata)
rmlyr.ml_top = 1.9
rmlyr.ml_thickness = 0.85
rmlyr.ml_bottom = rmlyr.ml_top - rmlyr.ml_thickness

# Plot rhoHV and the ML
tp.datavis.rad_display.plot_ppi(rdata.georef, rdata.params, rnme.vars, var2plot='rhoHV [-]', mlyr=rmlyr)





rczdr = tp.calib.calib_zdr.ZDR_Calibration(rdata)
rczdr.offset_correction(rnme.vars['ZDR [dB]'],
                        zdr_offset=-0.28,
                        data2correct=rnme.vars)





rattc = tp.attc.attc_zhzdr.AttenuationCorrection(rdata)
rattc.zh_correction(rdata.georef, rdata.params, rczdr.vars,
                    rnme.nme_classif['classif'], attc_method='ABRI',
                    mlyr=rmlyr, pdp_pxavr_azm=3, pdp_dmin=1,
                    pdp_pxavr_rng=round(4000/rdata.params['gateres [m]']),
                    plot_method=True)


rattc.zdr_correction(rdata.georef, rdata.params, rczdr.vars, rattc.vars,
                     rnme.nme_classif['classif'], mlyr=rmlyr, rhv_thld=0.985,
                     minbins=9, mov_avrgf_len=5, p2avrf=3,
                     plot_method=True)





tp.datavis.rad_display.plot_ppi(rdata.georef, rdata.params, rattc.vars,
                                 var2plot='KDP [deg/km]',
                                 vars_bounds={'KDP [deg/km]': (-1, 3, 17)})





rqpe = tp.qpe.qpe_algs.RadarQPE(rdata)

rqpe.z_to_r(rattc.vars['ZH [dBZ]'], a=200, b=1.6, mlyr=rmlyr,
            beam_height=rdata.georef['beam_height [km]'])
rqpe.ah_to_r(rattc.vars['AH [dB/km]'], mlyr=rmlyr,
             beam_height=rdata.georef['beam_height [km]'])
rqpe.z_zdr_to_r(rattc.vars['ZH [dBZ]'], rattc.vars['ZDR [dB]'], mlyr=rmlyr,
                beam_height=rdata.georef['beam_height [km]'])
rqpe.kdp_zdr_to_r(rattc.vars['KDP [deg/km]'], rattc.vars['ZDR [dB]'], mlyr=rmlyr,
                  beam_height=rdata.georef['beam_height [km]'])


help(rqpe.ah_to_r)





# Plot the radar data in a map
tp.datavis.rad_display.plot_ppi(rdata.georef, rdata.params, rqpe.r_kdp_zdr,
                                data_proj=ccrs.OSGB(approx=False),
                                cpy_feats={'status': True}, fig_size = (12, 6))





# Plot cone coverage
tp.datavis.rad_display.plot_cone_coverage(rdata.georef, rdata.params,
                                          rsnr.vars)





# Plot an interactive PPI explorer
tp.datavis.rad_interactive.ppi_base(rdata.georef, rdata.params, rattc.vars)
ppiexplorer = tp.datavis.rad_interactive.PPI_Int()
# %%
# ppiexplorer.savearray2binfile(file_name=fname, dir2save='/fdir2/')


ppiexplorer.clickcoords



