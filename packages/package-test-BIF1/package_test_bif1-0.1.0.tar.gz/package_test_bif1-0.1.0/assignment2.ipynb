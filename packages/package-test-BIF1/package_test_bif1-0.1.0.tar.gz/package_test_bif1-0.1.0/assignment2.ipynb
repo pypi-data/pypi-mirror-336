{
 "cells": [
  {
   "cell_type": "markdown",
   "metadata": {},
   "source": [
    "### ASSIGNMENT 2: Packaging a Python project for Bioconda using Grayskull"
   ]
  },
  {
   "cell_type": "markdown",
   "metadata": {},
   "source": [
    "In this second assignment we will work on automatically generating a conda recipe from a PyPI package, using Grayskull.\n",
    "To publish a Bioconda package is neccessary to set a GitHub repository and a conda recipe, the latter outlines the steps needed to build a package from source code."
   ]
  },
  {
   "cell_type": "markdown",
   "metadata": {},
   "source": []
  },
  {
   "cell_type": "markdown",
   "metadata": {},
   "source": [
    "Objective\n",
    "By the end of this exercise, participants will:\n",
    "✔️ Use Grayskull to generate a Bioconda recipe.\n",
    "✔️ Modify the meta.yaml file to meet Bioconda standards.\n",
    "✔️ Build and test the package locally.\n",
    "✔️ Prepare for submission to Bioconda."
   ]
  },
  {
   "cell_type": "markdown",
   "metadata": {},
   "source": [
    "### Step 1\n",
    "\n",
    "We will use an existing Python project from GitHub, ideally the repository and the pypi package was set up on the first assignment of the workshop, if successfully completed."
   ]
  },
  {
   "cell_type": "markdown",
   "metadata": {},
   "source": [
    "### Step 2\n",
    "Install [Grayskull](https://github.com/conda/grayskull)\n"
   ]
  },
  {
   "cell_type": "code",
   "execution_count": null,
   "metadata": {
    "vscode": {
     "languageId": "bat"
    }
   },
   "outputs": [],
   "source": [
    "pip install grayskull"
   ]
  },
  {
   "cell_type": "markdown",
   "metadata": {},
   "source": [
    "### Step 2.1\n",
    "\n",
    "When building a Bioconda package, conda-build reads the metadata or the conda recipe and creates a conda package containing all the files in the build environment and the specified build dependencies. If recipe includes tests it also tests the new conda package. "
   ]
  },
  {
   "cell_type": "code",
   "execution_count": null,
   "metadata": {
    "vscode": {
     "languageId": "bat"
    }
   },
   "outputs": [],
   "source": [
    "conda install -y conda-build"
   ]
  },
  {
   "cell_type": "markdown",
   "metadata": {},
   "source": [
    "### Step 3\n",
    "\n",
    "Run Gray skull to automatically generate a conda recipe from a python package."
   ]
  },
  {
   "cell_type": "code",
   "execution_count": null,
   "metadata": {
    "vscode": {
     "languageId": "bat"
    }
   },
   "outputs": [],
   "source": [
    "grayskull pypi new_project"
   ]
  },
  {
   "cell_type": "markdown",
   "metadata": {},
   "source": [
    "This command will create a new folder called 'new_project'. Inside, you will find the meta.yaml file, containing the metadata neccessary to create a conda package."
   ]
  },
  {
   "cell_type": "code",
   "execution_count": null,
   "metadata": {
    "vscode": {
     "languageId": "bat"
    }
   },
   "outputs": [],
   "source": [
    "new_project/\n",
    "├── meta.yaml #Main recipe file, contains the build, test information\n",
    "├── build.sh #Build script, not always needed for python\n",
    "├──bld.bat # Windows build script (no needed for Bioconda)"
   ]
  },
  {
   "cell_type": "markdown",
   "metadata": {},
   "source": [
    "### Step 4\n",
    "\n",
    "After automatically generating the conda recipe you can edit the meta.yaml file. If you did not use Grayskull, you will need to manually write the script. \n",
    "\n",
    "An example file can look like this:"
   ]
  },
  {
   "cell_type": "code",
   "execution_count": null,
   "metadata": {
    "vscode": {
     "languageId": "bat"
    }
   },
   "outputs": [],
   "source": [
    "package:\n",
    "  name: package_publishing_example\n",
    "  version: \"0.1\"\n",
    "\n",
    "source:\n",
    "  url: https://github.com/username/new_package/...\n",
    "\n",
    "build:\n",
    "  script: \n",
    "\n",
    "requirements:\n",
    "  host:\n",
    "    - python >=3.7\n",
    "    - pip\n",
    "  run:\n",
    "    - python >=3.7\n",
    "    - numpy\n",
    "\n",
    "test:\n",
    "\n",
    "about:\n",
    "  home: \n",
    "  summary: \"An example Python package for Bioconda packaging\"\n",
    "  license: MIT\n",
    "  license_file: LICENSE"
   ]
  },
  {
   "cell_type": "code",
   "execution_count": null,
   "metadata": {
    "vscode": {
     "languageId": "bat"
    }
   },
   "outputs": [],
   "source": []
  },
  {
   "cell_type": "markdown",
   "metadata": {},
   "source": [
    "### Step 5\n",
    "\n",
    "We will now build the package locally, for this we will use conda build, , run this command from the root folder (of your username).\n"
   ]
  },
  {
   "cell_type": "code",
   "execution_count": null,
   "metadata": {
    "vscode": {
     "languageId": "bat"
    }
   },
   "outputs": [],
   "source": [
    "conda build new_project"
   ]
  },
  {
   "cell_type": "markdown",
   "metadata": {},
   "source": [
    "If build was successful, Conda will generate a package file in the conda-bld directory. To locate this file, you can use this command from the terminal:"
   ]
  },
  {
   "cell_type": "code",
   "execution_count": null,
   "metadata": {
    "vscode": {
     "languageId": "bat"
    }
   },
   "outputs": [],
   "source": [
    "conda build new_project --output"
   ]
  },
  {
   "cell_type": "markdown",
   "metadata": {},
   "source": [
    "????"
   ]
  },
  {
   "cell_type": "markdown",
   "metadata": {},
   "source": [
    "### Step 6\n",
    "\n",
    "Once the package has been built, you can test it. Create a conda environmet and install your built package."
   ]
  },
  {
   "cell_type": "code",
   "execution_count": null,
   "metadata": {
    "vscode": {
     "languageId": "bat"
    }
   },
   "outputs": [],
   "source": [
    "conda create -n test_environment\n",
    "conda activate test_env\n",
    "conda install --use-local new_project\n",
    "conda activate test_environment\n",
    "new_project --help"
   ]
  },
  {
   "cell_type": "markdown",
   "metadata": {},
   "source": [
    "If it was successfully built and tested, the package is ready for submission to Bioconda. Importantly, the packages that are published in Bioconda are strictly reviewed before is accepted."
   ]
  },
  {
   "cell_type": "markdown",
   "metadata": {},
   "source": [
    "### Step 7 (Do not run it in this workshop)\n",
    "\n",
    "Finally, once you have build a conda package ideally you will submit a request to pubish your package. This step cannot be performed for the example python package created in this workshop, however is still explained with the purpose of showing the publishing process.\n",
    "\n",
    "To upload your package to [Anaconda](https://anaconda.org/):"
   ]
  },
  {
   "cell_type": "code",
   "execution_count": null,
   "metadata": {
    "vscode": {
     "languageId": "bat"
    }
   },
   "outputs": [],
   "source": [
    "anaconda upload /path/to/my_package-1.0-0.tar.bz2"
   ]
  },
  {
   "cell_type": "markdown",
   "metadata": {},
   "source": [
    "Using Grayskull and conda-build to create and manage a pypi package simplifies and automatizes the process of distribution and installation. "
   ]
  }
 ],
 "metadata": {
  "kernelspec": {
   "display_name": "Python 3",
   "language": "python",
   "name": "python3"
  },
  "language_info": {
   "name": "python",
   "version": "3.12.9"
  }
 },
 "nbformat": 4,
 "nbformat_minor": 2
}
