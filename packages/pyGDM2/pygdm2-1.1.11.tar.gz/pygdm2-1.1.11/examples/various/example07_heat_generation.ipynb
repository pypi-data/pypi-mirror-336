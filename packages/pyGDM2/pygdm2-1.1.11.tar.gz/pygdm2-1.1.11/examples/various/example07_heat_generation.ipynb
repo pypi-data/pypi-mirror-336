{
 "cells": [
  {
   "cell_type": "markdown",
   "metadata": {},
   "source": [
    "Heat generation\n",
    "==================\n",
    "*01/2021: updated to pyGDM v1.1+*\n",
    "\n",
    "In this example, light induced heat generation inside a planar plasmonic nano-structure will be demonstrated, reproducing results of Baffou *et al.* [1].\n",
    "\n",
    "[1] Baffou, G. *Heat generation in plasmonic nanostructures: Influence of morphology*. **Applied Physics Letters** 94, 153109 (2009) (https://doi.org/10.1063/1.3116645)\n",
    "\n",
    "Setup the simulation\n",
    "------------------------"
   ]
  },
  {
   "cell_type": "code",
   "execution_count": 1,
   "metadata": {},
   "outputs": [
    {
     "name": "stdout",
     "output_type": "stream",
     "text": [
      "structure initialization - automatic mesh detection: hex\n",
      "structure initialization - consistency check: 380/380 dipoles valid\n"
     ]
    }
   ],
   "source": [
    "## --- load the modules\n",
    "from pyGDM2 import structures\n",
    "from pyGDM2 import materials\n",
    "from pyGDM2 import fields\n",
    "\n",
    "from pyGDM2 import core\n",
    "from pyGDM2 import propagators\n",
    "from pyGDM2 import linear\n",
    "from pyGDM2 import visu\n",
    "from pyGDM2 import tools\n",
    "\n",
    "import numpy as np\n",
    "import matplotlib.pyplot as plt\n",
    "\n",
    "\n",
    "## --- Setup structure (prism h=12nm, side=120nm in water on glass substrate)\n",
    "step = 6.0\n",
    "geometry = structures.prism(step, NSIDE=int(120/step), H=12/step, mesh='hex')\n",
    "geometry = structures.center_struct(geometry)\n",
    "material = materials.gold()\n",
    "struct = structures.struct(step, geometry, material)\n",
    "\n",
    "\n",
    "## --- Setup incident field\n",
    "field_generator = fields.plane_wave  # planwave excitation\n",
    "kwargs = dict(theta=0.0)             # X-polarized, top-incidence\n",
    "wavelengths = np.linspace(500, 1000, 51)\n",
    "efield = fields.efield(field_generator, wavelengths=wavelengths, kwargs=kwargs)\n",
    "\n",
    "\n",
    "## --- Setup environment (water with glass substrate)\n",
    "n1, n2 = 1.45, 1.33          # water on glass\n",
    "dyads = propagators.DyadsQuasistatic123(n1=n1, n2=n2)\n",
    "\n",
    "\n",
    "## --- Simulation initialization\n",
    "sim = core.simulation(struct, efield, dyads)"
   ]
  },
  {
   "cell_type": "markdown",
   "metadata": {},
   "source": [
    "Heat spectrum and -distribution inside structure\n",
    "---------------------------------------------\n",
    "\n",
    "After the main simulation routine (*core.scatter*), we calculate the spectrum of the total deposited heat as well as the heat-distribution inside the nano-structure at the plasmon resonance ($\\lambda_{p} \\approx 820\\,$nm)."
   ]
  },
  {
   "cell_type": "code",
   "execution_count": 2,
   "metadata": {},
   "outputs": [
    {
     "name": "stderr",
     "output_type": "stream",
     "text": [
      "/home/hans/.local/lib/python3.8/site-packages/numba/core/dispatcher.py:237: UserWarning: Numba extension module 'numba_scipy' failed to load due to 'ValueError(No function '__pyx_fuse_0pdtr' found in __pyx_capi__ of 'scipy.special.cython_special')'.\n",
      "  entrypoints.init_all()\n",
      "/home/hans/.local/lib/python3.8/site-packages/pyGDM2/linear.py:1320: UserWarning: `linear_py.heat` does not support tensorial permittivity yet.\n",
      "  warnings.warn(\"`linear_py.heat` does not support tensorial permittivity yet.\")\n"
     ]
    }
   ],
   "source": [
    "## --- main simulation\n",
    "sim.scatter(verbose=False)\n",
    "\n",
    "\n",
    "## --- heat spectrum\n",
    "wl, heat_spectrum = tools.calculate_spectrum(sim, 0, linear.heat)\n",
    "\n",
    "## --- heat distribution in struct at plasmon resonance\n",
    "idx_struct = tools.get_closest_field_index(sim, dict(wavelength=820))\n",
    "q = linear.heat(sim, idx_struct, return_value='structure')\n",
    "\n",
    "## --- divide heat-distribution by cell volume --> nW/nm^3\n",
    "q.T[3] /= (sim.struct.step**3/sim.struct.normalization)"
   ]
  },
  {
   "cell_type": "markdown",
   "metadata": {},
   "source": [
    "Plot\n",
    "----------\n",
    "\n",
    "Let's plot the spectrum and the heat distribution inside the structure:"
   ]
  },
  {
   "cell_type": "code",
   "execution_count": 3,
   "metadata": {},
   "outputs": [
    {
     "name": "stderr",
     "output_type": "stream",
     "text": [
      "/home/hans/.local/lib/python3.8/site-packages/pyGDM2/visu.py:49: UserWarning: 3D data. Falling back to XY projection...\n",
      "  warnings.warn(\"3D data. Falling back to XY projection...\")\n"
     ]
    },
    {
     "data": {
      "image/png": "[encoded data removed]",
      "text/plain": [
       "<Figure size 576x288 with 3 Axes>"
      ]
     },
     "metadata": {
      "needs_background": "light"
     },
     "output_type": "display_data"
    }
   ],
   "source": [
    "plt.figure( figsize=(8,4) )\n",
    "plt.subplot2grid( (1,4), (0,0), colspan=3)\n",
    "\n",
    "## --- spectrum\n",
    "plt.plot(wl, heat_spectrum/1.0E3, color='r')\n",
    "plt.xlabel(\"wavelength (nm)\")\n",
    "plt.ylabel(\"Q (microwatt)\", color='r')\n",
    "\n",
    "\n",
    "## --- heat distribution inside prism\n",
    "plt.subplot(144, aspect='equal')\n",
    "plt.title(\"lambda={}nm\".format(wl[idx_struct]))\n",
    "im = visu.scalarfield(q, cmap='hot', show=0, zorder=1)\n",
    "plt.colorbar(im, label='heat (nW/nm^3)', orientation='horizontal', \n",
    "                                         ticks=[0,0.5,1,1.5,2])\n",
    "im.set_clim([0, 2])\n",
    "\n",
    "visu.structure_contour(sim, lw=2, color='k', dashes=[2,2],\n",
    "                       input_mesh='hex1', zorder=0, borders=10, show=0)\n",
    "\n",
    "\n",
    "plt.show()"
   ]
  },
  {
   "cell_type": "markdown",
   "metadata": {},
   "source": [
    "This is in pretty good agreement with [1] (see above for reference)."
   ]
  }
 ],
 "metadata": {
  "kernelspec": {
   "display_name": "Python 3",
   "language": "python",
   "name": "python3"
  },
  "language_info": {
   "codemirror_mode": {
    "name": "ipython",
    "version": 3
   },
   "file_extension": ".py",
   "mimetype": "text/x-python",
   "name": "python",
   "nbconvert_exporter": "python",
   "pygments_lexer": "ipython3",
   "version": "3.8.5"
  }
 },
 "nbformat": 4,
 "nbformat_minor": 2
}
