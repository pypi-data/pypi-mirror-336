{
 "cells": [
  {
   "cell_type": "markdown",
   "metadata": {},
   "source": [
    "# Tutorial: Own Problems and Models for Evolutionary Optimization\n",
    "*01/2021: updated to pyGDM v1.1+*\n",
    "\n",
    "This tutorial demonstrates how to define own geometry models and optimization problems using the **EO** module of pyGDM. The evolutionary optimization module interfaces <a href=\"https://esa.github.io/pygmo2/\" title=\"pagmo/pygmo\">pagmo/pygmo</a>, which needs to be installed (available via pip). \n",
    "\n",
    " - We will create a very simple model with only two free parameters: A cuboidal antenna of fixed height. The free parameters shall be the width and length of the rectangular cross-section.\n",
    "\n",
    " - The problem we'll implement below will be the maximization of the scattering cross-section.\n",
    " \n",
    "\n",
    "We start by loading the modules we'll use"
   ]
  },
  {
   "cell_type": "code",
   "execution_count": 1,
   "metadata": {},
   "outputs": [],
   "source": [
    "import numpy as np\n",
    "\n",
    "from pyGDM2 import structures\n",
    "from pyGDM2 import materials\n",
    "from pyGDM2 import fields\n",
    "\n",
    "from pyGDM2 import core\n",
    "from pyGDM2 import propagators\n",
    "from pyGDM2 import linear\n",
    "from pyGDM2 import tools\n",
    "from pyGDM2 import visu\n",
    "\n",
    "## --- the main EO routine\n",
    "from pyGDM2.EO.core import run_eo"
   ]
  },
  {
   "cell_type": "markdown",
   "metadata": {},
   "source": [
    "## Implementing a Geometry Model\n",
    "\n",
    "We will implement a very simple model based on the `rect_wire` geometry in the `structures` module. The free parameters will be length and width of the rod, the height shall be fixed.\n"
   ]
  },
  {
   "cell_type": "code",
   "execution_count": 2,
   "metadata": {},
   "outputs": [],
   "source": [
    "from pyGDM2.EO.models import BaseModel\n",
    "\n",
    "class ownModel(BaseModel):\n",
    "    \"\"\"optimization-model for a rectangular antenna\n",
    "    \n",
    "    Notes\n",
    "    -----\n",
    "    The purpose of this model is only for demonstration. A problem with only \n",
    "    two free parameters can more easily be solved by systematic analysis of \n",
    "    all possible permutations (brute-force)\n",
    "    \n",
    "    A user-defined model must at least implement the following three \n",
    "    methods:\n",
    "    \n",
    "     - `__init__(self, sim, **kwargs)` (constructor)\n",
    "     \n",
    "     - `get_bounds(self)` (optimization parameter box-boundaries)\n",
    "     \n",
    "     - `generate_structure(self, params)` (geometry generator)\n",
    "    \"\"\"\n",
    "    \n",
    "    def __init__(self, sim, limits_W, limits_L, height):\n",
    "        \"\"\"\n",
    "        Mandatory actions in the constructor are:\n",
    "        \n",
    "         - the constructor of the parent class \"BaseModel\" must be called \n",
    "           with the `simulation` object defining the pyGDM simulation part\n",
    "           \n",
    "         - call `self.random_structure()`, which is defined in \"BaseModel\"\n",
    "        \"\"\"\n",
    "        ## --- call BaseModel constructor, pass at least the \"simulation\" instance\n",
    "        super(self.__class__, self).__init__(sim)\n",
    "        \n",
    "        ## --- width and length limits for rectrangular antenna\n",
    "        self.limits_W = limits_W\n",
    "        self.limits_L = limits_L\n",
    "        \n",
    "        ## --- fixed parameters\n",
    "        self.height = height    # height of rectangular antenna\n",
    "        \n",
    "        ## --- init with random values. `random_structure` is defined in `BaseModel`\n",
    "        self.random_structure()\n",
    "    \n",
    "    \n",
    "    def get_bounds(self):\n",
    "        \"\"\"Return lower and upper boundaries for parameters\n",
    "        \n",
    "        Both of the lower/upper boundary lists must contain a value\n",
    "        for each free parameter. In our case (2 free parameters), thus \n",
    "        the two lists contain 2 elements each: The box-boundaries for \n",
    "        the width and length of the rectangle.\n",
    "        \"\"\"\n",
    "        self.lbnds = [self.limits_W[0], self.limits_L[0]]\n",
    "        self.ubnds = [self.limits_W[1], self.limits_L[1]]\n",
    "        \n",
    "        return self.lbnds, self.ubnds\n",
    "    \n",
    "    \n",
    "    def generate_structure(self, params):\n",
    "        \"\"\"generate the structure\n",
    "        \n",
    "        This method implements the actual structure generation as \n",
    "        function of the free parameters, passed as numpy array `params`.\n",
    "        \n",
    "        The geometry is generated as a list of mesh-point positions \n",
    "        (list/array of 3D-coordinate tuples (x,y,z)).\n",
    "        The structure must be internally set using `self.set_structure()`,\n",
    "        the latter being defined in `BaseModel`.\n",
    "        \"\"\"\n",
    "        ## --- the order of `params` must correspond to \n",
    "        ##     the boundary order, used in `get_bounds`\n",
    "        W, L = params[0], params[1]\n",
    "        \n",
    "        ## --- generate the structure geometry: rectangular nano-rod\n",
    "        from pyGDM2 import structures\n",
    "        geometry = structures.rect_wire(self.sim.struct.step, L, self.height, W)\n",
    "        \n",
    "        ## --- mandatory call: set new structure-geometry \n",
    "        ##     (`set_structure` is a `BaseModel` method)\n",
    "        self.set_structure(geometry)"
   ]
  },
  {
   "cell_type": "markdown",
   "metadata": {},
   "source": [
    "## Implementing an Optimization Problem\n",
    "\n",
    "We will also implement a simple problem for optimization. \n",
    "We want to find a structure geometry (in this demonstration: The optimum dimensions of the rectangular rod), **maximizing the scattering cross-section** under plane wave illumination for a specific wavelength and polarization.\n",
    "You will see below, that this is very simple. The problem of maximizing the scattering cross-section is defined by only **8 lines of actual code**.\n",
    "\n",
    "***Note:*** pyGDM assumes that the **objective function is to be *maximized***. The <a href=\"https://esa.github.io/pagmo2/\" title=\"pygmo\">pygmo</a> package assumes *minimization*, thus internally the objective function will be multiplied by *-1* to effectively render the maximization to a minimization task. If you want to implement a minimization, you might apply the same trick: use the negative of the target value(s) as objective function.\n"
   ]
  },
  {
   "cell_type": "code",
   "execution_count": 3,
   "metadata": {},
   "outputs": [],
   "source": [
    "from pyGDM2.EO.problems import BaseProblem\n",
    "\n",
    "class ownProblem(BaseProblem):\n",
    "    \"\"\"Problem to maximize scattering cross-section (SCS) of nano-structure\n",
    "    \n",
    "    Notes\n",
    "    -----\n",
    "    A user-defined problem must at least implement the following methods:\n",
    "    \n",
    "     - `__init__(self, model, **kwargs)` (constructor)\n",
    "     \n",
    "     - `objective_function(self, params)` (optimization target)\n",
    "    \"\"\"\n",
    "    \n",
    "    def __init__(self, model):\n",
    "        \"\"\"\n",
    "        In the Problem constructor, the constructor of the parent \n",
    "        class \"BaseProblem\" must be called, passing the `model` object.\n",
    "        \"\"\"\n",
    "        super(self.__class__, self).__init__(model)\n",
    "    \n",
    "    \n",
    "    def objective_function(self, params):\n",
    "        \"\"\"calculate the scattering cross-section\n",
    "        \n",
    "        This method implements the actual optimization problem by\n",
    "        calculating the objective function, also often called \"fitness\".\n",
    "        The objective function returns the optimization target as\n",
    "        function of the parameter-set `params`.\n",
    "        \n",
    "        The fitness will usually be calculated as follows:\n",
    "        \n",
    "        - (1) the structure generator is called with the parameter-\n",
    "              vector `params` (which is provided by the \n",
    "              optimization algorithm)\n",
    "        \n",
    "        - (2) a pyGDM simulation is performed using the model-geometry\n",
    "              defined by the parameters `params`\n",
    "              \n",
    "        - (3) the pyGDM results are evaluated and the result returned.\n",
    "              Below, we calculate the scattering cross-section of the\n",
    "              considered particle.\n",
    "        \n",
    "        \"\"\"\n",
    "        ## --- generate structure definded by `params`\n",
    "        self.model.generate_structure(params)\n",
    "        \n",
    "        ## --- GDM sim. / cross-section calculation (field_index=0)\n",
    "        core.scatter(self.model.sim, verbose=False)\n",
    "        ext_cs, sca_cs, abs_cs = linear.extinct(self.model.sim, 0)\n",
    "        \n",
    "        return float(sca_cs)"
   ]
  },
  {
   "cell_type": "markdown",
   "metadata": {},
   "source": [
    "## Running the Optimization\n",
    "\n",
    "Now, let's test our user-defined model and problem. \n",
    "Let's search for the rectangular antenna geometry that optimally scatters light of $1\\,\\mu$m wavelength.\n",
    "\n",
    "### Setup the pyGDM-Simulation\n",
    "\n",
    "\n",
    "We setup a pyGDM simulation just as usual, with the only difference, that the geometry is left blank, since this will be varied and determined during the optimization by the model-class, we defined above."
   ]
  },
  {
   "cell_type": "code",
   "execution_count": 4,
   "metadata": {},
   "outputs": [
    {
     "name": "stdout",
     "output_type": "stream",
     "text": [
      "structure initialization - consistency check: 0/0 dipoles valid\n"
     ]
    },
    {
     "name": "stderr",
     "output_type": "stream",
     "text": [
      "/home/hans/.local/lib/python3.8/site-packages/pyGDM2/structures.py:183: UserWarning: Emtpy structure geometry.\n",
      "  warnings.warn(\"Emtpy structure geometry.\")\n"
     ]
    }
   ],
   "source": [
    "## --- Setup structure\n",
    "mesh = 'cube'\n",
    "step = 20\n",
    "material = materials.gold()  # particle material\n",
    "\n",
    "## Empty dummy-geometry, will be replaced on run-time by EO-model\n",
    "geometry = []       \n",
    "struct = structures.struct(step, geometry, material)\n",
    "\n",
    "\n",
    "## --- Setup incident field\n",
    "field_generator = fields.planewave        # planwave excitation\n",
    "kwargs = dict(theta = [0.0])              # single (linear) polarization\n",
    "wavelengths = [1000]                      # single wavelength\n",
    "efield = fields.efield(field_generator, wavelengths=wavelengths, kwargs=kwargs)\n",
    "\n",
    "\n",
    "## --- environment\n",
    "n1, n2 = 1.0, 1.0            # in vacuum\n",
    "dyads = propagators.DyadsQuasistatic123(n1=n1, n2=n2)\n",
    "\n",
    "\n",
    "## --- Simulation initialization\n",
    "sim = core.simulation(struct, efield, dyads)"
   ]
  },
  {
   "cell_type": "markdown",
   "metadata": {},
   "source": [
    "### Setup the Evolutionary Optimization\n",
    "\n",
    "After having defined the simulation conditions, we need to setup the particle geometry, the target problem and evolutionary optimization algorithm.\n",
    "\n",
    "- The geometry will be provided by our model class `ownModel`\n",
    "- The problem is defined in our class `ownProblem`\n",
    "- The evolutionary optimization algorithm needs to be one of the <a href=\"https://esa.github.io/pygmo2/\" title=\"pygmo\">pygmo</a> package\n"
   ]
  },
  {
   "cell_type": "code",
   "execution_count": 5,
   "metadata": {},
   "outputs": [
    {
     "name": "stdout",
     "output_type": "stream",
     "text": [
      "\n",
      "----------------------------------------------\n",
      " Starting new optimization\n",
      "----------------------------------------------\n",
      "\n",
      "\n"
     ]
    },
    {
     "name": "stderr",
     "output_type": "stream",
     "text": [
      "/home/hans/.local/lib/python3.8/site-packages/pyGDM2/tools.py:835: UserWarning: Mesh not detected, falling back to 'cubic'.\n",
      "  warnings.warn(\"Mesh not detected, falling back to 'cubic'.\")\n",
      "/home/hans/.local/lib/python3.8/site-packages/numba/core/dispatcher.py:237: UserWarning: Numba extension module 'numba_scipy' failed to load due to 'ValueError(No function '__pyx_fuse_0pdtr' found in __pyx_capi__ of 'scipy.special.cython_special')'.\n",
      "  entrypoints.init_all()\n",
      "/home/hans/.local/lib/python3.8/site-packages/pyGDM2/tools.py:835: UserWarning: Mesh not detected, falling back to 'cubic'.\n",
      "  warnings.warn(\"Mesh not detected, falling back to 'cubic'.\")\n"
     ]
    },
    {
     "name": "stdout",
     "output_type": "stream",
     "text": [
      "iter #  1, time:    3.4s, progress #  1, f_evals: 30\n",
      "        - champion fitness: [-305220.0]\n",
      "\n",
      "iter #  2, time:    7.2s, progress #  2, f_evals: 45\n",
      "        - champion fitness: [-481860.0]\n",
      "\n",
      "iter #  3, time:   10.9s, progress #  2, f_evals: 60(non-success: 1)\n",
      "iter #  4, time:   14.7s, progress #  2, f_evals: 75(non-success: 2)\n",
      "iter #  5, time:   18.4s, progress #  2, f_evals: 90(non-success: 3)\n",
      "iter #  6, time:   22.2s, progress #  2, f_evals: 105(non-success: 4)\n",
      "iter #  7, time:   25.8s, progress #  2, f_evals: 120(non-success: 5)\n",
      "\n",
      " -------- maximum non-successful iterations reached\n"
     ]
    }
   ],
   "source": [
    "# =============================================================================\n",
    "# structure model\n",
    "# =============================================================================\n",
    "model   = ownModel(sim, limits_W=[2,20], limits_L=[2,20], height=1)\n",
    "\n",
    "\n",
    "# =============================================================================\n",
    "# optimization problem\n",
    "# =============================================================================\n",
    "problem = ownProblem(model)\n",
    "\n",
    "\n",
    "# =============================================================================\n",
    "# setup optimization algorithm\n",
    "# =============================================================================\n",
    "## --- size of population\n",
    "population = 15          # Nr of individuals\n",
    "\n",
    "## --- stop criteria\n",
    "max_time = 60            # seconds\n",
    "max_iter = 20            # max. iterations\n",
    "max_nonsuccess = 5       # max. consecutive iterations without improvement\n",
    "\n",
    "## --- other config\n",
    "generations = 1          # Nr of generations to evolve between status reports\n",
    "save_all_generations = False\n",
    "filename = \"own_problem.eo\" # path to file to save results (optional)\n",
    "\n",
    "## Use algorithm \"sade\" (jDE variant, a self-adaptive\n",
    "##                      form of differential evolution)\n",
    "import pygmo as pg\n",
    "algorithm = pg.sade\n",
    "algorithm_kwargs = dict()   # optional kwargs, to be passed to the algorithm\n",
    "\n",
    "\n",
    "# =============================================================================\n",
    "# run the optimization\n",
    "# =============================================================================\n",
    "eo_dict = run_eo(problem,\n",
    "                 population=population,\n",
    "                 algorithm=algorithm,\n",
    "                 generations=generations, \n",
    "                 max_time=max_time, \n",
    "                 max_iter=max_iter, \n",
    "                 max_nonsuccess=max_nonsuccess,\n",
    "                 filename=filename)"
   ]
  },
  {
   "cell_type": "markdown",
   "metadata": {},
   "source": [
    "## Analyze and plot the results\n",
    "\n",
    "`pyGDM.EO.tools` offers several tools for rapid and simple reloading of the optimization results. We will use `get_best_candidate` to obtain the final best solution of the optimization.\n",
    "This function returns the pyGDM `simulation` object containing the optimum geometry:"
   ]
  },
  {
   "cell_type": "code",
   "execution_count": 6,
   "metadata": {},
   "outputs": [
    {
     "name": "stdout",
     "output_type": "stream",
     "text": [
      "Best candidate after 3 iterations (with 1 improvements): fitness = ['-4.8186e+05']\n",
      "Testing: recalculating fitness...Done. Everything OK.\n",
      "\n",
      " =============== GDM Simulation Information ===============\n",
      "precision: <class 'numpy.float32'> / <class 'numpy.complex64'>\n",
      "\n",
      "\n",
      " ------ nano-object -------\n",
      "   Homogeneous object. \n",
      "   material:             \"Gold, Johnson/Christy\"\n",
      "   mesh type:            cubic\n",
      "   nominal stepsize:     20nm\n",
      "   nr. of meshpoints:    209\n",
      "\n",
      " ----- incident field -----\n",
      "   field generator: \"planewave\"\n",
      "   1 wavelengths between 1000 and 1000nm\n",
      "   1 incident field configurations per wavelength\n",
      "\n",
      " ------ environment -------\n",
      "   n3 = constant index material, n=(1+0j)  <-- top\n",
      "   n2 = constant index material, n=(1+0j)  <-- center layer (height \"spacing\" = 5000nm)\n",
      "   n1 = constant index material, n=(1+0j)  <-- substrate\n",
      "\n",
      " ===== *core.scatter* ======\n",
      "\u001b[92m   self-consistent E-fields are available\u001b[0m\n",
      "\u001b[91m   NO self-consistent H-fields\u001b[0m\n"
     ]
    },
    {
     "data": {
      "image/png": "[encoded data removed]",
      "text/plain": [
       "<Figure size 432x288 with 1 Axes>"
      ]
     },
     "metadata": {
      "needs_background": "light"
     },
     "output_type": "display_data"
    },
    {
     "data": {
      "text/plain": [
       "<matplotlib.collections.PathCollection at 0x7f4f852d3d90>"
      ]
     },
     "execution_count": 6,
     "metadata": {},
     "output_type": "execute_result"
    }
   ],
   "source": [
    "## --- some more imports\n",
    "import copy\n",
    "import matplotlib.pyplot as plt\n",
    "from pyGDM2 import EO\n",
    "\n",
    "## --- get the best candidate from the optimization\n",
    "sim = EO.tools.get_best_candidate(eo_dict, verbose=True)\n",
    "\n",
    "print(sim)\n",
    "visu.structure(sim)"
   ]
  },
  {
   "cell_type": "markdown",
   "metadata": {},
   "source": [
    "## Calculate a Scattering Spectrum for the Resulting Structure\n",
    "\n",
    "We hope to have obtained a nano-antenna, resonant at the target wavelength (in our case $1\\mu$m). To check this, we would like to compute the scattering spectrum of the structure.\n",
    "Since the optimization `simulation` object was defined for only one single illumination wavelength, we need to create a new pyGDM simulation instance:"
   ]
  },
  {
   "cell_type": "code",
   "execution_count": 7,
   "metadata": {},
   "outputs": [
    {
     "data": {
      "image/png": "[encoded data removed]",
      "text/plain": [
       "<Figure size 720x360 with 2 Axes>"
      ]
     },
     "metadata": {
      "needs_background": "light"
     },
     "output_type": "display_data"
    }
   ],
   "source": [
    "#==============================================================================\n",
    "# setup new simulation to calculate spectrum\n",
    "#==============================================================================\n",
    "## --- structure\n",
    "struct = copy.deepcopy(sim.struct)\n",
    "\n",
    "## --- incident field\n",
    "field_generator = fields.planewave        # planwave excitation\n",
    "wavelengths = np.arange(500, 1500, 20)  # spectrum\n",
    "kwargs = dict(theta = [0.0, 90.0])          # 0/90 deg polarizations\n",
    "efield = fields.efield(field_generator, wavelengths=wavelengths, kwargs=kwargs)\n",
    "dyads = propagators.DyadsQuasistatic123(n1=1, n2=1)  # vacuum\n",
    "\n",
    "## --- spectrally resolved simulation\n",
    "sim_spectrum = core.simulation(struct, efield, dyads)\n",
    "\n",
    "\n",
    "#==============================================================================\n",
    "# run simulation for the spectrum\n",
    "#==============================================================================\n",
    "core.scatter(sim_spectrum, verbose=0)\n",
    "\n",
    "## --- scattering spectrum\n",
    "field_kwargs = tools.get_possible_field_params_spectra(sim_spectrum)[0]\n",
    "wl, spec_ext0 = tools.calculate_spectrum(sim_spectrum, field_kwargs, linear.extinct)\n",
    "asca0 = spec_ext0.T[1]\n",
    "\n",
    "## --- plot\n",
    "plt.figure(figsize=(10,5))\n",
    "\n",
    "plt.subplot2grid((1,5), (0,0), colspan=3)\n",
    "plt.title(\"scattering spectrum\")\n",
    "plt.plot(wl, asca0, label=\"plane wave, pol. || X\")\n",
    "plt.legend(loc='best', fontsize=10)\n",
    "plt.xlabel(\"wavelength (nm)\")\n",
    "plt.ylabel(\"scat.section (nm^2)\")\n",
    "\n",
    "plt.subplot2grid((1,5), (0,3), colspan=2, aspect=\"equal\")\n",
    "plt.title('structure geometry')\n",
    "visu.structure(sim_spectrum, show=False)\n",
    "    \n",
    "plt.show()"
   ]
  },
  {
   "cell_type": "markdown",
   "metadata": {},
   "source": [
    "The structure found by evolutionary optimization has indeed a scattering resonance at $1000\\,$nm wavelength. Furthermore, since we aimed to maximize the *cross-section*, the $Y$-dimension of the rectangle is chosen as large as possible (within the allowed limits), to increase the cross-section.\n",
    "Maximizing the scattering *efficiency* instead, would lead to a very narrow antenna of same length, in order to reduce the geometric cross-section.\n",
    "\n",
    "\n",
    "## *Note:* Technical Detail\n",
    "Most EO-tools can be called either with the `eo_dict` as obtained by `run_eo` or with the filename to the stored optimizaiton results. In fact, the saved file is just a pickled version of the return python dictionary `eo_dict`.\n",
    "For instance,"
   ]
  },
  {
   "cell_type": "code",
   "execution_count": 8,
   "metadata": {},
   "outputs": [
    {
     "name": "stdout",
     "output_type": "stream",
     "text": [
      "Best candidate after 3 iterations (with 1 improvements): fitness = ['-4.8186e+05']\n",
      "Testing: recalculating fitness...Done. Everything OK.\n"
     ]
    }
   ],
   "source": [
    "sim = EO.tools.get_best_candidate(eo_dict, verbose=True)"
   ]
  },
  {
   "cell_type": "markdown",
   "metadata": {},
   "source": [
    "is equivalent to calling `get_best_candidate`, giving the path to the stored results:"
   ]
  },
  {
   "cell_type": "code",
   "execution_count": 9,
   "metadata": {},
   "outputs": [
    {
     "name": "stdout",
     "output_type": "stream",
     "text": [
      "Best candidate after 3 iterations (with 1 improvements): fitness = ['-4.8186e+05']\n",
      "Testing: recalculating fitness...Done. Everything OK.\n"
     ]
    }
   ],
   "source": [
    "filename = \"own_problem.eo\" # path to saved EO results\n",
    "sim = EO.tools.get_best_candidate(filename, verbose=True)"
   ]
  }
 ],
 "metadata": {
  "kernelspec": {
   "display_name": "Python 3",
   "language": "python",
   "name": "python3"
  },
  "language_info": {
   "codemirror_mode": {
    "name": "ipython",
    "version": 3
   },
   "file_extension": ".py",
   "mimetype": "text/x-python",
   "name": "python",
   "nbconvert_exporter": "python",
   "pygments_lexer": "ipython3",
   "version": "3.8.10"
  }
 },
 "nbformat": 4,
 "nbformat_minor": 2
}
