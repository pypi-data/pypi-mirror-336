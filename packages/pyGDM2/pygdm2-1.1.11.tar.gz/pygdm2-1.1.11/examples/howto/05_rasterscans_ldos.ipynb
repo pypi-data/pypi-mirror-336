{
 "cells": [
  {
   "cell_type": "markdown",
   "metadata": {},
   "source": [
    "Tutorial: Raster-scan simulations - photonic LDOS\n",
    "===============================\n",
    "*01/2021: updated to pyGDM v1.1+*\n",
    "\n",
    "This is an example how to simulate photonic LDOS raster-scans in pyGDM.\n",
    "\n",
    "We load the pyGDM modules:"
   ]
  },
  {
   "cell_type": "code",
   "execution_count": 1,
   "metadata": {},
   "outputs": [],
   "source": [
    "import numpy as np\n",
    "import matplotlib.pyplot as plt\n",
    "\n",
    "from pyGDM2 import structures\n",
    "from pyGDM2 import materials\n",
    "from pyGDM2 import fields\n",
    "from pyGDM2 import propagators\n",
    "\n",
    "from pyGDM2 import core\n",
    "from pyGDM2 import linear\n",
    "from pyGDM2 import nonlinear\n",
    "from pyGDM2 import visu\n",
    "from pyGDM2 import tools"
   ]
  },
  {
   "cell_type": "markdown",
   "metadata": {},
   "source": [
    "Simulation setup\n",
    "------------------\n",
    "\n",
    "We will setup two simulations: One to calculate a decay-rate mapping (i.e. the LDOS) and a second for a \"TPL\"-type rasterscan. The latter can be used to get an approximation for the LDOS at the surface of the structure (see e.g. [1]).\n",
    "\n",
    "\n",
    "[1] Viarbitskaya, S. et al. *Tailoring and imaging the plasmonic local density of states in crystalline nanoprisms.* Nat. Mater. **12**, 426–432 (2013)"
   ]
  },
  {
   "cell_type": "code",
   "execution_count": 2,
   "metadata": {},
   "outputs": [
    {
     "name": "stdout",
     "output_type": "stream",
     "text": [
      "structure initialization - automatic mesh detection: cube\n",
      "structure initialization - consistency check: 420/420 dipoles valid\n"
     ]
    },
    {
     "name": "stderr",
     "output_type": "stream",
     "text": [
      "/home/hans/.local/lib/python3.8/site-packages/pyGDM2/visu.py:49: UserWarning: 3D data. Falling back to XY projection...\n",
      "  warnings.warn(\"3D data. Falling back to XY projection...\")\n"
     ]
    },
    {
     "data": {
      "image/png": "[encoded data removed]",
      "text/plain": [
       "<Figure size 432x288 with 1 Axes>"
      ]
     },
     "metadata": {
      "needs_background": "light"
     },
     "output_type": "display_data"
    },
    {
     "name": "stdout",
     "output_type": "stream",
     "text": [
      "N dipoles: 420\n"
     ]
    }
   ],
   "source": [
    "## ---------- Setup structure\n",
    "mesh = 'cube'\n",
    "## -- note: in the paper example, a stepsize of 20nm was used. \n",
    "##          We increase the step for the sake of a shorter simulation runtime.\n",
    "step = 30.0\n",
    "geometry = structures.rect_split_ring(step, L1=800/step-1, L2=400/step-1, \n",
    "                                      W=180/step-1, H=int(60/step), mesh=mesh)\n",
    "\n",
    "material = materials.dummy(2.0)\n",
    "\n",
    "struct = structures.struct(step, geometry, material)\n",
    "struct = structures.center_struct(struct)\n",
    "\n",
    "\n",
    "## ---------- Setup incident field at each raster-scan position\n",
    "## --- raster-scan height: at top-surface of structure\n",
    "Z_scan = geometry.T[2].max()\n",
    "r_probe = tools.generate_NF_map(-550,550,25, -310,310,15, Z_scan)\n",
    "\n",
    "kwargs_focused = []\n",
    "for x,y,z in r_probe:\n",
    "    ## kwargs for focused illumination (TPL-method)\n",
    "    kwargs_focused.append( dict(theta=0, spotsize=100, xSpot=x, ySpot=y) )\n",
    "    kwargs_focused.append( dict(theta=90, spotsize=100, xSpot=x, ySpot=y) )\n",
    "\n",
    "wavelengths = [600]\n",
    "efield_focused = fields.efield(fields.focused_planewave, wavelengths=wavelengths, kwargs=kwargs_focused)\n",
    "\n",
    "\n",
    "## ---------- environment\n",
    "n1, n2 = 1.0, 1.0  # vacuum\n",
    "dyads = propagators.DyadsQuasistatic123(n1=n1, n2=n2)\n",
    "\n",
    "\n",
    "## ---------- Simulation initialization\n",
    "sim_foc = core.simulation(struct, efield_focused, dyads)\n",
    "\n",
    "\n",
    "## --- plot the structure\n",
    "visu.structure(sim_foc.struct.geometry, scale=0.5)\n",
    "print(\"N dipoles:\", len(sim_foc.struct.geometry))"
   ]
  },
  {
   "cell_type": "markdown",
   "metadata": {},
   "source": [
    "Let's run the simulations:\n",
    "----------------------------"
   ]
  },
  {
   "cell_type": "code",
   "execution_count": 3,
   "metadata": {},
   "outputs": [
    {
     "name": "stderr",
     "output_type": "stream",
     "text": [
      "/home/hans/.local/lib/python3.8/site-packages/numba/core/dispatcher.py:237: UserWarning: Numba extension module 'numba_scipy' failed to load due to 'ValueError(No function '__pyx_fuse_0pdtr' found in __pyx_capi__ of 'scipy.special.cython_special')'.\n",
      "  entrypoints.init_all()\n"
     ]
    },
    {
     "name": "stdout",
     "output_type": "stream",
     "text": [
      "timing for wl=600.00nm - setup: EE 12001.0ms, inv.: 326.7ms, repropa.: 3408.1ms (750 field configs), tot: 15736.0ms\n"
     ]
    },
    {
     "data": {
      "text/plain": [
       "1"
      ]
     },
     "execution_count": 3,
     "metadata": {},
     "output_type": "execute_result"
    }
   ],
   "source": [
    "## scattering (--> SP-LDOS via TPL method)\n",
    "sim_foc.scatter(verbose=True)"
   ]
  },
  {
   "cell_type": "markdown",
   "metadata": {},
   "source": [
    "Note that *core.scatter* and *core.decay_rate* calculated $(2 + 1) \\times 25 \\times 15 = 1125$ simulations.\n",
    "\n",
    "Calcuate raster-scan maps\n",
    "---------------------------\n",
    "Now comes the part where we calculate the scalar raster-scan maps from the simulation results"
   ]
  },
  {
   "cell_type": "code",
   "execution_count": 4,
   "metadata": {},
   "outputs": [
    {
     "name": "stdout",
     "output_type": "stream",
     "text": [
      "E-LDOS at wl=600.0nm - "
     ]
    },
    {
     "name": "stderr",
     "output_type": "stream",
     "text": [
      "/home/hans/.local/lib/python3.8/site-packages/pyGDM2/tools.py:1395: UserWarning: 'field_kwargs' are index instead of dict.Using `get_possible_field_params_rasterscan`.Using configuration #0: '{'theta': 0, 'spotsize': 100, 'wavelength': 600}'\n",
      "  warnings.warn(\"'field_kwargs' are index instead of dict.\" +\n",
      "/home/hans/.local/lib/python3.8/site-packages/pyGDM2/tools.py:1395: UserWarning: 'field_kwargs' are index instead of dict.Using `get_possible_field_params_rasterscan`.Using configuration #1: '{'theta': 90, 'spotsize': 100, 'wavelength': 600}'\n",
      "  warnings.warn(\"'field_kwargs' are index instead of dict.\" +\n"
     ]
    },
    {
     "name": "stdout",
     "output_type": "stream",
     "text": [
      "K: 0.6s, source-zone (108/375 pos): 0.0s, Q: 6.7s, S: 6.5s, integrate: 3.8s, Done in 17.6s\n"
     ]
    }
   ],
   "source": [
    "## --- calculate TPL rasterscan maps\n",
    "TPL0 = tools.calculate_rasterscan(sim_foc, 0, nonlinear.tpl_ldos, nonlin_order=1, verbose=True)\n",
    "TPL90 = tools.calculate_rasterscan(sim_foc, 1, nonlinear.tpl_ldos, nonlin_order=1, verbose=True)\n",
    "\n",
    "\n",
    "## --- decay rate simulation (--> LDOS)\n",
    "## Note that the illumination is ignored by *core.decay_rate*\n",
    "## field_index is used only to set the wavelength\n",
    "ldos = core.decay_rate(sim_foc, field_index=0, r_probe=r_probe, verbose=True)"
   ]
  },
  {
   "cell_type": "markdown",
   "metadata": {},
   "source": [
    "Plotting the maps\n",
    "-------------------\n",
    "Now we have calculated 2D scalar maps of the LDOS in a plane at the level of the top surface of the structure. Let's plot it together with the surface LDOS obtained by the \"TPL-method\":"
   ]
  },
  {
   "cell_type": "code",
   "execution_count": 5,
   "metadata": {},
   "outputs": [
    {
     "data": {
      "image/png": "[encoded data removed]",
      "text/plain": [
       "<Figure size 720x432 with 6 Axes>"
      ]
     },
     "metadata": {
      "needs_background": "light"
     },
     "output_type": "display_data"
    }
   ],
   "source": [
    "plt.figure(figsize=(10,6))\n",
    "\n",
    "## --- plot \"TPL-LDOS\"\n",
    "plt.subplot(231, aspect='equal'); plt.title(\"TPL-LDOS along X\")\n",
    "visu.scalarfield(TPL0, cmap='jet', show=False)\n",
    "visu.structure_contour(sim_foc, color='w', input_mesh=mesh, show=False)\n",
    "\n",
    "\n",
    "plt.subplot(232, aspect='equal'); plt.title(\"TPL-LDOS along Y\")\n",
    "visu.scalarfield(TPL90, cmap='jet', show=False)\n",
    "visu.structure_contour(sim_foc, color='w', input_mesh=mesh, show=False)\n",
    "\n",
    "\n",
    "TPL_tot = [TPL0[0], (TPL0[1]+TPL90[1])/2.]\n",
    "\n",
    "plt.subplot(233)\n",
    "plt.title(\"tot. LDOS via 'TPL'-method\\nfocal spot size = {}nm\".format(int(sim_foc.efield.kwargs[0]['spotsize'])))\n",
    "visu.scalarfield(TPL_tot, cmap='jet', show=False)\n",
    "visu.structure_contour(sim_foc, color='w', input_mesh=mesh, show=False)\n",
    "\n",
    "\n",
    "\n",
    "## --- plot LDOS via field-susceptibility (\"decay-rate method\")\n",
    "plt.subplot(234)\n",
    "plt.title(\"LDOS via Im(S) X\")\n",
    "visu.scalarfield(ldos[0], cmap='jet', show=False)\n",
    "visu.structure_contour(sim_foc, color='w', input_mesh=mesh, show=False)\n",
    "\n",
    "\n",
    "plt.subplot(235)\n",
    "plt.title(\"LDOS via Im(S) Y\")\n",
    "visu.scalarfield(ldos[1], cmap='jet', show=False)\n",
    "visu.structure_contour(sim_foc, color='w', input_mesh=mesh, show=False)\n",
    "\n",
    "ldos_avg_xy = ldos[0].copy()\n",
    "ldos_avg_xy.T[3] += ldos[1].T[3]\n",
    "ldos_avg_xy.T[3] /= 2.0\n",
    "\n",
    "plt.subplot(236)\n",
    "plt.title(\"LDOS via Im(S), tot x/y\")\n",
    "visu.scalarfield(ldos_avg_xy, cmap='jet', show=False)\n",
    "visu.structure_contour(sim_foc, color='w', input_mesh=mesh, show=False)\n",
    "\n",
    "\n",
    "plt.tight_layout()\n",
    "plt.show()"
   ]
  },
  {
   "cell_type": "markdown",
   "metadata": {},
   "source": [
    "The agreement is qualitatively ok, the global trends are similar. The TPL-method gives however only an approximation to the LDOS at the surface. Also only the LDOS at the actual surface of the structure can be obtained using the TPL method with an unphysically tight beam. The LDOS *outside* the structure must in any case be calculated using the technique via the imaginary part of the field susceptibility (--> via the decay rate)."
   ]
  }
 ],
 "metadata": {
  "kernelspec": {
   "display_name": "Python 3",
   "language": "python",
   "name": "python3"
  },
  "language_info": {
   "codemirror_mode": {
    "name": "ipython",
    "version": 3
   },
   "file_extension": ".py",
   "mimetype": "text/x-python",
   "name": "python",
   "nbconvert_exporter": "python",
   "pygments_lexer": "ipython3",
   "version": "3.8.5"
  }
 },
 "nbformat": 4,
 "nbformat_minor": 2
}
