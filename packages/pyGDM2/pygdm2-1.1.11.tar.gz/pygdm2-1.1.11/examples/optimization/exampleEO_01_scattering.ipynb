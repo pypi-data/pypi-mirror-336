{
 "cells": [
  {
   "cell_type": "markdown",
   "metadata": {},
   "source": [
    "Maximize scattering\n",
    "======================\n",
    "*01/2021: updated to pyGDM v1.1+*\n",
    "\n",
    "In a first example, we will search for the geometry of a gold nano-structure which leads to maximum scattering at a specific wavelength and polarization.\n",
    "\n",
    "\n",
    "Load the modules\n",
    "-------------------"
   ]
  },
  {
   "cell_type": "code",
   "execution_count": 1,
   "metadata": {},
   "outputs": [],
   "source": [
    "from pyGDM2 import core\n",
    "from pyGDM2 import propagators\n",
    "from pyGDM2 import structures\n",
    "from pyGDM2 import materials\n",
    "from pyGDM2 import fields\n",
    "\n",
    "from pyGDM2.EO.core import run_eo\n",
    "from pyGDM2.EO.problems import ProblemScat\n",
    "from pyGDM2.EO.models import RectangularAntenna"
   ]
  },
  {
   "cell_type": "markdown",
   "metadata": {},
   "source": [
    "Setup (1): pyGDM simulation\n",
    "----------------------------------------\n",
    "\n",
    "In a first step, we configure the pyGDM simulation which we will use. This is the same as for any other simulation, except that we will leave the geometry blank and use an empty list instead. The structure geometry will be defined below by the **EO model** and will be varied during the optimization."
   ]
  },
  {
   "cell_type": "code",
   "execution_count": 2,
   "metadata": {},
   "outputs": [
    {
     "name": "stdout",
     "output_type": "stream",
     "text": [
      "structure initialization - automatic mesh detection: cube\n",
      "structure initialization - consistency check: 0/0 dipoles valid\n"
     ]
    },
    {
     "name": "stderr",
     "output_type": "stream",
     "text": [
      "/home/hans/.local/lib/python3.8/site-packages/pyGDM2/tools.py:817: UserWarning: Empty structure. Setting mesh to 'cubic'.\n",
      "  warnings.warn(\"Empty structure. Setting mesh to 'cubic'.\")\n",
      "/home/hans/.local/lib/python3.8/site-packages/pyGDM2/structures.py:183: UserWarning: Emtpy structure geometry.\n",
      "  warnings.warn(\"Emtpy structure geometry.\")\n"
     ]
    }
   ],
   "source": [
    "## ---------- Setup structure\n",
    "mesh = 'cube'\n",
    "step = 15\n",
    "material = materials.gold()        # material: gold\n",
    "## --- Empty dummy-geometry, will be replaced on run-time by EO trial geometries\n",
    "geometry = []       \n",
    "struct = structures.struct(step, geometry, material)\n",
    "\n",
    "\n",
    "## ---------- Setup incident field\n",
    "field_generator = fields.planewave        # planwave excitation\n",
    "kwargs = dict(theta = [0.0])              # target lin. polarization angle\n",
    "wavelengths = [1000]                      # target wavelength\n",
    "efield = fields.efield(field_generator, wavelengths=wavelengths, kwargs=kwargs)\n",
    "\n",
    "## ---------- environment\n",
    "dyads = propagators.DyadsQuasistatic123(n1=1, n2=1)\n",
    "\n",
    "## ---------- Simulation initialization\n",
    "sim = core.simulation(struct, efield, dyads)"
   ]
  },
  {
   "cell_type": "markdown",
   "metadata": {},
   "source": [
    "**Note:** We can safely ignore the warning about the empty structure: The geometry will be handled by the EO model.\n",
    "\n",
    "\n",
    "Setup (2): Evolutionary optimization setup\n",
    "----------------------------------------\n",
    "\n",
    "In the second step we now configure the evolutionary optimization: We will setup the structure model and the optimization problem as well as the optimization algorithm.\n",
    "\n",
    " - The *model* will determine the structure geometry as function of certain free parameters which will be subjet to the optimization. For demonstration, we will choose a very simple model: A planar cuboid of rectangular footprint, where the free parameters are only its width and length (the height shall be fixed).\n",
    "\n",
    " - The *problem* will specify the optimization objective, hence a certain optical property to be maximized (or minimized). In our example, we want to maximize the scattering from the plasmonic nano-structure.\n",
    "\n",
    " - As *algorithm* we use the \"jde\" differential evolution algorithm, implemented in *pyGMO/paGMO*."
   ]
  },
  {
   "cell_type": "code",
   "execution_count": 3,
   "metadata": {},
   "outputs": [
    {
     "name": "stdout",
     "output_type": "stream",
     "text": [
      "Rectangular Antenna optimziation model: Note that this simple model is rather intended for testing and demonstration purposes.\n"
     ]
    }
   ],
   "source": [
    "## --- structure model: Rectangular planar antenna of fixed height\n",
    "limits_W   = [2, 20]  # units of \"step\"\n",
    "limits_L   = [2, 20]  # units of \"step\"\n",
    "limits_pos = [-1, 1]  # units of nm  -->  effectively no shift of the struct. allowed\n",
    "height = 3    # units of \"step\"\n",
    "model = RectangularAntenna(sim, limits_W, limits_L, limits_pos, height)\n",
    "\n",
    "## --- optimization problem: Scattering\n",
    "opt_target = 'Qscat'  # 'Qscat' --> scat. efficiency\n",
    "problem = ProblemScat(model, opt_target=opt_target)\n",
    "\n",
    "\n",
    "## --- filename to save results \n",
    "results_filename = 'eo_Qscat.eo'\n",
    "\n",
    "## --- size of population\n",
    "population = 25          # Nr of individuals\n",
    "\n",
    "## --- stop criteria\n",
    "max_time = 60            # seconds\n",
    "max_iter = 20            # max. iterations\n",
    "max_nonsuccess = 5       # max. consecutive iterations without improvement\n",
    "\n",
    "## --- other config\n",
    "generations = 1          # generations to evolve between status reports\n",
    "plot_interval = 1        # plot each N improvements\n",
    "save_all_generations = False\n",
    "\n",
    "##  Use algorithm \"sade\" (jDE variant, a self-adaptive form of differential evolution)\n",
    "import pygmo as pg\n",
    "algorithm = pg.sade\n",
    "algorithm_kwargs = dict()   # optional kwargs passed to the algorithm"
   ]
  },
  {
   "cell_type": "markdown",
   "metadata": {},
   "source": [
    "Run the optimization\n",
    "-----------------------------\n",
    "\n",
    "Now let's run this optimization:"
   ]
  },
  {
   "cell_type": "code",
   "execution_count": 4,
   "metadata": {},
   "outputs": [
    {
     "name": "stdout",
     "output_type": "stream",
     "text": [
      "\n",
      "----------------------------------------------\n",
      " Starting new optimization\n",
      "----------------------------------------------\n",
      "\n",
      "\n"
     ]
    },
    {
     "name": "stderr",
     "output_type": "stream",
     "text": [
      "/home/hans/.local/lib/python3.8/site-packages/pyGDM2/tools.py:835: UserWarning: Mesh not detected, falling back to 'cubic'.\n",
      "  warnings.warn(\"Mesh not detected, falling back to 'cubic'.\")\n",
      "/home/hans/.local/lib/python3.8/site-packages/numba/core/dispatcher.py:237: UserWarning: Numba extension module 'numba_scipy' failed to load due to 'ValueError(No function '__pyx_fuse_0pdtr' found in __pyx_capi__ of 'scipy.special.cython_special')'.\n",
      "  entrypoints.init_all()\n",
      "/home/hans/.local/lib/python3.8/site-packages/pyGDM2/tools.py:835: UserWarning: Mesh not detected, falling back to 'cubic'.\n",
      "  warnings.warn(\"Mesh not detected, falling back to 'cubic'.\")\n"
     ]
    },
    {
     "name": "stdout",
     "output_type": "stream",
     "text": [
      "iter #  1, time:   27.2s, progress #  1, f_evals: 50\n"
     ]
    },
    {
     "name": "stderr",
     "output_type": "stream",
     "text": [
      "/home/hans/.local/lib/python3.8/site-packages/pyGDM2/EO/models.py:155: UserWarning: 'models.BaseModel.plot_structure' not re-implemented! Using `pyGDM2.visu.structure`.\n",
      "  warnings.warn(\"'models.BaseModel.plot_structure' not re-implemented! Using `pyGDM2.visu.structure`.\")\n",
      "/home/hans/.local/lib/python3.8/site-packages/pyGDM2/visu.py:49: UserWarning: 3D data. Falling back to XY projection...\n",
      "  warnings.warn(\"3D data. Falling back to XY projection...\")\n"
     ]
    },
    {
     "data": {
      "image/png": "[encoded data removed]",
      "text/plain": [
       "<Figure size 432x288 with 1 Axes>"
      ]
     },
     "metadata": {
      "needs_background": "light"
     },
     "output_type": "display_data"
    },
    {
     "name": "stderr",
     "output_type": "stream",
     "text": [
      "/home/hans/.local/lib/python3.8/site-packages/pyGDM2/tools.py:835: UserWarning: Mesh not detected, falling back to 'cubic'.\n",
      "  warnings.warn(\"Mesh not detected, falling back to 'cubic'.\")\n"
     ]
    },
    {
     "name": "stdout",
     "output_type": "stream",
     "text": [
      "        - champion fitness: [-14.484]\n",
      "\n",
      "iter #  2, time:   49.9s, progress #  2, f_evals: 75\n"
     ]
    },
    {
     "name": "stderr",
     "output_type": "stream",
     "text": [
      "/home/hans/.local/lib/python3.8/site-packages/pyGDM2/EO/models.py:155: UserWarning: 'models.BaseModel.plot_structure' not re-implemented! Using `pyGDM2.visu.structure`.\n",
      "  warnings.warn(\"'models.BaseModel.plot_structure' not re-implemented! Using `pyGDM2.visu.structure`.\")\n"
     ]
    },
    {
     "data": {
      "image/png": "[encoded data removed]",
      "text/plain": [
       "<Figure size 432x288 with 1 Axes>"
      ]
     },
     "metadata": {
      "needs_background": "light"
     },
     "output_type": "display_data"
    },
    {
     "name": "stdout",
     "output_type": "stream",
     "text": [
      "        - champion fitness: [-26.052]\n",
      "\n",
      "iter #  3, time:   63.0s, progress #  2, f_evals: 100(non-success: 1)\n",
      "\n",
      " -------- timelimit reached\n"
     ]
    }
   ],
   "source": [
    "eo_dict = run_eo(problem,\n",
    "                 population=population,\n",
    "                 algorithm=algorithm,\n",
    "                 plot_interval=plot_interval, \n",
    "                 generations=generations, \n",
    "                 max_time=max_time, max_iter=max_iter, max_nonsuccess=max_nonsuccess,\n",
    "                 filename=results_filename)"
   ]
  },
  {
   "cell_type": "markdown",
   "metadata": {},
   "source": [
    "The output will look something like this.\n",
    "\n",
    "**Note:** In this run, the optimum structure was already found in the third generation, it may even happen to be in the randomized initial population, since there are only 2 free parameters which are furthermore very constrained. For more complex structure models, the probability of this to happen will of course be very low.\n",
    "\n",
    "\n",
    "Post-processing of optimum solution\n",
    "-------------------------------------------\n",
    "\n",
    "Now we want to calculate the scattering spectrum for the optimum solution. We will load the simulation from the files, generated by *do_eo*. Then we create a new simulation with a spectrum of wavelengths."
   ]
  },
  {
   "cell_type": "code",
   "execution_count": 5,
   "metadata": {},
   "outputs": [
    {
     "name": "stdout",
     "output_type": "stream",
     "text": [
      "Best candidate after 3 iterations (with 1 improvements): fitness = ['-26.052']\n",
      "Testing: recalculating fitness...Done. Everything OK.\n"
     ]
    }
   ],
   "source": [
    "## --- load additional modules\n",
    "from pyGDM2.EO.tools import get_best_candidate\n",
    "from pyGDM2 import linear\n",
    "from pyGDM2 import tools\n",
    "from pyGDM2 import visu\n",
    "\n",
    "import copy\n",
    "import numpy as np\n",
    "import matplotlib.pyplot as plt\n",
    "\n",
    "#==============================================================================\n",
    "# load the final fittest candidate (=optimum geometry)\n",
    "#==============================================================================\n",
    "## --- optimization results file\n",
    "results_filename = 'eo_Qscat.eo'\n",
    "\n",
    "sim = get_best_candidate(results_filename, iteration=-1, verbose=True)"
   ]
  },
  {
   "cell_type": "markdown",
   "metadata": {},
   "source": [
    "**Note:** We loaded the best candidate from *iteration* Nr \"-1\"., which is the last iteration of the evolution (\"-2\" would be second last and so on; positive numbers starting from \"0\" can be used as well, this is just python indexing.)."
   ]
  },
  {
   "cell_type": "code",
   "execution_count": 6,
   "metadata": {},
   "outputs": [],
   "source": [
    "#==============================================================================\n",
    "# setup new simulation to calculate spectrum\n",
    "#==============================================================================\n",
    "## --- structure\n",
    "struct = copy.deepcopy(sim.struct)\n",
    "\n",
    "## --- incident field\n",
    "field_generator = fields.planewave        # planwave excitation\n",
    "wavelengths = np.arange(600, 1410, 30)    # spectrum\n",
    "kwargs = dict(theta = [0.0, 90.0])        # 0 / 90 deg polarizations\n",
    "efield = fields.efield(field_generator, wavelengths=wavelengths, kwargs=kwargs)\n",
    "\n",
    "## --- env.\n",
    "dyads = propagators.DyadsQuasistatic123(n1=1, n2=1)\n",
    "\n",
    "## --- simulation\n",
    "sim_spectrum = core.simulation(struct, efield, dyads)\n",
    "\n",
    "\n",
    "#==============================================================================\n",
    "# run simulation for the spectrum\n",
    "#==============================================================================\n",
    "core.scatter(sim_spectrum, verbose=False)\n",
    "\n",
    "## --- calculate the spectrum for X and Y polarization\n",
    "wl, spec_ext0 = tools.calculate_spectrum(sim_spectrum, 0, linear.extinct)\n",
    "asca0 = spec_ext0.T[1]\n",
    "\n",
    "wl, spec_ext90 = tools.calculate_spectrum(sim_spectrum, 1, linear.extinct)\n",
    "asca90 = spec_ext90.T[1]\n",
    "\n",
    "geom_cs = tools.get_geometric_cross_section(sim_spectrum)"
   ]
  },
  {
   "cell_type": "markdown",
   "metadata": {},
   "source": [
    "Plot the scattering spectrum for the best solution\n",
    "------------------------------------------"
   ]
  },
  {
   "cell_type": "code",
   "execution_count": 7,
   "metadata": {},
   "outputs": [
    {
     "data": {
      "image/png": "[encoded data removed]",
      "text/plain": [
       "<Figure size 720x360 with 2 Axes>"
      ]
     },
     "metadata": {
      "needs_background": "light"
     },
     "output_type": "display_data"
    }
   ],
   "source": [
    "## --- plot\n",
    "plt.figure(figsize=(10,5))\n",
    "\n",
    "## --- spectra\n",
    "plt.subplot2grid((1,5), (0,0), colspan=3)\n",
    "plt.title(\"scattering spectrum\")\n",
    "plt.plot(wl, asca0/geom_cs, label=\"0deg\")\n",
    "plt.plot(wl, asca90/geom_cs, label=\"90deg\")\n",
    "\n",
    "plt.legend(loc='best', fontsize=10)\n",
    "plt.xlabel(\"wavelength (nm)\")\n",
    "plt.ylabel(\"Q_scat\")\n",
    "\n",
    "## --- structure\n",
    "plt.subplot2grid((1,5), (0,3), colspan=2, aspect=\"equal\")\n",
    "plt.title('structure geometry')\n",
    "visu.structure(sim_spectrum, show=False)\n",
    "    \n",
    "plt.show()"
   ]
  },
  {
   "cell_type": "markdown",
   "metadata": {},
   "source": [
    "Indeed, a structure was found which has a strong plasmon resonance at the target wavelength of 1000nm."
   ]
  }
 ],
 "metadata": {
  "kernelspec": {
   "display_name": "Python 3",
   "language": "python",
   "name": "python3"
  },
  "language_info": {
   "codemirror_mode": {
    "name": "ipython",
    "version": 3
   },
   "file_extension": ".py",
   "mimetype": "text/x-python",
   "name": "python",
   "nbconvert_exporter": "python",
   "pygments_lexer": "ipython3",
   "version": "3.8.5"
  }
 },
 "nbformat": 4,
 "nbformat_minor": 2
}
