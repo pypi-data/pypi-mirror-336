{
 "cells": [
  {
   "cell_type": "markdown",
   "metadata": {},
   "source": [
    "Fast electrons - EELS mode dispersion\n",
    "=========================================\n",
    "*Example authors: A. Arbouet / P. R. Wiecha*  (*electron* submodule by A. Arbouet)\n",
    "\n",
    "<span style=\"color: red;\">**!!Attention!!**:</span> The *electron* module is still beta functionality and is to be used with caution. \n",
    "\n",
    "\n",
    "In this example, we reproduce the results of EELS mode dispersion from *Campos et al.* [1].\n",
    "\n",
    "\n",
    "[1]: Campos et al.: *Plasmonic Breathing and Edge Modes in Aluminum Nanotriangles* **ACS Photonics** 4(5), 1257 (2017) (https://pubs.acs.org/doi/abs/10.1021/acsphotonics.7b00204)"
   ]
  },
  {
   "cell_type": "code",
   "execution_count": 1,
   "metadata": {},
   "outputs": [
    {
     "name": "stdout",
     "output_type": "stream",
     "text": [
      "structure initialization - automatic mesh detection: hex\n",
      "structure initialization - consistency check: 1225/1225 dipoles valid\n"
     ]
    },
    {
     "name": "stderr",
     "output_type": "stream",
     "text": [
      "/home/hans/.local/lib/python3.8/site-packages/pyGDM2/visu.py:49: UserWarning: 3D data. Falling back to XY projection...\n",
      "  warnings.warn(\"3D data. Falling back to XY projection...\")\n"
     ]
    },
    {
     "data": {
      "image/png": "[encoded data removed]",
      "text/plain": [
       "<Figure size 432x288 with 1 Axes>"
      ]
     },
     "metadata": {
      "needs_background": "light"
     },
     "output_type": "display_data"
    },
    {
     "name": "stdout",
     "output_type": "stream",
     "text": [
      "N dipoles: 1225\n"
     ]
    }
   ],
   "source": [
    "import matplotlib.pyplot as plt\n",
    "import numpy as np\n",
    "\n",
    "from pyGDM2 import structures\n",
    "from pyGDM2 import materials\n",
    "from pyGDM2 import fields\n",
    "from pyGDM2 import core\n",
    "from pyGDM2 import propagators\n",
    "from pyGDM2 import electron\n",
    "from pyGDM2 import tools\n",
    "from pyGDM2 import visu\n",
    "\n",
    "#****************************************************\n",
    "#          SETTING PARAMETERS FOR ELECTRONS\n",
    "#****************************************************\n",
    "Eelec = 100.   # electron kinetic energy (keV)\n",
    "kSign = 1      # Electron propagation direction\n",
    "\n",
    "\n",
    "#****************************************************\n",
    "#         nanostructure\n",
    "#****************************************************\n",
    "mesh = 'hex'\n",
    "step = 20\n",
    "\n",
    "## note: set H=3 for conditions in Campos et al. ACS Photonics 4(5), Pp.1257 (2017)\n",
    "geometry = structures.prism(step, NSIDE=35, H=2, mesh=mesh, ORIENTATION=1) \n",
    "geometry = structures.center_struct(geometry)\n",
    "material = materials.alu()\n",
    "\n",
    "struct = structures.struct(step, geometry, material)\n",
    "\n",
    "\n",
    "#****************************************************\n",
    "#         incident field: 1D rasterscan\n",
    "#****************************************************\n",
    "field_generator = fields.fast_electron\n",
    "energy = np.linspace(0.5, 4, 21)   # linear energy scale\n",
    "wavelengths = 1239.0 / energy      # eV --> nm\n",
    "\n",
    "## --- Generate positions for raster-scan, aligned with structure mesh\n",
    "r_probe_1d = np.array([np.linspace(-400,400,81), -270*np.ones(81), 0*np.ones(81)]).T\n",
    "r_probe_1d = tools.adapt_map_to_structure_mesh(r_probe_1d, geometry, \n",
    "                                               occupy_all_geo_positions=True)\n",
    "\n",
    "kwargs_ebeam_1d = []\n",
    "for x,y in r_probe_1d[:2].T:\n",
    "   kwargs_ebeam_1d.append(dict(kSign=kSign, electron_kinetic_energy=Eelec,\n",
    "                               x0=x, y0=y))\n",
    "\n",
    "efield_1d_scan = fields.efield(field_generator, wavelengths=wavelengths, \n",
    "                               kwargs=kwargs_ebeam_1d)\n",
    "\n",
    "\n",
    "#****************************************************\n",
    "#         environment (--> used Green's tensors)\n",
    "#****************************************************\n",
    "n3 = 1.0  # cladding layer\n",
    "n2 = 1.0  # environment\n",
    "n1 = 2.0  # substrate environment\n",
    "spacing = 10000.\n",
    "\n",
    "dyads = propagators.DyadsQuasistatic123(n1, n2, n3, spacing=spacing)\n",
    "\n",
    "\n",
    "#****************************************************\n",
    "#         simulation init\n",
    "#****************************************************\n",
    "sim_1Dscan = core.simulation(struct=struct, efield=efield_1d_scan, dyads=dyads)\n",
    "\n",
    "\n",
    "plt.subplot(111, aspect='equal')\n",
    "visu.structure(sim_1Dscan, scale=0.5, show=0)\n",
    "plt.scatter(r_probe_1d[0],r_probe_1d[1], marker='x')\n",
    "plt.show()\n",
    "print(\"N dipoles:\", len(sim_1Dscan.struct.geometry))\n"
   ]
  },
  {
   "cell_type": "markdown",
   "metadata": {},
   "source": [
    "run the simulation\n",
    "--------------------------------\n",
    "\n",
    "Now we run the simulation, calculating EELS spectra at the two indicated positions"
   ]
  },
  {
   "cell_type": "code",
   "execution_count": 2,
   "metadata": {},
   "outputs": [
    {
     "name": "stderr",
     "output_type": "stream",
     "text": [
      "/home/hans/.local/lib/python3.8/site-packages/numba/core/dispatcher.py:237: UserWarning: Numba extension module 'numba_scipy' failed to load due to 'ValueError(No function '__pyx_fuse_0pdtr' found in __pyx_capi__ of 'scipy.special.cython_special')'.\n",
      "  entrypoints.init_all()\n"
     ]
    },
    {
     "name": "stdout",
     "output_type": "stream",
     "text": [
      "timing for wl=2478.00nm - setup: EE 5320.3ms, inv.: 1229.6ms, repropa.: 2799.5ms (47 field configs), tot: 9349.7ms\n",
      "timing for wl=1835.56nm - setup: EE 2553.2ms, inv.: 1490.7ms, repropa.: 2327.0ms (47 field configs), tot: 6372.4ms\n",
      "timing for wl=1457.65nm - setup: EE 2554.8ms, inv.: 1368.8ms, repropa.: 2071.7ms (47 field configs), tot: 5996.0ms\n",
      "timing for wl=1208.78nm - setup: EE 2540.2ms, inv.: 1294.6ms, repropa.: 2068.6ms (47 field configs), tot: 5904.1ms\n",
      "timing for wl=1032.50nm - setup: EE 2566.5ms, inv.: 1291.6ms, repropa.: 2068.6ms (47 field configs), tot: 5927.7ms\n",
      "timing for wl=901.09nm - setup: EE 2560.1ms, inv.: 1245.1ms, repropa.: 2027.3ms (47 field configs), tot: 5833.1ms\n",
      "timing for wl=799.35nm - setup: EE 2567.3ms, inv.: 1172.1ms, repropa.: 1999.7ms (47 field configs), tot: 5739.7ms\n",
      "timing for wl=718.26nm - setup: EE 2546.6ms, inv.: 1172.8ms, repropa.: 2027.8ms (47 field configs), tot: 5748.2ms\n",
      "timing for wl=652.11nm - setup: EE 2568.0ms, inv.: 1167.3ms, repropa.: 2006.2ms (47 field configs), tot: 5742.4ms\n",
      "timing for wl=597.11nm - setup: EE 2567.3ms, inv.: 1165.5ms, repropa.: 2014.0ms (47 field configs), tot: 5747.5ms\n",
      "timing for wl=550.67nm - setup: EE 2566.2ms, inv.: 1206.5ms, repropa.: 2016.1ms (47 field configs), tot: 5789.5ms\n",
      "timing for wl=510.93nm - setup: EE 2570.6ms, inv.: 1196.0ms, repropa.: 2039.6ms (47 field configs), tot: 5806.9ms\n",
      "timing for wl=476.54nm - setup: EE 2561.0ms, inv.: 1185.6ms, repropa.: 2006.2ms (47 field configs), tot: 5753.5ms\n",
      "timing for wl=446.49nm - setup: EE 2569.3ms, inv.: 1555.6ms, repropa.: 2011.9ms (47 field configs), tot: 6137.4ms\n",
      "timing for wl=420.00nm - setup: EE 2553.6ms, inv.: 1198.0ms, repropa.: 1999.2ms (47 field configs), tot: 5752.1ms\n",
      "timing for wl=396.48nm - setup: EE 2552.2ms, inv.: 1247.0ms, repropa.: 1991.2ms (47 field configs), tot: 5791.1ms\n",
      "timing for wl=375.45nm - setup: EE 2562.9ms, inv.: 1172.3ms, repropa.: 2000.4ms (47 field configs), tot: 5736.6ms\n",
      "timing for wl=356.55nm - setup: EE 2565.6ms, inv.: 1231.4ms, repropa.: 2002.1ms (47 field configs), tot: 5799.8ms\n",
      "timing for wl=339.45nm - setup: EE 2552.4ms, inv.: 1234.9ms, repropa.: 2004.5ms (47 field configs), tot: 5792.7ms\n",
      "timing for wl=323.92nm - setup: EE 2563.6ms, inv.: 1187.8ms, repropa.: 2002.0ms (47 field configs), tot: 5754.0ms\n",
      "timing for wl=309.75nm - setup: EE 2563.5ms, inv.: 1166.1ms, repropa.: 2038.9ms (47 field configs), tot: 5769.5ms\n"
     ]
    },
    {
     "data": {
      "text/plain": [
       "1"
      ]
     },
     "execution_count": 2,
     "metadata": {},
     "output_type": "execute_result"
    }
   ],
   "source": [
    "## run the simulation\n",
    "sim_1Dscan.scatter()"
   ]
  },
  {
   "cell_type": "markdown",
   "metadata": {},
   "source": [
    "Calculate and plot the mode dispersion\n",
    "--------------------------------\n",
    "\n",
    "Comparison with the reference gives a very good agreement"
   ]
  },
  {
   "cell_type": "code",
   "execution_count": 3,
   "metadata": {},
   "outputs": [
    {
     "name": "stdout",
     "output_type": "stream",
     "text": [
      "calc EELS at wavelength 2478.0nm\n",
      "calc EELS at wavelength 1835.6nm\n",
      "calc EELS at wavelength 1457.6nm\n",
      "calc EELS at wavelength 1208.8nm\n",
      "calc EELS at wavelength 1032.5nm\n",
      "calc EELS at wavelength 901.1nm\n",
      "calc EELS at wavelength 799.4nm\n",
      "calc EELS at wavelength 718.3nm\n",
      "calc EELS at wavelength 652.1nm\n",
      "calc EELS at wavelength 597.1nm\n",
      "calc EELS at wavelength 550.7nm\n",
      "calc EELS at wavelength 510.9nm\n",
      "calc EELS at wavelength 476.5nm\n",
      "calc EELS at wavelength 446.5nm\n",
      "calc EELS at wavelength 420.0nm\n",
      "calc EELS at wavelength 396.5nm\n",
      "calc EELS at wavelength 375.5nm\n",
      "calc EELS at wavelength 356.5nm\n",
      "calc EELS at wavelength 339.5nm\n",
      "calc EELS at wavelength 323.9nm\n",
      "calc EELS at wavelength 309.8nm\n"
     ]
    },
    {
     "data": {
      "image/png": "[encoded data removed]",
      "text/plain": [
       "<Figure size 432x288 with 2 Axes>"
      ]
     },
     "metadata": {
      "needs_background": "light"
     },
     "output_type": "display_data"
    }
   ],
   "source": [
    "#%% ---- calc. EELS dispersion\n",
    "EELS_dispersion = []\n",
    "for i, wl in enumerate(wavelengths):\n",
    "    print('calc EELS at wavelength {:.1f}nm'.format(wl))\n",
    "    map_pos, EELS_scan = tools.calculate_rasterscan(sim_1Dscan, i, electron.EELS, \n",
    "                                                    key_x_pos='x0', key_y_pos='y0')\n",
    "    EELS_dispersion.append(EELS_scan)\n",
    "\n",
    "\n",
    "#%% ---- plot dispersion\n",
    "ext = [map_pos.T[0].min(), map_pos.T[0].max(), energy.min(), energy.max()]\n",
    "\n",
    "plt.subplot()\n",
    "plt.xlabel(\"x position (nm)\")\n",
    "plt.ylabel(\"EELS energy (eV)\")\n",
    "im = plt.imshow(EELS_dispersion, extent=ext, aspect='auto', cmap='jet')\n",
    "plt.colorbar(im, label=\"EELS probability\")\n",
    "\n",
    "plt.show()"
   ]
  }
 ],
 "metadata": {
  "kernelspec": {
   "display_name": "Python 3",
   "language": "python",
   "name": "python3"
  },
  "language_info": {
   "codemirror_mode": {
    "name": "ipython",
    "version": 3
   },
   "file_extension": ".py",
   "mimetype": "text/x-python",
   "name": "python",
   "nbconvert_exporter": "python",
   "pygments_lexer": "ipython3",
   "version": "3.8.5"
  }
 },
 "nbformat": 4,
 "nbformat_minor": 2
}
