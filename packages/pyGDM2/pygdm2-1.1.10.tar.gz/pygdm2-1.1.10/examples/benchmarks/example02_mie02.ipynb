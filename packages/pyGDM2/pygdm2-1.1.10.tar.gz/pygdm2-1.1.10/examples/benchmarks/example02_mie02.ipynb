{
 "cells": [
  {
   "cell_type": "markdown",
   "metadata": {},
   "source": [
    "Gold nano-sphere\n",
    "============================\n",
    "*01/2021: updated to pyGDM v1.1+*\n",
    "\n",
    "Comparing pyGDM to Mie theory for a gold nano-sphere (D=50nm).\n",
    "\n",
    "Modules:"
   ]
  },
  {
   "cell_type": "code",
   "execution_count": 1,
   "metadata": {},
   "outputs": [],
   "source": [
    "from pyGDM2 import structures\n",
    "from pyGDM2 import materials\n",
    "from pyGDM2 import fields\n",
    "\n",
    "from pyGDM2 import core\n",
    "from pyGDM2 import propagators\n",
    "from pyGDM2 import tools\n",
    "from pyGDM2 import linear\n",
    "from pyGDM2 import visu\n",
    "\n",
    "import numpy as np\n",
    "import matplotlib.pyplot as plt\n",
    "\n",
    "\n",
    "## --- load pre-calculated Mie-data\n",
    "wl_mie, qext_mie, qsca_mie = np.loadtxt(\"scat_mie_Au_D50nm.txt\").T\n",
    "qabs_mie = qext_mie - qsca_mie"
   ]
  },
  {
   "cell_type": "markdown",
   "metadata": {},
   "source": [
    "Simulation setup\n",
    "--------------------"
   ]
  },
  {
   "cell_type": "code",
   "execution_count": 2,
   "metadata": {},
   "outputs": [
    {
     "name": "stdout",
     "output_type": "stream",
     "text": [
      "structure initialization - automatic mesh detection: hex\n",
      "structure initialization - consistency check: 1111/1111 dipoles valid\n"
     ]
    },
    {
     "name": "stderr",
     "output_type": "stream",
     "text": [
      "/home/hans/.local/lib/python3.8/site-packages/pyGDM2/visu.py:49: UserWarning: 3D data. Falling back to XY projection...\n",
      "  warnings.warn(\"3D data. Falling back to XY projection...\")\n"
     ]
    },
    {
     "data": {
      "image/png": "[encoded data removed]",
      "text/plain": [
       "<Figure size 432x288 with 1 Axes>"
      ]
     },
     "metadata": {
      "needs_background": "light"
     },
     "output_type": "display_data"
    },
    {
     "name": "stdout",
     "output_type": "stream",
     "text": [
      "(hex) ----- N_dipoles = 1111"
     ]
    }
   ],
   "source": [
    "## --- Setup incident field\n",
    "field_generator = fields.planewave\n",
    "## log-interval spectrum (denser at low lambda):\n",
    "wavelengths = np.exp(np.linspace(np.log(300), np.log(1000), 30))\n",
    "kwargs = dict(theta = [0.0])\n",
    "efield = fields.efield(field_generator, wavelengths=wavelengths, \n",
    "                                                   kwargs=kwargs)\n",
    "\n",
    "\n",
    "## --- Setup geometry (sphere D=50nm)\n",
    "scale_factor = 1.38\n",
    "step = 6.25/scale_factor\n",
    "radius = 4.*scale_factor\n",
    "geometry = structures.sphere(step, R=radius, mesh='hex', ORIENTATION=2)\n",
    "\n",
    "material = materials.gold()\n",
    "\n",
    "struct = structures.struct(step, geometry, material)\n",
    "\n",
    "## --- Setup environment (vacuum)\n",
    "n1, n2 = 1.0, 1.0     # vacuum env.\n",
    "dyads = propagators.DyadsQuasistatic123(n1, n2)\n",
    "\n",
    "\n",
    "sim = core.simulation(struct, efield, dyads)\n",
    "\n",
    "visu.structure(sim)\n",
    "print('(hex) ----- N_dipoles =', len(sim.struct.geometry), end='')"
   ]
  },
  {
   "cell_type": "markdown",
   "metadata": {},
   "source": [
    "Run the simulation\n",
    "--------------------------"
   ]
  },
  {
   "cell_type": "code",
   "execution_count": 3,
   "metadata": {},
   "outputs": [
    {
     "name": "stderr",
     "output_type": "stream",
     "text": [
      "/home/hans/.local/lib/python3.8/site-packages/numba/core/dispatcher.py:237: UserWarning: Numba extension module 'numba_scipy' failed to load due to 'ValueError(No function '__pyx_fuse_0pdtr' found in __pyx_capi__ of 'scipy.special.cython_special')'.\n",
      "  entrypoints.init_all()\n"
     ]
    },
    {
     "name": "stdout",
     "output_type": "stream",
     "text": [
      "timing for wl=300.00nm - setup: EE 13284.4ms, inv.: 4527.5ms, repropa.: 1862.3ms (1 field configs), tot: 19674.8ms\n",
      "timing for wl=312.72nm - setup: EE 911.8ms, inv.: 6771.9ms, repropa.: 15.1ms (1 field configs), tot: 7702.6ms\n",
      "timing for wl=325.97nm - setup: EE 258.5ms, inv.: 2074.0ms, repropa.: 23.3ms (1 field configs), tot: 2359.3ms\n",
      "timing for wl=339.79nm - setup: EE 336.9ms, inv.: 1916.8ms, repropa.: 13.3ms (1 field configs), tot: 2267.6ms\n",
      "timing for wl=354.20nm - setup: EE 243.4ms, inv.: 1510.4ms, repropa.: 12.4ms (1 field configs), tot: 1768.6ms\n",
      "timing for wl=369.21nm - setup: EE 224.8ms, inv.: 1598.5ms, repropa.: 12.5ms (1 field configs), tot: 1836.4ms\n",
      "timing for wl=384.86nm - setup: EE 234.6ms, inv.: 4438.9ms, repropa.: 23.8ms (1 field configs), tot: 4703.9ms\n",
      "timing for wl=401.17nm - setup: EE 794.2ms, inv.: 4267.2ms, repropa.: 28.9ms (1 field configs), tot: 5091.8ms\n",
      "timing for wl=418.18nm - setup: EE 771.5ms, inv.: 4049.0ms, repropa.: 32.7ms (1 field configs), tot: 4860.3ms\n",
      "timing for wl=435.91nm - setup: EE 628.8ms, inv.: 1935.9ms, repropa.: 12.3ms (1 field configs), tot: 2577.8ms\n",
      "timing for wl=454.39nm - setup: EE 275.9ms, inv.: 1699.5ms, repropa.: 12.1ms (1 field configs), tot: 1989.5ms\n",
      "timing for wl=473.65nm - setup: EE 246.3ms, inv.: 1721.3ms, repropa.: 17.1ms (1 field configs), tot: 1985.9ms\n",
      "timing for wl=493.72nm - setup: EE 288.8ms, inv.: 1667.4ms, repropa.: 12.9ms (1 field configs), tot: 1970.6ms\n",
      "timing for wl=514.65nm - setup: EE 234.8ms, inv.: 2055.5ms, repropa.: 25.0ms (1 field configs), tot: 2316.6ms\n",
      "timing for wl=536.47nm - setup: EE 691.7ms, inv.: 4105.6ms, repropa.: 25.0ms (1 field configs), tot: 4823.9ms\n",
      "timing for wl=559.21nm - setup: EE 723.7ms, inv.: 4432.8ms, repropa.: 28.3ms (1 field configs), tot: 5186.0ms\n",
      "timing for wl=582.92nm - setup: EE 955.0ms, inv.: 3917.9ms, repropa.: 13.5ms (1 field configs), tot: 4887.4ms\n",
      "timing for wl=607.63nm - setup: EE 316.0ms, inv.: 1781.6ms, repropa.: 12.4ms (1 field configs), tot: 2110.9ms\n",
      "timing for wl=633.38nm - setup: EE 228.8ms, inv.: 1599.2ms, repropa.: 12.1ms (1 field configs), tot: 1840.9ms\n",
      "timing for wl=660.23nm - setup: EE 204.5ms, inv.: 1638.7ms, repropa.: 14.1ms (1 field configs), tot: 1858.1ms\n",
      "timing for wl=688.22nm - setup: EE 213.5ms, inv.: 1579.3ms, repropa.: 13.4ms (1 field configs), tot: 1806.9ms\n",
      "timing for wl=717.39nm - setup: EE 211.7ms, inv.: 1607.6ms, repropa.: 14.2ms (1 field configs), tot: 1834.6ms\n",
      "timing for wl=747.80nm - setup: EE 239.5ms, inv.: 4543.4ms, repropa.: 27.3ms (1 field configs), tot: 4811.8ms\n",
      "timing for wl=779.50nm - setup: EE 638.9ms, inv.: 4769.9ms, repropa.: 24.7ms (1 field configs), tot: 5434.8ms\n",
      "timing for wl=812.55nm - setup: EE 754.9ms, inv.: 4584.1ms, repropa.: 12.0ms (1 field configs), tot: 5352.1ms\n",
      "timing for wl=846.99nm - setup: EE 214.8ms, inv.: 1681.3ms, repropa.: 12.3ms (1 field configs), tot: 1909.4ms\n",
      "timing for wl=882.90nm - setup: EE 221.9ms, inv.: 1663.7ms, repropa.: 16.4ms (1 field configs), tot: 1902.8ms\n",
      "timing for wl=920.32nm - setup: EE 234.0ms, inv.: 1581.0ms, repropa.: 14.0ms (1 field configs), tot: 1829.6ms\n",
      "timing for wl=959.33nm - setup: EE 202.4ms, inv.: 1506.4ms, repropa.: 12.6ms (1 field configs), tot: 1722.2ms\n",
      "timing for wl=1000.00nm - setup: EE 231.6ms, inv.: 1646.3ms, repropa.: 13.5ms (1 field configs), tot: 1892.0ms\n"
     ]
    }
   ],
   "source": [
    "## main simulation\n",
    "sim.scatter()\n",
    "\n",
    "## extinction spectrum\n",
    "field_kwargs = tools.get_possible_field_params_spectra(sim)[0]\n",
    "wl, spec = tools.calculate_spectrum(sim, field_kwargs, linear.extinct)\n",
    "a_ext, a_sca, a_abs = spec.T\n",
    "a_geo = tools.get_geometric_cross_section(sim)"
   ]
  },
  {
   "cell_type": "markdown",
   "metadata": {},
   "source": [
    "Plot the spectrum\n",
    "---------------------------"
   ]
  },
  {
   "cell_type": "code",
   "execution_count": 4,
   "metadata": {},
   "outputs": [
    {
     "data": {
      "image/png": "[encoded data removed]",
      "text/plain": [
       "<Figure size 432x288 with 1 Axes>"
      ]
     },
     "metadata": {
      "needs_background": "light"
     },
     "output_type": "display_data"
    }
   ],
   "source": [
    "plt.figure()\n",
    "plt.title(\"gold sphere, D=50nm\")\n",
    "\n",
    "## --- Mie\n",
    "plt.plot(wl_mie, qext_mie, 'b--', dashes=[2,1],label='ext.')\n",
    "plt.plot(wl_mie, qabs_mie, 'g--', dashes=[2,1],label='abs.')\n",
    "plt.plot(wl_mie, qsca_mie, 'r--', dashes=[2,1],label='scat.')\n",
    "\n",
    "## --- pyGDM\n",
    "plt.scatter(wl, a_ext/a_geo, marker='x', linewidth=1.5, color='b', label='')\n",
    "plt.scatter(wl, a_abs/a_geo, marker='x', linewidth=1.5, color='g', label='')\n",
    "plt.scatter(wl, a_sca/a_geo, marker='x', linewidth=1.5, color='r', label='')\n",
    "\n",
    "## --- for legend only\n",
    "plt.plot([0], [0], 'k--', dashes=[2,1], label='Mie')\n",
    "plt.scatter([0], [0], marker='x', linewidth=1.5, color='k', label='pyGDM')\n",
    "## -- legend\n",
    "plt.legend(loc='best', fontsize=12)\n",
    "\n",
    "\n",
    "plt.xlabel(\"wavelength (nm)\")\n",
    "plt.ylabel(\"ext. / scat. / abs. efficiency\")\n",
    "plt.xlim( [wl.min(), wl.max()] )\n",
    "plt.ylim( [0, 2] )\n",
    "\n",
    "\n",
    "plt.tight_layout()\n",
    "plt.show()"
   ]
  },
  {
   "cell_type": "markdown",
   "metadata": {},
   "source": [
    "Except a slight offset in the extinction/absorption sections, the agreement with Mie theory is pretty nice. In particular, the plasmon resonance wavelength is reproduced with very good agreement."
   ]
  }
 ],
 "metadata": {
  "kernelspec": {
   "display_name": "Python 3",
   "language": "python",
   "name": "python3"
  },
  "language_info": {
   "codemirror_mode": {
    "name": "ipython",
    "version": 3
   },
   "file_extension": ".py",
   "mimetype": "text/x-python",
   "name": "python",
   "nbconvert_exporter": "python",
   "pygments_lexer": "ipython3",
   "version": "3.8.5"
  }
 },
 "nbformat": 4,
 "nbformat_minor": 2
}
