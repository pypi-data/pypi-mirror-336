{
 "cells": [
  {
   "cell_type": "markdown",
   "metadata": {},
   "source": [
    "Maximize nearfield enhancement\n",
    "======================\n",
    "*01/2021: updated to pyGDM v1.1+*\n",
    "\n",
    "In this example, we will search for a gold nano-structure geometry which leads to maximum electric field enhancement at some position (again of course for a specific wavelength and light polarization).\n",
    "\n",
    "\n",
    "Load the modules\n",
    "-------------------"
   ]
  },
  {
   "cell_type": "code",
   "execution_count": 1,
   "metadata": {},
   "outputs": [],
   "source": [
    "from pyGDM2 import structures\n",
    "from pyGDM2 import materials\n",
    "from pyGDM2 import fields\n",
    "from pyGDM2 import propagators\n",
    "from pyGDM2 import core\n",
    "\n",
    "from pyGDM2.EO.problems import ProblemNearfield\n",
    "from pyGDM2.EO.models import RectangularAntenna\n",
    "from pyGDM2.EO.core import run_eo"
   ]
  },
  {
   "cell_type": "markdown",
   "metadata": {},
   "source": [
    "Setup and run the optimization\n",
    "-------------------------------\n",
    "\n",
    "Again, we setup first the pyGDM simulation and then the optimization model/problem/algorithm.\n",
    "The model will be again the simple rectangular structure, the problem is now the maximization of the nearfield.\n",
    "\n",
    "Finally we run the optimization.\n"
   ]
  },
  {
   "cell_type": "code",
   "execution_count": 2,
   "metadata": {},
   "outputs": [
    {
     "name": "stderr",
     "output_type": "stream",
     "text": [
      "/home/hans/.local/lib/python3.8/site-packages/pyGDM2/tools.py:817: UserWarning: Empty structure. Setting mesh to 'cubic'.\n",
      "  warnings.warn(\"Empty structure. Setting mesh to 'cubic'.\")\n",
      "/home/hans/.local/lib/python3.8/site-packages/pyGDM2/structures.py:183: UserWarning: Emtpy structure geometry.\n",
      "  warnings.warn(\"Emtpy structure geometry.\")\n",
      "/home/hans/.local/lib/python3.8/site-packages/pyGDM2/tools.py:835: UserWarning: Mesh not detected, falling back to 'cubic'.\n",
      "  warnings.warn(\"Mesh not detected, falling back to 'cubic'.\")\n",
      "/home/hans/.local/lib/python3.8/site-packages/numba/core/dispatcher.py:237: UserWarning: Numba extension module 'numba_scipy' failed to load due to 'ValueError(No function '__pyx_fuse_0pdtr' found in __pyx_capi__ of 'scipy.special.cython_special')'.\n",
      "  entrypoints.init_all()\n"
     ]
    },
    {
     "name": "stdout",
     "output_type": "stream",
     "text": [
      "structure initialization - automatic mesh detection: cube\n",
      "structure initialization - consistency check: 0/0 dipoles valid\n",
      "Rectangular Antenna optimziation model: Note that this simple model is rather intended for testing and demonstration purposes.\n",
      "\n",
      "----------------------------------------------\n",
      " Starting new optimization\n",
      "----------------------------------------------\n",
      "\n",
      "\n"
     ]
    },
    {
     "name": "stderr",
     "output_type": "stream",
     "text": [
      "/home/hans/.local/lib/python3.8/site-packages/pyGDM2/tools.py:835: UserWarning: Mesh not detected, falling back to 'cubic'.\n",
      "  warnings.warn(\"Mesh not detected, falling back to 'cubic'.\")\n"
     ]
    },
    {
     "name": "stdout",
     "output_type": "stream",
     "text": [
      "iter #  1, time:   22.9s, progress #  1, f_evals: 80\n"
     ]
    },
    {
     "name": "stderr",
     "output_type": "stream",
     "text": [
      "/home/hans/.local/lib/python3.8/site-packages/pyGDM2/EO/models.py:155: UserWarning: 'models.BaseModel.plot_structure' not re-implemented! Using `pyGDM2.visu.structure`.\n",
      "  warnings.warn(\"'models.BaseModel.plot_structure' not re-implemented! Using `pyGDM2.visu.structure`.\")\n",
      "/home/hans/.local/lib/python3.8/site-packages/pyGDM2/visu.py:49: UserWarning: 3D data. Falling back to XY projection...\n",
      "  warnings.warn(\"3D data. Falling back to XY projection...\")\n"
     ]
    },
    {
     "data": {
      "image/png": "[encoded data removed]",
      "text/plain": [
       "<Figure size 432x288 with 1 Axes>"
      ]
     },
     "metadata": {
      "needs_background": "light"
     },
     "output_type": "display_data"
    },
    {
     "name": "stderr",
     "output_type": "stream",
     "text": [
      "/home/hans/.local/lib/python3.8/site-packages/pyGDM2/tools.py:835: UserWarning: Mesh not detected, falling back to 'cubic'.\n",
      "  warnings.warn(\"Mesh not detected, falling back to 'cubic'.\")\n"
     ]
    },
    {
     "name": "stdout",
     "output_type": "stream",
     "text": [
      "        - champion fitness: [-2.4842]\n",
      "\n",
      "iter #  2, time:   41.0s, progress #  2, f_evals: 120\n",
      "        - champion fitness: [-7.8537]\n",
      "\n",
      "iter #  3, time:   65.5s, progress #  2, f_evals: 160(non-success: 1)\n",
      "iter #  4, time:   86.2s, progress #  2, f_evals: 200(non-success: 2)\n",
      "iter #  5, time:  110.8s, progress #  3, f_evals: 240\n",
      "        - champion fitness: [-8.896]\n",
      "\n",
      "iter #  6, time:  135.5s, progress #  3, f_evals: 280(non-success: 1)\n",
      "iter #  7, time:  156.6s, progress #  3, f_evals: 320(non-success: 2)\n",
      "iter #  8, time:  175.9s, progress #  3, f_evals: 360(non-success: 3)\n",
      "iter #  9, time:  207.5s, progress #  3, f_evals: 400(non-success: 4)\n",
      "iter # 10, time:  237.4s, progress #  3, f_evals: 440(non-success: 5)\n",
      "iter # 11, time:  264.9s, progress #  4, f_evals: 480\n",
      "        - champion fitness: [-13.634]\n",
      "\n",
      "iter # 12, time:  282.6s, progress #  5, f_evals: 520\n"
     ]
    },
    {
     "name": "stderr",
     "output_type": "stream",
     "text": [
      "/home/hans/.local/lib/python3.8/site-packages/pyGDM2/EO/models.py:155: UserWarning: 'models.BaseModel.plot_structure' not re-implemented! Using `pyGDM2.visu.structure`.\n",
      "  warnings.warn(\"'models.BaseModel.plot_structure' not re-implemented! Using `pyGDM2.visu.structure`.\")\n"
     ]
    },
    {
     "data": {
      "image/png": "[encoded data removed]",
      "text/plain": [
       "<Figure size 432x288 with 1 Axes>"
      ]
     },
     "metadata": {
      "needs_background": "light"
     },
     "output_type": "display_data"
    },
    {
     "name": "stdout",
     "output_type": "stream",
     "text": [
      "        - champion fitness: [-13.841]\n",
      "\n",
      "iter # 13, time:  312.3s, progress #  5, f_evals: 560(non-success: 1)\n",
      "iter # 14, time:  329.3s, progress #  5, f_evals: 600(non-success: 2)\n",
      "iter # 15, time:  345.5s, progress #  5, f_evals: 640(non-success: 3)\n",
      "iter # 16, time:  369.6s, progress #  6, f_evals: 680\n",
      "        - champion fitness: [-14.2]\n",
      "\n",
      "iter # 17, time:  387.0s, progress #  6, f_evals: 720(non-success: 1)\n",
      "iter # 18, time:  407.9s, progress #  6, f_evals: 760(non-success: 2)\n",
      "\n",
      " -------- timelimit reached\n"
     ]
    }
   ],
   "source": [
    "#==============================================================================\n",
    "# Setup pyGDM simulation\n",
    "#==============================================================================\n",
    "## ---------- Setup structure\n",
    "mesh = 'cube'\n",
    "step = 15\n",
    "material = materials.gold()        # material: gold\n",
    "## --- Empty dummy-geometry, will be replaced on run-time by EO trial geometries\n",
    "geometry = []       \n",
    "struct = structures.struct(step, geometry, material)\n",
    "\n",
    "\n",
    "## ---------- Setup incident field\n",
    "field_generator = fields.plane_wave       # planwave excitation\n",
    "kwargs = dict(theta = [0.0])              # target polarization\n",
    "wavelengths = [800]                       # target wavelength\n",
    "efield = fields.efield(field_generator, wavelengths=wavelengths, kwargs=kwargs)\n",
    "\n",
    "\n",
    "## ---------- environment\n",
    "dyads = propagators.DyadsQuasistatic123(n1=1, n2=1)\n",
    "\n",
    "\n",
    "## ---------- Simulation initialization\n",
    "sim = core.simulation(struct, efield, dyads)\n",
    "\n",
    "\n",
    "#==============================================================================\n",
    "# setup evolutionary optimization\n",
    "#==============================================================================\n",
    "## --- structure model and optimizaiton problem\n",
    "limits_W   = [2, 20]\n",
    "limits_L   = [2, 20] \n",
    "limits_pos = [-500, 500]\n",
    "height = 3\n",
    "model = RectangularAntenna(sim, limits_W, limits_L, limits_pos, height)\n",
    "\n",
    "target = 'E'\n",
    "r_probe = [-100, 150, 80]\n",
    "problem = ProblemNearfield(model, r_probe=r_probe, opt_target=target)\n",
    "\n",
    "\n",
    "\n",
    "## --- filename to save results \n",
    "results_filename = 'eo_NF.eo'\n",
    "\n",
    "## --- size of population\n",
    "population = 40          # Nr of individuals\n",
    "\n",
    "## --- stop criteria\n",
    "max_time = 400           # seconds\n",
    "max_iter = 30            # max. iterations\n",
    "max_nonsuccess = 10      # max. consecutive iterations without improvement\n",
    "\n",
    "## --- other config\n",
    "generations = 1          # generations to evolve between status reports\n",
    "plot_interval = 5        # plot each N improvements\n",
    "save_all_generations = False\n",
    "\n",
    "##  Use algorithm \"sade\" (jDE variant, a self-adaptive form of differential evolution)\n",
    "import pygmo as pg\n",
    "algorithm = pg.sade\n",
    "algorithm_kwargs = dict()   # optional kwargs passed to the algorithm\n",
    "\n",
    "\n",
    "eo_dict = run_eo(problem,\n",
    "                 population=population,\n",
    "                 algorithm=algorithm,\n",
    "                 plot_interval=plot_interval, \n",
    "                 generations=generations, \n",
    "                 max_time=max_time, max_iter=max_iter, max_nonsuccess=max_nonsuccess,\n",
    "                 filename=results_filename)"
   ]
  },
  {
   "cell_type": "markdown",
   "metadata": {},
   "source": [
    "**Note:** Since we have 4 free parameters (the scattering example had only 2), the convergence is visibly slower in this problem compared to the example maximizing the scattering.\n",
    "\n",
    "Load and analyze best solution\n",
    "-----------------------------------\n",
    "\n",
    "Let's calculate a nearfield map of the scattered field of the optimum structure"
   ]
  },
  {
   "cell_type": "code",
   "execution_count": 3,
   "metadata": {},
   "outputs": [
    {
     "name": "stdout",
     "output_type": "stream",
     "text": [
      "Best candidate after 17 iterations (with 5 improvements): fitness = ['-14.2']\n",
      "Testing: recalculating fitness...Done. Everything OK.\n",
      "\n",
      " ==================================================\n",
      "                    Problem: \n",
      "\tMaximization of near-field intensity\n",
      " target position: [-100  150   80]\n",
      " optimization: Nr of improvements 6\n",
      " optimization: best fitness [-14.20010433]\n",
      "===================================================\n",
      "\n"
     ]
    }
   ],
   "source": [
    "## --- load additional modules\n",
    "from pyGDM2 import linear\n",
    "from pyGDM2 import tools\n",
    "from pyGDM2 import visu\n",
    "\n",
    "from pyGDM2.EO.tools import get_best_candidate\n",
    "from pyGDM2.EO.tools import get_best_candidate_f_x\n",
    "from pyGDM2.EO.tools import get_problem\n",
    "\n",
    "import matplotlib.pyplot as plt\n",
    "\n",
    "\n",
    "#==============================================================================\n",
    "# Load best candidate from optimization\n",
    "#==============================================================================\n",
    "## --- optimization results file\n",
    "results_filename = 'eo_NF.eo'\n",
    "\n",
    "sim = get_best_candidate(results_filename, iteration=-1, verbose=True)\n",
    "problem = get_problem(results_filename)\n",
    "f, x, N_improvements = get_best_candidate_f_x(results_filename, iteration=-1)\n",
    "\n",
    "\n",
    "print('\\n ==================================================')\n",
    "print(\"                    Problem:\", problem.get_extra_info())\n",
    "print(\" target position: {}\".format(problem.r_probe.T[0]))\n",
    "print(\" optimization: Nr of improvements {}\".format(N_improvements))\n",
    "print(\" optimization: best fitness {}\".format(f))\n",
    "print('===================================================\\n')"
   ]
  },
  {
   "cell_type": "markdown",
   "metadata": {},
   "source": [
    "**Note:** We don't even have to setup a new simulation in this case, since we keep all parameters as during in the optimization (remember, when we were analyzing the optimum solution in the scattering example we calculated a whole spectrum which we don't need to do now). \n",
    "In this example, we will simply use the `simulation` object, returned by `get_best_candidate`. Since we didn't turn off the fitness-verification, `core.scatter` was already executed within `get_best_candidate`, so all we need to do is to use `linear.nearfield` to get the nearfield distribution on a 2D map outside the structure.\n",
    "\n",
    "Nearfield map above optimum solution\n",
    "-----------------------------------------"
   ]
  },
  {
   "cell_type": "code",
   "execution_count": 4,
   "metadata": {},
   "outputs": [],
   "source": [
    "## --- map 80nm above substrate\n",
    "MAP = tools.generate_NF_map_XY(-300,300,51, -300,300,51, Z0=80)\n",
    "Es, Etot, Bs, Btot = linear.nearfield(sim, field_index=0, r_probe=MAP)"
   ]
  },
  {
   "cell_type": "markdown",
   "metadata": {},
   "source": [
    "Finally, we plot the result (including the structure contour and target position of NF maximization):"
   ]
  },
  {
   "cell_type": "code",
   "execution_count": 5,
   "metadata": {},
   "outputs": [
    {
     "data": {
      "image/png": "[encoded data removed]",
      "text/plain": [
       "<Figure size 432x288 with 2 Axes>"
      ]
     },
     "metadata": {
      "needs_background": "light"
     },
     "output_type": "display_data"
    }
   ],
   "source": [
    "plt.figure()\n",
    "plt.subplot(aspect='equal')\n",
    "plt.title(\"E-field\")\n",
    "\n",
    "im = visu.structure_contour(sim, color='w', dashes=[2,2], show=0, zorder=10)\n",
    "im = visu.vectorfield_color(Es, show=0, interpolation='bicubic')\n",
    "plt.colorbar(im, label=r'$|\\mathbf{E}|^2/|\\mathbf{E}_0|^2$')\n",
    "\n",
    "plt.scatter(problem.r_probe[0], problem.r_probe[1], marker='x', lw=3, s=75, color='k', label='target')\n",
    "plt.legend(loc='best', fontsize=8)\n",
    "\n",
    "plt.xlabel(\"X (nm)\")\n",
    "plt.ylabel(\"Y (nm)\")\n",
    "plt.clim( [0, im.get_clim()[1]] )\n",
    "\n",
    "\n",
    "plt.tight_layout()\n",
    "plt.show()"
   ]
  },
  {
   "cell_type": "markdown",
   "metadata": {},
   "source": [
    "The optimization result has a nearfield hot-spot at the target position *(X,Y,Z)* = *(-100, 150, 80)*. \n",
    "\n",
    "This is a pretty encouraging result: Not only did the algorithm find a nano-rod resonant at the target wavelength, also it shifted the structure to the optimum location such that the spot of maximum field enhancement coincides with the target position."
   ]
  }
 ],
 "metadata": {
  "kernelspec": {
   "display_name": "Python 3",
   "language": "python",
   "name": "python3"
  },
  "language_info": {
   "codemirror_mode": {
    "name": "ipython",
    "version": 3
   },
   "file_extension": ".py",
   "mimetype": "text/x-python",
   "name": "python",
   "nbconvert_exporter": "python",
   "pygments_lexer": "ipython3",
   "version": "3.8.5"
  }
 },
 "nbformat": 4,
 "nbformat_minor": 2
}
