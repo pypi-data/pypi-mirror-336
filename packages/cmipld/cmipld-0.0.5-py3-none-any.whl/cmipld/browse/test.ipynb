{
 "cells": [
  {
   "cell_type": "code",
   "execution_count": null,
   "metadata": {},
   "outputs": [],
   "source": [
    "import cmipld\n"
   ]
  },
  {
   "cell_type": "code",
   "execution_count": null,
   "metadata": {},
   "outputs": [],
   "source": [
    "cmipld.processor.get('https://wcrp-cmip.github.io/WCRP-universe/realm/atmos.json')"
   ]
  },
  {
   "cell_type": "code",
   "execution_count": null,
   "metadata": {},
   "outputs": [],
   "source": [
    "\n",
    "\n",
    "# links = cmipld.processor.depends('https://wcrp-cmip.github.io/WCRP-universe/graph.jsonld') \n",
    "# # linktest/test2\n",
    "\n",
    "# # rm self option to get all\n",
    "\n",
    "# links"
   ]
  },
  {
   "cell_type": "code",
   "execution_count": null,
   "metadata": {},
   "outputs": [],
   "source": [
    "# cmipld.processor.find_missing('https://wcrp-cmip.github.io/WCRP-universe/graph.jsonld')"
   ]
  },
  {
   "cell_type": "code",
   "execution_count": null,
   "metadata": {},
   "outputs": [],
   "source": [
    "cmipld.processor.frame('wcrp-universe')"
   ]
  },
  {
   "cell_type": "code",
   "execution_count": 7,
   "metadata": {},
   "outputs": [
    {
     "name": "stdout",
     "output_type": "stream",
     "text": [
      "{'https://wcrp-cmip.github.io/WCRP-universe/activity/description': [{'@value': 'CMIP DECK: 1pctCO2, abrupt-4xCO2, amip, esm-piControl, esm-historical, historical, and piControl experiments'}], '@id': 'https://wcrp-cmip.github.io/WCRP-universe/activity/cmip', 'https://wcrp-cmip.github.io/WCRP-universe/activity/name': [{'@value': 'CMIP'}], '@type': ['https://wcrp-cmip.github.io/WCRP-universe/activity/activity'], 'https://wcrp-cmip.github.io/WCRP-universe/activity/url': [{'@value': 'https://gmd.copernicus.org/articles/9/1937/2016/gmd-9-1937-2016.pdf'}]}\n",
      "{'https://wcrp-cmip.github.io/WCRP-universe/activity/description': [{'@value': 'Regional Aerosol Model Intercomparison Project'}], '@id': 'https://wcrp-cmip.github.io/WCRP-universe/activity/ramip', 'https://wcrp-cmip.github.io/WCRP-universe/activity/name': [{'@value': 'RAMIP'}], '@type': ['https://wcrp-cmip.github.io/WCRP-universe/activity/activity'], 'https://wcrp-cmip.github.io/WCRP-universe/activity/url': [{'@value': 'https://ramip.ncas.ac.uk'}]}\n",
      "{'@id': 'https://wcrp-cmip.github.io/WCRP-universe/license/cc_by_4.0', 'https://wcrp-cmip.github.io/WCRP-universe/license/kind': [{'@value': 'CC BY 4.0'}], 'https://wcrp-cmip.github.io/WCRP-universe/license/license_id': [{'@value': 'Creative Commons Attribution 4.0 International'}], 'https://wcrp-cmip.github.io/WCRP-universe/license/license_url': [{'@value': 'https://creativecommons.org/licenses/by/4.0/'}], '@type': ['https://wcrp-cmip.github.io/WCRP-universe/license/license']}\n",
      "{'@reverse': {'https://wcrp-cmip.github.io/WCRP-universe/activity/source_activity': [{'https://wcrp-cmip.github.io/WCRP-universe/activity/description': [{'@value': 'CMIP DECK: 1pctCO2, abrupt-4xCO2, amip, esm-piControl, esm-historical, historical, and piControl experiments'}], '@id': 'https://wcrp-cmip.github.io/WCRP-universe/activity/cmip', 'https://wcrp-cmip.github.io/WCRP-universe/activity/name': [{'@value': 'CMIP'}], '@type': ['https://wcrp-cmip.github.io/WCRP-universe/activity/activity'], 'https://wcrp-cmip.github.io/WCRP-universe/activity/url': [{'@value': 'https://gmd.copernicus.org/articles/9/1937/2016/gmd-9-1937-2016.pdf'}]}, {'https://wcrp-cmip.github.io/WCRP-universe/activity/description': [{'@value': 'Regional Aerosol Model Intercomparison Project'}], '@id': 'https://wcrp-cmip.github.io/WCRP-universe/activity/ramip', 'https://wcrp-cmip.github.io/WCRP-universe/activity/name': [{'@value': 'RAMIP'}], '@type': ['https://wcrp-cmip.github.io/WCRP-universe/activity/activity'], 'https://wcrp-cmip.github.io/WCRP-universe/activity/url': [{'@value': 'https://ramip.ncas.ac.uk'}]}]}, 'https://wcrp-cmip.github.io/CMIP6Plus_CVs/source/activity_participation': [{'@value': 'CMIP'}, {'@value': 'RAMIP'}], 'https://wcrp-cmip.github.io/CMIP6Plus_CVs/source/cohort': [{'@value': 'Published'}], '@id': 'https://wcrp-cmip.github.io/CMIP6Plus_CVs/source/cesm2', 'https://wcrp-cmip.github.io/CMIP6Plus_CVs/source/label': [{'@value': 'CESM2'}], 'https://wcrp-cmip.github.io/CMIP6Plus_CVs/source/label-extended': [{'@value': 'CESM2'}], 'https://wcrp-cmip.github.io/CMIP6Plus_CVs/source/license': [{'@id': 'https://wcrp-cmip.github.io/WCRP-universe/license/cc_by_4.0', 'https://wcrp-cmip.github.io/WCRP-universe/license/kind': [{'@value': 'CC BY 4.0'}], 'https://wcrp-cmip.github.io/WCRP-universe/license/license_id': [{'@value': 'Creative Commons Attribution 4.0 International'}], 'https://wcrp-cmip.github.io/WCRP-universe/license/license_url': [{'@value': 'https://creativecommons.org/licenses/by/4.0/'}], '@type': ['https://wcrp-cmip.github.io/WCRP-universe/license/license']}], 'https://wcrp-cmip.github.io/CMIP6Plus_CVs/source/model-component': [{'@value': 'MAM4'}, {'@value': 'CAM6'}, {'@value': 'MAM4'}, {'@value': 'CLM5'}, {'@value': 'CISM2.1'}, {'@value': 'POP2'}, {'@value': 'MARBL'}, {'@value': 'CICE5.1'}], 'https://wcrp-cmip.github.io/CMIP6Plus_CVs/source/name': [{'@value': 'CESM2'}], 'https://wcrp-cmip.github.io/WCRP-universe/organisations/source_contribution': [{'@value': 'institutions/ncar'}], 'https://wcrp-cmip.github.io/CMIP6Plus_CVs/source/release_year': [{'@value': '2018'}], 'https://wcrp-cmip.github.io/CMIP6Plus_CVs/source/source_id': [{'@value': 'CESM2'}], '@type': ['https://wcrp-cmip.github.io/CMIP6Plus_CVs/source/source']}\n"
     ]
    },
    {
     "data": {
      "text/plain": [
       "[{'@reverse': {'https://wcrp-cmip.github.io/WCRP-universe/activity/source_activity': [{'https://wcrp-cmip.github.io/WCRP-universe/activity/description': [{'@value': 'CMIP DECK: 1pctCO2, abrupt-4xCO2, amip, esm-piControl, esm-historical, historical, and piControl experiments'}],\n",
       "     '@id': 'https://wcrp-cmip.github.io/WCRP-universe/activity/cmip',\n",
       "     'https://wcrp-cmip.github.io/WCRP-universe/activity/name': [{'@value': 'CMIP'}],\n",
       "     '@type': ['https://wcrp-cmip.github.io/WCRP-universe/activity/activity'],\n",
       "     'https://wcrp-cmip.github.io/WCRP-universe/activity/url': [{'@value': 'https://gmd.copernicus.org/articles/9/1937/2016/gmd-9-1937-2016.pdf'}]},\n",
       "    {'https://wcrp-cmip.github.io/WCRP-universe/activity/description': [{'@value': 'Regional Aerosol Model Intercomparison Project'}],\n",
       "     '@id': 'https://wcrp-cmip.github.io/WCRP-universe/activity/ramip',\n",
       "     'https://wcrp-cmip.github.io/WCRP-universe/activity/name': [{'@value': 'RAMIP'}],\n",
       "     '@type': ['https://wcrp-cmip.github.io/WCRP-universe/activity/activity'],\n",
       "     'https://wcrp-cmip.github.io/WCRP-universe/activity/url': [{'@value': 'https://ramip.ncas.ac.uk'}]}]},\n",
       "  'https://wcrp-cmip.github.io/CMIP6Plus_CVs/source/activity_participation': [{'@value': 'CMIP'},\n",
       "   {'@value': 'RAMIP'}],\n",
       "  'https://wcrp-cmip.github.io/CMIP6Plus_CVs/source/cohort': [{'@value': 'Published'}],\n",
       "  '@id': 'https://wcrp-cmip.github.io/CMIP6Plus_CVs/source/cesm2',\n",
       "  'https://wcrp-cmip.github.io/CMIP6Plus_CVs/source/label': [{'@value': 'CESM2'}],\n",
       "  'https://wcrp-cmip.github.io/CMIP6Plus_CVs/source/label-extended': [{'@value': 'CESM2'}],\n",
       "  'https://wcrp-cmip.github.io/CMIP6Plus_CVs/source/license': [{'@id': 'https://wcrp-cmip.github.io/WCRP-universe/license/cc_by_4.0',\n",
       "    'https://wcrp-cmip.github.io/WCRP-universe/license/kind': [{'@value': 'CC BY 4.0'}],\n",
       "    'https://wcrp-cmip.github.io/WCRP-universe/license/license_id': [{'@value': 'Creative Commons Attribution 4.0 International'}],\n",
       "    'https://wcrp-cmip.github.io/WCRP-universe/license/license_url': [{'@value': 'https://creativecommons.org/licenses/by/4.0/'}],\n",
       "    '@type': ['https://wcrp-cmip.github.io/WCRP-universe/license/license']}],\n",
       "  'https://wcrp-cmip.github.io/CMIP6Plus_CVs/source/model-component': [{'@value': 'MAM4'},\n",
       "   {'@value': 'CAM6'},\n",
       "   {'@value': 'MAM4'},\n",
       "   {'@value': 'CLM5'},\n",
       "   {'@value': 'CISM2.1'},\n",
       "   {'@value': 'POP2'},\n",
       "   {'@value': 'MARBL'},\n",
       "   {'@value': 'CICE5.1'}],\n",
       "  'https://wcrp-cmip.github.io/CMIP6Plus_CVs/source/name': [{'@value': 'CESM2'}],\n",
       "  'https://wcrp-cmip.github.io/WCRP-universe/organisations/source_contribution': [{'@value': 'institutions/ncar'}],\n",
       "  'https://wcrp-cmip.github.io/CMIP6Plus_CVs/source/release_year': [{'@value': '2018'}],\n",
       "  'https://wcrp-cmip.github.io/CMIP6Plus_CVs/source/source_id': [{'@value': 'CESM2'}],\n",
       "  '@type': ['https://wcrp-cmip.github.io/CMIP6Plus_CVs/source/source']}]"
      ]
     },
     "execution_count": 7,
     "metadata": {},
     "output_type": "execute_result"
    }
   ],
   "source": [
    "import cmipld\n",
    "\n",
    "cmipld.processor.get('https://wcrp-cmip.github.io/CMIP6Plus_CVs/source/cesm2')\n",
    "\n",
    "\n"
   ]
  },
  {
   "cell_type": "code",
   "execution_count": 12,
   "metadata": {},
   "outputs": [
    {
     "data": {
      "text/plain": [
       "{'@id': 'cesm2',\n",
       " '@reverse': {'https://wcrp-cmip.github.io/WCRP-universe/activity/source_activity': [{'@id': '../../WCRP-universe/activity/cmip'},\n",
       "   {'@id': '../../WCRP-universe/activity/ramip'}]},\n",
       " '@type': 'https://wcrp-cmip.github.io/CMIP6Plus_CVs/source/source',\n",
       " 'https://wcrp-cmip.github.io/CMIP6Plus_CVs/source/activity_participation': ['CMIP',\n",
       "  'RAMIP'],\n",
       " 'https://wcrp-cmip.github.io/CMIP6Plus_CVs/source/cohort': 'Published',\n",
       " 'https://wcrp-cmip.github.io/CMIP6Plus_CVs/source/label': 'CESM2',\n",
       " 'https://wcrp-cmip.github.io/CMIP6Plus_CVs/source/label-extended': 'CESM2',\n",
       " 'https://wcrp-cmip.github.io/CMIP6Plus_CVs/source/license': {'@id': '../../WCRP-universe/license/cc_by_4.0',\n",
       "  'https://wcrp-cmip.github.io/WCRP-universe/license/exceptions_contact': '@ucar.edu <- cesm_cmip6',\n",
       "  'https://wcrp-cmip.github.io/WCRP-universe/license/source-specific-info': ''},\n",
       " 'https://wcrp-cmip.github.io/CMIP6Plus_CVs/source/model-component': ['MAM4',\n",
       "  'CAM6',\n",
       "  'MAM4',\n",
       "  'CLM5',\n",
       "  'CISM2.1',\n",
       "  'POP2',\n",
       "  'MARBL',\n",
       "  'CICE5.1'],\n",
       " 'https://wcrp-cmip.github.io/CMIP6Plus_CVs/source/name': 'CESM2',\n",
       " 'https://wcrp-cmip.github.io/CMIP6Plus_CVs/source/release_year': '2018',\n",
       " 'https://wcrp-cmip.github.io/CMIP6Plus_CVs/source/source_id': 'CESM2',\n",
       " 'https://wcrp-cmip.github.io/WCRP-universe/organisations/source_contribution': 'institutions/ncar'}"
      ]
     },
     "execution_count": 12,
     "metadata": {},
     "output_type": "execute_result"
    }
   ],
   "source": [
    "from pyld import jsonld\n",
    "cmipld.processor.compact('https://wcrp-cmip.github.io/CMIP6Plus_CVs/source/cesm2')\n"
   ]
  },
  {
   "cell_type": "code",
   "execution_count": null,
   "metadata": {},
   "outputs": [],
   "source": []
  },
  {
   "cell_type": "code",
   "execution_count": null,
   "metadata": {},
   "outputs": [],
   "source": [
    "from pyld import jsonld\n",
    "jsonld.expand('https://wcrp-cmip.github.io/WCRP-universe/activity/cmip')"
   ]
  },
  {
   "cell_type": "code",
   "execution_count": null,
   "metadata": {},
   "outputs": [],
   "source": [
    "\n",
    "from pyld import jsonld\n",
    "frm = {'@context':\"https://WCRP-CMIP.github.io/WCRP-universe/realm/_context\",\"@id\": \"https://wcrp-cmip.github.io/WCRP-universe/realm/atmos\"}\n",
    "jsonld.compact(jsonld.frame('https://wcrp-cmip.github.io/WCRP-universe/graph', frm),frm)\n",
    "\n",
    "\n",
    "# get ctx form id or url or type"
   ]
  },
  {
   "cell_type": "code",
   "execution_count": null,
   "metadata": {},
   "outputs": [],
   "source": [
    "jsonld.frame('https://wcrp-cmip.github.io/WCRP-universe/graph.jsonld', {\"@id\": \"https://wcrp-cmip.github.io/WCRP-universe/linktest/test2\",\"@embed\":\"@always\"})"
   ]
  },
  {
   "cell_type": "code",
   "execution_count": 13,
   "metadata": {},
   "outputs": [
    {
     "data": {
      "text/plain": [
       "{'wcrp-universe': 'https://wcrp-cmip.github.io/WCRP-universe/',\n",
       " 'mip-variables': 'https://wcrp-cmip.github.io/MIP-variables/',\n",
       " 'cmip6plus': 'https://wcrp-cmip.github.io/CMIP6Plus_CVs/',\n",
       " 'cmip7': 'https://wcrp-cmip.github.io/CMIP7_CVs/',\n",
       " 'cf': 'https://wcrp-cmip.github.io/CF/',\n",
       " 'obs4mips': 'https://wolfiex.github.io/obs4MIPs-cmor-tables-ld//'}"
      ]
     },
     "execution_count": 13,
     "metadata": {},
     "output_type": "execute_result"
    }
   ],
   "source": [
    "cmipld.mapping"
   ]
  },
  {
   "cell_type": "code",
   "execution_count": null,
   "metadata": {},
   "outputs": [],
   "source": [
    "# jsonld.frame('https://wcrp-cmip.github.io/WCRP-universe/graph.jsonld', {\"@embed\":\"@always\"})"
   ]
  },
  {
   "cell_type": "code",
   "execution_count": null,
   "metadata": {},
   "outputs": [],
   "source": [
    "from pyld import jsonld\n",
    "\n",
    "jsonld.frame('https://wcrp-cmip.github.io/WCRP-universe/graph.jsonld', { \"@context\": \"https://wcrp-cmip.github.io/WCRP-universe/_context_\",\"@type\":'universal:organisation/organisation',\"universal:institution:name\":{},\"universal:consortium:name\":{},\"@explicit\":True})"
   ]
  },
  {
   "cell_type": "code",
   "execution_count": null,
   "metadata": {},
   "outputs": [],
   "source": [
    "# jsonld.expand(\"https://wcrp-cmip.github.io/WCRP-universe/consortia/miroc\")/"
   ]
  },
  {
   "cell_type": "code",
   "execution_count": null,
   "metadata": {},
   "outputs": [],
   "source": [
    "jsonld.compact(\"https://wcrp-cmip.github.io/CMIP6Plus_CVs/source/cesm2\",\"https://wcrp-cmip.github.io/CMIP6Plus_CVs/source/cesm2\")"
   ]
  },
  {
   "cell_type": "markdown",
   "metadata": {},
   "source": []
  }
 ],
 "metadata": {
  "kernelspec": {
   "display_name": "base",
   "language": "python",
   "name": "python3"
  },
  "language_info": {
   "codemirror_mode": {
    "name": "ipython",
    "version": 3
   },
   "file_extension": ".py",
   "mimetype": "text/x-python",
   "name": "python",
   "nbconvert_exporter": "python",
   "pygments_lexer": "ipython3",
   "version": "3.10.10"
  }
 },
 "nbformat": 4,
 "nbformat_minor": 2
}
