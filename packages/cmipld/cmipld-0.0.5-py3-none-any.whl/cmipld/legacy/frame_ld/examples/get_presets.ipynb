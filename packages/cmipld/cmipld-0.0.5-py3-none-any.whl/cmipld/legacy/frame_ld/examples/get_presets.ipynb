{
 "cells": [
  {
   "cell_type": "code",
   "execution_count": 1,
   "metadata": {},
   "outputs": [],
   "source": [
    "import execjs, glob, os, re, sys,json"
   ]
  },
  {
   "cell_type": "code",
   "execution_count": 2,
   "metadata": {},
   "outputs": [],
   "source": [
    "\n",
    "def extract_frame(file):\n",
    "    \n",
    "    js_code = open(file, 'r').read()\n",
    "    \n",
    "    frame = js_code.split('jsonld.frame')[0].split('const frame')[1]\n",
    "    \n",
    "    # return re.sub(r'[\\n\\t\\s=]+', '', frame)\n",
    "    # json.loads(frame)\n",
    "    \n",
    "    import execjs\n",
    "\n",
    "    ctx = execjs.compile('frame '+frame)\n",
    "    fm = ctx.eval('frame')\n",
    "    try:\n",
    "        del fm['@context']\n",
    "    except:\n",
    "        ...\n",
    "    return fm\n"
   ]
  },
  {
   "cell_type": "code",
   "execution_count": 3,
   "metadata": {},
   "outputs": [
    {
     "data": {
      "text/plain": [
       "{'@type': 'mip:experiment-id',\n",
       " 'experiment-id:activity-id': {'activity-id:name': {}, '@explicit': True},\n",
       " 'experiment-id:model-components': {'experiment-id:additional-allowed': {'source-type:name': '',\n",
       "   '@explicit': True},\n",
       "  'experiment-id:required': {'source-type:name': '', '@explicit': True}}}"
      ]
     },
     "execution_count": 3,
     "metadata": {},
     "output_type": "execute_result"
    }
   ],
   "source": [
    "extract_frame('/Users/daniel.ellis/WIPwork/CMIP6Plus_CVs/JSONLD/scripts/node_scripts/experiment-id.js')"
   ]
  },
  {
   "cell_type": "code",
   "execution_count": 4,
   "metadata": {},
   "outputs": [
    {
     "data": {
      "text/plain": [
       "{'cmip6plus': ['/Users/daniel.ellis/WIPwork/CMIP6Plus_CVs/JSONLD/scripts/node_scripts/sub-experiment-id.js',\n",
       "  '/Users/daniel.ellis/WIPwork/CMIP6Plus_CVs/JSONLD/scripts/node_scripts/source-id.js',\n",
       "  '/Users/daniel.ellis/WIPwork/CMIP6Plus_CVs/JSONLD/scripts/node_scripts/cmip6plus_institutions.js',\n",
       "  '/Users/daniel.ellis/WIPwork/CMIP6Plus_CVs/JSONLD/scripts/node_scripts/experiment-id.js',\n",
       "  '/Users/daniel.ellis/WIPwork/CMIP6Plus_CVs/JSONLD/scripts/node_scripts/descriptors.js',\n",
       "  '/Users/daniel.ellis/WIPwork/CMIP6Plus_CVs/JSONLD/scripts/node_scripts/license.js'],\n",
       " 'miptables': ['/Users/daniel.ellis/WIPwork/mip-cmor-tables/JSONLD/scripts/node_scripts/make_license.js',\n",
       "  '/Users/daniel.ellis/WIPwork/mip-cmor-tables/JSONLD/scripts/node_scripts/make_realm.js',\n",
       "  '/Users/daniel.ellis/WIPwork/mip-cmor-tables/JSONLD/scripts/node_scripts/make_source_type.js',\n",
       "  '/Users/daniel.ellis/WIPwork/mip-cmor-tables/JSONLD/scripts/node_scripts/make_organisations.js',\n",
       "  '/Users/daniel.ellis/WIPwork/mip-cmor-tables/JSONLD/scripts/node_scripts/make_frequency.js',\n",
       "  '/Users/daniel.ellis/WIPwork/mip-cmor-tables/JSONLD/scripts/node_scripts/make_grid_label.js']}"
      ]
     },
     "execution_count": 4,
     "metadata": {},
     "output_type": "execute_result"
    }
   ],
   "source": [
    "files= dict(cmip6plus=glob.glob('/Users/daniel.ellis/WIPwork/CMIP6Plus_CVs/JSONLD/scripts/node_scripts/*.js') , miptables = glob.glob('/Users/daniel.ellis/WIPwork/mip-cmor-tables/JSONLD/scripts/node_scripts/*.js'))\n",
    "\n",
    "files"
   ]
  },
  {
   "cell_type": "code",
   "execution_count": 7,
   "metadata": {},
   "outputs": [
    {
     "data": {
      "text/plain": [
       "{'cmip6plus': {'sub-experiment-id': {'@type': ['mip:sub-experiment-id'],\n",
       "   'sub-experiment-id:sub-experiment-id': {},\n",
       "   'sub-experiment-id:description': {}},\n",
       "  'source-id': {'@type': ['mip:source-id'],\n",
       "   'source-id:activity-participation': [{'activity-id:name': '',\n",
       "     '@explicit': True}],\n",
       "   'source-id:model-component': [{'model-component:name': '',\n",
       "     'model-component:realm': {'realm:name': '', '@explicit': True},\n",
       "     'source-id:license': {'kind': {}},\n",
       "     '@explicit': True}]},\n",
       "  'cmip6plus-institutions': {'@type': ['mip:source-id'],\n",
       "   'source-id:organisation-id': {'@type': ['mip:institution',\n",
       "     'mip:consortium'],\n",
       "    '@explicit': True,\n",
       "    'consortium:cmip_acronym': '',\n",
       "    'institution:cmip_acronym': '',\n",
       "    'consortium:description': '',\n",
       "    'institution:name': '',\n",
       "    'institution:ror': '',\n",
       "    'consortium:members': {'institution:institution': {'debugid': {},\n",
       "      '@explicit': False},\n",
       "     '@explicit': True}},\n",
       "   '@explicit': True},\n",
       "  'experiment-id': {'@type': 'mip:experiment-id',\n",
       "   'experiment-id:activity-id': {'activity-id:name': {}, '@explicit': True},\n",
       "   'experiment-id:model-components': {'experiment-id:additional-allowed': {'source-type:name': '',\n",
       "     '@explicit': True},\n",
       "    'experiment-id:required': {'source-type:name': '', '@explicit': True}}},\n",
       "  'descriptors': {'@type': ['mip:core-descriptors'],\n",
       "   'core:mip-era': {'mip:name': {}, '@explicit': True},\n",
       "   'core:product': {'product:kind': {}, '@explicit': True},\n",
       "   'core:drs': {}},\n",
       "  'license': {'@type': 'mip:license',\n",
       "   '@id': 'mip-cmor-tables:license/cc-by-4.0'}},\n",
       " 'miptables': {'license': {'@type': ['mip:license']},\n",
       "  'realm': {'@type': ['mip:realm']},\n",
       "  'source-type': {'@type': ['mip:source-type']},\n",
       "  'organisations': {'@type': ['mip:institution', 'mip:consortium'],\n",
       "   '@explicit': True,\n",
       "   'consortium:cmip_acronym': '',\n",
       "   'institution:cmip_acronym': '',\n",
       "   'consortium:description': '',\n",
       "   'institution:name': '',\n",
       "   'institution:ror': ''},\n",
       "  'frequency': {'@type': ['mip:frequency'],\n",
       "   'frequency:name': '',\n",
       "   'frequency:long_name': '',\n",
       "   'frequency:description': '',\n",
       "   '@explicit': True},\n",
       "  'grid-label': {'@type': ['mip:grid-label']}}}"
      ]
     },
     "execution_count": 7,
     "metadata": {},
     "output_type": "execute_result"
    }
   ],
   "source": [
    "collection = {}\n",
    "for k, locations in files.items():\n",
    "    collection[k] = {}\n",
    "    for f in locations:\n",
    "        short = os.path.basename(f)\n",
    "        short = short.replace('.js', '').replace('make_', '').replace(\"_\", \"-\" )\n",
    "        collection[k][short] = extract_frame(f)\n",
    "    \n",
    "collection"
   ]
  },
  {
   "cell_type": "code",
   "execution_count": 8,
   "metadata": {},
   "outputs": [],
   "source": [
    "with open('./frames.json', 'w') as f:\n",
    "    json.dump(collection, f, indent=2)"
   ]
  },
  {
   "cell_type": "code",
   "execution_count": null,
   "metadata": {},
   "outputs": [],
   "source": []
  }
 ],
 "metadata": {
  "kernelspec": {
   "display_name": "base",
   "language": "python",
   "name": "python3"
  },
  "language_info": {
   "codemirror_mode": {
    "name": "ipython",
    "version": 3
   },
   "file_extension": ".py",
   "mimetype": "text/x-python",
   "name": "python",
   "nbconvert_exporter": "python",
   "pygments_lexer": "ipython3",
   "version": "3.10.10"
  }
 },
 "nbformat": 4,
 "nbformat_minor": 2
}
