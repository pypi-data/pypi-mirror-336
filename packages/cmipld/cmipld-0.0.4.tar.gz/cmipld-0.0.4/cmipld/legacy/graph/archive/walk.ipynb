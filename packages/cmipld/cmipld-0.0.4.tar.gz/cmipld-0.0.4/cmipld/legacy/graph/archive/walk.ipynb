{
 "cells": [
  {
   "cell_type": "code",
   "execution_count": null,
   "metadata": {},
   "outputs": [],
   "source": [
    "import json \n",
    "from pprint import pprint\n"
   ]
  },
  {
   "cell_type": "code",
   "execution_count": null,
   "metadata": {},
   "outputs": [],
   "source": [
    "graph = json.load(open('graph.json'))\n",
    "links = graph['links']\n",
    "types = graph['types']"
   ]
  },
  {
   "cell_type": "code",
   "execution_count": null,
   "metadata": {},
   "outputs": [],
   "source": [
    "types"
   ]
  },
  {
   "cell_type": "code",
   "execution_count": null,
   "metadata": {},
   "outputs": [],
   "source": [
    "selection = 'mip:source-id'\n",
    "sid = types[selection]\n",
    "filtered_links = [link for link in links if link['source'] == sid]\n",
    "filtered_links"
   ]
  },
  {
   "cell_type": "code",
   "execution_count": null,
   "metadata": {},
   "outputs": [],
   "source": [
    "def walk_graph(sid):\n",
    "    links = [link for link in graph['links'] if link['source'] == sid]\n",
    "    if len(links) == 0:\n",
    "        return {'@extend':True}\n",
    "    \n",
    "    output = {}\n",
    "    for link in links:\n",
    "        output[link['predicate']] = walk_graph(link['target'])\n",
    "        \n",
    "    return output\n",
    "\n",
    "\n",
    "def get_context(selection):\n",
    "# selection = 'mip:source-id'\n",
    "    sid = types[selection]\n",
    "    structure = walk_graph(sid)\n",
    "    return json.dumps({\"@context\":{\"@vocab\":selection.replace('mip:',''),**structure}}, indent=2)\n",
    "        "
   ]
  },
  {
   "cell_type": "code",
   "execution_count": null,
   "metadata": {},
   "outputs": [],
   "source": [
    "print(get_context('mip:source-id')+',')"
   ]
  },
  {
   "cell_type": "code",
   "execution_count": null,
   "metadata": {},
   "outputs": [],
   "source": [
    "from __init__ import *\n",
    "g = JSONLDProcessor()\n",
    "# g.read_graph\n",
    "await g.make_graph(['/Users/daniel.ellis/WIPwork/CMIP6Plus_CVs/compiled/graph_data.json','/Users/daniel.ellis/WIPwork/CMIP6Plus_CVs/compiled/graph_data.json'])\n"
   ]
  },
  {
   "cell_type": "code",
   "execution_count": null,
   "metadata": {},
   "outputs": [],
   "source": []
  }
 ],
 "metadata": {
  "kernelspec": {
   "display_name": "base",
   "language": "python",
   "name": "python3"
  },
  "language_info": {
   "codemirror_mode": {
    "name": "ipython",
    "version": 3
   },
   "file_extension": ".py",
   "mimetype": "text/x-python",
   "name": "python",
   "nbconvert_exporter": "python",
   "pygments_lexer": "ipython3",
   "version": "3.10.10"
  }
 },
 "nbformat": 4,
 "nbformat_minor": 2
}
