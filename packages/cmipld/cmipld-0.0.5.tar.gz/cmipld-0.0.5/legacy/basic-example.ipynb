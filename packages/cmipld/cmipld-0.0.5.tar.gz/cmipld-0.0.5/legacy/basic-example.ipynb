{
 "cells": [
  {
   "cell_type": "code",
   "execution_count": 1,
   "metadata": {},
   "outputs": [],
   "source": [
    "# Import the library\n",
    "from cmipld import *"
   ]
  },
  {
   "cell_type": "code",
   "execution_count": 11,
   "metadata": {},
   "outputs": [
    {
     "name": "stdout",
     "output_type": "stream",
     "text": [
      "Loading latest CMIP6Plus and MIP-CMOR-Tables files...\n"
     ]
    }
   ],
   "source": [
    "# we can load the latest cmpi6plus and mip table files from github\n",
    "latest = await CMIPFileUtils.load_latest(CMIPFileUtils)"
   ]
  },
  {
   "cell_type": "code",
   "execution_count": 12,
   "metadata": {},
   "outputs": [],
   "source": [
    "# or we can load a file from the file store\n",
    "graph_data = await CMIPFileUtils.read_file_fs('compiled/graph_data.json')"
   ]
  },
  {
   "cell_type": "code",
   "execution_count": 20,
   "metadata": {},
   "outputs": [],
   "source": [
    "# define our frame (what we want to search, or use one of the presets. \n",
    "# here I select all the source_id's using the @type selector \n",
    "# from the organisation-id field I select all institutions and consortiums\n",
    "# finally I ask only for the cmip_acronym field\n",
    "\n",
    "frame = {\n",
    "    \"@type\": [\n",
    "        \"mip:source-id\"\n",
    "    ],\n",
    "    \"source-id:organisation-id\": {\n",
    "        \"@type\": [\n",
    "            \"mip:institution\",\n",
    "            \"mip:consortium\"\n",
    "        ],\n",
    "        \"@explicit\": True,\n",
    "        \"consortium:cmip_acronym\": \"\",\n",
    "        \"institution:cmip_acronym\": \"\",\n",
    "        \"@explicit\": True\n",
    "        },\n",
    "    \"@explicit\": True\n",
    "    }"
   ]
  },
  {
   "cell_type": "code",
   "execution_count": 21,
   "metadata": {},
   "outputs": [],
   "source": [
    "# get the result\n",
    "result = Frame(latest, frame)"
   ]
  },
  {
   "cell_type": "code",
   "execution_count": 23,
   "metadata": {},
   "outputs": [
    {
     "data": {
      "text/plain": [
       "[{'@id': 'cmip6plus:source/id/giss-e2-1-g',\n",
       "  '@type': 'mip:source-id',\n",
       "  'source-id:organisation-id': {'@id': 'mip-cmor-tables:organisations/institutions/nasa-giss',\n",
       "   '@type': 'mip:institution',\n",
       "   'consortium:cmip_acronym': None,\n",
       "   'institution:cmip_acronym': 'NASA-GISS'}},\n",
       " {'@id': 'cmip6plus:source/id/hadgem3-gc31-ll',\n",
       "  '@type': 'mip:source-id',\n",
       "  'source-id:organisation-id': {'@id': 'mip-cmor-tables:organisations/institutions/mohc',\n",
       "   '@type': 'mip:institution',\n",
       "   'consortium:cmip_acronym': None,\n",
       "   'institution:cmip_acronym': 'MOHC'}},\n",
       " {'@id': 'cmip6plus:source/id/miroc6',\n",
       "  '@type': 'mip:source-id',\n",
       "  'source-id:organisation-id': {'@id': 'mip-cmor-tables:organisations/consortia/miroc',\n",
       "   '@type': 'mip:consortium',\n",
       "   'consortium:cmip_acronym': 'MIROC',\n",
       "   'institution:cmip_acronym': None}},\n",
       " {'@id': 'cmip6plus:source/id/mpi-esm1-2-hr',\n",
       "  '@type': 'mip:source-id',\n",
       "  'source-id:organisation-id': {'@id': 'mip-cmor-tables:organisations/institutions/mpi-m',\n",
       "   '@type': 'mip:institution',\n",
       "   'consortium:cmip_acronym': None,\n",
       "   'institution:cmip_acronym': 'MPI-M'}},\n",
       " {'@id': 'cmip6plus:source/id/mpi-esm1-2-lr',\n",
       "  '@type': 'mip:source-id',\n",
       "  'source-id:organisation-id': {'@id': 'mip-cmor-tables:organisations/institutions/mpi-m',\n",
       "   '@type': 'mip:institution',\n",
       "   'consortium:cmip_acronym': None,\n",
       "   'institution:cmip_acronym': 'MPI-M'}},\n",
       " {'@id': 'cmip6plus:source/id/noresm2-lm',\n",
       "  '@type': 'mip:source-id',\n",
       "  'source-id:organisation-id': {'@id': 'mip-cmor-tables:organisations/consortia/ncc',\n",
       "   '@type': 'mip:consortium',\n",
       "   'consortium:cmip_acronym': 'NCC',\n",
       "   'institution:cmip_acronym': None}}]"
      ]
     },
     "execution_count": 23,
     "metadata": {},
     "output_type": "execute_result"
    }
   ],
   "source": [
    "# preview it with print\n",
    "result.print"
   ]
  },
  {
   "cell_type": "code",
   "execution_count": 26,
   "metadata": {},
   "outputs": [
    {
     "name": "stdout",
     "output_type": "stream",
     "text": [
      "[{'@id': 'cmip6plus:source/id/giss-e2-1-g',\n",
      "  '@type': 'mip:source-id',\n",
      "  'organisation-id': {'@id': 'mip-cmor-tables:organisations/institutions/nasa-giss',\n",
      "                      '@type': 'mip:institution',\n",
      "                      'cmip_acronym': 'NASA-GISS'}},\n",
      " {'@id': 'cmip6plus:source/id/hadgem3-gc31-ll',\n",
      "  '@type': 'mip:source-id',\n",
      "  'organisation-id': {'@id': 'mip-cmor-tables:organisations/institutions/mohc',\n",
      "                      '@type': 'mip:institution',\n",
      "                      'cmip_acronym': 'MOHC'}},\n",
      " {'@id': 'cmip6plus:source/id/miroc6',\n",
      "  '@type': 'mip:source-id',\n",
      "  'organisation-id': {'@id': 'mip-cmor-tables:organisations/consortia/miroc',\n",
      "                      '@type': 'mip:consortium',\n",
      "                      'cmip_acronym': 'MIROC'}},\n",
      " {'@id': 'cmip6plus:source/id/mpi-esm1-2-hr',\n",
      "  '@type': 'mip:source-id',\n",
      "  'organisation-id': {'@id': 'mip-cmor-tables:organisations/institutions/mpi-m',\n",
      "                      '@type': 'mip:institution',\n",
      "                      'cmip_acronym': 'MPI-M'}},\n",
      " {'@id': 'cmip6plus:source/id/mpi-esm1-2-lr',\n",
      "  '@type': 'mip:source-id',\n",
      "  'organisation-id': {'@id': 'mip-cmor-tables:organisations/institutions/mpi-m',\n",
      "                      '@type': 'mip:institution',\n",
      "                      'cmip_acronym': 'MPI-M'}},\n",
      " {'@id': 'cmip6plus:source/id/noresm2-lm',\n",
      "  '@type': 'mip:source-id',\n",
      "  'organisation-id': {'@id': 'mip-cmor-tables:organisations/consortia/ncc',\n",
      "                      '@type': 'mip:consortium',\n",
      "                      'cmip_acronym': 'NCC'}}]\n"
     ]
    }
   ],
   "source": [
    "# there are several ways to clean this up \n",
    "# we can iteratively apply cleaning functions \n",
    "\n",
    "# e.g. remove all the null values and the prefixes tags\n",
    "result.start.rmnull.untag.end.print"
   ]
  },
  {
   "cell_type": "code",
   "execution_count": 27,
   "metadata": {},
   "outputs": [],
   "source": [
    "# or we can use the clean function to apply all the cleaning functions\n",
    "# this has the default process = ['rmld','rmnull','untag','flatten'] arguments \n",
    "# which can be changed to suit the needs of the user\n",
    "result.clean()"
   ]
  },
  {
   "cell_type": "code",
   "execution_count": 29,
   "metadata": {},
   "outputs": [
    {
     "data": {
      "text/plain": [
       "[{'organisation-id': 'NASA-GISS'},\n",
       " {'organisation-id': 'MOHC'},\n",
       " {'organisation-id': 'MIROC'},\n",
       " {'organisation-id': 'MPI-M'},\n",
       " {'organisation-id': 'MPI-M'},\n",
       " {'organisation-id': 'NCC'}]"
      ]
     },
     "execution_count": 29,
     "metadata": {},
     "output_type": "execute_result"
    }
   ],
   "source": [
    "# finally to access the cleaned result we can use the .data or .json attribute\n",
    "result.data"
   ]
  },
  {
   "cell_type": "code",
   "execution_count": 35,
   "metadata": {},
   "outputs": [
    {
     "data": {
      "text/plain": [
       "['NASA-GISS', 'MOHC', 'MIROC', 'MPI-M', 'MPI-M', 'NCC']"
      ]
     },
     "execution_count": 35,
     "metadata": {},
     "output_type": "execute_result"
    }
   ],
   "source": [
    "# now this may be manipulated further, or saved to a file\n",
    "# e.g.\n",
    "\n",
    "[value for row in result.json for key,value in row.items()]"
   ]
  },
  {
   "cell_type": "code",
   "execution_count": null,
   "metadata": {},
   "outputs": [],
   "source": []
  },
  {
   "cell_type": "code",
   "execution_count": null,
   "metadata": {},
   "outputs": [],
   "source": []
  },
  {
   "cell_type": "code",
   "execution_count": null,
   "metadata": {},
   "outputs": [],
   "source": []
  },
  {
   "cell_type": "code",
   "execution_count": null,
   "metadata": {},
   "outputs": [],
   "source": []
  }
 ],
 "metadata": {
  "kernelspec": {
   "display_name": "base",
   "language": "python",
   "name": "python3"
  },
  "language_info": {
   "codemirror_mode": {
    "name": "ipython",
    "version": 3
   },
   "file_extension": ".py",
   "mimetype": "text/x-python",
   "name": "python",
   "nbconvert_exporter": "python",
   "pygments_lexer": "ipython3",
   "version": "3.10.10"
  }
 },
 "nbformat": 4,
 "nbformat_minor": 2
}
