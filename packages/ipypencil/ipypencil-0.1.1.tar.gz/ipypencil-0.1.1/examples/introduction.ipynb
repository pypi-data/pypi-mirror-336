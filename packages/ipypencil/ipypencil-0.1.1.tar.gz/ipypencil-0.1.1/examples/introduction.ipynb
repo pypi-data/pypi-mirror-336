{
 "cells": [
  {
   "cell_type": "markdown",
   "metadata": {},
   "source": [
    "# Introduction to ipypencil\n",
    "Welcome to ipypencil, a Jupyter widget extension that provides an interactive drawing canvas directly in your notebooks. This extension was designed to enable quick creation and export of pixel-based drawings.\n",
    "\n",
    "## What is ipypencil?\n",
    "ipypencil offers a Canvas widget that allows you to:\n",
    "\n",
    "- Easily create pixel-perfect drawings\n",
    "- Define the size of the canvas in pixels\n",
    "- Scale the display with a zoom factor\n",
    "- Export the result as an uncompressed byte array\n",
    "\n",
    "This is particularly useful for:\n",
    "\n",
    "- Creating training examples for machine learning\n",
    "- Quickly sketching pixel art\n",
    "- Creating simple visualizations\n",
    "- Generating test inputs for image processing algorithms\n",
    "\n",
    "## Usage Examples\n",
    "### Basic Usage"
   ]
  },
  {
   "cell_type": "code",
   "execution_count": null,
   "metadata": {},
   "outputs": [],
   "source": [
    "from ipypencil import Canvas\n",
    "\n",
    "# Create a canvas with 28x28 pixels and 8x zoom\n",
    "canvas = Canvas(width=28, height=28, zoom=8.0)\n",
    "canvas"
   ]
  },
  {
   "cell_type": "markdown",
   "metadata": {},
   "source": [
    "After drawing on the canvas with your mouse, you can extract the image as a numpy array:"
   ]
  },
  {
   "cell_type": "code",
   "execution_count": null,
   "metadata": {},
   "outputs": [],
   "source": [
    "# Get the image as a numpy array\n",
    "image_data = canvas.image\n",
    "\n",
    "# The image should now be available\n",
    "assert image_data"
   ]
  },
  {
   "cell_type": "markdown",
   "metadata": {},
   "source": [
    "### Adjusting Canvas Size and Zoom"
   ]
  },
  {
   "cell_type": "code",
   "execution_count": null,
   "metadata": {},
   "outputs": [],
   "source": [
    "# Create a larger canvas with smaller zoom\n",
    "large_canvas = Canvas(width=64, height=64, zoom=4.0)\n",
    "large_canvas\n",
    "\n",
    "# Dynamically change the zoom\n",
    "large_canvas.set_zoom(6.0)"
   ]
  },
  {
   "cell_type": "markdown",
   "metadata": {},
   "source": [
    "### Saving the Image"
   ]
  },
  {
   "cell_type": "code",
   "execution_count": null,
   "metadata": {},
   "outputs": [],
   "source": [
    "# Clear the canvas\n",
    "canvas.clear()\n",
    "\n",
    "# Draw something new...\n",
    "\n",
    "# Check the current image\n",
    "import matplotlib.pyplot as plt\n",
    "\n",
    "# Display the image (needs to be adjusted)\n",
    "plt.imshow(canvas.image.reshape(canvas.height, canvas.width), cmap='gray')\n",
    "plt.axis('off')  # Hide the axes\n",
    "plt.show()"
   ]
  },
  {
   "cell_type": "markdown",
   "metadata": {},
   "source": [
    "## Technical Details\n",
    "The Canvas widget uses an HTML Canvas element configured to the specified pixel size. The display is scaled using CSS styling with the zoom factor, while the actual pixel resolution remains unchanged.\n",
    "\n",
    "This allows for easy drawing of individual pixels in a user-friendly, magnified view, while the exported result maintains the exact pixel size you need.\n",
    "\n",
    "he image data is returned as an uncompressed byte array in 8-bit grayscale format, with each pixel represented by a single byte (0-255). This makes it ideal for direct use in image processing libraries like NumPy, PIL, and OpenCV, especially for machine learning applications that work with grayscale images.\n",
    "\n",
    "## Next Steps\n",
    "Experiment with the canvas by drawing various shapes and patterns. Try different size and zoom settings to see how they affect the handling of the tool.\n",
    "\n",
    "For machine learning applications, you can directly use the exported image data in frameworks such as TensorFlow or PyTorch, especially for tasks like handwriting recognition for which this widget was initially optimized."
   ]
  }
 ],
 "metadata": {
  "kernelspec": {
   "display_name": "Python 3",
   "language": "python",
   "name": "python3"
  },
  "language_info": {
   "codemirror_mode": {
    "name": "ipython",
    "version": 3
   },
   "file_extension": ".py",
   "mimetype": "text/x-python",
   "name": "python",
   "nbconvert_exporter": "python",
   "pygments_lexer": "ipython3",
   "version": "3.6.3"
  }
 },
 "nbformat": 4,
 "nbformat_minor": 2
}
