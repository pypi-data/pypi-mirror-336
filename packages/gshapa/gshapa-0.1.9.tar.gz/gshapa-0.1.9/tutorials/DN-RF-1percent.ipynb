{
 "cells": [
  {
   "cell_type": "code",
   "execution_count": 1,
   "id": "1fac38d4",
   "metadata": {},
   "outputs": [],
   "source": [
    "%load_ext autoreload\n",
    "%autoreload 2\n",
    "import os\n",
    "import numpy as np\n",
    "import pandas as pd\n",
    "import matplotlib.pyplot as plt\n",
    "import gseapy as gp\n",
    "import scanpy as sc"
   ]
  },
  {
   "cell_type": "markdown",
   "id": "4ddf2de5",
   "metadata": {},
   "source": [
    "# Load gene expression dataset"
   ]
  },
  {
   "cell_type": "code",
   "execution_count": 2,
   "id": "6cf0cd86",
   "metadata": {},
   "outputs": [
    {
     "data": {
      "application/vnd.jupyter.widget-view+json": {
       "model_id": "36c236b241f5483eba47a73ea0ee2c61",
       "version_major": 2,
       "version_minor": 0
      },
      "text/plain": [
       "VBox(children=(  0%|          | 0.00/15.3M [00:00<?, ?B/s],))"
      ]
     },
     "metadata": {},
     "output_type": "display_data"
    },
    {
     "data": {
      "application/vnd.jupyter.widget-view+json": {
       "model_id": "eb2624fc801c42a1ae24375d5cc57d24",
       "version_major": 2,
       "version_minor": 0
      },
      "text/plain": [
       "VBox(children=(0.00B [00:00, ?B/s],))"
      ]
     },
     "metadata": {},
     "output_type": "display_data"
    }
   ],
   "source": [
    "adata = sc.datasets.ebi_expression_atlas(\"E-GEOD-131882\",filter_boring=True) # data from SeuratData::ifnb"
   ]
  },
  {
   "cell_type": "code",
   "execution_count": 3,
   "id": "d693d3e2",
   "metadata": {},
   "outputs": [
    {
     "data": {
      "text/html": [
       "<div>\n",
       "<style scoped>\n",
       "    .dataframe tbody tr th:only-of-type {\n",
       "        vertical-align: middle;\n",
       "    }\n",
       "\n",
       "    .dataframe tbody tr th {\n",
       "        vertical-align: top;\n",
       "    }\n",
       "\n",
       "    .dataframe thead th {\n",
       "        text-align: right;\n",
       "    }\n",
       "</style>\n",
       "<table border=\"1\" class=\"dataframe\">\n",
       "  <thead>\n",
       "    <tr style=\"text-align: right;\">\n",
       "      <th></th>\n",
       "      <th>Sample Characteristic[individual]</th>\n",
       "      <th>Sample Characteristic[sex]</th>\n",
       "      <th>Sample Characteristic Ontology Term[sex]</th>\n",
       "      <th>Sample Characteristic[age]</th>\n",
       "      <th>Sample Characteristic[disease]</th>\n",
       "      <th>Sample Characteristic Ontology Term[disease]</th>\n",
       "      <th>Sample Characteristic[clinical information]</th>\n",
       "      <th>Sample Characteristic[clinical treatment]</th>\n",
       "      <th>Factor Value[disease]</th>\n",
       "      <th>Factor Value Ontology Term[disease]</th>\n",
       "    </tr>\n",
       "  </thead>\n",
       "  <tbody>\n",
       "    <tr>\n",
       "      <th>SAMN11878523-AAACCTGAGGCCCTCA</th>\n",
       "      <td>Diabetes_3</td>\n",
       "      <td>female</td>\n",
       "      <td>http://purl.obolibrary.org/obo/PATO_0000383</td>\n",
       "      <td>57 year</td>\n",
       "      <td>diabetic nephropathy</td>\n",
       "      <td>http://www.ebi.ac.uk/efo/EFO_0000401</td>\n",
       "      <td>hemoglobin A1c 9.7 mmol/mol, glomerular filtra...</td>\n",
       "      <td>radical nephrectomy</td>\n",
       "      <td>diabetic nephropathy</td>\n",
       "      <td>http://www.ebi.ac.uk/efo/EFO_0000401</td>\n",
       "    </tr>\n",
       "    <tr>\n",
       "      <th>SAMN11878523-AAACCTGAGTCGATAA</th>\n",
       "      <td>Diabetes_3</td>\n",
       "      <td>female</td>\n",
       "      <td>http://purl.obolibrary.org/obo/PATO_0000383</td>\n",
       "      <td>57 year</td>\n",
       "      <td>diabetic nephropathy</td>\n",
       "      <td>http://www.ebi.ac.uk/efo/EFO_0000401</td>\n",
       "      <td>hemoglobin A1c 9.7 mmol/mol, glomerular filtra...</td>\n",
       "      <td>radical nephrectomy</td>\n",
       "      <td>diabetic nephropathy</td>\n",
       "      <td>http://www.ebi.ac.uk/efo/EFO_0000401</td>\n",
       "    </tr>\n",
       "    <tr>\n",
       "      <th>SAMN11878523-AAACCTGAGTTTAGGA</th>\n",
       "      <td>Diabetes_3</td>\n",
       "      <td>female</td>\n",
       "      <td>http://purl.obolibrary.org/obo/PATO_0000383</td>\n",
       "      <td>57 year</td>\n",
       "      <td>diabetic nephropathy</td>\n",
       "      <td>http://www.ebi.ac.uk/efo/EFO_0000401</td>\n",
       "      <td>hemoglobin A1c 9.7 mmol/mol, glomerular filtra...</td>\n",
       "      <td>radical nephrectomy</td>\n",
       "      <td>diabetic nephropathy</td>\n",
       "      <td>http://www.ebi.ac.uk/efo/EFO_0000401</td>\n",
       "    </tr>\n",
       "    <tr>\n",
       "      <th>SAMN11878523-AAACCTGCAGAGTGTG</th>\n",
       "      <td>Diabetes_3</td>\n",
       "      <td>female</td>\n",
       "      <td>http://purl.obolibrary.org/obo/PATO_0000383</td>\n",
       "      <td>57 year</td>\n",
       "      <td>diabetic nephropathy</td>\n",
       "      <td>http://www.ebi.ac.uk/efo/EFO_0000401</td>\n",
       "      <td>hemoglobin A1c 9.7 mmol/mol, glomerular filtra...</td>\n",
       "      <td>radical nephrectomy</td>\n",
       "      <td>diabetic nephropathy</td>\n",
       "      <td>http://www.ebi.ac.uk/efo/EFO_0000401</td>\n",
       "    </tr>\n",
       "    <tr>\n",
       "      <th>SAMN11878523-AAACCTGCAGCCTGTG</th>\n",
       "      <td>Diabetes_3</td>\n",
       "      <td>female</td>\n",
       "      <td>http://purl.obolibrary.org/obo/PATO_0000383</td>\n",
       "      <td>57 year</td>\n",
       "      <td>diabetic nephropathy</td>\n",
       "      <td>http://www.ebi.ac.uk/efo/EFO_0000401</td>\n",
       "      <td>hemoglobin A1c 9.7 mmol/mol, glomerular filtra...</td>\n",
       "      <td>radical nephrectomy</td>\n",
       "      <td>diabetic nephropathy</td>\n",
       "      <td>http://www.ebi.ac.uk/efo/EFO_0000401</td>\n",
       "    </tr>\n",
       "  </tbody>\n",
       "</table>\n",
       "</div>"
      ],
      "text/plain": [
       "                              Sample Characteristic[individual]  \\\n",
       "SAMN11878523-AAACCTGAGGCCCTCA                        Diabetes_3   \n",
       "SAMN11878523-AAACCTGAGTCGATAA                        Diabetes_3   \n",
       "SAMN11878523-AAACCTGAGTTTAGGA                        Diabetes_3   \n",
       "SAMN11878523-AAACCTGCAGAGTGTG                        Diabetes_3   \n",
       "SAMN11878523-AAACCTGCAGCCTGTG                        Diabetes_3   \n",
       "\n",
       "                              Sample Characteristic[sex]  \\\n",
       "SAMN11878523-AAACCTGAGGCCCTCA                     female   \n",
       "SAMN11878523-AAACCTGAGTCGATAA                     female   \n",
       "SAMN11878523-AAACCTGAGTTTAGGA                     female   \n",
       "SAMN11878523-AAACCTGCAGAGTGTG                     female   \n",
       "SAMN11878523-AAACCTGCAGCCTGTG                     female   \n",
       "\n",
       "                                  Sample Characteristic Ontology Term[sex]  \\\n",
       "SAMN11878523-AAACCTGAGGCCCTCA  http://purl.obolibrary.org/obo/PATO_0000383   \n",
       "SAMN11878523-AAACCTGAGTCGATAA  http://purl.obolibrary.org/obo/PATO_0000383   \n",
       "SAMN11878523-AAACCTGAGTTTAGGA  http://purl.obolibrary.org/obo/PATO_0000383   \n",
       "SAMN11878523-AAACCTGCAGAGTGTG  http://purl.obolibrary.org/obo/PATO_0000383   \n",
       "SAMN11878523-AAACCTGCAGCCTGTG  http://purl.obolibrary.org/obo/PATO_0000383   \n",
       "\n",
       "                              Sample Characteristic[age]  \\\n",
       "SAMN11878523-AAACCTGAGGCCCTCA                    57 year   \n",
       "SAMN11878523-AAACCTGAGTCGATAA                    57 year   \n",
       "SAMN11878523-AAACCTGAGTTTAGGA                    57 year   \n",
       "SAMN11878523-AAACCTGCAGAGTGTG                    57 year   \n",
       "SAMN11878523-AAACCTGCAGCCTGTG                    57 year   \n",
       "\n",
       "                              Sample Characteristic[disease]  \\\n",
       "SAMN11878523-AAACCTGAGGCCCTCA           diabetic nephropathy   \n",
       "SAMN11878523-AAACCTGAGTCGATAA           diabetic nephropathy   \n",
       "SAMN11878523-AAACCTGAGTTTAGGA           diabetic nephropathy   \n",
       "SAMN11878523-AAACCTGCAGAGTGTG           diabetic nephropathy   \n",
       "SAMN11878523-AAACCTGCAGCCTGTG           diabetic nephropathy   \n",
       "\n",
       "                              Sample Characteristic Ontology Term[disease]  \\\n",
       "SAMN11878523-AAACCTGAGGCCCTCA         http://www.ebi.ac.uk/efo/EFO_0000401   \n",
       "SAMN11878523-AAACCTGAGTCGATAA         http://www.ebi.ac.uk/efo/EFO_0000401   \n",
       "SAMN11878523-AAACCTGAGTTTAGGA         http://www.ebi.ac.uk/efo/EFO_0000401   \n",
       "SAMN11878523-AAACCTGCAGAGTGTG         http://www.ebi.ac.uk/efo/EFO_0000401   \n",
       "SAMN11878523-AAACCTGCAGCCTGTG         http://www.ebi.ac.uk/efo/EFO_0000401   \n",
       "\n",
       "                                     Sample Characteristic[clinical information]  \\\n",
       "SAMN11878523-AAACCTGAGGCCCTCA  hemoglobin A1c 9.7 mmol/mol, glomerular filtra...   \n",
       "SAMN11878523-AAACCTGAGTCGATAA  hemoglobin A1c 9.7 mmol/mol, glomerular filtra...   \n",
       "SAMN11878523-AAACCTGAGTTTAGGA  hemoglobin A1c 9.7 mmol/mol, glomerular filtra...   \n",
       "SAMN11878523-AAACCTGCAGAGTGTG  hemoglobin A1c 9.7 mmol/mol, glomerular filtra...   \n",
       "SAMN11878523-AAACCTGCAGCCTGTG  hemoglobin A1c 9.7 mmol/mol, glomerular filtra...   \n",
       "\n",
       "                              Sample Characteristic[clinical treatment]  \\\n",
       "SAMN11878523-AAACCTGAGGCCCTCA                       radical nephrectomy   \n",
       "SAMN11878523-AAACCTGAGTCGATAA                       radical nephrectomy   \n",
       "SAMN11878523-AAACCTGAGTTTAGGA                       radical nephrectomy   \n",
       "SAMN11878523-AAACCTGCAGAGTGTG                       radical nephrectomy   \n",
       "SAMN11878523-AAACCTGCAGCCTGTG                       radical nephrectomy   \n",
       "\n",
       "                              Factor Value[disease]  \\\n",
       "SAMN11878523-AAACCTGAGGCCCTCA  diabetic nephropathy   \n",
       "SAMN11878523-AAACCTGAGTCGATAA  diabetic nephropathy   \n",
       "SAMN11878523-AAACCTGAGTTTAGGA  diabetic nephropathy   \n",
       "SAMN11878523-AAACCTGCAGAGTGTG  diabetic nephropathy   \n",
       "SAMN11878523-AAACCTGCAGCCTGTG  diabetic nephropathy   \n",
       "\n",
       "                                Factor Value Ontology Term[disease]  \n",
       "SAMN11878523-AAACCTGAGGCCCTCA  http://www.ebi.ac.uk/efo/EFO_0000401  \n",
       "SAMN11878523-AAACCTGAGTCGATAA  http://www.ebi.ac.uk/efo/EFO_0000401  \n",
       "SAMN11878523-AAACCTGAGTTTAGGA  http://www.ebi.ac.uk/efo/EFO_0000401  \n",
       "SAMN11878523-AAACCTGCAGAGTGTG  http://www.ebi.ac.uk/efo/EFO_0000401  \n",
       "SAMN11878523-AAACCTGCAGCCTGTG  http://www.ebi.ac.uk/efo/EFO_0000401  "
      ]
     },
     "execution_count": 3,
     "metadata": {},
     "output_type": "execute_result"
    }
   ],
   "source": [
    "adata.obs.head()"
   ]
  },
  {
   "cell_type": "code",
   "execution_count": 4,
   "id": "6aef82c8",
   "metadata": {},
   "outputs": [
    {
     "data": {
      "text/html": [
       "<div>\n",
       "<style scoped>\n",
       "    .dataframe tbody tr th:only-of-type {\n",
       "        vertical-align: middle;\n",
       "    }\n",
       "\n",
       "    .dataframe tbody tr th {\n",
       "        vertical-align: top;\n",
       "    }\n",
       "\n",
       "    .dataframe thead th {\n",
       "        text-align: right;\n",
       "    }\n",
       "</style>\n",
       "<table border=\"1\" class=\"dataframe\">\n",
       "  <thead>\n",
       "    <tr style=\"text-align: right;\">\n",
       "      <th></th>\n",
       "    </tr>\n",
       "  </thead>\n",
       "  <tbody>\n",
       "    <tr>\n",
       "      <th>ENSG00000000003</th>\n",
       "    </tr>\n",
       "    <tr>\n",
       "      <th>ENSG00000000005</th>\n",
       "    </tr>\n",
       "    <tr>\n",
       "      <th>ENSG00000000419</th>\n",
       "    </tr>\n",
       "    <tr>\n",
       "      <th>ENSG00000000457</th>\n",
       "    </tr>\n",
       "    <tr>\n",
       "      <th>ENSG00000000460</th>\n",
       "    </tr>\n",
       "  </tbody>\n",
       "</table>\n",
       "</div>"
      ],
      "text/plain": [
       "Empty DataFrame\n",
       "Columns: []\n",
       "Index: [ENSG00000000003, ENSG00000000005, ENSG00000000419, ENSG00000000457, ENSG00000000460]"
      ]
     },
     "execution_count": 4,
     "metadata": {},
     "output_type": "execute_result"
    }
   ],
   "source": [
    "adata.var.head()"
   ]
  },
  {
   "cell_type": "markdown",
   "id": "4761c8b1",
   "metadata": {},
   "source": [
    "# Preprocess data"
   ]
  },
  {
   "cell_type": "code",
   "execution_count": 5,
   "id": "48f5d1c8",
   "metadata": {},
   "outputs": [
    {
     "name": "stdout",
     "output_type": "stream",
     "text": [
      "(28348, 39846)\n",
      "(28274, 39846)\n",
      "(28274, 17902)\n"
     ]
    },
    {
     "data": {
      "text/plain": [
       "Factor Value[disease]  Sample Characteristic[individual]\n",
       "diabetic nephropathy   Diabetes_1                           5621\n",
       "                       Diabetes_3                           4052\n",
       "                       Diabetes_2                            243\n",
       "                       Control_1                               0\n",
       "                       Control_2                               0\n",
       "                       Control_3                               0\n",
       "normal                 Control_1                            7116\n",
       "                       Control_3                            6575\n",
       "                       Control_2                            4667\n",
       "                       Diabetes_1                              0\n",
       "                       Diabetes_2                              0\n",
       "                       Diabetes_3                              0\n",
       "Name: Sample Characteristic[individual], dtype: int64"
      ]
     },
     "execution_count": 5,
     "metadata": {},
     "output_type": "execute_result"
    }
   ],
   "source": [
    "# preprocessing\n",
    "print(adata.shape)\n",
    "sc.pp.filter_cells(adata, min_genes=int(adata.X.shape[1])*0.01)\n",
    "print(adata.shape)\n",
    "sc.pp.filter_genes(adata, min_cells=int(adata.X.shape[0])*0.01)\n",
    "print(adata.shape)\n",
    "sc.pp.normalize_total(adata, target_sum=1e4)\n",
    "sc.pp.log1p(adata)\n",
    "sc.pp.scale(adata)\n",
    "\n",
    "adata.obs.groupby('Factor Value[disease]')['Sample Characteristic[individual]'].value_counts()"
   ]
  },
  {
   "cell_type": "code",
   "execution_count": 6,
   "id": "4819b626",
   "metadata": {},
   "outputs": [],
   "source": [
    "adata.obs['disease'] = pd.Categorical(adata.obs['Factor Value[disease]'], categories=[\"diabetic nephropathy\", \"normal\"], ordered=True)\n",
    "indices = adata.obs.sort_values(['Factor Value[disease]', 'disease']).index\n",
    "adata = adata[indices,:]"
   ]
  },
  {
   "cell_type": "markdown",
   "id": "74ee047b",
   "metadata": {},
   "source": [
    "# Focus on the most prevalent cell type"
   ]
  },
  {
   "cell_type": "code",
   "execution_count": 7,
   "id": "f48e699b",
   "metadata": {},
   "outputs": [
    {
     "data": {
      "text/plain": [
       "AnnData object with n_obs × n_vars = 17647 × 17902\n",
       "    obs: 'Sample Characteristic[individual]', 'Sample Characteristic[sex]', 'Sample Characteristic Ontology Term[sex]', 'Sample Characteristic[age]', 'Sample Characteristic[disease]', 'Sample Characteristic Ontology Term[disease]', 'Sample Characteristic[clinical information]', 'Sample Characteristic[clinical treatment]', 'Factor Value[disease]', 'Factor Value Ontology Term[disease]', 'n_genes', 'disease'\n",
       "    var: 'n_cells', 'mean', 'std'\n",
       "    uns: 'log1p'"
      ]
     },
     "execution_count": 7,
     "metadata": {},
     "output_type": "execute_result"
    }
   ],
   "source": [
    "bdata = adata[adata.obs[\"Sample Characteristic[sex]\"] == \"male\"].copy()# female\n",
    "bdata"
   ]
  },
  {
   "cell_type": "code",
   "execution_count": 8,
   "id": "7de94057",
   "metadata": {},
   "outputs": [
    {
     "data": {
      "text/plain": [
       "Counter({'diabetic nephropathy': 5864, 'normal': 11783})"
      ]
     },
     "execution_count": 8,
     "metadata": {},
     "output_type": "execute_result"
    }
   ],
   "source": [
    "from collections import Counter\n",
    "Counter(bdata.obs[\"Factor Value[disease]\"])"
   ]
  },
  {
   "cell_type": "code",
   "execution_count": 9,
   "id": "c9829e13",
   "metadata": {},
   "outputs": [
    {
     "data": {
      "text/plain": [
       "44.97716894977169"
      ]
     },
     "execution_count": 9,
     "metadata": {},
     "output_type": "execute_result"
    }
   ],
   "source": [
    "4925/(4925+6025)*100"
   ]
  },
  {
   "cell_type": "code",
   "execution_count": 10,
   "id": "9dc2f147",
   "metadata": {},
   "outputs": [
    {
     "data": {
      "text/plain": [
       "(17647, 17902)"
      ]
     },
     "execution_count": 10,
     "metadata": {},
     "output_type": "execute_result"
    }
   ],
   "source": [
    "bdata.shape"
   ]
  },
  {
   "cell_type": "markdown",
   "id": "e2345342",
   "metadata": {},
   "source": [
    "# Map gene names"
   ]
  },
  {
   "cell_type": "code",
   "execution_count": 11,
   "id": "e74cdd83",
   "metadata": {},
   "outputs": [],
   "source": [
    "mapper = pd.read_csv('data/mart_export.txt',index_col=0).fillna(-1)[\"Gene name\"].to_dict()"
   ]
  },
  {
   "cell_type": "code",
   "execution_count": 12,
   "id": "aba80099",
   "metadata": {},
   "outputs": [],
   "source": [
    "new_indexes = []\n",
    "for i in bdata.var.index:\n",
    "    if i in mapper and mapper[i]!=\"\":\n",
    "        new_indexes.append(mapper[i])\n",
    "    else:\n",
    "        new_indexes.append(-1)"
   ]
  },
  {
   "cell_type": "code",
   "execution_count": 13,
   "id": "e4ae4524",
   "metadata": {},
   "outputs": [],
   "source": [
    "bdata.var.index = new_indexes\n",
    "bdata = bdata[:,bdata.var.index != -1]"
   ]
  },
  {
   "cell_type": "code",
   "execution_count": 14,
   "id": "29b0c2ae",
   "metadata": {},
   "outputs": [
    {
     "data": {
      "text/plain": [
       "(17647, 15481)"
      ]
     },
     "execution_count": 14,
     "metadata": {},
     "output_type": "execute_result"
    }
   ],
   "source": [
    "bdata.shape"
   ]
  },
  {
   "cell_type": "code",
   "execution_count": 15,
   "id": "8d0839d9",
   "metadata": {},
   "outputs": [
    {
     "name": "stderr",
     "output_type": "stream",
     "text": [
      "/Users/speignier/anaconda3/lib/python3.10/site-packages/anndata/_core/anndata.py:1832: UserWarning: Variable names are not unique. To make them unique, call `.var_names_make_unique`.\n",
      "  utils.warn_names_duplicates(\"var\")\n"
     ]
    }
   ],
   "source": [
    "bdata.var_names_make_unique()"
   ]
  },
  {
   "cell_type": "code",
   "execution_count": 16,
   "id": "b2246df9",
   "metadata": {},
   "outputs": [
    {
     "data": {
      "text/html": [
       "<div>\n",
       "<style scoped>\n",
       "    .dataframe tbody tr th:only-of-type {\n",
       "        vertical-align: middle;\n",
       "    }\n",
       "\n",
       "    .dataframe tbody tr th {\n",
       "        vertical-align: top;\n",
       "    }\n",
       "\n",
       "    .dataframe thead th {\n",
       "        text-align: right;\n",
       "    }\n",
       "</style>\n",
       "<table border=\"1\" class=\"dataframe\">\n",
       "  <thead>\n",
       "    <tr style=\"text-align: right;\">\n",
       "      <th></th>\n",
       "      <th>TSPAN6</th>\n",
       "      <th>DPM1</th>\n",
       "      <th>SCYL3</th>\n",
       "      <th>FIRRM</th>\n",
       "      <th>CFH</th>\n",
       "      <th>FUCA2</th>\n",
       "      <th>GCLC</th>\n",
       "      <th>NFYA</th>\n",
       "      <th>STPG1</th>\n",
       "      <th>NIPAL3</th>\n",
       "      <th>...</th>\n",
       "      <th>LSP1P5</th>\n",
       "      <th>RPSA2</th>\n",
       "      <th>LINC03112</th>\n",
       "      <th>LINC02256-1</th>\n",
       "      <th>ZNF496-DT</th>\n",
       "      <th>LINC03063</th>\n",
       "      <th>CTAGE8</th>\n",
       "      <th>XNDC1N-ZNF705EP-ALG1L9P</th>\n",
       "      <th>TALAM1</th>\n",
       "      <th>FAM95A</th>\n",
       "    </tr>\n",
       "  </thead>\n",
       "  <tbody>\n",
       "    <tr>\n",
       "      <th>SAMN11878524-AAACGGGAGACATAAC</th>\n",
       "      <td>-0.146593</td>\n",
       "      <td>-0.359668</td>\n",
       "      <td>-0.383372</td>\n",
       "      <td>-0.281666</td>\n",
       "      <td>-0.189161</td>\n",
       "      <td>-0.199349</td>\n",
       "      <td>1.369002</td>\n",
       "      <td>-0.244033</td>\n",
       "      <td>-0.20523</td>\n",
       "      <td>1.040997</td>\n",
       "      <td>...</td>\n",
       "      <td>-0.139584</td>\n",
       "      <td>0.300692</td>\n",
       "      <td>1.228590</td>\n",
       "      <td>-0.311402</td>\n",
       "      <td>-0.210439</td>\n",
       "      <td>-0.086515</td>\n",
       "      <td>-0.127619</td>\n",
       "      <td>-0.490919</td>\n",
       "      <td>0.532566</td>\n",
       "      <td>-0.157443</td>\n",
       "    </tr>\n",
       "    <tr>\n",
       "      <th>SAMN11878524-AAACGGGGTTCCGTCT</th>\n",
       "      <td>-0.146593</td>\n",
       "      <td>-0.359668</td>\n",
       "      <td>1.442294</td>\n",
       "      <td>-0.281666</td>\n",
       "      <td>-0.189161</td>\n",
       "      <td>-0.199349</td>\n",
       "      <td>0.815460</td>\n",
       "      <td>-0.244033</td>\n",
       "      <td>-0.20523</td>\n",
       "      <td>-0.286242</td>\n",
       "      <td>...</td>\n",
       "      <td>-0.139584</td>\n",
       "      <td>1.045291</td>\n",
       "      <td>1.427017</td>\n",
       "      <td>-0.311402</td>\n",
       "      <td>-0.210439</td>\n",
       "      <td>-0.086515</td>\n",
       "      <td>-0.127619</td>\n",
       "      <td>-0.490919</td>\n",
       "      <td>0.509876</td>\n",
       "      <td>-0.157443</td>\n",
       "    </tr>\n",
       "    <tr>\n",
       "      <th>SAMN11878524-AAAGTAGTCGCGTTTC</th>\n",
       "      <td>2.392723</td>\n",
       "      <td>-0.359668</td>\n",
       "      <td>-0.383372</td>\n",
       "      <td>-0.281666</td>\n",
       "      <td>-0.189161</td>\n",
       "      <td>-0.199349</td>\n",
       "      <td>-0.337752</td>\n",
       "      <td>1.492125</td>\n",
       "      <td>-0.20523</td>\n",
       "      <td>1.177733</td>\n",
       "      <td>...</td>\n",
       "      <td>-0.139584</td>\n",
       "      <td>1.459011</td>\n",
       "      <td>-0.243747</td>\n",
       "      <td>-0.311402</td>\n",
       "      <td>-0.210439</td>\n",
       "      <td>-0.086515</td>\n",
       "      <td>-0.127619</td>\n",
       "      <td>-0.490919</td>\n",
       "      <td>0.480276</td>\n",
       "      <td>-0.157443</td>\n",
       "    </tr>\n",
       "    <tr>\n",
       "      <th>SAMN11878524-AAATGCCGTTGACGTT</th>\n",
       "      <td>-0.146593</td>\n",
       "      <td>-0.359668</td>\n",
       "      <td>-0.383372</td>\n",
       "      <td>-0.281666</td>\n",
       "      <td>-0.189161</td>\n",
       "      <td>-0.199349</td>\n",
       "      <td>0.860431</td>\n",
       "      <td>-0.244033</td>\n",
       "      <td>-0.20523</td>\n",
       "      <td>1.282571</td>\n",
       "      <td>...</td>\n",
       "      <td>5.659317</td>\n",
       "      <td>-0.515680</td>\n",
       "      <td>-0.243747</td>\n",
       "      <td>-0.311402</td>\n",
       "      <td>-0.210439</td>\n",
       "      <td>-0.086515</td>\n",
       "      <td>-0.127619</td>\n",
       "      <td>-0.490919</td>\n",
       "      <td>0.246965</td>\n",
       "      <td>1.858150</td>\n",
       "    </tr>\n",
       "    <tr>\n",
       "      <th>SAMN11878524-AACACGTTCGCGCCAA</th>\n",
       "      <td>-0.146593</td>\n",
       "      <td>-0.359668</td>\n",
       "      <td>0.075055</td>\n",
       "      <td>-0.281666</td>\n",
       "      <td>2.690777</td>\n",
       "      <td>-0.199349</td>\n",
       "      <td>0.144064</td>\n",
       "      <td>2.517450</td>\n",
       "      <td>-0.20523</td>\n",
       "      <td>-0.286242</td>\n",
       "      <td>...</td>\n",
       "      <td>-0.139584</td>\n",
       "      <td>-0.515680</td>\n",
       "      <td>2.332839</td>\n",
       "      <td>-0.311402</td>\n",
       "      <td>0.927649</td>\n",
       "      <td>0.356021</td>\n",
       "      <td>-0.127619</td>\n",
       "      <td>1.753608</td>\n",
       "      <td>0.180038</td>\n",
       "      <td>-0.157443</td>\n",
       "    </tr>\n",
       "    <tr>\n",
       "      <th>...</th>\n",
       "      <td>...</td>\n",
       "      <td>...</td>\n",
       "      <td>...</td>\n",
       "      <td>...</td>\n",
       "      <td>...</td>\n",
       "      <td>...</td>\n",
       "      <td>...</td>\n",
       "      <td>...</td>\n",
       "      <td>...</td>\n",
       "      <td>...</td>\n",
       "      <td>...</td>\n",
       "      <td>...</td>\n",
       "      <td>...</td>\n",
       "      <td>...</td>\n",
       "      <td>...</td>\n",
       "      <td>...</td>\n",
       "      <td>...</td>\n",
       "      <td>...</td>\n",
       "      <td>...</td>\n",
       "      <td>...</td>\n",
       "      <td>...</td>\n",
       "    </tr>\n",
       "    <tr>\n",
       "      <th>SAMN11878528-TTTGTCATCACAGGCC</th>\n",
       "      <td>-0.146593</td>\n",
       "      <td>-0.359668</td>\n",
       "      <td>-0.383372</td>\n",
       "      <td>-0.281666</td>\n",
       "      <td>-0.189161</td>\n",
       "      <td>-0.199349</td>\n",
       "      <td>6.969540</td>\n",
       "      <td>-0.244033</td>\n",
       "      <td>-0.20523</td>\n",
       "      <td>-0.286242</td>\n",
       "      <td>...</td>\n",
       "      <td>-0.139584</td>\n",
       "      <td>-0.515680</td>\n",
       "      <td>-0.243747</td>\n",
       "      <td>-0.311402</td>\n",
       "      <td>-0.210439</td>\n",
       "      <td>-0.086515</td>\n",
       "      <td>-0.127619</td>\n",
       "      <td>3.418672</td>\n",
       "      <td>-1.197762</td>\n",
       "      <td>-0.157443</td>\n",
       "    </tr>\n",
       "    <tr>\n",
       "      <th>SAMN11878528-TTTGTCATCACCAGGC</th>\n",
       "      <td>-0.146593</td>\n",
       "      <td>-0.359668</td>\n",
       "      <td>-0.383372</td>\n",
       "      <td>-0.281666</td>\n",
       "      <td>-0.189161</td>\n",
       "      <td>-0.199349</td>\n",
       "      <td>2.086680</td>\n",
       "      <td>-0.244033</td>\n",
       "      <td>-0.20523</td>\n",
       "      <td>-0.286242</td>\n",
       "      <td>...</td>\n",
       "      <td>-0.139584</td>\n",
       "      <td>-0.515680</td>\n",
       "      <td>-0.243747</td>\n",
       "      <td>-0.311402</td>\n",
       "      <td>-0.210439</td>\n",
       "      <td>-0.086515</td>\n",
       "      <td>-0.127619</td>\n",
       "      <td>-0.490919</td>\n",
       "      <td>0.950753</td>\n",
       "      <td>-0.157443</td>\n",
       "    </tr>\n",
       "    <tr>\n",
       "      <th>SAMN11878528-TTTGTCATCACCGTAA</th>\n",
       "      <td>-0.146593</td>\n",
       "      <td>-0.359668</td>\n",
       "      <td>-0.383372</td>\n",
       "      <td>-0.281666</td>\n",
       "      <td>-0.189161</td>\n",
       "      <td>-0.199349</td>\n",
       "      <td>-0.337752</td>\n",
       "      <td>-0.244033</td>\n",
       "      <td>-0.20523</td>\n",
       "      <td>-0.286242</td>\n",
       "      <td>...</td>\n",
       "      <td>-0.139584</td>\n",
       "      <td>-0.515680</td>\n",
       "      <td>-0.243747</td>\n",
       "      <td>-0.311402</td>\n",
       "      <td>-0.210439</td>\n",
       "      <td>-0.086515</td>\n",
       "      <td>-0.127619</td>\n",
       "      <td>-0.490919</td>\n",
       "      <td>1.354196</td>\n",
       "      <td>-0.157443</td>\n",
       "    </tr>\n",
       "    <tr>\n",
       "      <th>SAMN11878528-TTTGTCATCCTACAGA</th>\n",
       "      <td>-0.146593</td>\n",
       "      <td>-0.359668</td>\n",
       "      <td>-0.383372</td>\n",
       "      <td>-0.281666</td>\n",
       "      <td>-0.189161</td>\n",
       "      <td>-0.199349</td>\n",
       "      <td>-0.337752</td>\n",
       "      <td>-0.244033</td>\n",
       "      <td>-0.20523</td>\n",
       "      <td>-0.286242</td>\n",
       "      <td>...</td>\n",
       "      <td>-0.139584</td>\n",
       "      <td>-0.515680</td>\n",
       "      <td>3.242243</td>\n",
       "      <td>-0.311402</td>\n",
       "      <td>-0.210439</td>\n",
       "      <td>-0.086515</td>\n",
       "      <td>-0.127619</td>\n",
       "      <td>-0.490919</td>\n",
       "      <td>1.139663</td>\n",
       "      <td>-0.157443</td>\n",
       "    </tr>\n",
       "    <tr>\n",
       "      <th>SAMN11878528-TTTGTCATCGGCGCTA</th>\n",
       "      <td>-0.146593</td>\n",
       "      <td>-0.359668</td>\n",
       "      <td>-0.383372</td>\n",
       "      <td>-0.281666</td>\n",
       "      <td>-0.189161</td>\n",
       "      <td>2.764707</td>\n",
       "      <td>-0.337752</td>\n",
       "      <td>-0.244033</td>\n",
       "      <td>-0.20523</td>\n",
       "      <td>1.769397</td>\n",
       "      <td>...</td>\n",
       "      <td>-0.139584</td>\n",
       "      <td>0.758287</td>\n",
       "      <td>-0.243747</td>\n",
       "      <td>-0.311402</td>\n",
       "      <td>-0.210439</td>\n",
       "      <td>-0.086515</td>\n",
       "      <td>-0.127619</td>\n",
       "      <td>-0.490919</td>\n",
       "      <td>0.734094</td>\n",
       "      <td>-0.157443</td>\n",
       "    </tr>\n",
       "  </tbody>\n",
       "</table>\n",
       "<p>17647 rows × 15481 columns</p>\n",
       "</div>"
      ],
      "text/plain": [
       "                                 TSPAN6      DPM1     SCYL3     FIRRM  \\\n",
       "SAMN11878524-AAACGGGAGACATAAC -0.146593 -0.359668 -0.383372 -0.281666   \n",
       "SAMN11878524-AAACGGGGTTCCGTCT -0.146593 -0.359668  1.442294 -0.281666   \n",
       "SAMN11878524-AAAGTAGTCGCGTTTC  2.392723 -0.359668 -0.383372 -0.281666   \n",
       "SAMN11878524-AAATGCCGTTGACGTT -0.146593 -0.359668 -0.383372 -0.281666   \n",
       "SAMN11878524-AACACGTTCGCGCCAA -0.146593 -0.359668  0.075055 -0.281666   \n",
       "...                                 ...       ...       ...       ...   \n",
       "SAMN11878528-TTTGTCATCACAGGCC -0.146593 -0.359668 -0.383372 -0.281666   \n",
       "SAMN11878528-TTTGTCATCACCAGGC -0.146593 -0.359668 -0.383372 -0.281666   \n",
       "SAMN11878528-TTTGTCATCACCGTAA -0.146593 -0.359668 -0.383372 -0.281666   \n",
       "SAMN11878528-TTTGTCATCCTACAGA -0.146593 -0.359668 -0.383372 -0.281666   \n",
       "SAMN11878528-TTTGTCATCGGCGCTA -0.146593 -0.359668 -0.383372 -0.281666   \n",
       "\n",
       "                                    CFH     FUCA2      GCLC      NFYA  \\\n",
       "SAMN11878524-AAACGGGAGACATAAC -0.189161 -0.199349  1.369002 -0.244033   \n",
       "SAMN11878524-AAACGGGGTTCCGTCT -0.189161 -0.199349  0.815460 -0.244033   \n",
       "SAMN11878524-AAAGTAGTCGCGTTTC -0.189161 -0.199349 -0.337752  1.492125   \n",
       "SAMN11878524-AAATGCCGTTGACGTT -0.189161 -0.199349  0.860431 -0.244033   \n",
       "SAMN11878524-AACACGTTCGCGCCAA  2.690777 -0.199349  0.144064  2.517450   \n",
       "...                                 ...       ...       ...       ...   \n",
       "SAMN11878528-TTTGTCATCACAGGCC -0.189161 -0.199349  6.969540 -0.244033   \n",
       "SAMN11878528-TTTGTCATCACCAGGC -0.189161 -0.199349  2.086680 -0.244033   \n",
       "SAMN11878528-TTTGTCATCACCGTAA -0.189161 -0.199349 -0.337752 -0.244033   \n",
       "SAMN11878528-TTTGTCATCCTACAGA -0.189161 -0.199349 -0.337752 -0.244033   \n",
       "SAMN11878528-TTTGTCATCGGCGCTA -0.189161  2.764707 -0.337752 -0.244033   \n",
       "\n",
       "                                 STPG1    NIPAL3  ...    LSP1P5     RPSA2  \\\n",
       "SAMN11878524-AAACGGGAGACATAAC -0.20523  1.040997  ... -0.139584  0.300692   \n",
       "SAMN11878524-AAACGGGGTTCCGTCT -0.20523 -0.286242  ... -0.139584  1.045291   \n",
       "SAMN11878524-AAAGTAGTCGCGTTTC -0.20523  1.177733  ... -0.139584  1.459011   \n",
       "SAMN11878524-AAATGCCGTTGACGTT -0.20523  1.282571  ...  5.659317 -0.515680   \n",
       "SAMN11878524-AACACGTTCGCGCCAA -0.20523 -0.286242  ... -0.139584 -0.515680   \n",
       "...                                ...       ...  ...       ...       ...   \n",
       "SAMN11878528-TTTGTCATCACAGGCC -0.20523 -0.286242  ... -0.139584 -0.515680   \n",
       "SAMN11878528-TTTGTCATCACCAGGC -0.20523 -0.286242  ... -0.139584 -0.515680   \n",
       "SAMN11878528-TTTGTCATCACCGTAA -0.20523 -0.286242  ... -0.139584 -0.515680   \n",
       "SAMN11878528-TTTGTCATCCTACAGA -0.20523 -0.286242  ... -0.139584 -0.515680   \n",
       "SAMN11878528-TTTGTCATCGGCGCTA -0.20523  1.769397  ... -0.139584  0.758287   \n",
       "\n",
       "                               LINC03112  LINC02256-1  ZNF496-DT  LINC03063  \\\n",
       "SAMN11878524-AAACGGGAGACATAAC   1.228590    -0.311402  -0.210439  -0.086515   \n",
       "SAMN11878524-AAACGGGGTTCCGTCT   1.427017    -0.311402  -0.210439  -0.086515   \n",
       "SAMN11878524-AAAGTAGTCGCGTTTC  -0.243747    -0.311402  -0.210439  -0.086515   \n",
       "SAMN11878524-AAATGCCGTTGACGTT  -0.243747    -0.311402  -0.210439  -0.086515   \n",
       "SAMN11878524-AACACGTTCGCGCCAA   2.332839    -0.311402   0.927649   0.356021   \n",
       "...                                  ...          ...        ...        ...   \n",
       "SAMN11878528-TTTGTCATCACAGGCC  -0.243747    -0.311402  -0.210439  -0.086515   \n",
       "SAMN11878528-TTTGTCATCACCAGGC  -0.243747    -0.311402  -0.210439  -0.086515   \n",
       "SAMN11878528-TTTGTCATCACCGTAA  -0.243747    -0.311402  -0.210439  -0.086515   \n",
       "SAMN11878528-TTTGTCATCCTACAGA   3.242243    -0.311402  -0.210439  -0.086515   \n",
       "SAMN11878528-TTTGTCATCGGCGCTA  -0.243747    -0.311402  -0.210439  -0.086515   \n",
       "\n",
       "                                 CTAGE8  XNDC1N-ZNF705EP-ALG1L9P    TALAM1  \\\n",
       "SAMN11878524-AAACGGGAGACATAAC -0.127619                -0.490919  0.532566   \n",
       "SAMN11878524-AAACGGGGTTCCGTCT -0.127619                -0.490919  0.509876   \n",
       "SAMN11878524-AAAGTAGTCGCGTTTC -0.127619                -0.490919  0.480276   \n",
       "SAMN11878524-AAATGCCGTTGACGTT -0.127619                -0.490919  0.246965   \n",
       "SAMN11878524-AACACGTTCGCGCCAA -0.127619                 1.753608  0.180038   \n",
       "...                                 ...                      ...       ...   \n",
       "SAMN11878528-TTTGTCATCACAGGCC -0.127619                 3.418672 -1.197762   \n",
       "SAMN11878528-TTTGTCATCACCAGGC -0.127619                -0.490919  0.950753   \n",
       "SAMN11878528-TTTGTCATCACCGTAA -0.127619                -0.490919  1.354196   \n",
       "SAMN11878528-TTTGTCATCCTACAGA -0.127619                -0.490919  1.139663   \n",
       "SAMN11878528-TTTGTCATCGGCGCTA -0.127619                -0.490919  0.734094   \n",
       "\n",
       "                                 FAM95A  \n",
       "SAMN11878524-AAACGGGAGACATAAC -0.157443  \n",
       "SAMN11878524-AAACGGGGTTCCGTCT -0.157443  \n",
       "SAMN11878524-AAAGTAGTCGCGTTTC -0.157443  \n",
       "SAMN11878524-AAATGCCGTTGACGTT  1.858150  \n",
       "SAMN11878524-AACACGTTCGCGCCAA -0.157443  \n",
       "...                                 ...  \n",
       "SAMN11878528-TTTGTCATCACAGGCC -0.157443  \n",
       "SAMN11878528-TTTGTCATCACCAGGC -0.157443  \n",
       "SAMN11878528-TTTGTCATCACCGTAA -0.157443  \n",
       "SAMN11878528-TTTGTCATCCTACAGA -0.157443  \n",
       "SAMN11878528-TTTGTCATCGGCGCTA -0.157443  \n",
       "\n",
       "[17647 rows x 15481 columns]"
      ]
     },
     "execution_count": 16,
     "metadata": {},
     "output_type": "execute_result"
    }
   ],
   "source": [
    "bdata.to_df()"
   ]
  },
  {
   "cell_type": "markdown",
   "id": "42c5fa4a",
   "metadata": {},
   "source": [
    "# Run GSEA"
   ]
  },
  {
   "cell_type": "code",
   "execution_count": 17,
   "id": "28fb443e",
   "metadata": {},
   "outputs": [],
   "source": [
    "gs = gp.get_library(\"GO_Biological_Process_2021\")\n"
   ]
  },
  {
   "cell_type": "code",
   "execution_count": 18,
   "id": "874a3412",
   "metadata": {},
   "outputs": [
    {
     "name": "stdout",
     "output_type": "stream",
     "text": [
      "418.13077998161316\n"
     ]
    }
   ],
   "source": [
    "import time\n",
    "t1 = time.time()\n",
    "res = gp.gsea(data=bdata.to_df().T,\n",
    "        gene_sets=gs,\n",
    "        cls=bdata.obs.disease,\n",
    "        permutation_num=1000,\n",
    "        outdir=None,\n",
    "        threads= 8)\n",
    "t2=time.time()\n",
    "print(t2-t1)"
   ]
  },
  {
   "cell_type": "code",
   "execution_count": 19,
   "id": "1bb7d215",
   "metadata": {},
   "outputs": [
    {
     "data": {
      "text/html": [
       "<div>\n",
       "<style scoped>\n",
       "    .dataframe tbody tr th:only-of-type {\n",
       "        vertical-align: middle;\n",
       "    }\n",
       "\n",
       "    .dataframe tbody tr th {\n",
       "        vertical-align: top;\n",
       "    }\n",
       "\n",
       "    .dataframe thead th {\n",
       "        text-align: right;\n",
       "    }\n",
       "</style>\n",
       "<table border=\"1\" class=\"dataframe\">\n",
       "  <thead>\n",
       "    <tr style=\"text-align: right;\">\n",
       "      <th></th>\n",
       "      <th>Name</th>\n",
       "      <th>Term</th>\n",
       "      <th>ES</th>\n",
       "      <th>NES</th>\n",
       "      <th>NOM p-val</th>\n",
       "      <th>FDR q-val</th>\n",
       "      <th>FWER p-val</th>\n",
       "      <th>Tag %</th>\n",
       "      <th>Gene %</th>\n",
       "      <th>Lead_genes</th>\n",
       "    </tr>\n",
       "  </thead>\n",
       "  <tbody>\n",
       "    <tr>\n",
       "      <th>0</th>\n",
       "      <td>gsea</td>\n",
       "      <td>T cell receptor signaling pathway (GO:0050852)</td>\n",
       "      <td>0.551565</td>\n",
       "      <td>2.378612</td>\n",
       "      <td>0.0</td>\n",
       "      <td>0.0</td>\n",
       "      <td>0.0</td>\n",
       "      <td>69/126</td>\n",
       "      <td>28.94%</td>\n",
       "      <td>PDE4D;PSME4;PTPRC;HLA-DRB5;HLA-DRB1;FBXW11;SPP...</td>\n",
       "    </tr>\n",
       "    <tr>\n",
       "      <th>1</th>\n",
       "      <td>gsea</td>\n",
       "      <td>lymphocyte differentiation (GO:0030098)</td>\n",
       "      <td>0.642425</td>\n",
       "      <td>2.341168</td>\n",
       "      <td>0.0</td>\n",
       "      <td>0.0</td>\n",
       "      <td>0.0</td>\n",
       "      <td>23/42</td>\n",
       "      <td>22.03%</td>\n",
       "      <td>KLF6;SOX4;ADAM17;PTPRC;RELB;VCAM1;ITGB1;PLCG2;...</td>\n",
       "    </tr>\n",
       "    <tr>\n",
       "      <th>2</th>\n",
       "      <td>gsea</td>\n",
       "      <td>regulation of interleukin-2 production (GO:003...</td>\n",
       "      <td>0.688742</td>\n",
       "      <td>2.331517</td>\n",
       "      <td>0.0</td>\n",
       "      <td>0.0</td>\n",
       "      <td>0.0</td>\n",
       "      <td>12/33</td>\n",
       "      <td>9.00%</td>\n",
       "      <td>PDE4D;RUNX1;ANXA1;PTPRC;SPTBN1;PLCG2;PDE4B;EZR...</td>\n",
       "    </tr>\n",
       "    <tr>\n",
       "      <th>3</th>\n",
       "      <td>gsea</td>\n",
       "      <td>response to molecule of bacterial origin (GO:0...</td>\n",
       "      <td>0.626404</td>\n",
       "      <td>2.330823</td>\n",
       "      <td>0.0</td>\n",
       "      <td>0.0</td>\n",
       "      <td>0.0</td>\n",
       "      <td>16/44</td>\n",
       "      <td>10.37%</td>\n",
       "      <td>TRIB1;C4B;CYP27B1;CYRIB;ADAM17;FER;RPS6KA3;GCH...</td>\n",
       "    </tr>\n",
       "    <tr>\n",
       "      <th>4</th>\n",
       "      <td>gsea</td>\n",
       "      <td>positive regulation of ubiquitin-dependent pro...</td>\n",
       "      <td>0.58516</td>\n",
       "      <td>2.322724</td>\n",
       "      <td>0.0</td>\n",
       "      <td>0.0</td>\n",
       "      <td>0.0</td>\n",
       "      <td>27/70</td>\n",
       "      <td>21.89%</td>\n",
       "      <td>ARIH1;FBXW7;TRIB1;RNF19A;GSK3B;CSNK1A1;SMURF1;...</td>\n",
       "    </tr>\n",
       "  </tbody>\n",
       "</table>\n",
       "</div>"
      ],
      "text/plain": [
       "   Name                                               Term        ES  \\\n",
       "0  gsea     T cell receptor signaling pathway (GO:0050852)  0.551565   \n",
       "1  gsea            lymphocyte differentiation (GO:0030098)  0.642425   \n",
       "2  gsea  regulation of interleukin-2 production (GO:003...  0.688742   \n",
       "3  gsea  response to molecule of bacterial origin (GO:0...  0.626404   \n",
       "4  gsea  positive regulation of ubiquitin-dependent pro...   0.58516   \n",
       "\n",
       "        NES NOM p-val FDR q-val FWER p-val   Tag %  Gene %  \\\n",
       "0  2.378612       0.0       0.0        0.0  69/126  28.94%   \n",
       "1  2.341168       0.0       0.0        0.0   23/42  22.03%   \n",
       "2  2.331517       0.0       0.0        0.0   12/33   9.00%   \n",
       "3  2.330823       0.0       0.0        0.0   16/44  10.37%   \n",
       "4  2.322724       0.0       0.0        0.0   27/70  21.89%   \n",
       "\n",
       "                                          Lead_genes  \n",
       "0  PDE4D;PSME4;PTPRC;HLA-DRB5;HLA-DRB1;FBXW11;SPP...  \n",
       "1  KLF6;SOX4;ADAM17;PTPRC;RELB;VCAM1;ITGB1;PLCG2;...  \n",
       "2  PDE4D;RUNX1;ANXA1;PTPRC;SPTBN1;PLCG2;PDE4B;EZR...  \n",
       "3  TRIB1;C4B;CYP27B1;CYRIB;ADAM17;FER;RPS6KA3;GCH...  \n",
       "4  ARIH1;FBXW7;TRIB1;RNF19A;GSK3B;CSNK1A1;SMURF1;...  "
      ]
     },
     "execution_count": 19,
     "metadata": {},
     "output_type": "execute_result"
    }
   ],
   "source": [
    "res.res2d.head(5)"
   ]
  },
  {
   "cell_type": "code",
   "execution_count": 20,
   "id": "117c9b68",
   "metadata": {},
   "outputs": [
    {
     "data": {
      "text/plain": [
       "14.136559496188267"
      ]
     },
     "execution_count": 20,
     "metadata": {},
     "output_type": "execute_result"
    }
   ],
   "source": [
    "sum(res.res2d[\"NOM p-val\"]<0.011)/len(gs)*100"
   ]
  },
  {
   "cell_type": "markdown",
   "id": "6e1c26c0",
   "metadata": {},
   "source": [
    "# Test GSHAPA"
   ]
  },
  {
   "cell_type": "code",
   "execution_count": 21,
   "id": "80f147b6",
   "metadata": {},
   "outputs": [],
   "source": [
    "gs = gp.get_library(\"GO_Biological_Process_2021\")#KEGG_2021_Human\n"
   ]
  },
  {
   "cell_type": "code",
   "execution_count": 22,
   "id": "b18b00f5",
   "metadata": {},
   "outputs": [],
   "source": [
    "from gshapa.gshapa import GSHAPA3\n",
    "from sklearn.ensemble import RandomForestClassifier\n",
    "import time"
   ]
  },
  {
   "cell_type": "code",
   "execution_count": 23,
   "id": "e9410d2a",
   "metadata": {},
   "outputs": [
    {
     "data": {
      "application/vnd.jupyter.widget-view+json": {
       "model_id": "69eda975e0034e2197847c5e90037952",
       "version_major": 2,
       "version_minor": 0
      },
      "text/plain": [
       "VBox(children=(  0%|          | 0/6034 [00:00<?, ?it/s],))"
      ]
     },
     "metadata": {},
     "output_type": "display_data"
    },
    {
     "name": "stdout",
     "output_type": "stream",
     "text": [
      "273.0234360694885\n"
     ]
    }
   ],
   "source": [
    "t1 = time.time()\n",
    "\n",
    "# Define parameters\n",
    "MODEL = RandomForestClassifier(random_state=33,\n",
    "                               max_features=\"sqrt\",\n",
    "                               n_estimators=1000,\n",
    "                               n_jobs=-1)\n",
    "                               \n",
    "                               \n",
    "                               \n",
    "TEST_SET_SIZE = 0.2\n",
    "\n",
    "# Build TreeSHAPGSEALite object\n",
    "tsl = GSHAPA3(MODEL,TEST_SET_SIZE,random_state=33)\n",
    "\n",
    "# Fit model\n",
    "tsl.fit(bdata.to_df(), bdata.obs[\"disease\"])\n",
    "\n",
    "# Explain each gene contribution\n",
    "X_explain = tsl.X_test[tsl.y_test==\"diabetic nephropathy\"]\n",
    "tsl.shap(X_explain)\n",
    "\n",
    "# Compute pvalues\n",
    "res2 = tsl.explain_gene_sets(gs,'diabetic nephropathy',n_tests=1000)\n",
    "\n",
    "t2=time.time()\n",
    "print(t2-t1)"
   ]
  },
  {
   "cell_type": "code",
   "execution_count": 24,
   "id": "019b6616",
   "metadata": {},
   "outputs": [
    {
     "data": {
      "text/plain": [
       "0.9898257028365199"
      ]
     },
     "execution_count": 24,
     "metadata": {},
     "output_type": "execute_result"
    }
   ],
   "source": [
    "from sklearn.metrics import roc_auc_score\n",
    "roc_auc_score(tsl.y_test, tsl.model.predict_proba(tsl.X_test)[:,1])"
   ]
  },
  {
   "cell_type": "code",
   "execution_count": 25,
   "id": "8b25db4d",
   "metadata": {},
   "outputs": [
    {
     "data": {
      "text/plain": [
       "0.8284343565320835"
      ]
     },
     "execution_count": 25,
     "metadata": {},
     "output_type": "execute_result"
    }
   ],
   "source": [
    "from sklearn.metrics import balanced_accuracy_score\n",
    "balanced_accuracy_score(tsl.y_test, tsl.model.predict(tsl.X_test))"
   ]
  },
  {
   "cell_type": "code",
   "execution_count": 26,
   "id": "16418cbb",
   "metadata": {},
   "outputs": [
    {
     "name": "stdout",
     "output_type": "stream",
     "text": [
      "                      precision    recall  f1-score   support\n",
      "\n",
      "diabetic nephropathy       1.00      0.66      0.79      1173\n",
      "              normal       0.85      1.00      0.92      2357\n",
      "\n",
      "            accuracy                           0.89      3530\n",
      "           macro avg       0.93      0.83      0.86      3530\n",
      "        weighted avg       0.90      0.89      0.88      3530\n",
      "\n"
     ]
    }
   ],
   "source": [
    "from sklearn.metrics import classification_report\n",
    "print(classification_report(tsl.y_test, tsl.model.predict(tsl.X_test)))"
   ]
  },
  {
   "cell_type": "code",
   "execution_count": 27,
   "id": "3c3dc969",
   "metadata": {},
   "outputs": [
    {
     "data": {
      "text/plain": [
       "2.5853496851176665"
      ]
     },
     "execution_count": 27,
     "metadata": {},
     "output_type": "execute_result"
    }
   ],
   "source": [
    "sum(res2[\"P-values\"]<0.011)/len(gs)*100"
   ]
  },
  {
   "cell_type": "markdown",
   "id": "bee28cbb",
   "metadata": {},
   "source": [
    "# Compare both methods"
   ]
  },
  {
   "cell_type": "code",
   "execution_count": 28,
   "id": "3c7d6821",
   "metadata": {},
   "outputs": [],
   "source": [
    "pval_gsea= res.res2d[\"NOM p-val\"]\n",
    "pval_gsea.index = res.res2d[\"Term\"]\n",
    "pval_treeshap = res2[\"P-values\"].loc[pval_gsea.index]\n",
    "\n",
    "pvals = pd.DataFrame({\"pval_gsea\":pval_gsea,\"pval_gshapa\":pval_treeshap})"
   ]
  },
  {
   "cell_type": "code",
   "execution_count": 29,
   "id": "7cb8c750",
   "metadata": {},
   "outputs": [
    {
     "name": "stdout",
     "output_type": "stream",
     "text": [
      "\\begin{tabular}{lrr}\n",
      "\\toprule\n",
      "pval\\_gshapa &  False &  True  \\\\\n",
      "pval\\_gsea &        &        \\\\\n",
      "\\midrule\n",
      "False     &   1400 &     29 \\\\\n",
      "True      &    823 &     30 \\\\\n",
      "\\bottomrule\n",
      "\\end{tabular}\n",
      "\n"
     ]
    },
    {
     "name": "stderr",
     "output_type": "stream",
     "text": [
      "In future versions `DataFrame.to_latex` is expected to utilise the base implementation of `Styler.to_latex` for formatting and rendering. The arguments signature may therefore change. It is recommended instead to use `DataFrame.style.to_latex` which also contains additional functionality.\n"
     ]
    }
   ],
   "source": [
    "print(pd.crosstab(pvals[\"pval_gsea\"]<0.011, pvals[\"pval_gshapa\"]<0.011).to_latex())"
   ]
  },
  {
   "cell_type": "code",
   "execution_count": 30,
   "id": "fcd9616d",
   "metadata": {},
   "outputs": [
    {
     "data": {
      "text/plain": [
       "SignificanceResult(statistic=1.7597519587715256, pvalue=0.039951580623442826)"
      ]
     },
     "execution_count": 30,
     "metadata": {},
     "output_type": "execute_result"
    }
   ],
   "source": [
    "from scipy.stats import fisher_exact\n",
    "fisher_exact(pd.crosstab(pvals[\"pval_gsea\"]<0.011, pvals[\"pval_gshapa\"]<0.011))"
   ]
  },
  {
   "cell_type": "code",
   "execution_count": 31,
   "id": "ebcff834",
   "metadata": {},
   "outputs": [
    {
     "data": {
      "text/html": [
       "<div>\n",
       "<style scoped>\n",
       "    .dataframe tbody tr th:only-of-type {\n",
       "        vertical-align: middle;\n",
       "    }\n",
       "\n",
       "    .dataframe tbody tr th {\n",
       "        vertical-align: top;\n",
       "    }\n",
       "\n",
       "    .dataframe thead th {\n",
       "        text-align: right;\n",
       "    }\n",
       "</style>\n",
       "<table border=\"1\" class=\"dataframe\">\n",
       "  <thead>\n",
       "    <tr style=\"text-align: right;\">\n",
       "      <th></th>\n",
       "      <th>pval_gsea</th>\n",
       "      <th>pval_gshapa</th>\n",
       "    </tr>\n",
       "    <tr>\n",
       "      <th>Term</th>\n",
       "      <th></th>\n",
       "      <th></th>\n",
       "    </tr>\n",
       "  </thead>\n",
       "  <tbody>\n",
       "    <tr>\n",
       "      <th>canonical glycolysis (GO:0061621)</th>\n",
       "      <td>0.00578</td>\n",
       "      <td>0.000</td>\n",
       "    </tr>\n",
       "    <tr>\n",
       "      <th>hemopoiesis (GO:0030097)</th>\n",
       "      <td>0.023438</td>\n",
       "      <td>0.000</td>\n",
       "    </tr>\n",
       "    <tr>\n",
       "      <th>negative regulation of neurogenesis (GO:0050768)</th>\n",
       "      <td>0.0</td>\n",
       "      <td>0.000</td>\n",
       "    </tr>\n",
       "    <tr>\n",
       "      <th>regulation of T cell proliferation (GO:0042129)</th>\n",
       "      <td>0.0</td>\n",
       "      <td>0.000</td>\n",
       "    </tr>\n",
       "    <tr>\n",
       "      <th>pore complex assembly (GO:0046931)</th>\n",
       "      <td>0.0</td>\n",
       "      <td>0.000</td>\n",
       "    </tr>\n",
       "    <tr>\n",
       "      <th>glycolytic process through glucose-6-phosphate (GO:0061620)</th>\n",
       "      <td>0.001931</td>\n",
       "      <td>0.000</td>\n",
       "    </tr>\n",
       "    <tr>\n",
       "      <th>negative regulation of axonogenesis (GO:0050771)</th>\n",
       "      <td>0.12069</td>\n",
       "      <td>0.000</td>\n",
       "    </tr>\n",
       "    <tr>\n",
       "      <th>negative regulation of amyloid precursor protein catabolic process (GO:1902992)</th>\n",
       "      <td>0.107071</td>\n",
       "      <td>0.001</td>\n",
       "    </tr>\n",
       "    <tr>\n",
       "      <th>negative regulation of developmental growth (GO:0048640)</th>\n",
       "      <td>0.022449</td>\n",
       "      <td>0.001</td>\n",
       "    </tr>\n",
       "    <tr>\n",
       "      <th>positive regulation of ERBB signaling pathway (GO:1901186)</th>\n",
       "      <td>0.063241</td>\n",
       "      <td>0.001</td>\n",
       "    </tr>\n",
       "  </tbody>\n",
       "</table>\n",
       "</div>"
      ],
      "text/plain": [
       "                                                   pval_gsea  pval_gshapa\n",
       "Term                                                                     \n",
       "canonical glycolysis (GO:0061621)                    0.00578        0.000\n",
       "hemopoiesis (GO:0030097)                            0.023438        0.000\n",
       "negative regulation of neurogenesis (GO:0050768)         0.0        0.000\n",
       "regulation of T cell proliferation (GO:0042129)          0.0        0.000\n",
       "pore complex assembly (GO:0046931)                       0.0        0.000\n",
       "glycolytic process through glucose-6-phosphate ...  0.001931        0.000\n",
       "negative regulation of axonogenesis (GO:0050771)     0.12069        0.000\n",
       "negative regulation of amyloid precursor protei...  0.107071        0.001\n",
       "negative regulation of developmental growth (GO...  0.022449        0.001\n",
       "positive regulation of ERBB signaling pathway (...  0.063241        0.001"
      ]
     },
     "execution_count": 31,
     "metadata": {},
     "output_type": "execute_result"
    }
   ],
   "source": [
    "pvals.sort_values(\"pval_gshapa\")[:10]"
   ]
  },
  {
   "cell_type": "markdown",
   "id": "ced4988e",
   "metadata": {},
   "source": [
    "# Check specific patients"
   ]
  },
  {
   "cell_type": "code",
   "execution_count": 32,
   "id": "5111a5d1",
   "metadata": {},
   "outputs": [],
   "source": [
    "bdata_test = bdata[tsl.X_test.index]\n",
    "bdata_test_patients = bdata_test[bdata_test.obs[\"Sample Characteristic[disease]\"]=='diabetic nephropathy']\n",
    "individuals = list(set(bdata_test_patients.obs[\"Sample Characteristic[individual]\"]))"
   ]
  },
  {
   "cell_type": "code",
   "execution_count": 33,
   "id": "bfd25864",
   "metadata": {},
   "outputs": [
    {
     "name": "stdout",
     "output_type": "stream",
     "text": [
      "Diabetes_1\n"
     ]
    },
    {
     "ename": "NameError",
     "evalue": "name 'bdata_explain' is not defined",
     "output_type": "error",
     "traceback": [
      "\u001b[0;31m---------------------------------------------------------------------------\u001b[0m",
      "\u001b[0;31mNameError\u001b[0m                                 Traceback (most recent call last)",
      "Cell \u001b[0;32mIn[33], line 5\u001b[0m\n\u001b[1;32m      3\u001b[0m \u001b[38;5;28mprint\u001b[39m(i)\n\u001b[1;32m      4\u001b[0m bdataexplain \u001b[38;5;241m=\u001b[39m bdata_test_patients[bdata_test_patients\u001b[38;5;241m.\u001b[39mobs[\u001b[38;5;124m\"\u001b[39m\u001b[38;5;124mSample Characteristic[individual]\u001b[39m\u001b[38;5;124m\"\u001b[39m] \u001b[38;5;241m==\u001b[39m i]\n\u001b[0;32m----> 5\u001b[0m tsl\u001b[38;5;241m.\u001b[39mshap(\u001b[43mbdata_explain\u001b[49m\u001b[38;5;241m.\u001b[39mto_df())\n\u001b[1;32m      6\u001b[0m res_i \u001b[38;5;241m=\u001b[39m tsl\u001b[38;5;241m.\u001b[39mexplain_gene_sets(gs,\u001b[38;5;124m'\u001b[39m\u001b[38;5;124mdiabetic nephropathy\u001b[39m\u001b[38;5;124m'\u001b[39m,n_tests\u001b[38;5;241m=\u001b[39m\u001b[38;5;241m1000\u001b[39m)\n\u001b[1;32m      7\u001b[0m individuals_tests[i] \u001b[38;5;241m=\u001b[39m res_i\n",
      "\u001b[0;31mNameError\u001b[0m: name 'bdata_explain' is not defined"
     ]
    }
   ],
   "source": [
    "individuals_tests = {}\n",
    "for i in individuals:\n",
    "    print(i)\n",
    "    bdataexplain = bdata_test_patients[bdata_test_patients.obs[\"Sample Characteristic[individual]\"] == i]\n",
    "    tsl.shap(bdata_explain.to_df())\n",
    "    res_i = tsl.explain_gene_sets(gs,'diabetic nephropathy',n_tests=1000)\n",
    "    individuals_tests[i] = res_i\n",
    "    "
   ]
  },
  {
   "cell_type": "code",
   "execution_count": null,
   "id": "3eb33cce",
   "metadata": {},
   "outputs": [],
   "source": [
    "p_values_patients = {}\n",
    "for i in individuals_tests:\n",
    "    res_i = individuals_tests[i]\n",
    "    p_values_patients[i] = res_i[\"corrected P-values\"]\n",
    "p_values_patients = pd.DataFrame(p_values_patients)\n",
    "scores = -np.log10(p_values_patients+1e-100)"
   ]
  },
  {
   "cell_type": "code",
   "execution_count": null,
   "id": "80202d10",
   "metadata": {},
   "outputs": [],
   "source": [
    "significant_donors = scores[scores.sum(axis=1)>0]\n",
    "significant_donors.columns = [\"Donor \"+c.split(\"_\")[-1] for c in significant_donors.columns]"
   ]
  },
  {
   "cell_type": "code",
   "execution_count": null,
   "id": "40c89a58",
   "metadata": {},
   "outputs": [],
   "source": [
    "import seaborn as sns\n",
    "sns.set(font_scale=1.4)\n",
    "ax = sns.clustermap(significant_donors,figsize=(4,5),yticklabels=True,)\n",
    "ax.cax.set_visible(False)"
   ]
  },
  {
   "cell_type": "code",
   "execution_count": null,
   "id": "be54b834",
   "metadata": {},
   "outputs": [],
   "source": []
  }
 ],
 "metadata": {
  "kernelspec": {
   "display_name": "Python 3 (ipykernel)",
   "language": "python",
   "name": "python3"
  },
  "language_info": {
   "codemirror_mode": {
    "name": "ipython",
    "version": 3
   },
   "file_extension": ".py",
   "mimetype": "text/x-python",
   "name": "python",
   "nbconvert_exporter": "python",
   "pygments_lexer": "ipython3",
   "version": "3.10.8"
  }
 },
 "nbformat": 4,
 "nbformat_minor": 5
}
