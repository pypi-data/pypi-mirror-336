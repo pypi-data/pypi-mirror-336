{
 "cells": [
  {
   "cell_type": "code",
   "execution_count": 1,
   "metadata": {},
   "outputs": [],
   "source": [
    "import collections\n",
    "\n",
    "import pandas as pd\n",
    "import tsam.timeseriesaggregation as tsam\n",
    "import matplotlib.pyplot as plt"
   ]
  },
  {
   "cell_type": "code",
   "execution_count": 2,
   "metadata": {},
   "outputs": [
    {
     "data": {
      "application/vnd.microsoft.datawrangler.viewer.v0+json": {
       "columns": [
        {
         "name": "(None, 'TimeStep')",
         "rawType": "object",
         "type": "unknown"
        },
        {
         "name": "demand_el",
         "rawType": "float64",
         "type": "float"
        },
        {
         "name": "pv",
         "rawType": "float64",
         "type": "float"
        },
        {
         "name": "wind",
         "rawType": "float64",
         "type": "float"
        }
       ],
       "conversionMethod": "pd.DataFrame",
       "ref": "da7cc4bf-3a93-4a7a-9cdd-bad5331d8bf9",
       "rows": [
        [
         "(0, np.int64(0))",
         "179980.73334748752",
         "0.0",
         "0.3985125"
        ],
        [
         "(0, np.int64(1))",
         "170332.33043340626",
         "0.0",
         "0.4151675"
        ],
        [
         "(0, np.int64(2))",
         "177246.99995785",
         "0.0",
         "0.43472312500000004"
        ],
        [
         "(0, np.int64(3))",
         "182943.7922668125",
         "0.0",
         "0.38137875"
        ],
        [
         "(0, np.int64(4))",
         "196807.74649000625",
         "0.0",
         "0.36495562499999995"
        ],
        [
         "(0, np.int64(5))",
         "210685.25832310002",
         "0.01063629375",
         "0.32049"
        ],
        [
         "(0, np.int64(6))",
         "214009.46889420628",
         "0.06928275",
         "0.35083875"
        ],
        [
         "(0, np.int64(7))",
         "229178.99210773126",
         "0.14445124999999998",
         "0.47621"
        ],
        [
         "(0, np.int64(8))",
         "262358.79050493124",
         "0.23982687499999997",
         "0.5276443749999999"
        ],
        [
         "(0, np.int64(9))",
         "271633.34953668126",
         "0.273353125",
         "0.603916875"
        ],
        [
         "(0, np.int64(10))",
         "276851.01014150627",
         "0.396236875",
         "0.7265724999999998"
        ],
        [
         "(0, np.int64(11))",
         "273664.10642843123",
         "0.475985",
         "0.9183093750000001"
        ],
        [
         "(0, np.int64(12))",
         "269286.72917951876",
         "0.41610187499999995",
         "0.797045"
        ],
        [
         "(0, np.int64(13))",
         "244495.91827178124",
         "0.34501624999999997",
         "0.6598637499999999"
        ],
        [
         "(0, np.int64(14))",
         "223827.77462211248",
         "0.330935625",
         "0.56030625"
        ],
        [
         "(0, np.int64(15))",
         "221147.4062928125",
         "0.251511875",
         "0.49806125"
        ],
        [
         "(0, np.int64(16))",
         "232277.62712635627",
         "0.185765",
         "0.455419375"
        ],
        [
         "(0, np.int64(17))",
         "256593.3447669625",
         "0.12773624999999997",
         "0.3365975"
        ],
        [
         "(0, np.int64(18))",
         "266242.03614083753",
         "0.059228125",
         "0.304003125"
        ],
        [
         "(0, np.int64(19))",
         "250773.09166968125",
         "0.00251359625",
         "0.27935687499999995"
        ],
        [
         "(0, np.int64(20))",
         "239208.45039879996",
         "0.0",
         "0.29079187500000003"
        ],
        [
         "(0, np.int64(21))",
         "216017.72592265627",
         "0.0",
         "0.264458125"
        ],
        [
         "(0, np.int64(22))",
         "208421.1374646875",
         "0.0",
         "0.25169374999999994"
        ],
        [
         "(0, np.int64(23))",
         "202328.57832963124",
         "0.0",
         "0.212554375"
        ],
        [
         "(0, np.int64(24))",
         "194343.43454025625",
         "0.0",
         "0.22491125"
        ],
        [
         "(0, np.int64(25))",
         "187178.95884134376",
         "0.0",
         "0.237349375"
        ],
        [
         "(0, np.int64(26))",
         "191433.16376171875",
         "0.0",
         "0.19835062499999997"
        ],
        [
         "(0, np.int64(27))",
         "199538.88374156874",
         "0.0",
         "0.185020625"
        ],
        [
         "(0, np.int64(28))",
         "206652.878977975",
         "0.0",
         "0.132659375"
        ],
        [
         "(0, np.int64(29))",
         "217951.56032636872",
         "0.0216719375",
         "0.028046625"
        ],
        [
         "(0, np.int64(30))",
         "278704.6527247875",
         "0.10883256250000001",
         "0.0150820625"
        ],
        [
         "(0, np.int64(31))",
         "291006.3087482875",
         "0.2110175",
         "0.0187983125"
        ],
        [
         "(0, np.int64(32))",
         "294842.53543911246",
         "0.31387937499999996",
         "0.0330304375"
        ],
        [
         "(0, np.int64(33))",
         "299926.06224356254",
         "0.44640875",
         "0.052891437500000006"
        ],
        [
         "(0, np.int64(34))",
         "308618.22096785",
         "0.550281875",
         "0.0644434375"
        ],
        [
         "(0, np.int64(35))",
         "303189.1193400625",
         "0.5818018749999999",
         "0.08795937499999999"
        ],
        [
         "(0, np.int64(36))",
         "297189.155796275",
         "0.517856875",
         "0.10231906249999999"
        ],
        [
         "(0, np.int64(37))",
         "292987.1620971125",
         "0.37209000000000003",
         "0.07510381249999999"
        ],
        [
         "(0, np.int64(38))",
         "288968.6288216875",
         "0.29359375",
         "0.0452256875"
        ],
        [
         "(0, np.int64(39))",
         "282519.53339146875",
         "0.22495249999999997",
         "0.022769"
        ],
        [
         "(0, np.int64(40))",
         "284227.50378295",
         "0.16512312499999998",
         "0.011941312499999999"
        ],
        [
         "(0, np.int64(41))",
         "285972.6854868125",
         "0.088033625",
         "0.0061585437499999994"
        ],
        [
         "(0, np.int64(42))",
         "287275.94679885",
         "0.04214125",
         "0.0"
        ],
        [
         "(0, np.int64(43))",
         "280492.8149367188",
         "0.0",
         "0.00887603125"
        ],
        [
         "(0, np.int64(44))",
         "275084.4824135",
         "0.0",
         "0.039389"
        ],
        [
         "(0, np.int64(45))",
         "226436.31646471252",
         "0.0",
         "0.114220625"
        ],
        [
         "(0, np.int64(46))",
         "212109.0958256125",
         "0.0",
         "0.15184875"
        ],
        [
         "(0, np.int64(47))",
         "205030.58114286876",
         "0.0",
         "0.16798375"
        ],
        [
         "(1, np.int64(0))",
         "242691.9869249",
         "0.0",
         "0.13067"
        ],
        [
         "(1, np.int64(1))",
         "231644.74635640834",
         "0.0",
         "0.15051"
        ]
       ],
       "shape": {
        "columns": 3,
        "rows": 576
       }
      },
      "text/html": [
       "<div>\n",
       "<style scoped>\n",
       "    .dataframe tbody tr th:only-of-type {\n",
       "        vertical-align: middle;\n",
       "    }\n",
       "\n",
       "    .dataframe tbody tr th {\n",
       "        vertical-align: top;\n",
       "    }\n",
       "\n",
       "    .dataframe thead th {\n",
       "        text-align: right;\n",
       "    }\n",
       "</style>\n",
       "<table border=\"1\" class=\"dataframe\">\n",
       "  <thead>\n",
       "    <tr style=\"text-align: right;\">\n",
       "      <th></th>\n",
       "      <th></th>\n",
       "      <th>demand_el</th>\n",
       "      <th>pv</th>\n",
       "      <th>wind</th>\n",
       "    </tr>\n",
       "    <tr>\n",
       "      <th></th>\n",
       "      <th>TimeStep</th>\n",
       "      <th></th>\n",
       "      <th></th>\n",
       "      <th></th>\n",
       "    </tr>\n",
       "  </thead>\n",
       "  <tbody>\n",
       "    <tr>\n",
       "      <th rowspan=\"5\" valign=\"top\">0</th>\n",
       "      <th>0</th>\n",
       "      <td>179980.733347</td>\n",
       "      <td>0.0</td>\n",
       "      <td>0.398512</td>\n",
       "    </tr>\n",
       "    <tr>\n",
       "      <th>1</th>\n",
       "      <td>170332.330433</td>\n",
       "      <td>0.0</td>\n",
       "      <td>0.415168</td>\n",
       "    </tr>\n",
       "    <tr>\n",
       "      <th>2</th>\n",
       "      <td>177246.999958</td>\n",
       "      <td>0.0</td>\n",
       "      <td>0.434723</td>\n",
       "    </tr>\n",
       "    <tr>\n",
       "      <th>3</th>\n",
       "      <td>182943.792267</td>\n",
       "      <td>0.0</td>\n",
       "      <td>0.381379</td>\n",
       "    </tr>\n",
       "    <tr>\n",
       "      <th>4</th>\n",
       "      <td>196807.746490</td>\n",
       "      <td>0.0</td>\n",
       "      <td>0.364956</td>\n",
       "    </tr>\n",
       "    <tr>\n",
       "      <th>...</th>\n",
       "      <th>...</th>\n",
       "      <td>...</td>\n",
       "      <td>...</td>\n",
       "      <td>...</td>\n",
       "    </tr>\n",
       "    <tr>\n",
       "      <th rowspan=\"5\" valign=\"top\">11</th>\n",
       "      <th>43</th>\n",
       "      <td>323666.494918</td>\n",
       "      <td>0.0</td>\n",
       "      <td>0.295475</td>\n",
       "    </tr>\n",
       "    <tr>\n",
       "      <th>44</th>\n",
       "      <td>283478.277566</td>\n",
       "      <td>0.0</td>\n",
       "      <td>0.377537</td>\n",
       "    </tr>\n",
       "    <tr>\n",
       "      <th>45</th>\n",
       "      <td>270892.200194</td>\n",
       "      <td>0.0</td>\n",
       "      <td>0.350480</td>\n",
       "    </tr>\n",
       "    <tr>\n",
       "      <th>46</th>\n",
       "      <td>262675.327043</td>\n",
       "      <td>0.0</td>\n",
       "      <td>0.329906</td>\n",
       "    </tr>\n",
       "    <tr>\n",
       "      <th>47</th>\n",
       "      <td>252700.387652</td>\n",
       "      <td>0.0</td>\n",
       "      <td>0.247323</td>\n",
       "    </tr>\n",
       "  </tbody>\n",
       "</table>\n",
       "<p>576 rows × 3 columns</p>\n",
       "</div>"
      ],
      "text/plain": [
       "                 demand_el   pv      wind\n",
       "   TimeStep                              \n",
       "0  0         179980.733347  0.0  0.398512\n",
       "   1         170332.330433  0.0  0.415168\n",
       "   2         177246.999958  0.0  0.434723\n",
       "   3         182943.792267  0.0  0.381379\n",
       "   4         196807.746490  0.0  0.364956\n",
       "...                    ...  ...       ...\n",
       "11 43        323666.494918  0.0  0.295475\n",
       "   44        283478.277566  0.0  0.377537\n",
       "   45        270892.200194  0.0  0.350480\n",
       "   46        262675.327043  0.0  0.329906\n",
       "   47        252700.387652  0.0  0.247323\n",
       "\n",
       "[576 rows x 3 columns]"
      ]
     },
     "execution_count": 2,
     "metadata": {},
     "output_type": "execute_result"
    }
   ],
   "source": [
    "data = pd.read_csv(\n",
    "    \"../storage_investment/storage_investment.csv\",\n",
    "    index_col=[\"timestep\"]\n",
    ")\n",
    "data.index = pd.date_range(\"2022-01-01\", periods=8760, freq=\"30min\")\n",
    "\n",
    "typical_periods = 12\n",
    "hours_per_period = 24\n",
    "\n",
    "aggregation1 = tsam.TimeSeriesAggregation(\n",
    "    timeSeries=data,\n",
    "    noTypicalPeriods=typical_periods,\n",
    "    hoursPerPeriod=hours_per_period,\n",
    "    clusterMethod=\"k_means\",\n",
    "    sortValues=False,\n",
    "    rescaleClusterPeriods=False,\n",
    "    extremePeriodMethod=\"replace_cluster_center\",\n",
    "    addPeakMax=[\"wind\", \"pv\"],\n",
    "    representationMethod=\"durationRepresentation\",\n",
    ")\n",
    "\n",
    "aggregation1.createTypicalPeriods()\n"
   ]
  },
  {
   "cell_type": "code",
   "execution_count": 6,
   "metadata": {},
   "outputs": [
    {
     "name": "stdout",
     "output_type": "stream",
     "text": [
      "False\n"
     ]
    }
   ],
   "source": [
    "print(aggregation1.segmentation)"
   ]
  },
  {
   "cell_type": "code",
   "execution_count": 28,
   "metadata": {},
   "outputs": [
    {
     "name": "stdout",
     "output_type": "stream",
     "text": [
      "48.0\n"
     ]
    }
   ],
   "source": [
    "occurences = collections.Counter(aggregation1.clusterOrder)\n",
    "print(aggregation1.hoursPerPeriod / aggregation1.resolution)"
   ]
  },
  {
   "cell_type": "code",
   "execution_count": 26,
   "metadata": {},
   "outputs": [
    {
     "name": "stdout",
     "output_type": "stream",
     "text": [
      "[11  6  6  6  6  6  3  4  8  6  8 11  3  7  4  6  8  4  9  4  3  6 11  7\n",
      "  4 10  3  7  4  1  4  4 10  3  1  2  1  6  3 10  3  7 10  9  5 10 10  1\n",
      "  3  5  0  7  4  9  4  0 10  5  5  7  9  7  1  5  5  7 10  9  0  5 10 10\n",
      "  5 10  9  0  5  5  1  0  4 10  0  1  0  0  0  7  9  0  7  9  5  7  7 10\n",
      "  0  0  9  1  6  5  9  7  7  1  9 10  5 10  5  5  9  9  0  7  9  4  2  9\n",
      "  0  5  0 10  0  0  9  0  3  3  9  0  0  7  1  1  4  9  5  4  7 10  7  4\n",
      " 11  8  2  3 11  2  3 11 11  8  2  2  2  8  9  2  3  4  7  4  8  7  4  6\n",
      "  8  4  4  7  4  4  6  2  8  4 11 10  8 11 11]\n"
     ]
    }
   ],
   "source": [
    "print(aggregation1.clusterOrder)"
   ]
  },
  {
   "cell_type": "code",
   "execution_count": 15,
   "metadata": {},
   "outputs": [],
   "source": [
    "data2 = aggregation1.predictOriginalData()"
   ]
  },
  {
   "cell_type": "code",
   "execution_count": null,
   "metadata": {},
   "outputs": [
    {
     "ename": "AttributeError",
     "evalue": "'DataFrame' object has no attribute 'segmentDurationDict'",
     "output_type": "error",
     "traceback": [
      "\u001b[0;31m---------------------------------------------------------------------------\u001b[0m",
      "\u001b[0;31mAttributeError\u001b[0m                            Traceback (most recent call last)",
      "\u001b[0;32m/tmp/ipykernel_7015/3609043106.py\u001b[0m in \u001b[0;36m?\u001b[0;34m()\u001b[0m\n\u001b[0;32m----> 1\u001b[0;31m \u001b[0mprint\u001b[0m\u001b[0;34m(\u001b[0m\u001b[0mdata2\u001b[0m\u001b[0;34m.\u001b[0m\u001b[0msegmentDurationDict\u001b[0m\u001b[0;34m[\u001b[0m\u001b[0;34m\"Segment Duration\"\u001b[0m\u001b[0;34m]\u001b[0m\u001b[0;34m.\u001b[0m\u001b[0mvalues\u001b[0m\u001b[0;34m(\u001b[0m\u001b[0;34m)\u001b[0m\u001b[0;34m)\u001b[0m\u001b[0;34m\u001b[0m\u001b[0;34m\u001b[0m\u001b[0m\n\u001b[0m",
      "\u001b[0;32m~/Projekte/oemof/oemof-solph/.venv/lib64/python3.13/site-packages/pandas/core/generic.py\u001b[0m in \u001b[0;36m?\u001b[0;34m(self, name)\u001b[0m\n\u001b[1;32m   6295\u001b[0m             \u001b[0;32mand\u001b[0m \u001b[0mname\u001b[0m \u001b[0;32mnot\u001b[0m \u001b[0;32min\u001b[0m \u001b[0mself\u001b[0m\u001b[0;34m.\u001b[0m\u001b[0m_accessors\u001b[0m\u001b[0;34m\u001b[0m\u001b[0;34m\u001b[0m\u001b[0m\n\u001b[1;32m   6296\u001b[0m             \u001b[0;32mand\u001b[0m \u001b[0mself\u001b[0m\u001b[0;34m.\u001b[0m\u001b[0m_info_axis\u001b[0m\u001b[0;34m.\u001b[0m\u001b[0m_can_hold_identifiers_and_holds_name\u001b[0m\u001b[0;34m(\u001b[0m\u001b[0mname\u001b[0m\u001b[0;34m)\u001b[0m\u001b[0;34m\u001b[0m\u001b[0;34m\u001b[0m\u001b[0m\n\u001b[1;32m   6297\u001b[0m         \u001b[0;34m)\u001b[0m\u001b[0;34m:\u001b[0m\u001b[0;34m\u001b[0m\u001b[0;34m\u001b[0m\u001b[0m\n\u001b[1;32m   6298\u001b[0m             \u001b[0;32mreturn\u001b[0m \u001b[0mself\u001b[0m\u001b[0;34m[\u001b[0m\u001b[0mname\u001b[0m\u001b[0;34m]\u001b[0m\u001b[0;34m\u001b[0m\u001b[0;34m\u001b[0m\u001b[0m\n\u001b[0;32m-> 6299\u001b[0;31m         \u001b[0;32mreturn\u001b[0m \u001b[0mobject\u001b[0m\u001b[0;34m.\u001b[0m\u001b[0m__getattribute__\u001b[0m\u001b[0;34m(\u001b[0m\u001b[0mself\u001b[0m\u001b[0;34m,\u001b[0m \u001b[0mname\u001b[0m\u001b[0;34m)\u001b[0m\u001b[0;34m\u001b[0m\u001b[0;34m\u001b[0m\u001b[0m\n\u001b[0m",
      "\u001b[0;31mAttributeError\u001b[0m: 'DataFrame' object has no attribute 'segmentDurationDict'"
     ]
    }
   ],
   "source": []
  },
  {
   "cell_type": "code",
   "execution_count": 17,
   "metadata": {},
   "outputs": [
    {
     "data": {
      "image/png": "[encoded data removed]",
      "text/plain": [
       "<Figure size 640x480 with 1 Axes>"
      ]
     },
     "metadata": {},
     "output_type": "display_data"
    }
   ],
   "source": [
    "plt.plot(sorted(data[\"pv\"])[::-1])\n",
    "plt.plot(sorted(data2[\"pv\"])[::-1])\n",
    "plt.show()         "
   ]
  }
 ],
 "metadata": {
  "kernelspec": {
   "display_name": ".venv",
   "language": "python",
   "name": "python3"
  },
  "language_info": {
   "codemirror_mode": {
    "name": "ipython",
    "version": 3
   },
   "file_extension": ".py",
   "mimetype": "text/x-python",
   "name": "python",
   "nbconvert_exporter": "python",
   "pygments_lexer": "ipython3",
   "version": "3.13.2"
  }
 },
 "nbformat": 4,
 "nbformat_minor": 2
}
