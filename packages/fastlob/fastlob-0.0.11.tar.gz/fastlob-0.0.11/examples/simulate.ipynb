{
 "cells": [
  {
   "cell_type": "code",
   "execution_count": 1,
   "id": "eadfbd02",
   "metadata": {},
   "outputs": [],
   "source": [
    "import random\n",
    "import time\n",
    "from scipy import stats\n",
    "from IPython.display import clear_output\n",
    "\n",
    "from fastlob import Orderbook, OrderParams, OrderSide"
   ]
  },
  {
   "cell_type": "code",
   "execution_count": 2,
   "id": "68e566bb",
   "metadata": {},
   "outputs": [],
   "source": [
    "def generate_orders(T: int, midprice: float):\n",
    "    result = list()\n",
    "    \n",
    "    for _ in range(T):\n",
    "    \n",
    "        n_ask_limits = stats.poisson.rvs(500)\n",
    "        n_bid_limits = stats.poisson.rvs(500)\n",
    "    \n",
    "        ask_limits_price = stats.expon.rvs(loc=midprice, scale=1, size=n_ask_limits)\n",
    "        bid_limits_price = -stats.expon.rvs(loc=midprice, scale=1, size=n_bid_limits) + 2*midprice\n",
    "    \n",
    "        ask_limits_quantities = stats.uniform.rvs(loc=1, scale=100, size=n_ask_limits)\n",
    "        bid_limits_quantities = stats.uniform.rvs(loc=1, scale=100, size=n_bid_limits)\n",
    "    \n",
    "        ask_limits_params = [OrderParams(OrderSide.ASK, p, q) for (p, q) in zip(ask_limits_price, ask_limits_quantities)]\n",
    "        bid_limits_params = [OrderParams(OrderSide.BID, p, q) for (p, q) in zip(bid_limits_price, bid_limits_quantities)]\n",
    "    \n",
    "        n_markets = stats.poisson.rvs(100)\n",
    "    \n",
    "        markets_price = stats.norm.rvs(loc=midprice, scale=2, size=n_markets)\n",
    "        markets_quantities = stats.uniform.rvs(loc=1, scale=100, size=n_markets)\n",
    "        markets_bid_or_ask = [random.choice((OrderSide.BID, OrderSide.ASK)) for _ in range(n_markets)]\n",
    "    \n",
    "        markets_params = [OrderParams(s, p, q) for (s, p, q) in zip(markets_bid_or_ask, markets_price, markets_quantities)]\n",
    "    \n",
    "        orders = ask_limits_params + bid_limits_params + markets_params\n",
    "        random.shuffle(orders)\n",
    "        \n",
    "        result.append(orders)\n",
    "        \n",
    "    return result"
   ]
  },
  {
   "cell_type": "code",
   "execution_count": 3,
   "id": "3a672864",
   "metadata": {},
   "outputs": [],
   "source": [
    "def simulate(orders: list, speed: float):\n",
    "    ob = Orderbook('Simulation')\n",
    "    ob.start()\n",
    "\n",
    "    for o in orders:\n",
    "        ob.process_many(o)\n",
    "        ob.render()\n",
    "        time.sleep(speed)\n",
    "        clear_output(wait=True)\n",
    "        \n",
    "    ob.stop()"
   ]
  },
  {
   "cell_type": "code",
   "execution_count": 4,
   "id": "e2f638cd",
   "metadata": {},
   "outputs": [],
   "source": [
    "midprice = stats.uniform.rvs(0.1, 1000)\n",
    "orders = generate_orders(1000, midprice)"
   ]
  },
  {
   "cell_type": "code",
   "execution_count": null,
   "id": "561b31ef",
   "metadata": {},
   "outputs": [
    {
     "name": "stdout",
     "output_type": "stream",
     "text": [
      "   [ORDER-BOOK Simulation]\n",
      "\n",
      "\u001b[31m   ...(782 more asks)\n",
      " - 617.21 | 1287 | 68814.35 | 42472904.9635\n",
      " - 617.20 | 1326 | 68575.42 | 42324749.2240\n",
      " - 617.19 | 1319 | 64876.03 | 40040836.9557\n",
      " - 617.18 | 1399 | 70598.56 | 43572019.2608\n",
      " - 617.17 | 1277 | 65608.80 | 40491783.0960\n",
      " - 617.16 | 1383 | 70147.47 | 43292212.5852\n",
      " - 617.15 | 1421 | 72324.53 | 44635083.6895\n",
      " - 617.14 | 1384 | 70360.49 | 43422272.7986\n",
      " - 617.13 | 1317 | 66732.26 | 41182479.6138\n",
      " - 617.12 | 316 | 16208.44 | 10002552.4928\n",
      "\u001b[0m ~~~~~~~~~~~~~~~~~~~~~~~~~~~~~~~~~~~~~~\n",
      "\u001b[32m - 617.04 | 002 | 00027.23 | 16801.9992\n",
      " - 617.03 | 170 | 08450.01 | 5213909.6703\n",
      " - 617.02 | 1358 | 68663.43 | 42366709.5786\n",
      " - 617.01 | 1381 | 71207.54 | 43935764.2554\n",
      " - 617.00 | 1362 | 68702.05 | 42389164.8500\n",
      " - 616.99 | 1317 | 68838.10 | 42472419.3190\n",
      " - 616.98 | 1336 | 68650.77 | 42356152.0746\n",
      " - 616.97 | 1372 | 70058.41 | 43223937.2177\n",
      " - 616.96 | 1310 | 66478.71 | 41014704.9216\n",
      " - 616.95 | 1289 | 67531.02 | 41663262.7890\n",
      "   ...(774 more bids)\n",
      "\u001b[0m\u001b[34m\n",
      "    spread = 0.08\u001b[0m\u001b[34m, midprice = 617.080\u001b[0m\n"
     ]
    }
   ],
   "source": [
    "simulate(orders, 0.1)"
   ]
  }
 ],
 "metadata": {
  "kernelspec": {
   "display_name": "venv",
   "language": "python",
   "name": "venv"
  },
  "language_info": {
   "codemirror_mode": {
    "name": "ipython",
    "version": 3
   },
   "file_extension": ".py",
   "mimetype": "text/x-python",
   "name": "python",
   "nbconvert_exporter": "python",
   "pygments_lexer": "ipython3",
   "version": "3.12.3"
  }
 },
 "nbformat": 4,
 "nbformat_minor": 5
}
