{
 "cells": [
  {
   "cell_type": "markdown",
   "metadata": {},
   "source": [
    "## Backends\n",
    "\n",
    "There are three backends that one can use to run quantum circuits : \n",
    "- ```monarq.default``` is the backend you should use if you want to run a circuit on MonarQ\n",
    "- ```monarq.sim``` is a noisy simulation based on MonarQ benchmarks\n",
    "- ```monarq.backup``` is a backup machine that will only be used when MonarQ is not available"
   ]
  },
  {
   "cell_type": "code",
   "execution_count": null,
   "metadata": {},
   "outputs": [
    {
     "ename": "TypeError",
     "evalue": "device() missing 1 required positional argument: 'name'",
     "output_type": "error",
     "traceback": [
      "\u001b[1;31m---------------------------------------------------------------------------\u001b[0m",
      "\u001b[1;31mTypeError\u001b[0m                                 Traceback (most recent call last)",
      "Cell \u001b[1;32mIn[1], line 3\u001b[0m\n\u001b[0;32m      1\u001b[0m \u001b[38;5;28;01mimport\u001b[39;00m \u001b[38;5;21;01mpennylane\u001b[39;00m \u001b[38;5;28;01mas\u001b[39;00m \u001b[38;5;21;01mqml\u001b[39;00m\n\u001b[1;32m----> 3\u001b[0m \u001b[43mqml\u001b[49m\u001b[38;5;241;43m.\u001b[39;49m\u001b[43mdevice\u001b[49m\u001b[43m(\u001b[49m\u001b[43m)\u001b[49m\n",
      "\u001b[1;31mTypeError\u001b[0m: device() missing 1 required positional argument: 'name'"
     ]
    }
   ],
   "source": [
    "import pennylane as qml\n",
    "from pennylane_calculquebec.API.client import MonarqClient\n",
    "my_client = MonarqClient(\"my host\", \"my user\", \"my access tocken\", \"my project\")\n",
    "\n",
    "qml.device(\"monarq.default\", wires=4, client=my_client, shots=1000)\n",
    "qml.device(\"monarq.sim\", wires=4, client=my_client, shots=1000)\n",
    "qml.device(\"monarq.backup\", wires=4, client=my_client, shots=1000)"
   ]
  },
  {
   "cell_type": "markdown",
   "metadata": {},
   "source": [
    "When working with configurations, you need to specify which machine you want the configuration to run on. "
   ]
  },
  {
   "cell_type": "code",
   "execution_count": null,
   "metadata": {},
   "outputs": [],
   "source": [
    "from pennylane_calculquebec.processing.config import MonarqDefaultConfig\n",
    "\n",
    "config_yamaska = MonarqDefaultConfig(machine_name=\"yamaska\") # yamaska is the code name of MonarQ\n",
    "config_yukon = MonarqDefaultConfig(machine_name=\"yukon\") # yukon is the code name for the backup machine\n",
    "\n",
    "qml.device(\"monarq.default\", wires=4, client = my_client, shots=1000, processing_config=config_yamaska)\n",
    "\n",
    "### make sure the machine specified in the configuration matches the machine in the device ###\n",
    "\n",
    "# for instance, this might not work since monarq.backup should use a \"yukon\" configuration\n",
    "qml.device(\"monarq.backup\", wires=4, client = my_client, shots=1000, processing_config=config_yamaska)"
   ]
  },
  {
   "cell_type": "markdown",
   "metadata": {},
   "source": [
    "When working with steps, you might need to specify which machine you want the step to run on"
   ]
  },
  {
   "cell_type": "code",
   "execution_count": null,
   "metadata": {},
   "outputs": [],
   "source": [
    "from pennylane_calculquebec.processing.steps import Swaps, \\\n",
    "                                                    ASTAR, \\\n",
    "                                                    VF2, \\\n",
    "                                                    ISMAGS, \\\n",
    "                                                    IBUReadoutMitigation, \\\n",
    "                                                    MatrixReadoutMitigation, \\\n",
    "                                                    GateNoiseSimulation, \\\n",
    "                                                    ReadoutNoiseSimulation\n",
    "\n",
    "swaps = Swaps(\"yamaska\")\n",
    "astar = ASTAR(\"yamaska\")\n",
    "vf2 = VF2(\"yamaska\")\n",
    "ismags = ISMAGS(\"yamaska\")\n",
    "\n",
    "mitig1 = IBUReadoutMitigation(\"yamaska\")\n",
    "mitig2 = MatrixReadoutMitigation(\"yamaska\")\n",
    "sim1 = GateNoiseSimulation(\"yamaska\")\n",
    "sim2 = ReadoutNoiseSimulation(\"yamaska\")"
   ]
  }
 ],
 "metadata": {
  "kernelspec": {
   "display_name": "Python 3",
   "language": "python",
   "name": "python3"
  },
  "language_info": {
   "codemirror_mode": {
    "name": "ipython",
    "version": 3
   },
   "file_extension": ".py",
   "mimetype": "text/x-python",
   "name": "python",
   "nbconvert_exporter": "python",
   "pygments_lexer": "ipython3",
   "version": "3.10.11"
  }
 },
 "nbformat": 4,
 "nbformat_minor": 2
}
