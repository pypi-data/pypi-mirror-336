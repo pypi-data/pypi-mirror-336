{
 "cells": [
  {
   "cell_type": "markdown",
   "id": "78d69cab-8444-425c-bf3e-a8e09fe88ad4",
   "metadata": {},
   "source": [
    "In this notebook, we will demonstrate how to use **xaif** library  to  manipulate argumentation structures in XAIF. xAIF extends the basic AIF format, allowing for both **underspecification** and **overspecification** of argumentation data, making it ideal for incremental argument processing and dialogue analysis.\n"
   ]
  },
  {
   "cell_type": "markdown",
   "id": "b4588d5d-d42a-4fea-80ae-da7b83e822a3",
   "metadata": {},
   "source": [
    "## **Installation**"
   ]
  },
  {
   "cell_type": "code",
   "execution_count": 2,
   "id": "afad15d5-3996-435e-bd0e-34760c258942",
   "metadata": {},
   "outputs": [
    {
     "name": "stdout",
     "output_type": "stream",
     "text": [
      "Defaulting to user installation because normal site-packages is not writeable\n",
      "Requirement already satisfied: xaif in ./.local/lib/python3.8/site-packages (0.3.3)\n",
      "Note: you may need to restart the kernel to use updated packages.\n"
     ]
    }
   ],
   "source": [
    "pip install xaif"
   ]
  },
  {
   "cell_type": "markdown",
   "id": "9106b1d5-edcc-452f-a818-73a25335ba84",
   "metadata": {},
   "source": [
    "## **Usage**"
   ]
  },
  {
   "cell_type": "code",
   "execution_count": 1,
   "id": "b243398c-a40b-4b1f-825f-7b67b87a6573",
   "metadata": {},
   "outputs": [],
   "source": [
    "from xaif import AIF"
   ]
  },
  {
   "cell_type": "markdown",
   "id": "822aca1c-c68d-403a-9222-4adeb361deda",
   "metadata": {},
   "source": [
    "## **Example xAIF Data**"
   ]
  },
  {
   "cell_type": "code",
   "execution_count": 3,
   "id": "18e1c8c3-71fc-45bf-af5d-1edcaa3c3402",
   "metadata": {},
   "outputs": [],
   "source": [
    "# Sample xAIF JSON \n",
    "xaif_data= {\n",
    "  \"AIF\": {\n",
    "    \"descriptorfulfillments\": None,\n",
    "    \"edges\": [\n",
    "      {\n",
    "        \"edgeID\": 0,\n",
    "        \"fromID\": 0,\n",
    "        \"toID\": 4\n",
    "      },\n",
    "      {\n",
    "        \"edgeID\": 1,\n",
    "        \"fromID\": 4,\n",
    "        \"toID\": 3\n",
    "      },\n",
    "      {\n",
    "        \"edgeID\": 2,\n",
    "        \"fromID\": 1,\n",
    "        \"toID\": 6\n",
    "      },\n",
    "      {\n",
    "        \"edgeID\": 3,\n",
    "        \"fromID\": 6,\n",
    "        \"toID\": 5\n",
    "      },\n",
    "      {\n",
    "        \"edgeID\": 4,\n",
    "        \"fromID\": 2,\n",
    "        \"toID\": 8\n",
    "      },\n",
    "      {\n",
    "        \"edgeID\": 5,\n",
    "        \"fromID\": 8,\n",
    "        \"toID\": 7\n",
    "      },\n",
    "      {\n",
    "        \"edgeID\": 6,\n",
    "        \"fromID\": 3,\n",
    "        \"toID\": 9\n",
    "      },\n",
    "      {\n",
    "        \"edgeID\": 7,\n",
    "        \"fromID\": 9,\n",
    "        \"toID\": 7\n",
    "      }\n",
    "    ],\n",
    "    \"locutions\": [\n",
    "      {\n",
    "        \"nodeID\": 0,\n",
    "        \"personID\": 0\n",
    "      },\n",
    "      {\n",
    "        \"nodeID\": 1,\n",
    "        \"personID\": 1\n",
    "      },\n",
    "      {\n",
    "        \"nodeID\": 2,\n",
    "        \"personID\": 2\n",
    "      }\n",
    "    ],\n",
    "    \"nodes\": [\n",
    "      {\n",
    "        \"nodeID\": 0,\n",
    "        \"text\": \"disagreements between party members are entirely to be expected.\",\n",
    "        \"type\": \"L\"\n",
    "      },\n",
    "      {\n",
    "        \"nodeID\": 1,\n",
    "        \"text\": \"the SNP has disagreements.\",\n",
    "        \"type\": \"L\"\n",
    "      },\n",
    "      {\n",
    "        \"nodeID\": 2,\n",
    "        \"text\": \"it's not uncommon for there to be disagreements between party members.\",\n",
    "        \"type\": \"L\"\n",
    "      },\n",
    "      {\n",
    "        \"nodeID\": 3,\n",
    "        \"text\": \"disagreements between party members are entirely to be expected.\",\n",
    "        \"type\": \"I\"\n",
    "      },\n",
    "      {\n",
    "        \"nodeID\": 4,\n",
    "        \"text\": \"Default Illocuting\",\n",
    "        \"type\": \"YA\"\n",
    "      },\n",
    "      {\n",
    "        \"nodeID\": 5,\n",
    "        \"text\": \"the SNP has disagreements.\",\n",
    "        \"type\": \"I\"\n",
    "      },\n",
    "      {\n",
    "        \"nodeID\": 6,\n",
    "        \"text\": \"Default Illocuting\",\n",
    "        \"type\": \"YA\"\n",
    "      },\n",
    "      {\n",
    "        \"nodeID\": 7,\n",
    "        \"text\": \"it's not uncommon for there to be disagreements between party members.\",\n",
    "        \"type\": \"I\"\n",
    "      },\n",
    "      {\n",
    "        \"nodeID\": 8,\n",
    "        \"text\": \"Default Illocuting\",\n",
    "        \"type\": \"YA\"\n",
    "      },\n",
    "      {\n",
    "        \"nodeID\": 9,\n",
    "        \"text\": \"Default Inference\",\n",
    "        \"type\": \"RA\"\n",
    "      }\n",
    "    ],\n",
    "    \"participants\": [\n",
    "      {\n",
    "        \"firstname\": \"Speaker\",\n",
    "        \"participantID\": 0,\n",
    "        \"surname\": \"1\"\n",
    "      },\n",
    "      {\n",
    "        \"firstname\": \"Speaker\",\n",
    "        \"participantID\": 1,\n",
    "        \"surname\": \"2\"\n",
    "      }\n",
    "    ],\n",
    "    \"schemefulfillments\": None\n",
    "  },\n",
    "  \"dialog\": True,\n",
    "  \"ova\": [],\n",
    "  \"text\": {\n",
    "    \"txt\": \" Speaker 1 <span class=\\\"highlighted\\\" id=\\\"0\\\">disagreements between party members are entirely to be expected.</span>.<br><br> Speaker 2 <span class=\\\"highlighted\\\" id=\\\"1\\\">the SNP has disagreements.</span>.<br><br> Speaker 1 <span class=\\\"highlighted\\\" id=\\\"2\\\">it's not uncommon for there to be disagreements between party members. </span>.<br><br>\"\n",
    "  }\n",
    "}\n"
   ]
  },
  {
   "cell_type": "markdown",
   "id": "cee31003-78fd-44fe-a77c-8641c9388c01",
   "metadata": {},
   "source": [
    "# **Manipulate xAIF Data**\n",
    "This example demonstrates how to initialize the **AIF** object with **xAIF data** and raw text, add components such as **locutions** and **propositions**, and define **argument relations**. We also show how to output the resulting xAIF data and export specific components in CSV format.\n"
   ]
  },
  {
   "cell_type": "markdown",
   "id": "5ec8d342-ac01-446d-a837-2da79c448b0b",
   "metadata": {},
   "source": [
    "### Initializing the AIF Object"
   ]
  },
  {
   "cell_type": "markdown",
   "id": "3e3119a5-168f-46dd-9a38-16cd0da2f9f7",
   "metadata": {},
   "source": [
    "- **Using xAIF data**:  \n",
    "  You can initialize the **AIF** object with an xAIF structure (JSON format).\n",
    "\n"
   ]
  },
  {
   "cell_type": "code",
   "execution_count": 4,
   "id": "53c72479-2884-44c7-b247-96d668e986b6",
   "metadata": {},
   "outputs": [],
   "source": [
    "\n",
    "aif = AIF(xaif_data)"
   ]
  },
  {
   "cell_type": "markdown",
   "id": "cf258cf0-a4d5-4866-bc7b-d807f5716cde",
   "metadata": {},
   "source": [
    "- **Using raw text**\n",
    "  Alternatively, initialize the AIF object with raw text data. The AIF object will automatically create locutions and other necessary components from the provided text."
   ]
  },
  {
   "cell_type": "code",
   "execution_count": 5,
   "id": "132d60ab-1cf7-4690-b501-c26b6b865b8e",
   "metadata": {},
   "outputs": [],
   "source": [
    "aif = AIF(\"First Sentence.\")\n"
   ]
  },
  {
   "cell_type": "markdown",
   "id": "f776a31b-9c25-47be-958d-119b5c1931de",
   "metadata": {},
   "source": [
    "### Adding Components to the AIF Object\n",
    "\n",
    "The add_component method allows you to add different types of components to the AIF structure. You specify the component type (e.g., \"locution\", \"proposition\", \"argument_relation\") and any relevant data (e.g., text, ID, related components)."
   ]
  },
  {
   "cell_type": "markdown",
   "id": "38d386b3-0a84-4b21-a7d1-7ab886aa2be0",
   "metadata": {},
   "source": [
    "- **Adding Locutions**\n",
    "  A locution represents a spoken or written statement in the argumentation structure. The locution ID is automatically assigned, starting from 0 if initialized with text."
   ]
  },
  {
   "cell_type": "code",
   "execution_count": 6,
   "id": "0ea52a3b-7fcc-4221-a5ad-38ddaa3db754",
   "metadata": {},
   "outputs": [],
   "source": [
    "aif.add_component(component_type=\"locution\", text=\"Second Sentence.\", speaker=\"Default Speaker\") # In this example, the next available locution ID will be assigned (1 in this case).\n"
   ]
  },
  {
   "cell_type": "markdown",
   "id": "1fc2cad6-9c30-4d2e-91aa-50410ac706ed",
   "metadata": {},
   "source": [
    "- **Adding Propositions** A proposition is a logical statement connected to a locution (L-node). The proposition needs to specify the locution ID it is associated with.\n",
    " The locution ID (0) from the previous locution is required.\n",
    "\n",
    "-- An I-node is created for the proposition (assigned the next available ID, 2 in this case).\n",
    "\n",
    "-- A YA Node (Default Illocuting) is also created with the next available ID (3 in this case) to anchor the relation between the L-node and the I-node.\n",
    "\n",
    "-- Edges are created to link the L-node to the YA-node and the YA-node to the I-node."
   ]
  },
  {
   "cell_type": "code",
   "execution_count": 7,
   "id": "4d4d2487-9d6d-4140-b58d-18b2bc6a83f9",
   "metadata": {},
   "outputs": [],
   "source": [
    "aif.add_component(component_type=\"proposition\", Lnode_ID=0, proposition=\"First sentence.\")\n"
   ]
  },
  {
   "cell_type": "markdown",
   "id": "39d4c9ae-b722-4b2f-ade8-16f3aee3f5bb",
   "metadata": {},
   "source": [
    "- **Add more proposition**\n",
    "  \n",
    "-- The locution ID (1) is required.\n",
    "\n",
    "-- An I-node is created for the proposition (assigned the maximum ID, 4 in this example).\n",
    "\n",
    "-- A YA-node (ID 5) is created to anchor the relation between the I-node and the associated L-node."
   ]
  },
  {
   "cell_type": "code",
   "execution_count": 8,
   "id": "a725062c-ec26-4d88-8fcb-2cf94396068f",
   "metadata": {},
   "outputs": [],
   "source": [
    "aif.add_component(component_type=\"proposition\", Lnode_ID=1, proposition=\"Second sentence.\")\n"
   ]
  },
  {
   "cell_type": "markdown",
   "id": "59b727f5-e9f7-45f4-acd3-5f0ca7eb28f4",
   "metadata": {},
   "source": [
    "- **Adding Argument Relations**\n",
    "\n",
    "Argument relations represent the logical connection between propositions, typically indicating support or inference. You can specify the relation type (e.g., \"RA\" for default inference, \"CA\" fir default conflict etc.).\n",
    "\n",
    "-- This creates an RA Node (relation type) with the next available ID.\n",
    "\n",
    "-- Edges are created between the I-nodes (IDs 2 and 4) and the RA-node."
   ]
  },
  {
   "cell_type": "code",
   "execution_count": 9,
   "id": "463cf4b5-3554-441b-9fac-b63b805e1004",
   "metadata": {},
   "outputs": [],
   "source": [
    "aif.add_component(component_type=\"argument_relation\", relation_type=\"RA\", iNode_ID2=2, iNode_ID1=4)\n"
   ]
  },
  {
   "cell_type": "markdown",
   "id": "a54e5fca-cd1d-4c03-8286-272b8b41682d",
   "metadata": {},
   "source": [
    "### Viewing and Exporting the Data\n",
    "\n",
    "Once the components have been added, you can access the generated xAIF data and export components in CSV format."
   ]
  },
  {
   "cell_type": "code",
   "execution_count": 10,
   "id": "796e1f06-f8e9-459b-b526-8c16fb1aff31",
   "metadata": {},
   "outputs": [
    {
     "name": "stdout",
     "output_type": "stream",
     "text": [
      "{'AIF': {'nodes': [{'text': 'First Sentence.', 'type': 'L', 'nodeID': 0}, {'text': 'Second Sentence.', 'type': 'L', 'nodeID': 1}, {'text': 'First sentence.', 'type': 'I', 'nodeID': 2}, {'text': 'Default Illocuting', 'type': 'YA', 'nodeID': 3}, {'text': 'Second sentence.', 'type': 'I', 'nodeID': 4}, {'text': 'Default Illocuting', 'type': 'YA', 'nodeID': 5}, {'text': 'Default Inference', 'type': 'RA', 'nodeID': 6}], 'edges': [{'edgeID': 0, 'fromID': 0, 'toID': 3}, {'edgeID': 0, 'fromID': 3, 'toID': 2}, {'edgeID': 1, 'fromID': 1, 'toID': 5}, {'edgeID': 1, 'fromID': 5, 'toID': 4}, {'fromID': 4, 'toID': 6, 'edgeID': 2}, {'fromID': 6, 'toID': 2, 'edgeID': 3}], 'locutions': [{'personID': 1, 'nodeID': 0}, {'personID': 1, 'nodeID': 1}], 'schemefulfillments': [], 'descriptorfulfillments': [], 'participants': [{'participantID': 1, 'firstname': 'Default', 'surname': 'Speaker'}]}, 'ova': {}, 'dialog': {}, 'text': {'txt': ' <span class=\"highlighted\" id=\"0\">First Sentence.</span>.<br><br>'}}\n",
      "   proposition1_id proposition1_text  proposition2_id proposition2_text  \\\n",
      "0                4  Second sentence.                2   First sentence.   \n",
      "1                2   First sentence.                4  Second sentence.   \n",
      "\n",
      "            relation  \n",
      "0  Default Inference  \n",
      "1               None  \n",
      "   proposition1_id proposition1_text  proposition2_id proposition2_text  \\\n",
      "0                1  Second Sentence.                4  Second sentence.   \n",
      "1                0   First Sentence.                1  Second Sentence.   \n",
      "2                1  Second Sentence.                0   First Sentence.   \n",
      "\n",
      "             relation  \n",
      "0  Default Illocuting  \n",
      "1                None  \n",
      "2                None  \n"
     ]
    }
   ],
   "source": [
    "print(aif.xaif)  # Print the generated xAIF structure\n",
    "\n",
    "print(aif.get_csv(\"argument-relation\"))  # Exports proposition pairs with argument relations in tabular (CSV) format.\n",
    "print(aif.get_csv(\"locution\"))  # Exports locution data in tabular (CSV) format.\n"
   ]
  }
 ],
 "metadata": {
  "kernelspec": {
   "display_name": "Python 3 (ipykernel)",
   "language": "python",
   "name": "python3"
  },
  "language_info": {
   "codemirror_mode": {
    "name": "ipython",
    "version": 3
   },
   "file_extension": ".py",
   "mimetype": "text/x-python",
   "name": "python",
   "nbconvert_exporter": "python",
   "pygments_lexer": "ipython3",
   "version": "3.8.16"
  }
 },
 "nbformat": 4,
 "nbformat_minor": 5
}
