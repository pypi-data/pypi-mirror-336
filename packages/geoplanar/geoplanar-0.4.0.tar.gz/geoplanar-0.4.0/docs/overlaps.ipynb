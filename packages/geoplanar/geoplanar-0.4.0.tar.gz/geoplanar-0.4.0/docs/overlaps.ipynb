{
 "cells": [
  {
   "cell_type": "code",
   "execution_count": 1,
   "id": "meaningful-language",
   "metadata": {},
   "outputs": [],
   "source": [
    "import geopandas\n",
    "import geoplanar\n",
    "from shapely import box\n"
   ]
  },
  {
   "cell_type": "markdown",
   "id": "c1aebc37-a01a-4bea-9f25-5faf1d745faf",
   "metadata": {},
   "source": [
    "#  Planar Enforcement Violation: One polygon overlapping another polygon"
   ]
  },
  {
   "cell_type": "code",
   "execution_count": 2,
   "id": "d27d6170-dc45-4696-b4e9-265230b1e5d1",
   "metadata": {},
   "outputs": [
    {
     "data": {
      "text/plain": [
       "<Axes: >"
      ]
     },
     "execution_count": 2,
     "metadata": {},
     "output_type": "execute_result"
    },
    {
     "data": {
      "image/png": "[encoded data removed]",
      "text/plain": [
       "<Figure size 640x480 with 1 Axes>"
      ]
     },
     "metadata": {},
     "output_type": "display_data"
    }
   ],
   "source": [
    "p1 = box(0,0,10,10)\n",
    "p2 = box(8,4, 12,6)\n",
    "\n",
    "gdf = geopandas.GeoDataFrame(geometry=[p1,p2])\n",
    "gdf.plot(edgecolor='k')"
   ]
  },
  {
   "cell_type": "code",
   "execution_count": 3,
   "id": "41dd1831-aec9-4c48-89fd-96006808883e",
   "metadata": {},
   "outputs": [
    {
     "data": {
      "text/plain": [
       "True"
      ]
     },
     "execution_count": 3,
     "metadata": {},
     "output_type": "execute_result"
    }
   ],
   "source": [
    "geoplanar.is_overlapping(gdf)"
   ]
  },
  {
   "cell_type": "code",
   "execution_count": 4,
   "id": "00d499f7-7baf-48a6-90b4-6c3cf0bd0471",
   "metadata": {},
   "outputs": [
    {
     "data": {
      "image/svg+xml": [
       "<svg xmlns=\"http://www.w3.org/2000/svg\" xmlns:xlink=\"http://www.w3.org/1999/xlink\" width=\"100.0\" height=\"100.0\" viewBox=\"-0.4 -0.4 10.8 10.8\" preserveAspectRatio=\"xMinYMin meet\"><g transform=\"matrix(1,0,0,-1,0,10.0)\"><path fill-rule=\"evenodd\" fill=\"#66cc99\" stroke=\"#555555\" stroke-width=\"0.21600000000000003\" opacity=\"0.6\" d=\"M 10.0,0.0 L 10.0,10.0 L 0.0,10.0 L 0.0,0.0 L 10.0,0.0 z\" /></g></svg>"
      ],
      "text/plain": [
       "<POLYGON ((10 0, 10 10, 0 10, 0 0, 10 0))>"
      ]
     },
     "execution_count": 4,
     "metadata": {},
     "output_type": "execute_result"
    }
   ],
   "source": [
    "gdf.geometry[0]"
   ]
  },
  {
   "cell_type": "code",
   "execution_count": 5,
   "id": "b8449e0d-6d46-4dc2-b722-770a432cd52e",
   "metadata": {},
   "outputs": [
    {
     "data": {
      "image/svg+xml": [
       "<svg xmlns=\"http://www.w3.org/2000/svg\" xmlns:xlink=\"http://www.w3.org/1999/xlink\" width=\"100.0\" height=\"100.0\" viewBox=\"7.84 3.84 4.32 2.3200000000000003\" preserveAspectRatio=\"xMinYMin meet\"><g transform=\"matrix(1,0,0,-1,0,10.0)\"><path fill-rule=\"evenodd\" fill=\"#66cc99\" stroke=\"#555555\" stroke-width=\"0.0864\" opacity=\"0.6\" d=\"M 12.0,4.0 L 12.0,6.0 L 8.0,6.0 L 8.0,4.0 L 12.0,4.0 z\" /></g></svg>"
      ],
      "text/plain": [
       "<POLYGON ((12 4, 12 6, 8 6, 8 4, 12 4))>"
      ]
     },
     "execution_count": 5,
     "metadata": {},
     "output_type": "execute_result"
    }
   ],
   "source": [
    "gdf.geometry[1]"
   ]
  },
  {
   "cell_type": "code",
   "execution_count": 6,
   "id": "c350d1a7-ecaa-47d2-adcf-073d77fa89c8",
   "metadata": {},
   "outputs": [
    {
     "data": {
      "text/plain": [
       "False"
      ]
     },
     "execution_count": 6,
     "metadata": {},
     "output_type": "execute_result"
    }
   ],
   "source": [
    "gdf = geoplanar.trim_overlaps(gdf)\n",
    "geoplanar.is_overlapping(gdf)"
   ]
  },
  {
   "cell_type": "code",
   "execution_count": 7,
   "id": "f51b66fd-7856-4c0b-b34b-92cddb5237b5",
   "metadata": {},
   "outputs": [
    {
     "data": {
      "image/svg+xml": [
       "<svg xmlns=\"http://www.w3.org/2000/svg\" xmlns:xlink=\"http://www.w3.org/1999/xlink\" width=\"100.0\" height=\"100.0\" viewBox=\"-0.4 -0.4 10.8 10.8\" preserveAspectRatio=\"xMinYMin meet\"><g transform=\"matrix(1,0,0,-1,0,10.0)\"><path fill-rule=\"evenodd\" fill=\"#66cc99\" stroke=\"#555555\" stroke-width=\"0.21600000000000003\" opacity=\"0.6\" d=\"M 0.0,0.0 L 0.0,10.0 L 10.0,10.0 L 10.0,6.0 L 8.0,6.0 L 8.0,4.0 L 10.0,4.0 L 10.0,0.0 L 0.0,0.0 z\" /></g></svg>"
      ],
      "text/plain": [
       "<POLYGON ((0 0, 0 10, 10 10, 10 6, 8 6, 8 4, 10 4, 10 0, 0 0))>"
      ]
     },
     "execution_count": 7,
     "metadata": {},
     "output_type": "execute_result"
    }
   ],
   "source": [
    "gdf.geometry[0]"
   ]
  },
  {
   "cell_type": "code",
   "execution_count": 8,
   "id": "167aab76-b7b7-40e4-a088-00aaf6adce81",
   "metadata": {},
   "outputs": [
    {
     "data": {
      "image/svg+xml": [
       "<svg xmlns=\"http://www.w3.org/2000/svg\" xmlns:xlink=\"http://www.w3.org/1999/xlink\" width=\"100.0\" height=\"100.0\" viewBox=\"7.84 3.84 4.32 2.3200000000000003\" preserveAspectRatio=\"xMinYMin meet\"><g transform=\"matrix(1,0,0,-1,0,10.0)\"><path fill-rule=\"evenodd\" fill=\"#66cc99\" stroke=\"#555555\" stroke-width=\"0.0864\" opacity=\"0.6\" d=\"M 12.0,4.0 L 12.0,6.0 L 8.0,6.0 L 8.0,4.0 L 12.0,4.0 z\" /></g></svg>"
      ],
      "text/plain": [
       "<POLYGON ((12 4, 12 6, 8 6, 8 4, 12 4))>"
      ]
     },
     "execution_count": 8,
     "metadata": {},
     "output_type": "execute_result"
    }
   ],
   "source": [
    "gdf.geometry[1]"
   ]
  },
  {
   "cell_type": "code",
   "execution_count": 9,
   "id": "78ebb6fc-0128-4b6c-a1ad-31943196567a",
   "metadata": {},
   "outputs": [
    {
     "data": {
      "text/plain": [
       "0    96.0\n",
       "1     8.0\n",
       "dtype: float64"
      ]
     },
     "execution_count": 9,
     "metadata": {},
     "output_type": "execute_result"
    }
   ],
   "source": [
    "gdf.area"
   ]
  },
  {
   "cell_type": "markdown",
   "id": "e58e6c31-e2eb-4bac-a185-42f56fd7fa3d",
   "metadata": {},
   "source": [
    "## Default trims the largest of the two overlapping polygons\n",
    "\n",
    "To have the correction apply the trim to the smaller of the two polygons, set `largest=False`:"
   ]
  },
  {
   "cell_type": "code",
   "execution_count": 10,
   "id": "c0533750-74bc-446e-ad9d-693a9f9aa842",
   "metadata": {},
   "outputs": [
    {
     "data": {
      "text/plain": [
       "<Axes: >"
      ]
     },
     "execution_count": 10,
     "metadata": {},
     "output_type": "execute_result"
    },
    {
     "data": {
      "image/png": "[encoded data removed]",
      "text/plain": [
       "<Figure size 640x480 with 1 Axes>"
      ]
     },
     "metadata": {},
     "output_type": "display_data"
    }
   ],
   "source": [
    "p1 = box(0,0,10,10)\n",
    "p2 = box(8,4, 12,6)\n",
    "\n",
    "gdf = geopandas.GeoDataFrame(geometry=[p1,p2])\n",
    "gdf.plot(edgecolor='k')"
   ]
  },
  {
   "cell_type": "code",
   "execution_count": 11,
   "id": "32040f8a-eb31-4da2-86fe-63770df44262",
   "metadata": {},
   "outputs": [
    {
     "data": {
      "text/plain": [
       "<Axes: >"
      ]
     },
     "execution_count": 11,
     "metadata": {},
     "output_type": "execute_result"
    },
    {
     "data": {
      "image/png": "[encoded data removed]",
      "text/plain": [
       "<Figure size 640x480 with 1 Axes>"
      ]
     },
     "metadata": {},
     "output_type": "display_data"
    }
   ],
   "source": [
    "gdf = geoplanar.trim_overlaps(gdf, largest=False)\n",
    "gdf.plot(edgecolor='k')"
   ]
  },
  {
   "cell_type": "code",
   "execution_count": 12,
   "id": "138f9bdf-7712-49a5-9ea1-6abcb174f240",
   "metadata": {},
   "outputs": [
    {
     "data": {
      "image/svg+xml": [
       "<svg xmlns=\"http://www.w3.org/2000/svg\" xmlns:xlink=\"http://www.w3.org/1999/xlink\" width=\"100.0\" height=\"100.0\" viewBox=\"-0.4 -0.4 10.8 10.8\" preserveAspectRatio=\"xMinYMin meet\"><g transform=\"matrix(1,0,0,-1,0,10.0)\"><path fill-rule=\"evenodd\" fill=\"#66cc99\" stroke=\"#555555\" stroke-width=\"0.21600000000000003\" opacity=\"0.6\" d=\"M 10.0,0.0 L 10.0,10.0 L 0.0,10.0 L 0.0,0.0 L 10.0,0.0 z\" /></g></svg>"
      ],
      "text/plain": [
       "<POLYGON ((10 0, 10 10, 0 10, 0 0, 10 0))>"
      ]
     },
     "execution_count": 12,
     "metadata": {},
     "output_type": "execute_result"
    }
   ],
   "source": [
    "gdf.geometry[0]"
   ]
  },
  {
   "cell_type": "code",
   "execution_count": 13,
   "id": "f27e477a-85a1-4dee-a17f-81d8cc949c0a",
   "metadata": {},
   "outputs": [
    {
     "data": {
      "image/svg+xml": [
       "<svg xmlns=\"http://www.w3.org/2000/svg\" xmlns:xlink=\"http://www.w3.org/1999/xlink\" width=\"100.0\" height=\"100.0\" viewBox=\"9.92 3.92 2.16 2.16\" preserveAspectRatio=\"xMinYMin meet\"><g transform=\"matrix(1,0,0,-1,0,10.0)\"><path fill-rule=\"evenodd\" fill=\"#66cc99\" stroke=\"#555555\" stroke-width=\"0.0432\" opacity=\"0.6\" d=\"M 12.0,4.0 L 10.0,4.0 L 10.0,6.0 L 12.0,6.0 L 12.0,4.0 z\" /></g></svg>"
      ],
      "text/plain": [
       "<POLYGON ((12 4, 10 4, 10 6, 12 6, 12 4))>"
      ]
     },
     "execution_count": 13,
     "metadata": {},
     "output_type": "execute_result"
    }
   ],
   "source": [
    "gdf.geometry[1]"
   ]
  },
  {
   "cell_type": "code",
   "execution_count": 14,
   "id": "648b9c52-b2da-4263-a7b9-48b02f32d399",
   "metadata": {},
   "outputs": [
    {
     "data": {
      "text/plain": [
       "0    100.0\n",
       "1      4.0\n",
       "dtype: float64"
      ]
     },
     "execution_count": 14,
     "metadata": {},
     "output_type": "execute_result"
    }
   ],
   "source": [
    "gdf.area"
   ]
  },
  {
   "cell_type": "markdown",
   "id": "e4ae5c7c-3f2a-4768-af86-bbb8267e3011",
   "metadata": {},
   "source": [
    "##  Planar Enforcement Violation: One polygon overlapping two"
   ]
  },
  {
   "cell_type": "markdown",
   "id": "ed7fc634-7f47-4c88-bfd3-a30f6a3b2c5c",
   "metadata": {},
   "source": [
    "As always, care must be taken when carrying out a planar correction, as the result may not be what is desired:"
   ]
  },
  {
   "cell_type": "code",
   "execution_count": 15,
   "id": "9e6637ab-a6bf-47f2-8939-ecaa8a14b6ae",
   "metadata": {},
   "outputs": [
    {
     "data": {
      "text/plain": [
       "<Axes: >"
      ]
     },
     "execution_count": 15,
     "metadata": {},
     "output_type": "execute_result"
    },
    {
     "data": {
      "image/png": "[encoded data removed]",
      "text/plain": [
       "<Figure size 640x480 with 1 Axes>"
      ]
     },
     "metadata": {},
     "output_type": "display_data"
    }
   ],
   "source": [
    "p1 = box(0,0,10,10)\n",
    "p2 = box(10,0, 20,10)\n",
    "p3 = box(8,4, 12,6)\n",
    "\n",
    "gdf = geopandas.GeoDataFrame(geometry=[p1,p2,p3])\n",
    "gdf.plot(edgecolor='k')"
   ]
  },
  {
   "cell_type": "code",
   "execution_count": 16,
   "id": "1ba86e80-e8ae-47fe-affa-03966db81655",
   "metadata": {},
   "outputs": [],
   "source": [
    "gdf1 = geoplanar.trim_overlaps(gdf, largest=False) # trim the smallest feature of an intersecting pair"
   ]
  },
  {
   "cell_type": "code",
   "execution_count": 17,
   "id": "b9f9a3a2-b3db-4122-8e58-d58c2f0b89f6",
   "metadata": {},
   "outputs": [
    {
     "data": {
      "text/plain": [
       "0    100.0\n",
       "1    100.0\n",
       "2      0.0\n",
       "dtype: float64"
      ]
     },
     "execution_count": 17,
     "metadata": {},
     "output_type": "execute_result"
    }
   ],
   "source": [
    "gdf1.area"
   ]
  },
  {
   "cell_type": "code",
   "execution_count": 18,
   "id": "6608c211-3649-456c-9a73-4f7357382f24",
   "metadata": {},
   "outputs": [
    {
     "data": {
      "text/plain": [
       "<Axes: >"
      ]
     },
     "execution_count": 18,
     "metadata": {},
     "output_type": "execute_result"
    },
    {
     "data": {
      "image/png": "[encoded data removed]",
      "text/plain": [
       "<Figure size 640x480 with 1 Axes>"
      ]
     },
     "metadata": {},
     "output_type": "display_data"
    }
   ],
   "source": [
    "gdf1.plot(edgecolor='k')"
   ]
  },
  {
   "cell_type": "code",
   "execution_count": 19,
   "id": "0de32677-2d6c-4143-8b10-7d6496dbacd9",
   "metadata": {},
   "outputs": [],
   "source": [
    "p1 = box(0,0,10,10)\n",
    "p2 = box(10,0, 20,10)\n",
    "p3 = box(8,4, 12,6)\n",
    "\n",
    "gdf = geopandas.GeoDataFrame(geometry=[p1,p2,p3])\n",
    "gdf2 = geoplanar.trim_overlaps(gdf)"
   ]
  },
  {
   "cell_type": "code",
   "execution_count": 20,
   "id": "6fd56bdf-a4e4-41d6-ba8f-6c05d925794c",
   "metadata": {},
   "outputs": [
    {
     "data": {
      "text/plain": [
       "0    POLYGON ((0.00000 0.00000, 0.00000 10.00000, 1...\n",
       "1    POLYGON ((10.00000 4.00000, 12.00000 4.00000, ...\n",
       "2    POLYGON ((12.00000 4.00000, 12.00000 6.00000, ...\n",
       "Name: geometry, dtype: geometry"
      ]
     },
     "execution_count": 20,
     "metadata": {},
     "output_type": "execute_result"
    }
   ],
   "source": [
    "gdf2.geometry"
   ]
  },
  {
   "cell_type": "code",
   "execution_count": 21,
   "id": "7d71be38-f69d-41d4-ab67-b675f5f65dc6",
   "metadata": {},
   "outputs": [
    {
     "data": {
      "text/plain": [
       "0    96.0\n",
       "1    96.0\n",
       "2     8.0\n",
       "dtype: float64"
      ]
     },
     "execution_count": 21,
     "metadata": {},
     "output_type": "execute_result"
    }
   ],
   "source": [
    "gdf2.area"
   ]
  },
  {
   "cell_type": "code",
   "execution_count": 22,
   "id": "5e15268e-3d81-481f-983f-87f4dd30cfa8",
   "metadata": {},
   "outputs": [
    {
     "data": {
      "text/plain": [
       "<Axes: >"
      ]
     },
     "execution_count": 22,
     "metadata": {},
     "output_type": "execute_result"
    },
    {
     "data": {
      "image/png": "[encoded data removed]",
      "text/plain": [
       "<Figure size 640x480 with 1 Axes>"
      ]
     },
     "metadata": {},
     "output_type": "display_data"
    }
   ],
   "source": [
    "gdf2.plot(edgecolor='k')"
   ]
  }
 ],
 "metadata": {
  "jupytext": {
   "formats": "ipynb,md"
  },
  "kernelspec": {
   "display_name": "Python 3 (ipykernel)",
   "language": "python",
   "name": "python3"
  },
  "language_info": {
   "codemirror_mode": {
    "name": "ipython",
    "version": 3
   },
   "file_extension": ".py",
   "mimetype": "text/x-python",
   "name": "python",
   "nbconvert_exporter": "python",
   "pygments_lexer": "ipython3",
   "version": "3.12.3"
  }
 },
 "nbformat": 4,
 "nbformat_minor": 5
}
