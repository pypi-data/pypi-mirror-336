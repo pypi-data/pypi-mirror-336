{
 "cells": [
  {
   "cell_type": "code",
   "execution_count": 1,
   "id": "dominant-arlington",
   "metadata": {},
   "outputs": [],
   "source": [
    "import geopandas\n",
    "import numpy\n",
    "import matplotlib.pyplot as plt\n",
    "import geoplanar\n",
    "from shapely.geometry import box, Polygon\n"
   ]
  },
  {
   "cell_type": "markdown",
   "id": "desperate-press",
   "metadata": {},
   "source": [
    "# Violation: Gaps"
   ]
  },
  {
   "cell_type": "code",
   "execution_count": 2,
   "id": "coordinated-beijing",
   "metadata": {},
   "outputs": [
    {
     "data": {
      "text/plain": [
       "<AxesSubplot:>"
      ]
     },
     "execution_count": 2,
     "metadata": {},
     "output_type": "execute_result"
    },
    {
     "data": {
      "image/png": "[encoded data removed]",
      "text/plain": [
       "<Figure size 432x288 with 1 Axes>"
      ]
     },
     "metadata": {
      "needs_background": "light"
     },
     "output_type": "display_data"
    }
   ],
   "source": [
    "p1 = box(0,0,10,10)\n",
    "p2 = Polygon([(10,10), (12,8), (10,6), (12,4), (10,2), (20,5)])\n",
    "\n",
    "gdf = geopandas.GeoDataFrame(geometry=[p1,p2])\n",
    "gdf.plot(edgecolor='k')"
   ]
  },
  {
   "cell_type": "code",
   "execution_count": 3,
   "id": "nonprofit-bleeding",
   "metadata": {},
   "outputs": [
    {
     "data": {
      "text/html": [
       "<div>\n",
       "<style scoped>\n",
       "    .dataframe tbody tr th:only-of-type {\n",
       "        vertical-align: middle;\n",
       "    }\n",
       "\n",
       "    .dataframe tbody tr th {\n",
       "        vertical-align: top;\n",
       "    }\n",
       "\n",
       "    .dataframe thead th {\n",
       "        text-align: right;\n",
       "    }\n",
       "</style>\n",
       "<table border=\"1\" class=\"dataframe\">\n",
       "  <thead>\n",
       "    <tr style=\"text-align: right;\">\n",
       "      <th></th>\n",
       "      <th>geometry</th>\n",
       "    </tr>\n",
       "  </thead>\n",
       "  <tbody>\n",
       "    <tr>\n",
       "      <th>2</th>\n",
       "      <td>POLYGON ((10.00000 10.00000, 12.00000 8.00000,...</td>\n",
       "    </tr>\n",
       "    <tr>\n",
       "      <th>3</th>\n",
       "      <td>POLYGON ((10.00000 6.00000, 12.00000 4.00000, ...</td>\n",
       "    </tr>\n",
       "  </tbody>\n",
       "</table>\n",
       "</div>"
      ],
      "text/plain": [
       "                                            geometry\n",
       "2  POLYGON ((10.00000 10.00000, 12.00000 8.00000,...\n",
       "3  POLYGON ((10.00000 6.00000, 12.00000 4.00000, ..."
      ]
     },
     "execution_count": 3,
     "metadata": {},
     "output_type": "execute_result"
    }
   ],
   "source": [
    "geoplanar.gaps(gdf)"
   ]
  },
  {
   "cell_type": "code",
   "execution_count": 4,
   "id": "54368580-9ef2-4bbc-83f5-dabcd439bee5",
   "metadata": {},
   "outputs": [],
   "source": [
    "g = geoplanar.gaps(gdf)"
   ]
  },
  {
   "cell_type": "code",
   "execution_count": 5,
   "id": "7dc2a758-ce4b-4274-9758-17448d2d1161",
   "metadata": {},
   "outputs": [
    {
     "data": {
      "text/plain": [
       "array([4., 4.])"
      ]
     },
     "execution_count": 5,
     "metadata": {},
     "output_type": "execute_result"
    }
   ],
   "source": [
    "g.area.values"
   ]
  },
  {
   "cell_type": "code",
   "execution_count": 6,
   "id": "incomplete-store",
   "metadata": {},
   "outputs": [],
   "source": [
    "gdf1 = geoplanar.fill_gaps(gdf)"
   ]
  },
  {
   "cell_type": "code",
   "execution_count": 7,
   "id": "civil-greenhouse",
   "metadata": {},
   "outputs": [
    {
     "data": {
      "text/plain": [
       "<AxesSubplot:>"
      ]
     },
     "execution_count": 7,
     "metadata": {},
     "output_type": "execute_result"
    },
    {
     "data": {
      "image/png": "[encoded data removed]",
      "text/plain": [
       "<Figure size 432x288 with 1 Axes>"
      ]
     },
     "metadata": {
      "needs_background": "light"
     },
     "output_type": "display_data"
    }
   ],
   "source": [
    "gdf1.plot(edgecolor='k')"
   ]
  },
  {
   "cell_type": "code",
   "execution_count": 8,
   "id": "104079d5-7af6-432e-8eb1-e797ffe0db6f",
   "metadata": {},
   "outputs": [
    {
     "data": {
      "text/plain": [
       "0    108.0\n",
       "1     32.0\n",
       "dtype: float64"
      ]
     },
     "execution_count": 8,
     "metadata": {},
     "output_type": "execute_result"
    }
   ],
   "source": [
    "gdf1.area"
   ]
  },
  {
   "cell_type": "code",
   "execution_count": 9,
   "id": "eb5199bc-e1a1-4afa-9253-fdf9f6faedbc",
   "metadata": {},
   "outputs": [
    {
     "data": {
      "text/plain": [
       "0    100.0\n",
       "1     32.0\n",
       "dtype: float64"
      ]
     },
     "execution_count": 9,
     "metadata": {},
     "output_type": "execute_result"
    }
   ],
   "source": [
    "gdf.area"
   ]
  },
  {
   "cell_type": "code",
   "execution_count": 10,
   "id": "satisfactory-summer",
   "metadata": {},
   "outputs": [
    {
     "data": {
      "text/html": [
       "<div>\n",
       "<style scoped>\n",
       "    .dataframe tbody tr th:only-of-type {\n",
       "        vertical-align: middle;\n",
       "    }\n",
       "\n",
       "    .dataframe tbody tr th {\n",
       "        vertical-align: top;\n",
       "    }\n",
       "\n",
       "    .dataframe thead th {\n",
       "        text-align: right;\n",
       "    }\n",
       "</style>\n",
       "<table border=\"1\" class=\"dataframe\">\n",
       "  <thead>\n",
       "    <tr style=\"text-align: right;\">\n",
       "      <th></th>\n",
       "      <th>geometry</th>\n",
       "    </tr>\n",
       "  </thead>\n",
       "  <tbody>\n",
       "  </tbody>\n",
       "</table>\n",
       "</div>"
      ],
      "text/plain": [
       "Empty GeoDataFrame\n",
       "Columns: [geometry]\n",
       "Index: []"
      ]
     },
     "execution_count": 10,
     "metadata": {},
     "output_type": "execute_result"
    }
   ],
   "source": [
    "geoplanar.gaps(gdf1)"
   ]
  },
  {
   "cell_type": "markdown",
   "id": "c5743a2c-5e18-434e-adc9-8be98417787e",
   "metadata": {},
   "source": [
    "The default is to merge the gap with the largest neighboring feature. \n",
    "\n",
    "To merge the gap with the smallest neighboring feature set `Largest=False':"
   ]
  },
  {
   "cell_type": "code",
   "execution_count": 11,
   "id": "45ff1bb6-d39d-480a-898b-0db53fc72aed",
   "metadata": {},
   "outputs": [
    {
     "data": {
      "text/plain": [
       "<AxesSubplot:>"
      ]
     },
     "execution_count": 11,
     "metadata": {},
     "output_type": "execute_result"
    },
    {
     "data": {
      "image/png": "[encoded data removed]",
      "text/plain": [
       "<Figure size 432x288 with 1 Axes>"
      ]
     },
     "metadata": {
      "needs_background": "light"
     },
     "output_type": "display_data"
    }
   ],
   "source": [
    "geoplanar.fill_gaps(gdf, largest=False).plot(edgecolor='k')"
   ]
  },
  {
   "cell_type": "code",
   "execution_count": 12,
   "id": "692355ff-dce6-4397-a1a5-e3f92cf27471",
   "metadata": {},
   "outputs": [
    {
     "data": {
      "text/plain": [
       "0    100.0\n",
       "1     40.0\n",
       "dtype: float64"
      ]
     },
     "execution_count": 12,
     "metadata": {},
     "output_type": "execute_result"
    }
   ],
   "source": [
    "geoplanar.fill_gaps(gdf, largest=False).area"
   ]
  },
  {
   "cell_type": "markdown",
   "id": "b73c9963-bf28-4bc8-9f3a-c72784ddf1bf",
   "metadata": {},
   "source": [
    "## Checking edge case"
   ]
  },
  {
   "cell_type": "code",
   "execution_count": 13,
   "id": "3495057c-2807-4fb5-beb8-c7b7415462a0",
   "metadata": {},
   "outputs": [
    {
     "data": {
      "text/plain": [
       "<AxesSubplot:>"
      ]
     },
     "execution_count": 13,
     "metadata": {},
     "output_type": "execute_result"
    },
    {
     "data": {
      "image/png": "[encoded data removed]",
      "text/plain": [
       "<Figure size 432x288 with 1 Axes>"
      ]
     },
     "metadata": {
      "needs_background": "light"
     },
     "output_type": "display_data"
    }
   ],
   "source": [
    "p1 = box(0,0,10,10)\n",
    "p2 = Polygon([(10,10), (12,8), (10,6), (12,4), (10,2), (20,5)])\n",
    "p3 = box(17,0,20,2)\n",
    "\n",
    "gdf = geopandas.GeoDataFrame(geometry=[p1,p2,p3])\n",
    "gdf.plot(edgecolor='k')"
   ]
  },
  {
   "cell_type": "code",
   "execution_count": 14,
   "id": "afc5568d-b7b2-42fc-8784-72928fc7a3a8",
   "metadata": {},
   "outputs": [],
   "source": [
    "g = geoplanar.gaps(gdf)"
   ]
  },
  {
   "cell_type": "code",
   "execution_count": 15,
   "id": "0b687ca3-2215-4ebc-b480-7a04b92d2110",
   "metadata": {},
   "outputs": [
    {
     "data": {
      "text/plain": [
       "<AxesSubplot:>"
      ]
     },
     "execution_count": 15,
     "metadata": {},
     "output_type": "execute_result"
    },
    {
     "data": {
      "image/png": "[encoded data removed]",
      "text/plain": [
       "<Figure size 432x288 with 1 Axes>"
      ]
     },
     "metadata": {
      "needs_background": "light"
     },
     "output_type": "display_data"
    }
   ],
   "source": [
    "g.plot()"
   ]
  },
  {
   "cell_type": "code",
   "execution_count": 16,
   "id": "7beef95b-80bb-4fc0-a114-86a91d3dd54d",
   "metadata": {},
   "outputs": [
    {
     "data": {
      "text/plain": [
       "<AxesSubplot:>"
      ]
     },
     "execution_count": 16,
     "metadata": {},
     "output_type": "execute_result"
    },
    {
     "data": {
      "image/png": "[encoded data removed]",
      "text/plain": [
       "<Figure size 432x288 with 1 Axes>"
      ]
     },
     "metadata": {
      "needs_background": "light"
     },
     "output_type": "display_data"
    }
   ],
   "source": [
    "geoplanar.fill_gaps(gdf, largest=False).plot(edgecolor='k')"
   ]
  },
  {
   "cell_type": "code",
   "execution_count": 17,
   "id": "4334053f-9ce8-4d14-bccf-51fcab7c573f",
   "metadata": {},
   "outputs": [
    {
     "data": {
      "text/plain": [
       "<AxesSubplot:>"
      ]
     },
     "execution_count": 17,
     "metadata": {},
     "output_type": "execute_result"
    },
    {
     "data": {
      "image/png": "[encoded data removed]",
      "text/plain": [
       "<Figure size 432x288 with 1 Axes>"
      ]
     },
     "metadata": {
      "needs_background": "light"
     },
     "output_type": "display_data"
    }
   ],
   "source": [
    "geoplanar.fill_gaps(gdf, largest=True).plot(edgecolor='k')"
   ]
  },
  {
   "cell_type": "code",
   "execution_count": null,
   "id": "fa18ca76-eed1-4e8d-845e-c3dad7ce0a14",
   "metadata": {},
   "outputs": [],
   "source": []
  },
  {
   "cell_type": "code",
   "execution_count": 18,
   "id": "3bc55181-35cb-46e0-a03d-899ae46e6d15",
   "metadata": {},
   "outputs": [
    {
     "data": {
      "text/plain": [
       "<AxesSubplot:>"
      ]
     },
     "execution_count": 18,
     "metadata": {},
     "output_type": "execute_result"
    },
    {
     "data": {
      "image/png": "[encoded data removed]",
      "text/plain": [
       "<Figure size 432x288 with 1 Axes>"
      ]
     },
     "metadata": {
      "needs_background": "light"
     },
     "output_type": "display_data"
    }
   ],
   "source": [
    "gdf.plot()"
   ]
  },
  {
   "cell_type": "markdown",
   "id": "5b5bfe48-cbb7-4bdd-9d7b-1ce647ed2898",
   "metadata": {},
   "source": [
    "## Gap with an inlet (non-gap)"
   ]
  },
  {
   "cell_type": "code",
   "execution_count": 19,
   "id": "196c642c-aa9f-454d-b10e-35133565b016",
   "metadata": {},
   "outputs": [
    {
     "data": {
      "text/plain": [
       "<AxesSubplot:>"
      ]
     },
     "execution_count": 19,
     "metadata": {},
     "output_type": "execute_result"
    },
    {
     "data": {
      "image/png": "[encoded data removed]",
      "text/plain": [
       "<Figure size 432x288 with 1 Axes>"
      ]
     },
     "metadata": {
      "needs_background": "light"
     },
     "output_type": "display_data"
    }
   ],
   "source": [
    "p1 = box(0,0,10,10)\n",
    "p2 = Polygon([(10,10), (12,8), (10,6), (12,4), (11,2), (20,5)])\n",
    "\n",
    "# a true gap with a inlet\n",
    "gdf = geopandas.GeoDataFrame(geometry=[p1,p2])\n",
    "gdf.plot(edgecolor='k')"
   ]
  },
  {
   "cell_type": "code",
   "execution_count": 20,
   "id": "b6616c29-dcea-489c-9830-2bf494fb43a2",
   "metadata": {},
   "outputs": [
    {
     "data": {
      "text/html": [
       "<div>\n",
       "<style scoped>\n",
       "    .dataframe tbody tr th:only-of-type {\n",
       "        vertical-align: middle;\n",
       "    }\n",
       "\n",
       "    .dataframe tbody tr th {\n",
       "        vertical-align: top;\n",
       "    }\n",
       "\n",
       "    .dataframe thead th {\n",
       "        text-align: right;\n",
       "    }\n",
       "</style>\n",
       "<table border=\"1\" class=\"dataframe\">\n",
       "  <thead>\n",
       "    <tr style=\"text-align: right;\">\n",
       "      <th></th>\n",
       "      <th>geometry</th>\n",
       "    </tr>\n",
       "  </thead>\n",
       "  <tbody>\n",
       "    <tr>\n",
       "      <th>2</th>\n",
       "      <td>POLYGON ((10.00000 10.00000, 12.00000 8.00000,...</td>\n",
       "    </tr>\n",
       "  </tbody>\n",
       "</table>\n",
       "</div>"
      ],
      "text/plain": [
       "                                            geometry\n",
       "2  POLYGON ((10.00000 10.00000, 12.00000 8.00000,..."
      ]
     },
     "execution_count": 20,
     "metadata": {},
     "output_type": "execute_result"
    }
   ],
   "source": [
    "geoplanar.gaps(gdf)"
   ]
  },
  {
   "cell_type": "code",
   "execution_count": 21,
   "id": "c8bd5c15-91a8-4676-819b-7e4a30e8633c",
   "metadata": {},
   "outputs": [
    {
     "data": {
      "text/plain": [
       "<AxesSubplot:>"
      ]
     },
     "execution_count": 21,
     "metadata": {},
     "output_type": "execute_result"
    },
    {
     "data": {
      "image/png": "[encoded data removed]",
      "text/plain": [
       "<Figure size 432x288 with 1 Axes>"
      ]
     },
     "metadata": {
      "needs_background": "light"
     },
     "output_type": "display_data"
    }
   ],
   "source": [
    "geoplanar.fill_gaps(gdf, largest=False).plot(edgecolor='k')"
   ]
  },
  {
   "cell_type": "markdown",
   "id": "6e91ef75-0cb2-4573-aeaa-9308bbfe08ae",
   "metadata": {},
   "source": [
    "## Selective Correction"
   ]
  },
  {
   "cell_type": "code",
   "execution_count": 22,
   "id": "b1db4682-7144-485c-ace4-61ea4d62ed44",
   "metadata": {},
   "outputs": [
    {
     "data": {
      "text/plain": [
       "<AxesSubplot:>"
      ]
     },
     "execution_count": 22,
     "metadata": {},
     "output_type": "execute_result"
    },
    {
     "data": {
      "image/png": "[encoded data removed]",
      "text/plain": [
       "<Figure size 432x288 with 1 Axes>"
      ]
     },
     "metadata": {
      "needs_background": "light"
     },
     "output_type": "display_data"
    }
   ],
   "source": [
    "p1 = box(0,0,10,10)\n",
    "p2 = Polygon([(10,10), (12,8), (10,6), (12,4), (10,2), (20,5)])\n",
    "p3 = box(17,0,20,2)\n",
    "\n",
    "gdf = geopandas.GeoDataFrame(geometry=[p1,p2,p3])\n",
    "gdf.plot(edgecolor='k')"
   ]
  },
  {
   "cell_type": "code",
   "execution_count": 23,
   "id": "9c5c3bf4-7bbc-47c2-94e2-3755502995b4",
   "metadata": {},
   "outputs": [],
   "source": [
    "gaps = geoplanar.gaps(gdf)"
   ]
  },
  {
   "cell_type": "code",
   "execution_count": 24,
   "id": "34e7e15c-bf0d-47cb-b922-7088c514a529",
   "metadata": {},
   "outputs": [
    {
     "data": {
      "text/plain": [
       "<AxesSubplot:>"
      ]
     },
     "execution_count": 24,
     "metadata": {},
     "output_type": "execute_result"
    },
    {
     "data": {
      "image/png": "[encoded data removed]",
      "text/plain": [
       "<Figure size 432x288 with 1 Axes>"
      ]
     },
     "metadata": {
      "needs_background": "light"
     },
     "output_type": "display_data"
    }
   ],
   "source": [
    "base = gdf.plot()\n",
    "gaps.plot(color='red', ax=base)"
   ]
  },
  {
   "cell_type": "code",
   "execution_count": 25,
   "id": "f44120d4-4865-4e04-9468-68790006aa5c",
   "metadata": {},
   "outputs": [
    {
     "data": {
      "text/html": [
       "<div>\n",
       "<style scoped>\n",
       "    .dataframe tbody tr th:only-of-type {\n",
       "        vertical-align: middle;\n",
       "    }\n",
       "\n",
       "    .dataframe tbody tr th {\n",
       "        vertical-align: top;\n",
       "    }\n",
       "\n",
       "    .dataframe thead th {\n",
       "        text-align: right;\n",
       "    }\n",
       "</style>\n",
       "<table border=\"1\" class=\"dataframe\">\n",
       "  <thead>\n",
       "    <tr style=\"text-align: right;\">\n",
       "      <th></th>\n",
       "      <th>geometry</th>\n",
       "    </tr>\n",
       "  </thead>\n",
       "  <tbody>\n",
       "    <tr>\n",
       "      <th>2</th>\n",
       "      <td>POLYGON ((10.00000 10.00000, 12.00000 8.00000,...</td>\n",
       "    </tr>\n",
       "    <tr>\n",
       "      <th>3</th>\n",
       "      <td>POLYGON ((10.00000 6.00000, 12.00000 4.00000, ...</td>\n",
       "    </tr>\n",
       "  </tbody>\n",
       "</table>\n",
       "</div>"
      ],
      "text/plain": [
       "                                            geometry\n",
       "2  POLYGON ((10.00000 10.00000, 12.00000 8.00000,...\n",
       "3  POLYGON ((10.00000 6.00000, 12.00000 4.00000, ..."
      ]
     },
     "execution_count": 25,
     "metadata": {},
     "output_type": "execute_result"
    }
   ],
   "source": [
    "gaps"
   ]
  },
  {
   "cell_type": "code",
   "execution_count": 26,
   "id": "34a6ad89-88a1-4577-bcae-d8ddba3c1136",
   "metadata": {},
   "outputs": [],
   "source": [
    "g2 = gaps.loc[[2]]"
   ]
  },
  {
   "cell_type": "code",
   "execution_count": 27,
   "id": "67178560-85a1-4c28-96c5-61db3479849d",
   "metadata": {},
   "outputs": [
    {
     "data": {
      "text/html": [
       "<div>\n",
       "<style scoped>\n",
       "    .dataframe tbody tr th:only-of-type {\n",
       "        vertical-align: middle;\n",
       "    }\n",
       "\n",
       "    .dataframe tbody tr th {\n",
       "        vertical-align: top;\n",
       "    }\n",
       "\n",
       "    .dataframe thead th {\n",
       "        text-align: right;\n",
       "    }\n",
       "</style>\n",
       "<table border=\"1\" class=\"dataframe\">\n",
       "  <thead>\n",
       "    <tr style=\"text-align: right;\">\n",
       "      <th></th>\n",
       "      <th>geometry</th>\n",
       "    </tr>\n",
       "  </thead>\n",
       "  <tbody>\n",
       "    <tr>\n",
       "      <th>2</th>\n",
       "      <td>POLYGON ((10.00000 10.00000, 12.00000 8.00000,...</td>\n",
       "    </tr>\n",
       "  </tbody>\n",
       "</table>\n",
       "</div>"
      ],
      "text/plain": [
       "                                            geometry\n",
       "2  POLYGON ((10.00000 10.00000, 12.00000 8.00000,..."
      ]
     },
     "execution_count": 27,
     "metadata": {},
     "output_type": "execute_result"
    }
   ],
   "source": [
    "g2"
   ]
  },
  {
   "cell_type": "code",
   "execution_count": 28,
   "id": "16582d71-b08e-4446-a789-7a0fd87ee27a",
   "metadata": {},
   "outputs": [],
   "source": [
    "filled = geoplanar.fill_gaps(gdf,g2)"
   ]
  },
  {
   "cell_type": "code",
   "execution_count": 29,
   "id": "5928f64a-0a9a-4e94-9963-2a328e61ac4a",
   "metadata": {},
   "outputs": [
    {
     "data": {
      "text/plain": [
       "<AxesSubplot:>"
      ]
     },
     "execution_count": 29,
     "metadata": {},
     "output_type": "execute_result"
    },
    {
     "data": {
      "image/png": "[encoded data removed]",
      "text/plain": [
       "<Figure size 432x288 with 1 Axes>"
      ]
     },
     "metadata": {
      "needs_background": "light"
     },
     "output_type": "display_data"
    }
   ],
   "source": [
    "base = filled.plot()\n",
    "g2.plot(color='red', ax=base)"
   ]
  },
  {
   "cell_type": "code",
   "execution_count": 30,
   "id": "46873b5b-f32a-437f-b3c4-ee0e97c4727c",
   "metadata": {},
   "outputs": [
    {
     "data": {
      "text/plain": [
       "0    104.0\n",
       "1     32.0\n",
       "2      6.0\n",
       "dtype: float64"
      ]
     },
     "execution_count": 30,
     "metadata": {},
     "output_type": "execute_result"
    }
   ],
   "source": [
    "filled.area"
   ]
  },
  {
   "cell_type": "code",
   "execution_count": 31,
   "id": "282563af-9986-452a-81e2-c0d08b3f04a4",
   "metadata": {},
   "outputs": [
    {
     "data": {
      "text/plain": [
       "(3, 1)"
      ]
     },
     "execution_count": 31,
     "metadata": {},
     "output_type": "execute_result"
    }
   ],
   "source": [
    "filled.shape"
   ]
  },
  {
   "cell_type": "code",
   "execution_count": 32,
   "id": "cac3290e-89ed-4308-9ab1-7fc3e456962b",
   "metadata": {},
   "outputs": [
    {
     "data": {
      "text/plain": [
       "True"
      ]
     },
     "execution_count": 32,
     "metadata": {},
     "output_type": "execute_result"
    }
   ],
   "source": [
    "(filled.area==[104, 32,6]).all()"
   ]
  }
 ],
 "metadata": {
  "kernelspec": {
   "display_name": "Python 3 (ipykernel)",
   "language": "python",
   "name": "python3"
  },
  "language_info": {
   "codemirror_mode": {
    "name": "ipython",
    "version": 3
   },
   "file_extension": ".py",
   "mimetype": "text/x-python",
   "name": "python",
   "nbconvert_exporter": "python",
   "pygments_lexer": "ipython3",
   "version": "3.9.7"
  },
  "varInspector": {
   "cols": {
    "lenName": 16,
    "lenType": 16,
    "lenVar": 40
   },
   "kernels_config": {
    "python": {
     "delete_cmd_postfix": "",
     "delete_cmd_prefix": "del ",
     "library": "var_list.py",
     "varRefreshCmd": "print(var_dic_list())"
    },
    "r": {
     "delete_cmd_postfix": ") ",
     "delete_cmd_prefix": "rm(",
     "library": "var_list.r",
     "varRefreshCmd": "cat(var_dic_list()) "
    }
   },
   "types_to_exclude": [
    "module",
    "function",
    "builtin_function_or_method",
    "instance",
    "_Feature"
   ],
   "window_display": false
  }
 },
 "nbformat": 4,
 "nbformat_minor": 5
}
