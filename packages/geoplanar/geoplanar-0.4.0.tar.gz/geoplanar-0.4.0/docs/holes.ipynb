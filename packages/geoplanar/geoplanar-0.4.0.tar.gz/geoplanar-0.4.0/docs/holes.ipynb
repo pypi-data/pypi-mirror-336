{
 "cells": [
  {
   "cell_type": "code",
   "execution_count": 1,
   "id": "cfbaa126",
   "metadata": {},
   "outputs": [],
   "source": [
    "import geopandas\n",
    "import numpy\n",
    "import matplotlib.pyplot as plt\n",
    "import geoplanar\n",
    "from shapely.geometry import box, Point\n"
   ]
  },
  {
   "cell_type": "markdown",
   "id": "c72f6db1",
   "metadata": {},
   "source": [
    "# Holes (omitted interior rings)"
   ]
  },
  {
   "cell_type": "markdown",
   "id": "dcffc755",
   "metadata": {},
   "source": [
    "For a planar enforced polygon layer there should be no individual polygons that are contained inside other polygons.\n",
    "\n",
    "Violation of this condition can lead to a number of errors in subsequent spatial analysis.\n",
    "\n",
    "## Violation: Points within more than a single feature"
   ]
  },
  {
   "cell_type": "markdown",
   "id": "8a1be122",
   "metadata": {},
   "source": [
    "If this were not the case, then it would be possible for a point to be contained inside more than a single polygon which would be a violation of planar enforcement.\n",
    "An example can be seen as follows:"
   ]
  },
  {
   "cell_type": "code",
   "execution_count": 2,
   "id": "6c5beb4a",
   "metadata": {},
   "outputs": [
    {
     "data": {
      "text/plain": [
       "<AxesSubplot:>"
      ]
     },
     "execution_count": 2,
     "metadata": {},
     "output_type": "execute_result"
    },
    {
     "data": {
      "image/png": "[encoded data removed]",
      "text/plain": [
       "<Figure size 432x288 with 1 Axes>"
      ]
     },
     "metadata": {
      "needs_background": "light"
     },
     "output_type": "display_data"
    }
   ],
   "source": [
    "p1 = box(0,0,10,10)\n",
    "p2 = box(1,1, 3,3)\n",
    "p3 = box(7,7, 9,9)\n",
    "\n",
    "gdf = geopandas.GeoDataFrame(geometry=[p1,p2,p3])\n",
    "base = gdf.plot(edgecolor='k')\n",
    "\n",
    "pnt1 = geopandas.GeoDataFrame(geometry=[Point(2,2)])\n",
    "pnt1.plot(ax=base,color='red')"
   ]
  },
  {
   "cell_type": "code",
   "execution_count": 3,
   "id": "90fe7df8",
   "metadata": {},
   "outputs": [
    {
     "data": {
      "text/plain": [
       "0    True\n",
       "dtype: bool"
      ]
     },
     "execution_count": 3,
     "metadata": {},
     "output_type": "execute_result"
    }
   ],
   "source": [
    "pnt1.within(gdf.geometry[0])"
   ]
  },
  {
   "cell_type": "code",
   "execution_count": 4,
   "id": "df53d8fd",
   "metadata": {
    "lines_to_next_cell": 0
   },
   "outputs": [
    {
     "data": {
      "text/plain": [
       "0    True\n",
       "dtype: bool"
      ]
     },
     "execution_count": 4,
     "metadata": {},
     "output_type": "execute_result"
    }
   ],
   "source": [
    "pnt1.within(gdf.geometry[1])"
   ]
  },
  {
   "cell_type": "markdown",
   "id": "1ce4898e",
   "metadata": {},
   "source": [
    "The violation here is that `pnt1` is `within` *both* polygon `p1` *and* `p2`."
   ]
  },
  {
   "cell_type": "markdown",
   "id": "cc697779",
   "metadata": {},
   "source": [
    "## Error in area calculations\n",
    "\n",
    "A related error that arises in this case is that the area of the \"containing\" polygon will be too large, since it includes the area of the smaller polygons:"
   ]
  },
  {
   "cell_type": "code",
   "execution_count": 5,
   "id": "4a9ff8f1",
   "metadata": {},
   "outputs": [
    {
     "data": {
      "image/svg+xml": [
       "<svg xmlns=\"http://www.w3.org/2000/svg\" xmlns:xlink=\"http://www.w3.org/1999/xlink\" width=\"100.0\" height=\"100.0\" viewBox=\"-0.4 -0.4 10.8 10.8\" preserveAspectRatio=\"xMinYMin meet\"><g transform=\"matrix(1,0,0,-1,0,10.0)\"><path fill-rule=\"evenodd\" fill=\"#66cc99\" stroke=\"#555555\" stroke-width=\"0.21600000000000003\" opacity=\"0.6\" d=\"M 10.0,0.0 L 10.0,10.0 L 0.0,10.0 L 0.0,0.0 L 10.0,0.0 z\" /></g></svg>"
      ],
      "text/plain": [
       "<shapely.geometry.polygon.Polygon at 0x7f21aecb5eb0>"
      ]
     },
     "execution_count": 5,
     "metadata": {},
     "output_type": "execute_result"
    }
   ],
   "source": [
    "gdf.geometry[0]"
   ]
  },
  {
   "cell_type": "code",
   "execution_count": 6,
   "id": "74199743",
   "metadata": {},
   "outputs": [
    {
     "data": {
      "text/plain": [
       "0    100.0\n",
       "1      4.0\n",
       "2      4.0\n",
       "dtype: float64"
      ]
     },
     "execution_count": 6,
     "metadata": {},
     "output_type": "execute_result"
    }
   ],
   "source": [
    "gdf.area"
   ]
  },
  {
   "cell_type": "code",
   "execution_count": 7,
   "id": "eb4e445a",
   "metadata": {},
   "outputs": [
    {
     "data": {
      "text/plain": [
       "108.0"
      ]
     },
     "execution_count": 7,
     "metadata": {},
     "output_type": "execute_result"
    }
   ],
   "source": [
    "gdf.area.sum()"
   ]
  },
  {
   "cell_type": "markdown",
   "id": "ea9863d0",
   "metadata": {},
   "source": [
    "## Missing interior rings (aka holes)\n",
    "\n",
    "The crux of the issue is that the two smaller polygons are entities in their own right, yet the large polygon was defined to have only a single external ring. It is missing two **interior rings**\n",
    "which would allow for the correct topological relationship between the larger polygon and the two smaller polygons.\n",
    "\n",
    "`geoplanar` can detect missing interiors:"
   ]
  },
  {
   "cell_type": "code",
   "execution_count": 8,
   "id": "0ac7ff26",
   "metadata": {
    "lines_to_next_cell": 2
   },
   "outputs": [
    {
     "data": {
      "text/plain": [
       "[(0, 1), (0, 2)]"
      ]
     },
     "execution_count": 8,
     "metadata": {},
     "output_type": "execute_result"
    }
   ],
   "source": [
    "mi = geoplanar.missing_interiors(gdf)\n",
    "mi"
   ]
  },
  {
   "cell_type": "markdown",
   "id": "5628ee20",
   "metadata": {},
   "source": [
    "## Adding interior rings\n",
    "Once we know that the problem is missing interior rings, we can correct this with `add_interiors`:"
   ]
  },
  {
   "cell_type": "code",
   "execution_count": 9,
   "id": "dda5dc19",
   "metadata": {},
   "outputs": [],
   "source": [
    "gdf1 = geoplanar.add_interiors(gdf)"
   ]
  },
  {
   "cell_type": "code",
   "execution_count": 10,
   "id": "d91a5d40",
   "metadata": {},
   "outputs": [
    {
     "data": {
      "image/svg+xml": [
       "<svg xmlns=\"http://www.w3.org/2000/svg\" xmlns:xlink=\"http://www.w3.org/1999/xlink\" width=\"100.0\" height=\"100.0\" viewBox=\"-0.4 -0.4 10.8 10.8\" preserveAspectRatio=\"xMinYMin meet\"><g transform=\"matrix(1,0,0,-1,0,10.0)\"><path fill-rule=\"evenodd\" fill=\"#66cc99\" stroke=\"#555555\" stroke-width=\"0.21600000000000003\" opacity=\"0.6\" d=\"M 0.0,10.0 L 10.0,10.0 L 10.0,0.0 L 0.0,0.0 L 0.0,10.0 z M 1.0,3.0 L 1.0,1.0 L 3.0,1.0 L 3.0,3.0 L 1.0,3.0 z M 9.0,9.0 L 7.0,9.0 L 7.0,7.0 L 9.0,7.0 L 9.0,9.0 z\" /></g></svg>"
      ],
      "text/plain": [
       "<shapely.geometry.polygon.Polygon at 0x7f21aeb9bd30>"
      ]
     },
     "execution_count": 10,
     "metadata": {},
     "output_type": "execute_result"
    }
   ],
   "source": [
    "gdf1.geometry[0]"
   ]
  },
  {
   "cell_type": "markdown",
   "id": "b01a3534",
   "metadata": {},
   "source": [
    "And we see that the resulting area of the GeoSeries is now correct:"
   ]
  },
  {
   "cell_type": "code",
   "execution_count": 11,
   "id": "996cc225",
   "metadata": {
    "lines_to_next_cell": 0
   },
   "outputs": [
    {
     "data": {
      "text/plain": [
       "0    92.0\n",
       "1     4.0\n",
       "2     4.0\n",
       "dtype: float64"
      ]
     },
     "execution_count": 11,
     "metadata": {},
     "output_type": "execute_result"
    }
   ],
   "source": [
    "gdf1.area"
   ]
  },
  {
   "cell_type": "markdown",
   "id": "f239eeb7",
   "metadata": {},
   "source": [
    "Additionally, a check for `missing_interiors` reveals the violation has been corrected"
   ]
  },
  {
   "cell_type": "code",
   "execution_count": 12,
   "id": "92ff657f",
   "metadata": {},
   "outputs": [
    {
     "data": {
      "text/plain": [
       "[]"
      ]
     },
     "execution_count": 12,
     "metadata": {},
     "output_type": "execute_result"
    }
   ],
   "source": [
    "geoplanar.missing_interiors(gdf1)"
   ]
  },
  {
   "cell_type": "markdown",
   "id": "63623c39",
   "metadata": {},
   "source": [
    "The addition of the interior rings also corrects the violation of the containment rule that a point should belong to at most a single polygon in a planar enforced polygon GeoSeries:\n"
   ]
  },
  {
   "cell_type": "code",
   "execution_count": 13,
   "id": "0b639aac",
   "metadata": {},
   "outputs": [
    {
     "data": {
      "text/plain": [
       "0    False\n",
       "dtype: bool"
      ]
     },
     "execution_count": 13,
     "metadata": {},
     "output_type": "execute_result"
    }
   ],
   "source": [
    "pnt1.within(gdf1.geometry[0])"
   ]
  },
  {
   "cell_type": "code",
   "execution_count": 14,
   "id": "e51e09b0",
   "metadata": {
    "lines_to_next_cell": 0
   },
   "outputs": [
    {
     "data": {
      "text/plain": [
       "0    True\n",
       "dtype: bool"
      ]
     },
     "execution_count": 14,
     "metadata": {},
     "output_type": "execute_result"
    }
   ],
   "source": [
    "pnt1.within(gdf1.geometry[1])"
   ]
  },
  {
   "cell_type": "markdown",
   "id": "76a66d79",
   "metadata": {},
   "source": [
    "## Failure to detect contiguity\n",
    "\n",
    "A final implication of missing interiors in a non-planar enforced polygon GeoSeries is that algorithms that rely on planar enforcement to detect contiguous polygons will fail.\n",
    "\n",
    "More specifically, in [pysal](https://pysal.org), fast polygon detectors can be used to generate so called Queen neighbors, which are pairs of polygons that share at least one vertex on their exterior/interior rings."
   ]
  },
  {
   "cell_type": "code",
   "execution_count": 15,
   "id": "764ec964",
   "metadata": {
    "lines_to_next_cell": 2
   },
   "outputs": [],
   "source": [
    "import libpysal"
   ]
  },
  {
   "cell_type": "code",
   "execution_count": 16,
   "id": "b27388ca",
   "metadata": {},
   "outputs": [
    {
     "name": "stderr",
     "output_type": "stream",
     "text": [
      "/home/serge/Documents/p/pysal/src/subpackages/libpysal/libpysal/weights/weights.py:172: UserWarning: The weights matrix is not fully connected: \n",
      " There are 3 disconnected components.\n",
      " There are 3 islands with ids: 0, 1, 2.\n",
      "  warnings.warn(message)\n"
     ]
    }
   ],
   "source": [
    "w = libpysal.weights.Queen.from_dataframe(gdf)"
   ]
  },
  {
   "cell_type": "code",
   "execution_count": 17,
   "id": "12244594",
   "metadata": {
    "lines_to_next_cell": 0
   },
   "outputs": [
    {
     "data": {
      "text/plain": [
       "{0: [], 1: [], 2: []}"
      ]
     },
     "execution_count": 17,
     "metadata": {},
     "output_type": "execute_result"
    }
   ],
   "source": [
    "w.neighbors"
   ]
  },
  {
   "cell_type": "markdown",
   "id": "74195a22",
   "metadata": {
    "lines_to_next_cell": 0
   },
   "source": [
    "The original GeoDataFrame results in fully disconnected polygons, or islands. `pysal` at least throws a warning when islands are detected, and for this particular type of planar enforcement violation, missing interiors, the contained polygons will always be reported as islands.\n",
    "\n",
    "Using the corrected GeoDataFrame with the inserted interior rings results in the correct neighbor determinations:"
   ]
  },
  {
   "cell_type": "code",
   "execution_count": 18,
   "id": "5c09a712",
   "metadata": {},
   "outputs": [],
   "source": [
    "w = libpysal.weights.Queen.from_dataframe(gdf1)"
   ]
  },
  {
   "cell_type": "code",
   "execution_count": 19,
   "id": "ae7d4c04",
   "metadata": {},
   "outputs": [
    {
     "data": {
      "text/plain": [
       "{0: [1, 2], 1: [0], 2: [0]}"
      ]
     },
     "execution_count": 19,
     "metadata": {},
     "output_type": "execute_result"
    }
   ],
   "source": [
    "w.neighbors"
   ]
  }
 ],
 "metadata": {
  "jupytext": {
   "formats": "ipynb,md"
  },
  "kernelspec": {
   "display_name": "Python 3 (ipykernel)",
   "language": "python",
   "name": "python3"
  },
  "language_info": {
   "codemirror_mode": {
    "name": "ipython",
    "version": 3
   },
   "file_extension": ".py",
   "mimetype": "text/x-python",
   "name": "python",
   "nbconvert_exporter": "python",
   "pygments_lexer": "ipython3",
   "version": "3.9.7"
  }
 },
 "nbformat": 4,
 "nbformat_minor": 5
}
