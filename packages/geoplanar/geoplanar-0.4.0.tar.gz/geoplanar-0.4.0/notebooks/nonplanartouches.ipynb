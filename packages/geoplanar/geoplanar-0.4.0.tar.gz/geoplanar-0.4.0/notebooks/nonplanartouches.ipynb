{
 "cells": [
  {
   "cell_type": "code",
   "execution_count": 1,
   "id": "ancient-wheat",
   "metadata": {},
   "outputs": [],
   "source": [
    "import geopandas\n",
    "import numpy\n",
    "import matplotlib.pyplot as plt\n",
    "import geoplanar\n",
    "import libpysal\n",
    "from shapely.geometry import Polygon\n"
   ]
  },
  {
   "cell_type": "markdown",
   "id": "parallel-proposition",
   "metadata": {},
   "source": [
    "## Planar Enforcement Violation: non-planar enforced touches"
   ]
  },
  {
   "cell_type": "code",
   "execution_count": 2,
   "id": "sunset-roads",
   "metadata": {},
   "outputs": [
    {
     "data": {
      "image/png": "[encoded data removed]",
      "text/plain": [
       "<Figure size 432x288 with 1 Axes>"
      ]
     },
     "metadata": {
      "needs_background": "light"
     },
     "output_type": "display_data"
    }
   ],
   "source": [
    "c1 = [[0,0], [0, 10], [10, 10], [10, 0], [0, 0]]\n",
    "p1 = Polygon(c1)\n",
    "c2 = [[10, 2], [20, 8], [20, 2], [10, 2]]\n",
    "p2 = Polygon(c2)\n",
    "gdf = geopandas.GeoDataFrame(geometry=[p1, p2])\n",
    "base = gdf.plot(edgecolor='k', facecolor=\"none\",alpha=0.5)\n",
    "c1 = numpy.array(c1)\n",
    "c2 = numpy.array(c2)\n",
    "_ = base.scatter(c1[:,0], c1[:,1])\n",
    "_ =base.scatter(c2[:,0], c2[:,1])\n",
    "\n"
   ]
  },
  {
   "cell_type": "markdown",
   "id": "foster-letters",
   "metadata": {},
   "source": [
    "The two polygons are visually contiguous share no vertices. This will result in the two polygons not being Queen neighbors, since a necessary (and sufficient) condition for the latter is at least one shared vertex."
   ]
  },
  {
   "cell_type": "code",
   "execution_count": 3,
   "id": "vietnamese-office",
   "metadata": {},
   "outputs": [
    {
     "name": "stderr",
     "output_type": "stream",
     "text": [
      "/home/serge/anaconda3/envs/dev39/lib/python3.10/site-packages/libpysal/weights/weights.py:172: UserWarning: The weights matrix is not fully connected: \n",
      " There are 2 disconnected components.\n",
      " There are 2 islands with ids: 0, 1.\n",
      "  warnings.warn(message)\n"
     ]
    }
   ],
   "source": [
    "w = libpysal.weights.Queen.from_dataframe(gdf)"
   ]
  },
  {
   "cell_type": "markdown",
   "id": "smart-hygiene",
   "metadata": {},
   "source": [
    "## Detecting nonplanar touches"
   ]
  },
  {
   "cell_type": "markdown",
   "id": "selective-syracuse",
   "metadata": {},
   "source": [
    "`geoplanar` can detect and report nonplanar edges:"
   ]
  },
  {
   "cell_type": "code",
   "execution_count": 4,
   "id": "usual-storm",
   "metadata": {},
   "outputs": [
    {
     "data": {
      "text/plain": [
       "defaultdict(set, {0: {1}})"
      ]
     },
     "execution_count": 4,
     "metadata": {},
     "output_type": "execute_result"
    }
   ],
   "source": [
    "geoplanar.non_planar_edges(gdf)"
   ]
  },
  {
   "cell_type": "markdown",
   "id": "significant-penguin",
   "metadata": {},
   "source": [
    "## Fixing nonplanar edges"
   ]
  },
  {
   "cell_type": "code",
   "execution_count": 5,
   "id": "dimensional-gambling",
   "metadata": {},
   "outputs": [
    {
     "name": "stderr",
     "output_type": "stream",
     "text": [
      "/home/serge/anaconda3/envs/dev39/lib/python3.10/site-packages/libpysal/weights/weights.py:172: UserWarning: The weights matrix is not fully connected: \n",
      " There are 2 disconnected components.\n",
      " There are 2 islands with ids: 0, 1.\n",
      "  warnings.warn(message)\n"
     ]
    }
   ],
   "source": [
    "gdf1 = geoplanar.fix_npe_edges(gdf)"
   ]
  },
  {
   "cell_type": "code",
   "execution_count": 6,
   "id": "flying-computer",
   "metadata": {},
   "outputs": [
    {
     "data": {
      "text/plain": [
       "defaultdict(set, {})"
      ]
     },
     "execution_count": 6,
     "metadata": {},
     "output_type": "execute_result"
    }
   ],
   "source": [
    "geoplanar.non_planar_edges(gdf1)"
   ]
  },
  {
   "cell_type": "code",
   "execution_count": 7,
   "id": "powered-special",
   "metadata": {},
   "outputs": [
    {
     "data": {
      "text/plain": [
       "{0: [1], 1: [0]}"
      ]
     },
     "execution_count": 7,
     "metadata": {},
     "output_type": "execute_result"
    }
   ],
   "source": [
    "w1 = libpysal.weights.Queen.from_dataframe(gdf1)\n",
    "w1.neighbors"
   ]
  },
  {
   "cell_type": "markdown",
   "id": "level-vietnamese",
   "metadata": {},
   "source": [
    "## Default is to work on a copy"
   ]
  },
  {
   "cell_type": "code",
   "execution_count": 8,
   "id": "sustained-queens",
   "metadata": {},
   "outputs": [
    {
     "name": "stderr",
     "output_type": "stream",
     "text": [
      "/home/serge/anaconda3/envs/dev39/lib/python3.10/site-packages/libpysal/weights/weights.py:172: UserWarning: The weights matrix is not fully connected: \n",
      " There are 2 disconnected components.\n",
      " There are 2 islands with ids: 0, 1.\n",
      "  warnings.warn(message)\n"
     ]
    },
    {
     "data": {
      "text/plain": [
       "defaultdict(set, {0: {1}})"
      ]
     },
     "execution_count": 8,
     "metadata": {},
     "output_type": "execute_result"
    }
   ],
   "source": [
    "geoplanar.non_planar_edges(gdf)"
   ]
  },
  {
   "cell_type": "code",
   "execution_count": 9,
   "id": "contemporary-distribution",
   "metadata": {},
   "outputs": [
    {
     "data": {
      "text/html": [
       "<div>\n",
       "<style scoped>\n",
       "    .dataframe tbody tr th:only-of-type {\n",
       "        vertical-align: middle;\n",
       "    }\n",
       "\n",
       "    .dataframe tbody tr th {\n",
       "        vertical-align: top;\n",
       "    }\n",
       "\n",
       "    .dataframe thead th {\n",
       "        text-align: right;\n",
       "    }\n",
       "</style>\n",
       "<table border=\"1\" class=\"dataframe\">\n",
       "  <thead>\n",
       "    <tr style=\"text-align: right;\">\n",
       "      <th></th>\n",
       "      <th>geometry</th>\n",
       "    </tr>\n",
       "  </thead>\n",
       "  <tbody>\n",
       "    <tr>\n",
       "      <th>0</th>\n",
       "      <td>POLYGON ((0.00000 0.00000, 0.00000 10.00000, 1...</td>\n",
       "    </tr>\n",
       "    <tr>\n",
       "      <th>1</th>\n",
       "      <td>POLYGON ((10.00000 2.00000, 20.00000 8.00000, ...</td>\n",
       "    </tr>\n",
       "  </tbody>\n",
       "</table>\n",
       "</div>"
      ],
      "text/plain": [
       "                                            geometry\n",
       "0  POLYGON ((0.00000 0.00000, 0.00000 10.00000, 1...\n",
       "1  POLYGON ((10.00000 2.00000, 20.00000 8.00000, ..."
      ]
     },
     "execution_count": 9,
     "metadata": {},
     "output_type": "execute_result"
    }
   ],
   "source": [
    "geoplanar.fix_npe_edges(gdf, inplace=True)\n"
   ]
  },
  {
   "cell_type": "code",
   "execution_count": 10,
   "id": "disturbed-extension",
   "metadata": {},
   "outputs": [
    {
     "data": {
      "text/plain": [
       "defaultdict(set, {})"
      ]
     },
     "execution_count": 10,
     "metadata": {},
     "output_type": "execute_result"
    }
   ],
   "source": [
    "geoplanar.non_planar_edges(gdf)"
   ]
  },
  {
   "cell_type": "code",
   "execution_count": 11,
   "id": "juvenile-linux",
   "metadata": {},
   "outputs": [
    {
     "data": {
      "text/plain": [
       "{0: [1], 1: [0]}"
      ]
     },
     "execution_count": 11,
     "metadata": {},
     "output_type": "execute_result"
    }
   ],
   "source": [
    "w = libpysal.weights.Queen.from_dataframe(gdf)\n",
    "w.neighbors"
   ]
  },
  {
   "cell_type": "markdown",
   "id": "c4a8f147-2065-4ccd-8254-a6db63f21cd1",
   "metadata": {},
   "source": [
    "## Handle MultiPolygons"
   ]
  },
  {
   "cell_type": "code",
   "execution_count": 12,
   "id": "961d1051-9b27-4a5e-9d2f-033e13b097bc",
   "metadata": {},
   "outputs": [
    {
     "data": {
      "image/png": "[encoded data removed]",
      "text/plain": [
       "<Figure size 432x288 with 1 Axes>"
      ]
     },
     "metadata": {
      "needs_background": "light"
     },
     "output_type": "display_data"
    }
   ],
   "source": [
    "from shapely.geometry import MultiPolygon\n",
    "c1 = [[0,0], [0, 10], [10, 10], [10, 0], [0, 0]]\n",
    "p1 = Polygon(c1)\n",
    "c2 = [[10, 2], [20, 8], [20, 2], [10, 2]]\n",
    "p3 = Polygon([ [21, 2], [21, 4], [23,3] ])\n",
    "\n",
    "#p2 = Polygon(c2)\n",
    "p2 = MultiPolygon([Polygon(c2), p3])\n",
    "\n",
    "gdf = geopandas.GeoDataFrame(geometry=[p1, p2])\n",
    "base = gdf.plot(edgecolor='k', facecolor=\"none\",alpha=0.5)\n",
    "c1 = numpy.array(c1)\n",
    "c2 = numpy.array(c2)\n",
    "_ = base.scatter(c1[:,0], c1[:,1])\n",
    "_ =base.scatter(c2[:,0], c2[:,1])\n",
    "\n"
   ]
  },
  {
   "cell_type": "code",
   "execution_count": 13,
   "id": "85926d2f-af5e-47c8-8dff-c4ddebd0463e",
   "metadata": {},
   "outputs": [
    {
     "name": "stderr",
     "output_type": "stream",
     "text": [
      "/home/serge/anaconda3/envs/dev39/lib/python3.10/site-packages/libpysal/weights/weights.py:172: UserWarning: The weights matrix is not fully connected: \n",
      " There are 2 disconnected components.\n",
      " There are 2 islands with ids: 0, 1.\n",
      "  warnings.warn(message)\n"
     ]
    }
   ],
   "source": [
    "res = geoplanar.non_planar_edges(gdf)"
   ]
  },
  {
   "cell_type": "code",
   "execution_count": 14,
   "id": "5a6dece0-42fe-4d9c-ad87-8c8b2394f114",
   "metadata": {},
   "outputs": [
    {
     "data": {
      "text/plain": [
       "defaultdict(set, {0: {1}})"
      ]
     },
     "execution_count": 14,
     "metadata": {},
     "output_type": "execute_result"
    }
   ],
   "source": [
    "res"
   ]
  },
  {
   "cell_type": "code",
   "execution_count": 14,
   "id": "7499cf0c-26d2-4c6b-ae36-cb281898c763",
   "metadata": {},
   "outputs": [
    {
     "name": "stderr",
     "output_type": "stream",
     "text": [
      "/home/serge/anaconda3/envs/edu_concordance/lib/python3.9/site-packages/libpysal/weights/weights.py:172: UserWarning: The weights matrix is not fully connected: \n",
      " There are 2 disconnected components.\n",
      " There are 2 islands with ids: 0, 1.\n",
      "  warnings.warn(message)\n"
     ]
    }
   ],
   "source": [
    "gdf1 = geoplanar.fix_npe_edges(gdf)\n"
   ]
  },
  {
   "cell_type": "code",
   "execution_count": 15,
   "id": "28641dfc-4016-4e9a-8c6f-e0c977864561",
   "metadata": {},
   "outputs": [
    {
     "data": {
      "text/plain": [
       "'POLYGON ((0 0, 0 10, 10 10, 10 2, 10 0, 0 0))'"
      ]
     },
     "execution_count": 15,
     "metadata": {},
     "output_type": "execute_result"
    }
   ],
   "source": [
    "gdf1.geometry[0].wkt"
   ]
  },
  {
   "cell_type": "code",
   "execution_count": 16,
   "id": "617337be-c55c-4337-a1ba-a120b6ea3feb",
   "metadata": {},
   "outputs": [
    {
     "data": {
      "text/plain": [
       "'POLYGON ((0 0, 0 10, 10 10, 10 0, 0 0))'"
      ]
     },
     "execution_count": 16,
     "metadata": {},
     "output_type": "execute_result"
    }
   ],
   "source": [
    "gdf.geometry[0].wkt"
   ]
  },
  {
   "cell_type": "code",
   "execution_count": null,
   "id": "cac07120-687d-44bf-b4eb-9851a5f16527",
   "metadata": {},
   "outputs": [],
   "source": []
  }
 ],
 "metadata": {
  "kernelspec": {
   "display_name": "Python 3 (ipykernel)",
   "language": "python",
   "name": "python3"
  },
  "language_info": {
   "codemirror_mode": {
    "name": "ipython",
    "version": 3
   },
   "file_extension": ".py",
   "mimetype": "text/x-python",
   "name": "python",
   "nbconvert_exporter": "python",
   "pygments_lexer": "ipython3",
   "version": "3.12.3"
  }
 },
 "nbformat": 4,
 "nbformat_minor": 5
}
