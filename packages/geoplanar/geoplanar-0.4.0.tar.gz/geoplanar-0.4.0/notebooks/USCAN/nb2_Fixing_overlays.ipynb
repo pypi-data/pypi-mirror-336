{
 "cells": [
  {
   "cell_type": "markdown",
   "id": "990a1ca7-c523-4030-b201-fb00b1bb6383",
   "metadata": {
    "tags": []
   },
   "source": [
    "## Application of `Geoplanar`\n"
   ]
  },
  {
   "cell_type": "markdown",
   "id": "d778409e-18f1-4c76-b07a-e156e94741d9",
   "metadata": {},
   "source": [
    "### Example US and Canada"
   ]
  },
  {
   "cell_type": "markdown",
   "id": "4f143652-cbf0-4de4-942d-b53a631f4111",
   "metadata": {},
   "source": [
    "### Fixing Overlays \n",
    "\n",
    "In this notebook, we will demonstrate some of the basic functionality of `geoplanar` using the example of a researcher interested in integrating data from the United States and Canada, to study the US-Canada international border region. \n",
    "\n",
    "#### Steps\n",
    "1. Data Retrieval\n",
    "2. Testing for overlays\n",
    "3. Fixing overlays\n",
    "3. Saving Data\n"
   ]
  },
  {
   "cell_type": "code",
   "execution_count": 5,
   "id": "69f76310-ab40-487f-88be-a63521dc4c89",
   "metadata": {},
   "outputs": [],
   "source": [
    "import geoplanar\n",
    "import geopandas as gpd\n",
    "import numpy as np"
   ]
  },
  {
   "cell_type": "code",
   "execution_count": 6,
   "id": "e21a5378-8891-45e9-a0b8-e4c4655cf3be",
   "metadata": {},
   "outputs": [],
   "source": [
    "import warnings\n",
    "warnings.filterwarnings(\"ignore\")"
   ]
  },
  {
   "cell_type": "markdown",
   "id": "657d04be-7b7c-49ae-97dd-1911ba76104e",
   "metadata": {},
   "source": [
    "### 1. Data Retrieval US/Canada Level 1 Data"
   ]
  },
  {
   "cell_type": "code",
   "execution_count": 7,
   "id": "b507606d-bced-4aa3-89d5-d32103a1e126",
   "metadata": {},
   "outputs": [
    {
     "data": {
      "text/html": [
       "<div>\n",
       "<style scoped>\n",
       "    .dataframe tbody tr th:only-of-type {\n",
       "        vertical-align: middle;\n",
       "    }\n",
       "\n",
       "    .dataframe tbody tr th {\n",
       "        vertical-align: top;\n",
       "    }\n",
       "\n",
       "    .dataframe thead th {\n",
       "        text-align: right;\n",
       "    }\n",
       "</style>\n",
       "<table border=\"1\" class=\"dataframe\">\n",
       "  <thead>\n",
       "    <tr style=\"text-align: right;\">\n",
       "      <th></th>\n",
       "      <th>level_0</th>\n",
       "      <th>geometry</th>\n",
       "      <th>COUNTRY</th>\n",
       "      <th>index</th>\n",
       "      <th>AREA</th>\n",
       "      <th>PERIMETER</th>\n",
       "      <th>STATE_</th>\n",
       "      <th>STATE_ID</th>\n",
       "      <th>STATE_NAME</th>\n",
       "      <th>STATE_FIPS</th>\n",
       "      <th>...</th>\n",
       "      <th>GID_0</th>\n",
       "      <th>NAME_0</th>\n",
       "      <th>GID_1</th>\n",
       "      <th>NAME_1</th>\n",
       "      <th>VARNAME_1</th>\n",
       "      <th>NL_NAME_1</th>\n",
       "      <th>TYPE_1</th>\n",
       "      <th>ENGTYPE_1</th>\n",
       "      <th>CC_1</th>\n",
       "      <th>HASC_1</th>\n",
       "    </tr>\n",
       "  </thead>\n",
       "  <tbody>\n",
       "    <tr>\n",
       "      <th>0</th>\n",
       "      <td>59</td>\n",
       "      <td>POLYGON ((-89.56835 47.99815, -89.53059 48.001...</td>\n",
       "      <td>LAKE</td>\n",
       "      <td>NaN</td>\n",
       "      <td>NaN</td>\n",
       "      <td>NaN</td>\n",
       "      <td>NaN</td>\n",
       "      <td>NaN</td>\n",
       "      <td>None</td>\n",
       "      <td>None</td>\n",
       "      <td>...</td>\n",
       "      <td>None</td>\n",
       "      <td>None</td>\n",
       "      <td>None</td>\n",
       "      <td>None</td>\n",
       "      <td>None</td>\n",
       "      <td>None</td>\n",
       "      <td>None</td>\n",
       "      <td>None</td>\n",
       "      <td>None</td>\n",
       "      <td>None</td>\n",
       "    </tr>\n",
       "    <tr>\n",
       "      <th>1</th>\n",
       "      <td>64</td>\n",
       "      <td>POLYGON ((-82.92947 42.36300, -82.87499 42.458...</td>\n",
       "      <td>LAKE</td>\n",
       "      <td>NaN</td>\n",
       "      <td>NaN</td>\n",
       "      <td>NaN</td>\n",
       "      <td>NaN</td>\n",
       "      <td>NaN</td>\n",
       "      <td>None</td>\n",
       "      <td>None</td>\n",
       "      <td>...</td>\n",
       "      <td>None</td>\n",
       "      <td>None</td>\n",
       "      <td>None</td>\n",
       "      <td>None</td>\n",
       "      <td>None</td>\n",
       "      <td>None</td>\n",
       "      <td>None</td>\n",
       "      <td>None</td>\n",
       "      <td>None</td>\n",
       "      <td>None</td>\n",
       "    </tr>\n",
       "    <tr>\n",
       "      <th>2</th>\n",
       "      <td>63</td>\n",
       "      <td>POLYGON ((-82.46070 42.90598, -82.46270 42.895...</td>\n",
       "      <td>LAKE</td>\n",
       "      <td>NaN</td>\n",
       "      <td>NaN</td>\n",
       "      <td>NaN</td>\n",
       "      <td>NaN</td>\n",
       "      <td>NaN</td>\n",
       "      <td>None</td>\n",
       "      <td>None</td>\n",
       "      <td>...</td>\n",
       "      <td>None</td>\n",
       "      <td>None</td>\n",
       "      <td>None</td>\n",
       "      <td>None</td>\n",
       "      <td>None</td>\n",
       "      <td>None</td>\n",
       "      <td>None</td>\n",
       "      <td>None</td>\n",
       "      <td>None</td>\n",
       "      <td>None</td>\n",
       "    </tr>\n",
       "    <tr>\n",
       "      <th>3</th>\n",
       "      <td>0</td>\n",
       "      <td>MULTIPOLYGON (((-122.40075 48.22540, -122.4615...</td>\n",
       "      <td>US</td>\n",
       "      <td>0.0</td>\n",
       "      <td>20.750</td>\n",
       "      <td>34.956</td>\n",
       "      <td>1.0</td>\n",
       "      <td>1.0</td>\n",
       "      <td>Washington</td>\n",
       "      <td>53</td>\n",
       "      <td>...</td>\n",
       "      <td>None</td>\n",
       "      <td>None</td>\n",
       "      <td>None</td>\n",
       "      <td>None</td>\n",
       "      <td>None</td>\n",
       "      <td>None</td>\n",
       "      <td>None</td>\n",
       "      <td>None</td>\n",
       "      <td>None</td>\n",
       "      <td>None</td>\n",
       "    </tr>\n",
       "    <tr>\n",
       "      <th>4</th>\n",
       "      <td>1</td>\n",
       "      <td>POLYGON ((-111.47463 44.70224, -111.48001 44.6...</td>\n",
       "      <td>US</td>\n",
       "      <td>1.0</td>\n",
       "      <td>45.132</td>\n",
       "      <td>34.527</td>\n",
       "      <td>2.0</td>\n",
       "      <td>2.0</td>\n",
       "      <td>Montana</td>\n",
       "      <td>30</td>\n",
       "      <td>...</td>\n",
       "      <td>None</td>\n",
       "      <td>None</td>\n",
       "      <td>None</td>\n",
       "      <td>None</td>\n",
       "      <td>None</td>\n",
       "      <td>None</td>\n",
       "      <td>None</td>\n",
       "      <td>None</td>\n",
       "      <td>None</td>\n",
       "      <td>None</td>\n",
       "    </tr>\n",
       "  </tbody>\n",
       "</table>\n",
       "<p>5 rows × 22 columns</p>\n",
       "</div>"
      ],
      "text/plain": [
       "   level_0                                           geometry COUNTRY  index  \\\n",
       "0       59  POLYGON ((-89.56835 47.99815, -89.53059 48.001...    LAKE    NaN   \n",
       "1       64  POLYGON ((-82.92947 42.36300, -82.87499 42.458...    LAKE    NaN   \n",
       "2       63  POLYGON ((-82.46070 42.90598, -82.46270 42.895...    LAKE    NaN   \n",
       "3        0  MULTIPOLYGON (((-122.40075 48.22540, -122.4615...      US    0.0   \n",
       "4        1  POLYGON ((-111.47463 44.70224, -111.48001 44.6...      US    1.0   \n",
       "\n",
       "     AREA  PERIMETER  STATE_  STATE_ID  STATE_NAME STATE_FIPS  ... GID_0  \\\n",
       "0     NaN        NaN     NaN       NaN        None       None  ...  None   \n",
       "1     NaN        NaN     NaN       NaN        None       None  ...  None   \n",
       "2     NaN        NaN     NaN       NaN        None       None  ...  None   \n",
       "3  20.750     34.956     1.0       1.0  Washington         53  ...  None   \n",
       "4  45.132     34.527     2.0       2.0     Montana         30  ...  None   \n",
       "\n",
       "  NAME_0 GID_1 NAME_1 VARNAME_1 NL_NAME_1 TYPE_1 ENGTYPE_1  CC_1 HASC_1  \n",
       "0   None  None   None      None      None   None      None  None   None  \n",
       "1   None  None   None      None      None   None      None  None   None  \n",
       "2   None  None   None      None      None   None      None  None   None  \n",
       "3   None  None   None      None      None   None      None  None   None  \n",
       "4   None  None   None      None      None   None      None  None   None  \n",
       "\n",
       "[5 rows x 22 columns]"
      ]
     },
     "execution_count": 7,
     "metadata": {},
     "output_type": "execute_result"
    }
   ],
   "source": [
    "uscan = gpd.read_parquet(\"../../geoplanar/datasets/uscan/gaps_removed.parquet\")\n",
    "uscan.head()"
   ]
  },
  {
   "cell_type": "code",
   "execution_count": 8,
   "id": "9722ae4b-1b10-4341-9084-392a2f5b7fa8",
   "metadata": {},
   "outputs": [
    {
     "data": {
      "text/plain": [
       "Index(['level_0', 'geometry', 'COUNTRY', 'index', 'AREA', 'PERIMETER',\n",
       "       'STATE_', 'STATE_ID', 'STATE_NAME', 'STATE_FIPS', 'SUB_REGION',\n",
       "       'STATE_ABBR', 'GID_0', 'NAME_0', 'GID_1', 'NAME_1', 'VARNAME_1',\n",
       "       'NL_NAME_1', 'TYPE_1', 'ENGTYPE_1', 'CC_1', 'HASC_1'],\n",
       "      dtype='object')"
      ]
     },
     "execution_count": 8,
     "metadata": {},
     "output_type": "execute_result"
    }
   ],
   "source": [
    "uscan.columns"
   ]
  },
  {
   "cell_type": "code",
   "execution_count": 9,
   "id": "cfbd8c15-172a-4489-8736-a3a630d2eced",
   "metadata": {},
   "outputs": [
    {
     "data": {
      "text/plain": [
       "<AxesSubplot:>"
      ]
     },
     "execution_count": 9,
     "metadata": {},
     "output_type": "execute_result"
    },
    {
     "data": {
      "image/png": "[encoded data removed]",
      "text/plain": [
       "<Figure size 432x288 with 1 Axes>"
      ]
     },
     "metadata": {
      "needs_background": "light"
     },
     "output_type": "display_data"
    }
   ],
   "source": [
    "uscan.plot(column=\"COUNTRY\")"
   ]
  },
  {
   "cell_type": "code",
   "execution_count": 10,
   "id": "e3acfba7-8de1-4b46-ab70-2efb02812cb1",
   "metadata": {
    "tags": []
   },
   "outputs": [
    {
     "data": {
      "text/plain": [
       "(64, 22)"
      ]
     },
     "execution_count": 10,
     "metadata": {},
     "output_type": "execute_result"
    }
   ],
   "source": [
    "uscan.shape"
   ]
  },
  {
   "cell_type": "code",
   "execution_count": 11,
   "id": "b27e6c45-098c-4c66-b7e6-839a30daee5a",
   "metadata": {},
   "outputs": [],
   "source": [
    "a =geoplanar.gaps(uscan)"
   ]
  },
  {
   "cell_type": "code",
   "execution_count": 12,
   "id": "cb4abc64-ba79-4e56-9937-bb68a28f134d",
   "metadata": {},
   "outputs": [
    {
     "data": {
      "text/plain": [
       "(0, 1)"
      ]
     },
     "execution_count": 12,
     "metadata": {},
     "output_type": "execute_result"
    }
   ],
   "source": [
    "a.shape"
   ]
  },
  {
   "cell_type": "code",
   "execution_count": 13,
   "id": "38f245e3-b6fe-4e89-a824-7ac6296d570d",
   "metadata": {},
   "outputs": [
    {
     "data": {
      "text/plain": [
       "False"
      ]
     },
     "execution_count": 13,
     "metadata": {},
     "output_type": "execute_result"
    }
   ],
   "source": [
    "geoplanar.is_planar_enforced(uscan)"
   ]
  },
  {
   "cell_type": "markdown",
   "id": "f5229fd2-fb11-4fff-bfa7-d7864647b8b2",
   "metadata": {},
   "source": [
    "This dataset used here is not planar enforced."
   ]
  },
  {
   "cell_type": "markdown",
   "id": "90ef850b-9aaf-4e29-963d-ec851c864d00",
   "metadata": {},
   "source": [
    "### 2.  Border Discrepancies"
   ]
  },
  {
   "cell_type": "markdown",
   "id": "ebc43644-6e72-4449-831b-a3bd29d99495",
   "metadata": {},
   "source": [
    "Since US and Canada shapefiles were collected from different data sources there can be a possibility of planar enforcement violations. For now, we are going to zoom in on a subset of the border region to investigate things further:"
   ]
  },
  {
   "cell_type": "code",
   "execution_count": 14,
   "id": "c1d8e006-216a-4792-a99b-71c79fbf711d",
   "metadata": {},
   "outputs": [],
   "source": [
    "from shapely.geometry import box\n",
    "\n",
    "clipper = gpd.GeoDataFrame(geometry =[box(-110, 38, -65, 54)])"
   ]
  },
  {
   "cell_type": "code",
   "execution_count": 15,
   "id": "fee2a64b-816e-4f0d-9d84-743bc70fe3bd",
   "metadata": {},
   "outputs": [],
   "source": [
    "grouped = uscan.groupby(uscan.COUNTRY)"
   ]
  },
  {
   "cell_type": "code",
   "execution_count": 16,
   "id": "5a43506c-bef9-416b-84fa-a30f8ce5ce8e",
   "metadata": {},
   "outputs": [],
   "source": [
    "can = grouped.get_group(\"CANADA\")\n",
    "us = grouped.get_group(\"US\")\n",
    "lakes = grouped.get_group(\"LAKE\")"
   ]
  },
  {
   "cell_type": "code",
   "execution_count": 17,
   "id": "b09628e9-5fe0-46cd-9a4c-4ede3b829dca",
   "metadata": {},
   "outputs": [],
   "source": [
    "usborder = gpd.clip(us, clipper)\n",
    "canborder = gpd.clip(can, clipper)"
   ]
  },
  {
   "cell_type": "code",
   "execution_count": 18,
   "id": "878494b4-2fd1-4446-9bc2-338bc3fdfe9d",
   "metadata": {},
   "outputs": [],
   "source": [
    "border = usborder.append(canborder)"
   ]
  },
  {
   "cell_type": "code",
   "execution_count": 19,
   "id": "4639a4bf-155c-48d8-b53a-1e4c21476b0b",
   "metadata": {},
   "outputs": [
    {
     "data": {
      "text/plain": [
       "<AxesSubplot:>"
      ]
     },
     "execution_count": 19,
     "metadata": {},
     "output_type": "execute_result"
    },
    {
     "data": {
      "image/png": "[encoded data removed]",
      "text/plain": [
       "<Figure size 432x288 with 1 Axes>"
      ]
     },
     "metadata": {
      "needs_background": "light"
     },
     "output_type": "display_data"
    }
   ],
   "source": [
    "border.plot()"
   ]
  },
  {
   "cell_type": "code",
   "execution_count": 20,
   "id": "03196de3-e9b4-4060-9b7f-067144effb62",
   "metadata": {},
   "outputs": [
    {
     "data": {
      "image/png": "[encoded data removed]",
      "text/plain": [
       "<Figure size 432x288 with 1 Axes>"
      ]
     },
     "metadata": {
      "needs_background": "light"
     },
     "output_type": "display_data"
    }
   ],
   "source": [
    "base = usborder.plot(alpha=0.7, facecolor='none', edgecolor='blue')\n",
    "_ = canborder.plot(alpha=0.7, facecolor='none', edgecolor='red', ax=base)\n",
    "_ = base.set_xlim(-93, -92)\n",
    "_ = base.set_ylim(48, 49)\n"
   ]
  },
  {
   "cell_type": "markdown",
   "id": "9b81c7dc-c3bf-46ee-a820-d288350e353e",
   "metadata": {},
   "source": [
    "The red line is Canada's border and the blue line represent US border, if you look closely the two lines are not perfectly aligned. There are some overlaps that can potentially lead to planar enforcement violations."
   ]
  },
  {
   "cell_type": "markdown",
   "id": "41b4f1d7-85bb-4069-a06f-72acf94b2619",
   "metadata": {},
   "source": [
    "To test if we have any planar enforcement violations we can apply the `geoplanar` package on the two countries data. Here we will test it on the bordering regions."
   ]
  },
  {
   "cell_type": "markdown",
   "id": "04f3a838-489e-454e-b917-7ff745e3657a",
   "metadata": {},
   "source": [
    "### 3. Testing for Overlaps"
   ]
  },
  {
   "cell_type": "code",
   "execution_count": 21,
   "id": "41dd1831-aec9-4c48-89fd-96006808883e",
   "metadata": {},
   "outputs": [
    {
     "data": {
      "text/plain": [
       "True"
      ]
     },
     "execution_count": 21,
     "metadata": {},
     "output_type": "execute_result"
    }
   ],
   "source": [
    "geoplanar.is_overlapping(uscan)"
   ]
  },
  {
   "cell_type": "markdown",
   "id": "47f361aa-6025-4a02-bd35-4a056ee4bd16",
   "metadata": {},
   "source": [
    "We can use geoplanar to identify if the data has issues of overlaps and overshoots."
   ]
  },
  {
   "cell_type": "markdown",
   "id": "dca996f4-a46a-45e7-b60c-62c88d798999",
   "metadata": {},
   "source": [
    "### 4. Fixing Overlaps/Overshoots"
   ]
  },
  {
   "cell_type": "code",
   "execution_count": 22,
   "id": "d4b92b6a-fb38-4080-85f3-407cd1c3f94c",
   "metadata": {},
   "outputs": [
    {
     "data": {
      "text/plain": [
       "0      15.543974\n",
       "1       0.058636\n",
       "2       0.000533\n",
       "3      20.749831\n",
       "4      45.131677\n",
       "         ...    \n",
       "59    137.462838\n",
       "60      0.670316\n",
       "61    206.218829\n",
       "62     90.424490\n",
       "63     87.600875\n",
       "Length: 64, dtype: float64"
      ]
     },
     "execution_count": 22,
     "metadata": {},
     "output_type": "execute_result"
    }
   ],
   "source": [
    "uscan.area # area before applying geoplanar"
   ]
  },
  {
   "cell_type": "code",
   "execution_count": 23,
   "id": "4ae134c3-172c-4f75-ba04-3359a5c63667",
   "metadata": {},
   "outputs": [
    {
     "data": {
      "text/plain": [
       "2527.2310769884657"
      ]
     },
     "execution_count": 23,
     "metadata": {},
     "output_type": "execute_result"
    }
   ],
   "source": [
    "uscan.area.sum() # sum of area for all the polygons before geoplanat"
   ]
  },
  {
   "cell_type": "code",
   "execution_count": 24,
   "id": "871a1c4f-ffe8-4d6b-a593-2a38a08d4418",
   "metadata": {},
   "outputs": [],
   "source": [
    "overlaps_removed = geoplanar.trim_overlaps(uscan, largest=False) #changing the default\n"
   ]
  },
  {
   "cell_type": "code",
   "execution_count": 25,
   "id": "8ed27f9a-8e13-49a9-b71b-f777df468517",
   "metadata": {},
   "outputs": [],
   "source": [
    "overlaps_removed_default = geoplanar.trim_overlaps(uscan) # default \n"
   ]
  },
  {
   "cell_type": "markdown",
   "id": "9193eb05-32fc-4172-adce-12d45f42ee67",
   "metadata": {},
   "source": [
    "#### Changes in area after application of geoplanar"
   ]
  },
  {
   "cell_type": "code",
   "execution_count": 26,
   "id": "27cc1e42-5f94-40a7-a553-89728b1da29c",
   "metadata": {},
   "outputs": [
    {
     "data": {
      "text/plain": [
       "2527.203542029223"
      ]
     },
     "execution_count": 26,
     "metadata": {},
     "output_type": "execute_result"
    }
   ],
   "source": [
    "overlaps_removed.area.sum()  # checking area for default after geoplanar"
   ]
  },
  {
   "cell_type": "code",
   "execution_count": 27,
   "id": "742abfee-482a-4feb-b496-267efda6e448",
   "metadata": {
    "tags": []
   },
   "outputs": [
    {
     "data": {
      "text/plain": [
       "2527.2035420292177"
      ]
     },
     "execution_count": 27,
     "metadata": {},
     "output_type": "execute_result"
    }
   ],
   "source": [
    "overlaps_removed_default.area.sum()  # checking area after geoplanar"
   ]
  },
  {
   "cell_type": "markdown",
   "id": "d2c3398b-b7b3-4dd9-bc63-fe9d64f8af32",
   "metadata": {},
   "source": [
    "Here we see minor changes in the total areas of the two countries combined dataset.\n",
    "Furthermore, we can test to check if the overlaps are removed in the new data:"
   ]
  },
  {
   "cell_type": "code",
   "execution_count": 28,
   "id": "60a9862c-9773-4900-a555-61c0a93d4369",
   "metadata": {},
   "outputs": [
    {
     "data": {
      "text/plain": [
       "False"
      ]
     },
     "execution_count": 28,
     "metadata": {},
     "output_type": "execute_result"
    }
   ],
   "source": [
    "geoplanar.is_overlapping(overlaps_removed)"
   ]
  },
  {
   "cell_type": "code",
   "execution_count": 29,
   "id": "3fa36ad5-81f0-4168-bb8e-380531b1396e",
   "metadata": {},
   "outputs": [
    {
     "data": {
      "text/plain": [
       "False"
      ]
     },
     "execution_count": 29,
     "metadata": {},
     "output_type": "execute_result"
    }
   ],
   "source": [
    "geoplanar.is_overlapping(overlaps_removed_default)"
   ]
  },
  {
   "cell_type": "markdown",
   "id": "9a25eb3b-47a4-4eef-9d49-1a58a3260b84",
   "metadata": {
    "tags": []
   },
   "source": [
    "### 5. Identifying Undershoots/Gaps"
   ]
  },
  {
   "cell_type": "markdown",
   "id": "1a7af494-b027-47b9-9d5a-d8a049f4bf24",
   "metadata": {},
   "source": [
    "Trimming the overlaps removes the areas where points belong to both national polygons. Since we separately solved the issue of gaps, ideally one of these setting should give us the gaps =0. That data can be saved for further analysis."
   ]
  },
  {
   "cell_type": "code",
   "execution_count": 30,
   "id": "6a504650-3360-465e-b5a9-b1c15fa42245",
   "metadata": {},
   "outputs": [
    {
     "data": {
      "image/png": "[encoded data removed]",
      "text/plain": [
       "<Figure size 432x288 with 1 Axes>"
      ]
     },
     "metadata": {
      "needs_background": "light"
     },
     "output_type": "display_data"
    }
   ],
   "source": [
    "base = overlaps_removed.plot(column='COUNTRY')\n",
    "_ = base.set_xlim(-93, -80)\n",
    "_ = base.set_ylim(40, 50)"
   ]
  },
  {
   "cell_type": "code",
   "execution_count": 31,
   "id": "6e855a08-cd1d-4bfd-ac5d-bdad2a8e1af3",
   "metadata": {},
   "outputs": [],
   "source": [
    "gaps=geoplanar.gaps(overlaps_removed)"
   ]
  },
  {
   "cell_type": "code",
   "execution_count": 32,
   "id": "fc79d600-7b1f-4866-b5c8-d8647735f296",
   "metadata": {},
   "outputs": [
    {
     "data": {
      "text/plain": [
       "(38, 1)"
      ]
     },
     "execution_count": 32,
     "metadata": {},
     "output_type": "execute_result"
    }
   ],
   "source": [
    "gaps.shape"
   ]
  },
  {
   "cell_type": "code",
   "execution_count": 33,
   "id": "d5197554-95f9-4bde-9923-7774378a30f5",
   "metadata": {
    "tags": []
   },
   "outputs": [
    {
     "data": {
      "text/plain": [
       "array([-119.00018311,   42.32083511,  -67.41911316,   49.38045502])"
      ]
     },
     "execution_count": 33,
     "metadata": {},
     "output_type": "execute_result"
    }
   ],
   "source": [
    "gaps.total_bounds"
   ]
  },
  {
   "cell_type": "code",
   "execution_count": 34,
   "id": "bb8c096b-3ed8-4a5d-b732-b00455f9f4dd",
   "metadata": {},
   "outputs": [],
   "source": [
    "g=gaps.buffer(0.5)"
   ]
  },
  {
   "cell_type": "code",
   "execution_count": 35,
   "id": "778a4375-31b8-4a66-8730-4dcc40b44f6f",
   "metadata": {},
   "outputs": [
    {
     "data": {
      "image/png": "[encoded data removed]",
      "text/plain": [
       "<Figure size 432x288 with 1 Axes>"
      ]
     },
     "metadata": {
      "needs_background": "light"
     },
     "output_type": "display_data"
    }
   ],
   "source": [
    "base = overlaps_removed.plot(column='COUNTRY', edgecolor='k')\n",
    "g.plot(ax=base, color='red')\n",
    "_ = base.set_xlim(-118, -71.85)\n",
    "_ = base.set_ylim(40, 50)"
   ]
  },
  {
   "cell_type": "code",
   "execution_count": 36,
   "id": "6c23a294-a5f9-4409-81e2-ff9e4c326451",
   "metadata": {},
   "outputs": [],
   "source": [
    "gaps_2=geoplanar.gaps(overlaps_removed_default)"
   ]
  },
  {
   "cell_type": "code",
   "execution_count": 37,
   "id": "c8bdf8bd-6ee7-4304-860f-ed5a13d85116",
   "metadata": {},
   "outputs": [
    {
     "data": {
      "text/plain": [
       "(38, 1)"
      ]
     },
     "execution_count": 37,
     "metadata": {},
     "output_type": "execute_result"
    }
   ],
   "source": [
    "gaps_2.shape"
   ]
  },
  {
   "cell_type": "code",
   "execution_count": 38,
   "id": "8b06378c-b2a0-412b-96bd-19d0740cd56f",
   "metadata": {},
   "outputs": [],
   "source": [
    "g2=gaps_2.buffer(0.5)"
   ]
  },
  {
   "cell_type": "code",
   "execution_count": 39,
   "id": "9e7805f3-17ea-485d-88b6-5d29fab85dcb",
   "metadata": {
    "tags": []
   },
   "outputs": [
    {
     "data": {
      "text/plain": [
       "array([-117.03097534,   42.79268646,  -67.30102539,   49.        ])"
      ]
     },
     "execution_count": 39,
     "metadata": {},
     "output_type": "execute_result"
    }
   ],
   "source": [
    "gaps_2.total_bounds"
   ]
  },
  {
   "cell_type": "code",
   "execution_count": 40,
   "id": "9c915fb0-3fde-438e-a86e-b5eebc30f17a",
   "metadata": {},
   "outputs": [
    {
     "data": {
      "image/png": "[encoded data removed]",
      "text/plain": [
       "<Figure size 432x288 with 1 Axes>"
      ]
     },
     "metadata": {
      "needs_background": "light"
     },
     "output_type": "display_data"
    }
   ],
   "source": [
    "base = overlaps_removed_default.plot(column='COUNTRY', edgecolor='k')\n",
    "g2.plot(ax=base, color='red')\n",
    "_ = base.set_xlim(-117, -67.85)\n",
    "_ = base.set_ylim(40, 50)"
   ]
  },
  {
   "cell_type": "markdown",
   "id": "b5b6eea9-59a8-446d-99bc-e6cd353f594b",
   "metadata": {},
   "source": [
    "The default setting gives us data that has zero gaps."
   ]
  },
  {
   "cell_type": "code",
   "execution_count": 41,
   "id": "5121746a-f2f3-497d-88ca-7957f3e76094",
   "metadata": {
    "tags": []
   },
   "outputs": [
    {
     "data": {
      "text/plain": [
       "False"
      ]
     },
     "execution_count": 41,
     "metadata": {},
     "output_type": "execute_result"
    }
   ],
   "source": [
    "geoplanar.is_planar_enforced(overlaps_removed_default)"
   ]
  },
  {
   "cell_type": "markdown",
   "id": "f9a60843-0175-418f-be40-877c37d6ce91",
   "metadata": {},
   "source": [
    "In the example above we still encounter additional gaps due to fixing the overlays."
   ]
  },
  {
   "cell_type": "markdown",
   "id": "89b74fe2-7e1c-430f-82de-f4eed69f7c1d",
   "metadata": {},
   "source": [
    "### 6. New Data to get Zero Gaps"
   ]
  },
  {
   "cell_type": "code",
   "execution_count": 42,
   "id": "99e89e9d-8acd-4186-82be-f37110d099e2",
   "metadata": {},
   "outputs": [
    {
     "data": {
      "text/html": [
       "<div>\n",
       "<style scoped>\n",
       "    .dataframe tbody tr th:only-of-type {\n",
       "        vertical-align: middle;\n",
       "    }\n",
       "\n",
       "    .dataframe tbody tr th {\n",
       "        vertical-align: top;\n",
       "    }\n",
       "\n",
       "    .dataframe thead th {\n",
       "        text-align: right;\n",
       "    }\n",
       "</style>\n",
       "<table border=\"1\" class=\"dataframe\">\n",
       "  <thead>\n",
       "    <tr style=\"text-align: right;\">\n",
       "      <th></th>\n",
       "      <th>level_0</th>\n",
       "      <th>geometry</th>\n",
       "      <th>COUNTRY</th>\n",
       "      <th>index</th>\n",
       "      <th>AREA</th>\n",
       "      <th>PERIMETER</th>\n",
       "      <th>STATE_</th>\n",
       "      <th>STATE_ID</th>\n",
       "      <th>STATE_NAME</th>\n",
       "      <th>STATE_FIPS</th>\n",
       "      <th>...</th>\n",
       "      <th>GID_0</th>\n",
       "      <th>NAME_0</th>\n",
       "      <th>GID_1</th>\n",
       "      <th>NAME_1</th>\n",
       "      <th>VARNAME_1</th>\n",
       "      <th>NL_NAME_1</th>\n",
       "      <th>TYPE_1</th>\n",
       "      <th>ENGTYPE_1</th>\n",
       "      <th>CC_1</th>\n",
       "      <th>HASC_1</th>\n",
       "    </tr>\n",
       "  </thead>\n",
       "  <tbody>\n",
       "    <tr>\n",
       "      <th>0</th>\n",
       "      <td>59</td>\n",
       "      <td>POLYGON ((-89.56835 47.99815, -89.53059 48.001...</td>\n",
       "      <td>LAKE</td>\n",
       "      <td>NaN</td>\n",
       "      <td>NaN</td>\n",
       "      <td>NaN</td>\n",
       "      <td>NaN</td>\n",
       "      <td>NaN</td>\n",
       "      <td>None</td>\n",
       "      <td>None</td>\n",
       "      <td>...</td>\n",
       "      <td>None</td>\n",
       "      <td>None</td>\n",
       "      <td>None</td>\n",
       "      <td>None</td>\n",
       "      <td>None</td>\n",
       "      <td>None</td>\n",
       "      <td>None</td>\n",
       "      <td>None</td>\n",
       "      <td>None</td>\n",
       "      <td>None</td>\n",
       "    </tr>\n",
       "    <tr>\n",
       "      <th>1</th>\n",
       "      <td>64</td>\n",
       "      <td>POLYGON ((-82.92947 42.36300, -82.87499 42.458...</td>\n",
       "      <td>LAKE</td>\n",
       "      <td>NaN</td>\n",
       "      <td>NaN</td>\n",
       "      <td>NaN</td>\n",
       "      <td>NaN</td>\n",
       "      <td>NaN</td>\n",
       "      <td>None</td>\n",
       "      <td>None</td>\n",
       "      <td>...</td>\n",
       "      <td>None</td>\n",
       "      <td>None</td>\n",
       "      <td>None</td>\n",
       "      <td>None</td>\n",
       "      <td>None</td>\n",
       "      <td>None</td>\n",
       "      <td>None</td>\n",
       "      <td>None</td>\n",
       "      <td>None</td>\n",
       "      <td>None</td>\n",
       "    </tr>\n",
       "    <tr>\n",
       "      <th>2</th>\n",
       "      <td>63</td>\n",
       "      <td>POLYGON ((-82.46070 42.90598, -82.46270 42.895...</td>\n",
       "      <td>LAKE</td>\n",
       "      <td>NaN</td>\n",
       "      <td>NaN</td>\n",
       "      <td>NaN</td>\n",
       "      <td>NaN</td>\n",
       "      <td>NaN</td>\n",
       "      <td>None</td>\n",
       "      <td>None</td>\n",
       "      <td>...</td>\n",
       "      <td>None</td>\n",
       "      <td>None</td>\n",
       "      <td>None</td>\n",
       "      <td>None</td>\n",
       "      <td>None</td>\n",
       "      <td>None</td>\n",
       "      <td>None</td>\n",
       "      <td>None</td>\n",
       "      <td>None</td>\n",
       "      <td>None</td>\n",
       "    </tr>\n",
       "    <tr>\n",
       "      <th>3</th>\n",
       "      <td>0</td>\n",
       "      <td>MULTIPOLYGON (((-122.45316 48.12867, -122.3600...</td>\n",
       "      <td>US</td>\n",
       "      <td>0.0</td>\n",
       "      <td>20.750</td>\n",
       "      <td>34.956</td>\n",
       "      <td>1.0</td>\n",
       "      <td>1.0</td>\n",
       "      <td>Washington</td>\n",
       "      <td>53</td>\n",
       "      <td>...</td>\n",
       "      <td>None</td>\n",
       "      <td>None</td>\n",
       "      <td>None</td>\n",
       "      <td>None</td>\n",
       "      <td>None</td>\n",
       "      <td>None</td>\n",
       "      <td>None</td>\n",
       "      <td>None</td>\n",
       "      <td>None</td>\n",
       "      <td>None</td>\n",
       "    </tr>\n",
       "    <tr>\n",
       "      <th>4</th>\n",
       "      <td>1</td>\n",
       "      <td>POLYGON ((-111.45990 44.67010, -111.45747 44.6...</td>\n",
       "      <td>US</td>\n",
       "      <td>1.0</td>\n",
       "      <td>45.132</td>\n",
       "      <td>34.527</td>\n",
       "      <td>2.0</td>\n",
       "      <td>2.0</td>\n",
       "      <td>Montana</td>\n",
       "      <td>30</td>\n",
       "      <td>...</td>\n",
       "      <td>None</td>\n",
       "      <td>None</td>\n",
       "      <td>None</td>\n",
       "      <td>None</td>\n",
       "      <td>None</td>\n",
       "      <td>None</td>\n",
       "      <td>None</td>\n",
       "      <td>None</td>\n",
       "      <td>None</td>\n",
       "      <td>None</td>\n",
       "    </tr>\n",
       "  </tbody>\n",
       "</table>\n",
       "<p>5 rows × 22 columns</p>\n",
       "</div>"
      ],
      "text/plain": [
       "   level_0                                           geometry COUNTRY  index  \\\n",
       "0       59  POLYGON ((-89.56835 47.99815, -89.53059 48.001...    LAKE    NaN   \n",
       "1       64  POLYGON ((-82.92947 42.36300, -82.87499 42.458...    LAKE    NaN   \n",
       "2       63  POLYGON ((-82.46070 42.90598, -82.46270 42.895...    LAKE    NaN   \n",
       "3        0  MULTIPOLYGON (((-122.45316 48.12867, -122.3600...      US    0.0   \n",
       "4        1  POLYGON ((-111.45990 44.67010, -111.45747 44.6...      US    1.0   \n",
       "\n",
       "     AREA  PERIMETER  STATE_  STATE_ID  STATE_NAME STATE_FIPS  ... GID_0  \\\n",
       "0     NaN        NaN     NaN       NaN        None       None  ...  None   \n",
       "1     NaN        NaN     NaN       NaN        None       None  ...  None   \n",
       "2     NaN        NaN     NaN       NaN        None       None  ...  None   \n",
       "3  20.750     34.956     1.0       1.0  Washington         53  ...  None   \n",
       "4  45.132     34.527     2.0       2.0     Montana         30  ...  None   \n",
       "\n",
       "  NAME_0 GID_1 NAME_1 VARNAME_1 NL_NAME_1 TYPE_1 ENGTYPE_1  CC_1 HASC_1  \n",
       "0   None  None   None      None      None   None      None  None   None  \n",
       "1   None  None   None      None      None   None      None  None   None  \n",
       "2   None  None   None      None      None   None      None  None   None  \n",
       "3   None  None   None      None      None   None      None  None   None  \n",
       "4   None  None   None      None      None   None      None  None   None  \n",
       "\n",
       "[5 rows x 22 columns]"
      ]
     },
     "execution_count": 42,
     "metadata": {},
     "output_type": "execute_result"
    }
   ],
   "source": [
    "uscan_2 = gpd.read_parquet(\"../../geoplanar/datasets/uscan/gaps_removed_nondefault.parquet\")\n",
    "uscan_2.head()"
   ]
  },
  {
   "cell_type": "code",
   "execution_count": 43,
   "id": "d39c716c-0fac-464f-ba3f-bf85486a69c2",
   "metadata": {},
   "outputs": [],
   "source": [
    "OR_default = geoplanar.trim_overlaps(uscan_2) "
   ]
  },
  {
   "cell_type": "code",
   "execution_count": 44,
   "id": "a0031248-6ae8-443c-bcca-b14365a8d9db",
   "metadata": {},
   "outputs": [],
   "source": [
    "gaps_3=geoplanar.gaps(OR_default)"
   ]
  },
  {
   "cell_type": "code",
   "execution_count": 45,
   "id": "d0f21ac1-f384-4489-960d-4d5ddec41695",
   "metadata": {},
   "outputs": [
    {
     "data": {
      "text/plain": [
       "(0, 1)"
      ]
     },
     "execution_count": 45,
     "metadata": {},
     "output_type": "execute_result"
    }
   ],
   "source": [
    "gaps_3.shape"
   ]
  },
  {
   "cell_type": "code",
   "execution_count": 46,
   "id": "2b700bde-f9ed-4b0f-8826-4be0beb16fd4",
   "metadata": {},
   "outputs": [
    {
     "data": {
      "text/plain": [
       "True"
      ]
     },
     "execution_count": 46,
     "metadata": {},
     "output_type": "execute_result"
    }
   ],
   "source": [
    "geoplanar.is_planar_enforced(OR_default)"
   ]
  },
  {
   "cell_type": "markdown",
   "id": "625d275f-672e-44fc-9e8c-0449963c72c9",
   "metadata": {},
   "source": [
    "### Saving Data after fixing problems"
   ]
  },
  {
   "cell_type": "code",
   "execution_count": 47,
   "id": "24eebc25-dc45-4fa7-aadd-f55ce1eec780",
   "metadata": {},
   "outputs": [],
   "source": [
    "OR_default.to_parquet(\"../../geoplanar/datasets/uscan/planar_enforced.parquet\")"
   ]
  },
  {
   "cell_type": "code",
   "execution_count": null,
   "id": "c8e748df-c47f-4e37-84f3-0fd06b709131",
   "metadata": {},
   "outputs": [],
   "source": []
  }
 ],
 "metadata": {
  "kernelspec": {
   "display_name": "Python 3 (ipykernel)",
   "language": "python",
   "name": "python3"
  },
  "language_info": {
   "codemirror_mode": {
    "name": "ipython",
    "version": 3
   },
   "file_extension": ".py",
   "mimetype": "text/x-python",
   "name": "python",
   "nbconvert_exporter": "python",
   "pygments_lexer": "ipython3",
   "version": "3.7.12"
  }
 },
 "nbformat": 4,
 "nbformat_minor": 5
}
