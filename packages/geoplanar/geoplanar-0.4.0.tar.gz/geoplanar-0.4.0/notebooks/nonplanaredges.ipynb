{
 "cells": [
  {
   "cell_type": "code",
   "execution_count": 1,
   "id": "ancient-wheat",
   "metadata": {},
   "outputs": [],
   "source": [
    "import geopandas\n",
    "import numpy\n",
    "import matplotlib.pyplot as plt\n",
    "import geoplanar\n",
    "import libpysal\n",
    "from shapely.geometry import Polygon\n"
   ]
  },
  {
   "cell_type": "markdown",
   "id": "parallel-proposition",
   "metadata": {},
   "source": [
    "## Planar Enforcement Violation: non-planar enforced edges"
   ]
  },
  {
   "cell_type": "code",
   "execution_count": 2,
   "id": "sunset-roads",
   "metadata": {},
   "outputs": [
    {
     "data": {
      "image/png": "[encoded data removed]",
      "text/plain": [
       "<Figure size 432x288 with 1 Axes>"
      ]
     },
     "metadata": {
      "needs_background": "light"
     },
     "output_type": "display_data"
    }
   ],
   "source": [
    "c1 = [[0,0], [0, 10], [10, 10], [10, 0], [0, 0]]\n",
    "p1 = Polygon(c1)\n",
    "c2 = [[10, 2], [10, 8], [20, 8], [20, 2], [10, 2]]\n",
    "p2 = Polygon(c2)\n",
    "gdf = geopandas.GeoDataFrame(geometry=[p1, p2])\n",
    "base = gdf.plot(edgecolor='k', facecolor=\"none\",alpha=0.5)\n",
    "c1 = numpy.array(c1)\n",
    "c2 = numpy.array(c2)\n",
    "_ = base.scatter(c1[:,0], c1[:,1])\n",
    "_ =base.scatter(c2[:,0], c2[:,1])\n",
    "\n"
   ]
  },
  {
   "cell_type": "markdown",
   "id": "foster-letters",
   "metadata": {},
   "source": [
    "The two polygons are visually contiguous, but are not planar enforced as the right edge of the left polygon  and the left edge of right polygon  share no vertices. This will result in the two polygons not being Queen neighbors, since a necessary (and sufficient) condition for the latter is at least one shared vertex."
   ]
  },
  {
   "cell_type": "code",
   "execution_count": 3,
   "id": "vietnamese-office",
   "metadata": {},
   "outputs": [
    {
     "name": "stderr",
     "output_type": "stream",
     "text": [
      "/Users/serge/miniconda3/envs/edu_concordance/lib/python3.9/site-packages/libpysal/weights/weights.py:172: UserWarning: The weights matrix is not fully connected: \n",
      " There are 2 disconnected components.\n",
      " There are 2 islands with ids: 0, 1.\n",
      "  warnings.warn(message)\n"
     ]
    }
   ],
   "source": [
    "w = libpysal.weights.Queen.from_dataframe(gdf)"
   ]
  },
  {
   "cell_type": "markdown",
   "id": "smart-hygiene",
   "metadata": {},
   "source": [
    "## Detecting nonplanar edges"
   ]
  },
  {
   "cell_type": "markdown",
   "id": "selective-syracuse",
   "metadata": {},
   "source": [
    "`geoplanar` can detect and report nonplanar edges:"
   ]
  },
  {
   "cell_type": "code",
   "execution_count": 4,
   "id": "usual-storm",
   "metadata": {},
   "outputs": [
    {
     "data": {
      "text/plain": [
       "defaultdict(set, {0: {1}})"
      ]
     },
     "execution_count": 4,
     "metadata": {},
     "output_type": "execute_result"
    }
   ],
   "source": [
    "geoplanar.non_planar_edges(gdf)"
   ]
  },
  {
   "cell_type": "markdown",
   "id": "significant-penguin",
   "metadata": {},
   "source": [
    "## Fixing nonplanar edges"
   ]
  },
  {
   "cell_type": "code",
   "execution_count": 5,
   "id": "d4b0b1ce-09ae-49dc-b083-fb909f9e1e02",
   "metadata": {},
   "outputs": [
    {
     "data": {
      "text/plain": [
       "False"
      ]
     },
     "execution_count": 5,
     "metadata": {},
     "output_type": "execute_result"
    }
   ],
   "source": [
    "geoplanar.is_planar_enforced(gdf)"
   ]
  },
  {
   "cell_type": "code",
   "execution_count": 6,
   "id": "dimensional-gambling",
   "metadata": {},
   "outputs": [
    {
     "name": "stderr",
     "output_type": "stream",
     "text": [
      "/Users/serge/miniconda3/envs/edu_concordance/lib/python3.9/site-packages/libpysal/weights/weights.py:172: UserWarning: The weights matrix is not fully connected: \n",
      " There are 2 disconnected components.\n",
      " There are 2 islands with ids: 0, 1.\n",
      "  warnings.warn(message)\n"
     ]
    }
   ],
   "source": [
    "gdf1 = geoplanar.fix_npe_edges(gdf)"
   ]
  },
  {
   "cell_type": "code",
   "execution_count": 7,
   "id": "flying-computer",
   "metadata": {},
   "outputs": [
    {
     "data": {
      "text/plain": [
       "defaultdict(set, {})"
      ]
     },
     "execution_count": 7,
     "metadata": {},
     "output_type": "execute_result"
    }
   ],
   "source": [
    "geoplanar.non_planar_edges(gdf1)"
   ]
  },
  {
   "cell_type": "code",
   "execution_count": 8,
   "id": "powered-special",
   "metadata": {},
   "outputs": [
    {
     "data": {
      "text/plain": [
       "{0: [1], 1: [0]}"
      ]
     },
     "execution_count": 8,
     "metadata": {},
     "output_type": "execute_result"
    }
   ],
   "source": [
    "w1 = libpysal.weights.Queen.from_dataframe(gdf1)\n",
    "w1.neighbors"
   ]
  },
  {
   "cell_type": "code",
   "execution_count": 9,
   "id": "9a61abbe-d29a-4411-8c6b-5766a0a5e8cd",
   "metadata": {},
   "outputs": [
    {
     "data": {
      "text/plain": [
       "True"
      ]
     },
     "execution_count": 9,
     "metadata": {},
     "output_type": "execute_result"
    }
   ],
   "source": [
    "geoplanar.is_planar_enforced(gdf1)"
   ]
  },
  {
   "cell_type": "markdown",
   "id": "graduate-kitty",
   "metadata": {},
   "source": [
    "## Planar Enforcement Violation: Overlapping and non-planar enforced edges"
   ]
  },
  {
   "cell_type": "code",
   "execution_count": 10,
   "id": "crude-dating",
   "metadata": {},
   "outputs": [],
   "source": [
    "from shapely.geometry import Polygon"
   ]
  },
  {
   "cell_type": "code",
   "execution_count": 11,
   "id": "distinct-button",
   "metadata": {},
   "outputs": [],
   "source": [
    "\n",
    "t1 = Polygon([[0,0],[10,10], [20,0]])"
   ]
  },
  {
   "cell_type": "code",
   "execution_count": 12,
   "id": "static-treasury",
   "metadata": {},
   "outputs": [
    {
     "data": {
      "image/svg+xml": [
       "<svg xmlns=\"http://www.w3.org/2000/svg\" xmlns:xlink=\"http://www.w3.org/1999/xlink\" width=\"100.0\" height=\"100.0\" viewBox=\"-0.8 -0.8 21.6 11.600000000000001\" preserveAspectRatio=\"xMinYMin meet\"><g transform=\"matrix(1,0,0,-1,0,10.0)\"><path fill-rule=\"evenodd\" fill=\"#66cc99\" stroke=\"#555555\" stroke-width=\"0.43200000000000005\" opacity=\"0.6\" d=\"M 0.0,0.0 L 10.0,10.0 L 20.0,0.0 L 0.0,0.0 z\" /></g></svg>"
      ],
      "text/plain": [
       "<shapely.geometry.polygon.Polygon at 0x19017acd0>"
      ]
     },
     "execution_count": 12,
     "metadata": {},
     "output_type": "execute_result"
    }
   ],
   "source": [
    "t1"
   ]
  },
  {
   "cell_type": "code",
   "execution_count": 13,
   "id": "dutch-offense",
   "metadata": {},
   "outputs": [
    {
     "data": {
      "image/svg+xml": [
       "<svg xmlns=\"http://www.w3.org/2000/svg\" xmlns:xlink=\"http://www.w3.org/1999/xlink\" width=\"100.0\" height=\"100.0\" viewBox=\"-0.8 -10.8 21.6 16.6\" preserveAspectRatio=\"xMinYMin meet\"><g transform=\"matrix(1,0,0,-1,0,-5.000000000000001)\"><path fill-rule=\"evenodd\" fill=\"#66cc99\" stroke=\"#555555\" stroke-width=\"0.43200000000000005\" opacity=\"0.6\" d=\"M 5.0,5.0 L 20.0,5.0 L 20.0,-10.0 L 0.0,-10.0 L 5.0,5.0 z\" /></g></svg>"
      ],
      "text/plain": [
       "<shapely.geometry.polygon.Polygon at 0x1901a66a0>"
      ]
     },
     "execution_count": 13,
     "metadata": {},
     "output_type": "execute_result"
    }
   ],
   "source": [
    "b1 = Polygon([[5,5], [20,5], [20,-10], [0,-10]])\n",
    "b1"
   ]
  },
  {
   "cell_type": "code",
   "execution_count": 14,
   "id": "nearby-barbados",
   "metadata": {},
   "outputs": [],
   "source": [
    "gdf = geopandas.GeoDataFrame(geometry=[t1,b1])"
   ]
  },
  {
   "cell_type": "code",
   "execution_count": 15,
   "id": "micro-software",
   "metadata": {},
   "outputs": [
    {
     "data": {
      "text/plain": [
       "<AxesSubplot:>"
      ]
     },
     "execution_count": 15,
     "metadata": {},
     "output_type": "execute_result"
    },
    {
     "data": {
      "image/png": "[encoded data removed]",
      "text/plain": [
       "<Figure size 432x288 with 1 Axes>"
      ]
     },
     "metadata": {
      "needs_background": "light"
     },
     "output_type": "display_data"
    }
   ],
   "source": [
    "gdf.plot(edgecolor='k',facecolor=\"none\",alpha=0.5) # non planar enforcement\n"
   ]
  },
  {
   "cell_type": "markdown",
   "id": "proof-pendant",
   "metadata": {},
   "source": [
    "The two features overlap and would appear to share vertices, but they in fact do not share vertices. Again, because this violates planar enforcement, this results in two polygons not being Queen neighbors:"
   ]
  },
  {
   "cell_type": "code",
   "execution_count": 16,
   "id": "medical-domestic",
   "metadata": {},
   "outputs": [
    {
     "name": "stderr",
     "output_type": "stream",
     "text": [
      "/Users/serge/miniconda3/envs/edu_concordance/lib/python3.9/site-packages/libpysal/weights/weights.py:172: UserWarning: The weights matrix is not fully connected: \n",
      " There are 2 disconnected components.\n",
      " There are 2 islands with ids: 0, 1.\n",
      "  warnings.warn(message)\n"
     ]
    }
   ],
   "source": [
    "import libpysal\n",
    "\n",
    "w = libpysal.weights.Queen.from_dataframe(gdf)"
   ]
  },
  {
   "cell_type": "markdown",
   "id": "entertaining-cement",
   "metadata": {},
   "source": [
    "## Detecting nonplanar edges"
   ]
  },
  {
   "cell_type": "markdown",
   "id": "sized-dylan",
   "metadata": {},
   "source": [
    "`geoplanar` will use a failed contiguity check as part of a check for nonplanar enforced edges in the polygons of a geoseries:"
   ]
  },
  {
   "cell_type": "code",
   "execution_count": 17,
   "id": "hawaiian-species",
   "metadata": {},
   "outputs": [
    {
     "data": {
      "text/plain": [
       "defaultdict(set, {0: {1}})"
      ]
     },
     "execution_count": 17,
     "metadata": {},
     "output_type": "execute_result"
    }
   ],
   "source": [
    "geoplanar.non_planar_edges(gdf)"
   ]
  },
  {
   "cell_type": "markdown",
   "id": "caring-bacon",
   "metadata": {},
   "source": [
    "## Correcting nonplanar edges"
   ]
  },
  {
   "cell_type": "code",
   "execution_count": 18,
   "id": "forward-paris",
   "metadata": {},
   "outputs": [
    {
     "name": "stderr",
     "output_type": "stream",
     "text": [
      "/Users/serge/miniconda3/envs/edu_concordance/lib/python3.9/site-packages/libpysal/weights/weights.py:172: UserWarning: The weights matrix is not fully connected: \n",
      " There are 2 disconnected components.\n",
      " There are 2 islands with ids: 0, 1.\n",
      "  warnings.warn(message)\n"
     ]
    },
    {
     "data": {
      "text/plain": [
       "defaultdict(set, {})"
      ]
     },
     "execution_count": 18,
     "metadata": {},
     "output_type": "execute_result"
    }
   ],
   "source": [
    "gdf_fixed = geoplanar.fix_npe_edges(gdf)\n",
    "geoplanar.non_planar_edges(gdf_fixed)"
   ]
  },
  {
   "cell_type": "markdown",
   "id": "level-vietnamese",
   "metadata": {},
   "source": [
    "## Default is to work on a copy"
   ]
  },
  {
   "cell_type": "code",
   "execution_count": 19,
   "id": "sustained-queens",
   "metadata": {},
   "outputs": [
    {
     "name": "stderr",
     "output_type": "stream",
     "text": [
      "/Users/serge/miniconda3/envs/edu_concordance/lib/python3.9/site-packages/libpysal/weights/weights.py:172: UserWarning: The weights matrix is not fully connected: \n",
      " There are 2 disconnected components.\n",
      " There are 2 islands with ids: 0, 1.\n",
      "  warnings.warn(message)\n"
     ]
    },
    {
     "data": {
      "text/plain": [
       "defaultdict(set, {0: {1}})"
      ]
     },
     "execution_count": 19,
     "metadata": {},
     "output_type": "execute_result"
    }
   ],
   "source": [
    "geoplanar.non_planar_edges(gdf)"
   ]
  },
  {
   "cell_type": "code",
   "execution_count": 20,
   "id": "contemporary-distribution",
   "metadata": {},
   "outputs": [
    {
     "data": {
      "text/html": [
       "<div>\n",
       "<style scoped>\n",
       "    .dataframe tbody tr th:only-of-type {\n",
       "        vertical-align: middle;\n",
       "    }\n",
       "\n",
       "    .dataframe tbody tr th {\n",
       "        vertical-align: top;\n",
       "    }\n",
       "\n",
       "    .dataframe thead th {\n",
       "        text-align: right;\n",
       "    }\n",
       "</style>\n",
       "<table border=\"1\" class=\"dataframe\">\n",
       "  <thead>\n",
       "    <tr style=\"text-align: right;\">\n",
       "      <th></th>\n",
       "      <th>geometry</th>\n",
       "    </tr>\n",
       "  </thead>\n",
       "  <tbody>\n",
       "    <tr>\n",
       "      <th>0</th>\n",
       "      <td>POLYGON ((0.00000 0.00000, 5.00000 5.00000, 10...</td>\n",
       "    </tr>\n",
       "    <tr>\n",
       "      <th>1</th>\n",
       "      <td>POLYGON ((5.00000 5.00000, 15.00000 5.00000, 2...</td>\n",
       "    </tr>\n",
       "  </tbody>\n",
       "</table>\n",
       "</div>"
      ],
      "text/plain": [
       "                                            geometry\n",
       "0  POLYGON ((0.00000 0.00000, 5.00000 5.00000, 10...\n",
       "1  POLYGON ((5.00000 5.00000, 15.00000 5.00000, 2..."
      ]
     },
     "execution_count": 20,
     "metadata": {},
     "output_type": "execute_result"
    }
   ],
   "source": [
    "geoplanar.fix_npe_edges(gdf, inplace=True)\n"
   ]
  },
  {
   "cell_type": "code",
   "execution_count": 21,
   "id": "disturbed-extension",
   "metadata": {},
   "outputs": [
    {
     "data": {
      "text/plain": [
       "defaultdict(set, {})"
      ]
     },
     "execution_count": 21,
     "metadata": {},
     "output_type": "execute_result"
    }
   ],
   "source": [
    "geoplanar.non_planar_edges(gdf)"
   ]
  },
  {
   "cell_type": "code",
   "execution_count": 22,
   "id": "juvenile-linux",
   "metadata": {},
   "outputs": [
    {
     "data": {
      "text/plain": [
       "{0: [1], 1: [0]}"
      ]
     },
     "execution_count": 22,
     "metadata": {},
     "output_type": "execute_result"
    }
   ],
   "source": [
    "w = libpysal.weights.Queen.from_dataframe(gdf)\n",
    "w.neighbors"
   ]
  },
  {
   "cell_type": "markdown",
   "id": "5fe0d760-d0a4-4891-bc44-043deaf3ace6",
   "metadata": {},
   "source": [
    "## Handle nonplanar edges in multi polygon case"
   ]
  },
  {
   "cell_type": "code",
   "execution_count": 23,
   "id": "8f580995-257f-4a40-bfb7-e27806a8b28b",
   "metadata": {},
   "outputs": [],
   "source": [
    "from shapely.geometry import MultiPolygon"
   ]
  },
  {
   "cell_type": "code",
   "execution_count": 24,
   "id": "c61f2d0b-bd19-460d-8fc6-b14915c07432",
   "metadata": {},
   "outputs": [
    {
     "data": {
      "image/png": "[encoded data removed]",
      "text/plain": [
       "<Figure size 432x288 with 1 Axes>"
      ]
     },
     "metadata": {
      "needs_background": "light"
     },
     "output_type": "display_data"
    }
   ],
   "source": [
    "c1 = [[0,0], [0, 10], [10, 10], [10, 0], [0, 0]]\n",
    "p1 = Polygon(c1)\n",
    "c2 = [[10, 2], [10, 8], [20, 8], [20, 2], [10, 2]]\n",
    "p2 = Polygon(c2)\n",
    "p3 = Polygon([ [21, 2], [21, 4], [23,3] ])\n",
    "p2 = MultiPolygon([Polygon(c2), p3])\n",
    "gdf = geopandas.GeoDataFrame(geometry=[p1, p2])\n",
    "base = gdf.plot(edgecolor='k', facecolor=\"none\",alpha=0.5)\n",
    "c1 = numpy.array(c1)\n",
    "c2 = numpy.array(c2)\n",
    "_ = base.scatter(c1[:,0], c1[:,1])\n",
    "_ =base.scatter(c2[:,0], c2[:,1])\n",
    "\n"
   ]
  },
  {
   "cell_type": "code",
   "execution_count": 25,
   "id": "dd80bd88-1122-4c50-ba29-5a974e5bc040",
   "metadata": {},
   "outputs": [
    {
     "name": "stderr",
     "output_type": "stream",
     "text": [
      "/Users/serge/miniconda3/envs/edu_concordance/lib/python3.9/site-packages/libpysal/weights/_contW_lists.py:31: ShapelyDeprecationWarning: Iteration over multi-part geometries is deprecated and will be removed in Shapely 2.0. Use the `geoms` property to access the constituent parts of a multi-part geometry.\n",
      "  return list(it.chain(*(_get_boundary_points(part.boundary) for part in shape)))\n",
      "/Users/serge/miniconda3/envs/edu_concordance/lib/python3.9/site-packages/libpysal/weights/weights.py:172: UserWarning: The weights matrix is not fully connected: \n",
      " There are 2 disconnected components.\n",
      " There are 2 islands with ids: 0, 1.\n",
      "  warnings.warn(message)\n"
     ]
    }
   ],
   "source": [
    "w = libpysal.weights.Queen.from_dataframe(gdf)"
   ]
  },
  {
   "cell_type": "code",
   "execution_count": 26,
   "id": "c758c611-8825-46bb-a8ba-8c0b260102ec",
   "metadata": {},
   "outputs": [
    {
     "data": {
      "text/plain": [
       "defaultdict(set, {0: {1}})"
      ]
     },
     "execution_count": 26,
     "metadata": {},
     "output_type": "execute_result"
    }
   ],
   "source": [
    "geoplanar.non_planar_edges(gdf)"
   ]
  },
  {
   "cell_type": "code",
   "execution_count": 27,
   "id": "4cf796c6-70a0-43d0-a773-488e194c814a",
   "metadata": {},
   "outputs": [
    {
     "data": {
      "text/plain": [
       "False"
      ]
     },
     "execution_count": 27,
     "metadata": {},
     "output_type": "execute_result"
    }
   ],
   "source": [
    "geoplanar.is_planar_enforced(gdf)"
   ]
  },
  {
   "cell_type": "code",
   "execution_count": 28,
   "id": "1cf50c6d-195d-47da-b95c-2132f052090a",
   "metadata": {},
   "outputs": [
    {
     "name": "stderr",
     "output_type": "stream",
     "text": [
      "/Users/serge/miniconda3/envs/edu_concordance/lib/python3.9/site-packages/libpysal/weights/_contW_lists.py:31: ShapelyDeprecationWarning: Iteration over multi-part geometries is deprecated and will be removed in Shapely 2.0. Use the `geoms` property to access the constituent parts of a multi-part geometry.\n",
      "  return list(it.chain(*(_get_boundary_points(part.boundary) for part in shape)))\n",
      "/Users/serge/miniconda3/envs/edu_concordance/lib/python3.9/site-packages/libpysal/weights/weights.py:172: UserWarning: The weights matrix is not fully connected: \n",
      " There are 2 disconnected components.\n",
      " There are 2 islands with ids: 0, 1.\n",
      "  warnings.warn(message)\n"
     ]
    }
   ],
   "source": [
    "gdf1 = geoplanar.fix_npe_edges(gdf)"
   ]
  },
  {
   "cell_type": "code",
   "execution_count": 29,
   "id": "8f8c4a4c-0713-4aa3-a487-5db5a950dfb9",
   "metadata": {},
   "outputs": [
    {
     "name": "stderr",
     "output_type": "stream",
     "text": [
      "/Users/serge/miniconda3/envs/edu_concordance/lib/python3.9/site-packages/libpysal/weights/_contW_lists.py:31: ShapelyDeprecationWarning: Iteration over multi-part geometries is deprecated and will be removed in Shapely 2.0. Use the `geoms` property to access the constituent parts of a multi-part geometry.\n",
      "  return list(it.chain(*(_get_boundary_points(part.boundary) for part in shape)))\n"
     ]
    },
    {
     "data": {
      "text/plain": [
       "True"
      ]
     },
     "execution_count": 29,
     "metadata": {},
     "output_type": "execute_result"
    }
   ],
   "source": [
    "geoplanar.is_planar_enforced(gdf1)"
   ]
  }
 ],
 "metadata": {
  "jupytext": {
   "formats": "ipynb,md"
  },
  "kernelspec": {
   "display_name": "Python 3 (ipykernel)",
   "language": "python",
   "name": "python3"
  },
  "language_info": {
   "codemirror_mode": {
    "name": "ipython",
    "version": 3
   },
   "file_extension": ".py",
   "mimetype": "text/x-python",
   "name": "python",
   "nbconvert_exporter": "python",
   "pygments_lexer": "ipython3",
   "version": "3.12.3"
  }
 },
 "nbformat": 4,
 "nbformat_minor": 5
}
