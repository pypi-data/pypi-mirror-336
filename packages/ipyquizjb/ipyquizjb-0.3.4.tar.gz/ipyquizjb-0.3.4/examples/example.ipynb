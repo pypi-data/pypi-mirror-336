{
 "cells": [
  {
   "cell_type": "code",
   "execution_count": 1,
   "metadata": {},
   "outputs": [],
   "source": [
    "from ipyquizjb.faceit import display_simple_search\n",
    "\n",
    "#display_simple_search(\"math\", 2)"
   ]
  },
  {
   "cell_type": "code",
   "execution_count": 2,
   "metadata": {},
   "outputs": [
    {
     "data": {
      "application/vnd.jupyter.widget-view+json": {
       "model_id": "7b943aae58a24946a861b5605956ea3c",
       "version_major": 2,
       "version_minor": 0
      },
      "text/plain": [
       "VBox(children=(HTMLMath(value='<h2 style=\\'font-size: 1.25em;\\'>Si consideri il segnale a tempo continuo $x(t)…"
      ]
     },
     "metadata": {},
     "output_type": "display_data"
    },
    {
     "data": {
      "application/vnd.jupyter.widget-view+json": {
       "model_id": "9889a6ddb0ad490d98ed7cab05f4fd5f",
       "version_major": 2,
       "version_minor": 0
      },
      "text/plain": [
       "VBox(children=(HTMLMath(value='<h2 style=\\'font-size: 1.25em;\\'>Si consideri lo schema a blocchi mostrato nell…"
      ]
     },
     "metadata": {},
     "output_type": "display_data"
    }
   ],
   "source": [
    "display_simple_search(\"consideri\", 2)"
   ]
  },
  {
   "cell_type": "code",
   "execution_count": 3,
   "metadata": {},
   "outputs": [
    {
     "data": {
      "application/vnd.jupyter.widget-view+json": {
       "model_id": "44752c81db06407094cf19bc476bd9a5",
       "version_major": 2,
       "version_minor": 0
      },
      "text/plain": [
       "Output()"
      ]
     },
     "metadata": {},
     "output_type": "display_data"
    }
   ],
   "source": [
    "from ipyquizjb import display_json\n",
    "\n",
    "test_json = r\"\"\"{\n",
    "  \"questions\": [\n",
    "    {\n",
    "      \"type\": \"MULTIPLE_CHOICE\",\n",
    "      \"body\": \"What is the derivative of \\\\( \\\\sin(x) \\\\)?\",\n",
    "      \"answers\": [\n",
    "        \"\\\\( -\\\\cos(x) \\\\).\",\n",
    "        \"\\\\( \\\\tan(x) \\\\).\",\n",
    "        \"\\\\( \\\\cos(x) \\\\).\"\n",
    "      ],\n",
    "      \"answer\": [\"\\\\( \\\\cos(x) \\\\).\"],\n",
    "      \"notes\": [\"The derivative of \\\\( \\\\sin(x) \\\\) is \\\\( \\\\cos(x) \\\\).\"]\n",
    "    },\n",
    "    {\n",
    "      \"type\": \"NUMERIC\",\n",
    "      \"body\": \"What's the derivative of z (z'), with respect to x, of z = 4y+x?\",\n",
    "      \"answer\": \"1\",\n",
    "      \"notes\": []\n",
    "    },\n",
    "    {\n",
    "      \"type\": \"TEXT\",\n",
    "      \"body\": \"Is this a text answer?\",\n",
    "      \"notes\": [\"Yes\"]\n",
    "    }\n",
    "  ],\n",
    "  \"status\": \"success\"\n",
    "}\"\"\"\n",
    "\n",
    "display_json(test_json, as_group=True)"
   ]
  },
  {
   "cell_type": "code",
   "execution_count": 4,
   "metadata": {},
   "outputs": [
    {
     "data": {
      "application/vnd.jupyter.widget-view+json": {
       "model_id": "85fca6ccf9c14c31a525ce78a78c218b",
       "version_major": 2,
       "version_minor": 0
      },
      "text/plain": [
       "VBox(children=(HTMLMath(value=\"<h2 style='font-size: 1.25em;'>Is this a text answer?</h2>\"), Button(descriptio…"
      ]
     },
     "metadata": {},
     "output_type": "display_data"
    },
    {
     "data": {
      "application/vnd.jupyter.widget-view+json": {
       "model_id": "f7bb5153fe894c93a7aacfaf0c528431",
       "version_major": 2,
       "version_minor": 0
      },
      "text/plain": [
       "VBox(children=(HTMLMath(value=\"<h2 style='font-size: 1.25em;'>Is this a numeric question?</h2>\"), Button(descr…"
      ]
     },
     "metadata": {},
     "output_type": "display_data"
    }
   ],
   "source": [
    "from ipyquizjb import display_json\n",
    "\n",
    "test_json = r\"\"\"{\n",
    "  \"questions\": [\n",
    "    {\n",
    "      \"type\": \"TEXT\",\n",
    "      \"body\": \"Is this a text answer?\",\n",
    "      \"notes\": [\"Yes\"]\n",
    "    },\n",
    "    {\n",
    "      \"type\": \"TEXT\",\n",
    "      \"body\": \"Is this a numeric question?\",\n",
    "      \"notes\": [\"No\"]\n",
    "    }\n",
    "  ],\n",
    "  \"status\": \"success\"\n",
    "}\"\"\"\n",
    "\n",
    "display_json(test_json, as_group=True)"
   ]
  }
 ],
 "metadata": {
  "kernelspec": {
   "display_name": ".venv",
   "language": "python",
   "name": "python3"
  },
  "language_info": {
   "codemirror_mode": {
    "name": "ipython",
    "version": 3
   },
   "file_extension": ".py",
   "mimetype": "text/x-python",
   "name": "python",
   "nbconvert_exporter": "python",
   "pygments_lexer": "ipython3",
   "version": "3.12.1"
  }
 },
 "nbformat": 4,
 "nbformat_minor": 2
}
