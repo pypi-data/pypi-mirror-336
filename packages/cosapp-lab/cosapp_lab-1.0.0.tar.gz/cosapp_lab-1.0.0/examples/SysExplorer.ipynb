{
 "cells": [
  {
   "cell_type": "markdown",
   "metadata": {},
   "source": [
    "\n",
    "<h1 align=\"center\">SysExplorer example</h1> "
   ]
  },
  {
   "cell_type": "code",
   "execution_count": 1,
   "metadata": {},
   "outputs": [],
   "source": [
    "from cosapp.ports import Port\n",
    "\n",
    "class GeometryPort(Port):\n",
    "    def setup(self):\n",
    "        self.add_variable(\"visible\", True, desc=\"Should this geometry be shown?\")\n",
    "        self.add_variable(\"shape\", None, desc=\"Geometrical object\")"
   ]
  },
  {
   "cell_type": "code",
   "execution_count": 2,
   "metadata": {},
   "outputs": [],
   "source": [
    "from cosapp.systems import System\n",
    "from OCC.Core.BRepPrimAPI import BRepPrimAPI_MakeBox\n",
    "import numpy as np\n",
    "class BeamGeo(System):\n",
    "    \n",
    "    def setup(self):\n",
    "        self.add_inward(\"file\",\"path\")\n",
    "        self.add_inward(\"mesh_size\",100)\n",
    "        self.add_inward('width', 0.5, unit = 'm')\n",
    "        self.add_inward('height',0.5, unit = 'm')\n",
    "        self.add_inward('length', 5., unit = 'm')\n",
    "        self.add_outward('I', desc='Second area moment')\n",
    "        self.add_outward('grid', np.zeros(1))\n",
    "        self.add_output(GeometryPort, 'geom')\n",
    "    def compute(self):\n",
    "        self.I = self.width*self.height**3/12.\n",
    "        self.grid = np.array([i*self.length/self.mesh_size for i in range(0,int(self.mesh_size)+1)])\n",
    "        self.geom.shape ={\n",
    "            \"shape\": BRepPrimAPI_MakeBox(self.length, self.width, self.height).Solid(),\n",
    "            \"edge\": True,\n",
    "            \"transparent\": True,\n",
    "            \"color\": \"blue\"\n",
    "        } "
   ]
  },
  {
   "cell_type": "code",
   "execution_count": 3,
   "metadata": {},
   "outputs": [],
   "source": [
    "class BeamMeca(System):\n",
    "    \n",
    "    def setup(self):\n",
    "        self.add_inward('E', 270, desc = \"Young modulus\",  valid_range = [100,150],limits = [50,200])\n",
    "        self.add_inward(\"grid\", np.zeros(101), valid_range = [2,4],limits = [-np.inf,10] )\n",
    "        self.add_inward(\"I\", 1., desc='Second area moment' )\n",
    "        self.add_inward(\"force\", -1., desc='Force value', unit = 'N' )\n",
    "        self.add_inward(\"position\", 0.5, desc=\"force relative position\",limits= [0.1,0.9], valid_range = [0.01,0.99] )\n",
    "        self.add_outward(\"M\", np.zeros(1), desc = \"Bending moments\" )\n",
    "        self.add_outward(\"Q\", np.zeros(1), desc = \"Shear forces\" )\n",
    "        self.add_outward(\"W\", np.zeros(1), desc = \"Deflections\" )\n",
    "        self.add_outward(\"maxW\", 0, desc = \"Max deflections\" )\n",
    "        self.add_outward(\"maxW_loc\", 0, desc = \"Max deflections location\" )\n",
    "    \n",
    "    def compute(self):\n",
    "\n",
    "        if self.position > 1.:\n",
    "            position = 0.99\n",
    "        elif self.position < 0:\n",
    "            position = 0.\n",
    "        else:\n",
    "            position = self.position\n",
    "        mesh_size = len(self.grid)\n",
    "        L = self.grid[-1]\n",
    "        b = (1.- position)*L\n",
    "        a = position*L\n",
    "        M =[]\n",
    "        Q = []\n",
    "        W = []\n",
    "        for i in range(0, int(mesh_size*position)):\n",
    "            x = self.grid[i]\n",
    "            M.append(self.force*b*x/L)\n",
    "            Q.append(self.force*b/L)\n",
    "            W.append(self.force*b*x*(L**2 - b**2 - x**2)/(6*L*self.E*self.I))  \n",
    "        for j in range(int(mesh_size*position), mesh_size):\n",
    "            x = self.grid[j]\n",
    "            M.append(self.force*a*(L - x)/L)\n",
    "            Q.append(self.force*(b/L-1))\n",
    "            W.append(self.force*b*x*(L**2 - b**2 - x**2)/(6*L*self.E*self.I)+ self.force*(x-a)**3/(6*self.E*self.I))\n",
    "        self.M = np.array(M)\n",
    "        self.Q = np.array(Q) \n",
    "        self.W = np.array(W)\n",
    "        self.maxW_loc = int(np.argmax(np.absolute(self.W)))-1\n",
    "        self.maxW = self.W[self.maxW_loc]\n"
   ]
  },
  {
   "cell_type": "code",
   "execution_count": 4,
   "metadata": {},
   "outputs": [],
   "source": [
    "class Main(System):\n",
    "    \n",
    "    def setup(self):\n",
    "        self.add_child(BeamGeo(\"geo\"))\n",
    "        self.add_child(BeamMeca(\"meca\"))\n",
    "        self.connect(self.geo.outwards, self.meca.inwards, [\"I\", \"grid\"])"
   ]
  },
  {
   "cell_type": "code",
   "execution_count": 5,
   "metadata": {},
   "outputs": [],
   "source": [
    "from cosapp.drivers import NonLinearSolver, RunSingleCase\n",
    "from cosapp.recorders import DataFrameRecorder\n",
    "\n",
    "main = Main(\"main\")\n",
    "solver = main.add_driver(NonLinearSolver('solver', history = True))\n",
    "solver.add_recorder(DataFrameRecorder(includes=['*']))\n",
    "height_design = solver.add_child(RunSingleCase('height_design'))\n",
    "height_design.design.add_unknown('geo.height').add_equation('meca.maxW == -0.02*geo.length')  \n",
    "main.run_drivers()"
   ]
  },
  {
   "cell_type": "markdown",
   "metadata": {},
   "source": [
    "## Start an empty dashboarh"
   ]
  },
  {
   "cell_type": "code",
   "execution_count": 6,
   "metadata": {},
   "outputs": [],
   "source": [
    "from cosapp_lab.widgets import SysExplorer\n",
    "a = SysExplorer( main, anchor = \"tab-after\")"
   ]
  },
  {
   "cell_type": "markdown",
   "metadata": {},
   "source": [
    "## Start a dashboarh from template"
   ]
  },
  {
   "cell_type": "code",
   "execution_count": 7,
   "metadata": {},
   "outputs": [],
   "source": [
    "a = SysExplorer( main,  template = \"simple_beam.json\", anchor = \"tab-after\")"
   ]
  },
  {
   "cell_type": "code",
   "execution_count": 8,
   "metadata": {},
   "outputs": [
    {
     "data": {
      "text/html": [
       "\n",
       "        <iframe\n",
       "            width=\"810px\"\n",
       "            height=\"650px\"\n",
       "            src=\"main.html\"\n",
       "            frameborder=\"0\"\n",
       "            allowfullscreen\n",
       "            \n",
       "        ></iframe>\n",
       "        "
      ],
      "text/markdown": [
       "\n",
       "### Child components\n",
       "\n",
       "- `geo`: BeamGeo\n",
       "- `meca`: BeamMeca"
      ],
      "text/plain": [
       "main - Main"
      ]
     },
     "execution_count": 8,
     "metadata": {},
     "output_type": "execute_result"
    }
   ],
   "source": [
    "main"
   ]
  },
  {
   "cell_type": "code",
   "execution_count": 9,
   "metadata": {},
   "outputs": [
    {
     "data": {
      "application/vnd.jupyter.widget-view+json": {
       "model_id": "48d8d616effc4228b1d8a6edd410e604",
       "version_major": 2,
       "version_minor": 0
      },
      "text/plain": [
       "SysExplorer(anchor='tab-after', chart_template={'chart_template': {'modelJson': {'global': {'tabSetTabLocation…"
      ]
     },
     "execution_count": 9,
     "metadata": {},
     "output_type": "execute_result"
    }
   ],
   "source": [
    "a"
   ]
  },
  {
   "cell_type": "code",
   "execution_count": null,
   "metadata": {},
   "outputs": [],
   "source": []
  }
 ],
 "metadata": {
  "kernelspec": {
   "display_name": "Python 3 (ipykernel)",
   "language": "python",
   "name": "python3"
  },
  "language_info": {
   "codemirror_mode": {
    "name": "ipython",
    "version": 3
   },
   "file_extension": ".py",
   "mimetype": "text/x-python",
   "name": "python",
   "nbconvert_exporter": "python",
   "pygments_lexer": "ipython3",
   "version": "3.9.19"
  },
  "widgets": {
   "application/vnd.jupyter.widget-state+json": {
    "state": {},
    "version_major": 2,
    "version_minor": 0
   }
  }
 },
 "nbformat": 4,
 "nbformat_minor": 4
}
