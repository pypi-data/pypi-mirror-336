{
 "cells": [
  {
   "cell_type": "code",
   "execution_count": 12,
   "metadata": {},
   "outputs": [],
   "source": [
    "import requests\n",
    "import json\n",
    "import os\n",
    "\n",
    "url = \"https://api.swebench.com/\""
   ]
  },
  {
   "cell_type": "code",
   "execution_count": 8,
   "metadata": {},
   "outputs": [],
   "source": [
    "predictions = [json.loads(line) for line in open(\"../swe-bench-mm/sbl-dev-gold-preds.jsonl\")]"
   ]
  },
  {
   "cell_type": "code",
   "execution_count": 9,
   "metadata": {},
   "outputs": [
    {
     "data": {
      "text/plain": [
       "{'model_name_or_path': 'gold',\n",
       " 'instance_id': 'sqlfluff__sqlfluff-1625',\n",
       " 'model_patch': 'diff --git a/src/sqlfluff/rules/L031.py b/src/sqlfluff/rules/L031.py\\n--- a/src/sqlfluff/rules/L031.py\\n+++ b/src/sqlfluff/rules/L031.py\\n@@ -211,7 +211,7 @@ def _lint_aliases_in_join(\\n             violation_buff.append(\\n                 LintResult(\\n                     anchor=alias_info.alias_identifier_ref,\\n-                    description=\"Avoid using aliases in join condition\",\\n+                    description=\"Avoid aliases in from clauses and join conditions.\",\\n                     fixes=fixes,\\n                 )\\n             )\\n'}"
      ]
     },
     "execution_count": 9,
     "metadata": {},
     "output_type": "execute_result"
    }
   ],
   "source": [
    "predictions[0]"
   ]
  },
  {
   "cell_type": "code",
   "execution_count": 16,
   "metadata": {},
   "outputs": [],
   "source": [
    "subset = \"swe-bench_lite\"\n",
    "split = \"dev\"\n",
    "instance_ids = [p['instance_id'] for p in predictions]"
   ]
  },
  {
   "cell_type": "code",
   "execution_count": 17,
   "metadata": {},
   "outputs": [],
   "source": [
    "headers = {'x-api-key': os.environ['SWEBENCH_API_KEY']}"
   ]
  },
  {
   "cell_type": "code",
   "execution_count": 24,
   "metadata": {},
   "outputs": [],
   "source": [
    "response = requests.post(\n",
    "    f\"{url}/submit\",\n",
    "    json={\n",
    "        \"subset\": subset,\n",
    "        \"split\": split,\n",
    "        \"predictions\": predictions,\n",
    "        \"instance_ids\": instance_ids,\n",
    "        \"run_id\": \"***********\"\n",
    "    },\n",
    "    headers=headers\n",
    ")"
   ]
  },
  {
   "cell_type": "code",
   "execution_count": 25,
   "metadata": {},
   "outputs": [
    {
     "data": {
      "text/plain": [
       "{'message': 'API key error: Invalid API key'}"
      ]
     },
     "execution_count": 25,
     "metadata": {},
     "output_type": "execute_result"
    }
   ],
   "source": [
    "response.json()"
   ]
  },
  {
   "cell_type": "code",
   "execution_count": null,
   "metadata": {},
   "outputs": [],
   "source": []
  }
 ],
 "metadata": {
  "kernelspec": {
   "display_name": "bitbop",
   "language": "python",
   "name": "python3"
  },
  "language_info": {
   "codemirror_mode": {
    "name": "ipython",
    "version": 3
   },
   "file_extension": ".py",
   "mimetype": "text/x-python",
   "name": "python",
   "nbconvert_exporter": "python",
   "pygments_lexer": "ipython3",
   "version": "3.12.2"
  }
 },
 "nbformat": 4,
 "nbformat_minor": 2
}
