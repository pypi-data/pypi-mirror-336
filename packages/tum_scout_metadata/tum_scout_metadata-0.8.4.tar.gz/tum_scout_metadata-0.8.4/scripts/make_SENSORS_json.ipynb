{
 "cells": [
  {
   "cell_type": "code",
   "execution_count": 50,
   "metadata": {},
   "outputs": [],
   "source": [
    "import json"
   ]
  },
  {
   "cell_type": "code",
   "execution_count": 70,
   "metadata": {},
   "outputs": [],
   "source": [
    "sensors = {}\n",
    "\n",
    "for i in range(0,101):\n",
    "    sensor_id = i+13077\n",
    "    dct = {'sensor_type': 'LP8',\n",
    "           'sensor_make': 'Decentlab',\n",
    "           'sensor_model': 'DL-LP8',\n",
    "           'start_up_date': '2022-11-16', \n",
    "           'shut_down_date': '', \n",
    "           'comment': ''}\n",
    "    \n",
    "    sensors.update({sensor_id:dct})"
   ]
  },
  {
   "cell_type": "code",
   "execution_count": 81,
   "metadata": {},
   "outputs": [],
   "source": [
    "json_object = json.dumps(sensors, indent=4)\n",
    "with open(\"SENSORS.json\", \"w\") as outfile:\n",
    "    outfile.write(json_object)"
   ]
  },
  {
   "cell_type": "code",
   "execution_count": 83,
   "metadata": {},
   "outputs": [],
   "source": [
    "with open('SENSORS.json', 'r') as openfile:\n",
    "    # Reading from json file\n",
    "    json_object = json.load(openfile)"
   ]
  },
  {
   "cell_type": "code",
   "execution_count": 86,
   "metadata": {},
   "outputs": [
    {
     "data": {
      "text/plain": [
       "'2022-11-16'"
      ]
     },
     "execution_count": 86,
     "metadata": {},
     "output_type": "execute_result"
    }
   ],
   "source": [
    "json_object['13177']['start_up_date']"
   ]
  }
 ],
 "metadata": {
  "kernelspec": {
   "display_name": "Python 3",
   "language": "python",
   "name": "python3"
  },
  "language_info": {
   "codemirror_mode": {
    "name": "ipython",
    "version": 3
   },
   "file_extension": ".py",
   "mimetype": "text/x-python",
   "name": "python",
   "nbconvert_exporter": "python",
   "pygments_lexer": "ipython3",
   "version": "3.10.4"
  },
  "orig_nbformat": 4
 },
 "nbformat": 4,
 "nbformat_minor": 2
}
