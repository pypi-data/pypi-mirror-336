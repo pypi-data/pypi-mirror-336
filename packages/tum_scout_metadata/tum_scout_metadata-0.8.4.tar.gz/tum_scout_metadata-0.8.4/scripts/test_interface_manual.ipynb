{
 "cells": [
  {
   "cell_type": "code",
   "execution_count": 1,
   "metadata": {},
   "outputs": [],
   "source": [
    "import pendulum\n",
    "\n",
    "from dotenv import dotenv_values\n",
    "from tum_scout_metadata import interfaces"
   ]
  },
  {
   "cell_type": "code",
   "execution_count": 2,
   "metadata": {},
   "outputs": [],
   "source": [
    "# initialize the interface\n",
    "interface = interfaces.load_from_github(\n",
    "    github_repository=dotenv_values(\"../.env\")['GITHUB_URL'],\n",
    "    access_token=dotenv_values(\"../.env\")['GITHUB_KEY'],\n",
    ")"
   ]
  },
  {
   "cell_type": "code",
   "execution_count": 3,
   "metadata": {},
   "outputs": [
    {
     "name": "stdout",
     "output_type": "stream",
     "text": [
      "\n",
      "Metadata for Sensor 13174, located at FREV.\n",
      "---\n",
      "Sensor type: \t\tDecentlab DL-LP8\n",
      "Site coordinates: \t48.1615591 lat\n",
      "\t\t\t11.5860387 lon\n",
      "\t\t\t514.0 m a.s.l.\n",
      "Site type: \t\tindividual\n",
      "Radiation shield: \tFalse\n",
      "Sampling since: \t2023-05-03 16:50:00+02:00\n",
      "Orientation \t\t0.0°\n",
      "Elevation above ground:\t3.0 m\n",
      "Comments: \t\tLamp post ids:55.0\n",
      "\t\t\t\n",
      "---\n"
     ]
    }
   ],
   "source": [
    "# get the metadata for a specific sensor and datetime\n",
    "target_sensor = '13174'\n",
    "target_datetime = pendulum.datetime(2023, 11, 21)\n",
    "\n",
    "# request metadata and print it\n",
    "metadata = interface.get(target_sensor, target_datetime)\n",
    "interfaces.print_beautiful(metadata)"
   ]
  }
 ],
 "metadata": {
  "kernelspec": {
   "display_name": ".venv",
   "language": "python",
   "name": "python3"
  },
  "language_info": {
   "codemirror_mode": {
    "name": "ipython",
    "version": 3
   },
   "file_extension": ".py",
   "mimetype": "text/x-python",
   "name": "python",
   "nbconvert_exporter": "python",
   "pygments_lexer": "ipython3",
   "version": "3.11.11"
  }
 },
 "nbformat": 4,
 "nbformat_minor": 2
}
