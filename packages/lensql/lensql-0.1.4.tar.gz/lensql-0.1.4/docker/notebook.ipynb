{
 "cells": [
  {
   "cell_type": "code",
   "execution_count": null,
   "id": "bc9408f9-c5a3-4b80-ad77-a0075c320d43",
   "metadata": {},
   "outputs": [],
   "source": [
    "import lensql"
   ]
  },
  {
   "cell_type": "code",
   "execution_count": null,
   "id": "b09aedd0-7038-4a44-8055-5ffac3a404fd",
   "metadata": {},
   "outputs": [
    {
     "name": "stdout",
     "output_type": "stream",
     "text": [
      "\u001b[32m\u001b[1m[+]\u001b[0m \u001b[32mDatabase connection successful\u001b[0m\n",
      "\u001b[32m\u001b[1m[+]\u001b[0m \u001b[32mSQL execution enabled\u001b[0m\n",
      "\u001b[36m\u001b[1m[*]\u001b[0m \u001b[36mAll code executed from now on will be interpreted as SQL\u001b[0m\n"
     ]
    }
   ],
   "source": [
    "lensql.setup(host='davserver', port=5432, database='lensql', username='lensql')"
   ]
  },
  {
   "cell_type": "code",
   "execution_count": null,
   "id": "65736699-e6cc-4a2c-90cc-f65ae92217b3",
   "metadata": {},
   "outputs": [
    {
     "data": {
      "text/html": [
       "<div>\n",
       "<style scoped>\n",
       "    .dataframe tbody tr th:only-of-type {\n",
       "        vertical-align: middle;\n",
       "    }\n",
       "\n",
       "    .dataframe tbody tr th {\n",
       "        vertical-align: top;\n",
       "    }\n",
       "\n",
       "    .dataframe thead th {\n",
       "        text-align: right;\n",
       "    }\n",
       "</style>\n",
       "<table border=\"1\" class=\"dataframe\">\n",
       "  <thead>\n",
       "    <tr style=\"text-align: right;\">\n",
       "      <th></th>\n",
       "      <th>id</th>\n",
       "    </tr>\n",
       "  </thead>\n",
       "  <tbody>\n",
       "  </tbody>\n",
       "</table>\n",
       "</div>"
      ],
      "text/plain": [
       "Empty DataFrame\n",
       "Columns: [id]\n",
       "Index: []"
      ]
     },
     "metadata": {},
     "output_type": "display_data"
    },
    {
     "data": {
      "application/vnd.jupyter.widget-view+json": {
       "model_id": "c34108ad9317417e8ae8ba3da611cc2b",
       "version_major": 2,
       "version_minor": 0
      },
      "text/plain": [
       "Output()"
      ]
     },
     "metadata": {},
     "output_type": "display_data"
    }
   ],
   "source": [
    "SELECT id FROM customers WHERE id = 9 and id = 11"
   ]
  }
 ],
 "metadata": {
  "kernelspec": {
   "display_name": "Python 3 (ipykernel)",
   "language": "python",
   "name": "python3"
  },
  "language_info": {
   "codemirror_mode": {
    "name": "ipython",
    "version": 3
   },
   "file_extension": ".py",
   "mimetype": "text/x-python",
   "name": "python",
   "nbconvert_exporter": "python",
   "pygments_lexer": "ipython3",
   "version": "3.11.0rc1"
  }
 },
 "nbformat": 4,
 "nbformat_minor": 5
}
