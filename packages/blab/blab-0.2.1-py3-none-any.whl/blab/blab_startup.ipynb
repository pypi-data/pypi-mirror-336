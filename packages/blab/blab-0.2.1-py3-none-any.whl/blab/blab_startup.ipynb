{
 "cells": [
  {
   "cell_type": "markdown",
   "metadata": {},
   "source": [
    "## Usage\n",
    "Put this code in the first cell of your notebook:\n",
    "```\n",
    "# blab init\n",
    "try:\n",
    "    import blab\n",
    "except ImportError as e:\n",
    "    !pip install blab\n",
    "    import blab    \n",
    "startup_notebook = blab.blab_startup()\n",
    "%run $startup_notebook  \n",
    "```\n",
    "\n",
    "## Features\n",
    "* Finds a local folder named `libs` and integrates it into the Python path. Useful for your own private libraries.\n",
    "* creates `environment` dictionary\n",
    "* loads `autoreload` \n",
    "* loads `ipytest`\n",
    "* configures `%matplotlib inline`\n",
    "* Tool: `run_notebooks`: Starts all notebooks in the directory in alphabetical order\n",
    "* Tool: `search_notebooks`: Searches notebooks for occurrences of a string (wrapper for nbconvert)\n",
    "* Tool: `raise Stop`: Ends the execution of a notebook and displays the elapsed time\n",
    "* Tool: `bgc('orange')`: Sets the backbround color of a notebook cell (does not work in colab)"
   ]
  },
  {
   "cell_type": "code",
   "execution_count": 3,
   "metadata": {
    "execution": {
     "iopub.execute_input": "2025-03-21T17:32:08.112283Z",
     "iopub.status.busy": "2025-03-21T17:32:08.111886Z",
     "iopub.status.idle": "2025-03-21T17:32:08.116035Z",
     "shell.execute_reply": "2025-03-21T17:32:08.115376Z",
     "shell.execute_reply.started": "2025-03-21T17:32:08.112259Z"
    }
   },
   "outputs": [
    {
     "name": "stdout",
     "output_type": "stream",
     "text": [
      "blab init\n"
     ]
    }
   ],
   "source": [
    "print('blab init') "
   ]
  },
  {
   "cell_type": "code",
   "execution_count": 4,
   "metadata": {
    "execution": {
     "iopub.execute_input": "2025-03-21T17:32:08.117819Z",
     "iopub.status.busy": "2025-03-21T17:32:08.117243Z",
     "iopub.status.idle": "2025-03-21T17:32:08.123965Z",
     "shell.execute_reply": "2025-03-21T17:32:08.123017Z",
     "shell.execute_reply.started": "2025-03-21T17:32:08.117784Z"
    }
   },
   "outputs": [],
   "source": [
    "from time import sleep\n",
    "sleep(0.001)"
   ]
  },
  {
   "cell_type": "code",
   "execution_count": 5,
   "metadata": {
    "execution": {
     "iopub.execute_input": "2025-03-21T17:32:08.125203Z",
     "iopub.status.busy": "2025-03-21T17:32:08.124800Z",
     "iopub.status.idle": "2025-03-21T17:32:08.148365Z",
     "shell.execute_reply": "2025-03-21T17:32:08.147466Z",
     "shell.execute_reply.started": "2025-03-21T17:32:08.125166Z"
    }
   },
   "outputs": [],
   "source": [
    "# environment Dictionary\n",
    "environment = dict()"
   ]
  },
  {
   "cell_type": "code",
   "execution_count": 6,
   "metadata": {
    "execution": {
     "iopub.execute_input": "2025-03-21T17:32:08.150754Z",
     "iopub.status.busy": "2025-03-21T17:32:08.150337Z",
     "iopub.status.idle": "2025-03-21T17:32:08.162613Z",
     "shell.execute_reply": "2025-03-21T17:32:08.161801Z",
     "shell.execute_reply.started": "2025-03-21T17:32:08.150712Z"
    }
   },
   "outputs": [
    {
     "name": "stdout",
     "output_type": "stream",
     "text": [
      "environment['in_colab']     = False\n"
     ]
    }
   ],
   "source": [
    "# in_colab\n",
    "try:\n",
    "    import google.colab\n",
    "    environment['in_colab'] = True \n",
    "except:\n",
    "    environment['in_colab'] = False \n",
    "print(\"environment['in_colab']     = \" +  str(environment['in_colab']))         "
   ]
  },
  {
   "cell_type": "code",
   "execution_count": 7,
   "metadata": {
    "execution": {
     "iopub.execute_input": "2025-03-21T17:32:08.164784Z",
     "iopub.status.busy": "2025-03-21T17:32:08.164177Z",
     "iopub.status.idle": "2025-03-21T17:32:08.177167Z",
     "shell.execute_reply": "2025-03-21T17:32:08.176557Z",
     "shell.execute_reply.started": "2025-03-21T17:32:08.164752Z"
    }
   },
   "outputs": [
    {
     "name": "stdout",
     "output_type": "stream",
     "text": [
      "environment['dropbox_path'] = /media/me/LinuxDropbox/Dropbox\n"
     ]
    }
   ],
   "source": [
    "# try to find Dropbox parent folder, if running in a Dropbox directory\n",
    "import pathlib, os, sys\n",
    "p = pathlib.Path().resolve()\n",
    "\n",
    "# iterate parent dirs\n",
    "for n in range(10):\n",
    "    trypath = os.path.join( p, 'Dropbox')  # candidate for Dropbox\n",
    "    #print(trypath)\n",
    "\n",
    "    if os.path.isdir(trypath): # found  \n",
    "        print(\"environment['dropbox_path'] = \" +  trypath)\n",
    "        environment['dropbox_path'] = trypath  \n",
    "        break\n",
    "    else:\n",
    "        p = p.parent\n",
    "        \n",
    "    #print(n)"
   ]
  },
  {
   "cell_type": "code",
   "execution_count": 8,
   "metadata": {
    "execution": {
     "iopub.execute_input": "2025-03-21T17:32:08.178211Z",
     "iopub.status.busy": "2025-03-21T17:32:08.177915Z",
     "iopub.status.idle": "2025-03-21T17:32:08.202259Z",
     "shell.execute_reply": "2025-03-21T17:32:08.201328Z",
     "shell.execute_reply.started": "2025-03-21T17:32:08.178180Z"
    }
   },
   "outputs": [
    {
     "name": "stdout",
     "output_type": "stream",
     "text": [
      "environment['lib_path']     = /media/me/LinuxDropbox/Dropbox/31_Projekte/01_Python/libs\n"
     ]
    }
   ],
   "source": [
    "# try to find local libs directory\n",
    "# and add it to sys.path\n",
    "\n",
    "import pathlib, os, sys\n",
    "p = pathlib.Path().resolve()\n",
    "\n",
    "# iterate parent dirs\n",
    "for n in range(10):\n",
    "    trypath = os.path.join( p, 'libs')  # candidate for libs-Path\n",
    "    #print(trypath)\n",
    "\n",
    "    if os.path.isdir(trypath): # found  \n",
    "        print(\"environment['lib_path']     = \" +  trypath)    \n",
    "        environment['lib_path'] = trypath\n",
    "        if trypath not in sys.path:\n",
    "            sys.path.append(trypath)     \n",
    "        break\n",
    "    else:\n",
    "        p = p.parent\n",
    "        \n",
    "    #print(n)"
   ]
  },
  {
   "cell_type": "code",
   "execution_count": 9,
   "metadata": {
    "execution": {
     "iopub.execute_input": "2025-03-21T17:32:08.203238Z",
     "iopub.status.busy": "2025-03-21T17:32:08.202941Z",
     "iopub.status.idle": "2025-03-21T17:32:08.211062Z",
     "shell.execute_reply": "2025-03-21T17:32:08.209755Z",
     "shell.execute_reply.started": "2025-03-21T17:32:08.203213Z"
    }
   },
   "outputs": [
    {
     "name": "stdout",
     "output_type": "stream",
     "text": [
      "Start Time: 18:32:08\n"
     ]
    }
   ],
   "source": [
    "# https://stackoverflow.com/questions/24005221/ipython-notebook-early-exit-from-cell\n",
    "\n",
    "class Stop(Exception):\n",
    "    \"\"\"\n",
    "    Exception to stop the execution of a Jupyter Notebook cell or a sequence of cells and display timing information.\n",
    "\n",
    "    This exception is designed to be raised within a Jupyter Notebook cell to\n",
    "    halt the execution of the current cell or a sequence of cells. It is\n",
    "    particularly useful for interrupting long-running processes or for\n",
    "    conditional execution where further processing is unnecessary.\n",
    "\n",
    "    When `raise Stop` is called, the execution of the current cell is\n",
    "    immediately terminated, and the control flow returns to the calling\n",
    "    context. If the exception is not caught, the notebook execution will stop.\n",
    "\n",
    "    In addition to stopping the execution, `raise Stop` automatically displays\n",
    "    the current time (`Stop Time`) and the elapsed time (`Elapsed`). This makes \n",
    "    it convenient to measure the execution time of a code block or an entire notebook.\n",
    "    \"\"\"\n",
    "    import datetime\n",
    "    # Zeit beim Start ausgeben\n",
    "    startzeit = datetime.datetime.now()\n",
    "    print('Start Time:', startzeit.strftime('%H:%M:%S') )    \n",
    "    \n",
    "    def _render_traceback_(self):\n",
    "        \n",
    "        # Zeit beim Stop ausgeben\n",
    "        stopzeit = datetime.datetime.now()\n",
    "        difference = stopzeit - Stop.startzeit\n",
    "        \n",
    "        print('Stop Time: ',  stopzeit.strftime('%H:%M:%S') )\n",
    "        print( 'Elapsed:   ', Stop.elapsed()    )   \n",
    "    \n",
    "         \n",
    "        bgc('DarkGray')\n",
    "        pass\n",
    "    \n",
    "    \n",
    "    def elapsed():\n",
    "        difference = datetime.datetime.now() - Stop.startzeit\n",
    "        return bpy.human_readable_seconds(difference.seconds) \n"
   ]
  },
  {
   "cell_type": "code",
   "execution_count": 10,
   "metadata": {
    "execution": {
     "iopub.execute_input": "2025-03-21T17:32:08.213207Z",
     "iopub.status.busy": "2025-03-21T17:32:08.211826Z",
     "iopub.status.idle": "2025-03-21T17:32:08.663889Z",
     "shell.execute_reply": "2025-03-21T17:32:08.663434Z",
     "shell.execute_reply.started": "2025-03-21T17:32:08.213160Z"
    }
   },
   "outputs": [],
   "source": [
    "# blab direkt in den Namespace inportieren\n",
    "# (run_notebooks, search_notebooks)\n",
    "\n",
    "try:\n",
    "    from blab import *\n",
    "except:\n",
    "    pass"
   ]
  },
  {
   "cell_type": "code",
   "execution_count": 11,
   "metadata": {
    "execution": {
     "iopub.execute_input": "2025-03-21T17:32:08.665930Z",
     "iopub.status.busy": "2025-03-21T17:32:08.665617Z",
     "iopub.status.idle": "2025-03-21T17:32:08.723607Z",
     "shell.execute_reply": "2025-03-21T17:32:08.723116Z",
     "shell.execute_reply.started": "2025-03-21T17:32:08.665909Z"
    }
   },
   "outputs": [],
   "source": [
    "# ipytest\n",
    "\n",
    "try:\n",
    "    import ipytest\n",
    "    ipytest.autoconfig()\n",
    "except:\n",
    "    pass\n",
    "sleep(0.001)"
   ]
  },
  {
   "cell_type": "code",
   "execution_count": 12,
   "metadata": {
    "execution": {
     "iopub.execute_input": "2025-03-21T17:32:08.724448Z",
     "iopub.status.busy": "2025-03-21T17:32:08.724201Z",
     "iopub.status.idle": "2025-03-21T17:32:08.728514Z",
     "shell.execute_reply": "2025-03-21T17:32:08.727879Z",
     "shell.execute_reply.started": "2025-03-21T17:32:08.724429Z"
    }
   },
   "outputs": [],
   "source": [
    "# Ausgabe löschen\n",
    "from IPython.display         import clear_output\n",
    "\n",
    "sleep(0.001)"
   ]
  },
  {
   "cell_type": "code",
   "execution_count": 13,
   "metadata": {
    "execution": {
     "iopub.execute_input": "2025-03-21T17:32:08.729622Z",
     "iopub.status.busy": "2025-03-21T17:32:08.729297Z",
     "iopub.status.idle": "2025-03-21T17:32:08.743713Z",
     "shell.execute_reply": "2025-03-21T17:32:08.743193Z",
     "shell.execute_reply.started": "2025-03-21T17:32:08.729591Z"
    }
   },
   "outputs": [],
   "source": [
    "# Hintergrundfarbe ändern\n",
    "# https://stackoverflow.com/questions/49429585/how-to-change-the-background-color-of-a-single-cell-in-a-jupyter-notebook-jupy\n",
    "from IPython.display import HTML, display\n",
    "\n",
    "def set_background(color):    \n",
    "    script = (\n",
    "        \"var cell = this.closest('.jp-CodeCell');\"\n",
    "        \"var editor = cell.querySelector('.jp-Editor');\"\n",
    "        \"editor.style.background='{}';\"\n",
    "        \"this.parentNode.removeChild(this)\"\n",
    "    ).format(color)\n",
    "\n",
    "    display(HTML('<img src onerror=\"{}\">'.format(script)))\n",
    "    \n",
    "from IPython.core.magic import register_cell_magic\n",
    "from IPython.display import HTML, display\n",
    "\n",
    "@register_cell_magic\n",
    "def bgc(color, cell=None):\n",
    "    \"\"\"\n",
    "    Sets the background color of the current Jupyter Notebook cell.\n",
    "\n",
    "    This function uses JavaScript to modify the CSS style of the current cell,\n",
    "    changing its background color.\n",
    "\n",
    "    Args:\n",
    "        color (str): The desired background color. This can be a color name\n",
    "                     (e.g., 'red', 'blue', 'green') or a hexadecimal color code\n",
    "                     (e.g., '#FF0000', '#0000FF').\n",
    "\n",
    "    Note:\n",
    "        This function does not work in Google Colab due to security restrictions.\n",
    "        It is intended for use in local Jupyter Notebook environments.\n",
    "\n",
    "    Example:\n",
    "        To set the background color of the current cell to light blue:\n",
    "        >>> bgc('lightblue')\n",
    "\n",
    "        To set the background color of the current cell to orange:\n",
    "        >>> bgc('orange')\n",
    "\n",
    "        To set the background color of the current cell to a specific hex color:\n",
    "        >>> bgc('#FFA500')\n",
    "    \"\"\"\n",
    "    script = (\n",
    "        \"var cell = this.closest('.jp-CodeCell');\"\n",
    "        \"var editor = cell.querySelector('.jp-Editor');\"\n",
    "        \"editor.style.background='{}';\"\n",
    "        \"this.parentNode.removeChild(this)\"\n",
    "    ).format(color)\n",
    "\n",
    "    display(HTML('<img src onerror=\"{}\">'.format(script)))    \n",
    "    \n",
    "sleep(0.001)    "
   ]
  },
  {
   "cell_type": "code",
   "execution_count": 14,
   "metadata": {
    "execution": {
     "iopub.execute_input": "2025-03-21T17:32:08.745549Z",
     "iopub.status.busy": "2025-03-21T17:32:08.744465Z",
     "iopub.status.idle": "2025-03-21T17:32:08.770216Z",
     "shell.execute_reply": "2025-03-21T17:32:08.769247Z",
     "shell.execute_reply.started": "2025-03-21T17:32:08.745507Z"
    }
   },
   "outputs": [
    {
     "data": {
      "text/html": [
       "<img src onerror=\"var cell = this.closest('.jp-CodeCell');var editor = cell.querySelector('.jp-Editor');editor.style.background='Beige';this.parentNode.removeChild(this)\">"
      ],
      "text/plain": [
       "<IPython.core.display.HTML object>"
      ]
     },
     "metadata": {},
     "output_type": "display_data"
    }
   ],
   "source": [
    "# Test Hintergrundfarbe ändern\n",
    "bgc('Beige')\n",
    "bla = 'bla'*3\n",
    "\n",
    "sleep(0.001)"
   ]
  },
  {
   "cell_type": "code",
   "execution_count": 15,
   "metadata": {
    "execution": {
     "iopub.execute_input": "2025-03-21T17:32:08.771316Z",
     "iopub.status.busy": "2025-03-21T17:32:08.770991Z",
     "iopub.status.idle": "2025-03-21T17:32:08.824685Z",
     "shell.execute_reply": "2025-03-21T17:32:08.824264Z",
     "shell.execute_reply.started": "2025-03-21T17:32:08.771288Z"
    }
   },
   "outputs": [],
   "source": [
    "%%capture\n",
    "\n",
    "# autoreload  \n",
    "%load_ext autoreload\n",
    "%autoreload 2\n",
    "\n",
    "sleep(0.001)"
   ]
  },
  {
   "cell_type": "code",
   "execution_count": 16,
   "metadata": {
    "execution": {
     "iopub.execute_input": "2025-03-21T17:32:08.826103Z",
     "iopub.status.busy": "2025-03-21T17:32:08.825195Z",
     "iopub.status.idle": "2025-03-21T17:32:09.269380Z",
     "shell.execute_reply": "2025-03-21T17:32:09.268878Z",
     "shell.execute_reply.started": "2025-03-21T17:32:08.826077Z"
    }
   },
   "outputs": [],
   "source": [
    "%matplotlib inline"
   ]
  }
 ],
 "metadata": {
  "kernelspec": {
   "display_name": "Python 3 (ipykernel)",
   "language": "python",
   "name": "python3"
  },
  "language_info": {
   "codemirror_mode": {
    "name": "ipython",
    "version": 3
   },
   "file_extension": ".py",
   "mimetype": "text/x-python",
   "name": "python",
   "nbconvert_exporter": "python",
   "pygments_lexer": "ipython3",
   "version": "3.12.9"
  }
 },
 "nbformat": 4,
 "nbformat_minor": 4
}
